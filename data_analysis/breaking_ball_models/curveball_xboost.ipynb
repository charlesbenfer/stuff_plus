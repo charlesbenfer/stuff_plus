{
 "cells": [
  {
   "cell_type": "code",
   "id": "initial_id",
   "metadata": {
    "collapsed": true,
    "ExecuteTime": {
     "end_time": "2024-10-04T23:38:48.091113Z",
     "start_time": "2024-10-04T23:38:46.741651Z"
    }
   },
   "source": [
    "#Packages\n",
    "import os\n",
    "import pandas as pd\n",
    "import numpy as np\n",
    "import xgboost\n",
    "from xgboost import XGBClassifier\n",
    "from sklearn.model_selection import train_test_split\n",
    "from sklearn.metrics import accuracy_score, confusion_matrix, precision_score, recall_score, f1_score, roc_auc_score, roc_curve\n",
    "from hyperopt import STATUS_OK, Trials, fmin, hp, tpe\n",
    "import matplotlib.pyplot as plt\n",
    "import seaborn as sns\n",
    "import shap"
   ],
   "outputs": [],
   "execution_count": 1
  },
  {
   "metadata": {
    "ExecuteTime": {
     "end_time": "2024-10-04T23:39:05.393491Z",
     "start_time": "2024-10-04T23:38:56.685635Z"
    }
   },
   "cell_type": "code",
   "source": [
    "#Get Data\n",
    "csv_dir = '../SEC Trackman Data/'\n",
    "all_files = [os.path.join(csv_dir, f) for f in os.listdir(csv_dir) if f.endswith('.csv')]\n",
    "\n",
    "df_list = []\n",
    "\n",
    "for file in all_files:\n",
    "    df = pd.read_csv(file)\n",
    "    df_list.append(df)\n",
    "\n",
    "all_pitches = pd.concat(df_list, ignore_index=True)\n",
    "\n",
    "print(all_pitches.shape)\n",
    "print(all_pitches.columns)"
   ],
   "id": "844080ac2544bdef",
   "outputs": [
    {
     "name": "stdout",
     "output_type": "stream",
     "text": [
      "(270589, 167)\n",
      "Index(['PitchNo', 'Date', 'Time', 'PAofInning', 'PitchofPA', 'Pitcher',\n",
      "       'PitcherId', 'PitcherThrows', 'PitcherTeam', 'Batter',\n",
      "       ...\n",
      "       'ThrowTrajectoryZc1', 'ThrowTrajectoryZc2', 'PitchReleaseConfidence',\n",
      "       'PitchLocationConfidence', 'PitchMovementConfidence',\n",
      "       'HitLaunchConfidence', 'HitLandingConfidence',\n",
      "       'CatcherThrowCatchConfidence', 'CatcherThrowReleaseConfidence',\n",
      "       'CatcherThrowLocationConfidence'],\n",
      "      dtype='object', length=167)\n"
     ]
    }
   ],
   "execution_count": 2
  },
  {
   "metadata": {
    "ExecuteTime": {
     "end_time": "2024-10-04T23:39:36.529858Z",
     "start_time": "2024-10-04T23:39:36.409342Z"
    }
   },
   "cell_type": "code",
   "source": [
    "#Get all curveballs\n",
    "bbc = all_pitches[all_pitches['TaggedPitchType'].isin(['Curveball'])]\n",
    "print(bbc.shape)"
   ],
   "id": "88050112f1d50e7e",
   "outputs": [
    {
     "name": "stdout",
     "output_type": "stream",
     "text": [
      "(19528, 167)\n"
     ]
    }
   ],
   "execution_count": 3
  },
  {
   "metadata": {
    "ExecuteTime": {
     "end_time": "2024-10-04T23:41:01.206777Z",
     "start_time": "2024-10-04T23:41:01.148333Z"
    }
   },
   "cell_type": "code",
   "source": [
    "#Subset curveballs into platoon splits\n",
    "bbc_rr = bbc[(bbc['PitcherThrows'] == 'Right') & (bbc['BatterSide'] == 'Right')]\n",
    "bbc_rl = bbc[(bbc['PitcherThrows'] == 'Right') & (bbc['BatterSide'] == 'Left')]\n",
    "bbc_lr = bbc[(bbc['PitcherThrows'] == 'Left') & (bbc['BatterSide'] == 'Right')]\n",
    "bbc_ll = bbc[(bbc['PitcherThrows'] == 'Left') & (bbc['BatterSide'] == 'Left')]\n",
    "\n",
    "print(bbc_rr.shape)\n",
    "print(bbc_rl.shape)\n",
    "print(bbc_lr.shape)\n",
    "print(bbc_ll.shape)"
   ],
   "id": "9b852cf84e4382b2",
   "outputs": [
    {
     "name": "stdout",
     "output_type": "stream",
     "text": [
      "(7407, 167)\n",
      "(6008, 167)\n",
      "(3804, 167)\n",
      "(2305, 167)\n"
     ]
    }
   ],
   "execution_count": 4
  },
  {
   "metadata": {
    "ExecuteTime": {
     "end_time": "2024-10-04T23:41:37.313964Z",
     "start_time": "2024-10-04T23:41:37.298263Z"
    }
   },
   "cell_type": "code",
   "source": [
    "#Whiffs\n",
    "bbc_rr['whiff'] = np.where(bbc_rr['PitchCall']=='StrikeSwinging',1,0)\n",
    "bbc_rl['whiff'] = np.where(bbc_rl['PitchCall']=='StrikeSwinging',1,0)\n",
    "bbc_lr['whiff'] = np.where(bbc_lr['PitchCall']=='StrikeSwinging',1,0)\n",
    "bbc_ll['whiff'] = np.where(bbc_ll['PitchCall']=='StrikeSwinging',1,0)"
   ],
   "id": "704ff1dceb7e50b8",
   "outputs": [
    {
     "name": "stderr",
     "output_type": "stream",
     "text": [
      "C:\\Users\\ethan\\AppData\\Local\\Temp\\ipykernel_8052\\2943017200.py:2: SettingWithCopyWarning: \n",
      "A value is trying to be set on a copy of a slice from a DataFrame.\n",
      "Try using .loc[row_indexer,col_indexer] = value instead\n",
      "\n",
      "See the caveats in the documentation: https://pandas.pydata.org/pandas-docs/stable/user_guide/indexing.html#returning-a-view-versus-a-copy\n",
      "  bbc_rr['whiff'] = np.where(bbc_rr['PitchCall']=='StrikeSwinging',1,0)\n",
      "C:\\Users\\ethan\\AppData\\Local\\Temp\\ipykernel_8052\\2943017200.py:3: SettingWithCopyWarning: \n",
      "A value is trying to be set on a copy of a slice from a DataFrame.\n",
      "Try using .loc[row_indexer,col_indexer] = value instead\n",
      "\n",
      "See the caveats in the documentation: https://pandas.pydata.org/pandas-docs/stable/user_guide/indexing.html#returning-a-view-versus-a-copy\n",
      "  bbc_rl['whiff'] = np.where(bbc_rl['PitchCall']=='StrikeSwinging',1,0)\n",
      "C:\\Users\\ethan\\AppData\\Local\\Temp\\ipykernel_8052\\2943017200.py:4: SettingWithCopyWarning: \n",
      "A value is trying to be set on a copy of a slice from a DataFrame.\n",
      "Try using .loc[row_indexer,col_indexer] = value instead\n",
      "\n",
      "See the caveats in the documentation: https://pandas.pydata.org/pandas-docs/stable/user_guide/indexing.html#returning-a-view-versus-a-copy\n",
      "  bbc_lr['whiff'] = np.where(bbc_lr['PitchCall']=='StrikeSwinging',1,0)\n",
      "C:\\Users\\ethan\\AppData\\Local\\Temp\\ipykernel_8052\\2943017200.py:5: SettingWithCopyWarning: \n",
      "A value is trying to be set on a copy of a slice from a DataFrame.\n",
      "Try using .loc[row_indexer,col_indexer] = value instead\n",
      "\n",
      "See the caveats in the documentation: https://pandas.pydata.org/pandas-docs/stable/user_guide/indexing.html#returning-a-view-versus-a-copy\n",
      "  bbc_ll['whiff'] = np.where(bbc_ll['PitchCall']=='StrikeSwinging',1,0)\n"
     ]
    }
   ],
   "execution_count": 5
  },
  {
   "metadata": {
    "ExecuteTime": {
     "end_time": "2024-10-04T23:41:49.452597Z",
     "start_time": "2024-10-04T23:41:49.439078Z"
    }
   },
   "cell_type": "code",
   "source": [
    "#Predictor Variables\n",
    "preds = ['RelSpeed','VertRelAngle','HorzRelAngle','SpinRate','SpinAxis','RelHeight','RelSide','Extension','VertBreak','InducedVertBreak','HorzBreak','ZoneSpeed','VertApprAngle','HorzApprAngle','ZoneTime','pfxx','pfxz','x0','y0','z0','vx0','vy0','vz0','ax0','ay0','az0','SpeedDrop','PitchTrajectoryXc1','PitchTrajectoryXc2','PitchTrajectoryYc0','PitchTrajectoryYc1','PitchTrajectoryYc2','PitchTrajectoryZc0','PitchTrajectoryZc1','PitchTrajectoryZc2']"
   ],
   "id": "d038c9779c41c390",
   "outputs": [],
   "execution_count": 6
  },
  {
   "metadata": {},
   "cell_type": "markdown",
   "source": "Righty vs. Righty Split",
   "id": "e1c5465d4d28b653"
  },
  {
   "metadata": {
    "ExecuteTime": {
     "end_time": "2024-10-04T23:42:28.022017Z",
     "start_time": "2024-10-04T23:42:28.011618Z"
    }
   },
   "cell_type": "code",
   "source": [
    "bbc_rr_X = bbc_rr[preds]\n",
    "bbc_rr_y = bbc_rr['whiff']"
   ],
   "id": "d1f43a46773a3e41",
   "outputs": [],
   "execution_count": 7
  },
  {
   "metadata": {
    "ExecuteTime": {
     "end_time": "2024-10-04T23:42:47.908212Z",
     "start_time": "2024-10-04T23:42:47.616340Z"
    }
   },
   "cell_type": "code",
   "source": [
    "#Train Model: RHP vs RHB\n",
    "X_train, X_test, y_train, y_test = train_test_split(bbc_rr_X, bbc_rr_y, test_size=.33, random_state=25)\n",
    "\n",
    "model = XGBClassifier()\n",
    "model.fit(X_train, y_train)\n",
    "\n",
    "y_pred = model.predict(X_test)\n",
    "predictions = [round(value) for value in y_pred]\n",
    "\n",
    "accuracy = accuracy_score(y_test, predictions)\n",
    "print(\"Accuracy: %.2f%%\" % (accuracy * 100.0))"
   ],
   "id": "92687dc11e3e466f",
   "outputs": [
    {
     "name": "stdout",
     "output_type": "stream",
     "text": [
      "Accuracy: 88.83%\n"
     ]
    }
   ],
   "execution_count": 8
  },
  {
   "metadata": {
    "ExecuteTime": {
     "end_time": "2024-10-04T23:42:58.778746Z",
     "start_time": "2024-10-04T23:42:58.540864Z"
    }
   },
   "cell_type": "code",
   "source": [
    "y_pred_prob = model.predict_proba(X_test)[:,1]\n",
    "roc_auc = roc_auc_score(y_test, predictions, multi_class='ovr')\n",
    "\n",
    "print(f'ROC AUC: {roc_auc:.4f}')\n",
    "\n",
    "# Plotting ROC Curve for one class (e.g., class 0)\n",
    "fpr, tpr, _ = roc_curve(y_test == 1, y_pred_prob)\n",
    "plt.plot(fpr, tpr, label='Class 0 ROC curve')\n",
    "plt.xlabel('False Positive Rate')\n",
    "plt.ylabel('True Positive Rate')\n",
    "plt.title('ROC Curve')\n",
    "plt.legend(loc='best')\n",
    "plt.show()"
   ],
   "id": "b7afc7895f35a1bd",
   "outputs": [
    {
     "name": "stdout",
     "output_type": "stream",
     "text": [
      "ROC AUC: 0.5228\n"
     ]
    },
    {
     "data": {
      "text/plain": [
       "<Figure size 640x480 with 1 Axes>"
      ],
      "image/png": "[encoded data removed]"
     },
     "metadata": {},
     "output_type": "display_data"
    }
   ],
   "execution_count": 9
  },
  {
   "metadata": {
    "ExecuteTime": {
     "end_time": "2024-10-04T23:43:22.630138Z",
     "start_time": "2024-10-04T23:43:21.878968Z"
    }
   },
   "cell_type": "code",
   "source": [
    "# Get unique values\n",
    "unique_values = bbc_rr['Pitcher'].unique()\n",
    "\n",
    "\n",
    "#List of Pitchers that threw splitter, as well as amount\n",
    "print(unique_values, len(unique_values))\n",
    "\n",
    "# Create a dictionary to store subsets\n",
    "subsets = {value: bbc_rr[bbc_rr['Pitcher'] == value] for value in unique_values}"
   ],
   "id": "93c0e438c043764b",
   "outputs": [
    {
     "name": "stdout",
     "output_type": "stream",
     "text": [
      "['Dettmer, Nathan' 'Vega, Christian' 'Hellmers, Will' 'Taylor, Grant'\n",
      " 'Dutton, Samuel' 'Stone, Tyler' 'Hackett, Bryce' 'Boyd, Riley '\n",
      " 'Mentzel, Kyler' 'Patel, Devon' 'Dannelley, Jackson' 'Clayton, Logan'\n",
      " 'Marsh, Chandler' 'Miles, Spencer' 'Rustad, Carter' 'Gowen, Jack'\n",
      " 'Smith, Cade' 'Hardin, Tyson' 'Van Alstine, Marcus' 'Parenteau, Matt'\n",
      " 'Lambert, Carson' 'Allsup, Chase' 'Levy, Gabe' 'Corso, Vincent'\n",
      " 'Holman, Luke' 'Sanders, Will' 'Hicks, James' 'Rodgers, Zachary'\n",
      " 'Cota, Miles' 'Collins, Bryce' 'Hunt, KC' 'Wilkerson, Holden'\n",
      " 'Inskeep, JT' 'Saunier, Grayson' 'Pizzico, Luke' 'German, Nestor'\n",
      " 'Michel, Jake' 'Hess, Ben' 'Starnes, Jimmy' 'Smith, Kolten'\n",
      " 'Mercer, Pace' 'Hall, Noah' 'Money, Blake' 'Gartman, Landon'\n",
      " 'Riley, Will ' 'Colmery, Christian' 'Smith, Blake' 'Sinnard, Luke'\n",
      " 'McNairy, Jacob' 'Subers, Kyle' 'Blatter, Brock' 'Gillespie, Blake'\n",
      " 'Fortner, Trey' 'Mahoney, Jack' 'Dirito, Nick' 'Proctor, Nick'\n",
      " 'Bybee, Ben' 'Tygart, Brady' 'Fanning, Hollis' 'Marono, Jason'\n",
      " 'Hurd, Thatcher' 'Harris, Antoine' 'Little, Christian'\n",
      " 'Luckett, Nicholas' 'Kyles, Perry' 'Siary, Evan' 'Quinn, JT'\n",
      " 'Algee, Jake' 'Tolbert, Cole' 'Tauzin, Kole' 'Gelorme, Matt'\n",
      " 'Zarella, Tyler' 'Beasley, Josh' 'Delic, Elvin' 'Smith, Travis'\n",
      " 'Harris, Shane' 'Giles, Ryder' 'MacCauley, John' 'Blunt, Jarrett'\n",
      " 'Hise, Zach' 'Moore, Mason' 'Hardman, Nate' 'Jerzembeck, Eli'\n",
      " 'Moore, Grayson' 'Parker, Brett' 'Martin, Eli' 'Maidhof, Jeffery'\n",
      " 'Bennett, Isaiah' 'Horn, David' 'Ballard, Thomas' 'Ledbetter, Austin'\n",
      " 'Wood, Gage' 'Savacool, Jason' 'Stewart, Joshua' 'Sword, William'\n",
      " 'Barnett, Michael' 'McEntire, Will' 'Nichols, Jackson' 'Burns, Chase'\n",
      " 'Packard, Ryan' 'Zapka, Andrew' 'Curtis, Khristian'\n",
      " 'Bodlovich, Christian' 'Dean, Nick' 'Aoki, Caden' 'Kim, Justin'\n",
      " 'Strickland, Austin' 'Logue, Seth' 'Frieda, Colby' 'Zaffiro, Cole'\n",
      " 'Tredwell, Alonzo' 'Harrison, Charles' 'Matthews-Hampton, Ky'\n",
      " 'Adcock, Cody' 'Dossett, Cooper' 'Beam, Drew' 'Pivaroff, Blake'\n",
      " 'Rogers, Will' 'Stowe, Eliakim' 'Hughes, Gus' 'Keith, David'\n",
      " 'Mitchell, Calvin' 'Simpson, Garret' 'Heintz, Danny' 'Shurtleff, Thomas'\n",
      " 'Austin, Kelly' 'Alkire, Johnny' 'Combs, Aaron' 'Valdez, Jonathan'\n",
      " 'Ryan, Zach' 'Lovrich, Camden' 'Brown, Jacob' 'Wilmsmeyer, Ty'\n",
      " 'Boruff, Dalton' 'Hollister, Sean' 'Ymker, Logan' 'Devito, Zach'\n",
      " 'Callahan, Trevor' 'Bettio, Matt' 'Davis, Ethan' 'Chavez, Seth'\n",
      " 'Miller, Jarrett' 'Howe, Christian' 'Kilpatrick, Coley' 'Brown, Luke'\n",
      " 'Snyder, Ethan' 'Poris, Justin' 'Hibbard, Jayson' 'Kubiatowicz, Erik'\n",
      " 'Dale, Elijah' 'Carter, Dylan' 'MacWatters, Devin' 'Chiriboga, Chris'\n",
      " 'Restmeyer, Jared' 'Wagner, Raylan' 'Carlson, Parker' 'Olson, Ryan'\n",
      " 'Shirk, Jake' 'Miketinac, Nick' 'Wainwright, TJ' 'Holzworth, Clay'\n",
      " 'Pancratz, Gabe' 'Moffett, Aiden' 'Lancour, Kade' 'Lyons, Kendall'\n",
      " 'Rutherford, Jacob' 'Buchek, Tim' 'Floyd, Ty' 'Kelley, Jack'\n",
      " 'Smith, Ethan' 'Newton, Peter' 'Petersen, Rayth' 'DeLeon, Abraham'\n",
      " 'Murphy, Chandler' 'Holycross, Cameron' 'Pruitt, Jacob'\n",
      " 'Gregersen, Simon' 'Stofel, Luke' 'Francis, Kai' 'Swaim, Everett'\n",
      " 'Thomas, Kurt' 'Maltrud, Rorik ' 'Zwitzer, Jurgen' 'Lamas, Mateo'\n",
      " 'Fenlong, Connor' 'Taylor, Dawson' 'Buecker, Robert' 'Trippi, Dom'\n",
      " 'Tonghini, Julian' 'Roman, Andrew' 'McCluskey, Griffin'\n",
      " 'Jablonski, Grant' 'Higdon, Seth' 'Haines, Tyler' 'Sampson, Mitchel'\n",
      " 'Krizen, Benjamin' 'Pease, Jaxson' 'Anderson, Jack' 'Hail, Patrick'\n",
      " 'Cole, Daniel' 'Quiles, Evimael' 'Azar, Juan' 'Sells, Colin'\n",
      " 'Jerger, Jayden' 'DeMarco, Patrick' 'Weber, Zach' 'Sabol, Carter'\n",
      " 'Peck, Tyler' 'Meyer, Jakob' 'Hansmann, Max' 'Helton, Luke'\n",
      " 'Dollander, Chase' 'Kafka, Alex' 'Jenkins, Bryce' 'Giles, Chandler'\n",
      " 'Pratt, Davis' 'Echeman, Kaden' 'Devenport, Logan' 'Stuprich, Brennan'\n",
      " 'Horne, Trevor' 'Leon, Andy' 'Tucker, Justin' 'Franklin, Zach'\n",
      " 'Radtke, DJ' 'York, Derrius' 'Hector, Rawley' 'Herron, Grant'\n",
      " 'Lindsey, Andrew' 'Sewell, Camden' 'Westbrooks, Brody' 'Tucker, Braydon'\n",
      " 'Harmon, Evan' 'Williams, Patrick' 'Werrmann, Carson' 'Lauve, Lance'\n",
      " 'Landry, Andrew' 'Aspholm, Dalton' 'Vohra, Jafar' 'Sheets, Joe'\n",
      " 'Robinson, Zachary' 'Santos, Nolan' 'Diaz, Yoansell' 'Kirby, Zach'\n",
      " 'Baldo, Merrick' 'Acosta, Joey' 'Beal, Noah' 'Simon, Zack'\n",
      " 'Legere, Tyler' 'Houghton, Bryce' 'Brewer, Alex' 'Russell, AJ'\n",
      " 'Clayton, Canaan' 'Katskee, Cooper' 'Hellman, Cooper' 'Hampton, Jeremiah'\n",
      " 'Hanson, Jordan' 'Carabajal, Noah' 'Morse, Trhea' 'Armstrong, John'\n",
      " 'Maltrud, Rorik' 'Williams, Darren' 'Cijntje, Jurrangelo'\n",
      " 'Halvorsen, Seth' 'White, Eddie' 'Hernandez, Esteban' 'Johnson, Gavin'\n",
      " 'Sarabia, Jonah' 'Mortenson, Gavin' 'Charlton, Max' 'Nixon, Aaron'\n",
      " 'Finan, Michael' 'Ehling, Jacob' 'Jones, Jordan' 'Zaskoda, Garret'\n",
      " 'Cienfuegos, Cristian' 'Harris, Leo' 'Shelton, Braxton' 'Moza, Aidan'\n",
      " 'Ceverino, Vladimir' 'Vargas, Anthony' 'Alderman, Chase'\n",
      " 'Schuler, Michael' 'Greenler, Kyle' 'Sexton, Ty' 'Skenes, Paul'\n",
      " 'Maldonado, Nick' 'Neely, Brandon' 'Waldrep, Hurston' 'Hogan, Robert'\n",
      " 'Hliboki, Sam' 'Bell, Charlie' 'Reum, Kai' 'Potter, Alex' 'Bates, Cole'\n",
      " 'Sabo, Chris' 'Washington, Brett' 'Newman, Jacob' 'Thompson, Turner'\n",
      " 'Fryman, Cole' 'Gaeto, Alex' 'Battle, Justin' 'Carter, Greysen'\n",
      " 'Potthoff, Kyle' 'Crisp, Nolan' 'McMillan, Garrett' 'Myers, Braylon'\n",
      " 'Finley, Leighton' 'Hillen, Trent' 'Sawyer, Barron' 'Martinez, Javier'\n",
      " 'Newman, Jeremiah' 'Zabel, Peyton' 'Schrepf, Brandon' 'Mercer, Matthew'\n",
      " 'Bard, Parker' 'Johnson, Matthew' 'Gatti, JJ' 'Claybourne, Seth'\n",
      " 'Sproat, Brandon' 'Foutch, Christian' 'Murphy, Hayden' 'Nesbitt, Tyler'\n",
      " 'Ficarrotta, Nick' 'McDonough, Scott' 'Hunt, Calvin' 'Kalandros, Cameron'\n",
      " 'Kessinger, Chase' 'Stinnett, Carson' 'Costa, Caleb' 'James, David'\n",
      " 'Bowerman, Josh' 'Claunch, Raleigh' 'Weatherley, Jacob' 'Dougherty, Jack'\n",
      " 'Fenton, Cade' 'Vaccaro, Nicholas' 'Sanders, Trey' 'Halligan, Miles'\n",
      " 'Ferguson, Garrett' 'Hoskins, Luke' 'Kelly, Jonathan' 'Hansen, Creighton'\n",
      " 'Cutts, Brennyn' 'Cannon, Will' 'Johnson, Ryan' 'Medley, Cody'\n",
      " 'Sorg, Casey' 'DeSandro, Devin' 'Gearing, Chase' 'Rodriguez, Arturo'\n",
      " 'Jordan, Harper' 'Landry, Camren' 'Chastain, Davis' 'Treadway, Chad'\n",
      " 'Forbes, Patrick' 'Banks, Hagan' 'Hoopes, Hunter' 'Cowen, Zac'\n",
      " 'Eggert, Mike' 'Mcelyea, Piercen' 'Quinechette, Agyei'\n",
      " 'McManmon, Quinten' 'Lutz, Duncan' 'Nichols, Mason' 'Francis, Ethan'\n",
      " 'McDuffie, Reece' 'Guardino, Andrew' 'Williamson, Austin' 'Austin, Cade'\n",
      " 'Adams, Brandon' 'Thomas, Brett' 'Simpson, Sam' 'Lee, Zack' 'Dohm, Nate'\n",
      " 'Timbes, Jake' 'Joyce, Zach' 'Guisewite, Caleb' 'Jones, Elijah'\n",
      " 'Zedalis, Zach' 'Rudis, Brad' 'Lunceford, Logan' 'Dutton, Sam'\n",
      " 'Logar, Jackson' 'Entsminger, Hunter' 'Plummer, Caden'\n",
      " 'Loveridge, Cooper' 'Schuelke, Cam' 'Kennedy, Clay' 'Mastrian, Patrick'\n",
      " 'Williams, Cj' 'Hawks, Sawyer' 'Ostrander, Braden' 'Stephen, Khal'\n",
      " 'Lejeune, Cameron' 'Walton, Ryker' 'Vicini, Brant' 'Maxey, Zach'\n",
      " 'Gay, Justin' 'Dutkanych, Andrew' 'Murphy, Ryan' 'Vogatsky, Joe'\n",
      " 'Gaeckle, Gabe' 'Jones, Andrew' 'Driscoll, Clark' 'Philips, Peter'\n",
      " 'Riley, Owen' 'Weber, Ben' 'Estridge, Gaines' 'Moeller, JT'\n",
      " 'Duffield, Joseph' 'Sesar, Jorden' 'Garbinski, Garrett' 'Packen, Trey'\n",
      " 'Kimball, Roman' 'Good, Ty' 'Marlatt, Parker' 'Smith, Brandon'\n",
      " 'Andrews, Steven' 'Miller-Green, Lyle' 'Klingenbeck, Kyle'\n",
      " 'Johnson, Dave' 'Walls, Westin' 'McBride, Connor' 'Sato, Kota'\n",
      " 'Sells, James' 'Sarna, Owen' 'Kranzler, Alex' 'Hyde, Jace'\n",
      " 'Hickman, Nathan' 'Araujo, Caio' 'Magill, Carson' 'Brooker, Jack'\n",
      " 'Brown, Rese' 'Linkletter, Ryan' 'Pittz, Ryan' 'Smink, Eddie'\n",
      " 'Higgins, Thomas' 'Martin, Jake' 'Collina, Chris' 'Zeldin, Brian'\n",
      " 'Pryor, Will' 'Hernandez, Zachary' 'Dean, Tyler' 'Peters, Trey'\n",
      " 'Mariano, Matthew' 'Turk, Steven' 'Stewart, Jackson' 'Hayden, Connor'\n",
      " 'Burnett, Alec' 'Veach, Chris' 'Feld, Justin' 'Boule, Luke'\n",
      " 'Locklear, Kyle' 'McCaffrey, Kyle' 'Rhein, Colin' 'Montgomery, Quinlan'\n",
      " 'White, Joey' 'Polk, Howell' 'Grintz, Adam' 'Tuttoilmondo, Joey'\n",
      " 'Halladay, Braden' 'Chabot, Julian' 'Hanson, Nicholas'\n",
      " 'McLoughlin, Tyler' 'Pehrson, Ryan' 'Zuger, Jordan' \"O'Brien, Liam\"\n",
      " 'Cunneely, Michael' \"O'Brien, Finbar\" 'Baez, Miguel' 'Jackson, Charles'\n",
      " 'Hardrick, Darrell' 'cline, Jack' 'Brown, Malcolm' 'Cleveland, Jackson'\n",
      " 'Havard, Peyton' 'Oceguera, Ethan' 'Malone, John' 'Jacobi, Kaden'\n",
      " 'McDevitt, Josh' 'Bowery, Eli' 'Smith, Tanner' 'Lafferty, Drew'\n",
      " 'Pressley, Devin' 'Day, Hunter' 'Metz, Reed' 'Schaaf, Jason'\n",
      " 'Syverson, Jake' 'Cook, Harrison' 'Sutton, Ethan' 'Harris, Zach'\n",
      " 'Moore Jr., Tommy' 'Vernon, Cade' 'Elsing, Alex' 'Newman, DJ'\n",
      " 'Mayer, Bryce' 'Valero, Bryce' 'Manarchuck, JB' 'Sheerin, Deven'\n",
      " 'Herberholz, Christian' 'Finn, Sean' 'Maniglia, Casey' 'Howell, Griffin'\n",
      " 'Lyne, Tanner' 'Fender, Ryan' 'Willeman, Landon' 'Bell, Logan'\n",
      " 'Penrod, Connar' 'Voelker, Zach' 'Archer, Ganon' 'Tilly, Cameron'\n",
      " 'Sullivan, Jack' 'Alexander, Hunter' 'Guyette, James' 'Walsh, Michael'\n",
      " 'Baker, Liam' 'Lindsay, Isiah' 'Morris, Gavin' 'Davis, Cade'\n",
      " 'Garner, Seth' 'Fuller, Brady' 'Van Dyke, Tyler' 'Walker, Brendan'\n",
      " 'Durgin, Nick' 'Lambdin, Jake' 'Hsu, Brandon' 'Sabbath, Joseph'\n",
      " 'Weaver, Jacob' 'Ayers, Mac' 'Kasper, Sean' 'Smith, Dylan'\n",
      " 'Meier, Jackson' 'Titus, Jake' 'Minshew, Lawson' 'Tabeling, Logan'\n",
      " 'Dutton, Sam ' 'Bailey, Connor' 'Maloney, Evan' 'Jones, AJ'\n",
      " 'Devine, Andrew' 'Poindexter, Jake' 'Caudill, Carson' 'Padysak, Daniel'\n",
      " 'Storey, Jake' 'Carvajal, Jake' 'Aita, Blake' 'Applegate, Carson'\n",
      " 'Sliver, Nolan' 'Hairfield, Dallas' 'Donnison, Matthew' 'Swartz, Jake'\n",
      " 'Snead, Nate' 'Rons, Jake' 'Sposato, Sean' 'Fine, Brody'\n",
      " 'Sailors, Brooks' 'Gienger, Murphy' 'Pinson, Smith'\n",
      " 'Garcia Jr., Guillermo' 'Simmons, Owen' 'Sayres Jr, John' 'Perry, Tanner'\n",
      " 'Sanford, Braydon' 'Carmack, Ryan' 'Erd, Josiah' 'Shubert, Rome'\n",
      " 'Hummel, Johnny' 'Vogel, Jacob' 'Sylte, Hayden' 'Guidry, Gavin'\n",
      " 'Jones, Eli' \"O'Brien, Cameron\" 'Miller, Charlie' 'Aukerman, Matthew'\n",
      " 'Martinez, Greg' 'Holcombe, Colby' 'Posey, Jonah' 'DeVito, Zach'\n",
      " 'Bravo, Leonardo' 'Pooser, Trey' 'Peterson, Liam' 'Lucas, Brock'\n",
      " 'Schaefer, Derek' 'Stricklin, Lawson' 'Bennett, Levi' 'Hamilton, David'\n",
      " 'McGregor, Tristan' 'Polk, Michael' 'Quinn, Victor' 'Willis, Coleman'\n",
      " 'Haley, Gage' 'Matela, Dylan' 'Varnadoe, Hunter' 'Douglas, Kameron'\n",
      " 'Baskin, Kaleb' 'Mallitz, Josh' 'Mcneillie, Luke' 'Noot, Jaden'\n",
      " 'Mracna, Christian' 'Schorr, Ben' 'Chase, Keaton' 'Lazo, Charlie'\n",
      " 'Haley, Jacob' 'Kampf, Jake' 'Hardy, Halton' 'Powell, Daniel'\n",
      " 'Carroll, Caden' 'DeJong, Max' 'Franklin, Tanner' 'Beranek, Bryant'\n",
      " 'Alonso, Dylan' 'Albanese, Tyler' 'Frank, Koty' 'Cushing, Cade'\n",
      " 'Rogers, Jacob' 'Sokol, Mike' 'Carver, Chase' 'Dennis, Cortez'\n",
      " 'McGuire, Logan' 'Watts, Dylan' 'Jones, Tanner' 'Stamos, Chris'\n",
      " 'Causey, AJ' 'Bucknam, Micah' 'Hoskins, Matthew' 'O’Brien, Cameron'\n",
      " 'Pickell, Cannon' 'Luke, Haden' 'Stogner, John Allen' 'Howard, Carson'\n",
      " 'Manley, Matt' 'Gordon, Austin' 'Jones, Baylor' 'Erdman, Jack'\n",
      " 'Vargas, Juan' 'Robinson, Kevin' 'Nichol, Tyler' 'Ulloa, Fidel'\n",
      " 'Leonard, Bryce' 'Liggett, Carson' 'Detmers, Parker' 'Brown, Cade'\n",
      " 'Carmack, Kyler' 'Morris, Mason' 'Allen, Ty' 'Pingeton, Anthony'\n",
      " 'Agosto, Justus' \"O'Brien Cameron\"] 648\n"
     ]
    }
   ],
   "execution_count": 10
  },
  {
   "metadata": {
    "ExecuteTime": {
     "end_time": "2024-10-04T23:43:41.528384Z",
     "start_time": "2024-10-04T23:43:41.522576Z"
    }
   },
   "cell_type": "code",
   "source": [
    "def rr_bbc_stuff(name):\n",
    "    \n",
    "    preds = ['RelSpeed','VertRelAngle','HorzRelAngle','SpinRate','SpinAxis','RelHeight','RelSide','Extension','VertBreak','InducedVertBreak','HorzBreak','ZoneSpeed','VertApprAngle','HorzApprAngle','ZoneTime','pfxx','pfxz','x0','y0','z0','vx0','vy0','vz0','ax0','ay0','az0','SpeedDrop','PitchTrajectoryXc1','PitchTrajectoryXc2','PitchTrajectoryYc0','PitchTrajectoryYc1','PitchTrajectoryYc2','PitchTrajectoryZc0','PitchTrajectoryZc1','PitchTrajectoryZc2']\n",
    "    \n",
    "    all_preds = model.predict_proba(bbc_rr_X)[:,1]\n",
    "    mean_pred = np.mean(all_preds)\n",
    "\n",
    "    pitcher = subsets[name]\n",
    "    pitcher_x = pitcher[preds]\n",
    "\n",
    "    whiff_preds = model.predict_proba(pitcher_x)[:,1]\n",
    "\n",
    "    stuff = whiff_preds/mean_pred\n",
    "    \n",
    "    return np.mean(stuff * 100)\n",
    "\n",
    "    \n"
   ],
   "id": "ebff55fd9e811145",
   "outputs": [],
   "execution_count": 11
  },
  {
   "metadata": {
    "ExecuteTime": {
     "end_time": "2024-10-04T23:44:02.843758Z",
     "start_time": "2024-10-04T23:44:02.814132Z"
    }
   },
   "cell_type": "code",
   "source": [
    "#Stuff+ for selected pitchers Curveball in RHP v RHB split\n",
    "rr_bbc_stuff('Tilly, Cameron')"
   ],
   "id": "7570e139787ed3e2",
   "outputs": [
    {
     "data": {
      "text/plain": [
       "149.16452"
      ]
     },
     "execution_count": 12,
     "metadata": {},
     "output_type": "execute_result"
    }
   ],
   "execution_count": 12
  },
  {
   "metadata": {},
   "cell_type": "markdown",
   "source": "Righty vs. Lefty Split",
   "id": "a5318d9cf5613fc6"
  },
  {
   "metadata": {
    "ExecuteTime": {
     "end_time": "2024-10-04T23:44:39.058338Z",
     "start_time": "2024-10-04T23:44:39.049409Z"
    }
   },
   "cell_type": "code",
   "source": [
    "bbc_rl_X = bbc_rl[preds]\n",
    "bbc_rl_y = bbc_rl['whiff']"
   ],
   "id": "fc77c9e3edb74bd2",
   "outputs": [],
   "execution_count": 13
  },
  {
   "metadata": {
    "ExecuteTime": {
     "end_time": "2024-10-04T23:44:54.219738Z",
     "start_time": "2024-10-04T23:44:53.977687Z"
    }
   },
   "cell_type": "code",
   "source": [
    "#Train Model: RHP vs LHB\n",
    "X_train, X_test, y_train, y_test = train_test_split(bbc_rl_X, bbc_rl_y, test_size=.33, random_state=25)\n",
    "\n",
    "model = XGBClassifier()\n",
    "model.fit(X_train, y_train)\n",
    "\n",
    "y_pred = model.predict(X_test)\n",
    "predictions = [round(value) for value in y_pred]\n",
    "\n",
    "accuracy = accuracy_score(y_test, predictions)\n",
    "print(\"Accuracy: %.2f%%\" % (accuracy * 100.0))"
   ],
   "id": "d60d9affa7850333",
   "outputs": [
    {
     "name": "stdout",
     "output_type": "stream",
     "text": [
      "Accuracy: 89.61%\n"
     ]
    }
   ],
   "execution_count": 14
  },
  {
   "metadata": {
    "ExecuteTime": {
     "end_time": "2024-10-04T23:45:14.539150Z",
     "start_time": "2024-10-04T23:45:14.016729Z"
    }
   },
   "cell_type": "code",
   "source": [
    "# Get unique values\n",
    "unique_values = bbc_rl['Pitcher'].unique()\n",
    "\n",
    "#List of Pitchers that threw splitter, as well as amount\n",
    "print(unique_values, len(unique_values))\n",
    "\n",
    "# Create a dictionary to store subsets\n",
    "subsets = {value: bbc_rl[bbc_rl['Pitcher'] == value] for value in unique_values}"
   ],
   "id": "a8b1118a8a7cb59b",
   "outputs": [
    {
     "name": "stdout",
     "output_type": "stream",
     "text": [
      "['Turnage, Easton' 'Hellmers, Will' 'Vega, Christian' 'Dutton, Samuel'\n",
      " 'Stone, Tyler' 'Hackett, Bryce' 'Mentzel, Kyler' 'Patel, Devon'\n",
      " 'Miles, Spencer' 'Marsh, Chandler' 'Rustad, Carter' 'Gowen, Jack'\n",
      " 'Smith, Cade' 'Parenteau, Matt' 'Allsup, Chase' 'Levy, Gabe'\n",
      " 'Corso, Vincent' 'Sanders, Will' 'Rodgers, Zachary' 'Wilkerson, Holden'\n",
      " 'Inskeep, JT' 'Michel, Jake' 'Hess, Ben' 'Jones, Tanner' 'Smith, Kolten'\n",
      " 'Mercer, Pace' 'Hall, Noah' 'Floyd, Ty' 'Money, Blake' 'Gartman, Landon'\n",
      " 'Smith, Blake' 'Leaverton, Blake' 'Sinnard, Luke' 'Argomaniz, Brenden'\n",
      " 'McNairy, Jacob' 'Subers, Kyle' 'Blatter, Brock' 'Gillespie, Blake'\n",
      " 'Fortner, Trey' 'Mahoney, Jack' 'Dirito, Nick' 'Proctor, Nick'\n",
      " 'Tygart, Brady' 'Hurd, Thatcher' 'Luckett, Nicholas' 'Kyles, Perry'\n",
      " 'Hardin, Tyson' 'Siary, Evan' 'Quinn, JT' 'Algee, Jake' 'Tauzin, Kole'\n",
      " 'Gelorme, Matt' 'Holman, Luke' 'Zarella, Tyler' 'Beasley, Josh'\n",
      " 'Delic, Elvin' 'Smith, Travis' 'Harris, Shane' 'MacCauley, John'\n",
      " 'Blunt, Jarrett' 'Hardman, Nate' 'Jerzembeck, Eli' 'Moore, Grayson'\n",
      " 'Hunt, KC' 'Martin, Eli' 'Hicks, James' 'Bennett, Isaiah'\n",
      " 'Carter, Greysen' 'Horn, David' 'Ballard, Thomas' 'Dollander, Chase'\n",
      " 'Hattrup, Anthony' 'Savacool, Jason' 'Williams, Darren'\n",
      " 'Barnett, Michael' 'Packard, Ryan' 'Zapka, Andrew' 'Curtis, Khristian'\n",
      " 'Saunier, Grayson' 'Dean, Nick' 'Aoki, Caden' 'Wisch, Kyle' 'Kim, Justin'\n",
      " 'Strickland, Austin' 'Zaffiro, Cole' 'Tredwell, Alonzo'\n",
      " 'Harrison, Charles' 'Beam, Drew' 'Gatti, Jj' 'Pivaroff, Blake'\n",
      " 'Rogers, Will' 'Hanks, Ryan' 'Stowe, Eliakim' 'Hughes, Gus'\n",
      " 'Keith, David' 'Mitchell, Calvin' 'Heintz, Danny' 'Shurtleff, Thomas'\n",
      " 'Austin, Kelly' 'Dutkanych, Andrew' 'Alkire, Johnny' 'Matsuoka, Dylan'\n",
      " 'Robinson, Zachary' 'Valdez, Jonathan' 'Ryan, Zach' 'Valka, Trey'\n",
      " 'Lovrich, Camden' 'Lucas, Brock' 'Brown, Jacob' 'Wilmsmeyer, Ty'\n",
      " 'Boruff, Dalton' 'Hollister, Sean' 'Hampton, Jeremiah' 'Callahan, Trevor'\n",
      " 'Bettio, Matt' 'Moore, Mason' 'Logue, Seth' 'Davis, Ethan' 'Chavez, Seth'\n",
      " 'Miller, Jarrett' 'Kilpatrick, Coley' 'Delisi, Jake' 'Brown, Luke'\n",
      " 'Snyder, Ethan' 'Poris, Justin' 'Adcock, Cody' 'Kubiatowicz, Erik'\n",
      " 'Dale, Elijah' 'Carter, Dylan' 'MacWatters, Devin' 'Chiriboga, Chris'\n",
      " 'Restmeyer, Jared' 'Wagner, Raylan' 'Carlson, Parker' 'Shirk, Jake'\n",
      " 'Laisure, Josh' 'Combs, Aaron' 'Miketinac, Nick' 'Holzworth, Clay'\n",
      " 'Wainwright, TJ' 'Pancratz, Gabe' 'Lancour, Kade' 'Lyons, Kendall'\n",
      " 'McEntire, Will' 'Ledbetter, Austin' 'Rutherford, Jacob'\n",
      " 'Halvorsen, Seth' 'Kelley, Jack' 'Collins, Bryce' 'Harmon, Evan'\n",
      " 'Murphy, Chandler' 'DeLeon, Abraham' 'Holycross, Cameron' 'Jachec, Matt'\n",
      " 'Gregersen, Simon' 'Buckner, Ty' 'Lindsey, Andrew' 'Weeldreyer, Nate'\n",
      " 'Maltrud, Rorik ' 'Zwitzer, Jurgen' 'Head, Kobe' 'Fenlong, Connor'\n",
      " 'Taylor, Dawson' 'Kilfoyle, Shane' 'Buecker, Robert' 'Trippi, Dom'\n",
      " 'Tonghini, Julian' 'Roman, Andrew' 'McCluskey, Griffin'\n",
      " 'Jablonski, Grant' 'Nowak, Bobby' 'Higdon, Seth' 'Haines, Tyler'\n",
      " 'Sampson, Mitchel' 'Krizen, Benjamin' 'Odom, Landon' 'Azar, Juan'\n",
      " 'Toledano, Jose' 'Sells, Colin' 'Weber, Zach' 'Sabol, Carter'\n",
      " 'Peck, Tyler' 'Meyer, Jakob' 'Hansmann, Max' 'Kafka, Alex'\n",
      " 'Giles, Chandler' 'Pratt, Davis' 'Echeman, Kaden' 'Devenport, Logan'\n",
      " 'Sackenheim, Noah' 'Leon, Andy' 'Tucker, Justin' 'York, Derrius'\n",
      " 'Herron, Grant' 'Westbrooks, Brody' 'Petschke, Ben' 'Tucker, Braydon'\n",
      " 'Smith, Ethan' 'Williams, Patrick' 'Werrmann, Carson' 'Landry, Andrew'\n",
      " 'Horne, Trevor' 'Aspholm, Dalton' 'Vohra, Jafar' 'Diaz, Yoansell'\n",
      " 'Kirby, Zach' 'Lopez, Matthew' 'Baldo, Merrick' 'Acosta, Joey'\n",
      " 'Beal, Noah' 'Legere, Tyler' 'Brewer, Alex' 'Clayton, Canaan'\n",
      " 'Katskee, Cooper' 'Smith, Tanner' 'Bybee, Ben' 'Hanson, Jordan'\n",
      " 'Wood, Gage' 'Carabajal, Noah' 'Perez, Andres' 'Maltrud, Rorik'\n",
      " 'Jenkins, Bryce' 'Little, Christian' 'Franklin, Zach' 'Sewell, Camden'\n",
      " 'Hernandez, Esteban' 'Mortenson, Gavin' 'Kirkpatrick, Jackson'\n",
      " 'Charlton, Max' 'Finan, Michael' 'Jones, Jordan' 'Cienfuegos, Cristian'\n",
      " 'Yates, Rian' 'Schuler, Michael' 'Frieda, Colby' 'Greenler, Kyle'\n",
      " 'Skenes, Paul' 'Anderson, Jack' 'Maldonado, Nick' 'Sproat, Brandon'\n",
      " 'Waldrep, Hurston' 'Ficarrotta, Nick' 'Hogan, Robert' 'Reum, Kai'\n",
      " 'Olmstead, Tanner' 'Gordon, Jackson' 'Bates, Cole' 'Sabo, Chris'\n",
      " 'Barna, Branden' 'Hill, Spencer' 'Washington, Brett' 'Newman, Jacob'\n",
      " 'Thompson, Turner' 'Clevenger, Heath' 'Gaeto, Alex' 'Morehouse, Zane'\n",
      " 'Wilson, Ben' 'Woods, Kade' 'McMillan, Garrett' 'Myers, Braylon'\n",
      " 'Finley, Leighton' 'Martinez, Javier' 'Zabel, Peyton' 'Schrepf, Brandon'\n",
      " 'Mercer, Matthew' 'Claybourne, Seth' 'Burns, Mason' 'Neely, Brandon'\n",
      " 'Burns, Chase' 'Murphy, Hayden' 'Moza, Aidan' 'McDonough, Scott'\n",
      " 'Hunt, Calvin' 'Kalandros, Cameron' 'Ceverino, Vladimir'\n",
      " 'Robinson, Caden' 'Kessinger, Chase' 'Stinnett, Carson' 'Stewart, Joshua'\n",
      " 'Bowerman, Josh' 'Weatherley, Jacob' 'Hopson, Kameron' 'Dougherty, Jack'\n",
      " 'Nixon, Aaron' 'Fenton, Cade' 'Griffin, Mason' 'Vaccaro, Nicholas'\n",
      " 'Sanders, Trey' 'Youngbrandt, Scott' 'Halligan, Miles' 'Kelly, Jonathan'\n",
      " 'Hansen, Creighton' 'Cutts, Brennyn' 'Tolbert, Cole' 'Medley, Cody'\n",
      " 'Walls, Webster' 'DeSandro, Devin' 'Gearing, Chase' 'Rodriguez, Arturo'\n",
      " 'Landry, Camren' 'Chastain, Davis' 'Treadway, Chad' 'Grundy, Kade'\n",
      " 'Corbett, Kaleb' 'Forbes, Patrick' 'Stinnett, Parker' 'Hoopes, Hunter'\n",
      " 'Olson, Ryan' 'Eggert, Mike' 'Mcelyea, Piercen' 'Cranton, Hunter'\n",
      " 'Quinechette, Agyei' 'McManmon, Quinten' 'Lutz, Duncan' 'Gorman, Brooks'\n",
      " 'Ursitti, Anthony' 'Francis, Ethan' 'Collins, Gus' 'Guardino, Andrew'\n",
      " 'MacCauley, Parker' 'Thomas, Brett' 'Jones, Elijah' 'Lee, Zack'\n",
      " 'Timbes, Jake' 'Pryor, Will' 'Guisewite, Caleb' 'Zedalis, Zach'\n",
      " 'Dutton, Sam' 'Simpson, Sam' 'Plummer, Caden' 'Dohm, Nate'\n",
      " 'Schuelke, Cam' 'Maldonado, Evan' 'Kennedy, Clay' 'Waters, Jack'\n",
      " 'Lawson, Nathan' 'Tilly, Cameron' 'Veach, Chris' 'Williams, Cj'\n",
      " 'Hawks, Sawyer' 'Ostrander, Braden' 'Walton, Ryker' 'Zeldin, Brian'\n",
      " 'Gay, Justin' 'Murphy, Ryan' 'Gaeckle, Gabe' 'Vogatsky, Joe'\n",
      " 'Jones, Andrew' 'Driscoll, Clark' 'Barthelemy, Brock'\n",
      " 'Herberholz, Christian' 'Duffield, Joseph' 'Sesar, Jorden'\n",
      " 'Garbinski, Garrett' 'Packen, Trey' 'Kimball, Roman' 'Good, Ty'\n",
      " 'Marlatt, Parker' 'Smith, Casey' 'Schaefer, Derek' 'Miller-Green, Lyle'\n",
      " 'Walls, Westin' 'Akens, Ollie' 'Sato, Kota' 'Sells, James' 'Sarna, Owen'\n",
      " 'Dean, Tyler' 'Hyde, Jace' 'Hickman, Nathan' 'Smith, Will' 'Araujo, Caio'\n",
      " 'Magill, Carson' 'Brooker, Jack' 'Brown, Rese' 'Pittz, Ryan'\n",
      " 'Smink, Eddie' \"Wray, Ga'von\" 'Hernandez, Zachary' 'Mariano, Matthew'\n",
      " 'Turk, Steven' 'Stewart, Jackson' 'Stephen, Khal' 'Hayden, Connor'\n",
      " 'Cottrill, Josh' 'Liss, Hank' 'Snead, Nate' 'Boule, Luke'\n",
      " 'Locklear, Kyle' 'Montgomery, Quinlan' 'White, Joey' 'Grintz, Adam'\n",
      " 'Tuttoilmondo, Joey' 'Rivera, BJ' 'Halladay, Braden' 'Chabot, Julian'\n",
      " 'Stanley, Andrew' 'Hanson, Nicholas' 'Turzenski, Trent' 'Pancer, Brandt'\n",
      " 'Pehrson, Ryan' 'Zuger, Jordan' 'Cunneely, Michael' 'Peguero, Carlos'\n",
      " 'Baez, Miguel' 'Dossett, Cooper' 'Jackson, Charles' 'cline, Jack'\n",
      " 'Brown, Malcolm' 'Havard, Peyton' 'McBride, Connor' 'Malone, John'\n",
      " 'Lore, Carson' 'Quinn, Victor' 'McDevitt, Josh' 'Willis, Coleman'\n",
      " 'Bowery, Eli' 'Pressley, Devin' 'Cook, Harrison' 'Harris, Zach'\n",
      " 'Moore Jr., Tommy' 'Manarchuck, JB' 'Mayer, Bryce' 'Gillis, Tanner'\n",
      " 'Valero, Bryce' 'Miller, Perry' 'Sheerin, Deven' 'Maniglia, Casey'\n",
      " 'Fender, Ryan' 'Willeman, Landon' 'Bell, Logan' 'Penrod, Connar'\n",
      " 'Archer, Ganon' 'O’Brien, Cameron' 'Alexander, Hunter' 'Walsh, Michael'\n",
      " 'Lafferty, Drew' 'Kissenberth, Luke' 'Baker, Liam' 'Kranzler, Alex'\n",
      " 'Morris, Gavin' 'Fuller, Brady' 'Van Dyke, Tyler' 'Stallings, Cole'\n",
      " 'Padysak, Daniel' 'DeJong, Max' 'Lambdin, Jake' 'Hsu, Brandon'\n",
      " 'Sabbath, Joseph' 'Weaver, Jacob' 'Ayers, Mac' 'Kasper, Sean'\n",
      " 'Fee, Kevin' 'Smith, Dylan' 'Meier, Jackson' 'Moeller, JT'\n",
      " 'Tabeling, Logan' 'Maloney, Evan' 'Jones, AJ' 'Devine, Andrew'\n",
      " 'Poindexter, Jake' 'Caudill, Carson' 'Storey, Jake' 'DeVito, Zach'\n",
      " 'Carvajal, Jake' 'Aita, Blake' 'Hairfield, Dallas' 'Bunch, Wyatt'\n",
      " 'Swartz, Jake' 'Sposato, Sean' 'Fernandez, Zach' 'Hughes , Tommy '\n",
      " 'Fine, Brody' 'Sailors, Brooks' 'Jacobi, Kaden' 'Gienger, Murphy'\n",
      " 'Pinson, Smith' 'Garcia Jr., Guillermo' 'Simmons, Owen' 'Erd, Josiah'\n",
      " 'Shubert, Rome' 'Sylte, Hayden' 'Lunceford, Logan' 'Hummel, Johnny'\n",
      " 'Miller, Charlie' 'Carmack, Kyler' 'Russell, AJ' 'Bailey, Connor'\n",
      " 'Aukerman, Matthew' 'Martinez, Greg' 'Posey, Jonah' 'McLoughlin, Tyler'\n",
      " 'Bravo, Leonardo' 'Pooser, Trey' 'Peterson, Liam' 'Morris, Mason'\n",
      " 'Stricklin, Lawson' 'Lauve, Lance' 'Bennett, Levi' 'Feltman, Jett'\n",
      " 'Maxwell, Cayden' 'Gilley, Brayden' 'Hamilton, David' 'McGregor, Tristan'\n",
      " 'Guidry, Gavin' \"O'Brien, Cameron\" 'Dutton, Sam ' 'Holcombe, Colby'\n",
      " 'Haley, Gage' 'Varnadoe, Hunter' 'Mallitz, Josh' 'Jones, Eli'\n",
      " 'Polk, Michael' 'Schorr, Ben' 'Chase, Keaton' 'Van Allen, Cade'\n",
      " 'Parker, Brett' 'Swenson, Max' 'Stevens, Zachary' 'Smith, Tyler'\n",
      " 'Haley, Jacob' 'Kampf, Jake' 'Hardy, Halton' 'Powell, Daniel'\n",
      " 'Mimbs, Hudson' 'Carroll, Caden' 'Alonso, Dylan' 'Albanese, Tyler'\n",
      " 'Cushing, Cade' 'Rogers, Jacob' 'Hellman, Cooper' 'Sokol, Mike'\n",
      " 'Dennis, Cortez' 'Blasick, Nathan' 'Garcia, Nico' 'Cunningham, Bryce'\n",
      " 'Watts, Dylan' 'Causey, AJ' 'Bucknam, Micah' 'Hoskins, Matthew'\n",
      " 'Pitzer, Tyler' 'Pickell, Cannon' 'Stogner, John Allen' 'Howard, Carson'\n",
      " 'Manley, Matt' 'Fryman, Cole' 'Gordon, Austin' 'Lyne, Tanner'\n",
      " 'Beagle, Parrish' 'Erdman, Jack' 'Cijntje, Jurrangelo' 'Jurecka, Landry'\n",
      " 'Robinson, Kevin' 'Nichol, Tyler' 'Leonard, Bryce' 'Marquez, Alejandro'\n",
      " 'Liggett, Carson' 'Detmers, Parker' 'Elsing, Alex' 'Nichols, Mason'\n",
      " 'Allen, Ty' 'Agosto, Justus' 'Stamos, Chris'] 562\n"
     ]
    }
   ],
   "execution_count": 15
  },
  {
   "metadata": {
    "ExecuteTime": {
     "end_time": "2024-10-04T23:45:55.130456Z",
     "start_time": "2024-10-04T23:45:55.121126Z"
    }
   },
   "cell_type": "code",
   "source": [
    "def rl_bbc_stuff(name):\n",
    "    \n",
    "    preds = ['RelSpeed','VertRelAngle','HorzRelAngle','SpinRate','SpinAxis','RelHeight','RelSide','Extension','VertBreak','InducedVertBreak','HorzBreak','ZoneSpeed','VertApprAngle','HorzApprAngle','ZoneTime','pfxx','pfxz','x0','y0','z0','vx0','vy0','vz0','ax0','ay0','az0','SpeedDrop','PitchTrajectoryXc1','PitchTrajectoryXc2','PitchTrajectoryYc0','PitchTrajectoryYc1','PitchTrajectoryYc2','PitchTrajectoryZc0','PitchTrajectoryZc1','PitchTrajectoryZc2']\n",
    "    \n",
    "    all_preds = model.predict_proba(bbc_rl_X)[:,1]\n",
    "    mean_pred = np.mean(all_preds)\n",
    "\n",
    "    pitcher = subsets[name]\n",
    "    pitcher_x = pitcher[preds]\n",
    "\n",
    "    whiff_preds = model.predict_proba(pitcher_x)[:,1]\n",
    "\n",
    "    stuff = whiff_preds/mean_pred\n",
    "    \n",
    "    return np.mean(stuff * 100)\n"
   ],
   "id": "a93c3f6e7aab6e14",
   "outputs": [],
   "execution_count": 16
  },
  {
   "metadata": {
    "ExecuteTime": {
     "end_time": "2024-10-04T23:46:20.547110Z",
     "start_time": "2024-10-04T23:46:20.518321Z"
    }
   },
   "cell_type": "code",
   "source": [
    "#Stuff+ for selected pitchers Curveball in RHP v LHB split\n",
    "rl_bbc_stuff('Tilly, Cameron')"
   ],
   "id": "b197acfdb17ac000",
   "outputs": [
    {
     "data": {
      "text/plain": [
       "62.101196"
      ]
     },
     "execution_count": 17,
     "metadata": {},
     "output_type": "execute_result"
    }
   ],
   "execution_count": 17
  },
  {
   "metadata": {},
   "cell_type": "markdown",
   "source": "Lefty vs. Righty Split",
   "id": "8b5bc4599419a3fe"
  },
  {
   "metadata": {
    "ExecuteTime": {
     "end_time": "2024-10-04T23:47:01.622009Z",
     "start_time": "2024-10-04T23:47:01.609456Z"
    }
   },
   "cell_type": "code",
   "source": [
    "bbc_lr_X = bbc_lr[preds]\n",
    "bbc_lr_y = bbc_lr['whiff']"
   ],
   "id": "e2c4dbffa12db7",
   "outputs": [],
   "execution_count": 18
  },
  {
   "metadata": {
    "ExecuteTime": {
     "end_time": "2024-10-04T23:47:18.490624Z",
     "start_time": "2024-10-04T23:47:18.306544Z"
    }
   },
   "cell_type": "code",
   "source": [
    "#Train Model: LHP vs RHB\n",
    "X_train, X_test, y_train, y_test = train_test_split(bbc_lr_X, bbc_lr_y, test_size=.33, random_state=25)\n",
    "\n",
    "model = XGBClassifier()\n",
    "model.fit(X_train, y_train)\n",
    "\n",
    "y_pred = model.predict(X_test)\n",
    "predictions = [round(value) for value in y_pred]\n",
    "\n",
    "accuracy = accuracy_score(y_test, predictions)\n",
    "print(\"Accuracy: %.2f%%\" % (accuracy * 100.0))"
   ],
   "id": "ecf13abe982069c4",
   "outputs": [
    {
     "name": "stdout",
     "output_type": "stream",
     "text": [
      "Accuracy: 90.05%\n"
     ]
    }
   ],
   "execution_count": 19
  },
  {
   "metadata": {
    "ExecuteTime": {
     "end_time": "2024-10-04T23:47:42.514946Z",
     "start_time": "2024-10-04T23:47:42.263921Z"
    }
   },
   "cell_type": "code",
   "source": [
    "# Get unique values\n",
    "unique_values = bbc_lr['Pitcher'].unique()\n",
    "\n",
    "#List of Pitchers that threw splitter, as well as amount\n",
    "print(unique_values, len(unique_values))\n",
    "\n",
    "# Create a dictionary to store subsets\n",
    "subsets = {value: bbc_lr[bbc_lr['Pitcher'] == value] for value in unique_values}\n"
   ],
   "id": "35654d8bbb479fae",
   "outputs": [
    {
     "name": "stdout",
     "output_type": "stream",
     "text": [
      "['Adams, Aiden' 'LaCalameto, Kyle' 'Shapiro, Joe' 'Yntema, Graham'\n",
      " 'Chronowski, Peter' 'Seiler, Ben' 'Hitt, Grayson' 'Furtado, Hunter'\n",
      " 'Goldstein, Charlie' 'Keevan, LJ' 'Cooper, Riley' 'Johnston, Will'\n",
      " 'Sullivan, Liam' 'Duke, Hayden' 'Wheeler, Trey' 'Rivas, Xavier'\n",
      " 'Hogan, Kian' 'Nelson, Drew' 'Kraft, Ryan' 'Senders, Sammy'\n",
      " 'Zielinski, Eli' 'Jette, Jacob' 'Morris, Zack' 'Fitzgibbons, Jake'\n",
      " 'Nicholson, Gabe ' 'Bimbi, Jacob' 'Huff, Hollis' 'Parks, Michael'\n",
      " 'Sechrist, Zander' 'Campbell, Tyler' 'Sales, Terence ' 'Becker, Matthew'\n",
      " 'Sewell, JC' 'Warrick, Isaac' 'Dunn, Ross' 'Cheatham, Cole'\n",
      " 'Davis, Alton' 'Evans Jr, Jarvis' 'Coady, Owen' 'Tobin, Will'\n",
      " 'Holton, Carter' 'Manfredi, Mark' 'Wozniak, Brett' 'Chmielewski, Tom'\n",
      " 'MacDonald, Caden' 'Bosma, Tyler' 'Gongora, Sebastian' 'Luikart, Jay'\n",
      " 'Owen, Hunter' 'Hollan, Hunter' 'Coil, Parker' 'Espelin, Nate'\n",
      " 'Tedesco, Jake' 'Manning, Timmy' 'Kane, Thomas' 'Rembisz, Ryan'\n",
      " 'Futrell, Devin' 'Daugherty, Ryan' 'Connell, Kirby' 'Toney, Bryce'\n",
      " 'Chastine, Kyle' 'McDaniel, Mason' 'Robinson, Jackie' 'Harland, Ryan'\n",
      " 'Vail, Tommy' 'Davis, Colin' 'Dunkelberger, Michael' 'Frank, Hayden'\n",
      " 'Peters, Garrett' 'Valentine, Joe' 'Van Treeck, Logan' 'Bak, Brandon'\n",
      " 'Neubeck, Tony' 'Theis, Alex' 'Spizzoucco, Vincent' 'Wenzel, Logan'\n",
      " 'Thompson, Noah' 'Ball, Connor' 'Fontenot, Cade' 'Dennehy, Sean'\n",
      " 'Loftin, Bradley' 'Burk, Jackson' 'Lyke, Ethan' 'Holmes, Will'\n",
      " 'Thompson, JD' 'Perkins, Joey' 'Rodriguez, Jackson' 'Lohse, Ian'\n",
      " 'Vurpillat, Grant' 'Bakke, John' 'Ganley, Dominic' 'Blackwell, Jonathan'\n",
      " 'Gerl, Ben' 'Guth, Adam' 'Massey, Sam' 'Gaviria, Daniel' 'Lambert, Cal'\n",
      " 'Rupp, Nick' 'Mercer, Colton' 'Copeland, Konner' 'Byers, Evan'\n",
      " 'Cijntje, Jurrangelo' 'Crotchfelt, Zach' 'Tapper, Brock' 'Katen, Logan'\n",
      " 'Frederick, Jakob' 'Faulkner, Gavin' 'Nove, Jackson' 'Travis, Bryce'\n",
      " 'Milburn, Isaac' 'Abner, Philip' 'Fisher, Cade' 'Arroyo, Chris'\n",
      " 'Gainer, Luke' 'Schiff, Cole' 'Watkins, Timothy' 'Robbins, Will'\n",
      " 'Hasty, Jacob' 'Woods, Jaden' 'Lamkin, Justin' 'Hayes, Chat'\n",
      " 'Keithley, Carson' 'Vaught, Chance' 'Durham, JT' 'Parker, Jackson'\n",
      " 'Wissler, Daniel' 'Smith, Brock' 'Ginther, Ryan' 'Mancuso, Josh'\n",
      " 'Campbell, Kayden' 'Dillard, Matt' 'Stratton, Sam' 'Smith, Hagen'\n",
      " 'Caglianone, Jac' \"O'Connor, Tim\" 'Maynard, Brody' 'Coleman, Javen'\n",
      " 'Dearman, Clark' 'Wansing, Troy' 'Morgan, Trey' 'Jump, Gage'\n",
      " 'Shim, Seungmin' 'Moats, Kyle' 'Ross, Luke' 'Bello, Jack' 'Mattera, Noah'\n",
      " 'Farone, Greg' 'Adams, Zane' 'Beard, Trey' 'Molina, Mason'\n",
      " 'Gravel, Alexis' 'Carr, David' 'Staiano, Michael' 'Fisher, Colin'\n",
      " 'Anderson, Kade' 'Clack, Christian' 'Torbett, Cole' 'Steinhauer, Ryan'\n",
      " 'Baker, Luke' 'McElvain, Ethan' 'Dallas, Matthew' 'Loy, Dylan'\n",
      " 'Holt, Campbell' 'Mendes, Wesley' 'Ruller, Joseph' 'Meyer, Tommy'\n",
      " 'Stamos, Chris' 'Little, Matt' 'Wolff, LJ' 'Ciuffetelli, Blake'\n",
      " 'Paddack, Liam ' 'Gelbsman, Aidan' 'Gross, Mitchell' 'Dotson, Luke'\n",
      " 'Dennis, Gunnar' 'Quinn, Thomas' 'Fisher, Ty' 'Phillips, Jacob'\n",
      " 'Posey, Courtland' 'Lourens, Je-Andrick' 'Royal, Hunter' 'Smith, Hayden'\n",
      " 'Edmonson, Cameron' 'Stam, Matt' 'McNabb, Thomas' 'Lynch, Jake'\n",
      " 'Yagesh, Brendan' 'Curley, TJ' 'Speas, Kyle' 'Quinn, Braden'\n",
      " 'Behnke, Andrew' 'Hall, Quinton' 'Radcliff, Ryan' 'Pirkle, Aaron'\n",
      " 'Beckner, Drew' 'Roesch, Braden' 'Hutchings, Payton' 'Sharp, Brayden'\n",
      " 'Hughes, Nolan' 'Smith, Nic' 'Meier, Jackson' 'Gibbons, Sean'\n",
      " 'Simmons, Austin' 'Isaacs, Caleb' 'Cadieux-Lanoue, Elliot'\n",
      " 'Roulette, Allen' 'Cleaver, Ben' 'Stevens, Nolan' 'Vera, Alex'\n",
      " 'Reed, Kevin' 'Battey, Corey' 'Rodriguez, Ryne' 'Menendez, Frank'\n",
      " 'Niman, Dominic' 'DeMonica, Nick' 'Pimental, Javyn' 'Burkett II, Jerry'\n",
      " 'Williams, Walker' 'Windham, Payton' 'Huesman, Levi' 'Gist, Matthew'\n",
      " 'Sanchez, Corey' 'Wilson, Kaidan' 'White, Ryan' 'Bortak, Blake'\n",
      " 'Charlton, Tyler' 'McGovern, Jacob' 'Dutton, Sam ' 'Huddleston, Eli'\n",
      " 'Keller, Kenny' 'McCarley, Derek' 'West, Justin' 'Lessman, Jared'\n",
      " 'Phillips, Riley' 'Prager, Ryan' 'Kohn, Pico'] 236\n"
     ]
    }
   ],
   "execution_count": 20
  },
  {
   "metadata": {
    "ExecuteTime": {
     "end_time": "2024-10-04T23:48:00.395271Z",
     "start_time": "2024-10-04T23:48:00.387233Z"
    }
   },
   "cell_type": "code",
   "source": [
    "def lr_bbc_stuff(name):\n",
    "    \n",
    "    preds = ['RelSpeed','VertRelAngle','HorzRelAngle','SpinRate','SpinAxis','RelHeight','RelSide','Extension','VertBreak','InducedVertBreak','HorzBreak','ZoneSpeed','VertApprAngle','HorzApprAngle','ZoneTime','pfxx','pfxz','x0','y0','z0','vx0','vy0','vz0','ax0','ay0','az0','SpeedDrop','PitchTrajectoryXc1','PitchTrajectoryXc2','PitchTrajectoryYc0','PitchTrajectoryYc1','PitchTrajectoryYc2','PitchTrajectoryZc0','PitchTrajectoryZc1','PitchTrajectoryZc2']\n",
    "    \n",
    "    all_preds = model.predict_proba(bbc_lr_X)[:,1]\n",
    "    mean_pred = np.mean(all_preds)\n",
    "\n",
    "    pitcher = subsets[name]\n",
    "    pitcher_x = pitcher[preds]\n",
    "\n",
    "    whiff_preds = model.predict_proba(pitcher_x)[:,1]\n",
    "\n",
    "    stuff = whiff_preds/mean_pred\n",
    "    \n",
    "    return np.mean(stuff * 100)\n"
   ],
   "id": "1af28ec15446b006",
   "outputs": [],
   "execution_count": 21
  },
  {
   "metadata": {
    "ExecuteTime": {
     "end_time": "2024-10-04T23:49:31.832541Z",
     "start_time": "2024-10-04T23:49:31.804109Z"
    }
   },
   "cell_type": "code",
   "source": [
    "#Stuff+ for selected pitchers Curveball in LHP v RHB split\n",
    "lr_bbc_stuff('Caglianone, Jac')"
   ],
   "id": "27cf3b662153693a",
   "outputs": [
    {
     "data": {
      "text/plain": [
       "193.87415"
      ]
     },
     "execution_count": 24,
     "metadata": {},
     "output_type": "execute_result"
    }
   ],
   "execution_count": 24
  },
  {
   "metadata": {},
   "cell_type": "markdown",
   "source": "Lefty vs. Lefty Split",
   "id": "ff62aba3b1a7813d"
  },
  {
   "metadata": {
    "ExecuteTime": {
     "end_time": "2024-10-04T23:50:01.956807Z",
     "start_time": "2024-10-04T23:50:01.950255Z"
    }
   },
   "cell_type": "code",
   "source": [
    "bbc_ll_X = bbc_ll[preds]\n",
    "bbc_ll_y = bbc_ll['whiff']"
   ],
   "id": "86894b088bd98359",
   "outputs": [],
   "execution_count": 25
  },
  {
   "metadata": {
    "ExecuteTime": {
     "end_time": "2024-10-04T23:50:17.954754Z",
     "start_time": "2024-10-04T23:50:17.780049Z"
    }
   },
   "cell_type": "code",
   "source": [
    "#Train Model: LHP vs LHB\n",
    "X_train, X_test, y_train, y_test = train_test_split(bbc_ll_X, bbc_ll_y, test_size=.33, random_state=25)\n",
    "\n",
    "model = XGBClassifier()\n",
    "model.fit(X_train, y_train)\n",
    "\n",
    "y_pred = model.predict(X_test)\n",
    "predictions = [round(value) for value in y_pred]\n",
    "\n",
    "accuracy = accuracy_score(y_test, predictions)\n",
    "print(\"Accuracy: %.2f%%\" % (accuracy * 100.0))"
   ],
   "id": "4bb2e287487e3a6f",
   "outputs": [
    {
     "name": "stdout",
     "output_type": "stream",
     "text": [
      "Accuracy: 88.57%\n"
     ]
    }
   ],
   "execution_count": 26
  },
  {
   "metadata": {
    "ExecuteTime": {
     "end_time": "2024-10-04T23:50:38.198144Z",
     "start_time": "2024-10-04T23:50:38.069975Z"
    }
   },
   "cell_type": "code",
   "source": [
    "# Get unique values\n",
    "unique_values = bbc_ll['Pitcher'].unique()\n",
    "\n",
    "#List of Pitchers that threw splitter, as well as amount\n",
    "print(unique_values, len(unique_values))\n",
    "\n",
    "# Create a dictionary to store subsets\n",
    "subsets = {value: bbc_ll[bbc_ll['Pitcher'] == value] for value in unique_values}\n"
   ],
   "id": "12c2b3c4238661cc",
   "outputs": [
    {
     "name": "stdout",
     "output_type": "stream",
     "text": [
      "['Walsh, Redmond' 'Johnston, Will' 'Adams, Aiden' 'LaCalameto, Kyle'\n",
      " 'Shapiro, Joe' 'Yntema, Graham' 'Chronowski, Peter' 'Seiler, Ben'\n",
      " 'Furtado, Hunter' 'Keevan, LJ' 'Morgan, Trey' 'Vail, Tommy'\n",
      " 'Clifton, Harrison' 'Duke, Hayden' 'Szczepaniak, Drew' 'Light, Nathan'\n",
      " 'Hogan, Kian' 'Nelson, Drew' 'Kraft, Ryan' 'Reinke, Brian' 'Jette, Jacob'\n",
      " 'Nicholson, Gabe ' 'Huff, Hollis' 'Parks, Michael' 'Windham, Payton'\n",
      " 'Campbell, Tyler' 'Sales, Terence ' 'Garcia, Jason' 'Cijntje, Jurrangelo'\n",
      " 'Warrick, Isaac' 'Dunn, Ross' 'Tapper, Brock' 'Cheatham, Cole'\n",
      " 'Evans Jr, Jarvis' 'Coady, Owen' 'Tobin, Will' 'Holton, Carter'\n",
      " 'Manfredi, Mark' 'Wozniak, Brett' 'Ball, Connor' 'Sullivan, Liam'\n",
      " 'Chmielewski, Tom' 'MacDonald, Caden' 'Gongora, Sebastian' 'Bosma, Tyler'\n",
      " 'Becker, Matthew' 'Owen, Hunter' 'Espelin, Nate' 'Tedesco, Jake'\n",
      " 'Bimbi, Jacob' 'Manning, Timmy' 'Kane, Thomas' 'Rembisz, Ryan'\n",
      " 'Goldstein, Charlie' 'Cotto, Magdiel' 'Futrell, Devin' 'Sechrist, Zander'\n",
      " 'Daugherty, Ryan' 'Connell, Kirby' 'Toney, Bryce' 'Chastine, Kyle'\n",
      " 'McDaniel, Mason' 'Robinson, Jackie' 'Morris, Zack' 'Harland, Ryan'\n",
      " 'Coil, Parker' 'Mullan, Bradley' 'Davis, Colin' 'Dunkelberger, Michael'\n",
      " 'Frank, Hayden' 'Samol, Noah' 'Peters, Garrett' 'Bak, Brandon'\n",
      " 'Theis, Alex' 'Wenzel, Logan' 'Thompson, Noah' 'Dennehy, Sean'\n",
      " 'Sewell, JC' 'Burk, Jackson' 'Lyke, Ethan' 'Holmes, Will' 'Laboy, Jorhan'\n",
      " 'Toledano, Jose' 'Byers, Evan' 'Vurpillat, Grant' 'Bakke, John'\n",
      " 'Ganley, Dominic' 'Van Treeck, Logan' 'Blackwell, Jonathan' 'Guth, Adam'\n",
      " 'Gaviria, Daniel' 'Hollan, Hunter' 'Lambert, Cal' 'Fitzgibbons, Jake'\n",
      " 'Hesseltine, Hunter' 'Crotchfelt, Zach' 'Copeland, Konner'\n",
      " 'Cooper, Riley' 'Lohse, Ian' 'Neubeck, Tony' 'Katen, Logan' 'White, Ryan'\n",
      " 'Wallington, Eric' 'Frederick, Jakob' 'Davis, Alton' 'Faulkner, Gavin'\n",
      " 'Travis, Bryce' 'Milburn, Isaac' 'Ginther, Ryan' 'Nove, Jackson'\n",
      " 'Lamkin, Justin' 'Gainer, Luke' 'Schiff, Cole' 'Mitchell, Joey'\n",
      " 'Robbins, Will' 'Wheeler, Trey' 'Hasty, Jacob' 'Woods, Jaden'\n",
      " 'Hitt, Grayson' 'Mancuso, Josh' 'Hayes, Chat' 'Llinas, Alexander'\n",
      " 'Boudreaux, Jacorey' 'Keithley, Carson' 'Stroud, Jack' 'Pettys, Ryan'\n",
      " 'Steinhauer, Ryan' 'Thompson, JD' 'Abner, Philip' 'Vaught, Chance'\n",
      " 'Casto, Daniel' 'Durham, JT' 'Parker, Jackson' 'Wissler, Daniel'\n",
      " 'Rivas, Xavier' 'Kimbrell, Jackson' 'Smith, Brock' 'Niedringhaus, Jack'\n",
      " 'Egan, Crew' 'Campbell, Kayden' 'Dillard, Matt' 'Stratton, Sam'\n",
      " 'Smith, Hagen' 'Caglianone, Jac' 'Maynard, Brody' 'Coleman, Javen'\n",
      " 'Dearman, Clark' 'Phipps, Jackson' 'Wansing, Troy' 'Shim, Seungmin'\n",
      " 'Moats, Kyle' 'Ross, Luke' 'Byers, Carson ' 'Bello, Jack' 'Hall, Quinton'\n",
      " 'Farone, Greg' 'Adams, Zane' 'Kwiatkowski, John' 'Beard, Trey'\n",
      " 'Molina, Mason' 'Gravel, Alexis' 'Staiano, Michael' 'Bruno, Nick'\n",
      " 'Galyean, Tyler' 'DeMonica, Nick' 'Fisher, Colin' 'Anderson, Kade'\n",
      " 'Stevens, Nolan' 'Torbett, Cole' 'Loy, Dylan' 'Sharp, Brayden'\n",
      " 'Holt, Campbell' 'Williams, Walker' 'Ruller, Joseph' 'Jump, Gage'\n",
      " 'Meyer, Tommy' 'Stamos, Chris' 'Little, Matt' 'Wolff, LJ'\n",
      " 'Ciuffetelli, Blake' 'Paddack, Liam ' 'Gelbsman, Aidan' 'Gross, Mitchell'\n",
      " 'Dennis, Gunnar' 'McElvain, Ethan' 'Quinn, Thomas' 'Gerl, Ben'\n",
      " 'Dallas, Matthew' 'Lourens, Je-Andrick' 'Haston, Brandon'\n",
      " 'Mendes, Wesley' 'Royal, Hunter' 'Smith, Hayden' 'Stam, Matt'\n",
      " 'Lynch, Jake' 'Yagesh, Brendan' 'Curley, TJ' 'Dotson, Luke' 'Speas, Kyle'\n",
      " 'Quinn, Braden' 'West, Charles' 'Radcliff, Ryan' 'Pirkle, Aaron'\n",
      " 'Beckner, Drew' 'Burt, Connor' 'Roesch, Braden' 'Hutchings, Payton'\n",
      " 'Merriweather, Dj' 'Meier, Jackson' 'Gibbons, Sean' 'Eidson, Brayden'\n",
      " 'Strack, Caleb' 'Roulette, Allen' 'Loer, Justin' 'Niman, Dominic'\n",
      " 'Simmons, Austin' 'Vera, Alex' 'Hughes, Nolan' 'Chorzelewski, Brandon'\n",
      " 'Reed, Kevin' 'Battey, Corey' 'Rodriguez, Ryne' 'Gibson, Luke'\n",
      " 'Johnson, Cam' 'Pimental, Javyn' 'Arender, Brock' 'Mackowiak, Garrett'\n",
      " 'Huesman, Levi' 'Myles , Conor' 'Gist, Matthew' 'Hewlett, Stone'\n",
      " 'Braziel, Kewan' 'Wilson, Kaidan' 'Wheeler, Dylan' 'Whitney, John'\n",
      " 'Bortak, Blake' 'Menendez, Frank' 'Charlton, Tyler' 'Dutton, Sam '\n",
      " 'Posey, Courtland' 'Huddleston, Eli' 'Keller, Kenny' 'Phillips, Riley'\n",
      " 'Kohn, Pico'] 244\n"
     ]
    }
   ],
   "execution_count": 27
  },
  {
   "metadata": {
    "ExecuteTime": {
     "end_time": "2024-10-04T23:50:59.026471Z",
     "start_time": "2024-10-04T23:50:59.019662Z"
    }
   },
   "cell_type": "code",
   "source": [
    "def ll_bbc_stuff(name):\n",
    "    \n",
    "    preds = ['RelSpeed','VertRelAngle','HorzRelAngle','SpinRate','SpinAxis','RelHeight','RelSide','Extension','VertBreak','InducedVertBreak','HorzBreak','ZoneSpeed','VertApprAngle','HorzApprAngle','ZoneTime','pfxx','pfxz','x0','y0','z0','vx0','vy0','vz0','ax0','ay0','az0','SpeedDrop','PitchTrajectoryXc1','PitchTrajectoryXc2','PitchTrajectoryYc0','PitchTrajectoryYc1','PitchTrajectoryYc2','PitchTrajectoryZc0','PitchTrajectoryZc1','PitchTrajectoryZc2']\n",
    "    \n",
    "    all_preds = model.predict_proba(bbc_ll_X)[:,1]\n",
    "    mean_pred = np.mean(all_preds)\n",
    "\n",
    "    pitcher = subsets[name]\n",
    "    pitcher_x = pitcher[preds]\n",
    "\n",
    "    whiff_preds = model.predict_proba(pitcher_x)[:,1]\n",
    "\n",
    "    stuff = whiff_preds/mean_pred\n",
    "    \n",
    "    return np.mean(stuff * 100)\n"
   ],
   "id": "99944401c62b52f5",
   "outputs": [],
   "execution_count": 28
  },
  {
   "metadata": {
    "ExecuteTime": {
     "end_time": "2024-10-04T23:51:30.458756Z",
     "start_time": "2024-10-04T23:51:30.433116Z"
    }
   },
   "cell_type": "code",
   "source": [
    "#Stuff+ for selected pitchers Curveball in LHP v LHB split\n",
    "ll_bbc_stuff('Caglianone, Jac')"
   ],
   "id": "85dd5f77bb79d7b",
   "outputs": [
    {
     "data": {
      "text/plain": [
       "253.66385"
      ]
     },
     "execution_count": 30,
     "metadata": {},
     "output_type": "execute_result"
    }
   ],
   "execution_count": 30
  }
 ],
 "metadata": {
  "kernelspec": {
   "display_name": "Python 3",
   "language": "python",
   "name": "python3"
  },
  "language_info": {
   "codemirror_mode": {
    "name": "ipython",
    "version": 2
   },
   "file_extension": ".py",
   "mimetype": "text/x-python",
   "name": "python",
   "nbconvert_exporter": "python",
   "pygments_lexer": "ipython2",
   "version": "2.7.6"
  }
 },
 "nbformat": 4,
 "nbformat_minor": 5
}
