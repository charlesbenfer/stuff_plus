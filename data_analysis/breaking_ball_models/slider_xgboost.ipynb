{
 "cells": [
  {
   "cell_type": "code",
   "id": "initial_id",
   "metadata": {
    "collapsed": true,
    "ExecuteTime": {
     "end_time": "2024-10-07T18:27:53.915308Z",
     "start_time": "2024-10-07T18:27:51.364154Z"
    }
   },
   "source": [
    "#Packages\n",
    "import os\n",
    "import pandas as pd\n",
    "import numpy as np\n",
    "import xgboost\n",
    "from xgboost import XGBClassifier\n",
    "from sklearn.model_selection import train_test_split\n",
    "from sklearn.metrics import accuracy_score, confusion_matrix, precision_score, recall_score, f1_score, roc_auc_score, roc_curve\n",
    "from hyperopt import STATUS_OK, Trials, fmin, hp, tpe\n",
    "import matplotlib.pyplot as plt\n",
    "import seaborn as sns\n",
    "import shap"
   ],
   "outputs": [],
   "execution_count": 2
  },
  {
   "metadata": {
    "ExecuteTime": {
     "end_time": "2024-10-07T18:28:36.742663Z",
     "start_time": "2024-10-07T18:28:25.834876Z"
    }
   },
   "cell_type": "code",
   "source": [
    "#Get Data\n",
    "csv_dir = '../..//SEC Trackman Data/'\n",
    "all_files = [os.path.join(csv_dir, f) for f in os.listdir(csv_dir) if f.endswith('.csv')]\n",
    "\n",
    "df_list = []\n",
    "\n",
    "for file in all_files:\n",
    "    df = pd.read_csv(file)\n",
    "    df_list.append(df)\n",
    "\n",
    "all_pitches = pd.concat(df_list, ignore_index=True)\n",
    "\n",
    "print(all_pitches.shape)\n",
    "print(all_pitches.columns)"
   ],
   "id": "7bc5833d2ab56cce",
   "outputs": [
    {
     "name": "stdout",
     "output_type": "stream",
     "text": [
      "(270589, 167)\n",
      "Index(['PitchNo', 'Date', 'Time', 'PAofInning', 'PitchofPA', 'Pitcher',\n",
      "       'PitcherId', 'PitcherThrows', 'PitcherTeam', 'Batter',\n",
      "       ...\n",
      "       'ThrowTrajectoryZc1', 'ThrowTrajectoryZc2', 'PitchReleaseConfidence',\n",
      "       'PitchLocationConfidence', 'PitchMovementConfidence',\n",
      "       'HitLaunchConfidence', 'HitLandingConfidence',\n",
      "       'CatcherThrowCatchConfidence', 'CatcherThrowReleaseConfidence',\n",
      "       'CatcherThrowLocationConfidence'],\n",
      "      dtype='object', length=167)\n"
     ]
    }
   ],
   "execution_count": 4
  },
  {
   "metadata": {
    "ExecuteTime": {
     "end_time": "2024-10-07T18:28:40.967779Z",
     "start_time": "2024-10-07T18:28:40.861296Z"
    }
   },
   "cell_type": "code",
   "source": [
    "#Get all sliders\n",
    "bbs = all_pitches[all_pitches['TaggedPitchType'].isin(['Slider'])]\n",
    "print(bbs.shape)"
   ],
   "id": "ddff7c4668e4b5bf",
   "outputs": [
    {
     "name": "stdout",
     "output_type": "stream",
     "text": [
      "(61229, 167)\n"
     ]
    }
   ],
   "execution_count": 5
  },
  {
   "metadata": {
    "ExecuteTime": {
     "end_time": "2024-10-07T18:28:42.630546Z",
     "start_time": "2024-10-07T18:28:42.479694Z"
    }
   },
   "cell_type": "code",
   "source": [
    "#Subset sliders into platoon splits\n",
    "bbs_rr = bbs[(bbs['PitcherThrows'] == 'Right') & (bbs['BatterSide'] == 'Right')]\n",
    "bbs_rl = bbs[(bbs['PitcherThrows'] == 'Right') & (bbs['BatterSide'] == 'Left')]\n",
    "bbs_lr = bbs[(bbs['PitcherThrows'] == 'Left') & (bbs['BatterSide'] == 'Right')]\n",
    "bbs_ll = bbs[(bbs['PitcherThrows'] == 'Left') & (bbs['BatterSide'] == 'Left')]\n",
    "\n",
    "print(bbs_rr.shape)\n",
    "print(bbs_rl.shape)\n",
    "print(bbs_lr.shape)\n",
    "print(bbs_ll.shape)"
   ],
   "id": "edf7fda5035d3592",
   "outputs": [
    {
     "name": "stdout",
     "output_type": "stream",
     "text": [
      "(31007, 167)\n",
      "(11871, 167)\n",
      "(9079, 167)\n",
      "(9199, 167)\n"
     ]
    }
   ],
   "execution_count": 6
  },
  {
   "metadata": {
    "ExecuteTime": {
     "end_time": "2024-10-07T18:28:45.051056Z",
     "start_time": "2024-10-07T18:28:45.033286Z"
    }
   },
   "cell_type": "code",
   "source": [
    "#Whiffs\n",
    "bbs_rr['whiff'] = np.where(bbs_rr['PitchCall']=='StrikeSwinging',1,0)\n",
    "bbs_rl['whiff'] = np.where(bbs_rl['PitchCall']=='StrikeSwinging',1,0)\n",
    "bbs_lr['whiff'] = np.where(bbs_lr['PitchCall']=='StrikeSwinging',1,0)\n",
    "bbs_ll['whiff'] = np.where(bbs_ll['PitchCall']=='StrikeSwinging',1,0)"
   ],
   "id": "176b1e6aec038349",
   "outputs": [
    {
     "name": "stderr",
     "output_type": "stream",
     "text": [
      "C:\\Users\\ethan\\AppData\\Local\\Temp\\ipykernel_30724\\2419019808.py:2: SettingWithCopyWarning: \n",
      "A value is trying to be set on a copy of a slice from a DataFrame.\n",
      "Try using .loc[row_indexer,col_indexer] = value instead\n",
      "\n",
      "See the caveats in the documentation: https://pandas.pydata.org/pandas-docs/stable/user_guide/indexing.html#returning-a-view-versus-a-copy\n",
      "  bbs_rr['whiff'] = np.where(bbs_rr['PitchCall']=='StrikeSwinging',1,0)\n",
      "C:\\Users\\ethan\\AppData\\Local\\Temp\\ipykernel_30724\\2419019808.py:3: SettingWithCopyWarning: \n",
      "A value is trying to be set on a copy of a slice from a DataFrame.\n",
      "Try using .loc[row_indexer,col_indexer] = value instead\n",
      "\n",
      "See the caveats in the documentation: https://pandas.pydata.org/pandas-docs/stable/user_guide/indexing.html#returning-a-view-versus-a-copy\n",
      "  bbs_rl['whiff'] = np.where(bbs_rl['PitchCall']=='StrikeSwinging',1,0)\n",
      "C:\\Users\\ethan\\AppData\\Local\\Temp\\ipykernel_30724\\2419019808.py:4: SettingWithCopyWarning: \n",
      "A value is trying to be set on a copy of a slice from a DataFrame.\n",
      "Try using .loc[row_indexer,col_indexer] = value instead\n",
      "\n",
      "See the caveats in the documentation: https://pandas.pydata.org/pandas-docs/stable/user_guide/indexing.html#returning-a-view-versus-a-copy\n",
      "  bbs_lr['whiff'] = np.where(bbs_lr['PitchCall']=='StrikeSwinging',1,0)\n",
      "C:\\Users\\ethan\\AppData\\Local\\Temp\\ipykernel_30724\\2419019808.py:5: SettingWithCopyWarning: \n",
      "A value is trying to be set on a copy of a slice from a DataFrame.\n",
      "Try using .loc[row_indexer,col_indexer] = value instead\n",
      "\n",
      "See the caveats in the documentation: https://pandas.pydata.org/pandas-docs/stable/user_guide/indexing.html#returning-a-view-versus-a-copy\n",
      "  bbs_ll['whiff'] = np.where(bbs_ll['PitchCall']=='StrikeSwinging',1,0)\n"
     ]
    }
   ],
   "execution_count": 7
  },
  {
   "metadata": {
    "ExecuteTime": {
     "end_time": "2024-10-07T18:28:51.538680Z",
     "start_time": "2024-10-07T18:28:51.527682Z"
    }
   },
   "cell_type": "code",
   "source": [
    "#Predictor Variables\n",
    "preds = ['RelSpeed','VertRelAngle','HorzRelAngle','SpinRate','SpinAxis','RelHeight','RelSide','Extension','VertBreak','InducedVertBreak','HorzBreak','ZoneSpeed','VertApprAngle','HorzApprAngle','ZoneTime','pfxx','pfxz','x0','y0','z0','vx0','vy0','vz0','ax0','ay0','az0','SpeedDrop','PitchTrajectoryXc1','PitchTrajectoryXc2','PitchTrajectoryYc0','PitchTrajectoryYc1','PitchTrajectoryYc2','PitchTrajectoryZc0','PitchTrajectoryZc1','PitchTrajectoryZc2']"
   ],
   "id": "652a5b55f69cd97b",
   "outputs": [],
   "execution_count": 8
  },
  {
   "metadata": {},
   "cell_type": "markdown",
   "source": [
    "Righty vs. Righty Split"
   ],
   "id": "1408078f8bb2eec3"
  },
  {
   "metadata": {
    "ExecuteTime": {
     "end_time": "2024-10-07T18:28:53.758336Z",
     "start_time": "2024-10-07T18:28:53.748007Z"
    }
   },
   "cell_type": "code",
   "source": [
    "bbs_rr_X = bbs_rr[preds]\n",
    "bbs_rr_y = bbs_rr['whiff']"
   ],
   "id": "871431c443042007",
   "outputs": [],
   "execution_count": 9
  },
  {
   "metadata": {
    "ExecuteTime": {
     "end_time": "2024-10-07T18:28:56.778957Z",
     "start_time": "2024-10-07T18:28:55.906395Z"
    }
   },
   "cell_type": "code",
   "source": [
    "#Train Model: RHP vs RHB\n",
    "X_train, X_test, y_train, y_test = train_test_split(bbs_rr_X, bbs_rr_y, test_size=.33, random_state=25)\n",
    "\n",
    "model = XGBClassifier()\n",
    "model.fit(X_train, y_train)\n",
    "\n",
    "y_pred = model.predict(X_test)\n",
    "predictions = [round(value) for value in y_pred]\n",
    "\n",
    "accuracy = accuracy_score(y_test, predictions)\n",
    "print(\"Accuracy: %.2f%%\" % (accuracy * 100.0))"
   ],
   "id": "b399141a16f40eda",
   "outputs": [
    {
     "name": "stdout",
     "output_type": "stream",
     "text": [
      "Accuracy: 84.28%\n"
     ]
    }
   ],
   "execution_count": 10
  },
  {
   "metadata": {
    "ExecuteTime": {
     "end_time": "2024-10-07T18:28:59.376805Z",
     "start_time": "2024-10-07T18:28:59.084735Z"
    }
   },
   "cell_type": "code",
   "source": [
    "y_pred_prob = model.predict_proba(X_test)[:,1]\n",
    "roc_auc = roc_auc_score(y_test, predictions, multi_class='ovr')\n",
    "\n",
    "print(f'ROC AUC: {roc_auc:.4f}')\n",
    "\n",
    "# Plotting ROC Curve for one class (e.g., class 0)\n",
    "fpr, tpr, _ = roc_curve(y_test == 1, y_pred_prob)\n",
    "plt.plot(fpr, tpr, label='Class 0 ROC curve')\n",
    "plt.xlabel('False Positive Rate')\n",
    "plt.ylabel('True Positive Rate')\n",
    "plt.title('ROC Curve')\n",
    "plt.legend(loc='best')\n",
    "plt.show()"
   ],
   "id": "82732c3d8b59f640",
   "outputs": [
    {
     "name": "stdout",
     "output_type": "stream",
     "text": [
      "ROC AUC: 0.5202\n"
     ]
    },
    {
     "data": {
      "text/plain": [
       "<Figure size 640x480 with 1 Axes>"
      ],
      "image/png": "[encoded data removed]"
     },
     "metadata": {},
     "output_type": "display_data"
    }
   ],
   "execution_count": 11
  },
  {
   "metadata": {
    "ExecuteTime": {
     "end_time": "2024-10-07T18:30:51.986687Z",
     "start_time": "2024-10-07T18:30:51.964173Z"
    }
   },
   "cell_type": "code",
   "source": [
    "aub_bbs_rr = bbs_rr[bbs_rr['PitcherTeam']=='AUB_TIG']\n",
    "print(aub_bbs_rr.shape)"
   ],
   "id": "4ecb58c7e35d1dba",
   "outputs": [
    {
     "name": "stdout",
     "output_type": "stream",
     "text": [
      "(1786, 168)\n"
     ]
    }
   ],
   "execution_count": 13
  },
  {
   "metadata": {
    "ExecuteTime": {
     "end_time": "2024-10-07T18:31:01.440585Z",
     "start_time": "2024-10-07T18:30:57.813161Z"
    }
   },
   "cell_type": "code",
   "source": [
    "# Get unique values\n",
    "unique_values = bbs_rr['Pitcher'].unique()\n",
    "aub_unique_values = aub_bbs_rr['Pitcher'].unique()\n",
    "\n",
    "#Print list of Auburn pitchers for selected split\n",
    "print(aub_unique_values)\n",
    "\n",
    "\n",
    "# Create a dictionary to store subsets\n",
    "subsets = {value: bbs_rr[bbs_rr['Pitcher'] == value] for value in unique_values}\n",
    "\n",
    "aub_subsets = {value: bbs_rr[bbs_rr['Pitcher'] == value] for value in aub_unique_values}"
   ],
   "id": "72c4678caf0fa804",
   "outputs": [
    {
     "name": "stdout",
     "output_type": "stream",
     "text": [
      "['Allsup, Chase' 'Armstrong, John' 'Gonzalez, Joseph' 'Isbell, Chase'\n",
      " 'Herberholz, Christian' 'Carlson, Parker' 'Horne, Trevor' 'Cannon, Will'\n",
      " 'Keshock, Cameron' 'Murphy, Hayden' 'Tilly, Cameron' 'McBride, Connor'\n",
      " 'Watts, Dylan' 'Petrovic, Alexander' 'Schorr, Ben']\n"
     ]
    }
   ],
   "execution_count": 14
  },
  {
   "metadata": {
    "ExecuteTime": {
     "end_time": "2024-10-07T18:36:00.917037Z",
     "start_time": "2024-10-07T18:36:00.906656Z"
    }
   },
   "cell_type": "code",
   "source": [
    "def aub_rr_bbs_stuff(name):\n",
    "    \n",
    "    preds = ['RelSpeed','VertRelAngle','HorzRelAngle','SpinRate','SpinAxis','RelHeight','RelSide','Extension','VertBreak','InducedVertBreak','HorzBreak','ZoneSpeed','VertApprAngle','HorzApprAngle','ZoneTime','pfxx','pfxz','x0','y0','z0','vx0','vy0','vz0','ax0','ay0','az0','SpeedDrop','PitchTrajectoryXc1','PitchTrajectoryXc2','PitchTrajectoryYc0','PitchTrajectoryYc1','PitchTrajectoryYc2','PitchTrajectoryZc0','PitchTrajectoryZc1','PitchTrajectoryZc2']\n",
    "    \n",
    "    all_preds = model.predict_proba(bbs_rr_X)[:,1]\n",
    "    mean_pred = np.mean(all_preds)\n",
    "\n",
    "    pitcher = aub_subsets[name]\n",
    "    pitcher_x = pitcher[preds]\n",
    "\n",
    "    whiff_preds = model.predict_proba(pitcher_x)[:,1]\n",
    "\n",
    "    stuff = whiff_preds/mean_pred\n",
    "    \n",
    "    print(f\"{name} slider rr stuff+: {np.mean(stuff * 100)}\")\n",
    "\n",
    "    \n"
   ],
   "id": "bb8604d0353bc442",
   "outputs": [],
   "execution_count": 25
  },
  {
   "metadata": {
    "ExecuteTime": {
     "end_time": "2024-10-07T18:36:03.388235Z",
     "start_time": "2024-10-07T18:36:02.759880Z"
    }
   },
   "cell_type": "code",
   "source": [
    "#Stuff+ for selected Auburn pitchers Slider in RHP v RHB split\n",
    "for pitcher in aub_unique_values:\n",
    "    aub_rr_bbs_stuff(pitcher)"
   ],
   "id": "542a5cf6690aa1ac",
   "outputs": [
    {
     "name": "stdout",
     "output_type": "stream",
     "text": [
      "Allsup, Chase slider rr stuff+: 102.43026733398438\n",
      "Armstrong, John slider rr stuff+: 94.26728057861328\n",
      "Gonzalez, Joseph slider rr stuff+: 79.44835662841797\n",
      "Isbell, Chase slider rr stuff+: 164.6420440673828\n",
      "Herberholz, Christian slider rr stuff+: 84.32929229736328\n",
      "Carlson, Parker slider rr stuff+: 75.06892395019531\n",
      "Horne, Trevor slider rr stuff+: 63.88495635986328\n",
      "Cannon, Will slider rr stuff+: 122.27600860595703\n",
      "Keshock, Cameron slider rr stuff+: 34.08131408691406\n",
      "Murphy, Hayden slider rr stuff+: 82.09925842285156\n",
      "Tilly, Cameron slider rr stuff+: 92.21161651611328\n",
      "McBride, Connor slider rr stuff+: 112.79237365722656\n",
      "Watts, Dylan slider rr stuff+: 77.86878967285156\n",
      "Petrovic, Alexander slider rr stuff+: 52.149986267089844\n",
      "Schorr, Ben slider rr stuff+: 199.0371551513672\n"
     ]
    }
   ],
   "execution_count": 26
  },
  {
   "metadata": {},
   "cell_type": "markdown",
   "source": [
    "Righty vs. Lefty Split"
   ],
   "id": "e4b41583ad21b926"
  },
  {
   "metadata": {
    "ExecuteTime": {
     "end_time": "2024-10-07T18:41:59.237350Z",
     "start_time": "2024-10-07T18:41:59.211590Z"
    }
   },
   "cell_type": "code",
   "source": [
    "bbs_rl_X = bbs_rl[preds]\n",
    "bbs_rl_y = bbs_rl['whiff']"
   ],
   "id": "19f99c89c5ead6bc",
   "outputs": [],
   "execution_count": 29
  },
  {
   "metadata": {
    "ExecuteTime": {
     "end_time": "2024-10-07T18:42:01.806216Z",
     "start_time": "2024-10-07T18:42:00.945249Z"
    }
   },
   "cell_type": "code",
   "source": [
    "#Train Model: RHP vs LHB\n",
    "X_train, X_test, y_train, y_test = train_test_split(bbs_rl_X, bbs_rl_y, test_size=.33, random_state=25)\n",
    "\n",
    "model = XGBClassifier()\n",
    "model.fit(X_train, y_train)\n",
    "\n",
    "y_pred = model.predict(X_test)\n",
    "predictions = [round(value) for value in y_pred]\n",
    "\n",
    "accuracy = accuracy_score(y_test, predictions)\n",
    "print(\"Accuracy: %.2f%%\" % (accuracy * 100.0))"
   ],
   "id": "f1b768a3c553595a",
   "outputs": [
    {
     "name": "stdout",
     "output_type": "stream",
     "text": [
      "Accuracy: 86.96%\n"
     ]
    }
   ],
   "execution_count": 30
  },
  {
   "metadata": {
    "ExecuteTime": {
     "end_time": "2024-10-07T18:42:04.467735Z",
     "start_time": "2024-10-07T18:42:04.444216Z"
    }
   },
   "cell_type": "code",
   "source": [
    "aub_bbs_rl = bbs_rl[bbs_rl['PitcherTeam']=='AUB_TIG']\n",
    "print(aub_bbs_rl.shape)"
   ],
   "id": "8d9b92507bd7665a",
   "outputs": [
    {
     "name": "stdout",
     "output_type": "stream",
     "text": [
      "(709, 168)\n"
     ]
    }
   ],
   "execution_count": 31
  },
  {
   "metadata": {
    "ExecuteTime": {
     "end_time": "2024-10-07T18:42:08.874463Z",
     "start_time": "2024-10-07T18:42:07.167819Z"
    }
   },
   "cell_type": "code",
   "source": [
    "# Get unique values\n",
    "unique_values = bbs_rl['Pitcher'].unique()\n",
    "aub_unique_values = aub_bbs_rl['Pitcher'].unique()\n",
    "\n",
    "#Print list of Auburn pitchers for selected split\n",
    "print(aub_unique_values)\n",
    "\n",
    "# Create a dictionary to store subsets\n",
    "subsets = {value: bbs_rl[bbs_rl['Pitcher'] == value] for value in unique_values}\n",
    "aub_subsets = {value: bbs_rl[bbs_rl['Pitcher'] == value] for value in aub_unique_values}"
   ],
   "id": "ae5c1587fa67e4d6",
   "outputs": [
    {
     "name": "stdout",
     "output_type": "stream",
     "text": [
      "['Allsup, Chase' 'Armstrong, John' 'Cannon, Will' 'Gonzalez, Joseph'\n",
      " 'Isbell, Chase' 'Carlson, Parker' 'Herberholz, Christian' 'Horne, Trevor'\n",
      " 'Murphy, Hayden' 'McBride, Connor' 'Watts, Dylan' 'Keshock, Cameron'\n",
      " 'Tilly, Cameron' 'Petrovic, Alexander' 'Schorr, Ben']\n"
     ]
    }
   ],
   "execution_count": 32
  },
  {
   "metadata": {
    "ExecuteTime": {
     "end_time": "2024-10-07T18:42:11.150101Z",
     "start_time": "2024-10-07T18:42:11.137588Z"
    }
   },
   "cell_type": "code",
   "source": [
    "def aub_rl_bbs_stuff(name):\n",
    "    \n",
    "    preds = ['RelSpeed','VertRelAngle','HorzRelAngle','SpinRate','SpinAxis','RelHeight','RelSide','Extension','VertBreak','InducedVertBreak','HorzBreak','ZoneSpeed','VertApprAngle','HorzApprAngle','ZoneTime','pfxx','pfxz','x0','y0','z0','vx0','vy0','vz0','ax0','ay0','az0','SpeedDrop','PitchTrajectoryXc1','PitchTrajectoryXc2','PitchTrajectoryYc0','PitchTrajectoryYc1','PitchTrajectoryYc2','PitchTrajectoryZc0','PitchTrajectoryZc1','PitchTrajectoryZc2']\n",
    "    \n",
    "    all_preds = model.predict_proba(bbs_rl_X)[:,1]\n",
    "    mean_pred = np.mean(all_preds)\n",
    "\n",
    "    pitcher = aub_subsets[name]\n",
    "    pitcher_x = pitcher[preds]\n",
    "\n",
    "    whiff_preds = model.predict_proba(pitcher_x)[:,1]\n",
    "\n",
    "    stuff = whiff_preds/mean_pred\n",
    "    \n",
    "    print(f\"{name} slider rl stuff+: {np.mean(stuff * 100)}\")\n"
   ],
   "id": "fd48236433a9df98",
   "outputs": [],
   "execution_count": 33
  },
  {
   "metadata": {
    "ExecuteTime": {
     "end_time": "2024-10-07T18:42:15.327227Z",
     "start_time": "2024-10-07T18:42:14.890908Z"
    }
   },
   "cell_type": "code",
   "source": [
    "#Stuff+ for selected Auburn pitchers Slider in RHP v LHB split\n",
    "for pitcher in aub_unique_values:\n",
    "    aub_rl_bbs_stuff(pitcher)"
   ],
   "id": "e42bf496ef70162d",
   "outputs": [
    {
     "name": "stdout",
     "output_type": "stream",
     "text": [
      "Allsup, Chase slider rl stuff+: 139.5819091796875\n",
      "Armstrong, John slider rl stuff+: 94.0444564819336\n",
      "Cannon, Will slider rl stuff+: 92.2946548461914\n",
      "Gonzalez, Joseph slider rl stuff+: 71.0603256225586\n",
      "Isbell, Chase slider rl stuff+: 133.53912353515625\n",
      "Carlson, Parker slider rl stuff+: 117.83186340332031\n",
      "Herberholz, Christian slider rl stuff+: 103.3445053100586\n",
      "Horne, Trevor slider rl stuff+: 119.78644561767578\n",
      "Murphy, Hayden slider rl stuff+: 4.621572017669678\n",
      "McBride, Connor slider rl stuff+: 78.33538055419922\n",
      "Watts, Dylan slider rl stuff+: 110.16651153564453\n",
      "Keshock, Cameron slider rl stuff+: 79.19733428955078\n",
      "Tilly, Cameron slider rl stuff+: 107.9838638305664\n",
      "Petrovic, Alexander slider rl stuff+: 68.45745086669922\n",
      "Schorr, Ben slider rl stuff+: 90.3016357421875\n"
     ]
    }
   ],
   "execution_count": 34
  },
  {
   "metadata": {},
   "cell_type": "markdown",
   "source": [
    "Lefty vs. Righty Split"
   ],
   "id": "8d46662b146125f1"
  },
  {
   "metadata": {
    "ExecuteTime": {
     "end_time": "2024-10-07T18:47:36.092135Z",
     "start_time": "2024-10-07T18:47:36.080648Z"
    }
   },
   "cell_type": "code",
   "source": [
    "bbs_lr_X = bbs_lr[preds]\n",
    "bbs_lr_y = bbs_lr['whiff']"
   ],
   "id": "739e078a9dd825bc",
   "outputs": [],
   "execution_count": 35
  },
  {
   "metadata": {
    "ExecuteTime": {
     "end_time": "2024-10-07T18:47:38.815407Z",
     "start_time": "2024-10-07T18:47:38.214810Z"
    }
   },
   "cell_type": "code",
   "source": [
    "#Train Model: LHP vs RHB\n",
    "X_train, X_test, y_train, y_test = train_test_split(bbs_lr_X, bbs_lr_y, test_size=.33, random_state=25)\n",
    "\n",
    "model = XGBClassifier()\n",
    "model.fit(X_train, y_train)\n",
    "\n",
    "y_pred = model.predict(X_test)\n",
    "predictions = [round(value) for value in y_pred]\n",
    "\n",
    "accuracy = accuracy_score(y_test, predictions)\n",
    "print(\"Accuracy: %.2f%%\" % (accuracy * 100.0))"
   ],
   "id": "c0169dc8b168fa02",
   "outputs": [
    {
     "name": "stdout",
     "output_type": "stream",
     "text": [
      "Accuracy: 83.85%\n"
     ]
    }
   ],
   "execution_count": 36
  },
  {
   "metadata": {
    "ExecuteTime": {
     "end_time": "2024-10-07T18:47:41.745242Z",
     "start_time": "2024-10-07T18:47:41.731399Z"
    }
   },
   "cell_type": "code",
   "source": [
    "aub_bbs_lr = bbs_lr[bbs_lr['PitcherTeam']=='AUB_TIG']\n",
    "print(aub_bbs_lr.shape)"
   ],
   "id": "dfddf465b267a31a",
   "outputs": [
    {
     "name": "stdout",
     "output_type": "stream",
     "text": [
      "(590, 168)\n"
     ]
    }
   ],
   "execution_count": 37
  },
  {
   "metadata": {
    "ExecuteTime": {
     "end_time": "2024-10-07T18:47:55.973791Z",
     "start_time": "2024-10-07T18:47:55.460919Z"
    }
   },
   "cell_type": "code",
   "source": [
    "# Get unique values\n",
    "unique_values = bbs_lr['Pitcher'].unique()\n",
    "aub_unique_values = aub_bbs_lr['Pitcher'].unique()\n",
    "\n",
    "\n",
    "#Print list of Auburn pitchers for selected split\n",
    "print(aub_unique_values)\n",
    "\n",
    "# Create a dictionary to store subsets\n",
    "subsets = {value: bbs_lr[bbs_lr['Pitcher'] == value] for value in unique_values}\n",
    "aub_subsets = {value: bbs_lr[bbs_lr['Pitcher'] == value] for value in aub_unique_values}\n"
   ],
   "id": "c62456d0ff865375",
   "outputs": [
    {
     "name": "stdout",
     "output_type": "stream",
     "text": [
      "['Bauman, Tanner' 'Vail, Tommy' 'Crotchfelt, Zach' 'Copeland, Konner'\n",
      " 'Nelson, Drew' 'Sheehan, Tommy' 'Myers, Carson' 'Graves, Griffin'\n",
      " 'Keplinger, Konner']\n"
     ]
    }
   ],
   "execution_count": 39
  },
  {
   "metadata": {
    "ExecuteTime": {
     "end_time": "2024-10-07T18:47:59.034009Z",
     "start_time": "2024-10-07T18:47:59.025060Z"
    }
   },
   "cell_type": "code",
   "source": [
    "def aub_lr_bbs_stuff(name):\n",
    "    \n",
    "    preds = ['RelSpeed','VertRelAngle','HorzRelAngle','SpinRate','SpinAxis','RelHeight','RelSide','Extension','VertBreak','InducedVertBreak','HorzBreak','ZoneSpeed','VertApprAngle','HorzApprAngle','ZoneTime','pfxx','pfxz','x0','y0','z0','vx0','vy0','vz0','ax0','ay0','az0','SpeedDrop','PitchTrajectoryXc1','PitchTrajectoryXc2','PitchTrajectoryYc0','PitchTrajectoryYc1','PitchTrajectoryYc2','PitchTrajectoryZc0','PitchTrajectoryZc1','PitchTrajectoryZc2']\n",
    "    \n",
    "    all_preds = model.predict_proba(bbs_lr_X)[:,1]\n",
    "    mean_pred = np.mean(all_preds)\n",
    "\n",
    "    pitcher = aub_subsets[name]\n",
    "    pitcher_x = pitcher[preds]\n",
    "\n",
    "    whiff_preds = model.predict_proba(pitcher_x)[:,1]\n",
    "\n",
    "    stuff = whiff_preds/mean_pred\n",
    "    \n",
    "    print(f\"{name} slider lr stuff+: {np.mean(stuff * 100)}\")\n"
   ],
   "id": "73fa6725112745b8",
   "outputs": [],
   "execution_count": 40
  },
  {
   "metadata": {
    "ExecuteTime": {
     "end_time": "2024-10-07T18:48:02.353975Z",
     "start_time": "2024-10-07T18:48:02.079492Z"
    }
   },
   "cell_type": "code",
   "source": [
    "#Stuff+ for selected Auburn pitchers Slider in LHP v RHB split\n",
    "for pitcher in aub_unique_values:\n",
    "    aub_lr_bbs_stuff(pitcher)"
   ],
   "id": "479f20291f528157",
   "outputs": [
    {
     "name": "stdout",
     "output_type": "stream",
     "text": [
      "Bauman, Tanner slider lr stuff+: 102.19255828857422\n",
      "Vail, Tommy slider lr stuff+: 66.79165649414062\n",
      "Crotchfelt, Zach slider lr stuff+: 62.21558380126953\n",
      "Copeland, Konner slider lr stuff+: 48.29532241821289\n",
      "Nelson, Drew slider lr stuff+: 11.15235424041748\n",
      "Sheehan, Tommy slider lr stuff+: 272.33587646484375\n",
      "Myers, Carson slider lr stuff+: 67.07564544677734\n",
      "Graves, Griffin slider lr stuff+: 102.34194946289062\n",
      "Keplinger, Konner slider lr stuff+: 7.867163181304932\n"
     ]
    }
   ],
   "execution_count": 41
  },
  {
   "metadata": {},
   "cell_type": "markdown",
   "source": [
    "Lefty vs. Lefty Split"
   ],
   "id": "543fc202e3d55fb1"
  },
  {
   "metadata": {
    "ExecuteTime": {
     "end_time": "2024-10-07T18:52:35.925831Z",
     "start_time": "2024-10-07T18:52:35.914244Z"
    }
   },
   "cell_type": "code",
   "source": [
    "bbs_ll_X = bbs_ll[preds]\n",
    "bbs_ll_y = bbs_ll['whiff']"
   ],
   "id": "e29ac57acaca3f52",
   "outputs": [],
   "execution_count": 42
  },
  {
   "metadata": {
    "ExecuteTime": {
     "end_time": "2024-10-07T18:52:38.027537Z",
     "start_time": "2024-10-07T18:52:37.434645Z"
    }
   },
   "cell_type": "code",
   "source": [
    "#Train Model: LHP vs LHB\n",
    "X_train, X_test, y_train, y_test = train_test_split(bbs_ll_X, bbs_ll_y, test_size=.33, random_state=25)\n",
    "\n",
    "model = XGBClassifier()\n",
    "model.fit(X_train, y_train)\n",
    "\n",
    "y_pred = model.predict(X_test)\n",
    "predictions = [round(value) for value in y_pred]\n",
    "\n",
    "accuracy = accuracy_score(y_test, predictions)\n",
    "print(\"Accuracy: %.2f%%\" % (accuracy * 100.0))"
   ],
   "id": "1a54744a336cf198",
   "outputs": [
    {
     "name": "stdout",
     "output_type": "stream",
     "text": [
      "Accuracy: 83.17%\n"
     ]
    }
   ],
   "execution_count": 43
  },
  {
   "metadata": {
    "ExecuteTime": {
     "end_time": "2024-10-07T18:52:40.219101Z",
     "start_time": "2024-10-07T18:52:40.206384Z"
    }
   },
   "cell_type": "code",
   "source": [
    "aub_bbs_ll = bbs_ll[bbs_ll['PitcherTeam']=='AUB_TIG']\n",
    "print(aub_bbs_ll.shape)"
   ],
   "id": "fada46d4f02a961f",
   "outputs": [
    {
     "name": "stdout",
     "output_type": "stream",
     "text": [
      "(592, 168)\n"
     ]
    }
   ],
   "execution_count": 44
  },
  {
   "metadata": {
    "ExecuteTime": {
     "end_time": "2024-10-07T18:52:43.467856Z",
     "start_time": "2024-10-07T18:52:42.564346Z"
    }
   },
   "cell_type": "code",
   "source": [
    "# Get unique values\n",
    "unique_values = bbs_ll['Pitcher'].unique()\n",
    "aub_unique_values = aub_bbs_ll['Pitcher'].unique()\n",
    "\n",
    "#Print list of Auburn pitchers for selected split\n",
    "print(aub_unique_values)\n",
    "\n",
    "# Create a dictionary to store subsets\n",
    "subsets = {value: bbs_ll[bbs_ll['Pitcher'] == value] for value in unique_values}\n",
    "aub_subsets = {value: bbs_ll[bbs_ll['Pitcher'] == value] for value in aub_unique_values}\n",
    "\n"
   ],
   "id": "31606207c427e10e",
   "outputs": [
    {
     "name": "stdout",
     "output_type": "stream",
     "text": [
      "['Bauman, Tanner' 'Sheehan, Tommy' 'Vail, Tommy' 'Crotchfelt, Zach'\n",
      " 'Copeland, Konner' 'Nelson, Drew' 'Myers, Carson' 'Graves, Griffin'\n",
      " 'Keplinger, Konner']\n"
     ]
    }
   ],
   "execution_count": 45
  },
  {
   "metadata": {
    "ExecuteTime": {
     "end_time": "2024-10-07T18:52:45.481727Z",
     "start_time": "2024-10-07T18:52:45.471727Z"
    }
   },
   "cell_type": "code",
   "source": [
    "def aub_ll_bbs_stuff(name):\n",
    "    \n",
    "    preds = ['RelSpeed','VertRelAngle','HorzRelAngle','SpinRate','SpinAxis','RelHeight','RelSide','Extension','VertBreak','InducedVertBreak','HorzBreak','ZoneSpeed','VertApprAngle','HorzApprAngle','ZoneTime','pfxx','pfxz','x0','y0','z0','vx0','vy0','vz0','ax0','ay0','az0','SpeedDrop','PitchTrajectoryXc1','PitchTrajectoryXc2','PitchTrajectoryYc0','PitchTrajectoryYc1','PitchTrajectoryYc2','PitchTrajectoryZc0','PitchTrajectoryZc1','PitchTrajectoryZc2']\n",
    "    \n",
    "    all_preds = model.predict_proba(bbs_ll_X)[:,1]\n",
    "    mean_pred = np.mean(all_preds)\n",
    "\n",
    "    pitcher = aub_subsets[name]\n",
    "    pitcher_x = pitcher[preds]\n",
    "\n",
    "    whiff_preds = model.predict_proba(pitcher_x)[:,1]\n",
    "\n",
    "    stuff = whiff_preds/mean_pred\n",
    "    \n",
    "    print(f\"{name} slider ll stuff+: {np.mean(stuff * 100)}\")\n"
   ],
   "id": "16c7df7fd769ae03",
   "outputs": [],
   "execution_count": 46
  },
  {
   "metadata": {
    "ExecuteTime": {
     "end_time": "2024-10-07T18:52:50.402473Z",
     "start_time": "2024-10-07T18:52:50.120709Z"
    }
   },
   "cell_type": "code",
   "source": [
    "#Stuff+ for selected Auburn pitchers Slider in LHP v LHB split\n",
    "for pitcher in aub_unique_values:\n",
    "    aub_ll_bbs_stuff(pitcher)"
   ],
   "id": "b72b21a282b9a2a3",
   "outputs": [
    {
     "name": "stdout",
     "output_type": "stream",
     "text": [
      "Bauman, Tanner slider ll stuff+: 81.21873474121094\n",
      "Sheehan, Tommy slider ll stuff+: 98.68891143798828\n",
      "Vail, Tommy slider ll stuff+: 56.72083282470703\n",
      "Crotchfelt, Zach slider ll stuff+: 57.95381164550781\n",
      "Copeland, Konner slider ll stuff+: 94.70841979980469\n",
      "Nelson, Drew slider ll stuff+: 38.75656509399414\n",
      "Myers, Carson slider ll stuff+: 76.60381317138672\n",
      "Graves, Griffin slider ll stuff+: 71.02580261230469\n",
      "Keplinger, Konner slider ll stuff+: 58.785728454589844\n"
     ]
    }
   ],
   "execution_count": 47
  }
 ],
 "metadata": {
  "kernelspec": {
   "display_name": "Python 3",
   "language": "python",
   "name": "python3"
  },
  "language_info": {
   "codemirror_mode": {
    "name": "ipython",
    "version": 2
   },
   "file_extension": ".py",
   "mimetype": "text/x-python",
   "name": "python",
   "nbconvert_exporter": "python",
   "pygments_lexer": "ipython2",
   "version": "2.7.6"
  }
 },
 "nbformat": 4,
 "nbformat_minor": 5
}
