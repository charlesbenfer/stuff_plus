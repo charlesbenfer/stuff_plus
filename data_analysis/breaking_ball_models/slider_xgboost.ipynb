{
 "cells": [
  {
   "cell_type": "code",
   "id": "initial_id",
   "metadata": {
    "collapsed": true
   },
   "source": [
    "#Packages\n",
    "import os\n",
    "import pandas as pd\n",
    "import numpy as np\n",
    "import xgboost\n",
    "from xgboost import XGBClassifier\n",
    "from sklearn.model_selection import train_test_split\n",
    "from sklearn.metrics import accuracy_score, confusion_matrix, precision_score, recall_score, f1_score, roc_auc_score, roc_curve\n",
    "from hyperopt import STATUS_OK, Trials, fmin, hp, tpe\n",
    "import matplotlib.pyplot as plt\n",
    "import seaborn as sns\n",
    "import shap"
   ],
   "outputs": [],
   "execution_count": null
  },
  {
   "metadata": {},
   "cell_type": "code",
   "source": [
    "#Get Data\n",
    "csv_dir = '../../SEC Trackman Data/'\n",
    "all_files = [os.path.join(csv_dir, f) for f in os.listdir(csv_dir) if f.endswith('.csv')]\n",
    "\n",
    "df_list = []\n",
    "\n",
    "for file in all_files:\n",
    "    df = pd.read_csv(file)\n",
    "    df_list.append(df)\n",
    "\n",
    "all_pitches = pd.concat(df_list, ignore_index=True)\n",
    "\n",
    "print(all_pitches.shape)\n",
    "print(all_pitches.columns)"
   ],
   "id": "7bc5833d2ab56cce",
   "outputs": [],
   "execution_count": null
  },
  {
   "metadata": {},
   "cell_type": "code",
   "source": [
    "#Get all sliders\n",
    "bbs = all_pitches[all_pitches['TaggedPitchType'].isin(['Slider'])]\n",
    "print(bbs.shape)"
   ],
   "id": "ddff7c4668e4b5bf",
   "outputs": [],
   "execution_count": null
  },
  {
   "metadata": {},
   "cell_type": "code",
   "source": [
    "#Whiffs\n",
    "bbs['whiff'] = np.where(bbs['PitchCall']=='StrikeSwinging',1,0)"
   ],
   "id": "9f3179ae4646b4e9",
   "outputs": [],
   "execution_count": null
  },
  {
   "metadata": {},
   "cell_type": "code",
   "source": "preds = ['RelSpeed','VertRelAngle','HorzRelAngle','SpinRate','SpinAxis','RelHeight','RelSide','Extension','VertBreak','InducedVertBreak','HorzBreak','ZoneSpeed','VertApprAngle','HorzApprAngle','ZoneTime','pfxx','pfxz','x0','y0','z0','vx0','vy0','vz0','ax0','ay0','az0','SpeedDrop','PitchTrajectoryXc1','PitchTrajectoryXc2','PitchTrajectoryYc0','PitchTrajectoryYc1','PitchTrajectoryYc2','PitchTrajectoryZc0','PitchTrajectoryZc1','PitchTrajectoryZc2']",
   "id": "908acbd5300d2078",
   "outputs": [],
   "execution_count": null
  },
  {
   "metadata": {},
   "cell_type": "code",
   "source": [
    "bbs_X = bbs[preds]\n",
    "bbs_y = bbs['whiff']"
   ],
   "id": "59280c8bbaf2d712",
   "outputs": [],
   "execution_count": null
  },
  {
   "metadata": {},
   "cell_type": "code",
   "source": [
    "#Train Model\n",
    "X_train, X_test, y_train, y_test = train_test_split(bbs_X, bbs_y, test_size=.33, random_state=25)\n",
    "\n",
    "model = XGBClassifier()\n",
    "model.fit(X_train, y_train)\n",
    "\n",
    "y_pred = model.predict(X_test)\n",
    "predictions = [round(value) for value in y_pred]\n",
    "\n",
    "accuracy = accuracy_score(y_test, predictions)\n",
    "print(\"Accuracy: %.2f%%\" % (accuracy * 100.0))"
   ],
   "id": "1f0f87b77c4c0c93",
   "outputs": [],
   "execution_count": null
  },
  {
   "metadata": {},
   "cell_type": "code",
   "source": [
    "#Auburn Subset\n",
    "aub_bbs = bbs[bbs['PitcherTeam']=='AUB_TIG']"
   ],
   "id": "9853cfc9dc06cdc8",
   "outputs": [],
   "execution_count": null
  },
  {
   "metadata": {},
   "cell_type": "code",
   "source": [
    "# Get unique values\n",
    "unique_values = bbs['Pitcher'].unique()\n",
    "aub_unique_values = aub_bbs['Pitcher'].unique()\n",
    "\n",
    "#Print list of Auburn pitchers for selected split\n",
    "print(aub_unique_values)\n",
    "\n",
    "# Create a dictionary to store subsets\n",
    "all_subsets = {value: bbs[bbs['Pitcher'] == value] for value in unique_values}\n",
    "\n",
    "aub_subsets = {value: bbs[bbs['Pitcher'] == value] for value in aub_unique_values}"
   ],
   "id": "276706033b8d6831",
   "outputs": [],
   "execution_count": null
  },
  {
   "metadata": {},
   "cell_type": "code",
   "source": [
    "def aub_bbs_stuff(name):\n",
    "    \n",
    "    preds = ['RelSpeed','VertRelAngle','HorzRelAngle','SpinRate','SpinAxis','RelHeight','RelSide','Extension','VertBreak','InducedVertBreak','HorzBreak','ZoneSpeed','VertApprAngle','HorzApprAngle','ZoneTime','pfxx','pfxz','x0','y0','z0','vx0','vy0','vz0','ax0','ay0','az0','SpeedDrop','PitchTrajectoryXc1','PitchTrajectoryXc2','PitchTrajectoryYc0','PitchTrajectoryYc1','PitchTrajectoryYc2','PitchTrajectoryZc0','PitchTrajectoryZc1','PitchTrajectoryZc2']\n",
    "    \n",
    "    all_preds = model.predict_proba(bbs_X)[:,1]\n",
    "    mean_pred = np.mean(all_preds)\n",
    "\n",
    "    pitcher = aub_subsets[name]\n",
    "    pitcher_x = pitcher[preds]\n",
    "\n",
    "    whiff_preds = model.predict_proba(pitcher_x)[:,1]\n",
    "\n",
    "    stuff = whiff_preds/mean_pred\n",
    "    \n",
    "    print(f\"{name} Slider stuff+: {np.mean(stuff * 100)}\")"
   ],
   "id": "88bef85624b2f8df",
   "outputs": [],
   "execution_count": null
  },
  {
   "metadata": {},
   "cell_type": "code",
   "source": [
    "#Stuff+ for selected Auburn pitchers Slider\n",
    "for pitcher in aub_unique_values:\n",
    "    aub_bbs_stuff(pitcher)"
   ],
   "id": "9c5eac5432c5ae65",
   "outputs": [],
   "execution_count": null
  },
  {
   "metadata": {},
   "cell_type": "markdown",
   "source": "Now, let's do splits",
   "id": "51bdc364d5a7a510"
  },
  {
   "metadata": {},
   "cell_type": "code",
   "source": [
    "#Subset sliders into platoon splits\n",
    "bbs_rr = bbs[(bbs['PitcherThrows'] == 'Right') & (bbs['BatterSide'] == 'Right')]\n",
    "bbs_rl = bbs[(bbs['PitcherThrows'] == 'Right') & (bbs['BatterSide'] == 'Left')]\n",
    "bbs_lr = bbs[(bbs['PitcherThrows'] == 'Left') & (bbs['BatterSide'] == 'Right')]\n",
    "bbs_ll = bbs[(bbs['PitcherThrows'] == 'Left') & (bbs['BatterSide'] == 'Left')]\n",
    "\n",
    "print(bbs_rr.shape)\n",
    "print(bbs_rl.shape)\n",
    "print(bbs_lr.shape)\n",
    "print(bbs_ll.shape)"
   ],
   "id": "edf7fda5035d3592",
   "outputs": [],
   "execution_count": null
  },
  {
   "metadata": {},
   "cell_type": "code",
   "source": [
    "#Whiffs\n",
    "bbs_rr['whiff'] = np.where(bbs_rr['PitchCall']=='StrikeSwinging',1,0)\n",
    "bbs_rl['whiff'] = np.where(bbs_rl['PitchCall']=='StrikeSwinging',1,0)\n",
    "bbs_lr['whiff'] = np.where(bbs_lr['PitchCall']=='StrikeSwinging',1,0)\n",
    "bbs_ll['whiff'] = np.where(bbs_ll['PitchCall']=='StrikeSwinging',1,0)"
   ],
   "id": "176b1e6aec038349",
   "outputs": [],
   "execution_count": null
  },
  {
   "metadata": {},
   "cell_type": "code",
   "source": [
    "#Predictor Variables\n",
    "preds = ['RelSpeed','VertRelAngle','HorzRelAngle','SpinRate','SpinAxis','RelHeight','RelSide','Extension','VertBreak','InducedVertBreak','HorzBreak','ZoneSpeed','VertApprAngle','HorzApprAngle','ZoneTime','pfxx','pfxz','x0','y0','z0','vx0','vy0','vz0','ax0','ay0','az0','SpeedDrop','PitchTrajectoryXc1','PitchTrajectoryXc2','PitchTrajectoryYc0','PitchTrajectoryYc1','PitchTrajectoryYc2','PitchTrajectoryZc0','PitchTrajectoryZc1','PitchTrajectoryZc2']"
   ],
   "id": "652a5b55f69cd97b",
   "outputs": [],
   "execution_count": null
  },
  {
   "metadata": {},
   "cell_type": "markdown",
   "source": [
    "Righty vs. Righty Split"
   ],
   "id": "1408078f8bb2eec3"
  },
  {
   "metadata": {},
   "cell_type": "code",
   "source": [
    "bbs_rr_X = bbs_rr[preds]\n",
    "bbs_rr_y = bbs_rr['whiff']"
   ],
   "id": "871431c443042007",
   "outputs": [],
   "execution_count": null
  },
  {
   "metadata": {},
   "cell_type": "code",
   "source": [
    "#Train Model: RHP vs RHB\n",
    "X_train, X_test, y_train, y_test = train_test_split(bbs_rr_X, bbs_rr_y, test_size=.33, random_state=25)\n",
    "\n",
    "model = XGBClassifier()\n",
    "model.fit(X_train, y_train)\n",
    "\n",
    "y_pred = model.predict(X_test)\n",
    "predictions = [round(value) for value in y_pred]\n",
    "\n",
    "accuracy = accuracy_score(y_test, predictions)\n",
    "print(\"Accuracy: %.2f%%\" % (accuracy * 100.0))"
   ],
   "id": "b399141a16f40eda",
   "outputs": [],
   "execution_count": null
  },
  {
   "metadata": {},
   "cell_type": "code",
   "source": [
    "y_pred_prob = model.predict_proba(X_test)[:,1]\n",
    "roc_auc = roc_auc_score(y_test, predictions, multi_class='ovr')\n",
    "\n",
    "print(f'ROC AUC: {roc_auc:.4f}')\n",
    "\n",
    "# Plotting ROC Curve for one class (e.g., class 0)\n",
    "fpr, tpr, _ = roc_curve(y_test == 1, y_pred_prob)\n",
    "plt.plot(fpr, tpr, label='Class 0 ROC curve')\n",
    "plt.xlabel('False Positive Rate')\n",
    "plt.ylabel('True Positive Rate')\n",
    "plt.title('ROC Curve')\n",
    "plt.legend(loc='best')\n",
    "plt.show()"
   ],
   "id": "82732c3d8b59f640",
   "outputs": [],
   "execution_count": null
  },
  {
   "metadata": {},
   "cell_type": "code",
   "source": [
    "#Auburn Subset\n",
    "aub_bbs_rr = bbs_rr[bbs_rr['PitcherTeam']=='AUB_TIG']\n",
    "print(aub_bbs_rr.shape)"
   ],
   "id": "4ecb58c7e35d1dba",
   "outputs": [],
   "execution_count": null
  },
  {
   "metadata": {},
   "cell_type": "code",
   "source": [
    "# Get unique values\n",
    "unique_values = bbs_rr['Pitcher'].unique()\n",
    "aub_unique_values = aub_bbs_rr['Pitcher'].unique()\n",
    "\n",
    "#Print list of Auburn pitchers for selected split\n",
    "print(aub_unique_values)\n",
    "\n",
    "\n",
    "# Create a dictionary to store subsets\n",
    "subsets = {value: bbs_rr[bbs_rr['Pitcher'] == value] for value in unique_values}\n",
    "\n",
    "aub_subsets = {value: bbs_rr[bbs_rr['Pitcher'] == value] for value in aub_unique_values}"
   ],
   "id": "72c4678caf0fa804",
   "outputs": [],
   "execution_count": null
  },
  {
   "metadata": {},
   "cell_type": "code",
   "source": [
    "def aub_rr_bbs_stuff(name):\n",
    "    \n",
    "    preds = ['RelSpeed','VertRelAngle','HorzRelAngle','SpinRate','SpinAxis','RelHeight','RelSide','Extension','VertBreak','InducedVertBreak','HorzBreak','ZoneSpeed','VertApprAngle','HorzApprAngle','ZoneTime','pfxx','pfxz','x0','y0','z0','vx0','vy0','vz0','ax0','ay0','az0','SpeedDrop','PitchTrajectoryXc1','PitchTrajectoryXc2','PitchTrajectoryYc0','PitchTrajectoryYc1','PitchTrajectoryYc2','PitchTrajectoryZc0','PitchTrajectoryZc1','PitchTrajectoryZc2']\n",
    "    \n",
    "    all_preds = model.predict_proba(bbs_rr_X)[:,1]\n",
    "    mean_pred = np.mean(all_preds)\n",
    "\n",
    "    pitcher = aub_subsets[name]\n",
    "    pitcher_x = pitcher[preds]\n",
    "\n",
    "    whiff_preds = model.predict_proba(pitcher_x)[:,1]\n",
    "\n",
    "    stuff = whiff_preds/mean_pred\n",
    "    \n",
    "    print(f\"{name} slider rr stuff+: {np.mean(stuff * 100)}\")\n",
    "\n",
    "    \n"
   ],
   "id": "bb8604d0353bc442",
   "outputs": [],
   "execution_count": null
  },
  {
   "metadata": {},
   "cell_type": "code",
   "source": [
    "#Stuff+ for selected Auburn pitchers Slider in RHP v RHB split\n",
    "for pitcher in aub_unique_values:\n",
    "    aub_rr_bbs_stuff(pitcher)"
   ],
   "id": "542a5cf6690aa1ac",
   "outputs": [],
   "execution_count": null
  },
  {
   "metadata": {},
   "cell_type": "markdown",
   "source": [
    "Righty vs. Lefty Split"
   ],
   "id": "e4b41583ad21b926"
  },
  {
   "metadata": {},
   "cell_type": "code",
   "source": [
    "bbs_rl_X = bbs_rl[preds]\n",
    "bbs_rl_y = bbs_rl['whiff']"
   ],
   "id": "19f99c89c5ead6bc",
   "outputs": [],
   "execution_count": null
  },
  {
   "metadata": {},
   "cell_type": "code",
   "source": [
    "#Train Model: RHP vs LHB\n",
    "X_train, X_test, y_train, y_test = train_test_split(bbs_rl_X, bbs_rl_y, test_size=.33, random_state=25)\n",
    "\n",
    "model = XGBClassifier()\n",
    "model.fit(X_train, y_train)\n",
    "\n",
    "y_pred = model.predict(X_test)\n",
    "predictions = [round(value) for value in y_pred]\n",
    "\n",
    "accuracy = accuracy_score(y_test, predictions)\n",
    "print(\"Accuracy: %.2f%%\" % (accuracy * 100.0))"
   ],
   "id": "f1b768a3c553595a",
   "outputs": [],
   "execution_count": null
  },
  {
   "metadata": {},
   "cell_type": "code",
   "source": [
    "#Auburn Subset\n",
    "aub_bbs_rl = bbs_rl[bbs_rl['PitcherTeam']=='AUB_TIG']\n",
    "print(aub_bbs_rl.shape)"
   ],
   "id": "8d9b92507bd7665a",
   "outputs": [],
   "execution_count": null
  },
  {
   "metadata": {},
   "cell_type": "code",
   "source": [
    "# Get unique values\n",
    "unique_values = bbs_rl['Pitcher'].unique()\n",
    "aub_unique_values = aub_bbs_rl['Pitcher'].unique()\n",
    "\n",
    "#Print list of Auburn pitchers for selected split\n",
    "print(aub_unique_values)\n",
    "\n",
    "# Create a dictionary to store subsets\n",
    "subsets = {value: bbs_rl[bbs_rl['Pitcher'] == value] for value in unique_values}\n",
    "aub_subsets = {value: bbs_rl[bbs_rl['Pitcher'] == value] for value in aub_unique_values}"
   ],
   "id": "ae5c1587fa67e4d6",
   "outputs": [],
   "execution_count": null
  },
  {
   "metadata": {},
   "cell_type": "code",
   "source": [
    "def aub_rl_bbs_stuff(name):\n",
    "    \n",
    "    preds = ['RelSpeed','VertRelAngle','HorzRelAngle','SpinRate','SpinAxis','RelHeight','RelSide','Extension','VertBreak','InducedVertBreak','HorzBreak','ZoneSpeed','VertApprAngle','HorzApprAngle','ZoneTime','pfxx','pfxz','x0','y0','z0','vx0','vy0','vz0','ax0','ay0','az0','SpeedDrop','PitchTrajectoryXc1','PitchTrajectoryXc2','PitchTrajectoryYc0','PitchTrajectoryYc1','PitchTrajectoryYc2','PitchTrajectoryZc0','PitchTrajectoryZc1','PitchTrajectoryZc2']\n",
    "    \n",
    "    all_preds = model.predict_proba(bbs_rl_X)[:,1]\n",
    "    mean_pred = np.mean(all_preds)\n",
    "\n",
    "    pitcher = aub_subsets[name]\n",
    "    pitcher_x = pitcher[preds]\n",
    "\n",
    "    whiff_preds = model.predict_proba(pitcher_x)[:,1]\n",
    "\n",
    "    stuff = whiff_preds/mean_pred\n",
    "    \n",
    "    print(f\"{name} slider rl stuff+: {np.mean(stuff * 100)}\")\n"
   ],
   "id": "fd48236433a9df98",
   "outputs": [],
   "execution_count": null
  },
  {
   "metadata": {},
   "cell_type": "code",
   "source": [
    "#Stuff+ for selected Auburn pitchers Slider in RHP v LHB split\n",
    "for pitcher in aub_unique_values:\n",
    "    aub_rl_bbs_stuff(pitcher)"
   ],
   "id": "e42bf496ef70162d",
   "outputs": [],
   "execution_count": null
  },
  {
   "metadata": {},
   "cell_type": "markdown",
   "source": [
    "Lefty vs. Righty Split"
   ],
   "id": "8d46662b146125f1"
  },
  {
   "metadata": {},
   "cell_type": "code",
   "source": [
    "bbs_lr_X = bbs_lr[preds]\n",
    "bbs_lr_y = bbs_lr['whiff']"
   ],
   "id": "739e078a9dd825bc",
   "outputs": [],
   "execution_count": null
  },
  {
   "metadata": {},
   "cell_type": "code",
   "source": [
    "#Train Model: LHP vs RHB\n",
    "X_train, X_test, y_train, y_test = train_test_split(bbs_lr_X, bbs_lr_y, test_size=.33, random_state=25)\n",
    "\n",
    "model = XGBClassifier()\n",
    "model.fit(X_train, y_train)\n",
    "\n",
    "y_pred = model.predict(X_test)\n",
    "predictions = [round(value) for value in y_pred]\n",
    "\n",
    "accuracy = accuracy_score(y_test, predictions)\n",
    "print(\"Accuracy: %.2f%%\" % (accuracy * 100.0))"
   ],
   "id": "c0169dc8b168fa02",
   "outputs": [],
   "execution_count": null
  },
  {
   "metadata": {},
   "cell_type": "code",
   "source": [
    "#Auburn Subset\n",
    "aub_bbs_lr = bbs_lr[bbs_lr['PitcherTeam']=='AUB_TIG']\n",
    "print(aub_bbs_lr.shape)"
   ],
   "id": "dfddf465b267a31a",
   "outputs": [],
   "execution_count": null
  },
  {
   "metadata": {},
   "cell_type": "code",
   "source": [
    "# Get unique values\n",
    "unique_values = bbs_lr['Pitcher'].unique()\n",
    "aub_unique_values = aub_bbs_lr['Pitcher'].unique()\n",
    "\n",
    "\n",
    "#Print list of Auburn pitchers for selected split\n",
    "print(aub_unique_values)\n",
    "\n",
    "# Create a dictionary to store subsets\n",
    "subsets = {value: bbs_lr[bbs_lr['Pitcher'] == value] for value in unique_values}\n",
    "aub_subsets = {value: bbs_lr[bbs_lr['Pitcher'] == value] for value in aub_unique_values}\n"
   ],
   "id": "c62456d0ff865375",
   "outputs": [],
   "execution_count": null
  },
  {
   "metadata": {},
   "cell_type": "code",
   "source": [
    "def aub_lr_bbs_stuff(name):\n",
    "    \n",
    "    preds = ['RelSpeed','VertRelAngle','HorzRelAngle','SpinRate','SpinAxis','RelHeight','RelSide','Extension','VertBreak','InducedVertBreak','HorzBreak','ZoneSpeed','VertApprAngle','HorzApprAngle','ZoneTime','pfxx','pfxz','x0','y0','z0','vx0','vy0','vz0','ax0','ay0','az0','SpeedDrop','PitchTrajectoryXc1','PitchTrajectoryXc2','PitchTrajectoryYc0','PitchTrajectoryYc1','PitchTrajectoryYc2','PitchTrajectoryZc0','PitchTrajectoryZc1','PitchTrajectoryZc2']\n",
    "    \n",
    "    all_preds = model.predict_proba(bbs_lr_X)[:,1]\n",
    "    mean_pred = np.mean(all_preds)\n",
    "\n",
    "    pitcher = aub_subsets[name]\n",
    "    pitcher_x = pitcher[preds]\n",
    "\n",
    "    whiff_preds = model.predict_proba(pitcher_x)[:,1]\n",
    "\n",
    "    stuff = whiff_preds/mean_pred\n",
    "    \n",
    "    print(f\"{name} slider lr stuff+: {np.mean(stuff * 100)}\")\n"
   ],
   "id": "73fa6725112745b8",
   "outputs": [],
   "execution_count": null
  },
  {
   "metadata": {},
   "cell_type": "code",
   "source": [
    "#Stuff+ for selected Auburn pitchers Slider in LHP v RHB split\n",
    "for pitcher in aub_unique_values:\n",
    "    aub_lr_bbs_stuff(pitcher)"
   ],
   "id": "479f20291f528157",
   "outputs": [],
   "execution_count": null
  },
  {
   "metadata": {},
   "cell_type": "markdown",
   "source": [
    "Lefty vs. Lefty Split"
   ],
   "id": "543fc202e3d55fb1"
  },
  {
   "metadata": {},
   "cell_type": "code",
   "source": [
    "bbs_ll_X = bbs_ll[preds]\n",
    "bbs_ll_y = bbs_ll['whiff']"
   ],
   "id": "e29ac57acaca3f52",
   "outputs": [],
   "execution_count": null
  },
  {
   "metadata": {},
   "cell_type": "code",
   "source": [
    "#Train Model: LHP vs LHB\n",
    "X_train, X_test, y_train, y_test = train_test_split(bbs_ll_X, bbs_ll_y, test_size=.33, random_state=25)\n",
    "\n",
    "model = XGBClassifier()\n",
    "model.fit(X_train, y_train)\n",
    "\n",
    "y_pred = model.predict(X_test)\n",
    "predictions = [round(value) for value in y_pred]\n",
    "\n",
    "accuracy = accuracy_score(y_test, predictions)\n",
    "print(\"Accuracy: %.2f%%\" % (accuracy * 100.0))"
   ],
   "id": "1a54744a336cf198",
   "outputs": [],
   "execution_count": null
  },
  {
   "metadata": {},
   "cell_type": "code",
   "source": [
    "#Auburn Subset\n",
    "aub_bbs_ll = bbs_ll[bbs_ll['PitcherTeam']=='AUB_TIG']\n",
    "print(aub_bbs_ll.shape)"
   ],
   "id": "fada46d4f02a961f",
   "outputs": [],
   "execution_count": null
  },
  {
   "metadata": {},
   "cell_type": "code",
   "source": [
    "# Get unique values\n",
    "unique_values = bbs_ll['Pitcher'].unique()\n",
    "aub_unique_values = aub_bbs_ll['Pitcher'].unique()\n",
    "\n",
    "#Print list of Auburn pitchers for selected split\n",
    "print(aub_unique_values)\n",
    "\n",
    "# Create a dictionary to store subsets\n",
    "subsets = {value: bbs_ll[bbs_ll['Pitcher'] == value] for value in unique_values}\n",
    "aub_subsets = {value: bbs_ll[bbs_ll['Pitcher'] == value] for value in aub_unique_values}\n",
    "\n"
   ],
   "id": "31606207c427e10e",
   "outputs": [],
   "execution_count": null
  },
  {
   "metadata": {},
   "cell_type": "code",
   "source": [
    "def aub_ll_bbs_stuff(name):\n",
    "    \n",
    "    preds = ['RelSpeed','VertRelAngle','HorzRelAngle','SpinRate','SpinAxis','RelHeight','RelSide','Extension','VertBreak','InducedVertBreak','HorzBreak','ZoneSpeed','VertApprAngle','HorzApprAngle','ZoneTime','pfxx','pfxz','x0','y0','z0','vx0','vy0','vz0','ax0','ay0','az0','SpeedDrop','PitchTrajectoryXc1','PitchTrajectoryXc2','PitchTrajectoryYc0','PitchTrajectoryYc1','PitchTrajectoryYc2','PitchTrajectoryZc0','PitchTrajectoryZc1','PitchTrajectoryZc2']\n",
    "    \n",
    "    all_preds = model.predict_proba(bbs_ll_X)[:,1]\n",
    "    mean_pred = np.mean(all_preds)\n",
    "\n",
    "    pitcher = aub_subsets[name]\n",
    "    pitcher_x = pitcher[preds]\n",
    "\n",
    "    whiff_preds = model.predict_proba(pitcher_x)[:,1]\n",
    "\n",
    "    stuff = whiff_preds/mean_pred\n",
    "    \n",
    "    print(f\"{name} slider ll stuff+: {np.mean(stuff * 100)}\")\n"
   ],
   "id": "16c7df7fd769ae03",
   "outputs": [],
   "execution_count": null
  },
  {
   "metadata": {},
   "cell_type": "code",
   "source": [
    "#Stuff+ for selected Auburn pitchers Slider in LHP v LHB split\n",
    "for pitcher in aub_unique_values:\n",
    "    aub_ll_bbs_stuff(pitcher)"
   ],
   "id": "b72b21a282b9a2a3",
   "outputs": [],
   "execution_count": null
  }
 ],
 "metadata": {
  "kernelspec": {
   "display_name": "Python 3",
   "language": "python",
   "name": "python3"
  },
  "language_info": {
   "codemirror_mode": {
    "name": "ipython",
    "version": 2
   },
   "file_extension": ".py",
   "mimetype": "text/x-python",
   "name": "python",
   "nbconvert_exporter": "python",
   "pygments_lexer": "ipython2",
   "version": "2.7.6"
  }
 },
 "nbformat": 4,
 "nbformat_minor": 5
}
