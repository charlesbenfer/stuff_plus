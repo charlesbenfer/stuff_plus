{
 "cells": [
  {
   "cell_type": "code",
   "id": "initial_id",
   "metadata": {
    "collapsed": true,
    "ExecuteTime": {
     "end_time": "2024-10-06T04:47:34.717687400Z",
     "start_time": "2024-10-06T04:47:34.685683Z"
    }
   },
   "source": [
    "#Packages\n",
    "import os\n",
    "import pandas as pd\n",
    "import numpy as np\n",
    "import xgboost\n",
    "from xgboost import XGBClassifier\n",
    "from sklearn.model_selection import train_test_split\n",
    "from sklearn.metrics import accuracy_score, confusion_matrix, precision_score, recall_score, f1_score, roc_auc_score, roc_curve\n",
    "from hyperopt import STATUS_OK, Trials, fmin, hp, tpe\n",
    "import matplotlib.pyplot as plt\n",
    "import seaborn as sns\n",
    "import shap"
   ],
   "outputs": [],
   "execution_count": 11
  },
  {
   "metadata": {
    "ExecuteTime": {
     "end_time": "2024-10-06T04:47:35.870620300Z",
     "start_time": "2024-10-06T04:47:35.813885500Z"
    }
   },
   "cell_type": "code",
   "source": [
    "#Get Data\n",
    "csv_dir = 'stuff_plus/SEC Trackman Data/'\n",
    "all_files = [os.path.join(csv_dir, f) for f in os.listdir(csv_dir) if f.endswith('.csv')]\n",
    "\n",
    "df_list = []\n",
    "\n",
    "for file in all_files:\n",
    "    df = pd.read_csv(file)\n",
    "    df_list.append(df)\n",
    "\n",
    "all_pitches = pd.concat(df_list, ignore_index=True)\n",
    "\n",
    "print(all_pitches.shape)\n",
    "print(all_pitches.columns)"
   ],
   "id": "7bc5833d2ab56cce",
   "outputs": [
    {
     "ename": "FileNotFoundError",
     "evalue": "[WinError 3] The system cannot find the path specified: 'stuff_plus/SEC Trackman Data/'",
     "output_type": "error",
     "traceback": [
      "\u001B[1;31m---------------------------------------------------------------------------\u001B[0m",
      "\u001B[1;31mFileNotFoundError\u001B[0m                         Traceback (most recent call last)",
      "Cell \u001B[1;32mIn[12], line 3\u001B[0m\n\u001B[0;32m      1\u001B[0m \u001B[38;5;66;03m#Get Data\u001B[39;00m\n\u001B[0;32m      2\u001B[0m csv_dir \u001B[38;5;241m=\u001B[39m \u001B[38;5;124m'\u001B[39m\u001B[38;5;124mstuff_plus/SEC Trackman Data/\u001B[39m\u001B[38;5;124m'\u001B[39m\n\u001B[1;32m----> 3\u001B[0m all_files \u001B[38;5;241m=\u001B[39m [os\u001B[38;5;241m.\u001B[39mpath\u001B[38;5;241m.\u001B[39mjoin(csv_dir, f) \u001B[38;5;28;01mfor\u001B[39;00m f \u001B[38;5;129;01min\u001B[39;00m os\u001B[38;5;241m.\u001B[39mlistdir(csv_dir) \u001B[38;5;28;01mif\u001B[39;00m f\u001B[38;5;241m.\u001B[39mendswith(\u001B[38;5;124m'\u001B[39m\u001B[38;5;124m.csv\u001B[39m\u001B[38;5;124m'\u001B[39m)]\n\u001B[0;32m      5\u001B[0m df_list \u001B[38;5;241m=\u001B[39m []\n\u001B[0;32m      7\u001B[0m \u001B[38;5;28;01mfor\u001B[39;00m file \u001B[38;5;129;01min\u001B[39;00m all_files:\n",
      "\u001B[1;31mFileNotFoundError\u001B[0m: [WinError 3] The system cannot find the path specified: 'stuff_plus/SEC Trackman Data/'"
     ]
    }
   ],
   "execution_count": 12
  },
  {
   "metadata": {
    "ExecuteTime": {
     "end_time": "2024-10-06T04:44:38.833275400Z",
     "start_time": "2024-10-06T04:44:38.809921400Z"
    }
   },
   "cell_type": "code",
   "source": [
    "#Get all sliders\n",
    "bbs = all_pitches[all_pitches['TaggedPitchType'].isin(['Slider'])]\n",
    "print(bbs.shape)"
   ],
   "id": "ddff7c4668e4b5bf",
   "outputs": [],
   "execution_count": null
  },
  {
   "metadata": {
    "ExecuteTime": {
     "start_time": "2024-10-06T04:44:38.817435200Z"
    }
   },
   "cell_type": "code",
   "source": [
    "#Subset sliders into platoon splits\n",
    "bbs_rr = bbs[(bbs['PitcherThrows'] == 'Right') & (bbs['BatterSide'] == 'Right')]\n",
    "bbs_rl = bbs[(bbs['PitcherThrows'] == 'Right') & (bbs['BatterSide'] == 'Left')]\n",
    "bbs_lr = bbs[(bbs['PitcherThrows'] == 'Left') & (bbs['BatterSide'] == 'Right')]\n",
    "bbs_ll = bbs[(bbs['PitcherThrows'] == 'Left') & (bbs['BatterSide'] == 'Left')]\n",
    "\n",
    "print(bbs_rr.shape)\n",
    "print(bbs_rl.shape)\n",
    "print(bbs_lr.shape)\n",
    "print(bbs_ll.shape)"
   ],
   "id": "edf7fda5035d3592",
   "outputs": [],
   "execution_count": null
  },
  {
   "metadata": {
    "ExecuteTime": {
     "start_time": "2024-10-06T04:44:38.826256500Z"
    }
   },
   "cell_type": "code",
   "source": [
    "#Whiffs\n",
    "bbs_rr['whiff'] = np.where(bbs_rr['PitchCall']=='StrikeSwinging',1,0)\n",
    "bbs_rl['whiff'] = np.where(bbs_rl['PitchCall']=='StrikeSwinging',1,0)\n",
    "bbs_lr['whiff'] = np.where(bbs_lr['PitchCall']=='StrikeSwinging',1,0)\n",
    "bbs_ll['whiff'] = np.where(bbs_ll['PitchCall']=='StrikeSwinging',1,0)"
   ],
   "id": "176b1e6aec038349",
   "outputs": [],
   "execution_count": null
  },
  {
   "metadata": {
    "ExecuteTime": {
     "end_time": "2024-10-06T04:44:39.372199200Z",
     "start_time": "2024-10-06T04:44:39.340600600Z"
    }
   },
   "cell_type": "code",
   "source": [
    "#Predictor Variables\n",
    "preds = ['RelSpeed','VertRelAngle','HorzRelAngle','SpinRate','SpinAxis','RelHeight','RelSide','Extension','VertBreak','InducedVertBreak','HorzBreak','ZoneSpeed','VertApprAngle','HorzApprAngle','ZoneTime','pfxx','pfxz','x0','y0','z0','vx0','vy0','vz0','ax0','ay0','az0','SpeedDrop','PitchTrajectoryXc1','PitchTrajectoryXc2','PitchTrajectoryYc0','PitchTrajectoryYc1','PitchTrajectoryYc2','PitchTrajectoryZc0','PitchTrajectoryZc1','PitchTrajectoryZc2']"
   ],
   "id": "652a5b55f69cd97b",
   "outputs": [],
   "execution_count": 3
  },
  {
   "metadata": {},
   "cell_type": "markdown",
   "source": [
    "Righty vs. Righty Split"
   ],
   "id": "1408078f8bb2eec3"
  },
  {
   "metadata": {
    "ExecuteTime": {
     "end_time": "2024-10-06T04:45:07.788106300Z",
     "start_time": "2024-10-06T04:45:07.661395400Z"
    }
   },
   "cell_type": "code",
   "source": [
    "bbs_rr_X = bbs_rr[preds]\n",
    "bbs_rr_y = bbs_rr['whiff']"
   ],
   "id": "871431c443042007",
   "outputs": [
    {
     "ename": "NameError",
     "evalue": "name 'bbs_rr' is not defined",
     "output_type": "error",
     "traceback": [
      "\u001B[1;31m---------------------------------------------------------------------------\u001B[0m",
      "\u001B[1;31mNameError\u001B[0m                                 Traceback (most recent call last)",
      "Cell \u001B[1;32mIn[4], line 1\u001B[0m\n\u001B[1;32m----> 1\u001B[0m bbs_rr_X \u001B[38;5;241m=\u001B[39m bbs_rr[preds]\n\u001B[0;32m      2\u001B[0m bbs_rr_y \u001B[38;5;241m=\u001B[39m bbs_rr[\u001B[38;5;124m'\u001B[39m\u001B[38;5;124mwhiff\u001B[39m\u001B[38;5;124m'\u001B[39m]\n",
      "\u001B[1;31mNameError\u001B[0m: name 'bbs_rr' is not defined"
     ]
    }
   ],
   "execution_count": 4
  },
  {
   "metadata": {
    "ExecuteTime": {
     "end_time": "2024-10-04T23:07:54.598184Z",
     "start_time": "2024-10-04T23:07:54.077720Z"
    }
   },
   "cell_type": "code",
   "source": [
    "#Train Model: RHP vs RHB\n",
    "X_train, X_test, y_train, y_test = train_test_split(bbs_rr_X, bbs_rr_y, test_size=.33, random_state=25)\n",
    "\n",
    "model = XGBClassifier()\n",
    "model.fit(X_train, y_train)\n",
    "\n",
    "y_pred = model.predict(X_test)\n",
    "predictions = [round(value) for value in y_pred]\n",
    "\n",
    "accuracy = accuracy_score(y_test, predictions)\n",
    "print(\"Accuracy: %.2f%%\" % (accuracy * 100.0))"
   ],
   "id": "b399141a16f40eda",
   "outputs": [
    {
     "name": "stdout",
     "output_type": "stream",
     "text": [
      "Accuracy: 84.28%\n"
     ]
    }
   ],
   "execution_count": 9
  },
  {
   "metadata": {
    "ExecuteTime": {
     "end_time": "2024-10-04T23:08:11.813219Z",
     "start_time": "2024-10-04T23:08:11.584149Z"
    }
   },
   "cell_type": "code",
   "source": [
    "y_pred_prob = model.predict_proba(X_test)[:,1]\n",
    "roc_auc = roc_auc_score(y_test, predictions, multi_class='ovr')\n",
    "\n",
    "print(f'ROC AUC: {roc_auc:.4f}')\n",
    "\n",
    "# Plotting ROC Curve for one class (e.g., class 0)\n",
    "fpr, tpr, _ = roc_curve(y_test == 1, y_pred_prob)\n",
    "plt.plot(fpr, tpr, label='Class 0 ROC curve')\n",
    "plt.xlabel('False Positive Rate')\n",
    "plt.ylabel('True Positive Rate')\n",
    "plt.title('ROC Curve')\n",
    "plt.legend(loc='best')\n",
    "plt.show()"
   ],
   "id": "82732c3d8b59f640",
   "outputs": [
    {
     "name": "stdout",
     "output_type": "stream",
     "text": [
      "ROC AUC: 0.5202\n"
     ]
    },
    {
     "data": {
      "text/plain": [
       "<Figure size 640x480 with 1 Axes>"
      ],
      "image/png": "[encoded data removed]"
     },
     "metadata": {},
     "output_type": "display_data"
    }
   ],
   "execution_count": 10
  },
  {
   "metadata": {
    "ExecuteTime": {
     "end_time": "2024-10-04T23:09:01.511296Z",
     "start_time": "2024-10-04T23:08:58.975256Z"
    }
   },
   "cell_type": "code",
   "source": [
    "# Get unique values\n",
    "unique_values = bbs_rr['Pitcher'].unique()\n",
    "\n",
    "\n",
    "#List of Pitchers that threw splitter, as well as amount\n",
    "print(unique_values, len(unique_values))\n",
    "\n",
    "# Create a dictionary to store subsets\n",
    "subsets = {value: bbs_rr[bbs_rr['Pitcher'] == value] for value in unique_values}"
   ],
   "id": "72c4678caf0fa804",
   "outputs": [
    {
     "name": "stdout",
     "output_type": "stream",
     "text": [
      "['Dettmer, Nathan' 'Tidwell, Blade' 'Magers, Alex' ... 'Causey, A.J.'\n",
      " \"O'Brien Cameron\" 'Marlatt, Parker'] 1317\n"
     ]
    }
   ],
   "execution_count": 11
  },
  {
   "metadata": {
    "ExecuteTime": {
     "end_time": "2024-10-04T23:09:37.797941Z",
     "start_time": "2024-10-04T23:09:37.786540Z"
    }
   },
   "cell_type": "code",
   "source": [
    "def rr_bbs_stuff(name):\n",
    "    \n",
    "    preds = ['RelSpeed','VertRelAngle','HorzRelAngle','SpinRate','SpinAxis','RelHeight','RelSide','Extension','VertBreak','InducedVertBreak','HorzBreak','ZoneSpeed','VertApprAngle','HorzApprAngle','ZoneTime','pfxx','pfxz','x0','y0','z0','vx0','vy0','vz0','ax0','ay0','az0','SpeedDrop','PitchTrajectoryXc1','PitchTrajectoryXc2','PitchTrajectoryYc0','PitchTrajectoryYc1','PitchTrajectoryYc2','PitchTrajectoryZc0','PitchTrajectoryZc1','PitchTrajectoryZc2']\n",
    "    \n",
    "    all_preds = model.predict_proba(bbs_rr_X)[:,1]\n",
    "    mean_pred = np.mean(all_preds)\n",
    "\n",
    "    pitcher = subsets[name]\n",
    "    pitcher_x = pitcher[preds]\n",
    "\n",
    "    whiff_preds = model.predict_proba(pitcher_x)[:,1]\n",
    "\n",
    "    stuff = whiff_preds/mean_pred\n",
    "    \n",
    "    return np.mean(stuff * 100)\n",
    "\n",
    "    \n"
   ],
   "id": "bb8604d0353bc442",
   "outputs": [],
   "execution_count": 12
  },
  {
   "metadata": {
    "ExecuteTime": {
     "end_time": "2024-10-04T23:10:03.930582Z",
     "start_time": "2024-10-04T23:10:03.881493Z"
    }
   },
   "cell_type": "code",
   "source": [
    "#Stuff+ for selected pitchers Slider in RHP v RHB split\n",
    "rr_bbs_stuff('Tilly, Cameron')"
   ],
   "id": "542a5cf6690aa1ac",
   "outputs": [
    {
     "data": {
      "text/plain": [
       "92.21162"
      ]
     },
     "execution_count": 13,
     "metadata": {},
     "output_type": "execute_result"
    }
   ],
   "execution_count": 13
  },
  {
   "metadata": {},
   "cell_type": "markdown",
   "source": [
    "Righty vs. Lefty Split"
   ],
   "id": "e4b41583ad21b926"
  },
  {
   "metadata": {
    "ExecuteTime": {
     "end_time": "2024-10-04T23:11:18.462714Z",
     "start_time": "2024-10-04T23:11:18.454374Z"
    }
   },
   "cell_type": "code",
   "source": [
    "bbs_rl_X = bbs_rl[preds]\n",
    "bbs_rl_y = bbs_rl['whiff']"
   ],
   "id": "19f99c89c5ead6bc",
   "outputs": [],
   "execution_count": 15
  },
  {
   "metadata": {
    "ExecuteTime": {
     "end_time": "2024-10-04T23:11:37.756588Z",
     "start_time": "2024-10-04T23:11:37.474767Z"
    }
   },
   "cell_type": "code",
   "source": [
    "#Train Model: RHP vs LHB\n",
    "X_train, X_test, y_train, y_test = train_test_split(bbs_rl_X, bbs_rl_y, test_size=.33, random_state=25)\n",
    "\n",
    "model = XGBClassifier()\n",
    "model.fit(X_train, y_train)\n",
    "\n",
    "y_pred = model.predict(X_test)\n",
    "predictions = [round(value) for value in y_pred]\n",
    "\n",
    "accuracy = accuracy_score(y_test, predictions)\n",
    "print(\"Accuracy: %.2f%%\" % (accuracy * 100.0))"
   ],
   "id": "f1b768a3c553595a",
   "outputs": [
    {
     "name": "stdout",
     "output_type": "stream",
     "text": [
      "Accuracy: 86.96%\n"
     ]
    }
   ],
   "execution_count": 16
  },
  {
   "metadata": {
    "ExecuteTime": {
     "end_time": "2024-10-04T23:12:02.949609Z",
     "start_time": "2024-10-04T23:12:01.717790Z"
    }
   },
   "cell_type": "code",
   "source": [
    "# Get unique values\n",
    "unique_values = bbs_rl['Pitcher'].unique()\n",
    "\n",
    "#List of Pitchers that threw splitter, as well as amount\n",
    "print(unique_values, len(unique_values))\n",
    "\n",
    "# Create a dictionary to store subsets\n",
    "subsets = {value: bbs_rl[bbs_rl['Pitcher'] == value] for value in unique_values}"
   ],
   "id": "ae5c1587fa67e4d6",
   "outputs": [
    {
     "name": "stdout",
     "output_type": "stream",
     "text": [
      "['Dettmer, Nathan' 'Hunley, Sean' 'Werner, Trevor' ... \"O'Brien Cameron\"\n",
      " 'Dossett, Cooper' 'Bybee, Ben'] 1014\n"
     ]
    }
   ],
   "execution_count": 17
  },
  {
   "metadata": {
    "ExecuteTime": {
     "end_time": "2024-10-04T23:12:29.470093Z",
     "start_time": "2024-10-04T23:12:29.457559Z"
    }
   },
   "cell_type": "code",
   "source": [
    "def rl_bbs_stuff(name):\n",
    "    \n",
    "    preds = ['RelSpeed','VertRelAngle','HorzRelAngle','SpinRate','SpinAxis','RelHeight','RelSide','Extension','VertBreak','InducedVertBreak','HorzBreak','ZoneSpeed','VertApprAngle','HorzApprAngle','ZoneTime','pfxx','pfxz','x0','y0','z0','vx0','vy0','vz0','ax0','ay0','az0','SpeedDrop','PitchTrajectoryXc1','PitchTrajectoryXc2','PitchTrajectoryYc0','PitchTrajectoryYc1','PitchTrajectoryYc2','PitchTrajectoryZc0','PitchTrajectoryZc1','PitchTrajectoryZc2']\n",
    "    \n",
    "    all_preds = model.predict_proba(bbs_rl_X)[:,1]\n",
    "    mean_pred = np.mean(all_preds)\n",
    "\n",
    "    pitcher = subsets[name]\n",
    "    pitcher_x = pitcher[preds]\n",
    "\n",
    "    whiff_preds = model.predict_proba(pitcher_x)[:,1]\n",
    "\n",
    "    stuff = whiff_preds/mean_pred\n",
    "    \n",
    "    return np.mean(stuff * 100)\n"
   ],
   "id": "fd48236433a9df98",
   "outputs": [],
   "execution_count": 18
  },
  {
   "metadata": {
    "ExecuteTime": {
     "end_time": "2024-10-04T23:12:51.086526Z",
     "start_time": "2024-10-04T23:12:51.054404Z"
    }
   },
   "cell_type": "code",
   "source": [
    "#Stuff+ for selected pitchers Slider in RHP v LHB split\n",
    "rl_bbs_stuff('Tilly, Cameron')"
   ],
   "id": "e42bf496ef70162d",
   "outputs": [
    {
     "data": {
      "text/plain": [
       "107.983864"
      ]
     },
     "execution_count": 19,
     "metadata": {},
     "output_type": "execute_result"
    }
   ],
   "execution_count": 19
  },
  {
   "metadata": {},
   "cell_type": "markdown",
   "source": [
    "Lefty vs. Righty Split"
   ],
   "id": "8d46662b146125f1"
  },
  {
   "metadata": {
    "ExecuteTime": {
     "end_time": "2024-10-04T23:13:21.640498Z",
     "start_time": "2024-10-04T23:13:21.633900Z"
    }
   },
   "cell_type": "code",
   "source": [
    "bbs_lr_X = bbs_lr[preds]\n",
    "bbs_lr_y = bbs_lr['whiff']"
   ],
   "id": "739e078a9dd825bc",
   "outputs": [],
   "execution_count": 20
  },
  {
   "metadata": {
    "ExecuteTime": {
     "end_time": "2024-10-04T23:13:54.301846Z",
     "start_time": "2024-10-04T23:13:54.016784Z"
    }
   },
   "cell_type": "code",
   "source": [
    "#Train Model: LHP vs RHB\n",
    "X_train, X_test, y_train, y_test = train_test_split(bbs_lr_X, bbs_lr_y, test_size=.33, random_state=25)\n",
    "\n",
    "model = XGBClassifier()\n",
    "model.fit(X_train, y_train)\n",
    "\n",
    "y_pred = model.predict(X_test)\n",
    "predictions = [round(value) for value in y_pred]\n",
    "\n",
    "accuracy = accuracy_score(y_test, predictions)\n",
    "print(\"Accuracy: %.2f%%\" % (accuracy * 100.0))"
   ],
   "id": "c0169dc8b168fa02",
   "outputs": [
    {
     "name": "stdout",
     "output_type": "stream",
     "text": [
      "Accuracy: 83.85%\n"
     ]
    }
   ],
   "execution_count": 21
  },
  {
   "metadata": {
    "ExecuteTime": {
     "end_time": "2024-10-04T23:14:20.558375Z",
     "start_time": "2024-10-04T23:14:20.217980Z"
    }
   },
   "cell_type": "code",
   "source": [
    "# Get unique values\n",
    "unique_values = bbs_lr['Pitcher'].unique()\n",
    "\n",
    "#List of Pitchers that threw splitter, as well as amount\n",
    "print(unique_values, len(unique_values))\n",
    "\n",
    "# Create a dictionary to store subsets\n",
    "subsets = {value: bbs_lr[bbs_lr['Pitcher'] == value] for value in unique_values}\n"
   ],
   "id": "c62456d0ff865375",
   "outputs": [
    {
     "name": "stdout",
     "output_type": "stream",
     "text": [
      "['Menefee, Joseph' 'Walsh, Redmond' 'Wall, Chris' 'Robertson, Trae'\n",
      " 'LaCalameto, Kyle' 'Prayer, Cameron' 'Johnston, Will' 'Holguin, Al'\n",
      " 'Gilreath, John' 'Rokose, Davis' 'Sullivan, Liam' 'Woods, Jaden'\n",
      " 'Lohse, Ian' 'Sipe, Hunter' 'Atiya, Eli' 'Elliott, Hunter'\n",
      " 'Dillard, Matt' 'Hanson, Sam' 'Seiler, Ben' 'Bauman, Tanner'\n",
      " 'Hitt, Grayson' 'Goldstein, Charlie' 'Wagner, Luke' 'Keevan, LJ'\n",
      " 'Armbrustmacher, Dane' 'Cooper, Riley' 'Ackenhausen, Nathan'\n",
      " 'Davis, Tyler' 'Welch, Carter' 'Kimbrell, Jackson' 'Wansing, Troy'\n",
      " 'Dayton, Cameron' 'Vail, Tommy' 'Clifton, Harrison' 'Davis, Alton'\n",
      " 'Sibley, Joshua' 'Wheeler, Trey' 'Lopez, Will' 'Rivas, Xavier'\n",
      " 'Grome, Chris' 'Hogan, Kian' 'Sdao, Shane' 'Crotchfelt, Zach'\n",
      " 'Kraft, Ryan' 'Baker, Will' 'Morris, Zack' 'Bates, Ethan' 'Huff, Hollis'\n",
      " 'Loftin, Bradley' 'Waterhouse, Quinn' 'Leger, Jake' 'Walter, Daniel'\n",
      " 'Whittle, Parker' 'White, Aaron' 'Windham, Payton' 'Campbell, Tyler'\n",
      " 'Corley, Brandt' 'Roberts, Tanner' 'Sewell, JC' 'Knight, Carson'\n",
      " 'Ginther, Ryan' 'Smith, Hagen' 'Potteiger, Jack' 'Majick, Eli'\n",
      " 'Tapper, Brock' 'Garcia, Samuel' 'Rabin, Reece' 'Hoefer, Eric'\n",
      " 'Holton, Carter' 'Saum, Jake' 'Manfredi, Mark' 'McCoy, Kyle'\n",
      " 'Garcia, Brandyn' 'Wozniak, Brett' 'Chmielewski, Tom' 'Caldwell, Collin'\n",
      " 'Bosma, Tyler' 'Luikart, Jay' 'Shoemaker, David' 'Hollan, Hunter'\n",
      " 'Connell, Kirby' 'Kane, Thomas' 'Rembisz, Ryan' 'Aschenbeck, Evan'\n",
      " 'Scannell, Matt' 'Theis, Alex' 'Peters, Garrett' 'Cotto, Magdiel'\n",
      " 'Valentine, Joe' 'Futrell, Devin' 'Massey, Sam' 'Ewald, Tim'\n",
      " 'Furtado, Hunter' 'Smith, Nic' 'Nove, Jackson' 'Byers, Evan'\n",
      " 'Carter, Daniel' 'Mullan, Bradley' 'Niman, Dominic' 'Bosecker, Cory'\n",
      " 'Spizzoucco, Vincent' 'Graverson, Cole' 'Davis, Colin' 'Herring, Griffin'\n",
      " 'Whiteside, Ben' 'Dunkelberger, Michael' 'Reyes, Randy'\n",
      " 'Van Treeck, Logan' 'Copeland, Konner' 'Neubeck, Tony' 'Spencer, Jared'\n",
      " 'Mueller, Matthew' 'Fitzgibbons, Jake' 'Neuman, Jake' 'Ball, Connor'\n",
      " 'Fontenot, Cade' 'Wissler, Daniel' 'Sechrist, Zander' 'Colarusso, AJ'\n",
      " 'Nunan, Matt' 'Hack, Christian' 'Sivley, Kros' 'Hasty, Jacob'\n",
      " 'Bell, Jack' 'Lyke, Ethan' 'McNabb, Thomas' 'Laboy, Jorhan'\n",
      " 'Toledano, Jose' 'Masters, Dillon' 'Tate, Jacob' 'Parks, Michael'\n",
      " 'Thompson, JD' 'Mitchell, Joey' 'Parkinson, William' 'Kidd, Aidan'\n",
      " 'Gleason, Ryan' 'Aluko, Simon' 'Ganley, Dominic' 'Frank, Hayden'\n",
      " 'Rodriguez, Jackson' 'Ogden, JD ' 'Daugherty, Ryan' 'Hill, Kaleb'\n",
      " 'Phipps, Jackson' 'Lambert, Cal' 'Schapira, Calvin' 'Rupp, Nick'\n",
      " 'Sellinger, Jack' 'Mannelly, Joseph' 'Carwile, Cody' 'Hesseltine, Hunter'\n",
      " 'Lamkin, Justin' 'Yntema, Graham' 'Katen, Logan' 'Janak, Dillan'\n",
      " 'McCormick, James' 'Cheatham, Cole' 'Owen, Hunter' 'Abner, Philip'\n",
      " 'Fisher, Cade' 'Caglianone, Jac' 'Arroyo, Chris' 'Gainer, Luke'\n",
      " 'Prosoki, Cooper' 'Coil, Parker' 'Bimbi, Jacob' 'Gonzales, Isaac'\n",
      " 'Mims, Michael' 'Shaw, David' 'Gordon, Lucas' 'Nelson, Drew'\n",
      " 'Hayes, Chat' 'Richter, Chase' 'Boudreaux, Jacorey' 'Smith, Austin'\n",
      " 'Keithley, Carson' 'McCaffety, Rhett' 'Pettys, Ryan' 'Steinhauer, Ryan'\n",
      " 'Tullar, Cameron' 'Sheehan, Tommy' 'Frers, Lukas' 'Hamann, Chris'\n",
      " 'Behnke, Andrew' 'Ellis, Luke' 'Reid, Rocco' 'Bailey, BJ'\n",
      " 'Smith, Tristan' 'Braziel, Kewan' 'Coleman, Javen' 'Carrick, Kyle'\n",
      " 'Pimental, Javyn' 'Theriot, Tyler' 'Wales, Marshall' 'McAllister, Aidan'\n",
      " 'Webster, Evan' 'Campbell, Kayden' 'Kuehner, Tate' 'Elston, Reece'\n",
      " 'Brasosky, Gavin' 'Eidson, Brayden' \"O'Connor, Tim\" 'Roca, Tony'\n",
      " 'Sivec, Derek' 'Evans Jr, Jarvis' 'Becker, Matthew' 'Borders, Jalen'\n",
      " 'Dearman, Clark' 'Spolyar, Andrew' 'Loer, Justin' 'Jump, Gage'\n",
      " 'Shim, Seungmin' 'Moats, Kyle' 'Hentges, Samuel' 'Prager, Ryan'\n",
      " 'Milburn, Isaac' 'Radcliff, Ryan' 'Byers, Carson ' 'Gainey, Garrett'\n",
      " 'Kuhle, Max' 'Williams, T.R.' 'Bello, Jack' 'Hebenstreit, James'\n",
      " 'Hall, Quinton' 'Mattera, Noah' 'Farone, Greg' 'Heiberger, Matthew'\n",
      " 'Honeycutt, Justin' 'Thompson, Sam' 'Fisher, Bryce' 'Preisel, Connor'\n",
      " 'Martin, Jevarra' 'Gilbert, Ben' 'Green, Miller' 'Molina, Mason'\n",
      " 'Hewlett, Stone' 'Johnson, Cam' 'Gravel, Alexis' 'Myers, Carson'\n",
      " 'Stewart, Bradley' 'Staiano, Michael' 'Vardavas, Nick' 'Abbey, Zach'\n",
      " 'Stevens, Nolan' 'Robinson, Jackie' 'Clack, Christian' 'Graves, Griffin'\n",
      " 'Bullard, Matthew' 'Alderman, Chandler' 'McCarley, Derek'\n",
      " 'Dallas, Matthew' 'Holt, Campbell' 'Scott, Shawn' 'Merriweather, Dj'\n",
      " 'Martinez, Jalen' 'Morales, Wilfredo' 'Kenty, Jansen' 'Ruller, Joseph'\n",
      " 'Huesman, Levi' 'Meyer, Tommy' 'Stamos, Chris' 'Paulsen Jr., Erik'\n",
      " 'Little, Matt' 'Wilson, Kaidan' 'Ciuffetelli, Blake' 'Payne, Luke'\n",
      " 'Gross, Mitchell' 'Dennis, Gunnar' 'Romanias, Tyler' 'McElvain, Ethan'\n",
      " 'Book, Colton' 'Hobb, Jerek' 'Fisher, Ty' 'Phillips, Jacob'\n",
      " 'Simmons, Austin' 'Foley, Lucas' 'Baratta, Dominic' 'Posey, Courtland'\n",
      " 'Lourens, Je-Andrick' 'Haston, Brandon' 'Royal, Hunter' 'Moseley, Kyle'\n",
      " 'Steckmesser, Evan' 'Osborne, Ethan' 'Diuguid, Lane' 'Hart, Evan'\n",
      " 'Bertram, Reid' 'Pazos, Bryan' 'Edmonson, Cameron' 'Moore, Max'\n",
      " 'Krouse, Lucas' 'Doyle, Liam' 'Hogue, Brant' 'Cadieux-Lanoue, Elliot'\n",
      " 'Moss, Cade' 'Lynch, Jake' 'Naranjo, Jordyn' 'Good, Nic'\n",
      " 'Yagesh, Brendan' 'Speas, Kyle' 'Van Emon, Gabe' 'Quinn, Braden'\n",
      " 'Roulette, Allen' 'Ramos, Rigo' 'Loy, Dylan' 'Obermueller, Cade'\n",
      " 'Cinnella, Joe' 'Magdic, Ryan' 'Boerema, Owen' 'Travis, Bryce'\n",
      " 'Paulsen, Fisher' 'Holmes, Will' 'Durham, JT' 'Rushing, Logan'\n",
      " 'Malone, James' 'Dillinger, Ethan' 'Fix, Isaac' 'Hall, Regan'\n",
      " 'Mahan, Ethan' 'Smith, Hayden' 'Warunek, Kevin' 'Reed, Sam'\n",
      " 'Gannon, Reed' 'Chronister, Ashton' 'Schultz, Donovan' 'Bradshaw, Riley'\n",
      " 'Wojartowicz, Andre' 'Kopetski, Josh' 'Keplinger, Konner' 'Evans, Drew'\n",
      " 'Behrends, Jeffrey' 'Meier, Jackson' 'Walker, Ethan' 'Gibbons, Sean'\n",
      " 'Deverman, Kenton' 'Cijntje, Jurrangelo' 'Howitt, Josh'\n",
      " 'Washington, Khaden' 'Snell, Kade' 'Isaacs, Caleb' 'Ronan, Reed'\n",
      " 'Wilson, Leland' 'Watson, Michael' 'Holderfield, Grant' 'Rushing, Ryan'\n",
      " 'McCoy, Jake' 'Bronzini, Nic' 'Vera, Alex' 'Copeland, Caden'\n",
      " 'Rhadans, Dylan' 'Reed, Kevin' 'Kressin, Jace' 'Aguado, Devin'\n",
      " 'Menendez, Frank' 'Fisher, Colin' 'Mendes, Wesley' 'Dagley, Ty'\n",
      " 'Adkison, Ethan' 'Dietz, Hunter' 'Anderson, Kade' 'Williams, Walker'\n",
      " 'Rich, Keegan' 'Mackowiak, Garrett' 'Gutierrez, Jesse' 'LaBoy, Jorhan'\n",
      " 'Gist, Matthew' 'Sanchez, Corey' 'Erdman, Zach' 'Luce, Hudson'\n",
      " 'Hellmers, Will' 'Kohn, Pico' 'Lysik, Brendan' 'Bridges, Derek'\n",
      " 'Coppola, Pierce' 'White, Ryan' \"O'Donnell, Brendan\"\n",
      " 'Williamson, Timothy' 'Torrealba, Jose' 'Scragg, Josh' 'Stewart, Dalen'\n",
      " 'Adams, Zane' 'Tavarez, Esteban' 'Primeaux, DJ' 'Risley, Braydon'\n",
      " 'Haley, Matt' 'Darin, Daniel' 'Huddleston, Eli' 'Fetterman, Tyler'\n",
      " 'Mayo, Jackson' 'Cleaver, Ben'] 390\n"
     ]
    }
   ],
   "execution_count": 22
  },
  {
   "metadata": {
    "ExecuteTime": {
     "end_time": "2024-10-04T23:14:43.325699Z",
     "start_time": "2024-10-04T23:14:43.320184Z"
    }
   },
   "cell_type": "code",
   "source": [
    "def lr_bbs_stuff(name):\n",
    "    \n",
    "    preds = ['RelSpeed','VertRelAngle','HorzRelAngle','SpinRate','SpinAxis','RelHeight','RelSide','Extension','VertBreak','InducedVertBreak','HorzBreak','ZoneSpeed','VertApprAngle','HorzApprAngle','ZoneTime','pfxx','pfxz','x0','y0','z0','vx0','vy0','vz0','ax0','ay0','az0','SpeedDrop','PitchTrajectoryXc1','PitchTrajectoryXc2','PitchTrajectoryYc0','PitchTrajectoryYc1','PitchTrajectoryYc2','PitchTrajectoryZc0','PitchTrajectoryZc1','PitchTrajectoryZc2']\n",
    "    \n",
    "    all_preds = model.predict_proba(bbs_lr_X)[:,1]\n",
    "    mean_pred = np.mean(all_preds)\n",
    "\n",
    "    pitcher = subsets[name]\n",
    "    pitcher_x = pitcher[preds]\n",
    "\n",
    "    whiff_preds = model.predict_proba(pitcher_x)[:,1]\n",
    "\n",
    "    stuff = whiff_preds/mean_pred\n",
    "    \n",
    "    return np.mean(stuff * 100)\n"
   ],
   "id": "73fa6725112745b8",
   "outputs": [],
   "execution_count": 23
  },
  {
   "metadata": {
    "ExecuteTime": {
     "end_time": "2024-10-04T23:15:09.682522Z",
     "start_time": "2024-10-04T23:15:09.650939Z"
    }
   },
   "cell_type": "code",
   "source": [
    "#Stuff+ for selected pitchers Slider in LHP v RHB split\n",
    "lr_bbs_stuff('Ackenhausen, Nathan')"
   ],
   "id": "479f20291f528157",
   "outputs": [
    {
     "data": {
      "text/plain": [
       "163.7097"
      ]
     },
     "execution_count": 24,
     "metadata": {},
     "output_type": "execute_result"
    }
   ],
   "execution_count": 24
  },
  {
   "metadata": {},
   "cell_type": "markdown",
   "source": [
    "Lefty vs. Lefty Split"
   ],
   "id": "543fc202e3d55fb1"
  },
  {
   "metadata": {
    "ExecuteTime": {
     "end_time": "2024-10-04T23:15:52.218095Z",
     "start_time": "2024-10-04T23:15:52.210309Z"
    }
   },
   "cell_type": "code",
   "source": [
    "bbs_ll_X = bbs_ll[preds]\n",
    "bbs_ll_y = bbs_ll['whiff']"
   ],
   "id": "e29ac57acaca3f52",
   "outputs": [],
   "execution_count": 25
  },
  {
   "metadata": {
    "ExecuteTime": {
     "end_time": "2024-10-04T23:16:11.952078Z",
     "start_time": "2024-10-04T23:16:11.677625Z"
    }
   },
   "cell_type": "code",
   "source": [
    "#Train Model: LHP vs LHB\n",
    "X_train, X_test, y_train, y_test = train_test_split(bbs_ll_X, bbs_ll_y, test_size=.33, random_state=25)\n",
    "\n",
    "model = XGBClassifier()\n",
    "model.fit(X_train, y_train)\n",
    "\n",
    "y_pred = model.predict(X_test)\n",
    "predictions = [round(value) for value in y_pred]\n",
    "\n",
    "accuracy = accuracy_score(y_test, predictions)\n",
    "print(\"Accuracy: %.2f%%\" % (accuracy * 100.0))"
   ],
   "id": "1a54744a336cf198",
   "outputs": [
    {
     "name": "stdout",
     "output_type": "stream",
     "text": [
      "Accuracy: 83.17%\n"
     ]
    }
   ],
   "execution_count": 26
  },
  {
   "metadata": {
    "ExecuteTime": {
     "end_time": "2024-10-04T23:16:46.593558Z",
     "start_time": "2024-10-04T23:16:46.216396Z"
    }
   },
   "cell_type": "code",
   "source": [
    "# Get unique values\n",
    "unique_values = bbs_ll['Pitcher'].unique()\n",
    "\n",
    "#List of Pitchers that threw splitter, as well as amount\n",
    "print(unique_values, len(unique_values))\n",
    "\n",
    "# Create a dictionary to store subsets\n",
    "subsets = {value: bbs_ll[bbs_ll['Pitcher'] == value] for value in unique_values}\n"
   ],
   "id": "31606207c427e10e",
   "outputs": [
    {
     "name": "stdout",
     "output_type": "stream",
     "text": [
      "['Menefee, Joseph' 'Walsh, Redmond' 'Wall, Chris' 'LaCalameto, Kyle'\n",
      " 'Prayer, Cameron' 'Johnston, Will' 'Holguin, Al' 'Gilreath, John'\n",
      " 'Rokose, Davis' 'Sullivan, Liam' 'Woods, Jaden' 'Lohse, Ian'\n",
      " 'Sipe, Hunter' 'Elliott, Hunter' 'Atiya, Eli' 'Dillard, Matt'\n",
      " 'Hanson, Sam' 'Seiler, Ben' 'Bauman, Tanner' 'Hitt, Grayson'\n",
      " 'Furtado, Hunter' 'Goldstein, Charlie' 'Baker, Will' 'Keevan, LJ'\n",
      " 'Armbrustmacher, Dane' 'Cooper, Riley' 'Ackenhausen, Nathan'\n",
      " 'Davis, Tyler' 'Morgan, Trey' 'Welch, Carter' 'Wansing, Troy'\n",
      " 'Dayton, Cameron' 'Lamkin, Justin' 'Bothwell, Ty' 'Sheehan, Tommy'\n",
      " 'Vail, Tommy' 'Clifton, Harrison' 'Davis, Alton' 'Sibley, Joshua'\n",
      " 'Wheeler, Trey' 'Phipps, Jackson' 'Lopez, Will' 'Light, Nathan'\n",
      " 'Loftin, Bradley' 'Grome, Chris' 'Rivas, Xavier' 'Hogan, Kian'\n",
      " 'Sdao, Shane' 'Crotchfelt, Zach' 'Kraft, Ryan' 'Reinke, Brian'\n",
      " 'Wagner, Luke' 'Morris, Zack' 'Bates, Ethan' 'Grace, Ranard'\n",
      " 'Herring, Griffin' 'Huff, Hollis' 'Waterhouse, Quinn' 'Leger, Jake'\n",
      " 'Walter, Daniel' 'Parks, Michael' 'Whittle, Parker' 'Windham, Payton'\n",
      " 'Campbell, Tyler' 'Sales, Terence ' 'Corley, Brandt' 'Tubbs, Adam'\n",
      " 'Wager, Zach' 'Becker, Matthew' 'Sewell, JC' 'Knight, Carson'\n",
      " 'Ginther, Ryan' 'Steinhauer, Ryan' 'Majick, Eli' 'Dunn, Ross'\n",
      " 'Tapper, Brock' 'Connolly, Caden' 'Garcia, Samuel' 'Rabin, Reece'\n",
      " 'Hoefer, Eric' 'Holton, Carter' 'Saum, Jake' 'Manfredi, Mark'\n",
      " 'Humphres, Austin' 'McCoy, Kyle' 'Garcia, Brandyn' 'Wozniak, Brett'\n",
      " 'Ball, Connor' 'Chmielewski, Tom' 'MacDonald, Caden' 'Caldwell, Collin'\n",
      " 'Bosma, Tyler' 'Luikart, Jay' 'Shoemaker, David' 'Connell, Kirby'\n",
      " 'Manning, Timmy' 'Kane, Thomas' 'Rembisz, Ryan' 'Aschenbeck, Evan'\n",
      " 'Scannell, Matt' 'Theis, Alex' 'Peters, Garrett' 'Futrell, Devin'\n",
      " 'Massey, Sam' 'Kimbrell, Jackson' 'Fincher, Jonathan' 'Ewald, Tim'\n",
      " 'Smith, Nic' 'Wissler, Daniel' 'Hasty, Jacob' 'Bradshaw, Riley'\n",
      " 'Nove, Jackson' 'Carter, Daniel' 'Robinson, Jackie' 'Smith, Hagen'\n",
      " 'Mullan, Bradley' 'Niman, Dominic' 'Bosecker, Cory' 'Spizzoucco, Vincent'\n",
      " 'Graverson, Cole' 'Whiteside, Ben' 'Dunkelberger, Michael' 'Reyes, Randy'\n",
      " 'Van Treeck, Logan' 'Copeland, Konner' 'McCabe, Mark' 'Neubeck, Tony'\n",
      " 'Spencer, Jared' 'Hollan, Hunter' 'Mueller, Matthew' 'Neuman, Jake'\n",
      " 'Cotto, Magdiel' 'Dennehy, Sean' 'Colarusso, AJ' 'Nunan, Matt'\n",
      " 'Hack, Christian' 'Martin, Tyler' 'Sivley, Kros' 'Rollins, Carson'\n",
      " 'Clark, Christian' 'Lyke, Ethan' 'McNabb, Thomas' 'Hesseltine, Hunter'\n",
      " 'Laboy, Jorhan' 'Toledano, Jose' 'Colon, Shadai' 'Masters, Dillon'\n",
      " 'Mitchell, Joey' 'Rodriguez, Jackson' 'Parkinson, William' 'Kidd, Aidan'\n",
      " 'Vurpillat, Grant' 'Gleason, Ryan' 'Aluko, Simon' 'Barrera, Diego'\n",
      " 'Frank, Hayden' 'Blackwell, Jonathan' 'Gerl, Ben' 'Ogden, JD '\n",
      " 'Daugherty, Ryan' 'Hill, Kaleb' 'Schapira, Calvin' 'DeJong, Holden'\n",
      " 'Thompson, JD' 'Rupp, Nick' 'Sechrist, Zander' 'Smith, Dalton'\n",
      " 'Mannelly, Joseph' 'Carwile, Cody' 'Nelson, Drew' 'Byers, Evan'\n",
      " 'Yntema, Graham' 'Janak, Dillan' 'McCormick, James' 'Cheatham, Cole'\n",
      " 'Warrick, Isaac' 'Milburn, Isaac' 'Owen, Hunter' 'Abner, Philip'\n",
      " 'Fisher, Cade' 'Caglianone, Jac' 'Arroyo, Chris' 'Gainer, Luke'\n",
      " 'Prosoki, Cooper' 'Gonzales, Isaac' 'Mims, Michael' 'Shaw, David'\n",
      " 'Smith, Austin' 'McCaffety, Rhett' 'Stroud, Jack' 'Pettys, Ryan'\n",
      " 'Higgins, Cal' 'Tullar, Cameron' 'Frers, Lukas' 'Fitzpatrick, Sean'\n",
      " 'Hamann, Chris' 'Behnke, Andrew' 'Ellis, Luke' 'Kendrick, Dalton'\n",
      " 'Parker, Jackson' 'Reid, Rocco' 'Bailey, BJ' 'Smith, Tristan'\n",
      " 'Sivec, Derek' 'Coil, Parker' ' Walker, Brady' 'Smith, Brock'\n",
      " 'Carrick, Kyle' 'Coleman, Javen' 'Pimental, Javyn' 'Theriot, Tyler'\n",
      " 'Wales, Marshall' 'McAllister, Aidan' 'Webster, Evan'\n",
      " 'Cijntje, Jurrangelo' 'Evans Jr, Jarvis' 'Elston, Reece'\n",
      " 'Brasosky, Gavin' 'Hewlett, Stone' 'Bradford, Ethan' 'Eidson, Brayden'\n",
      " \"O'Connor, Tim\" 'Borders, Jalen' 'Dearman, Clark' 'Spolyar, Andrew'\n",
      " 'Burke, Donovan' 'Loer, Justin' 'Lloyd, Jaxon' 'Shim, Seungmin'\n",
      " 'Moats, Kyle' 'Hentges, Samuel' 'Prager, Ryan' 'Radcliff, Ryan'\n",
      " 'Byers, Carson ' 'Gainey, Garrett' 'Kuhle, Max' 'Kinsler, Jaden'\n",
      " 'Primeaux, DJ' 'Bello, Jack' 'Hall, Quinton' 'Mattera, Noah'\n",
      " 'Farone, Greg' 'Kwiatkowski, John' 'Honeycutt, Justin' 'Thompson, Sam'\n",
      " 'Fisher, Bryce' 'Preisel, Connor' 'Beard, Trey' 'Gilbert, Ben'\n",
      " 'Green, Miller' 'McElvain, Ethan' 'Molina, Mason' 'Gravel, Alexis'\n",
      " 'Myers, Carson' 'Travis, Bryce' 'Faulkner, Gavin' 'Stewart, Bradley'\n",
      " 'Staiano, Michael' 'Vardavas, Nick' 'Abbey, Zach' 'Stevens, Nolan'\n",
      " 'Graves, Griffin' 'Bullard, Matthew' 'Alderman, Chandler'\n",
      " 'Earnhardt, Luke' 'McCarley, Derek' 'Dallas, Matthew' 'Loy, Dylan'\n",
      " 'Scott, Shawn' 'Merriweather, Dj' 'Martinez, Jalen' 'Draper, Hunter'\n",
      " 'Morales, Wilfredo' 'Heiberger, Matthew' 'Huesman, Levi' 'Jump, Gage'\n",
      " 'Stamos, Chris' 'Paulsen Jr., Erik' 'Toporek, Jake' 'Wolff, LJ'\n",
      " 'Wilson, Kaidan' 'Ciuffetelli, Blake' 'Paddack, Liam ' 'Gross, Mitchell'\n",
      " 'Dotson, Luke' 'Dennis, Gunnar' 'Romanias, Tyler' 'Hobb, Jerek'\n",
      " 'Johnson, Cam' 'Fisher, Ty' 'Doyle, Liam' 'Simmons, Austin'\n",
      " 'Davis, Keith' 'Shedd, Eli' 'Foley, Lucas' 'Baratta, Dominic'\n",
      " 'Sotelo, Daniel' 'Posey, Courtland' 'Little, Matt' 'Lourens, Je-Andrick'\n",
      " 'Haston, Brandon' 'Mendes, Wesley' 'Royal, Hunter' 'Moseley, Kyle'\n",
      " 'Steckmesser, Evan' 'Diuguid, Lane' 'Hart, Evan' 'Bertram, Reid'\n",
      " 'Pazos, Bryan' 'Edmonson, Cameron' 'Krouse, Lucas' 'Hogue, Brant'\n",
      " 'Cadieux-Lanoue, Elliot' 'Moss, Cade' 'Naranjo, Jordyn' 'Good, Nic'\n",
      " 'Yagesh, Brendan' 'Speas, Kyle' 'DeTaeye, Benjamin' 'Strack, Caleb'\n",
      " 'Cinnella, Joe' 'Van Emon, Gabe' 'Quinn, Braden' 'Roulette, Allen'\n",
      " 'Ramos, Rigo' 'Obermueller, Cade' 'Magdic, Ryan' 'Boerema, Owen'\n",
      " 'Paulsen, Fisher' 'Pirkle, Aaron' 'Beckner, Drew' 'Geddes, Trevor'\n",
      " 'Durham, JT' 'Rushing, Logan' 'Malone, James' 'Dillinger, Ethan'\n",
      " 'Hebenstreit, James' 'Osmond, Michael' 'Heyl, Matthew' 'Fix, Isaac'\n",
      " 'Hall, Regan' 'Mahan, Ethan' 'Warunek, Kevin' 'Reed, Sam' 'Gannon, Reed'\n",
      " 'Bronzini, Nic' 'Chronister, Ashton' 'Schultz, Donovan' 'Kopetski, Josh'\n",
      " 'Keplinger, Konner' 'Lynch, Jake' 'Kenty, Jansen' 'Paymaster, Jacob'\n",
      " 'Evans, Drew' 'Behrends, Jeffrey' 'Meier, Jackson' 'Franks, Tyler'\n",
      " 'Walker, Ethan' 'Gibbons, Sean' 'Vera, Alex' 'Deverman, Kenton'\n",
      " 'Miller, Max' 'Howitt, Josh' 'Holt, Campbell' 'Washington, Khaden'\n",
      " 'Pollard, Davin' 'Snell, Kade' 'Isaacs, Caleb' 'Ronan, Reed'\n",
      " 'Payne, Luke' 'Wilson, Leland' 'Watson, Michael' 'Holderfield, Grant'\n",
      " 'Copeland, Caden' 'Kohn, Pico' 'Stratton, Sam' 'Rhadans, Dylan'\n",
      " 'Reed, Kevin' 'Cleaver, Ben' 'Kressin, Jace' 'Aguado, Devin'\n",
      " 'Fisher, Colin' 'Fabre, Larson' 'Rodriguez, Ryne' 'Dagley, Ty'\n",
      " 'Adkison, Ethan' 'McCoy, Jake' 'Dietz, Hunter' 'Anderson, Kade'\n",
      " 'Williams, Walker' 'Rich, Keegan' 'Mackowiak, Garrett' 'Adams, Zane'\n",
      " 'Gutierrez, Jesse' 'Sorrell, Roman' 'LaBoy, Jorhan' 'Diaz, Danny'\n",
      " 'Wash, Logan' 'Gist, Matthew' 'Sanchez, Corey' 'Erdman, Zach'\n",
      " 'Luce, Hudson' 'Bridges, Derek' 'Braziel, Kewan' 'Barfield, Brett'\n",
      " 'Clack, Christian' 'Lysik, Brendan' 'Menendez, Frank' 'Coppola, Pierce'\n",
      " 'White, Ryan' 'Menina, Caleb' \"O'Donnell, Brendan\" 'Williamson, Timothy'\n",
      " 'Torrealba, Jose' 'Sharpton, Logan' 'Scragg, Josh' 'Stewart, Dalen'\n",
      " 'Arender, Brock' 'Beaver, Brendan' 'Charlton, Tyler' 'Tavarez, Esteban'\n",
      " 'Risley, Braydon' 'Haley, Matt' 'Darin, Daniel' 'Huddleston, Eli'\n",
      " 'Keller, Kenny' 'Fetterman, Tyler' 'Mayo, Jackson' 'Campbell, Kayden'] 429\n"
     ]
    }
   ],
   "execution_count": 27
  },
  {
   "metadata": {
    "ExecuteTime": {
     "end_time": "2024-10-04T23:17:08.014491Z",
     "start_time": "2024-10-04T23:17:08.004500Z"
    }
   },
   "cell_type": "code",
   "source": [
    "def ll_bbs_stuff(name):\n",
    "    \n",
    "    preds = ['RelSpeed','VertRelAngle','HorzRelAngle','SpinRate','SpinAxis','RelHeight','RelSide','Extension','VertBreak','InducedVertBreak','HorzBreak','ZoneSpeed','VertApprAngle','HorzApprAngle','ZoneTime','pfxx','pfxz','x0','y0','z0','vx0','vy0','vz0','ax0','ay0','az0','SpeedDrop','PitchTrajectoryXc1','PitchTrajectoryXc2','PitchTrajectoryYc0','PitchTrajectoryYc1','PitchTrajectoryYc2','PitchTrajectoryZc0','PitchTrajectoryZc1','PitchTrajectoryZc2']\n",
    "    \n",
    "    all_preds = model.predict_proba(bbs_ll_X)[:,1]\n",
    "    mean_pred = np.mean(all_preds)\n",
    "\n",
    "    pitcher = subsets[name]\n",
    "    pitcher_x = pitcher[preds]\n",
    "\n",
    "    whiff_preds = model.predict_proba(pitcher_x)[:,1]\n",
    "\n",
    "    stuff = whiff_preds/mean_pred\n",
    "    \n",
    "    return np.mean(stuff * 100)\n"
   ],
   "id": "16c7df7fd769ae03",
   "outputs": [],
   "execution_count": 28
  },
  {
   "metadata": {
    "ExecuteTime": {
     "end_time": "2024-10-04T23:17:38.890262Z",
     "start_time": "2024-10-04T23:17:38.862093Z"
    }
   },
   "cell_type": "code",
   "source": [
    "#Stuff+ for selected pitchers Slider in LHP v LHB split\n",
    "ll_bbs_stuff('Myers, Carson')"
   ],
   "id": "b72b21a282b9a2a3",
   "outputs": [
    {
     "data": {
      "text/plain": [
       "76.60381"
      ]
     },
     "execution_count": 30,
     "metadata": {},
     "output_type": "execute_result"
    }
   ],
   "execution_count": 30
  }
 ],
 "metadata": {
  "kernelspec": {
   "display_name": "Python 3",
   "language": "python",
   "name": "python3"
  },
  "language_info": {
   "codemirror_mode": {
    "name": "ipython",
    "version": 2
   },
   "file_extension": ".py",
   "mimetype": "text/x-python",
   "name": "python",
   "nbconvert_exporter": "python",
   "pygments_lexer": "ipython2",
   "version": "2.7.6"
  }
 },
 "nbformat": 4,
 "nbformat_minor": 5
}
