{
 "cells": [
  {
   "metadata": {},
   "cell_type": "markdown",
   "source": [
    "In this notebook, we concatenate all the game data into 1 data frame, then train an XGBoost model for Whiff%. We'll calculate stuff+ for generic fastballs, offspeed, and breaking balls."
   ],
   "id": "986c7aac7f6d79f0"
  },
  {
   "metadata": {},
   "cell_type": "markdown",
   "source": [
    "First, we define the file path that contains all the data, and concatenate all csv files in the selected path "
   ],
   "id": "fc3d7a0a9dafb30"
  },
  {
   "metadata": {},
   "cell_type": "code",
   "source": [
    "#Packages\n",
    "import os\n",
    "import pandas as pd\n",
    "import numpy as np\n",
    "import xgboost\n",
    "from docutils.nodes import header\n",
    "from xgboost import XGBClassifier\n",
    "from sklearn.model_selection import train_test_split\n",
    "from sklearn.metrics import accuracy_score, confusion_matrix, precision_score, recall_score, f1_score, roc_auc_score, roc_curve\n",
    "from hyperopt import STATUS_OK, Trials, fmin, hp, tpe\n",
    "import matplotlib.pyplot as plt\n",
    "import seaborn as sns\n",
    "import shap"
   ],
   "id": "111cb261e1b17e01",
   "outputs": [],
   "execution_count": null
  },
  {
   "metadata": {},
   "cell_type": "code",
   "source": [
    "#Get Data\n",
    "csv_dir = '../../SEC Trackman Data/'\n",
    "all_files = [os.path.join(csv_dir, f) for f in os.listdir(csv_dir) if f.endswith('.csv')]\n",
    "\n",
    "df_list = []\n",
    "\n",
    "for file in all_files:\n",
    "    df = pd.read_csv(file)\n",
    "    df_list.append(df)\n",
    "\n",
    "all_pitches = pd.concat(df_list, ignore_index=True)\n",
    "\n",
    "print(all_pitches.shape)\n",
    "print(all_pitches.columns)"
   ],
   "id": "5e7b6de30e9357a",
   "outputs": [],
   "execution_count": null
  },
  {
   "metadata": {},
   "cell_type": "markdown",
   "source": [
    "Now that all the pitches have been combined into one large data frame, we can begin to subset the data based on pitch type. We first have to find out what pitch types there are, and classify each as a fastball, off-speed, or breaking ball"
   ],
   "id": "fb9d9fc24b23369c"
  },
  {
   "metadata": {},
   "cell_type": "code",
   "source": [
    "tagged_pitch_types = all_pitches['TaggedPitchType'].unique()\n",
    "print(tagged_pitch_types)\n",
    "\n",
    "auto_pitch_types = all_pitches['AutoPitchType'].unique()\n",
    "print(auto_pitch_types)"
   ],
   "id": "3a57917843f3d29d",
   "outputs": [],
   "execution_count": null
  },
  {
   "metadata": {},
   "cell_type": "markdown",
   "source": [
    "Now that we know what types of pitches there are, we can create the three desired subsets"
   ],
   "id": "74d893ca9d36e6b7"
  },
  {
   "metadata": {},
   "cell_type": "code",
   "source": [
    "#Subset Pitches\n",
    "fastballs = all_pitches[all_pitches['TaggedPitchType'].isin(['Fastball','Cutter','Sinker','FourSeamFastBall','TwoSeamFastBall','OneSeamFastBall'])]\n",
    "off_speed = all_pitches[all_pitches['TaggedPitchType'].isin(['ChangeUp','Splitter'])]\n",
    "breaking_balls = all_pitches[all_pitches['TaggedPitchType'].isin(['Slider','Curveball','Knuckleball'])]\n",
    "\n",
    "print(fastballs.shape)\n",
    "print(off_speed.shape)\n",
    "print(breaking_balls.shape)"
   ],
   "id": "e94bbf1df3c44e3f",
   "outputs": [],
   "execution_count": null
  },
  {
   "metadata": {},
   "cell_type": "markdown",
   "source": [
    "Now we have the three different data frames created, we can create a new column called 'Whiff' with a 1 if there is a swinging strike or a 0 if not."
   ],
   "id": "5c1c1361f4650eb6"
  },
  {
   "metadata": {},
   "cell_type": "code",
   "source": [
    "#Whiffs\n",
    "fastballs['whiff'] = np.where(fastballs['PitchCall']=='StrikeSwinging',1,0)\n",
    "off_speed['whiff'] = np.where(off_speed['PitchCall']=='StrikeSwinging',1,0)\n",
    "breaking_balls['whiff'] = np.where(breaking_balls['PitchCall']=='StrikeSwinging',1,0)"
   ],
   "id": "32df38e937b47f62",
   "outputs": [],
   "execution_count": null
  },
  {
   "metadata": {},
   "cell_type": "markdown",
   "source": [
    "Now, we can examine the columns and determine which ones we want for predictors in our model. Now that we have whether a pitch was a whiff or not, we can begin determining which variables we want as predictors"
   ],
   "id": "cb4f869df546fb4f"
  },
  {
   "metadata": {},
   "cell_type": "code",
   "source": [
    "numeric_cols = breaking_balls.select_dtypes(include=['number']).columns\n",
    "print(numeric_cols)"
   ],
   "id": "20ece7b28f7e8a3c",
   "outputs": [],
   "execution_count": null
  },
  {
   "metadata": {},
   "cell_type": "markdown",
   "source": [
    "Define Predictors"
   ],
   "id": "1e32113d3677e0e9"
  },
  {
   "metadata": {},
   "cell_type": "code",
   "source": [
    "bb_preds = ['RelSpeed','VertRelAngle','HorzRelAngle','SpinRate','SpinAxis','RelHeight','RelSide','Extension','VertBreak','InducedVertBreak','HorzBreak','ZoneSpeed','VertApprAngle','HorzApprAngle','ZoneTime','pfxx','pfxz','x0','y0','z0','vx0','vy0','vz0','ax0','ay0','az0','SpeedDrop','PitchTrajectoryXc1','PitchTrajectoryXc2','PitchTrajectoryYc0','PitchTrajectoryYc1','PitchTrajectoryYc2','PitchTrajectoryZc0','PitchTrajectoryZc1','PitchTrajectoryZc2']"
   ],
   "id": "34c77edfdfa98fe7",
   "outputs": [],
   "execution_count": null
  },
  {
   "metadata": {},
   "cell_type": "markdown",
   "source": [
    "Now, we can subset each of the pitch dfs with the predictors and response"
   ],
   "id": "f4c804f163056c4"
  },
  {
   "metadata": {},
   "cell_type": "code",
   "source": [
    "breaking_balls_X = breaking_balls[bb_preds]\n",
    "breaking_balls_y = breaking_balls['whiff']"
   ],
   "id": "9765757e9ec4a283",
   "outputs": [],
   "execution_count": null
  },
  {
   "metadata": {},
   "cell_type": "markdown",
   "source": [
    "Train model for breaking balls"
   ],
   "id": "1f7e3edf18db292a"
  },
  {
   "metadata": {},
   "cell_type": "code",
   "source": [
    "#Train Model\n",
    "X_train, X_test, y_train, y_test = train_test_split(breaking_balls_X, breaking_balls_y, test_size=.33, random_state=25)\n",
    "\n",
    "model = XGBClassifier()\n",
    "model.fit(X_train, y_train)\n",
    "\n",
    "y_pred = model.predict(X_test)\n",
    "predictions = [round(value) for value in y_pred]\n",
    "\n",
    "accuracy = accuracy_score(y_test, predictions)\n",
    "print(\"Accuracy: %.2f%%\" % (accuracy * 100.0))"
   ],
   "id": "13ab108007003e10",
   "outputs": [],
   "execution_count": null
  },
  {
   "metadata": {},
   "cell_type": "code",
   "source": [
    "cm = confusion_matrix(y_test, predictions)\n",
    "plt.figure(figsize=(10, 4))\n",
    "sns.heatmap(cm, annot=True, fmt='d', cmap='Blues')\n",
    "plt.xlabel('Predicted')\n",
    "plt.ylabel('Actual')\n",
    "plt.title('Confusion Matrix')\n",
    "plt.show()"
   ],
   "id": "3577ece2e221a88d",
   "outputs": [],
   "execution_count": null
  },
  {
   "metadata": {},
   "cell_type": "markdown",
   "source": [
    "0 = Whiff, 1 = Non-Whiff"
   ],
   "id": "a0289f7282570dfd"
  },
  {
   "metadata": {},
   "cell_type": "code",
   "source": [
    "precision = precision_score(y_test, predictions, average='macro')\n",
    "recall = recall_score(y_test, predictions, average='macro')\n",
    "f1 = f1_score(y_test, predictions, average='macro')\n",
    "\n",
    "print(f'Precision: {precision:.4f}')\n",
    "print(f'Recall: {recall:.4f}')\n",
    "print(f'F1 Score: {f1:.4f}')"
   ],
   "id": "e06ddad591d099be",
   "outputs": [],
   "execution_count": null
  },
  {
   "metadata": {},
   "cell_type": "code",
   "source": [
    "y_pred_prob = model.predict_proba(X_test)[:,1]\n",
    "roc_auc = roc_auc_score(y_test, predictions, multi_class='ovr')\n",
    "\n",
    "print(f'ROC AUC: {roc_auc:.4f}')\n",
    "\n",
    "# Plotting ROC Curve for one class (e.g., class 0)\n",
    "fpr, tpr, _ = roc_curve(y_test == 0, y_pred_prob)\n",
    "plt.plot(fpr, tpr, label='Class 0 ROC curve')\n",
    "plt.xlabel('False Positive Rate')\n",
    "plt.ylabel('True Positive Rate')\n",
    "plt.title('ROC Curve')\n",
    "plt.legend(loc='best')\n",
    "plt.show()"
   ],
   "id": "6da0cf816f568197",
   "outputs": [],
   "execution_count": null
  },
  {
   "metadata": {},
   "cell_type": "markdown",
   "source": [
    "Though the model runs, it still needs to be optimized. Next step, variable selection/importance!"
   ],
   "id": "6588de569e312747"
  },
  {
   "metadata": {},
   "cell_type": "code",
   "source": [
    "xgboost.plot_importance(model, max_num_features=20)"
   ],
   "id": "50dae6dd65e19371",
   "outputs": [],
   "execution_count": null
  },
  {
   "metadata": {},
   "cell_type": "markdown",
   "source": [
    "Compared to the feature importance of fastballs, Spin Rate, Vertical Approach Angle and Extension are still the 3 most important variables based on F-Score. However, it appears that Speed Drop has increased significance. This makes sense in terms of analyzing breaking balls. Spin Axis was also a climber in comparison to fastballs."
   ],
   "id": "9fbdd68ee6388114"
  },
  {
   "metadata": {},
   "cell_type": "code",
   "source": [
    "# Step 1: Initialize the SHAP explainer\n",
    "explainer = shap.Explainer(model, X_train)\n",
    "\n",
    "# Step 2: Calculate SHAP values for the training data\n",
    "shap_values = explainer(X_train)\n",
    "\n",
    "# Step 3: Plot a summary plot\n",
    "shap.summary_plot(shap_values, X_train, feature_names=X_train.columns)"
   ],
   "id": "cc3a6866625fbcd1",
   "outputs": [],
   "execution_count": null
  },
  {
   "metadata": {},
   "cell_type": "code",
   "source": "shap.summary_plot(shap_values, X_train, feature_names=X_train.columns, plot_type='bar')",
   "id": "8860b1679dbb437b",
   "outputs": [],
   "execution_count": null
  },
  {
   "metadata": {},
   "cell_type": "markdown",
   "source": [
    "Now for a demonstration on calculating stuff+, let's select a few pitches from the data set, calculate their whiff percentage, and divide that by the average predicted whiff percentage for all the pitches"
   ],
   "id": "881ba27ab320952a"
  },
  {
   "metadata": {},
   "cell_type": "code",
   "source": [
    "#Auburn Subset\n",
    "aub_bbs = breaking_balls[breaking_balls['PitcherTeam']=='AUB_TIG']"
   ],
   "id": "614b3c7883c4f394",
   "outputs": [],
   "execution_count": null
  },
  {
   "metadata": {},
   "cell_type": "code",
   "source": [
    "all_preds = model.predict_proba(breaking_balls_X)[:,1]\n",
    "mean_pred = np.mean(all_preds)\n",
    "\n",
    "print(mean_pred)\n",
    "\n",
    "sample = breaking_balls_X.sample(n=10)\n",
    "\n",
    "sample_preds = model.predict_proba(sample)[:,1]\n",
    "\n",
    "stuff = sample_preds/mean_pred\n",
    "\n",
    "print(stuff*100)"
   ],
   "id": "fbfdfbaac8dfefef",
   "outputs": [],
   "execution_count": null
  },
  {
   "metadata": {},
   "cell_type": "markdown",
   "source": [
    "Each of these values represents the Stuff+ for that pitch, defined by predicted whiff% / average whiff%. This will mean a lot more if we average all the values for each pitcher "
   ],
   "id": "8e6480ad7e8fd222"
  },
  {
   "metadata": {},
   "cell_type": "code",
   "source": [
    "# Get unique values\n",
    "unique_values = breaking_balls['Pitcher'].unique()\n",
    "aub_unique_values = aub_bbs['Pitcher'].unique()\n",
    "\n",
    "#Print list of Auburn pitchers for selected split\n",
    "print(aub_unique_values)\n",
    "\n",
    "# Create a dictionary to store subsets\n",
    "subsets = {value: breaking_balls[breaking_balls['Pitcher'] == value] for value in unique_values}\n",
    "aub_subsets = {value: aub_bbs[aub_bbs['Pitcher'] == value] for value in aub_unique_values}"
   ],
   "id": "eaa3262aa0675fdc",
   "outputs": [],
   "execution_count": null
  },
  {
   "metadata": {},
   "cell_type": "code",
   "source": [
    "def aub_bbs_stuff(name):\n",
    "    \n",
    "    preds = ['RelSpeed','VertRelAngle','HorzRelAngle','SpinRate','SpinAxis','RelHeight','RelSide','Extension','VertBreak','InducedVertBreak','HorzBreak','ZoneSpeed','VertApprAngle','HorzApprAngle','ZoneTime','pfxx','pfxz','x0','y0','z0','vx0','vy0','vz0','ax0','ay0','az0','SpeedDrop','PitchTrajectoryXc1','PitchTrajectoryXc2','PitchTrajectoryYc0','PitchTrajectoryYc1','PitchTrajectoryYc2','PitchTrajectoryZc0','PitchTrajectoryZc1','PitchTrajectoryZc2']\n",
    "    \n",
    "    all_preds = model.predict_proba(breaking_balls_X)[:,1]\n",
    "    mean_pred = np.mean(all_preds)\n",
    "\n",
    "    pitcher = aub_subsets[name]\n",
    "    pitcher_x = pitcher[preds]\n",
    "\n",
    "    whiff_preds = model.predict_proba(pitcher_x)[:,1]\n",
    "\n",
    "    stuff = whiff_preds/mean_pred\n",
    "    \n",
    "    print(f\"{name} Breaking Ball stuff+: {np.mean(stuff * 100)}\")"
   ],
   "id": "564abfd922f37bd3",
   "outputs": [],
   "execution_count": null
  },
  {
   "metadata": {},
   "cell_type": "code",
   "source": [
    "#Stuff+ for selected Auburn pitchers Breaking Ball\n",
    "for pitcher in aub_unique_values:\n",
    "    aub_bbs_stuff(pitcher)"
   ],
   "id": "3b91341d649cca6c",
   "outputs": [],
   "execution_count": null
  },
  {
   "metadata": {},
   "cell_type": "code",
   "source": [
    "all_preds = model.predict_proba(breaking_balls_X)[:,1]\n",
    "mean_pred = np.mean(all_preds)\n",
    "\n",
    "\n",
    "b_tidwell = subsets['Skenes, Paul']\n",
    "b_tidwell_X = b_tidwell[bb_preds]\n",
    "\n",
    "whiff_preds = model.predict_proba(b_tidwell_X)[:,1]\n",
    "\n",
    "stuff = whiff_preds/mean_pred\n",
    "\n",
    "print(f\"Blade Tidwell Breaking Ball stuff+:{np.mean(stuff*100)}\")"
   ],
   "id": "f7bdd03f24d5bf33",
   "outputs": [],
   "execution_count": null
  },
  {
   "metadata": {},
   "cell_type": "markdown",
   "source": [
    "Now, this lumps in all of his fastballs. Let's see if he throws multiple types of fastballs and see how they all stack up"
   ],
   "id": "e0a45c232b5724f4"
  },
  {
   "metadata": {},
   "cell_type": "code",
   "source": [
    "print(b_tidwell['TaggedPitchType'].unique())"
   ],
   "id": "397c4560b2885e2e",
   "outputs": [],
   "execution_count": null
  },
  {
   "metadata": {},
   "cell_type": "markdown",
   "source": [
    "Tidwell only throws a slider. We can see how his slider stacks up against all other breaking balls. Obviously this is not ideal (we want to compare sliders to sliders, etc.) but it will do for now"
   ],
   "id": "6840ed07a421558e"
  },
  {
   "metadata": {},
   "cell_type": "code",
   "source": [
    "bt_spd_avg = np.mean(b_tidwell['RelSpeed'])\n",
    "bt_spd_std = np.std(b_tidwell['RelSpeed'])\n",
    "\n",
    "bt_hgt_avg = np.mean(b_tidwell['RelHeight'])\n",
    "bt_hgt_std = np.std(b_tidwell['RelHeight'])\n",
    "\n",
    "bt_side_avg = np.mean(b_tidwell['RelSide'])\n",
    "bt_side_std = np.std(b_tidwell['RelSide'])"
   ],
   "id": "295a5dc8da28b44d",
   "outputs": [],
   "execution_count": null
  },
  {
   "metadata": {},
   "cell_type": "markdown",
   "source": [
    "Now we can look at what makes his slider different from some other sliders"
   ],
   "id": "9d5e02c39f2aa161"
  },
  {
   "metadata": {},
   "cell_type": "code",
   "source": [
    "similar_sliders = breaking_balls[(breaking_balls['RelSpeed'] >= bt_spd_avg - bt_spd_std) &\n",
    "                              (breaking_balls['RelSpeed'] <= bt_spd_avg + bt_spd_std) &\n",
    "                              (breaking_balls['RelHeight'] >= bt_hgt_avg - bt_hgt_std) &\n",
    "                              (breaking_balls['RelHeight'] <= bt_hgt_avg + bt_hgt_std) &\n",
    "                              (breaking_balls['RelSide'] >= bt_side_avg - bt_side_std) &\n",
    "                              (breaking_balls['RelSide'] <= bt_side_avg + bt_side_std)]\n",
    "\n",
    "print(similar_sliders.shape)"
   ],
   "id": "8fa2667a0b122f34",
   "outputs": [],
   "execution_count": null
  },
  {
   "metadata": {},
   "cell_type": "code",
   "source": [
    "similar_sliders['stuff_plus'] = (model.predict_proba(similar_sliders[bb_preds])[:,1])/(mean_pred) * 100\n",
    "print(similar_sliders['stuff_plus'].head(10))\n"
   ],
   "id": "5c46503a67343f91",
   "outputs": [],
   "execution_count": null
  },
  {
   "metadata": {},
   "cell_type": "code",
   "source": [
    "# Create scatter plot\n",
    "plt.figure(figsize=(8, 6))\n",
    "hb = plt.hexbin(x=similar_sliders['VertBreak'], y=similar_sliders['HorzBreak'], \n",
    "                C=similar_sliders['stuff_plus'], cmap='inferno', reduce_C_function=np.mean,\n",
    "                vmin=10, vmax=300)\n",
    "\n",
    "plt.colorbar(hb, label='')\n",
    "\n",
    "# Add labels and title\n",
    "plt.xlabel('Horizontal Break')\n",
    "plt.ylabel(\"Vertical Break\")\n",
    "plt.title(\"Scatter Plot\")\n",
    "\n",
    "# Show plot\n",
    "plt.show()"
   ],
   "id": "cf1728de80e3530c",
   "outputs": [],
   "execution_count": null
  }
 ],
 "metadata": {
  "kernelspec": {
   "display_name": "Python 3",
   "language": "python",
   "name": "python3"
  },
  "language_info": {
   "codemirror_mode": {
    "name": "ipython",
    "version": 2
   },
   "file_extension": ".py",
   "mimetype": "text/x-python",
   "name": "python",
   "nbconvert_exporter": "python",
   "pygments_lexer": "ipython2",
   "version": "2.7.6"
  }
 },
 "nbformat": 4,
 "nbformat_minor": 5
}
