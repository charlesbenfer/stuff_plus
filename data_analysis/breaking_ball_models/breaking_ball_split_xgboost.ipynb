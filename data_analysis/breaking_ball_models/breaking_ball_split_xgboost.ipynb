{
 "cells": [
  {
   "metadata": {
    "ExecuteTime": {
     "end_time": "2024-10-09T18:03:22.417831Z",
     "start_time": "2024-10-09T18:03:22.409008Z"
    }
   },
   "cell_type": "code",
   "source": [
    "#Packages\n",
    "import os\n",
    "import pandas as pd\n",
    "import numpy as np\n",
    "import xgboost\n",
    "from xgboost import XGBClassifier\n",
    "from sklearn.model_selection import train_test_split\n",
    "from sklearn.metrics import accuracy_score, confusion_matrix, precision_score, recall_score, f1_score, roc_auc_score, roc_curve\n",
    "from hyperopt import STATUS_OK, Trials, fmin, hp, tpe\n",
    "import matplotlib.pyplot as plt\n",
    "import seaborn as sns\n",
    "import shap"
   ],
   "id": "36cdf49084772c84",
   "outputs": [],
   "execution_count": 2
  },
  {
   "metadata": {},
   "cell_type": "code",
   "source": [
    "#Get Data\n",
    "csv_dir = '../../SEC Trackman Data/'\n",
    "all_files = [os.path.join(csv_dir, f) for f in os.listdir(csv_dir) if f.endswith('.csv')]\n",
    "\n",
    "df_list = []\n",
    "\n",
    "for file in all_files:\n",
    "    df = pd.read_csv(file)\n",
    "    df_list.append(df)\n",
    "\n",
    "all_pitches = pd.concat(df_list, ignore_index=True)\n",
    "\n",
    "print(all_pitches.shape)\n",
    "print(all_pitches.columns)"
   ],
   "id": "ec3b95b4019828e0",
   "outputs": [],
   "execution_count": null
  },
  {
   "metadata": {},
   "cell_type": "code",
   "source": [
    "#Get all breaking balls \n",
    "bb = all_pitches[all_pitches['TaggedPitchType'].isin(['Curveball', 'Slider','Knuckleball'])]\n",
    "print(bb.shape)"
   ],
   "id": "c6292d6d2ba3f237",
   "outputs": [],
   "execution_count": null
  },
  {
   "metadata": {},
   "cell_type": "code",
   "source": [
    "#Subset breaking balls into platoon splits\n",
    "bb_rr = bb[(bb['PitcherThrows'] == 'Right') & (bb['BatterSide'] == 'Right')]\n",
    "bb_rl = bb[(bb['PitcherThrows'] == 'Right') & (bb['BatterSide'] == 'Left')]\n",
    "bb_lr = bb[(bb['PitcherThrows'] == 'Left') & (bb['BatterSide'] == 'Right')]\n",
    "bb_ll = bb[(bb['PitcherThrows'] == 'Left') & (bb['BatterSide'] == 'Left')]\n",
    "\n",
    "print(bb_rr.shape)\n",
    "print(bb_rl.shape)\n",
    "print(bb_lr.shape)\n",
    "print(bb_ll.shape)"
   ],
   "id": "525d58093e8b5f48",
   "outputs": [],
   "execution_count": null
  },
  {
   "metadata": {},
   "cell_type": "code",
   "source": [
    "#Whiffs\n",
    "bb_rr['whiff'] = np.where(bb_rr['PitchCall']=='StrikeSwinging',1,0)\n",
    "bb_rl['whiff'] = np.where(bb_rl['PitchCall']=='StrikeSwinging',1,0)\n",
    "bb_lr['whiff'] = np.where(bb_lr['PitchCall']=='StrikeSwinging',1,0)\n",
    "bb_ll['whiff'] = np.where(bb_ll['PitchCall']=='StrikeSwinging',1,0)"
   ],
   "id": "9ce479334d688b3e",
   "outputs": [],
   "execution_count": null
  },
  {
   "metadata": {},
   "cell_type": "code",
   "source": [
    "#Predictor Variables\n",
    "preds = ['RelSpeed','VertRelAngle','HorzRelAngle','SpinRate','SpinAxis','RelHeight','RelSide','Extension','VertBreak','InducedVertBreak','HorzBreak','ZoneSpeed','VertApprAngle','HorzApprAngle','ZoneTime','pfxx','pfxz','x0','y0','z0','vx0','vy0','vz0','ax0','ay0','az0','SpeedDrop','PitchTrajectoryXc1','PitchTrajectoryXc2','PitchTrajectoryYc0','PitchTrajectoryYc1','PitchTrajectoryYc2','PitchTrajectoryZc0','PitchTrajectoryZc1','PitchTrajectoryZc2']"
   ],
   "id": "bf4c8e51c80a16cd",
   "outputs": [],
   "execution_count": null
  },
  {
   "metadata": {},
   "cell_type": "markdown",
   "source": "Righty vs. Righty Split",
   "id": "c71aed4171b55548"
  },
  {
   "metadata": {},
   "cell_type": "code",
   "source": [
    "bb_rr_X = bb_rr[preds]\n",
    "bb_rr_y = bb_rr['whiff']"
   ],
   "id": "f980b60995bc0601",
   "outputs": [],
   "execution_count": null
  },
  {
   "metadata": {},
   "cell_type": "code",
   "source": [
    "#Train Model: RHP vs RHB\n",
    "X_train, X_test, y_train, y_test = train_test_split(bb_rr_X, bb_rr_y, test_size=.33, random_state=25)\n",
    "\n",
    "model = XGBClassifier()\n",
    "model.fit(X_train, y_train)\n",
    "\n",
    "y_pred = model.predict(X_test)\n",
    "predictions = [round(value) for value in y_pred]\n",
    "\n",
    "accuracy = accuracy_score(y_test, predictions)\n",
    "print(\"Accuracy: %.2f%%\" % (accuracy * 100.0))"
   ],
   "id": "682dc710f803e8d0",
   "outputs": [],
   "execution_count": null
  },
  {
   "metadata": {},
   "cell_type": "code",
   "source": [
    "y_pred_prob = model.predict_proba(X_test)[:,1]\n",
    "roc_auc = roc_auc_score(y_test, predictions, multi_class='ovr')\n",
    "\n",
    "print(f'ROC AUC: {roc_auc:.4f}')\n",
    "\n",
    "# Plotting ROC Curve for one class (e.g., class 0)\n",
    "fpr, tpr, _ = roc_curve(y_test == 1, y_pred_prob)\n",
    "plt.plot(fpr, tpr, label='Class 0 ROC curve')\n",
    "plt.xlabel('False Positive Rate')\n",
    "plt.ylabel('True Positive Rate')\n",
    "plt.title('ROC Curve')\n",
    "plt.legend(loc='best')\n",
    "plt.show()"
   ],
   "id": "22db5605b2f8f124",
   "outputs": [],
   "execution_count": null
  },
  {
   "metadata": {},
   "cell_type": "code",
   "source": [
    "#Auburn Subset\n",
    "aub_bb_rr = bb_rr[bb_rr['PitcherTeam']=='AUB_TIG']\n",
    "print(aub_bb_rr.shape)"
   ],
   "id": "728160272893a64d",
   "outputs": [],
   "execution_count": null
  },
  {
   "metadata": {},
   "cell_type": "code",
   "source": [
    "# Get unique values\n",
    "unique_values = bb_rr['Pitcher'].unique()\n",
    "aub_unique_values = aub_bb_rr['Pitcher'].unique()\n",
    "\n",
    "#Print list of Auburn pitchers for selected split\n",
    "print(aub_unique_values)\n",
    "\n",
    "# Create a dictionary to store subsets\n",
    "subsets = {value: bb_rr[bb_rr['Pitcher'] == value] for value in unique_values}\n",
    "aub_subsets = {value: bb_rr[bb_rr['Pitcher'] == value] for value in aub_unique_values}"
   ],
   "id": "b8ffff4d23b9dd5b",
   "outputs": [],
   "execution_count": null
  },
  {
   "metadata": {},
   "cell_type": "code",
   "source": [
    "def aub_rr_bb_stuff(name):\n",
    "    \n",
    "    preds = ['RelSpeed','VertRelAngle','HorzRelAngle','SpinRate','SpinAxis','RelHeight','RelSide','Extension','VertBreak','InducedVertBreak','HorzBreak','ZoneSpeed','VertApprAngle','HorzApprAngle','ZoneTime','pfxx','pfxz','x0','y0','z0','vx0','vy0','vz0','ax0','ay0','az0','SpeedDrop','PitchTrajectoryXc1','PitchTrajectoryXc2','PitchTrajectoryYc0','PitchTrajectoryYc1','PitchTrajectoryYc2','PitchTrajectoryZc0','PitchTrajectoryZc1','PitchTrajectoryZc2']\n",
    "    \n",
    "    all_preds = model.predict_proba(bb_rr_X)[:,1]\n",
    "    mean_pred = np.mean(all_preds)\n",
    "\n",
    "    pitcher = aub_subsets[name]\n",
    "    pitcher_x = pitcher[preds]\n",
    "\n",
    "    whiff_preds = model.predict_proba(pitcher_x)[:,1]\n",
    "\n",
    "    stuff = whiff_preds/mean_pred\n",
    "    \n",
    "    print(f\"{name} breaking ball rr stuff+: {np.mean(stuff * 100)}\")\n",
    "\n",
    "    \n"
   ],
   "id": "2c8cac2553e909da",
   "outputs": [],
   "execution_count": null
  },
  {
   "metadata": {},
   "cell_type": "code",
   "source": [
    "#Stuff+ for selected Auburn pitchers Breaking Ball in RHP v RHB split\n",
    "for pitcher in aub_unique_values:\n",
    "    aub_rr_bb_stuff(pitcher)"
   ],
   "id": "9c08897711911009",
   "outputs": [],
   "execution_count": null
  },
  {
   "metadata": {},
   "cell_type": "markdown",
   "source": "Righty vs. Lefty Split",
   "id": "591c1dd55e8bffc9"
  },
  {
   "metadata": {},
   "cell_type": "code",
   "source": [
    "bb_rl_X = bb_rl[preds]\n",
    "bb_rl_y = bb_rl['whiff']"
   ],
   "id": "cb1b8de552536bba",
   "outputs": [],
   "execution_count": null
  },
  {
   "metadata": {},
   "cell_type": "code",
   "source": [
    "#Train Model: RHP vs LHB\n",
    "X_train, X_test, y_train, y_test = train_test_split(bb_rl_X, bb_rl_y, test_size=.33, random_state=25)\n",
    "\n",
    "model = XGBClassifier()\n",
    "model.fit(X_train, y_train)\n",
    "\n",
    "y_pred = model.predict(X_test)\n",
    "predictions = [round(value) for value in y_pred]\n",
    "\n",
    "accuracy = accuracy_score(y_test, predictions)\n",
    "print(\"Accuracy: %.2f%%\" % (accuracy * 100.0))"
   ],
   "id": "6b0bf221bf62e327",
   "outputs": [],
   "execution_count": null
  },
  {
   "metadata": {},
   "cell_type": "code",
   "source": [
    "#Auburn Subset\n",
    "aub_bb_rl = bb_rl[bb_rl['PitcherTeam']=='AUB_TIG']\n",
    "print(aub_bb_rl.shape)"
   ],
   "id": "5c34ed7722ad1cc9",
   "outputs": [],
   "execution_count": null
  },
  {
   "metadata": {},
   "cell_type": "code",
   "source": [
    "# Get unique values\n",
    "unique_values = bb_rl['Pitcher'].unique()\n",
    "aub_unique_values = aub_bb_rl['Pitcher'].unique()\n",
    "\n",
    "#Print list of Auburn pitchers for selected split\n",
    "print(aub_unique_values)\n",
    "\n",
    "# Create a dictionary to store subsets\n",
    "subsets = {value: bb_rl[bb_rl['Pitcher'] == value] for value in unique_values}\n",
    "aub_subsets = {value: bb_rl[bb_rl['Pitcher'] == value] for value in aub_unique_values}"
   ],
   "id": "6d50c4b64f203761",
   "outputs": [],
   "execution_count": null
  },
  {
   "metadata": {},
   "cell_type": "code",
   "source": [
    "def aub_rl_bb_stuff(name):\n",
    "    \n",
    "    preds = ['RelSpeed','VertRelAngle','HorzRelAngle','SpinRate','SpinAxis','RelHeight','RelSide','Extension','VertBreak','InducedVertBreak','HorzBreak','ZoneSpeed','VertApprAngle','HorzApprAngle','ZoneTime','pfxx','pfxz','x0','y0','z0','vx0','vy0','vz0','ax0','ay0','az0','SpeedDrop','PitchTrajectoryXc1','PitchTrajectoryXc2','PitchTrajectoryYc0','PitchTrajectoryYc1','PitchTrajectoryYc2','PitchTrajectoryZc0','PitchTrajectoryZc1','PitchTrajectoryZc2']\n",
    "    \n",
    "    all_preds = model.predict_proba(bb_rl_X)[:,1]\n",
    "    mean_pred = np.mean(all_preds)\n",
    "\n",
    "    pitcher = aub_subsets[name]\n",
    "    pitcher_x = pitcher[preds]\n",
    "\n",
    "    whiff_preds = model.predict_proba(pitcher_x)[:,1]\n",
    "\n",
    "    stuff = whiff_preds/mean_pred\n",
    "    \n",
    "    print(f\"{name} breaking ball rl stuff+: {np.mean(stuff * 100)}\")\n"
   ],
   "id": "dd45c50cfe0fcc1f",
   "outputs": [],
   "execution_count": null
  },
  {
   "metadata": {},
   "cell_type": "code",
   "source": [
    "#Stuff+ for selected Auburn pitchers Breaking Ball in RHP v LHB split\n",
    "for pitcher in aub_unique_values:\n",
    "    aub_rl_bb_stuff(pitcher)"
   ],
   "id": "fcadeac3b0a3d6bd",
   "outputs": [],
   "execution_count": null
  },
  {
   "metadata": {},
   "cell_type": "markdown",
   "source": "Lefty vs. Righty Split",
   "id": "ce5b0dddb5250dcd"
  },
  {
   "metadata": {},
   "cell_type": "code",
   "source": [
    "bb_lr_X = bb_lr[preds]\n",
    "bb_lr_y = bb_lr['whiff']"
   ],
   "id": "64cd0285a7ac73ef",
   "outputs": [],
   "execution_count": null
  },
  {
   "metadata": {},
   "cell_type": "code",
   "source": [
    "#Train Model: LHP vs RHB\n",
    "X_train, X_test, y_train, y_test = train_test_split(bb_lr_X, bb_lr_y, test_size=.33, random_state=25)\n",
    "\n",
    "model = XGBClassifier()\n",
    "model.fit(X_train, y_train)\n",
    "\n",
    "y_pred = model.predict(X_test)\n",
    "predictions = [round(value) for value in y_pred]\n",
    "\n",
    "accuracy = accuracy_score(y_test, predictions)\n",
    "print(\"Accuracy: %.2f%%\" % (accuracy * 100.0))"
   ],
   "id": "c617aad869e38f8f",
   "outputs": [],
   "execution_count": null
  },
  {
   "metadata": {},
   "cell_type": "code",
   "source": [
    "#Auburn Subset\n",
    "aub_bb_lr = bb_lr[bb_lr['PitcherTeam']=='AUB_TIG']\n",
    "print(aub_bb_lr.shape)"
   ],
   "id": "2fc21eae4f249663",
   "outputs": [],
   "execution_count": null
  },
  {
   "metadata": {},
   "cell_type": "code",
   "source": [
    "# Get unique values\n",
    "unique_values = bb_lr['Pitcher'].unique()\n",
    "aub_unique_values = aub_bb_lr['Pitcher'].unique()\n",
    "\n",
    "#Print list of Auburn pitchers for selected split\n",
    "print(aub_unique_values)\n",
    "\n",
    "# Create a dictionary to store subsets\n",
    "subsets = {value: bb_lr[bb_lr['Pitcher'] == value] for value in unique_values}\n",
    "aub_subsets = {value: bb_lr[bb_lr['Pitcher'] == value] for value in aub_unique_values}"
   ],
   "id": "29c9ff1542024581",
   "outputs": [],
   "execution_count": null
  },
  {
   "metadata": {},
   "cell_type": "code",
   "source": [
    "def aub_lr_bb_stuff(name):\n",
    "    \n",
    "    preds = ['RelSpeed','VertRelAngle','HorzRelAngle','SpinRate','SpinAxis','RelHeight','RelSide','Extension','VertBreak','InducedVertBreak','HorzBreak','ZoneSpeed','VertApprAngle','HorzApprAngle','ZoneTime','pfxx','pfxz','x0','y0','z0','vx0','vy0','vz0','ax0','ay0','az0','SpeedDrop','PitchTrajectoryXc1','PitchTrajectoryXc2','PitchTrajectoryYc0','PitchTrajectoryYc1','PitchTrajectoryYc2','PitchTrajectoryZc0','PitchTrajectoryZc1','PitchTrajectoryZc2']\n",
    "    \n",
    "    all_preds = model.predict_proba(bb_lr_X)[:,1]\n",
    "    mean_pred = np.mean(all_preds)\n",
    "\n",
    "    pitcher = aub_subsets[name]\n",
    "    pitcher_x = pitcher[preds]\n",
    "\n",
    "    whiff_preds = model.predict_proba(pitcher_x)[:,1]\n",
    "\n",
    "    stuff = whiff_preds/mean_pred\n",
    "    \n",
    "    print(f\"{name} breaking ball lr stuff+: {np.mean(stuff * 100)}\")\n"
   ],
   "id": "a677b6f47617df19",
   "outputs": [],
   "execution_count": null
  },
  {
   "metadata": {},
   "cell_type": "code",
   "source": [
    "#Stuff+ for selected Auburn pitchers Breaking Ball in LHP v RHB split\n",
    "for pitcher in aub_unique_values:\n",
    "    aub_lr_bb_stuff(pitcher)"
   ],
   "id": "940742c5f17e2798",
   "outputs": [],
   "execution_count": null
  },
  {
   "metadata": {},
   "cell_type": "markdown",
   "source": "Lefty vs. Lefty Split",
   "id": "f5de1b0527f283ad"
  },
  {
   "metadata": {},
   "cell_type": "code",
   "source": [
    "bb_ll_X = bb_ll[preds]\n",
    "bb_ll_y = bb_ll['whiff']"
   ],
   "id": "2db8a68bfd2bc46c",
   "outputs": [],
   "execution_count": null
  },
  {
   "metadata": {},
   "cell_type": "code",
   "source": [
    "#Train Model: LHP vs LHB\n",
    "X_train, X_test, y_train, y_test = train_test_split(bb_ll_X, bb_ll_y, test_size=.33, random_state=25)\n",
    "\n",
    "model = XGBClassifier()\n",
    "model.fit(X_train, y_train)\n",
    "\n",
    "y_pred = model.predict(X_test)\n",
    "predictions = [round(value) for value in y_pred]\n",
    "\n",
    "accuracy = accuracy_score(y_test, predictions)\n",
    "print(\"Accuracy: %.2f%%\" % (accuracy * 100.0))"
   ],
   "id": "5baff89fcf2cd50a",
   "outputs": [],
   "execution_count": null
  },
  {
   "metadata": {},
   "cell_type": "code",
   "source": [
    "#Auburn Subset\n",
    "aub_bb_ll = bb_ll[bb_ll['PitcherTeam']=='AUB_TIG']\n",
    "print(aub_bb_ll.shape)"
   ],
   "id": "938500e88a9b5470",
   "outputs": [],
   "execution_count": null
  },
  {
   "metadata": {},
   "cell_type": "code",
   "source": [
    "# Get unique values\n",
    "unique_values = bb_ll['Pitcher'].unique()\n",
    "aub_unique_values = aub_bb_ll['Pitcher'].unique()\n",
    "\n",
    "#Print list of Auburn pitchers for selected split\n",
    "print(aub_unique_values)\n",
    "\n",
    "# Create a dictionary to store subsets\n",
    "subsets = {value: bb_ll[bb_ll['Pitcher'] == value] for value in unique_values}\n",
    "aub_subsets = {value: bb_ll[bb_ll['Pitcher'] == value] for value in aub_unique_values}"
   ],
   "id": "49ae847a9657b478",
   "outputs": [],
   "execution_count": null
  },
  {
   "metadata": {},
   "cell_type": "code",
   "source": [
    "def aub_ll_bb_stuff(name):\n",
    "    \n",
    "    preds = ['RelSpeed','VertRelAngle','HorzRelAngle','SpinRate','SpinAxis','RelHeight','RelSide','Extension','VertBreak','InducedVertBreak','HorzBreak','ZoneSpeed','VertApprAngle','HorzApprAngle','ZoneTime','pfxx','pfxz','x0','y0','z0','vx0','vy0','vz0','ax0','ay0','az0','SpeedDrop','PitchTrajectoryXc1','PitchTrajectoryXc2','PitchTrajectoryYc0','PitchTrajectoryYc1','PitchTrajectoryYc2','PitchTrajectoryZc0','PitchTrajectoryZc1','PitchTrajectoryZc2']\n",
    "    \n",
    "    all_preds = model.predict_proba(bb_ll_X)[:,1]\n",
    "    mean_pred = np.mean(all_preds)\n",
    "\n",
    "    pitcher = aub_subsets[name]\n",
    "    pitcher_x = pitcher[preds]\n",
    "\n",
    "    whiff_preds = model.predict_proba(pitcher_x)[:,1]\n",
    "\n",
    "    stuff = whiff_preds/mean_pred\n",
    "    \n",
    "    print(f\"{name} breaking ball ll stuff+: {np.mean(stuff * 100)}\")\n"
   ],
   "id": "1301528c68fca559",
   "outputs": [],
   "execution_count": null
  },
  {
   "metadata": {},
   "cell_type": "code",
   "source": [
    "#Stuff+ for selected Auburn pitchers Breaking Ball in LHP v LHB split\n",
    "for pitcher in aub_unique_values:\n",
    "    aub_ll_bb_stuff(pitcher)"
   ],
   "id": "fc73b3c634402198",
   "outputs": [],
   "execution_count": null
  }
 ],
 "metadata": {
  "kernelspec": {
   "display_name": "Python 3",
   "language": "python",
   "name": "python3"
  },
  "language_info": {
   "codemirror_mode": {
    "name": "ipython",
    "version": 2
   },
   "file_extension": ".py",
   "mimetype": "text/x-python",
   "name": "python",
   "nbconvert_exporter": "python",
   "pygments_lexer": "ipython2",
   "version": "2.7.6"
  }
 },
 "nbformat": 4,
 "nbformat_minor": 5
}
