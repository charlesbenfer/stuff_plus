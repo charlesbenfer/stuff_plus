{
 "cells": [
  {
   "metadata": {
    "ExecuteTime": {
     "end_time": "2024-10-05T00:03:32.918782Z",
     "start_time": "2024-10-05T00:03:31.570688Z"
    }
   },
   "cell_type": "code",
   "source": [
    "#Packages\n",
    "import os\n",
    "import pandas as pd\n",
    "import numpy as np\n",
    "import xgboost\n",
    "from xgboost import XGBClassifier\n",
    "from sklearn.model_selection import train_test_split\n",
    "from sklearn.metrics import accuracy_score, confusion_matrix, precision_score, recall_score, f1_score, roc_auc_score, roc_curve\n",
    "from hyperopt import STATUS_OK, Trials, fmin, hp, tpe\n",
    "import matplotlib.pyplot as plt\n",
    "import seaborn as sns\n",
    "import shap"
   ],
   "id": "36cdf49084772c84",
   "outputs": [],
   "execution_count": 1
  },
  {
   "metadata": {
    "ExecuteTime": {
     "end_time": "2024-10-05T00:03:51.093281Z",
     "start_time": "2024-10-05T00:03:41.982121Z"
    }
   },
   "cell_type": "code",
   "source": [
    "#Get Data\n",
    "csv_dir = '../SEC Trackman Data/'\n",
    "all_files = [os.path.join(csv_dir, f) for f in os.listdir(csv_dir) if f.endswith('.csv')]\n",
    "\n",
    "df_list = []\n",
    "\n",
    "for file in all_files:\n",
    "    df = pd.read_csv(file)\n",
    "    df_list.append(df)\n",
    "\n",
    "all_pitches = pd.concat(df_list, ignore_index=True)\n",
    "\n",
    "print(all_pitches.shape)\n",
    "print(all_pitches.columns)"
   ],
   "id": "ec3b95b4019828e0",
   "outputs": [
    {
     "name": "stdout",
     "output_type": "stream",
     "text": [
      "(270589, 167)\n",
      "Index(['PitchNo', 'Date', 'Time', 'PAofInning', 'PitchofPA', 'Pitcher',\n",
      "       'PitcherId', 'PitcherThrows', 'PitcherTeam', 'Batter',\n",
      "       ...\n",
      "       'ThrowTrajectoryZc1', 'ThrowTrajectoryZc2', 'PitchReleaseConfidence',\n",
      "       'PitchLocationConfidence', 'PitchMovementConfidence',\n",
      "       'HitLaunchConfidence', 'HitLandingConfidence',\n",
      "       'CatcherThrowCatchConfidence', 'CatcherThrowReleaseConfidence',\n",
      "       'CatcherThrowLocationConfidence'],\n",
      "      dtype='object', length=167)\n"
     ]
    }
   ],
   "execution_count": 2
  },
  {
   "metadata": {
    "ExecuteTime": {
     "end_time": "2024-10-05T00:05:24.229640Z",
     "start_time": "2024-10-05T00:05:24.075064Z"
    }
   },
   "cell_type": "code",
   "source": [
    "#Get all breaking balls \n",
    "bb = all_pitches[all_pitches['TaggedPitchType'].isin(['Curveball', 'Slider','Knuckleball'])]\n",
    "print(bb.shape)"
   ],
   "id": "c6292d6d2ba3f237",
   "outputs": [
    {
     "name": "stdout",
     "output_type": "stream",
     "text": [
      "(80860, 167)\n"
     ]
    }
   ],
   "execution_count": 3
  },
  {
   "metadata": {
    "ExecuteTime": {
     "end_time": "2024-10-05T00:06:18.105033Z",
     "start_time": "2024-10-05T00:06:17.944912Z"
    }
   },
   "cell_type": "code",
   "source": [
    "#Subset breaking balls into platoon splits\n",
    "bb_rr = bb[(bb['PitcherThrows'] == 'Right') & (bb['BatterSide'] == 'Right')]\n",
    "bb_rl = bb[(bb['PitcherThrows'] == 'Right') & (bb['BatterSide'] == 'Left')]\n",
    "bb_lr = bb[(bb['PitcherThrows'] == 'Left') & (bb['BatterSide'] == 'Right')]\n",
    "bb_ll = bb[(bb['PitcherThrows'] == 'Left') & (bb['BatterSide'] == 'Left')]\n",
    "\n",
    "print(bb_rr.shape)\n",
    "print(bb_rl.shape)\n",
    "print(bb_lr.shape)\n",
    "print(bb_ll.shape)"
   ],
   "id": "525d58093e8b5f48",
   "outputs": [
    {
     "name": "stdout",
     "output_type": "stream",
     "text": [
      "(38471, 167)\n",
      "(17919, 167)\n",
      "(12888, 167)\n",
      "(11505, 167)\n"
     ]
    }
   ],
   "execution_count": 4
  },
  {
   "metadata": {
    "ExecuteTime": {
     "end_time": "2024-10-05T00:06:44.479307Z",
     "start_time": "2024-10-05T00:06:44.457978Z"
    }
   },
   "cell_type": "code",
   "source": [
    "#Whiffs\n",
    "bb_rr['whiff'] = np.where(bb_rr['PitchCall']=='StrikeSwinging',1,0)\n",
    "bb_rl['whiff'] = np.where(bb_rl['PitchCall']=='StrikeSwinging',1,0)\n",
    "bb_lr['whiff'] = np.where(bb_lr['PitchCall']=='StrikeSwinging',1,0)\n",
    "bb_ll['whiff'] = np.where(bb_ll['PitchCall']=='StrikeSwinging',1,0)"
   ],
   "id": "9ce479334d688b3e",
   "outputs": [
    {
     "name": "stderr",
     "output_type": "stream",
     "text": [
      "C:\\Users\\ethan\\AppData\\Local\\Temp\\ipykernel_23528\\96758115.py:2: SettingWithCopyWarning: \n",
      "A value is trying to be set on a copy of a slice from a DataFrame.\n",
      "Try using .loc[row_indexer,col_indexer] = value instead\n",
      "\n",
      "See the caveats in the documentation: https://pandas.pydata.org/pandas-docs/stable/user_guide/indexing.html#returning-a-view-versus-a-copy\n",
      "  bb_rr['whiff'] = np.where(bb_rr['PitchCall']=='StrikeSwinging',1,0)\n",
      "C:\\Users\\ethan\\AppData\\Local\\Temp\\ipykernel_23528\\96758115.py:3: SettingWithCopyWarning: \n",
      "A value is trying to be set on a copy of a slice from a DataFrame.\n",
      "Try using .loc[row_indexer,col_indexer] = value instead\n",
      "\n",
      "See the caveats in the documentation: https://pandas.pydata.org/pandas-docs/stable/user_guide/indexing.html#returning-a-view-versus-a-copy\n",
      "  bb_rl['whiff'] = np.where(bb_rl['PitchCall']=='StrikeSwinging',1,0)\n",
      "C:\\Users\\ethan\\AppData\\Local\\Temp\\ipykernel_23528\\96758115.py:4: SettingWithCopyWarning: \n",
      "A value is trying to be set on a copy of a slice from a DataFrame.\n",
      "Try using .loc[row_indexer,col_indexer] = value instead\n",
      "\n",
      "See the caveats in the documentation: https://pandas.pydata.org/pandas-docs/stable/user_guide/indexing.html#returning-a-view-versus-a-copy\n",
      "  bb_lr['whiff'] = np.where(bb_lr['PitchCall']=='StrikeSwinging',1,0)\n",
      "C:\\Users\\ethan\\AppData\\Local\\Temp\\ipykernel_23528\\96758115.py:5: SettingWithCopyWarning: \n",
      "A value is trying to be set on a copy of a slice from a DataFrame.\n",
      "Try using .loc[row_indexer,col_indexer] = value instead\n",
      "\n",
      "See the caveats in the documentation: https://pandas.pydata.org/pandas-docs/stable/user_guide/indexing.html#returning-a-view-versus-a-copy\n",
      "  bb_ll['whiff'] = np.where(bb_ll['PitchCall']=='StrikeSwinging',1,0)\n"
     ]
    }
   ],
   "execution_count": 5
  },
  {
   "metadata": {
    "ExecuteTime": {
     "end_time": "2024-10-05T00:06:54.731488Z",
     "start_time": "2024-10-05T00:06:54.707394Z"
    }
   },
   "cell_type": "code",
   "source": [
    "#Predictor Variables\n",
    "preds = ['RelSpeed','VertRelAngle','HorzRelAngle','SpinRate','SpinAxis','RelHeight','RelSide','Extension','VertBreak','InducedVertBreak','HorzBreak','ZoneSpeed','VertApprAngle','HorzApprAngle','ZoneTime','pfxx','pfxz','x0','y0','z0','vx0','vy0','vz0','ax0','ay0','az0','SpeedDrop','PitchTrajectoryXc1','PitchTrajectoryXc2','PitchTrajectoryYc0','PitchTrajectoryYc1','PitchTrajectoryYc2','PitchTrajectoryZc0','PitchTrajectoryZc1','PitchTrajectoryZc2']"
   ],
   "id": "bf4c8e51c80a16cd",
   "outputs": [],
   "execution_count": 6
  },
  {
   "metadata": {},
   "cell_type": "markdown",
   "source": "Righty vs. Righty Split",
   "id": "c71aed4171b55548"
  },
  {
   "metadata": {
    "ExecuteTime": {
     "end_time": "2024-10-05T00:07:26.737747Z",
     "start_time": "2024-10-05T00:07:26.718994Z"
    }
   },
   "cell_type": "code",
   "source": [
    "bb_rr_X = bb_rr[preds]\n",
    "bb_rr_y = bb_rr['whiff']"
   ],
   "id": "f980b60995bc0601",
   "outputs": [],
   "execution_count": 7
  },
  {
   "metadata": {
    "ExecuteTime": {
     "end_time": "2024-10-05T00:07:40.108018Z",
     "start_time": "2024-10-05T00:07:39.511922Z"
    }
   },
   "cell_type": "code",
   "source": [
    "#Train Model: RHP vs RHB\n",
    "X_train, X_test, y_train, y_test = train_test_split(bb_rr_X, bb_rr_y, test_size=.33, random_state=25)\n",
    "\n",
    "model = XGBClassifier()\n",
    "model.fit(X_train, y_train)\n",
    "\n",
    "y_pred = model.predict(X_test)\n",
    "predictions = [round(value) for value in y_pred]\n",
    "\n",
    "accuracy = accuracy_score(y_test, predictions)\n",
    "print(\"Accuracy: %.2f%%\" % (accuracy * 100.0))"
   ],
   "id": "682dc710f803e8d0",
   "outputs": [
    {
     "name": "stdout",
     "output_type": "stream",
     "text": [
      "Accuracy: 86.36%\n"
     ]
    }
   ],
   "execution_count": 8
  },
  {
   "metadata": {
    "ExecuteTime": {
     "end_time": "2024-10-05T00:07:57.168647Z",
     "start_time": "2024-10-05T00:07:56.891182Z"
    }
   },
   "cell_type": "code",
   "source": [
    "y_pred_prob = model.predict_proba(X_test)[:,1]\n",
    "roc_auc = roc_auc_score(y_test, predictions, multi_class='ovr')\n",
    "\n",
    "print(f'ROC AUC: {roc_auc:.4f}')\n",
    "\n",
    "# Plotting ROC Curve for one class (e.g., class 0)\n",
    "fpr, tpr, _ = roc_curve(y_test == 1, y_pred_prob)\n",
    "plt.plot(fpr, tpr, label='Class 0 ROC curve')\n",
    "plt.xlabel('False Positive Rate')\n",
    "plt.ylabel('True Positive Rate')\n",
    "plt.title('ROC Curve')\n",
    "plt.legend(loc='best')\n",
    "plt.show()"
   ],
   "id": "22db5605b2f8f124",
   "outputs": [
    {
     "name": "stdout",
     "output_type": "stream",
     "text": [
      "ROC AUC: 0.5219\n"
     ]
    },
    {
     "data": {
      "text/plain": [
       "<Figure size 640x480 with 1 Axes>"
      ],
      "image/png": "[encoded data removed]"
     },
     "metadata": {},
     "output_type": "display_data"
    }
   ],
   "execution_count": 9
  },
  {
   "metadata": {
    "ExecuteTime": {
     "end_time": "2024-10-05T00:08:17.004212Z",
     "start_time": "2024-10-05T00:08:13.664290Z"
    }
   },
   "cell_type": "code",
   "source": [
    "# Get unique values\n",
    "unique_values = bb_rr['Pitcher'].unique()\n",
    "\n",
    "\n",
    "#List of Pitchers that threw splitter, as well as amount\n",
    "print(unique_values, len(unique_values))\n",
    "\n",
    "# Create a dictionary to store subsets\n",
    "subsets = {value: bb_rr[bb_rr['Pitcher'] == value] for value in unique_values}"
   ],
   "id": "b8ffff4d23b9dd5b",
   "outputs": [
    {
     "name": "stdout",
     "output_type": "stream",
     "text": [
      "['Dettmer, Nathan' 'Tidwell, Blade' 'Magers, Alex' ... 'Pingeton, Anthony'\n",
      " 'Causey, A.J.' \"O'Brien Cameron\"] 1466\n"
     ]
    }
   ],
   "execution_count": 10
  },
  {
   "metadata": {
    "ExecuteTime": {
     "end_time": "2024-10-05T00:08:31.469596Z",
     "start_time": "2024-10-05T00:08:31.454840Z"
    }
   },
   "cell_type": "code",
   "source": [
    "def rr_bb_stuff(name):\n",
    "    \n",
    "    preds = ['RelSpeed','VertRelAngle','HorzRelAngle','SpinRate','SpinAxis','RelHeight','RelSide','Extension','VertBreak','InducedVertBreak','HorzBreak','ZoneSpeed','VertApprAngle','HorzApprAngle','ZoneTime','pfxx','pfxz','x0','y0','z0','vx0','vy0','vz0','ax0','ay0','az0','SpeedDrop','PitchTrajectoryXc1','PitchTrajectoryXc2','PitchTrajectoryYc0','PitchTrajectoryYc1','PitchTrajectoryYc2','PitchTrajectoryZc0','PitchTrajectoryZc1','PitchTrajectoryZc2']\n",
    "    \n",
    "    all_preds = model.predict_proba(bb_rr_X)[:,1]\n",
    "    mean_pred = np.mean(all_preds)\n",
    "\n",
    "    pitcher = subsets[name]\n",
    "    pitcher_x = pitcher[preds]\n",
    "\n",
    "    whiff_preds = model.predict_proba(pitcher_x)[:,1]\n",
    "\n",
    "    stuff = whiff_preds/mean_pred\n",
    "    \n",
    "    return np.mean(stuff * 100)\n",
    "\n",
    "    \n"
   ],
   "id": "2c8cac2553e909da",
   "outputs": [],
   "execution_count": 11
  },
  {
   "metadata": {
    "ExecuteTime": {
     "end_time": "2024-10-05T00:08:52.413759Z",
     "start_time": "2024-10-05T00:08:52.348324Z"
    }
   },
   "cell_type": "code",
   "source": [
    "#Stuff+ for selected pitchers breaking balls in RHP v RHB split\n",
    "rr_bb_stuff('Tilly, Cameron')"
   ],
   "id": "9c08897711911009",
   "outputs": [
    {
     "data": {
      "text/plain": [
       "91.87367"
      ]
     },
     "execution_count": 12,
     "metadata": {},
     "output_type": "execute_result"
    }
   ],
   "execution_count": 12
  },
  {
   "metadata": {},
   "cell_type": "markdown",
   "source": "Righty vs. Lefty Split",
   "id": "591c1dd55e8bffc9"
  },
  {
   "metadata": {
    "ExecuteTime": {
     "end_time": "2024-10-05T00:09:20.468873Z",
     "start_time": "2024-10-05T00:09:20.451Z"
    }
   },
   "cell_type": "code",
   "source": [
    "bb_rl_X = bb_rl[preds]\n",
    "bb_rl_y = bb_rl['whiff']"
   ],
   "id": "cb1b8de552536bba",
   "outputs": [],
   "execution_count": 13
  },
  {
   "metadata": {
    "ExecuteTime": {
     "end_time": "2024-10-05T00:09:34.580944Z",
     "start_time": "2024-10-05T00:09:34.255759Z"
    }
   },
   "cell_type": "code",
   "source": [
    "#Train Model: RHP vs LHB\n",
    "X_train, X_test, y_train, y_test = train_test_split(bb_rl_X, bb_rl_y, test_size=.33, random_state=25)\n",
    "\n",
    "model = XGBClassifier()\n",
    "model.fit(X_train, y_train)\n",
    "\n",
    "y_pred = model.predict(X_test)\n",
    "predictions = [round(value) for value in y_pred]\n",
    "\n",
    "accuracy = accuracy_score(y_test, predictions)\n",
    "print(\"Accuracy: %.2f%%\" % (accuracy * 100.0))"
   ],
   "id": "6b0bf221bf62e327",
   "outputs": [
    {
     "name": "stdout",
     "output_type": "stream",
     "text": [
      "Accuracy: 87.32%\n"
     ]
    }
   ],
   "execution_count": 14
  },
  {
   "metadata": {
    "ExecuteTime": {
     "end_time": "2024-10-05T00:09:55.727346Z",
     "start_time": "2024-10-05T00:09:53.824847Z"
    }
   },
   "cell_type": "code",
   "source": [
    "# Get unique values\n",
    "unique_values = bb_rl['Pitcher'].unique()\n",
    "\n",
    "#List of Pitchers that threw splitter, as well as amount\n",
    "print(unique_values, len(unique_values))\n",
    "\n",
    "# Create a dictionary to store subsets\n",
    "subsets = {value: bb_rl[bb_rl['Pitcher'] == value] for value in unique_values}"
   ],
   "id": "6d50c4b64f203761",
   "outputs": [
    {
     "name": "stdout",
     "output_type": "stream",
     "text": [
      "['Dettmer, Nathan' 'Hunley, Sean' 'Werner, Trevor' ... 'Stamos, Chris'\n",
      " 'Causey, A.J.' \"O'Brien Cameron\"] 1209\n"
     ]
    }
   ],
   "execution_count": 15
  },
  {
   "metadata": {
    "ExecuteTime": {
     "end_time": "2024-10-05T00:10:10.935616Z",
     "start_time": "2024-10-05T00:10:10.918815Z"
    }
   },
   "cell_type": "code",
   "source": [
    "def rl_bb_stuff(name):\n",
    "    \n",
    "    preds = ['RelSpeed','VertRelAngle','HorzRelAngle','SpinRate','SpinAxis','RelHeight','RelSide','Extension','VertBreak','InducedVertBreak','HorzBreak','ZoneSpeed','VertApprAngle','HorzApprAngle','ZoneTime','pfxx','pfxz','x0','y0','z0','vx0','vy0','vz0','ax0','ay0','az0','SpeedDrop','PitchTrajectoryXc1','PitchTrajectoryXc2','PitchTrajectoryYc0','PitchTrajectoryYc1','PitchTrajectoryYc2','PitchTrajectoryZc0','PitchTrajectoryZc1','PitchTrajectoryZc2']\n",
    "    \n",
    "    all_preds = model.predict_proba(bb_rl_X)[:,1]\n",
    "    mean_pred = np.mean(all_preds)\n",
    "\n",
    "    pitcher = subsets[name]\n",
    "    pitcher_x = pitcher[preds]\n",
    "\n",
    "    whiff_preds = model.predict_proba(pitcher_x)[:,1]\n",
    "\n",
    "    stuff = whiff_preds/mean_pred\n",
    "    \n",
    "    return np.mean(stuff * 100)\n"
   ],
   "id": "dd45c50cfe0fcc1f",
   "outputs": [],
   "execution_count": 16
  },
  {
   "metadata": {
    "ExecuteTime": {
     "end_time": "2024-10-05T00:10:50.205342Z",
     "start_time": "2024-10-05T00:10:50.161089Z"
    }
   },
   "cell_type": "code",
   "source": [
    "#Stuff+ for selected pitchers Breaking Balls in RHP v LHB split\n",
    "rl_bb_stuff('Tilly, Cameron')"
   ],
   "id": "fcadeac3b0a3d6bd",
   "outputs": [
    {
     "data": {
      "text/plain": [
       "109.96456"
      ]
     },
     "execution_count": 17,
     "metadata": {},
     "output_type": "execute_result"
    }
   ],
   "execution_count": 17
  },
  {
   "metadata": {},
   "cell_type": "markdown",
   "source": "Lefty vs. Righty Split",
   "id": "ce5b0dddb5250dcd"
  },
  {
   "metadata": {
    "ExecuteTime": {
     "end_time": "2024-10-05T00:11:18.498467Z",
     "start_time": "2024-10-05T00:11:18.481508Z"
    }
   },
   "cell_type": "code",
   "source": [
    "bb_lr_X = bb_lr[preds]\n",
    "bb_lr_y = bb_lr['whiff']"
   ],
   "id": "64cd0285a7ac73ef",
   "outputs": [],
   "execution_count": 18
  },
  {
   "metadata": {
    "ExecuteTime": {
     "end_time": "2024-10-05T00:11:33.537035Z",
     "start_time": "2024-10-05T00:11:33.229576Z"
    }
   },
   "cell_type": "code",
   "source": [
    "#Train Model: LHP vs RHB\n",
    "X_train, X_test, y_train, y_test = train_test_split(bb_lr_X, bb_lr_y, test_size=.33, random_state=25)\n",
    "\n",
    "model = XGBClassifier()\n",
    "model.fit(X_train, y_train)\n",
    "\n",
    "y_pred = model.predict(X_test)\n",
    "predictions = [round(value) for value in y_pred]\n",
    "\n",
    "accuracy = accuracy_score(y_test, predictions)\n",
    "print(\"Accuracy: %.2f%%\" % (accuracy * 100.0))"
   ],
   "id": "c617aad869e38f8f",
   "outputs": [
    {
     "name": "stdout",
     "output_type": "stream",
     "text": [
      "Accuracy: 86.01%\n"
     ]
    }
   ],
   "execution_count": 19
  },
  {
   "metadata": {
    "ExecuteTime": {
     "end_time": "2024-10-05T00:11:48.453157Z",
     "start_time": "2024-10-05T00:11:47.948851Z"
    }
   },
   "cell_type": "code",
   "source": [
    "# Get unique values\n",
    "unique_values = bb_lr['Pitcher'].unique()\n",
    "\n",
    "#List of Pitchers that threw splitter, as well as amount\n",
    "print(unique_values, len(unique_values))\n",
    "\n",
    "# Create a dictionary to store subsets\n",
    "subsets = {value: bb_lr[bb_lr['Pitcher'] == value] for value in unique_values}\n"
   ],
   "id": "29c9ff1542024581",
   "outputs": [
    {
     "name": "stdout",
     "output_type": "stream",
     "text": [
      "['Menefee, Joseph' 'Walsh, Redmond' 'Wall, Chris' 'Robertson, Trae'\n",
      " 'Adams, Aiden' 'LaCalameto, Kyle' 'Prayer, Cameron' 'Johnston, Will'\n",
      " 'Holguin, Al' 'Gilreath, John' 'Rokose, Davis' 'Sullivan, Liam'\n",
      " 'Woods, Jaden' 'Lohse, Ian' 'Shapiro, Joe' 'Sipe, Hunter'\n",
      " 'Yntema, Graham' 'Atiya, Eli' 'Elliott, Hunter' 'Chronowski, Peter'\n",
      " 'Dillard, Matt' 'Hanson, Sam' 'Seiler, Ben' 'Bauman, Tanner'\n",
      " 'Hitt, Grayson' 'Furtado, Hunter' 'Goldstein, Charlie' 'Wagner, Luke'\n",
      " 'Keevan, LJ' 'Cooper, Riley' 'Armbrustmacher, Dane' 'Ackenhausen, Nathan'\n",
      " 'Davis, Tyler' 'Welch, Carter' 'Kimbrell, Jackson' 'Wansing, Troy'\n",
      " 'Dayton, Cameron' 'Vail, Tommy' 'Clifton, Harrison' 'Davis, Alton'\n",
      " 'Sibley, Joshua' 'Duke, Hayden' 'Wheeler, Trey' 'Lopez, Will'\n",
      " 'Rivas, Xavier' 'Grome, Chris' 'Hogan, Kian' 'Sdao, Shane' 'Nelson, Drew'\n",
      " 'Crotchfelt, Zach' 'Kraft, Ryan' 'Senders, Sammy' 'Zielinski, Eli'\n",
      " 'Baker, Will' 'Jette, Jacob' 'Morris, Zack' 'Bates, Ethan'\n",
      " 'Fitzgibbons, Jake' 'Nicholson, Gabe ' 'Bimbi, Jacob' 'Huff, Hollis'\n",
      " 'Loftin, Bradley' 'Waterhouse, Quinn' 'Leger, Jake' 'Walter, Daniel'\n",
      " 'Parks, Michael' 'Whittle, Parker' 'White, Aaron' 'Windham, Payton'\n",
      " 'Sechrist, Zander' 'Campbell, Tyler' 'Sales, Terence ' 'Corley, Brandt'\n",
      " 'Roberts, Tanner' 'Becker, Matthew' 'Sewell, JC' 'Warrick, Isaac'\n",
      " 'Knight, Carson' 'Ginther, Ryan' 'Smith, Hagen' 'Potteiger, Jack'\n",
      " 'Majick, Eli' 'Dunn, Ross' 'Tapper, Brock' 'Cheatham, Cole'\n",
      " 'Garcia, Samuel' 'Evans Jr, Jarvis' 'Rabin, Reece' 'Hoefer, Eric'\n",
      " 'Coady, Owen' 'Tobin, Will' 'Holton, Carter' 'Saum, Jake'\n",
      " 'Manfredi, Mark' 'McCoy, Kyle' 'Garcia, Brandyn' 'Wozniak, Brett'\n",
      " 'Chmielewski, Tom' 'MacDonald, Caden' 'Caldwell, Collin' 'Bosma, Tyler'\n",
      " 'Gongora, Sebastian' 'Luikart, Jay' 'Shoemaker, David' 'Owen, Hunter'\n",
      " 'Hollan, Hunter' 'Coil, Parker' 'Espelin, Nate' 'Tedesco, Jake'\n",
      " 'Connell, Kirby' 'Manning, Timmy' 'Kane, Thomas' 'Rembisz, Ryan'\n",
      " 'Aschenbeck, Evan' 'Scannell, Matt' 'Theis, Alex' 'Peters, Garrett'\n",
      " 'Cotto, Magdiel' 'Valentine, Joe' 'Futrell, Devin' 'Massey, Sam'\n",
      " 'Daugherty, Ryan' 'Ewald, Tim' 'Toney, Bryce' 'Chastine, Kyle'\n",
      " 'Smith, Nic' 'McDaniel, Mason' 'Nove, Jackson' 'Byers, Evan'\n",
      " 'Carter, Daniel' 'Robinson, Jackie' 'Harland, Ryan' 'Mullan, Bradley'\n",
      " 'Niman, Dominic' 'Bosecker, Cory' 'Spizzoucco, Vincent' 'Graverson, Cole'\n",
      " 'Davis, Colin' 'Herring, Griffin' 'Whiteside, Ben'\n",
      " 'Dunkelberger, Michael' 'Frank, Hayden' 'Reyes, Randy'\n",
      " 'Van Treeck, Logan' 'Copeland, Konner' 'Bak, Brandon' 'Neubeck, Tony'\n",
      " 'Spencer, Jared' 'Mueller, Matthew' 'Neuman, Jake' 'Wenzel, Logan'\n",
      " 'Thompson, Noah' 'Ball, Connor' 'Fontenot, Cade' 'Wissler, Daniel'\n",
      " 'Dennehy, Sean' 'Colarusso, AJ' 'Nunan, Matt' 'Hack, Christian'\n",
      " 'Sivley, Kros' 'Burk, Jackson' 'Hasty, Jacob' 'Bell, Jack' 'Lyke, Ethan'\n",
      " 'McNabb, Thomas' 'Holmes, Will' 'Laboy, Jorhan' 'Toledano, Jose'\n",
      " 'Masters, Dillon' 'Tate, Jacob' 'Thompson, JD' 'Mitchell, Joey'\n",
      " 'Perkins, Joey' 'Rodriguez, Jackson' 'Parkinson, William' 'Kidd, Aidan'\n",
      " 'Vurpillat, Grant' 'Gleason, Ryan' 'Aluko, Simon' 'Bakke, John'\n",
      " 'Ganley, Dominic' 'Blackwell, Jonathan' 'Gerl, Ben' 'Guth, Adam'\n",
      " 'Ogden, JD ' 'Hill, Kaleb' 'Gaviria, Daniel' 'Phipps, Jackson'\n",
      " 'Lambert, Cal' 'Schapira, Calvin' 'Rupp, Nick' 'Sellinger, Jack'\n",
      " 'Mercer, Colton' 'Mannelly, Joseph' 'Carwile, Cody' 'Hesseltine, Hunter'\n",
      " 'Cijntje, Jurrangelo' 'Lamkin, Justin' 'Katen, Logan' 'Janak, Dillan'\n",
      " 'McCormick, James' 'Frederick, Jakob' 'Faulkner, Gavin' 'Travis, Bryce'\n",
      " 'Milburn, Isaac' 'Abner, Philip' 'Fisher, Cade' 'Caglianone, Jac'\n",
      " 'Arroyo, Chris' 'Gainer, Luke' 'Prosoki, Cooper' 'Schiff, Cole'\n",
      " 'Gonzales, Isaac' 'Mims, Michael' 'Watkins, Timothy' 'Shaw, David'\n",
      " 'Gordon, Lucas' 'Robbins, Will' 'Hayes, Chat' 'Richter, Chase'\n",
      " 'Boudreaux, Jacorey' 'Smith, Austin' 'Keithley, Carson'\n",
      " 'McCaffety, Rhett' 'Pettys, Ryan' 'Steinhauer, Ryan' 'Tullar, Cameron'\n",
      " 'Sheehan, Tommy' 'Vaught, Chance' 'Frers, Lukas' 'Hamann, Chris'\n",
      " 'Behnke, Andrew' 'Durham, JT' 'Ellis, Luke' 'Parker, Jackson'\n",
      " 'Reid, Rocco' 'Bailey, BJ' 'Smith, Tristan' 'Braziel, Kewan'\n",
      " 'Smith, Brock' 'Coleman, Javen' 'Carrick, Kyle' 'Pimental, Javyn'\n",
      " 'Theriot, Tyler' 'Mancuso, Josh' 'Wales, Marshall' 'McAllister, Aidan'\n",
      " 'Webster, Evan' 'Campbell, Kayden' 'Kuehner, Tate' 'Stratton, Sam'\n",
      " 'Elston, Reece' 'Brasosky, Gavin' 'Eidson, Brayden' \"O'Connor, Tim\"\n",
      " 'Roca, Tony' 'Maynard, Brody' 'Sivec, Derek' 'Borders, Jalen'\n",
      " 'Dearman, Clark' 'Spolyar, Andrew' 'Morgan, Trey' 'Loer, Justin'\n",
      " 'Jump, Gage' 'Shim, Seungmin' 'Moats, Kyle' 'Hentges, Samuel'\n",
      " 'Prager, Ryan' 'Radcliff, Ryan' 'Ross, Luke' 'Byers, Carson '\n",
      " 'Gainey, Garrett' 'Kuhle, Max' 'Williams, T.R.' 'Bello, Jack'\n",
      " 'Hebenstreit, James' 'Hall, Quinton' 'Mattera, Noah' 'Farone, Greg'\n",
      " 'Adams, Zane' 'Heiberger, Matthew' 'Honeycutt, Justin' 'Thompson, Sam'\n",
      " 'Fisher, Bryce' 'Preisel, Connor' 'Martin, Jevarra' 'Beard, Trey'\n",
      " 'Gilbert, Ben' 'Green, Miller' 'Molina, Mason' 'Hewlett, Stone'\n",
      " 'Johnson, Cam' 'Gravel, Alexis' 'Carr, David' 'Myers, Carson'\n",
      " 'Stewart, Bradley' 'Staiano, Michael' 'Vardavas, Nick' 'Abbey, Zach'\n",
      " 'Fisher, Colin' 'Anderson, Kade' 'Stevens, Nolan' 'Clack, Christian'\n",
      " 'Graves, Griffin' 'Bullard, Matthew' 'Torbett, Cole' 'Alderman, Chandler'\n",
      " 'Baker, Luke' 'McElvain, Ethan' 'McCarley, Derek' 'Dallas, Matthew'\n",
      " 'Loy, Dylan' 'Holt, Campbell' 'Scott, Shawn' 'Merriweather, Dj'\n",
      " 'Martinez, Jalen' 'Mendes, Wesley' 'Morales, Wilfredo' 'Kenty, Jansen'\n",
      " 'Ruller, Joseph' 'Huesman, Levi' 'Meyer, Tommy' 'Stamos, Chris'\n",
      " 'Paulsen Jr., Erik' 'Little, Matt' 'Wolff, LJ' 'Wilson, Kaidan'\n",
      " 'Ciuffetelli, Blake' 'Paddack, Liam ' 'Gelbsman, Aidan' 'Payne, Luke'\n",
      " 'Gross, Mitchell' 'Dotson, Luke' 'Dennis, Gunnar' 'Romanias, Tyler'\n",
      " 'Quinn, Thomas' 'Book, Colton' 'Hobb, Jerek' 'Fisher, Ty'\n",
      " 'Phillips, Jacob' 'Simmons, Austin' 'Foley, Lucas' 'Baratta, Dominic'\n",
      " 'Posey, Courtland' 'Lourens, Je-Andrick' 'Haston, Brandon'\n",
      " 'Royal, Hunter' 'Moseley, Kyle' 'Steckmesser, Evan' 'Osborne, Ethan'\n",
      " 'Smith, Hayden' 'Diuguid, Lane' 'Hart, Evan' 'Bertram, Reid'\n",
      " 'Pazos, Bryan' 'Edmonson, Cameron' 'Stam, Matt' 'Moore, Max'\n",
      " 'Krouse, Lucas' 'Doyle, Liam' 'Hogue, Brant' 'Cadieux-Lanoue, Elliot'\n",
      " 'Moss, Cade' 'Lynch, Jake' 'Naranjo, Jordyn' 'Good, Nic'\n",
      " 'Yagesh, Brendan' 'Curley, TJ' 'Speas, Kyle' 'Van Emon, Gabe'\n",
      " 'Quinn, Braden' 'Roulette, Allen' 'Ramos, Rigo' 'Obermueller, Cade'\n",
      " 'Cinnella, Joe' 'Magdic, Ryan' 'Boerema, Owen' 'Paulsen, Fisher'\n",
      " 'Pirkle, Aaron' 'Beckner, Drew' 'Rushing, Logan' 'Malone, James'\n",
      " 'Dillinger, Ethan' 'Fix, Isaac' 'Hall, Regan' 'Mahan, Ethan'\n",
      " 'Warunek, Kevin' 'Roesch, Braden' 'Reed, Sam' 'Hutchings, Payton'\n",
      " 'Gannon, Reed' 'Sharp, Brayden' 'Hughes, Nolan' 'Chronister, Ashton'\n",
      " 'Schultz, Donovan' 'Bradshaw, Riley' 'Wojartowicz, Andre'\n",
      " 'Kopetski, Josh' 'Keplinger, Konner' 'Evans, Drew' 'Behrends, Jeffrey'\n",
      " 'Meier, Jackson' 'Walker, Ethan' 'Gibbons, Sean' 'Deverman, Kenton'\n",
      " 'Howitt, Josh' 'Washington, Khaden' 'Snell, Kade' 'Isaacs, Caleb'\n",
      " 'Ronan, Reed' 'Wilson, Leland' 'Watson, Michael' 'Cleaver, Ben'\n",
      " 'Holderfield, Grant' 'Rushing, Ryan' 'McCoy, Jake' 'Bronzini, Nic'\n",
      " 'Vera, Alex' 'Copeland, Caden' 'Rhadans, Dylan' 'Reed, Kevin'\n",
      " 'Kressin, Jace' 'Battey, Corey' 'Aguado, Devin' 'Rodriguez, Ryne'\n",
      " 'Menendez, Frank' 'Dagley, Ty' 'Adkison, Ethan' 'DeMonica, Nick'\n",
      " 'Dietz, Hunter' 'Burkett II, Jerry' 'Williams, Walker' 'Rich, Keegan'\n",
      " 'Mackowiak, Garrett' 'Gutierrez, Jesse' 'LaBoy, Jorhan' 'Gist, Matthew'\n",
      " 'Sanchez, Corey' 'Erdman, Zach' 'Luce, Hudson' 'Hellmers, Will'\n",
      " 'Kohn, Pico' 'Lysik, Brendan' 'Bridges, Derek' 'Coppola, Pierce'\n",
      " 'White, Ryan' \"O'Donnell, Brendan\" 'Williamson, Timothy'\n",
      " 'Torrealba, Jose' 'Scragg, Josh' 'Bortak, Blake' 'Charlton, Tyler'\n",
      " 'Stewart, Dalen' 'McGovern, Jacob' 'Dutton, Sam ' 'Tavarez, Esteban'\n",
      " 'Primeaux, DJ' 'Risley, Braydon' 'Haley, Matt' 'Darin, Daniel'\n",
      " 'Huddleston, Eli' 'Keller, Kenny' 'Fetterman, Tyler' 'Mayo, Jackson'\n",
      " 'West, Justin' 'Lessman, Jared' 'Phillips, Riley'] 467\n"
     ]
    }
   ],
   "execution_count": 20
  },
  {
   "metadata": {
    "ExecuteTime": {
     "end_time": "2024-10-05T00:12:14.334657Z",
     "start_time": "2024-10-05T00:12:14.316216Z"
    }
   },
   "cell_type": "code",
   "source": [
    "def lr_bb_stuff(name):\n",
    "    \n",
    "    preds = ['RelSpeed','VertRelAngle','HorzRelAngle','SpinRate','SpinAxis','RelHeight','RelSide','Extension','VertBreak','InducedVertBreak','HorzBreak','ZoneSpeed','VertApprAngle','HorzApprAngle','ZoneTime','pfxx','pfxz','x0','y0','z0','vx0','vy0','vz0','ax0','ay0','az0','SpeedDrop','PitchTrajectoryXc1','PitchTrajectoryXc2','PitchTrajectoryYc0','PitchTrajectoryYc1','PitchTrajectoryYc2','PitchTrajectoryZc0','PitchTrajectoryZc1','PitchTrajectoryZc2']\n",
    "    \n",
    "    all_preds = model.predict_proba(bb_lr_X)[:,1]\n",
    "    mean_pred = np.mean(all_preds)\n",
    "\n",
    "    pitcher = subsets[name]\n",
    "    pitcher_x = pitcher[preds]\n",
    "\n",
    "    whiff_preds = model.predict_proba(pitcher_x)[:,1]\n",
    "\n",
    "    stuff = whiff_preds/mean_pred\n",
    "    \n",
    "    return np.mean(stuff * 100)\n"
   ],
   "id": "a677b6f47617df19",
   "outputs": [],
   "execution_count": 21
  },
  {
   "metadata": {
    "ExecuteTime": {
     "end_time": "2024-10-05T00:13:36.966354Z",
     "start_time": "2024-10-05T00:13:36.925022Z"
    }
   },
   "cell_type": "code",
   "source": [
    "#Stuff+ for selected pitchers Breaking Balls in LHP v RHB split\n",
    "lr_bb_stuff('Myers, Carson')"
   ],
   "id": "940742c5f17e2798",
   "outputs": [
    {
     "data": {
      "text/plain": [
       "81.16161"
      ]
     },
     "execution_count": 23,
     "metadata": {},
     "output_type": "execute_result"
    }
   ],
   "execution_count": 23
  },
  {
   "metadata": {},
   "cell_type": "markdown",
   "source": "Lefty vs. Lefty Split",
   "id": "f5de1b0527f283ad"
  },
  {
   "metadata": {
    "ExecuteTime": {
     "end_time": "2024-10-05T00:14:18.943165Z",
     "start_time": "2024-10-05T00:14:18.927025Z"
    }
   },
   "cell_type": "code",
   "source": [
    "bb_ll_X = bb_ll[preds]\n",
    "bb_ll_y = bb_ll['whiff']"
   ],
   "id": "2db8a68bfd2bc46c",
   "outputs": [],
   "execution_count": 24
  },
  {
   "metadata": {
    "ExecuteTime": {
     "end_time": "2024-10-05T00:14:32.651985Z",
     "start_time": "2024-10-05T00:14:32.387311Z"
    }
   },
   "cell_type": "code",
   "source": [
    "#Train Model: LHP vs LHB\n",
    "X_train, X_test, y_train, y_test = train_test_split(bb_ll_X, bb_ll_y, test_size=.33, random_state=25)\n",
    "\n",
    "model = XGBClassifier()\n",
    "model.fit(X_train, y_train)\n",
    "\n",
    "y_pred = model.predict(X_test)\n",
    "predictions = [round(value) for value in y_pred]\n",
    "\n",
    "accuracy = accuracy_score(y_test, predictions)\n",
    "print(\"Accuracy: %.2f%%\" % (accuracy * 100.0))"
   ],
   "id": "5baff89fcf2cd50a",
   "outputs": [
    {
     "name": "stdout",
     "output_type": "stream",
     "text": [
      "Accuracy: 84.49%\n"
     ]
    }
   ],
   "execution_count": 25
  },
  {
   "metadata": {
    "ExecuteTime": {
     "end_time": "2024-10-05T00:15:06.938249Z",
     "start_time": "2024-10-05T00:15:06.322455Z"
    }
   },
   "cell_type": "code",
   "source": [
    "# Get unique values\n",
    "unique_values = bb_ll['Pitcher'].unique()\n",
    "\n",
    "#List of Pitchers that threw splitter, as well as amount\n",
    "print(unique_values, len(unique_values))\n",
    "\n",
    "# Create a dictionary to store subsets\n",
    "subsets = {value: bb_ll[bb_ll['Pitcher'] == value] for value in unique_values}\n"
   ],
   "id": "49ae847a9657b478",
   "outputs": [
    {
     "name": "stdout",
     "output_type": "stream",
     "text": [
      "['Menefee, Joseph' 'Walsh, Redmond' 'Johnston, Will' 'Wall, Chris'\n",
      " 'Adams, Aiden' 'LaCalameto, Kyle' 'Prayer, Cameron' 'Holguin, Al'\n",
      " 'Gilreath, John' 'Rokose, Davis' 'Sullivan, Liam' 'Woods, Jaden'\n",
      " 'Lohse, Ian' 'Shapiro, Joe' 'Sipe, Hunter' 'Yntema, Graham'\n",
      " 'Elliott, Hunter' 'Atiya, Eli' 'Chronowski, Peter' 'Dillard, Matt'\n",
      " 'Hanson, Sam' 'Seiler, Ben' 'Bauman, Tanner' 'Hitt, Grayson'\n",
      " 'Furtado, Hunter' 'Goldstein, Charlie' 'Baker, Will' 'Keevan, LJ'\n",
      " 'Armbrustmacher, Dane' 'Cooper, Riley' 'Ackenhausen, Nathan'\n",
      " 'Davis, Tyler' 'Morgan, Trey' 'Welch, Carter' 'Wansing, Troy'\n",
      " 'Dayton, Cameron' 'Lamkin, Justin' 'Bothwell, Ty' 'Sheehan, Tommy'\n",
      " 'Vail, Tommy' 'Clifton, Harrison' 'Davis, Alton' 'Sibley, Joshua'\n",
      " 'Duke, Hayden' 'Wheeler, Trey' 'Phipps, Jackson' 'Szczepaniak, Drew'\n",
      " 'Lopez, Will' 'Light, Nathan' 'Loftin, Bradley' 'Grome, Chris'\n",
      " 'Rivas, Xavier' 'Hogan, Kian' 'Sdao, Shane' 'Nelson, Drew'\n",
      " 'Crotchfelt, Zach' 'Kraft, Ryan' 'Reinke, Brian' 'Wagner, Luke'\n",
      " 'Jette, Jacob' 'Morris, Zack' 'Bates, Ethan' 'Nicholson, Gabe '\n",
      " 'Grace, Ranard' 'Herring, Griffin' 'Huff, Hollis' 'Waterhouse, Quinn'\n",
      " 'Leger, Jake' 'Walter, Daniel' 'Parks, Michael' 'Whittle, Parker'\n",
      " 'Windham, Payton' 'Campbell, Tyler' 'Sales, Terence ' 'Garcia, Jason'\n",
      " 'Cijntje, Jurrangelo' 'Corley, Brandt' 'Tubbs, Adam' 'Wager, Zach'\n",
      " 'Becker, Matthew' 'Sewell, JC' 'Warrick, Isaac' 'Knight, Carson'\n",
      " 'Ginther, Ryan' 'Steinhauer, Ryan' 'Majick, Eli' 'Dunn, Ross'\n",
      " 'Tapper, Brock' 'Cheatham, Cole' 'Connolly, Caden' 'Garcia, Samuel'\n",
      " 'Rabin, Reece' 'Evans Jr, Jarvis' 'Hoefer, Eric' 'Coady, Owen'\n",
      " 'Tobin, Will' 'Holton, Carter' 'Saum, Jake' 'Manfredi, Mark'\n",
      " 'Humphres, Austin' 'McCoy, Kyle' 'Garcia, Brandyn' 'Wozniak, Brett'\n",
      " 'Ball, Connor' 'Chmielewski, Tom' 'MacDonald, Caden' 'Caldwell, Collin'\n",
      " 'Bosma, Tyler' 'Gongora, Sebastian' 'Luikart, Jay' 'Shoemaker, David'\n",
      " 'Owen, Hunter' 'Espelin, Nate' 'Tedesco, Jake' 'Connell, Kirby'\n",
      " 'Bimbi, Jacob' 'Manning, Timmy' 'Kane, Thomas' 'Rembisz, Ryan'\n",
      " 'Aschenbeck, Evan' 'Scannell, Matt' 'Theis, Alex' 'Peters, Garrett'\n",
      " 'Cotto, Magdiel' 'Futrell, Devin' 'Sechrist, Zander' 'Massey, Sam'\n",
      " 'Daugherty, Ryan' 'Kimbrell, Jackson' 'Fincher, Jonathan' 'Ewald, Tim'\n",
      " 'Toney, Bryce' 'Chastine, Kyle' 'Smith, Nic' 'Wissler, Daniel'\n",
      " 'Hasty, Jacob' 'McDaniel, Mason' 'Bradshaw, Riley' 'Nove, Jackson'\n",
      " 'Carter, Daniel' 'Robinson, Jackie' 'Harland, Ryan' 'Smith, Hagen'\n",
      " 'Coil, Parker' 'Mullan, Bradley' 'Niman, Dominic' 'Bosecker, Cory'\n",
      " 'Spizzoucco, Vincent' 'Graverson, Cole' 'Davis, Colin' 'Whiteside, Ben'\n",
      " 'Dunkelberger, Michael' 'Frank, Hayden' 'Samol, Noah' 'Reyes, Randy'\n",
      " 'Van Treeck, Logan' 'Copeland, Konner' 'Bak, Brandon' 'McCabe, Mark'\n",
      " 'Neubeck, Tony' 'Spencer, Jared' 'Hollan, Hunter' 'Mueller, Matthew'\n",
      " 'Neuman, Jake' 'Wenzel, Logan' 'Thompson, Noah' 'Dennehy, Sean'\n",
      " 'Colarusso, AJ' 'Nunan, Matt' 'Hack, Christian' 'Martin, Tyler'\n",
      " 'Sivley, Kros' 'Rollins, Carson' 'Clark, Christian' 'Burk, Jackson'\n",
      " 'Lyke, Ethan' 'McNabb, Thomas' 'Holmes, Will' 'Hesseltine, Hunter'\n",
      " 'Laboy, Jorhan' 'Toledano, Jose' 'Colon, Shadai' 'Masters, Dillon'\n",
      " 'Byers, Evan' 'Mitchell, Joey' 'Rodriguez, Jackson' 'Parkinson, William'\n",
      " 'Kidd, Aidan' 'Vurpillat, Grant' 'Gleason, Ryan' 'Aluko, Simon'\n",
      " 'Barrera, Diego' 'Bakke, John' 'Ganley, Dominic' 'Blackwell, Jonathan'\n",
      " 'Gerl, Ben' 'Guth, Adam' 'Ogden, JD ' 'Hill, Kaleb' 'Gaviria, Daniel'\n",
      " 'Lambert, Cal' 'Schapira, Calvin' 'DeJong, Holden' 'Thompson, JD'\n",
      " 'Rupp, Nick' 'Fitzgibbons, Jake' 'Smith, Dalton' 'Mannelly, Joseph'\n",
      " 'Carwile, Cody' 'Katen, Logan' 'White, Ryan' 'Wallington, Eric'\n",
      " 'Janak, Dillan' 'McCormick, James' 'Frederick, Jakob' 'Faulkner, Gavin'\n",
      " 'Travis, Bryce' 'Milburn, Isaac' 'Abner, Philip' 'Fisher, Cade'\n",
      " 'Caglianone, Jac' 'Arroyo, Chris' 'Gainer, Luke' 'Prosoki, Cooper'\n",
      " 'Schiff, Cole' 'Gonzales, Isaac' 'Mims, Michael' 'Shaw, David'\n",
      " 'Robbins, Will' 'Mancuso, Josh' 'Hayes, Chat' 'Llinas, Alexander'\n",
      " 'Boudreaux, Jacorey' 'Smith, Austin' 'Keithley, Carson'\n",
      " 'McCaffety, Rhett' 'Stroud, Jack' 'Pettys, Ryan' 'Higgins, Cal'\n",
      " 'Tullar, Cameron' 'Vaught, Chance' 'Frers, Lukas' 'Fitzpatrick, Sean'\n",
      " 'Hamann, Chris' 'Behnke, Andrew' 'Casto, Daniel' 'Durham, JT'\n",
      " 'Ellis, Luke' 'Kendrick, Dalton' 'Parker, Jackson' 'Reid, Rocco'\n",
      " 'Bailey, BJ' 'Smith, Tristan' 'Sivec, Derek' ' Walker, Brady'\n",
      " 'Smith, Brock' 'Niedringhaus, Jack' 'Carrick, Kyle' 'Coleman, Javen'\n",
      " 'Pimental, Javyn' 'Egan, Crew' 'Theriot, Tyler' 'Wales, Marshall'\n",
      " 'McAllister, Aidan' 'Webster, Evan' 'Campbell, Kayden' 'Stratton, Sam'\n",
      " 'Elston, Reece' 'Brasosky, Gavin' 'Hewlett, Stone' 'Bradford, Ethan'\n",
      " 'Eidson, Brayden' \"O'Connor, Tim\" 'Maynard, Brody' 'Borders, Jalen'\n",
      " 'Dearman, Clark' 'Spolyar, Andrew' 'Burke, Donovan' 'Loer, Justin'\n",
      " 'Lloyd, Jaxon' 'Shim, Seungmin' 'Moats, Kyle' 'Hentges, Samuel'\n",
      " 'Prager, Ryan' 'Radcliff, Ryan' 'Ross, Luke' 'Byers, Carson '\n",
      " 'Gainey, Garrett' 'Kuhle, Max' 'Kinsler, Jaden' 'Primeaux, DJ'\n",
      " 'Bello, Jack' 'Hall, Quinton' 'Mattera, Noah' 'Farone, Greg'\n",
      " 'Adams, Zane' 'Kwiatkowski, John' 'Honeycutt, Justin' 'Thompson, Sam'\n",
      " 'Fisher, Bryce' 'Preisel, Connor' 'Beard, Trey' 'Gilbert, Ben'\n",
      " 'Green, Miller' 'McElvain, Ethan' 'Molina, Mason' 'Gravel, Alexis'\n",
      " 'Myers, Carson' 'Stewart, Bradley' 'Staiano, Michael' 'Bruno, Nick'\n",
      " 'Vardavas, Nick' 'Galyean, Tyler' 'DeMonica, Nick' 'Abbey, Zach'\n",
      " 'Fisher, Colin' 'Anderson, Kade' 'Stevens, Nolan' 'Graves, Griffin'\n",
      " 'Bullard, Matthew' 'Torbett, Cole' 'Alderman, Chandler' 'Earnhardt, Luke'\n",
      " 'McCarley, Derek' 'Dallas, Matthew' 'Loy, Dylan' 'Sharp, Brayden'\n",
      " 'Holt, Campbell' 'Scott, Shawn' 'Merriweather, Dj' 'Martinez, Jalen'\n",
      " 'Williams, Walker' 'Draper, Hunter' 'Morales, Wilfredo'\n",
      " 'Heiberger, Matthew' 'Ruller, Joseph' 'Huesman, Levi' 'Jump, Gage'\n",
      " 'Meyer, Tommy' 'Stamos, Chris' 'Paulsen Jr., Erik' 'Little, Matt'\n",
      " 'Toporek, Jake' 'Wolff, LJ' 'Wilson, Kaidan' 'Ciuffetelli, Blake'\n",
      " 'Paddack, Liam ' 'Gelbsman, Aidan' 'Gross, Mitchell' 'Dotson, Luke'\n",
      " 'Dennis, Gunnar' 'Romanias, Tyler' 'Quinn, Thomas' 'Hobb, Jerek'\n",
      " 'Johnson, Cam' 'Fisher, Ty' 'Doyle, Liam' 'Simmons, Austin'\n",
      " 'Davis, Keith' 'Shedd, Eli' 'Foley, Lucas' 'Baratta, Dominic'\n",
      " 'Sotelo, Daniel' 'Posey, Courtland' 'Lourens, Je-Andrick'\n",
      " 'Haston, Brandon' 'Mendes, Wesley' 'Royal, Hunter' 'Moseley, Kyle'\n",
      " 'Steckmesser, Evan' 'Smith, Hayden' 'Diuguid, Lane' 'Hart, Evan'\n",
      " 'Bertram, Reid' 'Pazos, Bryan' 'Edmonson, Cameron' 'Stam, Matt'\n",
      " 'Krouse, Lucas' 'Hogue, Brant' 'Cadieux-Lanoue, Elliot' 'Moss, Cade'\n",
      " 'Lynch, Jake' 'Naranjo, Jordyn' 'Good, Nic' 'Yagesh, Brendan'\n",
      " 'Curley, TJ' 'Speas, Kyle' 'DeTaeye, Benjamin' 'Strack, Caleb'\n",
      " 'Cinnella, Joe' 'Van Emon, Gabe' 'Quinn, Braden' 'Roulette, Allen'\n",
      " 'Ramos, Rigo' 'Obermueller, Cade' 'West, Charles' 'Magdic, Ryan'\n",
      " 'Boerema, Owen' 'Paulsen, Fisher' 'Pirkle, Aaron' 'Beckner, Drew'\n",
      " 'Geddes, Trevor' 'Rushing, Logan' 'Malone, James' 'Dillinger, Ethan'\n",
      " 'Hebenstreit, James' 'Burt, Connor' 'Osmond, Michael' 'Heyl, Matthew'\n",
      " 'Fix, Isaac' 'Hall, Regan' 'Mahan, Ethan' 'Warunek, Kevin'\n",
      " 'Roesch, Braden' 'Reed, Sam' 'Hutchings, Payton' 'Gannon, Reed'\n",
      " 'Bronzini, Nic' 'Chronister, Ashton' 'Schultz, Donovan' 'Kopetski, Josh'\n",
      " 'Keplinger, Konner' 'Kenty, Jansen' 'Paymaster, Jacob' 'Evans, Drew'\n",
      " 'Behrends, Jeffrey' 'Meier, Jackson' 'Franks, Tyler' 'Walker, Ethan'\n",
      " 'Gibbons, Sean' 'Vera, Alex' 'Deverman, Kenton' 'Miller, Max'\n",
      " 'Howitt, Josh' 'Washington, Khaden' 'Pollard, Davin' 'Snell, Kade'\n",
      " 'Isaacs, Caleb' 'Ronan, Reed' 'Payne, Luke' 'Wilson, Leland'\n",
      " 'Watson, Michael' 'Holderfield, Grant' 'Hughes, Nolan' 'Copeland, Caden'\n",
      " 'Kohn, Pico' 'Chorzelewski, Brandon' 'Rhadans, Dylan' 'Reed, Kevin'\n",
      " 'Cleaver, Ben' 'Kressin, Jace' 'Battey, Corey' 'Aguado, Devin'\n",
      " 'Rodriguez, Ryne' 'Fabre, Larson' 'Dagley, Ty' 'Adkison, Ethan'\n",
      " 'McCoy, Jake' 'Gibson, Luke' 'Dietz, Hunter' 'Rich, Keegan'\n",
      " 'Arender, Brock' 'Mackowiak, Garrett' 'Gutierrez, Jesse' 'Sorrell, Roman'\n",
      " 'Myles , Conor' 'LaBoy, Jorhan' 'Diaz, Danny' 'Wash, Logan'\n",
      " 'Gist, Matthew' 'Sanchez, Corey' 'Erdman, Zach' 'Luce, Hudson'\n",
      " 'Bridges, Derek' 'Braziel, Kewan' 'Barfield, Brett' 'Clack, Christian'\n",
      " 'Lysik, Brendan' 'Menendez, Frank' 'Coppola, Pierce' 'Wheeler, Dylan'\n",
      " 'Menina, Caleb' \"O'Donnell, Brendan\" 'Williamson, Timothy'\n",
      " 'Torrealba, Jose' 'Sharpton, Logan' 'Scragg, Josh' 'Whitney, John'\n",
      " 'Bortak, Blake' 'Stewart, Dalen' 'Beaver, Brendan' 'Charlton, Tyler'\n",
      " 'Dutton, Sam ' 'Tavarez, Esteban' 'Risley, Braydon' 'Haley, Matt'\n",
      " 'Darin, Daniel' 'Huddleston, Eli' 'Keller, Kenny' 'Fetterman, Tyler'\n",
      " 'Mayo, Jackson' 'Phillips, Riley'] 502\n"
     ]
    }
   ],
   "execution_count": 26
  },
  {
   "metadata": {
    "ExecuteTime": {
     "end_time": "2024-10-05T00:15:21.712993Z",
     "start_time": "2024-10-05T00:15:21.698196Z"
    }
   },
   "cell_type": "code",
   "source": [
    "def ll_bb_stuff(name):\n",
    "    \n",
    "    preds = ['RelSpeed','VertRelAngle','HorzRelAngle','SpinRate','SpinAxis','RelHeight','RelSide','Extension','VertBreak','InducedVertBreak','HorzBreak','ZoneSpeed','VertApprAngle','HorzApprAngle','ZoneTime','pfxx','pfxz','x0','y0','z0','vx0','vy0','vz0','ax0','ay0','az0','SpeedDrop','PitchTrajectoryXc1','PitchTrajectoryXc2','PitchTrajectoryYc0','PitchTrajectoryYc1','PitchTrajectoryYc2','PitchTrajectoryZc0','PitchTrajectoryZc1','PitchTrajectoryZc2']\n",
    "    \n",
    "    all_preds = model.predict_proba(bb_ll_X)[:,1]\n",
    "    mean_pred = np.mean(all_preds)\n",
    "\n",
    "    pitcher = subsets[name]\n",
    "    pitcher_x = pitcher[preds]\n",
    "\n",
    "    whiff_preds = model.predict_proba(pitcher_x)[:,1]\n",
    "\n",
    "    stuff = whiff_preds/mean_pred\n",
    "    \n",
    "    return np.mean(stuff * 100)\n"
   ],
   "id": "1301528c68fca559",
   "outputs": [],
   "execution_count": 27
  },
  {
   "metadata": {
    "ExecuteTime": {
     "end_time": "2024-10-05T00:15:47.830058Z",
     "start_time": "2024-10-05T00:15:47.790130Z"
    }
   },
   "cell_type": "code",
   "source": [
    "#Stuff+ for selected pitchers Breaking Balls in LHP v LHB split\n",
    "ll_bb_stuff('Myers, Carson')"
   ],
   "id": "fc73b3c634402198",
   "outputs": [
    {
     "data": {
      "text/plain": [
       "111.53337"
      ]
     },
     "execution_count": 29,
     "metadata": {},
     "output_type": "execute_result"
    }
   ],
   "execution_count": 29
  }
 ],
 "metadata": {
  "kernelspec": {
   "display_name": "Python 3",
   "language": "python",
   "name": "python3"
  },
  "language_info": {
   "codemirror_mode": {
    "name": "ipython",
    "version": 2
   },
   "file_extension": ".py",
   "mimetype": "text/x-python",
   "name": "python",
   "nbconvert_exporter": "python",
   "pygments_lexer": "ipython2",
   "version": "2.7.6"
  }
 },
 "nbformat": 4,
 "nbformat_minor": 5
}
