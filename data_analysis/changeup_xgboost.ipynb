{
 "cells": [
  {
   "cell_type": "code",
   "id": "initial_id",
   "metadata": {
    "collapsed": true,
    "ExecuteTime": {
     "end_time": "2024-10-04T21:22:49.916622Z",
     "start_time": "2024-10-04T21:22:48.853994Z"
    }
   },
   "source": [
    "#Packages\n",
    "import os\n",
    "import pandas as pd\n",
    "import numpy as np\n",
    "import xgboost\n",
    "from xgboost import XGBClassifier\n",
    "from sklearn.model_selection import train_test_split\n",
    "from sklearn.metrics import accuracy_score, confusion_matrix, precision_score, recall_score, f1_score, roc_auc_score, roc_curve\n",
    "from hyperopt import STATUS_OK, Trials, fmin, hp, tpe\n",
    "import matplotlib.pyplot as plt\n",
    "import seaborn as sns\n",
    "import shap"
   ],
   "outputs": [],
   "execution_count": 1
  },
  {
   "metadata": {
    "ExecuteTime": {
     "end_time": "2024-10-04T21:23:26.681717Z",
     "start_time": "2024-10-04T21:23:04.378141Z"
    }
   },
   "cell_type": "code",
   "source": [
    "#Get Data\n",
    "csv_dir = '../SEC Trackman Data/'\n",
    "all_files = [os.path.join(csv_dir, f) for f in os.listdir(csv_dir) if f.endswith('.csv')]\n",
    "\n",
    "df_list = []\n",
    "\n",
    "for file in all_files:\n",
    "    df = pd.read_csv(file)\n",
    "    df_list.append(df)\n",
    "\n",
    "all_pitches = pd.concat(df_list, ignore_index=True)\n",
    "\n",
    "print(all_pitches.shape)\n",
    "print(all_pitches.columns)"
   ],
   "id": "3d42520129760632",
   "outputs": [
    {
     "name": "stdout",
     "output_type": "stream",
     "text": [
      "(270589, 167)\n",
      "Index(['PitchNo', 'Date', 'Time', 'PAofInning', 'PitchofPA', 'Pitcher',\n",
      "       'PitcherId', 'PitcherThrows', 'PitcherTeam', 'Batter',\n",
      "       ...\n",
      "       'ThrowTrajectoryZc1', 'ThrowTrajectoryZc2', 'PitchReleaseConfidence',\n",
      "       'PitchLocationConfidence', 'PitchMovementConfidence',\n",
      "       'HitLaunchConfidence', 'HitLandingConfidence',\n",
      "       'CatcherThrowCatchConfidence', 'CatcherThrowReleaseConfidence',\n",
      "       'CatcherThrowLocationConfidence'],\n",
      "      dtype='object', length=167)\n"
     ]
    }
   ],
   "execution_count": 2
  },
  {
   "metadata": {
    "ExecuteTime": {
     "end_time": "2024-10-04T21:25:31.297502Z",
     "start_time": "2024-10-04T21:25:31.045122Z"
    }
   },
   "cell_type": "code",
   "source": [
    "#Get all changeups\n",
    "os_c = all_pitches[all_pitches['TaggedPitchType'].isin(['ChangeUp'])]\n",
    "print(os_c.shape)"
   ],
   "id": "266f314531125bad",
   "outputs": [
    {
     "name": "stdout",
     "output_type": "stream",
     "text": [
      "(30052, 167)\n"
     ]
    }
   ],
   "execution_count": 3
  },
  {
   "metadata": {
    "ExecuteTime": {
     "end_time": "2024-10-04T21:28:26.158281Z",
     "start_time": "2024-10-04T21:28:26.082711Z"
    }
   },
   "cell_type": "code",
   "source": [
    "#Subset change-ups into platoon splits\n",
    "os_c_rr = os_c[(os_c['PitcherThrows'] == 'Right') & (os_c['BatterSide'] == 'Right')]\n",
    "os_c_rl = os_c[(os_c['PitcherThrows'] == 'Right') & (os_c['BatterSide'] == 'Left')]\n",
    "os_c_lr = os_c[(os_c['PitcherThrows'] == 'Left') & (os_c['BatterSide'] == 'Right')]\n",
    "os_c_ll = os_c[(os_c['PitcherThrows'] == 'Left') & (os_c['BatterSide'] == 'Left')]\n",
    "\n",
    "print(os_c_rr.shape)\n",
    "print(os_c_rl.shape)\n",
    "print(os_c_lr.shape)\n",
    "print(os_c_ll.shape)"
   ],
   "id": "558c04ac3c52fd45",
   "outputs": [
    {
     "name": "stdout",
     "output_type": "stream",
     "text": [
      "(5910, 167)\n",
      "(13953, 167)\n",
      "(9191, 167)\n",
      "(976, 167)\n"
     ]
    }
   ],
   "execution_count": 5
  },
  {
   "metadata": {
    "ExecuteTime": {
     "end_time": "2024-10-04T21:29:47.875152Z",
     "start_time": "2024-10-04T21:29:47.856821Z"
    }
   },
   "cell_type": "code",
   "source": [
    "#Whiffs\n",
    "os_c_rr['whiff'] = np.where(os_c_rr['PitchCall']=='StrikeSwinging',1,0)\n",
    "os_c_rl['whiff'] = np.where(os_c_rl['PitchCall']=='StrikeSwinging',1,0)\n",
    "os_c_lr['whiff'] = np.where(os_c_lr['PitchCall']=='StrikeSwinging',1,0)\n",
    "os_c_ll['whiff'] = np.where(os_c_ll['PitchCall']=='StrikeSwinging',1,0)"
   ],
   "id": "8ca35a69a006137b",
   "outputs": [
    {
     "name": "stderr",
     "output_type": "stream",
     "text": [
      "C:\\Users\\ethan\\AppData\\Local\\Temp\\ipykernel_12024\\2049564943.py:1: SettingWithCopyWarning: \n",
      "A value is trying to be set on a copy of a slice from a DataFrame.\n",
      "Try using .loc[row_indexer,col_indexer] = value instead\n",
      "\n",
      "See the caveats in the documentation: https://pandas.pydata.org/pandas-docs/stable/user_guide/indexing.html#returning-a-view-versus-a-copy\n",
      "  os_c_rr['whiff'] = np.where(os_c_rr['PitchCall']=='StrikeSwinging',1,0)\n",
      "C:\\Users\\ethan\\AppData\\Local\\Temp\\ipykernel_12024\\2049564943.py:2: SettingWithCopyWarning: \n",
      "A value is trying to be set on a copy of a slice from a DataFrame.\n",
      "Try using .loc[row_indexer,col_indexer] = value instead\n",
      "\n",
      "See the caveats in the documentation: https://pandas.pydata.org/pandas-docs/stable/user_guide/indexing.html#returning-a-view-versus-a-copy\n",
      "  os_c_rl['whiff'] = np.where(os_c_rl['PitchCall']=='StrikeSwinging',1,0)\n",
      "C:\\Users\\ethan\\AppData\\Local\\Temp\\ipykernel_12024\\2049564943.py:3: SettingWithCopyWarning: \n",
      "A value is trying to be set on a copy of a slice from a DataFrame.\n",
      "Try using .loc[row_indexer,col_indexer] = value instead\n",
      "\n",
      "See the caveats in the documentation: https://pandas.pydata.org/pandas-docs/stable/user_guide/indexing.html#returning-a-view-versus-a-copy\n",
      "  os_c_lr['whiff'] = np.where(os_c_lr['PitchCall']=='StrikeSwinging',1,0)\n",
      "C:\\Users\\ethan\\AppData\\Local\\Temp\\ipykernel_12024\\2049564943.py:4: SettingWithCopyWarning: \n",
      "A value is trying to be set on a copy of a slice from a DataFrame.\n",
      "Try using .loc[row_indexer,col_indexer] = value instead\n",
      "\n",
      "See the caveats in the documentation: https://pandas.pydata.org/pandas-docs/stable/user_guide/indexing.html#returning-a-view-versus-a-copy\n",
      "  os_c_ll['whiff'] = np.where(os_c_ll['PitchCall']=='StrikeSwinging',1,0)\n"
     ]
    }
   ],
   "execution_count": 6
  },
  {
   "metadata": {
    "ExecuteTime": {
     "end_time": "2024-10-04T21:30:08.559375Z",
     "start_time": "2024-10-04T21:30:08.547487Z"
    }
   },
   "cell_type": "code",
   "source": "preds = ['RelSpeed','VertRelAngle','HorzRelAngle','SpinRate','SpinAxis','RelHeight','RelSide','Extension','VertBreak','InducedVertBreak','HorzBreak','ZoneSpeed','VertApprAngle','HorzApprAngle','ZoneTime','pfxx','pfxz','x0','y0','z0','vx0','vy0','vz0','ax0','ay0','az0','SpeedDrop','PitchTrajectoryXc1','PitchTrajectoryXc2','PitchTrajectoryYc0','PitchTrajectoryYc1','PitchTrajectoryYc2','PitchTrajectoryZc0','PitchTrajectoryZc1','PitchTrajectoryZc2']",
   "id": "a3ec7477be93cec9",
   "outputs": [],
   "execution_count": 7
  },
  {
   "metadata": {},
   "cell_type": "markdown",
   "source": "Righty vs Righty split",
   "id": "34c57e87c8c3ce0b"
  },
  {
   "metadata": {
    "ExecuteTime": {
     "end_time": "2024-10-04T21:34:53.954743Z",
     "start_time": "2024-10-04T21:34:53.937023Z"
    }
   },
   "cell_type": "code",
   "source": [
    "os_c_rr_X = os_c_rr[preds]\n",
    "os_c_rr_y = os_c_rr['whiff']"
   ],
   "id": "a983c2ad3ee764c0",
   "outputs": [],
   "execution_count": 8
  },
  {
   "metadata": {
    "ExecuteTime": {
     "end_time": "2024-10-04T21:35:42.592100Z",
     "start_time": "2024-10-04T21:35:42.268287Z"
    }
   },
   "cell_type": "code",
   "source": [
    "#Train Model: RHP vs RHB\n",
    "X_train, X_test, y_train, y_test = train_test_split(os_c_rr_X, os_c_rr_y, test_size=.33, random_state=25)\n",
    "\n",
    "model = XGBClassifier()\n",
    "model.fit(X_train, y_train)\n",
    "\n",
    "y_pred = model.predict(X_test)\n",
    "predictions = [round(value) for value in y_pred]\n",
    "\n",
    "accuracy = accuracy_score(y_test, predictions)\n",
    "print(\"Accuracy: %.2f%%\" % (accuracy * 100.0))"
   ],
   "id": "bb2f3cf1e743600",
   "outputs": [
    {
     "name": "stdout",
     "output_type": "stream",
     "text": [
      "Accuracy: 83.29%\n"
     ]
    }
   ],
   "execution_count": 9
  },
  {
   "metadata": {
    "ExecuteTime": {
     "end_time": "2024-10-04T21:37:30.582732Z",
     "start_time": "2024-10-04T21:37:30.347223Z"
    }
   },
   "cell_type": "code",
   "source": [
    "y_pred_prob = model.predict_proba(X_test)[:,1]\n",
    "roc_auc = roc_auc_score(y_test, predictions, multi_class='ovr')\n",
    "\n",
    "print(f'ROC AUC: {roc_auc:.4f}')\n",
    "\n",
    "# Plotting ROC Curve for one class (e.g., class 0)\n",
    "fpr, tpr, _ = roc_curve(y_test == 1, y_pred_prob)\n",
    "plt.plot(fpr, tpr, label='Class 0 ROC curve')\n",
    "plt.xlabel('False Positive Rate')\n",
    "plt.ylabel('True Positive Rate')\n",
    "plt.title('ROC Curve')\n",
    "plt.legend(loc='best')\n",
    "plt.show()"
   ],
   "id": "16be8b4af87121ba",
   "outputs": [
    {
     "name": "stdout",
     "output_type": "stream",
     "text": [
      "ROC AUC: 0.5269\n"
     ]
    },
    {
     "data": {
      "text/plain": [
       "<Figure size 640x480 with 1 Axes>"
      ],
      "image/png": "[encoded data removed]"
     },
     "metadata": {},
     "output_type": "display_data"
    }
   ],
   "execution_count": 10
  },
  {
   "metadata": {
    "ExecuteTime": {
     "end_time": "2024-10-04T21:40:23.079721Z",
     "start_time": "2024-10-04T21:40:22.370082Z"
    }
   },
   "cell_type": "code",
   "source": [
    "# Get unique values\n",
    "unique_values = os_c_rr['Pitcher'].unique()\n",
    "\n",
    "print(len(unique_values))\n",
    "\n",
    "# Create a dictionary to store subsets\n",
    "subsets = {value: os_c_rr[os_c_rr['Pitcher'] == value] for value in unique_values}"
   ],
   "id": "58b9326a35352c3",
   "outputs": [
    {
     "name": "stdout",
     "output_type": "stream",
     "text": [
      "696\n"
     ]
    }
   ],
   "execution_count": 11
  },
  {
   "metadata": {
    "ExecuteTime": {
     "end_time": "2024-10-04T21:41:35.680421Z",
     "start_time": "2024-10-04T21:41:35.666923Z"
    }
   },
   "cell_type": "code",
   "source": [
    "def rr_os_c_stuff(name):\n",
    "    \n",
    "    preds = ['RelSpeed','VertRelAngle','HorzRelAngle','SpinRate','SpinAxis','RelHeight','RelSide','Extension','VertBreak','InducedVertBreak','HorzBreak','ZoneSpeed','VertApprAngle','HorzApprAngle','ZoneTime','pfxx','pfxz','x0','y0','z0','vx0','vy0','vz0','ax0','ay0','az0','SpeedDrop','PitchTrajectoryXc1','PitchTrajectoryXc2','PitchTrajectoryYc0','PitchTrajectoryYc1','PitchTrajectoryYc2','PitchTrajectoryZc0','PitchTrajectoryZc1','PitchTrajectoryZc2']\n",
    "    \n",
    "    all_preds = model.predict_proba(os_c_rr_X)[:,1]\n",
    "    mean_pred = np.mean(all_preds)\n",
    "\n",
    "    pitcher = subsets[name]\n",
    "    pitcher_x = pitcher[preds]\n",
    "\n",
    "    whiff_preds = model.predict_proba(pitcher_x)[:,1]\n",
    "\n",
    "    stuff = whiff_preds/mean_pred\n",
    "    \n",
    "    return np.mean(stuff * 100)\n",
    "\n",
    "    \n"
   ],
   "id": "c6688082fccfc1a8",
   "outputs": [],
   "execution_count": 12
  },
  {
   "metadata": {
    "ExecuteTime": {
     "end_time": "2024-10-04T21:42:53.542392Z",
     "start_time": "2024-10-04T21:42:53.517550Z"
    }
   },
   "cell_type": "code",
   "source": [
    "#Stuff+ for selected pitchers Change-Up in RHP v RHB split\n",
    "rr_os_c_stuff('Cijntje, Jurrangelo')"
   ],
   "id": "e6945fbb6e7d8401",
   "outputs": [
    {
     "data": {
      "text/plain": [
       "127.71959"
      ]
     },
     "execution_count": 16,
     "metadata": {},
     "output_type": "execute_result"
    }
   ],
   "execution_count": 16
  },
  {
   "metadata": {},
   "cell_type": "markdown",
   "source": "Righty vs. Lefty Split",
   "id": "e7e61ed14ea5fff3"
  },
  {
   "metadata": {
    "ExecuteTime": {
     "end_time": "2024-10-04T21:46:57.187700Z",
     "start_time": "2024-10-04T21:46:57.178169Z"
    }
   },
   "cell_type": "code",
   "source": [
    "os_c_rl_X = os_c_rl[preds]\n",
    "os_c_rl_y = os_c_rl['whiff']"
   ],
   "id": "3b727b2c99d5ee3",
   "outputs": [],
   "execution_count": 17
  },
  {
   "metadata": {
    "ExecuteTime": {
     "end_time": "2024-10-04T21:48:05.058617Z",
     "start_time": "2024-10-04T21:48:04.569458Z"
    }
   },
   "cell_type": "code",
   "source": [
    "#Train Model: RHP vs LHB\n",
    "X_train, X_test, y_train, y_test = train_test_split(os_c_rl_X, os_c_rl_y, test_size=.33, random_state=25)\n",
    "\n",
    "model = XGBClassifier()\n",
    "model.fit(X_train, y_train)\n",
    "\n",
    "y_pred = model.predict(X_test)\n",
    "predictions = [round(value) for value in y_pred]\n",
    "\n",
    "accuracy = accuracy_score(y_test, predictions)\n",
    "print(\"Accuracy: %.2f%%\" % (accuracy * 100.0))"
   ],
   "id": "6900b2139afd88ff",
   "outputs": [
    {
     "name": "stdout",
     "output_type": "stream",
     "text": [
      "Accuracy: 83.02%\n"
     ]
    }
   ],
   "execution_count": 20
  },
  {
   "metadata": {
    "ExecuteTime": {
     "end_time": "2024-10-04T21:48:49.628103Z",
     "start_time": "2024-10-04T21:48:48.193977Z"
    }
   },
   "cell_type": "code",
   "source": [
    "# Get unique values\n",
    "unique_values = os_c_rl['Pitcher'].unique()\n",
    "\n",
    "print(len(unique_values))\n",
    "\n",
    "# Create a dictionary to store subsets\n",
    "subsets = {value: os_c_rl[os_c_rl['Pitcher'] == value] for value in unique_values}"
   ],
   "id": "fa82a6013601f8a2",
   "outputs": [
    {
     "name": "stdout",
     "output_type": "stream",
     "text": [
      "1074\n"
     ]
    }
   ],
   "execution_count": 21
  },
  {
   "metadata": {
    "ExecuteTime": {
     "end_time": "2024-10-04T21:49:27.499628Z",
     "start_time": "2024-10-04T21:49:27.493026Z"
    }
   },
   "cell_type": "code",
   "source": [
    "def rl_os_c_stuff(name):\n",
    "    \n",
    "    preds = ['RelSpeed','VertRelAngle','HorzRelAngle','SpinRate','SpinAxis','RelHeight','RelSide','Extension','VertBreak','InducedVertBreak','HorzBreak','ZoneSpeed','VertApprAngle','HorzApprAngle','ZoneTime','pfxx','pfxz','x0','y0','z0','vx0','vy0','vz0','ax0','ay0','az0','SpeedDrop','PitchTrajectoryXc1','PitchTrajectoryXc2','PitchTrajectoryYc0','PitchTrajectoryYc1','PitchTrajectoryYc2','PitchTrajectoryZc0','PitchTrajectoryZc1','PitchTrajectoryZc2']\n",
    "    \n",
    "    all_preds = model.predict_proba(os_c_rl_X)[:,1]\n",
    "    mean_pred = np.mean(all_preds)\n",
    "\n",
    "    pitcher = subsets[name]\n",
    "    pitcher_x = pitcher[preds]\n",
    "\n",
    "    whiff_preds = model.predict_proba(pitcher_x)[:,1]\n",
    "\n",
    "    stuff = whiff_preds/mean_pred\n",
    "    \n",
    "    return np.mean(stuff * 100)\n"
   ],
   "id": "bf4e0709055fefec",
   "outputs": [],
   "execution_count": 22
  },
  {
   "metadata": {
    "ExecuteTime": {
     "end_time": "2024-10-04T21:50:02.793056Z",
     "start_time": "2024-10-04T21:50:02.754320Z"
    }
   },
   "cell_type": "code",
   "source": [
    "#Stuff+ for selected pitchers Change-Up in RHP v LHB split\n",
    "rl_os_c_stuff('Allsup, Chase')"
   ],
   "id": "5dc9f57cfd76d1b1",
   "outputs": [
    {
     "data": {
      "text/plain": [
       "76.73187"
      ]
     },
     "execution_count": 23,
     "metadata": {},
     "output_type": "execute_result"
    }
   ],
   "execution_count": 23
  },
  {
   "metadata": {},
   "cell_type": "markdown",
   "source": "Lefty vs. Righty Split",
   "id": "37ec35ff16990a50"
  },
  {
   "metadata": {
    "ExecuteTime": {
     "end_time": "2024-10-04T21:51:05.372157Z",
     "start_time": "2024-10-04T21:51:05.364900Z"
    }
   },
   "cell_type": "code",
   "source": [
    "os_c_lr_X = os_c_lr[preds]\n",
    "os_c_lr_y = os_c_lr['whiff']"
   ],
   "id": "bc29b34849a66750",
   "outputs": [],
   "execution_count": 25
  },
  {
   "metadata": {
    "ExecuteTime": {
     "end_time": "2024-10-04T21:51:49.057167Z",
     "start_time": "2024-10-04T21:51:48.795031Z"
    }
   },
   "cell_type": "code",
   "source": [
    "#Train Model: LHP vs RHB\n",
    "X_train, X_test, y_train, y_test = train_test_split(os_c_lr_X, os_c_lr_y, test_size=.33, random_state=25)\n",
    "\n",
    "model = XGBClassifier()\n",
    "model.fit(X_train, y_train)\n",
    "\n",
    "y_pred = model.predict(X_test)\n",
    "predictions = [round(value) for value in y_pred]\n",
    "\n",
    "accuracy = accuracy_score(y_test, predictions)\n",
    "print(\"Accuracy: %.2f%%\" % (accuracy * 100.0))"
   ],
   "id": "1c7b61c2d9fb4665",
   "outputs": [
    {
     "name": "stdout",
     "output_type": "stream",
     "text": [
      "Accuracy: 82.63%\n"
     ]
    }
   ],
   "execution_count": 26
  },
  {
   "metadata": {
    "ExecuteTime": {
     "end_time": "2024-10-04T21:52:20.667642Z",
     "start_time": "2024-10-04T21:52:20.276378Z"
    }
   },
   "cell_type": "code",
   "source": [
    "# Get unique values\n",
    "unique_values = os_c_lr['Pitcher'].unique()\n",
    "\n",
    "print(len(unique_values))\n",
    "\n",
    "# Create a dictionary to store subsets\n",
    "subsets = {value: os_c_lr[os_c_lr['Pitcher'] == value] for value in unique_values}\n"
   ],
   "id": "d831f4330f6a6c5f",
   "outputs": [
    {
     "name": "stdout",
     "output_type": "stream",
     "text": [
      "428\n"
     ]
    }
   ],
   "execution_count": 27
  },
  {
   "metadata": {
    "ExecuteTime": {
     "end_time": "2024-10-04T21:53:00.589467Z",
     "start_time": "2024-10-04T21:53:00.584055Z"
    }
   },
   "cell_type": "code",
   "source": [
    "def lr_os_c_stuff(name):\n",
    "    \n",
    "    preds = ['RelSpeed','VertRelAngle','HorzRelAngle','SpinRate','SpinAxis','RelHeight','RelSide','Extension','VertBreak','InducedVertBreak','HorzBreak','ZoneSpeed','VertApprAngle','HorzApprAngle','ZoneTime','pfxx','pfxz','x0','y0','z0','vx0','vy0','vz0','ax0','ay0','az0','SpeedDrop','PitchTrajectoryXc1','PitchTrajectoryXc2','PitchTrajectoryYc0','PitchTrajectoryYc1','PitchTrajectoryYc2','PitchTrajectoryZc0','PitchTrajectoryZc1','PitchTrajectoryZc2']\n",
    "    \n",
    "    all_preds = model.predict_proba(os_c_lr_X)[:,1]\n",
    "    mean_pred = np.mean(all_preds)\n",
    "\n",
    "    pitcher = subsets[name]\n",
    "    pitcher_x = pitcher[preds]\n",
    "\n",
    "    whiff_preds = model.predict_proba(pitcher_x)[:,1]\n",
    "\n",
    "    stuff = whiff_preds/mean_pred\n",
    "    \n",
    "    return np.mean(stuff * 100)\n"
   ],
   "id": "789d9750c81ad199",
   "outputs": [],
   "execution_count": 28
  },
  {
   "metadata": {
    "ExecuteTime": {
     "end_time": "2024-10-04T21:53:42.403718Z",
     "start_time": "2024-10-04T21:53:42.261294Z"
    }
   },
   "cell_type": "code",
   "source": [
    "#Stuff+ for selected pitchers Change-Up in LHP v RHB split\n",
    "lr_os_c_stuff('Myers, Carson')"
   ],
   "id": "c914586caa49ce64",
   "outputs": [
    {
     "data": {
      "text/plain": [
       "81.019714"
      ]
     },
     "execution_count": 29,
     "metadata": {},
     "output_type": "execute_result"
    }
   ],
   "execution_count": 29
  },
  {
   "metadata": {},
   "cell_type": "markdown",
   "source": "Lefty vs Lefty Split",
   "id": "7e75d23da39fbdc2"
  },
  {
   "metadata": {
    "ExecuteTime": {
     "end_time": "2024-10-04T21:54:39.174803Z",
     "start_time": "2024-10-04T21:54:39.161448Z"
    }
   },
   "cell_type": "code",
   "source": [
    "os_c_ll_X = os_c_ll[preds]\n",
    "os_c_ll_y = os_c_ll['whiff']"
   ],
   "id": "d3e6b4858ab45d9b",
   "outputs": [],
   "execution_count": 30
  },
  {
   "metadata": {
    "ExecuteTime": {
     "end_time": "2024-10-04T21:55:21.634049Z",
     "start_time": "2024-10-04T21:55:21.506613Z"
    }
   },
   "cell_type": "code",
   "source": [
    "#Train Model: LHP vs LHB\n",
    "X_train, X_test, y_train, y_test = train_test_split(os_c_ll_X, os_c_ll_y, test_size=.33, random_state=25)\n",
    "\n",
    "model = XGBClassifier()\n",
    "model.fit(X_train, y_train)\n",
    "\n",
    "y_pred = model.predict(X_test)\n",
    "predictions = [round(value) for value in y_pred]\n",
    "\n",
    "accuracy = accuracy_score(y_test, predictions)\n",
    "print(\"Accuracy: %.2f%%\" % (accuracy * 100.0))"
   ],
   "id": "2fdc65c50419c187",
   "outputs": [
    {
     "name": "stdout",
     "output_type": "stream",
     "text": [
      "Accuracy: 82.97%\n"
     ]
    }
   ],
   "execution_count": 31
  },
  {
   "metadata": {
    "ExecuteTime": {
     "end_time": "2024-10-04T21:55:56.391546Z",
     "start_time": "2024-10-04T21:55:56.286640Z"
    }
   },
   "cell_type": "code",
   "source": [
    "# Get unique values\n",
    "unique_values = os_c_ll['Pitcher'].unique()\n",
    "\n",
    "print(len(unique_values))\n",
    "\n",
    "# Create a dictionary to store subsets\n",
    "subsets = {value: os_c_ll[os_c_ll['Pitcher'] == value] for value in unique_values}\n"
   ],
   "id": "4a622dd62e685ade",
   "outputs": [
    {
     "name": "stdout",
     "output_type": "stream",
     "text": [
      "187\n"
     ]
    }
   ],
   "execution_count": 32
  },
  {
   "metadata": {
    "ExecuteTime": {
     "end_time": "2024-10-04T21:56:26.658693Z",
     "start_time": "2024-10-04T21:56:26.644384Z"
    }
   },
   "cell_type": "code",
   "source": [
    "def ll_os_c_stuff(name):\n",
    "    \n",
    "    preds = ['RelSpeed','VertRelAngle','HorzRelAngle','SpinRate','SpinAxis','RelHeight','RelSide','Extension','VertBreak','InducedVertBreak','HorzBreak','ZoneSpeed','VertApprAngle','HorzApprAngle','ZoneTime','pfxx','pfxz','x0','y0','z0','vx0','vy0','vz0','ax0','ay0','az0','SpeedDrop','PitchTrajectoryXc1','PitchTrajectoryXc2','PitchTrajectoryYc0','PitchTrajectoryYc1','PitchTrajectoryYc2','PitchTrajectoryZc0','PitchTrajectoryZc1','PitchTrajectoryZc2']\n",
    "    \n",
    "    all_preds = model.predict_proba(os_c_ll_X)[:,1]\n",
    "    mean_pred = np.mean(all_preds)\n",
    "\n",
    "    pitcher = subsets[name]\n",
    "    pitcher_x = pitcher[preds]\n",
    "\n",
    "    whiff_preds = model.predict_proba(pitcher_x)[:,1]\n",
    "\n",
    "    stuff = whiff_preds/mean_pred\n",
    "    \n",
    "    return np.mean(stuff * 100)\n"
   ],
   "id": "f055ceb6ad8619d",
   "outputs": [],
   "execution_count": 33
  },
  {
   "metadata": {
    "ExecuteTime": {
     "end_time": "2024-10-04T21:58:02.339722Z",
     "start_time": "2024-10-04T21:58:02.312430Z"
    }
   },
   "cell_type": "code",
   "source": [
    "#Stuff+ for selected pitchers Change-Up in LHP v LHB split\n",
    "ll_os_c_stuff('Myers, Carson')"
   ],
   "id": "ce6baa8916da7525",
   "outputs": [
    {
     "data": {
      "text/plain": [
       "5.7153296"
      ]
     },
     "execution_count": 38,
     "metadata": {},
     "output_type": "execute_result"
    }
   ],
   "execution_count": 38
  }
 ],
 "metadata": {
  "kernelspec": {
   "display_name": "Python 3",
   "language": "python",
   "name": "python3"
  },
  "language_info": {
   "codemirror_mode": {
    "name": "ipython",
    "version": 2
   },
   "file_extension": ".py",
   "mimetype": "text/x-python",
   "name": "python",
   "nbconvert_exporter": "python",
   "pygments_lexer": "ipython2",
   "version": "2.7.6"
  }
 },
 "nbformat": 4,
 "nbformat_minor": 5
}
