{
 "cells": [
  {
   "metadata": {},
   "cell_type": "code",
   "source": [
    "#Packages\n",
    "import os\n",
    "import pandas as pd\n",
    "import numpy as np\n",
    "from skopt import BayesSearchCV\n",
    "from xgboost import XGBClassifier\n",
    "from sklearn.model_selection import train_test_split\n",
    "from sklearn.metrics import accuracy_score, roc_auc_score\n",
    "import datetime\n",
    "import matplotlib.pyplot as plt"
   ],
   "id": "20fbd8b9e4c65eb6",
   "outputs": [],
   "execution_count": null
  },
  {
   "metadata": {},
   "cell_type": "code",
   "source": [
    "#Get Data\n",
    "csv_dir = '../../SEC Trackman Data/'\n",
    "all_files = [os.path.join(csv_dir, f) for f in os.listdir(csv_dir) if f.endswith('.csv')]\n",
    "\n",
    "df_list = []\n",
    "\n",
    "for file in all_files:\n",
    "    df = pd.read_csv(file)\n",
    "    df_list.append(df)\n",
    "\n",
    "all_pitches = pd.concat(df_list, ignore_index=True)\n",
    "\n",
    "print(all_pitches.shape)\n",
    "print(all_pitches.columns)"
   ],
   "id": "c79bff1b43e591cd",
   "outputs": [],
   "execution_count": null
  },
  {
   "metadata": {},
   "cell_type": "code",
   "source": [
    "#Get all fastballs\n",
    "fb = all_pitches[all_pitches['TaggedPitchType'].isin(['Fastball','Cutter','Sinker','FourSeamFastBall','TwoSeamFastBall','OneSeamFastBall'])]\n",
    "print(fb.shape)"
   ],
   "id": "40dc10522de5c991",
   "outputs": [],
   "execution_count": null
  },
  {
   "metadata": {},
   "cell_type": "code",
   "source": [
    "#Subset fastballs into platoon splits\n",
    "fb_rr = fb[(fb['PitcherThrows'] == 'Right') & (fb['BatterSide'] == 'Right')]\n",
    "fb_rl = fb[(fb['PitcherThrows'] == 'Right') & (fb['BatterSide'] == 'Left')]\n",
    "fb_lr = fb[(fb['PitcherThrows'] == 'Left') & (fb['BatterSide'] == 'Right')]\n",
    "fb_ll = fb[(fb['PitcherThrows'] == 'Left') & (fb['BatterSide'] == 'Left')]\n",
    "\n",
    "print(fb_rr.shape)\n",
    "print(fb_rl.shape)\n",
    "print(fb_lr.shape)\n",
    "print(fb_ll.shape)"
   ],
   "id": "5b88f995bc2ca8d9",
   "outputs": [],
   "execution_count": null
  },
  {
   "metadata": {},
   "cell_type": "code",
   "source": [
    "#Whiffs\n",
    "fb_rr['whiff'] = np.where(fb_rr['PitchCall']=='StrikeSwinging',1,0)\n",
    "fb_rl['whiff'] = np.where(fb_rl['PitchCall']=='StrikeSwinging',1,0)\n",
    "fb_lr['whiff'] = np.where(fb_lr['PitchCall']=='StrikeSwinging',1,0)\n",
    "fb_ll['whiff'] = np.where(fb_ll['PitchCall']=='StrikeSwinging',1,0)"
   ],
   "id": "e03a72505bd8353",
   "outputs": [],
   "execution_count": null
  },
  {
   "metadata": {},
   "cell_type": "code",
   "source": [
    "preds = ['RelSpeed','VertRelAngle','HorzRelAngle','SpinRate','SpinAxis','RelHeight','RelSide','Extension','VertBreak','InducedVertBreak','HorzBreak','ZoneSpeed','VertApprAngle','HorzApprAngle','ZoneTime','pfxx','pfxz','x0','y0','z0','vx0','vy0','vz0','ax0','ay0','az0','SpeedDrop','PitchTrajectoryXc1','PitchTrajectoryXc2','PitchTrajectoryYc0','PitchTrajectoryYc1','PitchTrajectoryYc2','PitchTrajectoryZc0','PitchTrajectoryZc1','PitchTrajectoryZc2']"
   ],
   "id": "bd4e36e6bd286607",
   "outputs": [],
   "execution_count": null
  },
  {
   "metadata": {},
   "cell_type": "markdown",
   "source": [
    "Righty vs. Righty Split"
   ],
   "id": "c639df0480201ac7"
  },
  {
   "metadata": {},
   "cell_type": "code",
   "source": [
    "fb_rr_X = fb_rr[preds]\n",
    "fb_rr_y = fb_rr['whiff']"
   ],
   "id": "5958788a1004d403",
   "outputs": [],
   "execution_count": null
  },
  {
   "metadata": {},
   "cell_type": "code",
   "source": [
    "#Train Model: RHP vs RHB\n",
    "X_train, X_test, y_train, y_test = train_test_split(fb_rr_X, fb_rr_y, test_size=.33, random_state=25)\n",
    "\n",
    "# Set up the XGBoost model\n",
    "xgb_model = XGBClassifier(random_state=25)\n",
    "\n",
    "# Define the parameter space for Bayesian hyperparameter tuning for XGBoost\n",
    "param_space = {\n",
    "    'learning_rate': (0.01, 0.3, 'log-uniform'),  # Learning rate\n",
    "    'max_depth': (3, 10),  # Maximum depth of a tree\n",
    "    'n_estimators': (50, 300),  # Number of boosting rounds\n",
    "    'subsample': (0.6, 1.0),  # Subsample ratio of the training instances\n",
    "    'colsample_bytree': (0.6, 1.0),  # Subsample ratio of columns for each tree\n",
    "    'gamma': (0, 10),  # Minimum loss reduction required to make a further partition\n",
    "    'reg_alpha': (1e-8, 1.0, 'log-uniform'),  # L1 regularization term\n",
    "    'reg_lambda': (1e-8, 1.0, 'log-uniform'),  # L2 regularization term\n",
    "}\n",
    "\n",
    "# Set up Bayesian search using BayesSearchCV\n",
    "bayes_search = BayesSearchCV(\n",
    "    estimator=xgb_model,\n",
    "    search_spaces=param_space,\n",
    "    n_iter=25,  # Number of iterations\n",
    "    cv=3,  # 3-fold cross-validation\n",
    "    scoring='accuracy',  # Scoring metric\n",
    "    n_jobs=-1,  # Use all available cores\n",
    "    verbose=0,\n",
    "    random_state=42\n",
    ")\n",
    "\n",
    "# Fit the model using Bayesian hyperparameter tuning\n",
    "bayes_search.fit(X_train, y_train)\n",
    "\n",
    "# Best hyperparameters found\n",
    "best_params = bayes_search.best_params_\n",
    "print(f\"Best hyperparameters for Whiffs: {best_params}\")\n",
    "\n",
    "# Make predictions on the training and test sets using the best model\n",
    "best_model = bayes_search.best_estimator_\n",
    "y_train_pred = best_model.predict(X_train)\n",
    "y_test_pred = best_model.predict(X_test)\n",
    "\n",
    "# Calculate MSE and R-squared for both training and test sets\n",
    "accuracy_train = accuracy_score(y_train, y_train_pred)\n",
    "accuracy_test = accuracy_score(y_test, y_test_pred)\n",
    "auc_train = roc_auc_score(y_train, y_train_pred)\n",
    "auc_test = roc_auc_score(y_test, y_test_pred)\n",
    "\n",
    "print(f'Accuracy (Training): {accuracy_train:.4f}')\n",
    "print(f'ROC AUC (Training): {auc_train:.4f}')\n",
    "print(f'Accuracy (Test): {accuracy_test:.4f}')\n",
    "print(f'ROC AUC (Test): {auc_test:.4f}')"
   ],
   "id": "f19eeb00c8582e41",
   "outputs": [],
   "execution_count": null
  },
  {
   "cell_type": "code",
   "execution_count": null,
   "outputs": [],
   "source": [
    "import joblib\n",
    "\n",
    "joblib.dump(best_model, '../../models/fastballs_rr_model.pkl')"
   ],
   "metadata": {
    "collapsed": false
   },
   "id": "5bb7ab4101ff33cc"
  },
  {
   "cell_type": "code",
   "execution_count": null,
   "outputs": [],
   "source": [
    "fb_rr['Date'] = pd.to_datetime(fb_rr['Date'], format = 'mixed')\n",
    "\n",
    "aub_fbs_rr_2024 = fb_rr[(fb_rr['PitcherTeam']=='AUB_TIG') & \n",
    "                         (fb_rr['Date'] > datetime.datetime(2024, 1, 1))]"
   ],
   "metadata": {
    "collapsed": false
   },
   "id": "999d07021cdc7976"
  },
  {
   "metadata": {},
   "cell_type": "code",
   "source": [
    "# Get unique values\n",
    "unique_values = fb_rr['Pitcher'].unique()\n",
    "aub_unique_values = aub_fbs_rr_2024['Pitcher'].unique()\n",
    "\n",
    "print(aub_unique_values)\n",
    "\n",
    "# Create a dictionary to store subsets\n",
    "all_subsets = {value: fb_rr[fb_rr['Pitcher'] == value] for value in unique_values}\n",
    "\n",
    "aub_subsets = {value: aub_fbs_rr_2024[aub_fbs_rr_2024['Pitcher'] == value] for value in aub_unique_values}"
   ],
   "id": "3141255af398a531",
   "outputs": [],
   "execution_count": null
  },
  {
   "metadata": {},
   "cell_type": "code",
   "source": [
    "def aub_rr_fb_stuff(name):\n",
    "    \n",
    "    preds = ['RelSpeed','VertRelAngle','HorzRelAngle','SpinRate','SpinAxis','RelHeight','RelSide','Extension','VertBreak','InducedVertBreak','HorzBreak','ZoneSpeed','VertApprAngle','HorzApprAngle','ZoneTime','pfxx','pfxz','x0','y0','z0','vx0','vy0','vz0','ax0','ay0','az0','SpeedDrop','PitchTrajectoryXc1','PitchTrajectoryXc2','PitchTrajectoryYc0','PitchTrajectoryYc1','PitchTrajectoryYc2','PitchTrajectoryZc0','PitchTrajectoryZc1','PitchTrajectoryZc2']\n",
    "    \n",
    "    all_preds = best_model.predict_proba(fb_rr_X)[:,1]\n",
    "    mean_pred = np.mean(all_preds)\n",
    "\n",
    "    pitcher = aub_subsets[name]\n",
    "    pitcher_x = pitcher[preds]\n",
    "\n",
    "    whiff_preds = best_model.predict_proba(pitcher_x)[:,1]\n",
    "\n",
    "    stuff = whiff_preds/mean_pred\n",
    "    \n",
    "    print(f\"{name} RR four_seam stuff+: {np.mean(stuff * 100)}\", mean_pred)"
   ],
   "id": "ccde9275eba9d9c3",
   "outputs": [],
   "execution_count": null
  },
  {
   "metadata": {},
   "cell_type": "code",
   "source": [
    "for pitcher in aub_unique_values:\n",
    "    aub_rr_fb_stuff(pitcher)"
   ],
   "id": "ded55ac13a657234",
   "outputs": [],
   "execution_count": null
  },
  {
   "metadata": {},
   "cell_type": "markdown",
   "source": [
    "Righty vs. Lefty Splits"
   ],
   "id": "9e8ad314ee872db4"
  },
  {
   "metadata": {},
   "cell_type": "code",
   "source": [
    "fb_rl_X = fb_rl[preds]\n",
    "fb_rl_y = fb_rl['whiff']"
   ],
   "id": "da4d89830c58e269",
   "outputs": [],
   "execution_count": null
  },
  {
   "metadata": {},
   "cell_type": "code",
   "source": [
    "X_train, X_test, y_train, y_test = train_test_split(fb_rl_X, fb_rl_y, test_size=.33, random_state=25)\n",
    "\n",
    "# Set up the XGBoost model\n",
    "xgb_model = XGBClassifier(random_state=25)\n",
    "\n",
    "# Define the parameter space for Bayesian hyperparameter tuning for XGBoost\n",
    "param_space = {\n",
    "    'learning_rate': (0.01, 0.3, 'log-uniform'),  # Learning rate\n",
    "    'max_depth': (3, 10),  # Maximum depth of a tree\n",
    "    'n_estimators': (50, 300),  # Number of boosting rounds\n",
    "    'subsample': (0.6, 1.0),  # Subsample ratio of the training instances\n",
    "    'colsample_bytree': (0.6, 1.0),  # Subsample ratio of columns for each tree\n",
    "    'gamma': (0, 10),  # Minimum loss reduction required to make a further partition\n",
    "    'reg_alpha': (1e-8, 1.0, 'log-uniform'),  # L1 regularization term\n",
    "    'reg_lambda': (1e-8, 1.0, 'log-uniform'),  # L2 regularization term\n",
    "}\n",
    "\n",
    "# Set up Bayesian search using BayesSearchCV\n",
    "bayes_search = BayesSearchCV(\n",
    "    estimator=xgb_model,\n",
    "    search_spaces=param_space,\n",
    "    n_iter=25,  # Number of iterations\n",
    "    cv=3,  # 3-fold cross-validation\n",
    "    scoring='accuracy',  # Scoring metric\n",
    "    n_jobs=-1,  # Use all available cores\n",
    "    verbose=0,\n",
    "    random_state=42\n",
    ")\n",
    "\n",
    "# Fit the model using Bayesian hyperparameter tuning\n",
    "bayes_search.fit(X_train, y_train)\n",
    "\n",
    "# Best hyperparameters found\n",
    "best_params = bayes_search.best_params_\n",
    "print(f\"Best hyperparameters for Whiffs: {best_params}\")\n",
    "\n",
    "# Make predictions on the training and test sets using the best model\n",
    "best_model = bayes_search.best_estimator_\n",
    "y_train_pred = best_model.predict(X_train)\n",
    "y_test_pred = best_model.predict(X_test)\n",
    "\n",
    "# Calculate MSE and R-squared for both training and test sets\n",
    "accuracy_train = accuracy_score(y_train, y_train_pred)\n",
    "accuracy_test = accuracy_score(y_test, y_test_pred)\n",
    "auc_train = roc_auc_score(y_train, y_train_pred)\n",
    "auc_test = roc_auc_score(y_test, y_test_pred)\n",
    "\n",
    "print(f'Accuracy (Training): {accuracy_train:.4f}')\n",
    "print(f'ROC AUC (Training): {auc_train:.4f}')\n",
    "print(f'Accuracy (Test): {accuracy_test:.4f}')\n",
    "print(f'ROC AUC (Test): {auc_test:.4f}')"
   ],
   "id": "17a2ae14ecc74846",
   "outputs": [],
   "execution_count": null
  },
  {
   "cell_type": "code",
   "execution_count": null,
   "outputs": [],
   "source": [
    "joblib.dump(best_model, '../../models/fastballs_rl_model.pkl')"
   ],
   "metadata": {
    "collapsed": false
   },
   "id": "af97f32b74bc456"
  },
  {
   "cell_type": "code",
   "execution_count": null,
   "outputs": [],
   "source": [
    "fb_rl['Date'] = pd.to_datetime(fb_rl['Date'], format = 'mixed')\n",
    "\n",
    "aub_fbs_rl_2024 = fb_rl[(fb_rl['PitcherTeam']=='AUB_TIG') & \n",
    "                         (fb_rl['Date'] > datetime.datetime(2024, 1, 1))]"
   ],
   "metadata": {
    "collapsed": false
   },
   "id": "d7eb3fb1ac28d650"
  },
  {
   "metadata": {},
   "cell_type": "code",
   "source": [
    "# Get unique values\n",
    "unique_values = fb_rl['Pitcher'].unique()\n",
    "aub_unique_values = aub_fbs_rl_2024['Pitcher'].unique()\n",
    "\n",
    "print(aub_unique_values)\n",
    "\n",
    "# Create a dictionary to store subsets\n",
    "all_subsets = {value: fb_rl[fb_rl['Pitcher'] == value] for value in unique_values}\n",
    "\n",
    "aub_subsets = {value: aub_fbs_rl_2024[aub_fbs_rl_2024['Pitcher'] == value] for value in aub_unique_values}"
   ],
   "id": "e83f3a893cc0c341",
   "outputs": [],
   "execution_count": null
  },
  {
   "metadata": {},
   "cell_type": "code",
   "source": [
    "def aub_rl_fb_stuff(name):\n",
    "    \n",
    "    preds = ['RelSpeed','VertRelAngle','HorzRelAngle','SpinRate','SpinAxis','RelHeight','RelSide','Extension','VertBreak','InducedVertBreak','HorzBreak','ZoneSpeed','VertApprAngle','HorzApprAngle','ZoneTime','pfxx','pfxz','x0','y0','z0','vx0','vy0','vz0','ax0','ay0','az0','SpeedDrop','PitchTrajectoryXc1','PitchTrajectoryXc2','PitchTrajectoryYc0','PitchTrajectoryYc1','PitchTrajectoryYc2','PitchTrajectoryZc0','PitchTrajectoryZc1','PitchTrajectoryZc2']\n",
    "    \n",
    "    all_preds = best_model.predict_proba(fb_rl_X)[:,1]\n",
    "    mean_pred = np.mean(all_preds)\n",
    "\n",
    "    pitcher = aub_subsets[name]\n",
    "    pitcher_x = pitcher[preds]\n",
    "\n",
    "    whiff_preds = best_model.predict_proba(pitcher_x)[:,1]\n",
    "\n",
    "    stuff = whiff_preds/mean_pred\n",
    "    \n",
    "    print(f\"{name} RL four_seam stuff+: {np.mean(stuff * 100)}\", mean_pred)"
   ],
   "id": "d8cadf61f3e9c4e6",
   "outputs": [],
   "execution_count": null
  },
  {
   "metadata": {},
   "cell_type": "code",
   "source": [
    "for pitcher in aub_unique_values:\n",
    "    aub_rl_fb_stuff(pitcher)"
   ],
   "id": "ef79baf3bacd0b4",
   "outputs": [],
   "execution_count": null
  },
  {
   "metadata": {},
   "cell_type": "markdown",
   "source": [
    "Lefty vs. Righty Splits"
   ],
   "id": "c57147979f28fba4"
  },
  {
   "metadata": {},
   "cell_type": "code",
   "source": [
    "fb_lr_X = fb_lr[preds]\n",
    "fb_lr_y = fb_lr['whiff']"
   ],
   "id": "ff6c3b67f8a840ff",
   "outputs": [],
   "execution_count": null
  },
  {
   "metadata": {},
   "cell_type": "code",
   "source": [
    "X_train, X_test, y_train, y_test = train_test_split(fb_lr_X, fb_lr_y, test_size=.33, random_state=25)\n",
    "\n",
    "# Set up the XGBoost model\n",
    "xgb_model = XGBClassifier(random_state=25)\n",
    "\n",
    "# Define the parameter space for Bayesian hyperparameter tuning for XGBoost\n",
    "param_space = {\n",
    "    'learning_rate': (0.01, 0.3, 'log-uniform'),  # Learning rate\n",
    "    'max_depth': (3, 10),  # Maximum depth of a tree\n",
    "    'n_estimators': (50, 300),  # Number of boosting rounds\n",
    "    'subsample': (0.6, 1.0),  # Subsample ratio of the training instances\n",
    "    'colsample_bytree': (0.6, 1.0),  # Subsample ratio of columns for each tree\n",
    "    'gamma': (0, 10),  # Minimum loss reduction required to make a further partition\n",
    "    'reg_alpha': (1e-8, 1.0, 'log-uniform'),  # L1 regularization term\n",
    "    'reg_lambda': (1e-8, 1.0, 'log-uniform'),  # L2 regularization term\n",
    "}\n",
    "\n",
    "# Set up Bayesian search using BayesSearchCV\n",
    "bayes_search = BayesSearchCV(\n",
    "    estimator=xgb_model,\n",
    "    search_spaces=param_space,\n",
    "    n_iter=25,  # Number of iterations\n",
    "    cv=3,  # 3-fold cross-validation\n",
    "    scoring='accuracy',  # Scoring metric\n",
    "    n_jobs=-1,  # Use all available cores\n",
    "    verbose=0,\n",
    "    random_state=42\n",
    ")\n",
    "\n",
    "# Fit the model using Bayesian hyperparameter tuning\n",
    "bayes_search.fit(X_train, y_train)\n",
    "\n",
    "# Best hyperparameters found\n",
    "best_params = bayes_search.best_params_\n",
    "print(f\"Best hyperparameters for Whiffs: {best_params}\")\n",
    "\n",
    "# Make predictions on the training and test sets using the best model\n",
    "best_model = bayes_search.best_estimator_\n",
    "y_train_pred = best_model.predict(X_train)\n",
    "y_test_pred = best_model.predict(X_test)\n",
    "\n",
    "# Calculate MSE and R-squared for both training and test sets\n",
    "accuracy_train = accuracy_score(y_train, y_train_pred)\n",
    "accuracy_test = accuracy_score(y_test, y_test_pred)\n",
    "auc_train = roc_auc_score(y_train, y_train_pred)\n",
    "auc_test = roc_auc_score(y_test, y_test_pred)\n",
    "\n",
    "print(f'Accuracy (Training): {accuracy_train:.4f}')\n",
    "print(f'ROC AUC (Training): {auc_train:.4f}')\n",
    "print(f'Accuracy (Test): {accuracy_test:.4f}')\n",
    "print(f'ROC AUC (Test): {auc_test:.4f}')"
   ],
   "id": "13d1486207bedf19",
   "outputs": [],
   "execution_count": null
  },
  {
   "cell_type": "code",
   "execution_count": null,
   "outputs": [],
   "source": [
    "joblib.dump(best_model, '../../models/fastballs_lr_model.pkl')"
   ],
   "metadata": {
    "collapsed": false
   },
   "id": "a847051d1393d1bc"
  },
  {
   "cell_type": "code",
   "execution_count": null,
   "outputs": [],
   "source": [
    "fb_lr['Date'] = pd.to_datetime(fb_lr['Date'], format = 'mixed')\n",
    "\n",
    "aub_fbs_lr_2024 = fb_lr[(fb_lr['PitcherTeam']=='AUB_TIG') & \n",
    "                         (fb_lr['Date'] > datetime.datetime(2024, 1, 1))]"
   ],
   "metadata": {
    "collapsed": false
   },
   "id": "d9ea7ce44f8038d3"
  },
  {
   "metadata": {},
   "cell_type": "code",
   "source": [
    "# Get unique values\n",
    "unique_values = fb_lr['Pitcher'].unique()\n",
    "aub_unique_values = aub_fbs_lr_2024['Pitcher'].unique()\n",
    "\n",
    "print(aub_unique_values)\n",
    "\n",
    "# Create a dictionary to store subsets\n",
    "all_subsets = {value: fb_lr[fb_lr['Pitcher'] == value] for value in unique_values}\n",
    "\n",
    "aub_subsets = {value: aub_fbs_lr_2024[aub_fbs_lr_2024['Pitcher'] == value] for value in aub_unique_values}"
   ],
   "id": "996a2dbef32b7283",
   "outputs": [],
   "execution_count": null
  },
  {
   "metadata": {},
   "cell_type": "code",
   "source": [
    "def aub_lr_fb_stuff(name):\n",
    "    \n",
    "    preds = ['RelSpeed','VertRelAngle','HorzRelAngle','SpinRate','SpinAxis','RelHeight','RelSide','Extension','VertBreak','InducedVertBreak','HorzBreak','ZoneSpeed','VertApprAngle','HorzApprAngle','ZoneTime','pfxx','pfxz','x0','y0','z0','vx0','vy0','vz0','ax0','ay0','az0','SpeedDrop','PitchTrajectoryXc1','PitchTrajectoryXc2','PitchTrajectoryYc0','PitchTrajectoryYc1','PitchTrajectoryYc2','PitchTrajectoryZc0','PitchTrajectoryZc1','PitchTrajectoryZc2']\n",
    "    \n",
    "    all_preds = best_model.predict_proba(fb_lr_X)[:,1]\n",
    "    mean_pred = np.mean(all_preds)\n",
    "\n",
    "    pitcher = aub_subsets[name]\n",
    "    pitcher_x = pitcher[preds]\n",
    "\n",
    "    whiff_preds = best_model.predict_proba(pitcher_x)[:,1]\n",
    "\n",
    "    stuff = whiff_preds/mean_pred\n",
    "    \n",
    "    print(f\"{name} LR fastball stuff+: {np.mean(stuff * 100)}\", mean_pred)"
   ],
   "id": "5b56b9f1cb7adbfa",
   "outputs": [],
   "execution_count": null
  },
  {
   "metadata": {},
   "cell_type": "code",
   "source": [
    "for pitcher in aub_unique_values:\n",
    "    aub_lr_fb_stuff(pitcher)"
   ],
   "id": "530c3320c152c36",
   "outputs": [],
   "execution_count": null
  },
  {
   "metadata": {},
   "cell_type": "markdown",
   "source": [
    "Lefty vs. Lefty Split"
   ],
   "id": "2e60eea1b954783e"
  },
  {
   "metadata": {},
   "cell_type": "code",
   "source": [
    "fb_ll_X = fb_ll[preds]\n",
    "fb_ll_y = fb_ll['whiff']"
   ],
   "id": "a80f3f6b11970784",
   "outputs": [],
   "execution_count": null
  },
  {
   "metadata": {},
   "cell_type": "code",
   "source": [
    "X_train, X_test, y_train, y_test = train_test_split(fb_ll_X, fb_ll_y, test_size=.33, random_state=25)\n",
    "\n",
    "# Set up the XGBoost model\n",
    "xgb_model = XGBClassifier(random_state=25)\n",
    "\n",
    "# Define the parameter space for Bayesian hyperparameter tuning for XGBoost\n",
    "param_space = {\n",
    "    'learning_rate': (0.01, 0.3, 'log-uniform'),  # Learning rate\n",
    "    'max_depth': (3, 10),  # Maximum depth of a tree\n",
    "    'n_estimators': (50, 300),  # Number of boosting rounds\n",
    "    'subsample': (0.6, 1.0),  # Subsample ratio of the training instances\n",
    "    'colsample_bytree': (0.6, 1.0),  # Subsample ratio of columns for each tree\n",
    "    'gamma': (0, 10),  # Minimum loss reduction required to make a further partition\n",
    "    'reg_alpha': (1e-8, 1.0, 'log-uniform'),  # L1 regularization term\n",
    "    'reg_lambda': (1e-8, 1.0, 'log-uniform'),  # L2 regularization term\n",
    "}\n",
    "\n",
    "# Set up Bayesian search using BayesSearchCV\n",
    "bayes_search = BayesSearchCV(\n",
    "    estimator=xgb_model,\n",
    "    search_spaces=param_space,\n",
    "    n_iter=25,  # Number of iterations\n",
    "    cv=3,  # 3-fold cross-validation\n",
    "    scoring='accuracy',  # Scoring metric\n",
    "    n_jobs=-1,  # Use all available cores\n",
    "    verbose=0,\n",
    "    random_state=42\n",
    ")\n",
    "\n",
    "# Fit the model using Bayesian hyperparameter tuning\n",
    "bayes_search.fit(X_train, y_train)\n",
    "\n",
    "# Best hyperparameters found\n",
    "best_params = bayes_search.best_params_\n",
    "print(f\"Best hyperparameters for Whiffs: {best_params}\")\n",
    "\n",
    "# Make predictions on the training and test sets using the best model\n",
    "best_model = bayes_search.best_estimator_\n",
    "y_train_pred = best_model.predict(X_train)\n",
    "y_test_pred = best_model.predict(X_test)\n",
    "\n",
    "# Calculate MSE and R-squared for both training and test sets\n",
    "accuracy_train = accuracy_score(y_train, y_train_pred)\n",
    "accuracy_test = accuracy_score(y_test, y_test_pred)\n",
    "auc_train = roc_auc_score(y_train, y_train_pred)\n",
    "auc_test = roc_auc_score(y_test, y_test_pred)\n",
    "\n",
    "print(f'Accuracy (Training): {accuracy_train:.4f}')\n",
    "print(f'ROC AUC (Training): {auc_train:.4f}')\n",
    "print(f'Accuracy (Test): {accuracy_test:.4f}')\n",
    "print(f'ROC AUC (Test): {auc_test:.4f}')"
   ],
   "id": "d3f067aff496ed2",
   "outputs": [],
   "execution_count": null
  },
  {
   "cell_type": "code",
   "execution_count": null,
   "outputs": [],
   "source": [
    "joblib.dump(best_model, '../../models/fastballs_ll_model.pkl')"
   ],
   "metadata": {
    "collapsed": false
   },
   "id": "6de209b5ce07464d"
  },
  {
   "cell_type": "code",
   "execution_count": null,
   "outputs": [],
   "source": [
    "fb_ll['Date'] = pd.to_datetime(fb_ll['Date'], format = 'mixed')\n",
    "\n",
    "aub_fbs_ll_2024 = fb_ll[(fb_ll['PitcherTeam']=='AUB_TIG') & \n",
    "                         (fb_ll['Date'] > datetime.datetime(2024, 1, 1))]"
   ],
   "metadata": {
    "collapsed": false
   },
   "id": "13fa930733cb3a26"
  },
  {
   "metadata": {},
   "cell_type": "code",
   "source": [
    "# Get unique values\n",
    "unique_values = fb_ll['Pitcher'].unique()\n",
    "aub_unique_values = aub_fbs_ll_2024['Pitcher'].unique()\n",
    "\n",
    "print(aub_unique_values)\n",
    "\n",
    "# Create a dictionary to store subsets\n",
    "all_subsets = {value: fb_ll[fb_ll['Pitcher'] == value] for value in unique_values}\n",
    "\n",
    "aub_subsets = {value: aub_fbs_ll_2024[aub_fbs_ll_2024['Pitcher'] == value] for value in aub_unique_values}"
   ],
   "id": "48cf3a1e6ccc1c8c",
   "outputs": [],
   "execution_count": null
  },
  {
   "metadata": {},
   "cell_type": "code",
   "source": [
    "def aub_ll_fb_stuff(name):\n",
    "    \n",
    "    preds = ['RelSpeed','VertRelAngle','HorzRelAngle','SpinRate','SpinAxis','RelHeight','RelSide','Extension','VertBreak','InducedVertBreak','HorzBreak','ZoneSpeed','VertApprAngle','HorzApprAngle','ZoneTime','pfxx','pfxz','x0','y0','z0','vx0','vy0','vz0','ax0','ay0','az0','SpeedDrop','PitchTrajectoryXc1','PitchTrajectoryXc2','PitchTrajectoryYc0','PitchTrajectoryYc1','PitchTrajectoryYc2','PitchTrajectoryZc0','PitchTrajectoryZc1','PitchTrajectoryZc2']\n",
    "    \n",
    "    all_preds = best_model.predict_proba(fb_ll_X)[:,1]\n",
    "    mean_pred = np.mean(all_preds)\n",
    "\n",
    "    pitcher = aub_subsets[name]\n",
    "    pitcher_x = pitcher[preds]\n",
    "\n",
    "    whiff_preds = best_model.predict_proba(pitcher_x)[:,1]\n",
    "\n",
    "    stuff = whiff_preds/mean_pred\n",
    "    \n",
    "    print(f\"{name} LL four seam stuff+: {np.mean(stuff * 100)}\", mean_pred)"
   ],
   "id": "6d824a29b8a6c23f",
   "outputs": [],
   "execution_count": null
  },
  {
   "metadata": {},
   "cell_type": "code",
   "source": [
    "for pitcher in aub_unique_values:\n",
    "    aub_ll_fb_stuff(pitcher)"
   ],
   "id": "95c0d549de4faed0",
   "outputs": [],
   "execution_count": null
  },
  {
   "cell_type": "code",
   "execution_count": null,
   "outputs": [],
   "source": [
    "aub_subsets['Graves, Griffin']"
   ],
   "metadata": {
    "collapsed": false
   },
   "id": "a907e2f61b3367bf"
  }
 ],
 "metadata": {
  "kernelspec": {
   "display_name": "Python 3",
   "language": "python",
   "name": "python3"
  },
  "language_info": {
   "codemirror_mode": {
    "name": "ipython",
    "version": 2
   },
   "file_extension": ".py",
   "mimetype": "text/x-python",
   "name": "python",
   "nbconvert_exporter": "python",
   "pygments_lexer": "ipython2",
   "version": "2.7.6"
  }
 },
 "nbformat": 4,
 "nbformat_minor": 5
}
