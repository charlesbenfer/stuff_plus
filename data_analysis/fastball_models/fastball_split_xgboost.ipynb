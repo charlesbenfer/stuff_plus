{
 "cells": [
  {
   "metadata": {
    "ExecuteTime": {
     "end_time": "2024-10-05T00:40:40.232966Z",
     "start_time": "2024-10-05T00:40:38.913685Z"
    }
   },
   "cell_type": "code",
   "source": [
    "#Packages\n",
    "import os\n",
    "import pandas as pd\n",
    "import numpy as np\n",
    "import xgboost\n",
    "from xgboost import XGBClassifier\n",
    "from sklearn.model_selection import train_test_split\n",
    "from sklearn.metrics import accuracy_score, confusion_matrix, precision_score, recall_score, f1_score, roc_auc_score, roc_curve\n",
    "from hyperopt import STATUS_OK, Trials, fmin, hp, tpe\n",
    "import matplotlib.pyplot as plt\n",
    "import seaborn as sns\n",
    "import shap"
   ],
   "id": "20fbd8b9e4c65eb6",
   "outputs": [],
   "execution_count": 1
  },
  {
   "metadata": {
    "ExecuteTime": {
     "end_time": "2024-10-05T00:40:58.947099Z",
     "start_time": "2024-10-05T00:40:50.795929Z"
    }
   },
   "cell_type": "code",
   "source": [
    "#Get Data\n",
    "csv_dir = '../SEC Trackman Data/'\n",
    "all_files = [os.path.join(csv_dir, f) for f in os.listdir(csv_dir) if f.endswith('.csv')]\n",
    "\n",
    "df_list = []\n",
    "\n",
    "for file in all_files:\n",
    "    df = pd.read_csv(file)\n",
    "    df_list.append(df)\n",
    "\n",
    "all_pitches = pd.concat(df_list, ignore_index=True)\n",
    "\n",
    "print(all_pitches.shape)\n",
    "print(all_pitches.columns)"
   ],
   "id": "c79bff1b43e591cd",
   "outputs": [
    {
     "name": "stdout",
     "output_type": "stream",
     "text": [
      "(270589, 167)\n",
      "Index(['PitchNo', 'Date', 'Time', 'PAofInning', 'PitchofPA', 'Pitcher',\n",
      "       'PitcherId', 'PitcherThrows', 'PitcherTeam', 'Batter',\n",
      "       ...\n",
      "       'ThrowTrajectoryZc1', 'ThrowTrajectoryZc2', 'PitchReleaseConfidence',\n",
      "       'PitchLocationConfidence', 'PitchMovementConfidence',\n",
      "       'HitLaunchConfidence', 'HitLandingConfidence',\n",
      "       'CatcherThrowCatchConfidence', 'CatcherThrowReleaseConfidence',\n",
      "       'CatcherThrowLocationConfidence'],\n",
      "      dtype='object', length=167)\n"
     ]
    }
   ],
   "execution_count": 2
  },
  {
   "metadata": {
    "ExecuteTime": {
     "end_time": "2024-10-05T00:42:22.366430Z",
     "start_time": "2024-10-05T00:42:22.209463Z"
    }
   },
   "cell_type": "code",
   "source": [
    "#Get all fastballs\n",
    "fb = all_pitches[all_pitches['TaggedPitchType'].isin(['Fastball','Cutter','Sinker','FourSeamFastBall','TwoSeamFastBall','OneSeamFastBall'])]\n",
    "print(fb.shape)"
   ],
   "id": "40dc10522de5c991",
   "outputs": [
    {
     "name": "stdout",
     "output_type": "stream",
     "text": [
      "(152663, 167)\n"
     ]
    }
   ],
   "execution_count": 3
  },
  {
   "metadata": {
    "ExecuteTime": {
     "end_time": "2024-10-05T00:45:04.847193Z",
     "start_time": "2024-10-05T00:45:04.573744Z"
    }
   },
   "cell_type": "code",
   "source": [
    "#Subset fastballs into platoon splits\n",
    "fb_rr = fb[(fb['PitcherThrows'] == 'Right') & (fb['BatterSide'] == 'Right')]\n",
    "fb_rl = fb[(fb['PitcherThrows'] == 'Right') & (fb['BatterSide'] == 'Left')]\n",
    "fb_lr = fb[(fb['PitcherThrows'] == 'Left') & (fb['BatterSide'] == 'Right')]\n",
    "fb_ll = fb[(fb['PitcherThrows'] == 'Left') & (fb['BatterSide'] == 'Left')]\n",
    "\n",
    "print(fb_rr.shape)\n",
    "print(fb_rl.shape)\n",
    "print(fb_lr.shape)\n",
    "print(fb_ll.shape)"
   ],
   "id": "5b88f995bc2ca8d9",
   "outputs": [
    {
     "name": "stdout",
     "output_type": "stream",
     "text": [
      "(60530, 167)\n",
      "(45152, 167)\n",
      "(30195, 167)\n",
      "(16630, 167)\n"
     ]
    }
   ],
   "execution_count": 4
  },
  {
   "metadata": {
    "ExecuteTime": {
     "end_time": "2024-10-05T00:46:07.189389Z",
     "start_time": "2024-10-05T00:46:07.149410Z"
    }
   },
   "cell_type": "code",
   "source": [
    "#Whiffs\n",
    "fb_rr['whiff'] = np.where(fb_rr['PitchCall']=='StrikeSwinging',1,0)\n",
    "fb_rl['whiff'] = np.where(fb_rl['PitchCall']=='StrikeSwinging',1,0)\n",
    "fb_lr['whiff'] = np.where(fb_lr['PitchCall']=='StrikeSwinging',1,0)\n",
    "fb_ll['whiff'] = np.where(fb_ll['PitchCall']=='StrikeSwinging',1,0)"
   ],
   "id": "e03a72505bd8353",
   "outputs": [
    {
     "name": "stderr",
     "output_type": "stream",
     "text": [
      "C:\\Users\\ethan\\AppData\\Local\\Temp\\ipykernel_11404\\1020005666.py:2: SettingWithCopyWarning: \n",
      "A value is trying to be set on a copy of a slice from a DataFrame.\n",
      "Try using .loc[row_indexer,col_indexer] = value instead\n",
      "\n",
      "See the caveats in the documentation: https://pandas.pydata.org/pandas-docs/stable/user_guide/indexing.html#returning-a-view-versus-a-copy\n",
      "  fb_rr['whiff'] = np.where(fb_rr['PitchCall']=='StrikeSwinging',1,0)\n",
      "C:\\Users\\ethan\\AppData\\Local\\Temp\\ipykernel_11404\\1020005666.py:3: SettingWithCopyWarning: \n",
      "A value is trying to be set on a copy of a slice from a DataFrame.\n",
      "Try using .loc[row_indexer,col_indexer] = value instead\n",
      "\n",
      "See the caveats in the documentation: https://pandas.pydata.org/pandas-docs/stable/user_guide/indexing.html#returning-a-view-versus-a-copy\n",
      "  fb_rl['whiff'] = np.where(fb_rl['PitchCall']=='StrikeSwinging',1,0)\n",
      "C:\\Users\\ethan\\AppData\\Local\\Temp\\ipykernel_11404\\1020005666.py:4: SettingWithCopyWarning: \n",
      "A value is trying to be set on a copy of a slice from a DataFrame.\n",
      "Try using .loc[row_indexer,col_indexer] = value instead\n",
      "\n",
      "See the caveats in the documentation: https://pandas.pydata.org/pandas-docs/stable/user_guide/indexing.html#returning-a-view-versus-a-copy\n",
      "  fb_lr['whiff'] = np.where(fb_lr['PitchCall']=='StrikeSwinging',1,0)\n",
      "C:\\Users\\ethan\\AppData\\Local\\Temp\\ipykernel_11404\\1020005666.py:5: SettingWithCopyWarning: \n",
      "A value is trying to be set on a copy of a slice from a DataFrame.\n",
      "Try using .loc[row_indexer,col_indexer] = value instead\n",
      "\n",
      "See the caveats in the documentation: https://pandas.pydata.org/pandas-docs/stable/user_guide/indexing.html#returning-a-view-versus-a-copy\n",
      "  fb_ll['whiff'] = np.where(fb_ll['PitchCall']=='StrikeSwinging',1,0)\n"
     ]
    }
   ],
   "execution_count": 5
  },
  {
   "metadata": {
    "ExecuteTime": {
     "end_time": "2024-10-05T00:46:27.810495Z",
     "start_time": "2024-10-05T00:46:27.796627Z"
    }
   },
   "cell_type": "code",
   "source": [
    "preds = ['RelSpeed','VertRelAngle','HorzRelAngle','SpinRate','SpinAxis','RelHeight','RelSide','Extension','VertBreak','InducedVertBreak','HorzBreak','ZoneSpeed','VertApprAngle','HorzApprAngle','ZoneTime','pfxx','pfxz','x0','y0','z0','vx0','vy0','vz0','ax0','ay0','az0','SpeedDrop','PitchTrajectoryXc1','PitchTrajectoryXc2','PitchTrajectoryYc0','PitchTrajectoryYc1','PitchTrajectoryYc2','PitchTrajectoryZc0','PitchTrajectoryZc1','PitchTrajectoryZc2']"
   ],
   "id": "bd4e36e6bd286607",
   "outputs": [],
   "execution_count": 6
  },
  {
   "metadata": {},
   "cell_type": "markdown",
   "source": [
    "Righty vs. Righty Split"
   ],
   "id": "c639df0480201ac7"
  },
  {
   "metadata": {
    "ExecuteTime": {
     "end_time": "2024-10-05T00:47:01.480062Z",
     "start_time": "2024-10-05T00:47:01.456350Z"
    }
   },
   "cell_type": "code",
   "source": [
    "fb_rr_X = fb_rr[preds]\n",
    "fb_rr_y = fb_rr['whiff']"
   ],
   "id": "5958788a1004d403",
   "outputs": [],
   "execution_count": 7
  },
  {
   "metadata": {
    "ExecuteTime": {
     "end_time": "2024-10-05T00:47:35.875891Z",
     "start_time": "2024-10-05T00:47:35.121737Z"
    }
   },
   "cell_type": "code",
   "source": [
    "#Train Model: RHP vs RHB\n",
    "X_train, X_test, y_train, y_test = train_test_split(fb_rr_X, fb_rr_y, test_size=.33, random_state=25)\n",
    "\n",
    "model = XGBClassifier()\n",
    "model.fit(X_train, y_train)\n",
    "\n",
    "y_pred = model.predict(X_test)\n",
    "predictions = [round(value) for value in y_pred]\n",
    "\n",
    "accuracy = accuracy_score(y_test, predictions)\n",
    "print(\"Accuracy: %.2f%%\" % (accuracy * 100.0))"
   ],
   "id": "f19eeb00c8582e41",
   "outputs": [
    {
     "name": "stdout",
     "output_type": "stream",
     "text": [
      "Accuracy: 90.84%\n"
     ]
    }
   ],
   "execution_count": 8
  },
  {
   "metadata": {
    "ExecuteTime": {
     "end_time": "2024-10-05T00:47:45.366851Z",
     "start_time": "2024-10-05T00:47:45.101268Z"
    }
   },
   "cell_type": "code",
   "source": [
    "y_pred_prob = model.predict_proba(X_test)[:,1]\n",
    "roc_auc = roc_auc_score(y_test, predictions, multi_class='ovr')\n",
    "\n",
    "print(f'ROC AUC: {roc_auc:.4f}')\n",
    "\n",
    "# Plotting ROC Curve for one class (e.g., class 0)\n",
    "fpr, tpr, _ = roc_curve(y_test == 1, y_pred_prob)\n",
    "plt.plot(fpr, tpr, label='Class 0 ROC curve')\n",
    "plt.xlabel('False Positive Rate')\n",
    "plt.ylabel('True Positive Rate')\n",
    "plt.title('ROC Curve')\n",
    "plt.legend(loc='best')\n",
    "plt.show()"
   ],
   "id": "e8fda429f60f6bee",
   "outputs": [
    {
     "name": "stdout",
     "output_type": "stream",
     "text": [
      "ROC AUC: 0.5120\n"
     ]
    },
    {
     "data": {
      "text/plain": [
       "<Figure size 640x480 with 1 Axes>"
      ],
      "image/png": "[encoded data removed]"
     },
     "metadata": {},
     "output_type": "display_data"
    }
   ],
   "execution_count": 9
  },
  {
   "metadata": {
    "ExecuteTime": {
     "end_time": "2024-10-05T00:48:45.659649Z",
     "start_time": "2024-10-05T00:48:40.740687Z"
    }
   },
   "cell_type": "code",
   "source": [
    "# Get unique values\n",
    "unique_values = fb_rr['Pitcher'].unique()\n",
    "\n",
    "#List of Pitchers that threw splitter, as well as amount\n",
    "print(unique_values, len(unique_values))\n",
    "\n",
    "# Create a dictionary to store subsets\n",
    "subsets = {value: fb_rr[fb_rr['Pitcher'] == value] for value in unique_values}"
   ],
   "id": "3141255af398a531",
   "outputs": [
    {
     "name": "stdout",
     "output_type": "stream",
     "text": [
      "['Dettmer, Nathan' 'Tidwell, Blade' 'Hunley, Sean' ... 'Pingeton, Anthony'\n",
      " 'Causey, A.J.' \"O'Brien Cameron\"] 1533\n"
     ]
    }
   ],
   "execution_count": 10
  },
  {
   "metadata": {
    "ExecuteTime": {
     "end_time": "2024-10-05T00:49:02.865187Z",
     "start_time": "2024-10-05T00:49:02.851380Z"
    }
   },
   "cell_type": "code",
   "source": [
    "def rr_fb_stuff(name):\n",
    "    \n",
    "    preds = ['RelSpeed','VertRelAngle','HorzRelAngle','SpinRate','SpinAxis','RelHeight','RelSide','Extension','VertBreak','InducedVertBreak','HorzBreak','ZoneSpeed','VertApprAngle','HorzApprAngle','ZoneTime','pfxx','pfxz','x0','y0','z0','vx0','vy0','vz0','ax0','ay0','az0','SpeedDrop','PitchTrajectoryXc1','PitchTrajectoryXc2','PitchTrajectoryYc0','PitchTrajectoryYc1','PitchTrajectoryYc2','PitchTrajectoryZc0','PitchTrajectoryZc1','PitchTrajectoryZc2']\n",
    "    \n",
    "    all_preds = model.predict_proba(fb_rr_X)[:,1]\n",
    "    mean_pred = np.mean(all_preds)\n",
    "\n",
    "    pitcher = subsets[name]\n",
    "    pitcher_x = pitcher[preds]\n",
    "\n",
    "    whiff_preds = model.predict_proba(pitcher_x)[:,1]\n",
    "\n",
    "    stuff = whiff_preds/mean_pred\n",
    "    \n",
    "    return np.mean(stuff * 100)\n",
    "\n",
    "    \n"
   ],
   "id": "ccde9275eba9d9c3",
   "outputs": [],
   "execution_count": 11
  },
  {
   "metadata": {
    "ExecuteTime": {
     "end_time": "2024-10-05T00:49:56.642065Z",
     "start_time": "2024-10-05T00:49:56.579436Z"
    }
   },
   "cell_type": "code",
   "source": [
    "#Stuff+ for selected pitchers Fastballs in RHP v RHB split\n",
    "rr_fb_stuff('Tilly, Cameron')"
   ],
   "id": "ded55ac13a657234",
   "outputs": [
    {
     "data": {
      "text/plain": [
       "101.665695"
      ]
     },
     "execution_count": 13,
     "metadata": {},
     "output_type": "execute_result"
    }
   ],
   "execution_count": 13
  },
  {
   "metadata": {},
   "cell_type": "markdown",
   "source": [
    "Righty vs. Lefty Splits"
   ],
   "id": "9e8ad314ee872db4"
  },
  {
   "metadata": {
    "ExecuteTime": {
     "end_time": "2024-10-05T00:50:30.575124Z",
     "start_time": "2024-10-05T00:50:30.546870Z"
    }
   },
   "cell_type": "code",
   "source": [
    "fb_rl_X = fb_rl[preds]\n",
    "fb_rl_y = fb_rl['whiff']"
   ],
   "id": "da4d89830c58e269",
   "outputs": [],
   "execution_count": 14
  },
  {
   "metadata": {
    "ExecuteTime": {
     "end_time": "2024-10-05T00:50:49.628361Z",
     "start_time": "2024-10-05T00:50:49.055124Z"
    }
   },
   "cell_type": "code",
   "source": [
    "#Train Model: RHP vs LHB\n",
    "X_train, X_test, y_train, y_test = train_test_split(fb_rl_X, fb_rl_y, test_size=.33, random_state=25)\n",
    "\n",
    "model = XGBClassifier()\n",
    "model.fit(X_train, y_train)\n",
    "\n",
    "y_pred = model.predict(X_test)\n",
    "predictions = [round(value) for value in y_pred]\n",
    "\n",
    "accuracy = accuracy_score(y_test, predictions)\n",
    "print(\"Accuracy: %.2f%%\" % (accuracy * 100.0))"
   ],
   "id": "17a2ae14ecc74846",
   "outputs": [
    {
     "name": "stdout",
     "output_type": "stream",
     "text": [
      "Accuracy: 90.54%\n"
     ]
    }
   ],
   "execution_count": 15
  },
  {
   "metadata": {
    "ExecuteTime": {
     "end_time": "2024-10-05T00:51:38.384395Z",
     "start_time": "2024-10-05T00:51:34.618849Z"
    }
   },
   "cell_type": "code",
   "source": [
    "# Get unique values\n",
    "unique_values = fb_rl['Pitcher'].unique()\n",
    "\n",
    "#List of Pitchers that threw splitter, as well as amount\n",
    "print(unique_values, len(unique_values))\n",
    "\n",
    "# Create a dictionary to store subsets\n",
    "subsets = {value: fb_rl[fb_rl['Pitcher'] == value] for value in unique_values}"
   ],
   "id": "e83f3a893cc0c341",
   "outputs": [
    {
     "name": "stdout",
     "output_type": "stream",
     "text": [
      "['Dettmer, Nathan' 'Tidwell, Blade' 'Hunley, Sean' ... 'Allen, Ty'\n",
      " 'Causey, A.J.' \"O'Brien Cameron\"] 1512\n"
     ]
    }
   ],
   "execution_count": 16
  },
  {
   "metadata": {
    "ExecuteTime": {
     "end_time": "2024-10-05T00:51:52.934202Z",
     "start_time": "2024-10-05T00:51:52.915727Z"
    }
   },
   "cell_type": "code",
   "source": [
    "def rl_fb_stuff(name):\n",
    "    \n",
    "    preds = ['RelSpeed','VertRelAngle','HorzRelAngle','SpinRate','SpinAxis','RelHeight','RelSide','Extension','VertBreak','InducedVertBreak','HorzBreak','ZoneSpeed','VertApprAngle','HorzApprAngle','ZoneTime','pfxx','pfxz','x0','y0','z0','vx0','vy0','vz0','ax0','ay0','az0','SpeedDrop','PitchTrajectoryXc1','PitchTrajectoryXc2','PitchTrajectoryYc0','PitchTrajectoryYc1','PitchTrajectoryYc2','PitchTrajectoryZc0','PitchTrajectoryZc1','PitchTrajectoryZc2']\n",
    "    \n",
    "    all_preds = model.predict_proba(fb_rl_X)[:,1]\n",
    "    mean_pred = np.mean(all_preds)\n",
    "\n",
    "    pitcher = subsets[name]\n",
    "    pitcher_x = pitcher[preds]\n",
    "\n",
    "    whiff_preds = model.predict_proba(pitcher_x)[:,1]\n",
    "\n",
    "    stuff = whiff_preds/mean_pred\n",
    "    \n",
    "    return np.mean(stuff * 100)\n"
   ],
   "id": "d8cadf61f3e9c4e6",
   "outputs": [],
   "execution_count": 17
  },
  {
   "metadata": {
    "ExecuteTime": {
     "end_time": "2024-10-05T00:52:27.211813Z",
     "start_time": "2024-10-05T00:52:27.159884Z"
    }
   },
   "cell_type": "code",
   "source": [
    "#Stuff+ for selected pitchers Fastballs in RHP v LHB split\n",
    "rl_fb_stuff('Allsup, Chase')"
   ],
   "id": "ef79baf3bacd0b4",
   "outputs": [
    {
     "data": {
      "text/plain": [
       "166.46179"
      ]
     },
     "execution_count": 18,
     "metadata": {},
     "output_type": "execute_result"
    }
   ],
   "execution_count": 18
  },
  {
   "metadata": {},
   "cell_type": "markdown",
   "source": [
    "Lefty vs. Righty Splits"
   ],
   "id": "c57147979f28fba4"
  },
  {
   "metadata": {
    "ExecuteTime": {
     "end_time": "2024-10-05T00:52:59.585300Z",
     "start_time": "2024-10-05T00:52:59.567265Z"
    }
   },
   "cell_type": "code",
   "source": [
    "fb_lr_X = fb_lr[preds]\n",
    "fb_lr_y = fb_lr['whiff']"
   ],
   "id": "ff6c3b67f8a840ff",
   "outputs": [],
   "execution_count": 19
  },
  {
   "metadata": {
    "ExecuteTime": {
     "end_time": "2024-10-05T00:53:16.701977Z",
     "start_time": "2024-10-05T00:53:16.178574Z"
    }
   },
   "cell_type": "code",
   "source": [
    "#Train Model: LHP vs RHB\n",
    "X_train, X_test, y_train, y_test = train_test_split(fb_lr_X, fb_lr_y, test_size=.33, random_state=25)\n",
    "\n",
    "model = XGBClassifier()\n",
    "model.fit(X_train, y_train)\n",
    "\n",
    "y_pred = model.predict(X_test)\n",
    "predictions = [round(value) for value in y_pred]\n",
    "\n",
    "accuracy = accuracy_score(y_test, predictions)\n",
    "print(\"Accuracy: %.2f%%\" % (accuracy * 100.0))"
   ],
   "id": "13d1486207bedf19",
   "outputs": [
    {
     "name": "stdout",
     "output_type": "stream",
     "text": [
      "Accuracy: 89.67%\n"
     ]
    }
   ],
   "execution_count": 20
  },
  {
   "metadata": {
    "ExecuteTime": {
     "end_time": "2024-10-05T00:54:06.013542Z",
     "start_time": "2024-10-05T00:54:04.732324Z"
    }
   },
   "cell_type": "code",
   "source": [
    "# Get unique values\n",
    "unique_values = fb_lr['Pitcher'].unique()\n",
    "\n",
    "#List of Pitchers that threw splitter, as well as amount\n",
    "print(unique_values, len(unique_values))\n",
    "\n",
    "# Create a dictionary to store subsets\n",
    "subsets = {value: fb_lr[fb_lr['Pitcher'] == value] for value in unique_values}\n"
   ],
   "id": "996a2dbef32b7283",
   "outputs": [
    {
     "name": "stdout",
     "output_type": "stream",
     "text": [
      "['Menefee, Joseph' 'Walsh, Redmond' 'Johnston, Will' 'Wall, Chris'\n",
      " 'Robertson, Trae' 'Adams, Aiden' 'LaCalameto, Kyle' 'Prayer, Cameron'\n",
      " 'Holguin, Al' 'Williams, Christian' 'Gilreath, John' 'Sullivan, Liam'\n",
      " 'Woods, Jaden' 'Lohse, Ian' 'Rokose, Davis' 'Shapiro, Joe' 'Sipe, Hunter'\n",
      " 'Yntema, Graham' 'Elliott, Hunter' 'Atiya, Eli' 'Chronowski, Peter'\n",
      " 'Dillard, Matt' 'Hanson, Sam' 'Seiler, Ben' 'Bauman, Tanner'\n",
      " 'Hitt, Grayson' 'Furtado, Hunter' 'Goldstein, Charlie' 'Wagner, Luke'\n",
      " 'Keevan, LJ' 'Cooper, Riley' 'Armbrustmacher, Dane' 'Ackenhausen, Nathan'\n",
      " 'Davis, Tyler' 'Morgan, Trey' 'Welch, Carter' 'Kimbrell, Jackson'\n",
      " 'Wansing, Troy' 'Dayton, Cameron' 'Lamkin, Justin' 'Bothwell, Ty'\n",
      " 'Sheehan, Tommy' 'Vail, Tommy' 'Clifton, Harrison' 'Davis, Alton'\n",
      " 'Sibley, Joshua' 'Duke, Hayden' 'Wheeler, Trey' 'Phipps, Jackson'\n",
      " 'Lopez, Will' 'Light, Nathan' 'Loftin, Bradley' 'Rivas, Xavier'\n",
      " 'Grome, Chris' 'Hogan, Kian' 'Sdao, Shane' 'Nelson, Drew'\n",
      " 'Crotchfelt, Zach' 'Kraft, Ryan' 'Reinke, Brian' 'Senders, Sammy'\n",
      " 'Zielinski, Eli' 'Baker, Will' 'Jette, Jacob' 'Boudreaux, Jacorey'\n",
      " 'Morris, Zack' 'Bates, Ethan' 'Sorrell, Roman' 'Fitzgibbons, Jake'\n",
      " 'Nicholson, Gabe ' 'Bimbi, Jacob' 'Grace, Ranard' 'Huff, Hollis'\n",
      " 'Tapper, Brock' 'Waterhouse, Quinn' 'Leger, Jake' 'Walter, Daniel'\n",
      " 'Parks, Michael' 'Whittle, Parker' 'White, Aaron' 'Windham, Payton'\n",
      " 'Sechrist, Zander' 'Campbell, Tyler' 'Sales, Terence ' 'Garcia, Jason'\n",
      " 'Corley, Brandt' 'Roberts, Tanner' 'Tubbs, Adam' 'Wager, Zach'\n",
      " 'Becker, Matthew' 'Sewell, JC' 'Warrick, Isaac' 'Knight, Carson'\n",
      " 'Ginther, Ryan' 'Smith, Hagen' 'Potteiger, Jack' 'Steinhauer, Ryan'\n",
      " 'Majick, Eli' 'Dunn, Ross' 'Cheatham, Cole' 'Connolly, Caden'\n",
      " 'Garcia, Samuel' 'Evans Jr, Jarvis' 'Rabin, Reece' 'Hoefer, Eric'\n",
      " 'Coady, Owen' 'Tobin, Will' 'Holton, Carter' 'Saum, Jake'\n",
      " 'Manfredi, Mark' 'McCoy, Kyle' 'Wozniak, Brett' 'Ball, Connor'\n",
      " 'Chmielewski, Tom' 'MacDonald, Caden' 'Caldwell, Collin' 'Bosma, Tyler'\n",
      " 'Gongora, Sebastian' 'Luikart, Jay' 'Shoemaker, David' 'Owen, Hunter'\n",
      " 'Hollan, Hunter' 'Coil, Parker' 'Espelin, Nate' 'Tedesco, Jake'\n",
      " 'Connell, Kirby' 'Manning, Timmy' 'Kane, Thomas' 'Rembisz, Ryan'\n",
      " 'Aschenbeck, Evan' 'Scannell, Matt' 'Theis, Alex' 'Peters, Garrett'\n",
      " 'Cotto, Magdiel' 'Valentine, Joe' 'Futrell, Devin' 'Massey, Sam'\n",
      " 'Daugherty, Ryan' 'Fincher, Jonathan' 'Ewald, Tim' 'Toney, Bryce'\n",
      " 'Garcia, Brandyn' 'Chastine, Kyle' 'Smith, Nic' 'Wissler, Daniel'\n",
      " 'McDaniel, Mason' 'Bradshaw, Riley' 'Nove, Jackson'\n",
      " 'Blankenship, Branden' 'Byers, Evan' 'Carter, Daniel' 'Robinson, Jackie'\n",
      " 'Harland, Ryan' 'Mullan, Bradley' 'Niman, Dominic' 'Bosecker, Cory'\n",
      " 'Spizzoucco, Vincent' 'Graverson, Cole' 'Davis, Colin' 'Herring, Griffin'\n",
      " 'Whiteside, Ben' 'Dunkelberger, Michael' 'Frank, Hayden' 'Samol, Noah'\n",
      " 'Reyes, Randy' 'Van Treeck, Logan' 'Copeland, Konner' 'Bak, Brandon'\n",
      " 'McCabe, Mark' 'Neubeck, Tony' 'Spencer, Jared' 'Mueller, Matthew'\n",
      " 'Neuman, Jake' 'Wenzel, Logan' 'Thompson, Noah' 'Martinez, Domenic'\n",
      " 'Fontenot, Cade' 'Dennehy, Sean' 'Colarusso, AJ' 'Nunan, Matt'\n",
      " 'Hack, Christian' 'Martin, Tyler' 'Sivley, Kros' 'Rollins, Carson'\n",
      " 'Clark, Christian' 'Burk, Jackson' 'Hasty, Jacob' 'Bell, Jack'\n",
      " 'Lyke, Ethan' 'McNabb, Thomas' 'Holmes, Will' 'Hesseltine, Hunter'\n",
      " 'Laboy, Jorhan' 'Toledano, Jose' 'Colon, Shadai' 'Masters, Dillon'\n",
      " 'Tate, Jacob' 'Thompson, JD' 'Mitchell, Joey' 'Perkins, Joey'\n",
      " 'Rodriguez, Jackson' 'Parkinson, William' 'Kidd, Aidan'\n",
      " 'Vurpillat, Grant' 'Gleason, Ryan' 'Aluko, Simon' 'Barrera, Diego'\n",
      " 'Bakke, John' 'Ganley, Dominic' 'Blackwell, Jonathan' 'Gerl, Ben'\n",
      " 'Guth, Adam' 'Ogden, JD ' 'Hill, Kaleb' 'Gaviria, Daniel'\n",
      " 'Schapira, Calvin' 'DeJong, Holden' 'Rupp, Nick' 'Sellinger, Jack'\n",
      " 'Mercer, Colton' 'Smith, Dalton' 'Mannelly, Joseph' 'Carwile, Cody'\n",
      " 'Katen, Logan' 'Quincy, Adam' 'Janak, Dillan' 'McCormick, James'\n",
      " 'Frederick, Jakob' 'Faulkner, Gavin' 'Hall, Quinton' 'Travis, Bryce'\n",
      " 'Milburn, Isaac' 'Abner, Philip' 'Fisher, Cade' 'Caglianone, Jac'\n",
      " 'Arroyo, Chris' 'Gainer, Luke' 'Prosoki, Cooper' 'Schiff, Cole'\n",
      " 'Gonzales, Isaac' 'Mims, Michael' 'Watkins, Timothy' 'Shaw, David'\n",
      " 'Gordon, Lucas' 'Robbins, Will' 'Zerbel, Brett' 'Mancuso, Josh'\n",
      " 'Hayes, Chat' 'Richter, Chase' 'Smith, Austin' 'Keithley, Carson'\n",
      " 'McCaffety, Rhett' 'Stroud, Jack' 'Pettys, Ryan' 'Gannon, Reed'\n",
      " 'Higgins, Cal' 'Tullar, Cameron' 'Vaught, Chance' 'Frers, Lukas'\n",
      " 'Fitzpatrick, Sean' 'Behnke, Andrew' 'Casto, Daniel' 'Durham, JT'\n",
      " 'Ellis, Luke' 'Kendrick, Dalton' 'Parker, Jackson' 'Reid, Rocco'\n",
      " 'Bailey, BJ' 'Smith, Tristan' 'Sivec, Derek' 'Ford, Jermel'\n",
      " 'Braziel, Kewan' ' Walker, Brady' 'Smith, Brock' 'Coleman, Javen'\n",
      " 'Ahearn, Colin' 'Niedringhaus, Jack' 'Carrick, Kyle' 'Pimental, Javyn'\n",
      " 'Egan, Crew' 'Theriot, Tyler' 'Wales, Marshall' 'McAllister, Aidan'\n",
      " 'Webster, Evan' 'Campbell, Kayden' 'Kuehner, Tate' 'Stratton, Sam'\n",
      " 'Elston, Reece' 'Brasosky, Gavin' 'Hewlett, Stone' 'Bradford, Ethan'\n",
      " 'Eidson, Brayden' \"O'Connor, Tim\" 'Roca, Tony' 'Maynard, Brody'\n",
      " 'Borders, Jalen' 'Dearman, Clark' 'Spolyar, Andrew' 'Burke, Donovan'\n",
      " 'Loer, Justin' 'Lloyd, Jaxon' 'Jump, Gage' 'Shim, Seungmin' 'Moats, Kyle'\n",
      " 'Hentges, Samuel' 'Prager, Ryan' 'Radcliff, Ryan' 'Ross, Luke'\n",
      " 'Byers, Carson ' 'Gainey, Garrett' 'Kuhle, Max' 'Kinsler, Jaden'\n",
      " 'Williams, T.R.' 'Bello, Jack' 'Hebenstreit, James' 'Mattera, Noah'\n",
      " 'Farone, Greg' 'Adams, Zane' 'Heiberger, Matthew' 'Honeycutt, Justin'\n",
      " 'Thompson, Sam' 'Fisher, Bryce' 'Preisel, Connor' 'Martin, Jevarra'\n",
      " 'Beard, Trey' 'Gilbert, Ben' 'Green, Miller' 'McElvain, Ethan'\n",
      " 'Molina, Mason' 'Johnson, Cam' 'Williamson, Nolan' 'Dotson, Luke'\n",
      " 'Gravel, Alexis' 'Carr, David' 'Myers, Carson' 'Stewart, Bradley'\n",
      " 'Staiano, Michael' 'Bruno, Nick' 'Vardavas, Nick' 'Galyean, Tyler'\n",
      " 'DeMonica, Nick' 'Abbey, Zach' 'Fisher, Colin' 'Anderson, Kade'\n",
      " 'Primeaux, DJ' 'Stevens, Nolan' 'Clack, Christian' 'Murphy, Hayden'\n",
      " 'Graves, Griffin' 'Bullard, Matthew' 'Torbett, Cole' 'Alderman, Chandler'\n",
      " 'Baker, Luke' 'McCarley, Derek' 'Dallas, Matthew' 'Loy, Dylan'\n",
      " 'Sharp, Brayden' 'Holt, Campbell' 'Scott, Shawn' 'Merriweather, Dj'\n",
      " 'Martinez, Jalen' 'Mendes, Wesley' 'Williams, Walker' 'Draper, Hunter'\n",
      " 'Morales, Wilfredo' 'Kenty, Jansen' 'Ruller, Joseph' 'Huesman, Levi'\n",
      " 'Meyer, Tommy' 'Stamos, Chris' 'Paulsen Jr., Erik' 'Little, Matt'\n",
      " 'Toporek, Jake' 'Wolff, LJ' 'Wilson, Kaidan' 'Ciuffetelli, Blake'\n",
      " 'Paddack, Liam ' 'Gelbsman, Aidan' 'Payne, Luke' 'Klawiter, Reagan'\n",
      " 'Gross, Mitchell' 'Dennis, Gunnar' 'Romanias, Tyler' 'Quinn, Thomas'\n",
      " 'Book, Colton' 'Hobb, Jerek' 'Bronzini, Nic' 'Fisher, Ty'\n",
      " 'Phillips, Jacob' 'Doyle, Liam' 'Simmons, Austin' 'Davis, Keith'\n",
      " 'Shedd, Eli' 'Foley, Lucas' 'Baratta, Dominic' 'Sotelo, Daniel'\n",
      " 'Posey, Courtland' 'Lourens, Je-Andrick' 'Haston, Brandon'\n",
      " 'Royal, Hunter' 'Moseley, Kyle' 'Steckmesser, Evan' 'Riggins, Miller'\n",
      " 'Osborne, Ethan' 'Gibson, Luke' 'Smith, Hayden' 'Diuguid, Lane'\n",
      " 'Hart, Evan' 'Bertram, Reid' 'Pazos, Bryan' 'Edmonson, Cameron'\n",
      " 'Charlton, Tyler' 'Gold, Ryan' 'Stam, Matt' 'Moore, Max' 'Krouse, Lucas'\n",
      " 'Hogue, Brant' 'Cadieux-Lanoue, Elliot' 'Moss, Cade' 'Lynch, Jake'\n",
      " 'Naranjo, Jordyn' 'Good, Nic' 'Yagesh, Brendan' 'Curley, TJ'\n",
      " 'Speas, Kyle' 'DeTaeye, Benjamin' 'Coe, Garrett' 'Cinnella, Joe'\n",
      " 'Van Emon, Gabe' 'Quinn, Braden' 'Jones, Cam' 'Roulette, Allen'\n",
      " 'Ramos, Rigo' 'Obermueller, Cade' 'Magdic, Ryan' 'Boerema, Owen'\n",
      " 'Paulsen, Fisher' 'Pirkle, Aaron' 'Beckner, Drew' 'Rushing, Logan'\n",
      " 'Malone, James' 'Dillinger, Ethan' 'Burt, Connor' 'Osmond, Michael'\n",
      " 'Heyl, Matthew' 'Fix, Isaac' 'Hall, Regan' 'Mahan, Ethan'\n",
      " 'Warunek, Kevin' 'Roesch, Braden' 'Reed, Sam' 'Hutchings, Payton'\n",
      " 'Clark, Evan' 'Hughes, Nolan' 'Chronister, Ashton' 'Schultz, Donovan'\n",
      " 'Wojartowicz, Andre' 'Kopetski, Josh' 'Keplinger, Konner'\n",
      " 'Paymaster, Jacob' 'Evans, Drew' 'Behrends, Jeffrey' 'Meier, Jackson'\n",
      " 'Franks, Tyler' 'Walker, Ethan' 'Gibbons, Sean' 'Deverman, Kenton'\n",
      " 'Cijntje, Jurrangelo' 'Howitt, Josh' 'Washington, Khaden'\n",
      " 'Pollard, Davin' 'Snell, Kade' 'Isaacs, Caleb' 'Ronan, Reed'\n",
      " 'Stockham, Addison' 'Wilson, Leland' 'Watson, Michael' 'Cleaver, Ben'\n",
      " 'Holderfield, Grant' 'Rushing, Ryan' 'McCoy, Jake' 'Vera, Alex'\n",
      " 'Copeland, Caden' 'Kohn, Pico' 'Rhadans, Dylan' 'Reed, Kevin'\n",
      " 'Kressin, Jace' 'Battey, Corey' 'Aguado, Devin' 'Rodriguez, Ryne'\n",
      " 'Menendez, Frank' 'Fabre, Larson' 'Dagley, Ty' 'Adkison, Ethan'\n",
      " 'Dietz, Hunter' 'Burkett II, Jerry' 'Rich, Keegan' 'Arender, Brock'\n",
      " 'Lapic, Dylan' 'Mackowiak, Garrett' 'Gutierrez, Jesse' 'Myles , Conor'\n",
      " 'LaBoy, Jorhan' 'Diaz, Danny' 'Gist, Matthew' 'Sanchez, Corey'\n",
      " 'Erdman, Zach' 'Luce, Hudson' 'Hellmers, Will' 'Barfield, Brett'\n",
      " 'Lysik, Brendan' 'Huffling, Max' 'Coppola, Pierce' 'White, Ryan'\n",
      " 'Llinas, Alexander' 'Menina, Caleb' \"O'Donnell, Brendan\"\n",
      " 'Williamson, Timothy' 'Torrealba, Jose' 'Scragg, Josh' 'Whitney, John'\n",
      " 'Bortak, Blake' 'Stewart, Dalen' 'McGovern, Jacob' 'Beaver, Brendan'\n",
      " 'Dutton, Sam ' 'Tavarez, Esteban' 'Risley, Braydon' 'Haley, Matt'\n",
      " 'Darin, Daniel' 'Huddleston, Eli' 'Keller, Kenny' 'Fetterman, Tyler'\n",
      " 'Mayo, Jackson' 'West, Justin' 'Lessman, Jared' 'Phillips, Riley'] 537\n"
     ]
    }
   ],
   "execution_count": 21
  },
  {
   "metadata": {
    "ExecuteTime": {
     "end_time": "2024-10-05T00:54:21.824696Z",
     "start_time": "2024-10-05T00:54:21.815167Z"
    }
   },
   "cell_type": "code",
   "source": [
    "def lr_fb_stuff(name):\n",
    "    \n",
    "    preds = ['RelSpeed','VertRelAngle','HorzRelAngle','SpinRate','SpinAxis','RelHeight','RelSide','Extension','VertBreak','InducedVertBreak','HorzBreak','ZoneSpeed','VertApprAngle','HorzApprAngle','ZoneTime','pfxx','pfxz','x0','y0','z0','vx0','vy0','vz0','ax0','ay0','az0','SpeedDrop','PitchTrajectoryXc1','PitchTrajectoryXc2','PitchTrajectoryYc0','PitchTrajectoryYc1','PitchTrajectoryYc2','PitchTrajectoryZc0','PitchTrajectoryZc1','PitchTrajectoryZc2']\n",
    "    \n",
    "    all_preds = model.predict_proba(fb_lr_X)[:,1]\n",
    "    mean_pred = np.mean(all_preds)\n",
    "\n",
    "    pitcher = subsets[name]\n",
    "    pitcher_x = pitcher[preds]\n",
    "\n",
    "    whiff_preds = model.predict_proba(pitcher_x)[:,1]\n",
    "\n",
    "    stuff = whiff_preds/mean_pred\n",
    "    \n",
    "    return np.mean(stuff * 100)\n"
   ],
   "id": "5b56b9f1cb7adbfa",
   "outputs": [],
   "execution_count": 22
  },
  {
   "metadata": {
    "ExecuteTime": {
     "end_time": "2024-10-05T00:54:40.108274Z",
     "start_time": "2024-10-05T00:54:40.060872Z"
    }
   },
   "cell_type": "code",
   "source": [
    "#Stuff+ for selected pitchers Fastballs in LHP v RHB split\n",
    "lr_fb_stuff('Myers, Carson')"
   ],
   "id": "530c3320c152c36",
   "outputs": [
    {
     "data": {
      "text/plain": [
       "70.40086"
      ]
     },
     "execution_count": 23,
     "metadata": {},
     "output_type": "execute_result"
    }
   ],
   "execution_count": 23
  },
  {
   "metadata": {},
   "cell_type": "markdown",
   "source": [
    "Lefty vs. Lefty Split"
   ],
   "id": "2e60eea1b954783e"
  },
  {
   "metadata": {
    "ExecuteTime": {
     "end_time": "2024-10-05T00:55:30.588199Z",
     "start_time": "2024-10-05T00:55:30.560979Z"
    }
   },
   "cell_type": "code",
   "source": [
    "fb_ll_X = fb_ll[preds]\n",
    "fb_ll_y = fb_ll['whiff']"
   ],
   "id": "a80f3f6b11970784",
   "outputs": [],
   "execution_count": 24
  },
  {
   "metadata": {
    "ExecuteTime": {
     "end_time": "2024-10-05T00:55:44.970049Z",
     "start_time": "2024-10-05T00:55:44.677973Z"
    }
   },
   "cell_type": "code",
   "source": [
    "#Train Model: LHP vs LHB\n",
    "X_train, X_test, y_train, y_test = train_test_split(fb_ll_X, fb_ll_y, test_size=.33, random_state=25)\n",
    "\n",
    "model = XGBClassifier()\n",
    "model.fit(X_train, y_train)\n",
    "\n",
    "y_pred = model.predict(X_test)\n",
    "predictions = [round(value) for value in y_pred]\n",
    "\n",
    "accuracy = accuracy_score(y_test, predictions)\n",
    "print(\"Accuracy: %.2f%%\" % (accuracy * 100.0))"
   ],
   "id": "d3f067aff496ed2",
   "outputs": [
    {
     "name": "stdout",
     "output_type": "stream",
     "text": [
      "Accuracy: 91.29%\n"
     ]
    }
   ],
   "execution_count": 25
  },
  {
   "metadata": {
    "ExecuteTime": {
     "end_time": "2024-10-05T00:56:32.315999Z",
     "start_time": "2024-10-05T00:56:31.574439Z"
    }
   },
   "cell_type": "code",
   "source": [
    "# Get unique values\n",
    "unique_values = fb_ll['Pitcher'].unique()\n",
    "\n",
    "#List of Pitchers that threw splitter, as well as amount\n",
    "print(unique_values, len(unique_values))\n",
    "\n",
    "# Create a dictionary to store subsets\n",
    "subsets = {value: fb_ll[fb_ll['Pitcher'] == value] for value in unique_values}\n"
   ],
   "id": "48cf3a1e6ccc1c8c",
   "outputs": [
    {
     "name": "stdout",
     "output_type": "stream",
     "text": [
      "['Menefee, Joseph' 'Andrade, Kobe' 'Walsh, Redmond' 'Johnston, Will'\n",
      " 'Wall, Chris' 'Robertson, Trae' 'Adams, Aiden' 'LaCalameto, Kyle'\n",
      " 'Prayer, Cameron' 'Holguin, Al' 'Williams, Christian' 'Gilreath, John'\n",
      " 'Sullivan, Liam' 'Woods, Jaden' 'Lohse, Ian' 'Shapiro, Joe'\n",
      " 'Sipe, Hunter' 'Yntema, Graham' 'Elliott, Hunter' 'Atiya, Eli'\n",
      " 'Chronowski, Peter' 'Dillard, Matt' 'Hanson, Sam' 'Seiler, Ben'\n",
      " 'Bauman, Tanner' 'Hitt, Grayson' 'Furtado, Hunter' 'Goldstein, Charlie'\n",
      " 'Wagner, Luke' 'Baker, Will' 'Keevan, LJ' 'Armbrustmacher, Dane'\n",
      " 'Cooper, Riley' 'Ackenhausen, Nathan' 'Davis, Tyler' 'Morgan, Trey'\n",
      " 'Welch, Carter' 'Wansing, Troy' 'Dayton, Cameron' 'Lamkin, Justin'\n",
      " 'Bothwell, Ty' 'Sheehan, Tommy' 'Vail, Tommy' 'Clifton, Harrison'\n",
      " 'Davis, Alton' 'Sibley, Joshua' 'Duke, Hayden' 'Phipps, Jackson'\n",
      " 'Szczepaniak, Drew' 'Lopez, Will' 'Light, Nathan' 'Loftin, Bradley'\n",
      " 'Rivas, Xavier' 'Grome, Chris' 'Hogan, Kian' 'Sdao, Shane' 'Nelson, Drew'\n",
      " 'Crotchfelt, Zach' 'Kraft, Ryan' 'Reinke, Brian' 'Senders, Sammy'\n",
      " 'Jette, Jacob' 'Boudreaux, Jacorey' 'Morris, Zack' 'Bates, Ethan'\n",
      " 'Sorrell, Roman' 'Nicholson, Gabe ' 'Grace, Ranard' 'Herring, Griffin'\n",
      " 'Huff, Hollis' 'Waterhouse, Quinn' 'Leger, Jake' 'Walter, Daniel'\n",
      " 'Parks, Michael' 'Whittle, Parker' 'Windham, Payton' 'Campbell, Tyler'\n",
      " 'Sales, Terence ' 'Garcia, Jason' 'Cijntje, Jurrangelo' 'Corley, Brandt'\n",
      " 'Roberts, Tanner' 'Tubbs, Adam' 'Wager, Zach' 'Becker, Matthew'\n",
      " 'Sewell, JC' 'Warrick, Isaac' 'Ginther, Ryan' 'Steinhauer, Ryan'\n",
      " 'Dunn, Ross' 'Tapper, Brock' 'Cheatham, Cole' 'Connolly, Caden'\n",
      " 'Garcia, Samuel' 'Rabin, Reece' 'Evans Jr, Jarvis' 'Hoefer, Eric'\n",
      " 'Coady, Owen' 'Tobin, Will' 'Holton, Carter' 'Saum, Jake'\n",
      " 'Manfredi, Mark' 'Humphres, Austin' 'McCoy, Kyle' 'Garcia, Brandyn'\n",
      " 'Wozniak, Brett' 'Ball, Connor' 'Chmielewski, Tom' 'MacDonald, Caden'\n",
      " 'Caldwell, Collin' 'Bosma, Tyler' 'Gongora, Sebastian' 'Luikart, Jay'\n",
      " 'Shoemaker, David' 'Owen, Hunter' 'Espelin, Nate' 'Tedesco, Jake'\n",
      " 'Connell, Kirby' 'Bimbi, Jacob' 'Manning, Timmy' 'Kane, Thomas'\n",
      " 'Johnson, Andrew' 'Rembisz, Ryan' 'Aschenbeck, Evan' 'Scannell, Matt'\n",
      " 'Theis, Alex' 'Peters, Garrett' 'Cotto, Magdiel' 'Valentine, Joe'\n",
      " 'Futrell, Devin' 'Sechrist, Zander' 'Massey, Sam' 'Daugherty, Ryan'\n",
      " 'Kimbrell, Jackson' 'Fincher, Jonathan' 'Ewald, Tim' 'Toney, Bryce'\n",
      " 'Chastine, Kyle' 'Smith, Nic' 'Wissler, Daniel' 'Hasty, Jacob'\n",
      " 'McDaniel, Mason' 'Bradshaw, Riley' 'Blankenship, Branden'\n",
      " 'Carter, Daniel' 'Robinson, Jackie' 'Fitzgibbons, Jake' 'Harland, Ryan'\n",
      " 'Smith, Hagen' 'Coil, Parker' 'Mullan, Bradley' 'Niman, Dominic'\n",
      " 'Bosecker, Cory' 'Spizzoucco, Vincent' 'Graverson, Cole' 'Whiteside, Ben'\n",
      " 'Dunkelberger, Michael' 'Frank, Hayden' 'Samol, Noah' 'Reyes, Randy'\n",
      " 'Van Treeck, Logan' 'Copeland, Konner' 'Bak, Brandon' 'McCabe, Mark'\n",
      " 'Neubeck, Tony' 'Spencer, Jared' 'Hollan, Hunter' 'Mueller, Matthew'\n",
      " 'Neuman, Jake' 'Wenzel, Logan' 'Thompson, Noah' 'Martinez, Domenic'\n",
      " 'Fontenot, Cade' 'Dennehy, Sean' 'Colarusso, AJ' 'Nunan, Matt'\n",
      " 'Hack, Christian' 'Martin, Tyler' 'Sivley, Kros' 'Rollins, Carson'\n",
      " 'Clark, Christian' 'Burk, Jackson' 'Lyke, Ethan' 'Nove, Jackson'\n",
      " 'McNabb, Thomas' 'Holmes, Will' 'Hesseltine, Hunter' 'Laboy, Jorhan'\n",
      " 'Toledano, Jose' 'Colon, Shadai' 'Masters, Dillon' 'Byers, Evan'\n",
      " 'Tate, Jacob' 'Thompson, JD' 'Mitchell, Joey' 'Rodriguez, Jackson'\n",
      " 'Parkinson, William' 'Kidd, Aidan' 'Vurpillat, Grant' 'Gleason, Ryan'\n",
      " 'Aluko, Simon' 'Barrera, Diego' 'Hurd, Logan' 'Bakke, John'\n",
      " 'Ganley, Dominic' 'Blackwell, Jonathan' 'Gerl, Ben' 'Guth, Adam'\n",
      " 'Ogden, JD ' 'Hill, Kaleb' 'Gaviria, Daniel' 'Schapira, Calvin'\n",
      " 'DeJong, Holden' 'Rupp, Nick' 'Mercer, Colton' 'Smith, Dalton'\n",
      " 'Mannelly, Joseph' 'Carwile, Cody' 'Katen, Logan' 'White, Ryan'\n",
      " 'Quincy, Adam' 'Wallington, Eric' 'Janak, Dillan' 'McCormick, James'\n",
      " 'Frederick, Jakob' 'Faulkner, Gavin' 'Travis, Bryce' 'Milburn, Isaac'\n",
      " 'Abner, Philip' 'Caglianone, Jac' 'Arroyo, Chris' 'Gainer, Luke'\n",
      " 'Prosoki, Cooper' 'Schiff, Cole' 'Gonzales, Isaac' 'Mims, Michael'\n",
      " 'Watkins, Timothy' 'Shaw, David' 'Gordon, Lucas' 'Robbins, Will'\n",
      " 'Zerbel, Brett' 'Wheeler, Trey' 'Mancuso, Josh' 'Hayes, Chat'\n",
      " 'Llinas, Alexander' 'Smith, Austin' 'Keithley, Carson' 'McCaffety, Rhett'\n",
      " 'Stroud, Jack' 'Pettys, Ryan' 'Higgins, Cal' 'Tullar, Cameron'\n",
      " 'Fisher, Cade' 'Vaught, Chance' 'Frers, Lukas' 'Fitzpatrick, Sean'\n",
      " 'Hamann, Chris' 'Behnke, Andrew' 'Casto, Daniel' 'Durham, JT'\n",
      " 'Ellis, Luke' 'Kendrick, Dalton' 'Parker, Jackson' 'Reid, Rocco'\n",
      " 'Bailey, BJ' 'Smith, Tristan' 'Sivec, Derek' 'Ford, Jermel'\n",
      " 'Braziel, Kewan' ' Walker, Brady' 'Smith, Brock' 'Coleman, Javen'\n",
      " 'Niedringhaus, Jack' 'Carrick, Kyle' 'Pimental, Javyn' 'Egan, Crew'\n",
      " 'Theriot, Tyler' 'Wales, Marshall' 'McAllister, Aidan' 'Webster, Evan'\n",
      " 'Campbell, Kayden' 'Stratton, Sam' 'Elston, Reece' 'Brasosky, Gavin'\n",
      " 'Hewlett, Stone' 'Bradford, Ethan' 'Eidson, Brayden' \"O'Connor, Tim\"\n",
      " 'Roca, Tony' 'Maynard, Brody' 'Borders, Jalen' 'Dearman, Clark'\n",
      " 'Spolyar, Andrew' 'Burke, Donovan' 'Loer, Justin' 'Lloyd, Jaxon'\n",
      " 'Shim, Seungmin' 'Moats, Kyle' 'Hentges, Samuel' 'Prager, Ryan'\n",
      " 'Radcliff, Ryan' 'Ross, Luke' 'Byers, Carson ' 'Gainey, Garrett'\n",
      " 'Kuhle, Max' 'Kinsler, Jaden' 'Williams, T.R.' 'Bello, Jack'\n",
      " 'Hebenstreit, James' 'Hall, Quinton' 'Mattera, Noah' 'Farone, Greg'\n",
      " 'Adams, Zane' 'Kwiatkowski, John' 'Heiberger, Matthew'\n",
      " 'Honeycutt, Justin' 'Thompson, Sam' 'Fisher, Bryce' 'Preisel, Connor'\n",
      " 'Beard, Trey' 'Green, Miller' 'McElvain, Ethan' 'Molina, Mason'\n",
      " 'Johnson, Cam' 'Williamson, Nolan' 'Dotson, Luke' 'Gravel, Alexis'\n",
      " 'Myers, Carson' 'Stewart, Bradley' 'Staiano, Michael' 'Bruno, Nick'\n",
      " 'Vardavas, Nick' 'Galyean, Tyler' 'DeMonica, Nick' 'Abbey, Zach'\n",
      " 'Fisher, Colin' 'Anderson, Kade' 'Stevens, Nolan' 'Clack, Christian'\n",
      " 'Graves, Griffin' 'Bullard, Matthew' 'Torbett, Cole' 'Alderman, Chandler'\n",
      " 'Earnhardt, Luke' 'McCarley, Derek' 'Dallas, Matthew' 'Loy, Dylan'\n",
      " 'Sharp, Brayden' 'Holt, Campbell' 'Scott, Shawn' 'Merriweather, Dj'\n",
      " 'Martinez, Jalen' 'Williams, Walker' 'Draper, Hunter' 'Morales, Wilfredo'\n",
      " 'Ruller, Joseph' 'Huesman, Levi' 'Jump, Gage' 'Meyer, Tommy'\n",
      " 'Stamos, Chris' 'Paulsen Jr., Erik' 'Little, Matt' 'Toporek, Jake'\n",
      " 'Wolff, LJ' 'Wilson, Kaidan' 'Ciuffetelli, Blake' 'Paddack, Liam '\n",
      " 'Gelbsman, Aidan' 'Payne, Luke' 'Gross, Mitchell' 'Dennis, Gunnar'\n",
      " 'Romanias, Tyler' 'Sotelo, Daniel' 'Quinn, Thomas' 'Hobb, Jerek'\n",
      " 'Primeaux, DJ' 'Fisher, Ty' 'Doyle, Liam' 'Simmons, Austin'\n",
      " 'Davis, Keith' 'Shedd, Eli' 'Foley, Lucas' 'Baratta, Dominic'\n",
      " 'Posey, Courtland' 'Lourens, Je-Andrick' 'Haston, Brandon'\n",
      " 'Mendes, Wesley' 'Royal, Hunter' 'Moseley, Kyle' 'Steckmesser, Evan'\n",
      " 'Osborne, Ethan' 'Gibson, Luke' 'Smith, Hayden' 'Diuguid, Lane'\n",
      " 'Bertram, Reid' 'Pazos, Bryan' 'Edmonson, Cameron' 'Charlton, Tyler'\n",
      " 'Stewart, Dalen' 'Gold, Ryan' 'Stam, Matt' 'Krouse, Lucas' 'Hogue, Brant'\n",
      " 'Cadieux-Lanoue, Elliot' 'Moss, Cade' 'Lynch, Jake' 'Naranjo, Jordyn'\n",
      " 'Good, Nic' 'Yagesh, Brendan' 'Curley, TJ' 'Speas, Kyle'\n",
      " 'DeTaeye, Benjamin' 'Strack, Caleb' 'Coe, Garrett' 'Cinnella, Joe'\n",
      " 'Van Emon, Gabe' 'Quinn, Braden' 'Jones, Cam' 'Roulette, Allen'\n",
      " 'Ramos, Rigo' 'Obermueller, Cade' 'West, Charles' 'Magdic, Ryan'\n",
      " 'Boerema, Owen' 'Paulsen, Fisher' 'Pirkle, Aaron' 'Beckner, Drew'\n",
      " 'Geddes, Trevor' 'Rushing, Logan' 'Malone, James' 'Dillinger, Ethan'\n",
      " 'Burt, Connor' 'Osmond, Michael' 'Heyl, Matthew' 'Fix, Isaac'\n",
      " 'Hall, Regan' 'Mahan, Ethan' 'Warunek, Kevin' 'Roesch, Braden'\n",
      " 'Reed, Sam' 'Hutchings, Payton' 'Gannon, Reed' 'Clark, Evan'\n",
      " 'Bronzini, Nic' 'Chronister, Ashton' 'Schultz, Donovan' 'Kopetski, Josh'\n",
      " 'Keplinger, Konner' 'Kenty, Jansen' 'Paymaster, Jacob' 'Evans, Drew'\n",
      " 'Behrends, Jeffrey' 'Hart, Evan' 'Franks, Tyler' 'Walker, Ethan'\n",
      " 'Gibbons, Sean' 'Vera, Alex' 'Deverman, Kenton' 'Miller, Max'\n",
      " 'Howitt, Josh' 'Washington, Khaden' 'Pollard, Davin' 'Snell, Kade'\n",
      " 'Isaacs, Caleb' 'Ronan, Reed' 'Stockham, Addison' 'Wilson, Leland'\n",
      " 'Watson, Michael' 'Cleaver, Ben' 'Holderfield, Grant' 'Rushing, Ryan'\n",
      " 'Hughes, Nolan' 'Kohn, Pico' 'Chorzelewski, Brandon' 'Rhadans, Dylan'\n",
      " 'Reed, Kevin' 'Battey, Corey' 'Aguado, Devin' 'Rodriguez, Ryne'\n",
      " 'Fabre, Larson' 'Dagley, Ty' 'Adkison, Ethan' 'McCoy, Jake'\n",
      " 'Dietz, Hunter' 'Burkett II, Jerry' 'Rich, Keegan' 'Arender, Brock'\n",
      " 'Lapic, Dylan' 'Mackowiak, Garrett' 'Gutierrez, Jesse' 'Myles , Conor'\n",
      " 'LaBoy, Jorhan' 'Diaz, Danny' 'Wash, Logan' 'Gist, Matthew'\n",
      " 'Sanchez, Corey' 'Erdman, Zach' 'Luce, Hudson' 'Bridges, Derek'\n",
      " 'Hellmers, Will' 'Barfield, Brett' 'Lysik, Brendan' 'Huffling, Max'\n",
      " 'Menendez, Frank' 'Coppola, Pierce' 'Wheeler, Dylan' \"O'Donnell, Brendan\"\n",
      " 'Williamson, Timothy' 'Torrealba, Jose' 'Sharpton, Logan' 'Scragg, Josh'\n",
      " 'Whitney, John' 'Bortak, Blake' 'McGovern, Jacob' 'Beaver, Brendan'\n",
      " 'Dutton, Sam ' 'Tavarez, Esteban' 'Risley, Braydon' 'Haley, Matt'\n",
      " 'Darin, Daniel' 'Huddleston, Eli' 'Keller, Kenny' 'Fetterman, Tyler'\n",
      " 'Mayo, Jackson' 'West, Justin' 'Lessman, Jared' 'Phillips, Riley'] 527\n"
     ]
    }
   ],
   "execution_count": 26
  },
  {
   "metadata": {
    "ExecuteTime": {
     "end_time": "2024-10-05T00:56:51.062335Z",
     "start_time": "2024-10-05T00:56:51.042432Z"
    }
   },
   "cell_type": "code",
   "source": [
    "def ll_fb_stuff(name):\n",
    "    \n",
    "    preds = ['RelSpeed','VertRelAngle','HorzRelAngle','SpinRate','SpinAxis','RelHeight','RelSide','Extension','VertBreak','InducedVertBreak','HorzBreak','ZoneSpeed','VertApprAngle','HorzApprAngle','ZoneTime','pfxx','pfxz','x0','y0','z0','vx0','vy0','vz0','ax0','ay0','az0','SpeedDrop','PitchTrajectoryXc1','PitchTrajectoryXc2','PitchTrajectoryYc0','PitchTrajectoryYc1','PitchTrajectoryYc2','PitchTrajectoryZc0','PitchTrajectoryZc1','PitchTrajectoryZc2']\n",
    "    \n",
    "    all_preds = model.predict_proba(fb_ll_X)[:,1]\n",
    "    mean_pred = np.mean(all_preds)\n",
    "\n",
    "    pitcher = subsets[name]\n",
    "    pitcher_x = pitcher[preds]\n",
    "\n",
    "    whiff_preds = model.predict_proba(pitcher_x)[:,1]\n",
    "\n",
    "    stuff = whiff_preds/mean_pred\n",
    "    \n",
    "    return np.mean(stuff * 100)\n"
   ],
   "id": "6d824a29b8a6c23f",
   "outputs": [],
   "execution_count": 27
  },
  {
   "metadata": {
    "ExecuteTime": {
     "end_time": "2024-10-05T00:57:40.819601Z",
     "start_time": "2024-10-05T00:57:40.784108Z"
    }
   },
   "cell_type": "code",
   "source": [
    "#Stuff+ for selected pitchers Fastballs in LHP v LHB split\n",
    "ll_fb_stuff('Myers, Carson')"
   ],
   "id": "95c0d549de4faed0",
   "outputs": [
    {
     "data": {
      "text/plain": [
       "72.8452"
      ]
     },
     "execution_count": 29,
     "metadata": {},
     "output_type": "execute_result"
    }
   ],
   "execution_count": 29
  }
 ],
 "metadata": {
  "kernelspec": {
   "display_name": "Python 3",
   "language": "python",
   "name": "python3"
  },
  "language_info": {
   "codemirror_mode": {
    "name": "ipython",
    "version": 2
   },
   "file_extension": ".py",
   "mimetype": "text/x-python",
   "name": "python",
   "nbconvert_exporter": "python",
   "pygments_lexer": "ipython2",
   "version": "2.7.6"
  }
 },
 "nbformat": 4,
 "nbformat_minor": 5
}
