{
 "cells": [
  {
   "cell_type": "code",
   "execution_count": 2,
   "id": "initial_id",
   "metadata": {
    "collapsed": true,
    "ExecuteTime": {
     "end_time": "2024-10-25T15:37:02.919186800Z",
     "start_time": "2024-10-25T15:37:02.915622400Z"
    }
   },
   "outputs": [],
   "source": [
    "import os\n",
    "import pandas as pd\n",
    "import numpy as np\n",
    "from skopt import BayesSearchCV\n",
    "from xgboost import XGBClassifier\n",
    "from sklearn.model_selection import train_test_split\n",
    "from sklearn.metrics import accuracy_score, confusion_matrix, precision_score, recall_score, f1_score, roc_auc_score, roc_curve\n",
    "from hyperopt import STATUS_OK, Trials, fmin, hp, tpe\n",
    "import matplotlib.pyplot as plt\n",
    "import seaborn as sns\n",
    "import shap\n",
    "import datetime"
   ]
  },
  {
   "cell_type": "code",
   "execution_count": 3,
   "outputs": [
    {
     "name": "stdout",
     "output_type": "stream",
     "text": [
      "(270589, 167)\n",
      "Index(['PitchNo', 'Date', 'Time', 'PAofInning', 'PitchofPA', 'Pitcher',\n",
      "       'PitcherId', 'PitcherThrows', 'PitcherTeam', 'Batter',\n",
      "       ...\n",
      "       'ThrowTrajectoryZc1', 'ThrowTrajectoryZc2', 'PitchReleaseConfidence',\n",
      "       'PitchLocationConfidence', 'PitchMovementConfidence',\n",
      "       'HitLaunchConfidence', 'HitLandingConfidence',\n",
      "       'CatcherThrowCatchConfidence', 'CatcherThrowReleaseConfidence',\n",
      "       'CatcherThrowLocationConfidence'],\n",
      "      dtype='object', length=167)\n"
     ]
    }
   ],
   "source": [
    "csv_dir = '../../SEC Trackman Data/'\n",
    "all_files = [os.path.join(csv_dir, f) for f in os.listdir(csv_dir) if f.endswith('.csv')]\n",
    "\n",
    "df_list = []\n",
    "\n",
    "for file in all_files:\n",
    "    df = pd.read_csv(file)\n",
    "    df_list.append(df)\n",
    "\n",
    "all_pitches = pd.concat(df_list, ignore_index=True)\n",
    "\n",
    "print(all_pitches.shape)\n",
    "print(all_pitches.columns)"
   ],
   "metadata": {
    "collapsed": false,
    "ExecuteTime": {
     "end_time": "2024-10-25T15:37:36.611465500Z",
     "start_time": "2024-10-25T15:37:04.965616200Z"
    }
   },
   "id": "a37ef587a26e375a"
  },
  {
   "cell_type": "code",
   "execution_count": 4,
   "outputs": [
    {
     "name": "stdout",
     "output_type": "stream",
     "text": [
      "(8203, 167)\n"
     ]
    }
   ],
   "source": [
    "fc = all_pitches[all_pitches['TaggedPitchType']=='Cutter']\n",
    "print(fc.shape)"
   ],
   "metadata": {
    "collapsed": false,
    "ExecuteTime": {
     "end_time": "2024-10-25T15:37:36.695117400Z",
     "start_time": "2024-10-25T15:37:36.611465500Z"
    }
   },
   "id": "72ef45915c4821a2"
  },
  {
   "cell_type": "code",
   "execution_count": 5,
   "outputs": [
    {
     "name": "stderr",
     "output_type": "stream",
     "text": [
      "C:\\Users\\charl\\AppData\\Local\\Temp\\ipykernel_14688\\1525590373.py:1: SettingWithCopyWarning: \n",
      "A value is trying to be set on a copy of a slice from a DataFrame.\n",
      "Try using .loc[row_indexer,col_indexer] = value instead\n",
      "\n",
      "See the caveats in the documentation: https://pandas.pydata.org/pandas-docs/stable/user_guide/indexing.html#returning-a-view-versus-a-copy\n",
      "  fc['whiff'] = np.where(fc['PitchCall']=='StrikeSwinging',1,0)\n"
     ]
    }
   ],
   "source": [
    "fc['whiff'] = np.where(fc['PitchCall']=='StrikeSwinging',1,0)"
   ],
   "metadata": {
    "collapsed": false,
    "ExecuteTime": {
     "end_time": "2024-10-25T15:37:36.695117400Z",
     "start_time": "2024-10-25T15:37:36.666762600Z"
    }
   },
   "id": "7b306c621e70f87e"
  },
  {
   "cell_type": "code",
   "execution_count": 6,
   "outputs": [],
   "source": [
    "preds = ['RelSpeed','VertRelAngle','HorzRelAngle','SpinRate','SpinAxis','RelHeight','RelSide','Extension','VertBreak','InducedVertBreak','HorzBreak','ZoneSpeed','VertApprAngle','HorzApprAngle','ZoneTime','pfxx','pfxz','x0','y0','z0','vx0','vy0','vz0','ax0','ay0','az0','SpeedDrop','PitchTrajectoryXc1','PitchTrajectoryXc2','PitchTrajectoryYc0','PitchTrajectoryYc1','PitchTrajectoryYc2','PitchTrajectoryZc0','PitchTrajectoryZc1','PitchTrajectoryZc2']"
   ],
   "metadata": {
    "collapsed": false,
    "ExecuteTime": {
     "end_time": "2024-10-25T15:37:36.695117400Z",
     "start_time": "2024-10-25T15:37:36.675644500Z"
    }
   },
   "id": "814dc67460ba298"
  },
  {
   "cell_type": "code",
   "execution_count": 7,
   "outputs": [],
   "source": [
    "fc_X = fc[preds]\n",
    "fc_y = fc['whiff']"
   ],
   "metadata": {
    "collapsed": false,
    "ExecuteTime": {
     "end_time": "2024-10-25T15:37:36.701648900Z",
     "start_time": "2024-10-25T15:37:36.686383800Z"
    }
   },
   "id": "f9cb54f440e28ddf"
  },
  {
   "cell_type": "code",
   "execution_count": 8,
   "outputs": [
    {
     "name": "stdout",
     "output_type": "stream",
     "text": [
      "Best hyperparameters for Whiffs: OrderedDict([('colsample_bytree', 0.9349553422213137), ('gamma', 9), ('learning_rate', 0.02806554771929606), ('max_depth', 10), ('n_estimators', 266), ('reg_alpha', 3.151399971510153e-08), ('reg_lambda', 1.2778159542148633e-07), ('subsample', 0.7414349590513672)])\n",
      "Accuracy (Training): 0.8561\n",
      "ROC AUC (Training): 0.5019\n",
      "Accuracy (Test): 0.8386\n",
      "ROC AUC (Test): 0.5000\n"
     ]
    }
   ],
   "source": [
    "X_train, X_test, y_train, y_test = train_test_split(fc_X, fc_y, test_size=.33, random_state=25)\n",
    "\n",
    "# Set up the XGBoost model\n",
    "xgb_model = XGBClassifier(random_state=25)\n",
    "\n",
    "# Define the parameter space for Bayesian hyperparameter tuning for XGBoost\n",
    "param_space = {\n",
    "    'learning_rate': (0.01, 0.3, 'log-uniform'),  # Learning rate\n",
    "    'max_depth': (3, 10),  # Maximum depth of a tree\n",
    "    'n_estimators': (50, 300),  # Number of boosting rounds\n",
    "    'subsample': (0.6, 1.0),  # Subsample ratio of the training instances\n",
    "    'colsample_bytree': (0.6, 1.0),  # Subsample ratio of columns for each tree\n",
    "    'gamma': (0, 10),  # Minimum loss reduction required to make a further partition\n",
    "    'reg_alpha': (1e-8, 1.0, 'log-uniform'),  # L1 regularization term\n",
    "    'reg_lambda': (1e-8, 1.0, 'log-uniform'),  # L2 regularization term\n",
    "}\n",
    "\n",
    "# Set up Bayesian search using BayesSearchCV\n",
    "bayes_search = BayesSearchCV(\n",
    "    estimator=xgb_model,\n",
    "    search_spaces=param_space,\n",
    "    n_iter=25,  # Number of iterations\n",
    "    cv=3,  # 3-fold cross-validation\n",
    "    scoring='accuracy',  # Scoring metric\n",
    "    n_jobs=-1,  # Use all available cores\n",
    "    verbose=0,\n",
    "    random_state=42\n",
    ")\n",
    "\n",
    "# Fit the model using Bayesian hyperparameter tuning\n",
    "bayes_search.fit(X_train, y_train)\n",
    "\n",
    "# Best hyperparameters found\n",
    "best_params = bayes_search.best_params_\n",
    "print(f\"Best hyperparameters for Whiffs: {best_params}\")\n",
    "\n",
    "# Make predictions on the training and test sets using the best model\n",
    "best_model = bayes_search.best_estimator_\n",
    "y_train_pred = best_model.predict(X_train)\n",
    "y_test_pred = best_model.predict(X_test)\n",
    "\n",
    "# Calculate MSE and R-squared for both training and test sets\n",
    "accuracy_train = accuracy_score(y_train, y_train_pred)\n",
    "accuracy_test = accuracy_score(y_test, y_test_pred)\n",
    "auc_train = roc_auc_score(y_train, y_train_pred)\n",
    "auc_test = roc_auc_score(y_test, y_test_pred)\n",
    "\n",
    "print(f'Accuracy (Training): {accuracy_train:.4f}')\n",
    "print(f'ROC AUC (Training): {auc_train:.4f}')\n",
    "print(f'Accuracy (Test): {accuracy_test:.4f}')\n",
    "print(f'ROC AUC (Test): {auc_test:.4f}')"
   ],
   "metadata": {
    "collapsed": false,
    "ExecuteTime": {
     "end_time": "2024-10-25T15:38:20.499045400Z",
     "start_time": "2024-10-25T15:37:36.701648900Z"
    }
   },
   "id": "e5e7bd7e51d2df5"
  },
  {
   "cell_type": "code",
   "execution_count": 9,
   "outputs": [
    {
     "name": "stdout",
     "output_type": "stream",
     "text": [
      "ROC AUC: 0.5000\n"
     ]
    },
    {
     "data": {
      "text/plain": "<Figure size 640x480 with 1 Axes>",
      "image/png": "[encoded data removed]"
     },
     "metadata": {},
     "output_type": "display_data"
    }
   ],
   "source": [
    "y_pred_prob = best_model.predict_proba(X_test)[:,1]\n",
    "roc_auc = roc_auc_score(y_test, y_test_pred, multi_class='ovr')\n",
    "\n",
    "print(f'ROC AUC: {roc_auc:.4f}')\n",
    "\n",
    "# Plotting ROC Curve for one class (e.g., class 0)\n",
    "fpr, tpr, _ = roc_curve(y_test == 1, y_pred_prob)\n",
    "plt.plot(fpr, tpr, label='Class 0 ROC curve')\n",
    "plt.xlabel('False Positive Rate')\n",
    "plt.ylabel('True Positive Rate')\n",
    "plt.title('ROC Curve')\n",
    "plt.legend(loc='best')\n",
    "plt.show()"
   ],
   "metadata": {
    "collapsed": false,
    "ExecuteTime": {
     "end_time": "2024-10-25T15:38:20.804017800Z",
     "start_time": "2024-10-25T15:38:20.494025800Z"
    }
   },
   "id": "82368b8d20fbc768"
  },
  {
   "cell_type": "code",
   "execution_count": 10,
   "outputs": [
    {
     "name": "stderr",
     "output_type": "stream",
     "text": [
      "C:\\Users\\charl\\AppData\\Local\\Temp\\ipykernel_14688\\2871686739.py:1: SettingWithCopyWarning: \n",
      "A value is trying to be set on a copy of a slice from a DataFrame.\n",
      "Try using .loc[row_indexer,col_indexer] = value instead\n",
      "\n",
      "See the caveats in the documentation: https://pandas.pydata.org/pandas-docs/stable/user_guide/indexing.html#returning-a-view-versus-a-copy\n",
      "  fc['Date'] = pd.to_datetime(fc['Date'], format = 'mixed')\n"
     ]
    }
   ],
   "source": [
    "fc['Date'] = pd.to_datetime(fc['Date'], format = 'mixed')\n",
    "aub_fc_2024 = fc[(fc['PitcherTeam']=='AUB_TIG') & (fc['Date'] > datetime.datetime(2024,1,1))]"
   ],
   "metadata": {
    "collapsed": false,
    "ExecuteTime": {
     "end_time": "2024-10-25T15:38:20.890597200Z",
     "start_time": "2024-10-25T15:38:20.804017800Z"
    }
   },
   "id": "4ca7ecaa504013d1"
  },
  {
   "cell_type": "code",
   "execution_count": 11,
   "outputs": [
    {
     "name": "stdout",
     "output_type": "stream",
     "text": [
      "['McBride, Connor' 'Murphy, Hayden' 'Allsup, Chase' 'Schorr, Ben']\n"
     ]
    }
   ],
   "source": [
    "# Get unique values\n",
    "unique_values = fc['Pitcher'].unique()\n",
    "aub_unique_values = aub_fc_2024['Pitcher'].unique()\n",
    "\n",
    "print(aub_unique_values)\n",
    "\n",
    "# Create a dictionary to store subsets\n",
    "all_subsets = {value: fc[fc['Pitcher'] == value] for value in unique_values}\n",
    "\n",
    "aub_subsets = {value: aub_fc_2024[aub_fc_2024['Pitcher'] == value] for value in aub_unique_values}"
   ],
   "metadata": {
    "collapsed": false,
    "ExecuteTime": {
     "end_time": "2024-10-25T15:38:21.230432600Z",
     "start_time": "2024-10-25T15:38:20.827178200Z"
    }
   },
   "id": "36d9f6dec163f083"
  },
  {
   "cell_type": "code",
   "execution_count": 14,
   "outputs": [
    {
     "ename": "KeyError",
     "evalue": "'Causey, AJ'",
     "output_type": "error",
     "traceback": [
      "\u001B[1;31m---------------------------------------------------------------------------\u001B[0m",
      "\u001B[1;31mKeyError\u001B[0m                                  Traceback (most recent call last)",
      "Cell \u001B[1;32mIn[14], line 1\u001B[0m\n\u001B[1;32m----> 1\u001B[0m all_subsets[\u001B[38;5;124m'\u001B[39m\u001B[38;5;124mCausey, AJ\u001B[39m\u001B[38;5;124m'\u001B[39m]\n",
      "\u001B[1;31mKeyError\u001B[0m: 'Causey, AJ'"
     ]
    }
   ],
   "source": [
    "all_subsets['']"
   ],
   "metadata": {
    "collapsed": false,
    "ExecuteTime": {
     "end_time": "2024-10-25T15:43:01.447535100Z",
     "start_time": "2024-10-25T15:42:59.794720200Z"
    }
   },
   "id": "4b043d4a3feaf9e2"
  },
  {
   "cell_type": "code",
   "execution_count": 12,
   "outputs": [],
   "source": [
    "def aub_fc_stuff(name):\n",
    "    \n",
    "    preds = ['RelSpeed','VertRelAngle','HorzRelAngle','SpinRate','SpinAxis','RelHeight','RelSide','Extension','VertBreak','InducedVertBreak','HorzBreak','ZoneSpeed','VertApprAngle','HorzApprAngle','ZoneTime','pfxx','pfxz','x0','y0','z0','vx0','vy0','vz0','ax0','ay0','az0','SpeedDrop','PitchTrajectoryXc1','PitchTrajectoryXc2','PitchTrajectoryYc0','PitchTrajectoryYc1','PitchTrajectoryYc2','PitchTrajectoryZc0','PitchTrajectoryZc1','PitchTrajectoryZc2']\n",
    "    \n",
    "    all_preds = best_model.predict_proba(fc_X)[:,1]\n",
    "    mean_pred = np.mean(all_preds)\n",
    "\n",
    "    pitcher = aub_subsets[name]\n",
    "    pitcher_x = pitcher[preds]\n",
    "\n",
    "    whiff_preds = best_model.predict_proba(pitcher_x)[:,1]\n",
    "\n",
    "    stuff = whiff_preds/mean_pred\n",
    "    \n",
    "    print(f\"{name} cutter stuff+: {np.mean(stuff * 100)}\")"
   ],
   "metadata": {
    "collapsed": false,
    "ExecuteTime": {
     "end_time": "2024-10-25T15:38:21.247684100Z",
     "start_time": "2024-10-25T15:38:21.238957Z"
    }
   },
   "id": "9b03427fbc914d15"
  },
  {
   "cell_type": "code",
   "execution_count": 13,
   "outputs": [
    {
     "name": "stdout",
     "output_type": "stream",
     "text": [
      "McBride, Connor cutter stuff+: 112.50302124023438\n",
      "Murphy, Hayden cutter stuff+: 78.0311279296875\n",
      "Allsup, Chase cutter stuff+: 83.24943542480469\n",
      "Schorr, Ben cutter stuff+: 61.92625045776367\n"
     ]
    }
   ],
   "source": [
    "for player in aub_unique_values:\n",
    "    aub_fc_stuff(player)"
   ],
   "metadata": {
    "collapsed": false,
    "ExecuteTime": {
     "end_time": "2024-10-25T15:38:21.463153800Z",
     "start_time": "2024-10-25T15:38:21.247684100Z"
    }
   },
   "id": "61b8800a0bdb8a64"
  },
  {
   "cell_type": "markdown",
   "source": [
    "Splits "
   ],
   "metadata": {
    "collapsed": false
   },
   "id": "49277f99808aa2d6"
  },
  {
   "cell_type": "code",
   "execution_count": null,
   "outputs": [],
   "source": [
    "fc_rr = fc[(fc['PitcherThrows'] == 'Right') & (fc['BatterSide'] == 'Right')]\n",
    "fc_rl = fc[(fc['PitcherThrows'] == 'Right') & (fc['BatterSide'] == 'Left')]\n",
    "fc_lr = fc[(fc['PitcherThrows'] == 'Left') & (fc['BatterSide'] == 'Right')]\n",
    "fc_ll = fc[(fc['PitcherThrows'] == 'Left') & (fc['BatterSide'] == 'Left')]\n",
    "\n",
    "print(fc_rr.shape)\n",
    "print(fc_rl.shape)\n",
    "print(fc_lr.shape)\n",
    "print(fc_ll.shape)"
   ],
   "metadata": {
    "collapsed": false
   },
   "id": "26f9bdeb0de46055"
  },
  {
   "cell_type": "code",
   "execution_count": null,
   "outputs": [],
   "source": [
    "fc_rr['whiff'] = np.where(fc_rr['PitchCall']=='StrikeSwinging',1,0)\n",
    "fc_rl['whiff'] = np.where(fc_rl['PitchCall']=='StrikeSwinging',1,0)\n",
    "fc_lr['whiff'] = np.where(fc_lr['PitchCall']=='StrikeSwinging',1,0)\n",
    "fc_ll['whiff'] = np.where(fc_ll['PitchCall']=='StrikeSwinging',1,0)"
   ],
   "metadata": {
    "collapsed": false
   },
   "id": "527b768ff2e178d6"
  },
  {
   "cell_type": "code",
   "execution_count": null,
   "outputs": [],
   "source": [
    "preds = ['RelSpeed','VertRelAngle','HorzRelAngle','SpinRate','SpinAxis','RelHeight','RelSide','Extension','VertBreak','InducedVertBreak','HorzBreak','ZoneSpeed','VertApprAngle','HorzApprAngle','ZoneTime','pfxx','pfxz','x0','y0','z0','vx0','vy0','vz0','ax0','ay0','az0','SpeedDrop','PitchTrajectoryXc1','PitchTrajectoryXc2','PitchTrajectoryYc0','PitchTrajectoryYc1','PitchTrajectoryYc2','PitchTrajectoryZc0','PitchTrajectoryZc1','PitchTrajectoryZc2']"
   ],
   "metadata": {
    "collapsed": false
   },
   "id": "a9850bc15921df0d"
  },
  {
   "cell_type": "code",
   "execution_count": null,
   "outputs": [],
   "source": [
    "fc_rr_X = fc_rr[preds]\n",
    "fc_rr_y = fc_rr['whiff']"
   ],
   "metadata": {
    "collapsed": false
   },
   "id": "3cda6eac4019b9a7"
  },
  {
   "cell_type": "code",
   "execution_count": null,
   "outputs": [],
   "source": [
    "X_train, X_test, y_train, y_test = train_test_split(fc_rr_X, fc_rr_y, test_size=.33, random_state=25)\n",
    "\n",
    "model = XGBClassifier()\n",
    "model.fit(X_train, y_train)\n",
    "\n",
    "y_pred = model.predict(X_test)\n",
    "predictions = [round(value) for value in y_pred]\n",
    "\n",
    "accuracy = accuracy_score(y_test, predictions)\n",
    "print(\"Accuracy: %.2f%%\" % (accuracy * 100.0))"
   ],
   "metadata": {
    "collapsed": false
   },
   "id": "4407d0275877b08e"
  },
  {
   "cell_type": "code",
   "execution_count": null,
   "outputs": [],
   "source": [
    "aub_fc_rr = fc_rr[fc_rr['PitcherTeam']=='AUB_TIG']\n",
    "print(aub_fc_rr.shape)"
   ],
   "metadata": {
    "collapsed": false
   },
   "id": "138c1d92e0586db5"
  },
  {
   "cell_type": "code",
   "execution_count": null,
   "outputs": [],
   "source": [
    "# Get unique values\n",
    "unique_values = fc_rr['Pitcher'].unique()\n",
    "aub_unique_values = aub_fc_rr['Pitcher'].unique()\n",
    "\n",
    "print(aub_unique_values)\n",
    "\n",
    "# Create a dictionary to store subsets\n",
    "all_subsets = {value: fc_rr[fc_rr['Pitcher'] == value] for value in unique_values}\n",
    "\n",
    "aub_subsets = {value: fc_rr[fc_rr['Pitcher'] == value] for value in aub_unique_values}"
   ],
   "metadata": {
    "collapsed": false
   },
   "id": "229ada02b9ea78d9"
  },
  {
   "cell_type": "code",
   "execution_count": null,
   "outputs": [],
   "source": [
    "def aub_rr_fc_stuff(name):\n",
    "    \n",
    "    preds = ['RelSpeed','VertRelAngle','HorzRelAngle','SpinRate','SpinAxis','RelHeight','RelSide','Extension','VertBreak','InducedVertBreak','HorzBreak','ZoneSpeed','VertApprAngle','HorzApprAngle','ZoneTime','pfxx','pfxz','x0','y0','z0','vx0','vy0','vz0','ax0','ay0','az0','SpeedDrop','PitchTrajectoryXc1','PitchTrajectoryXc2','PitchTrajectoryYc0','PitchTrajectoryYc1','PitchTrajectoryYc2','PitchTrajectoryZc0','PitchTrajectoryZc1','PitchTrajectoryZc2']\n",
    "    \n",
    "    all_preds = model.predict_proba(fc_rr_X)[:,1]\n",
    "    mean_pred = np.mean(all_preds)\n",
    "\n",
    "    pitcher = aub_subsets[name]\n",
    "    pitcher_x = pitcher[preds]\n",
    "\n",
    "    whiff_preds = model.predict_proba(pitcher_x)[:,1]\n",
    "\n",
    "    stuff = whiff_preds/mean_pred\n",
    "    \n",
    "    print(f\"{name} RR Cutter stuff+: {np.mean(stuff * 100)}\")"
   ],
   "metadata": {
    "collapsed": false
   },
   "id": "f827ae385970b91e"
  },
  {
   "cell_type": "code",
   "execution_count": null,
   "outputs": [],
   "source": [
    "for pitcher in aub_unique_values:\n",
    "    aub_rr_fc_stuff(pitcher)"
   ],
   "metadata": {
    "collapsed": false
   },
   "id": "215f984600a683b6"
  },
  {
   "cell_type": "code",
   "execution_count": null,
   "outputs": [],
   "source": [
    "fc_rl_X = fc_rl[preds]\n",
    "fc_rl_y = fc_rl['whiff']"
   ],
   "metadata": {
    "collapsed": false
   },
   "id": "b10dc439a67efe5c"
  },
  {
   "cell_type": "code",
   "execution_count": null,
   "outputs": [],
   "source": [
    "X_train, X_test, y_train, y_test = train_test_split(fc_rl_X, fc_rl_y, test_size=.33, random_state=25)\n",
    "\n",
    "model = XGBClassifier()\n",
    "model.fit(X_train, y_train)\n",
    "\n",
    "y_pred = model.predict(X_test)\n",
    "predictions = [round(value) for value in y_pred]\n",
    "\n",
    "accuracy = accuracy_score(y_test, predictions)\n",
    "print(\"Accuracy: %.2f%%\" % (accuracy * 100.0))"
   ],
   "metadata": {
    "collapsed": false
   },
   "id": "7ae0b4bbe5784857"
  },
  {
   "cell_type": "code",
   "execution_count": null,
   "outputs": [],
   "source": [
    "aub_fc_rl = fc_rl[fc_rl['PitcherTeam']=='AUB_TIG']\n",
    "print(aub_fc_rl.shape)"
   ],
   "metadata": {
    "collapsed": false
   },
   "id": "e22a92becc180734"
  },
  {
   "cell_type": "code",
   "execution_count": null,
   "outputs": [],
   "source": [
    "# Get unique values\n",
    "unique_values = fc_rl['Pitcher'].unique()\n",
    "aub_unique_values = aub_fc_rl['Pitcher'].unique()\n",
    "\n",
    "print(aub_unique_values)\n",
    "\n",
    "# Create a dictionary to store subsets\n",
    "all_subsets = {value: fc_rl[fc_rl['Pitcher'] == value] for value in unique_values}\n",
    "\n",
    "aub_subsets = {value: fc_rl[fc_rl['Pitcher'] == value] for value in aub_unique_values}"
   ],
   "metadata": {
    "collapsed": false
   },
   "id": "3c7c270518e20878"
  },
  {
   "cell_type": "code",
   "execution_count": null,
   "outputs": [],
   "source": [
    "def aub_rl_fc_stuff(name):\n",
    "    \n",
    "    preds = ['RelSpeed','VertRelAngle','HorzRelAngle','SpinRate','SpinAxis','RelHeight','RelSide','Extension','VertBreak','InducedVertBreak','HorzBreak','ZoneSpeed','VertApprAngle','HorzApprAngle','ZoneTime','pfxx','pfxz','x0','y0','z0','vx0','vy0','vz0','ax0','ay0','az0','SpeedDrop','PitchTrajectoryXc1','PitchTrajectoryXc2','PitchTrajectoryYc0','PitchTrajectoryYc1','PitchTrajectoryYc2','PitchTrajectoryZc0','PitchTrajectoryZc1','PitchTrajectoryZc2']\n",
    "    \n",
    "    all_preds = model.predict_proba(fc_rl_X)[:,1]\n",
    "    mean_pred = np.mean(all_preds)\n",
    "\n",
    "    pitcher = aub_subsets[name]\n",
    "    pitcher_x = pitcher[preds]\n",
    "\n",
    "    whiff_preds = model.predict_proba(pitcher_x)[:,1]\n",
    "\n",
    "    stuff = whiff_preds/mean_pred\n",
    "    \n",
    "    print(f\"{name} RL Cutter stuff+: {np.mean(stuff * 100)}\")"
   ],
   "metadata": {
    "collapsed": false
   },
   "id": "fbb9bf0ce751d60f"
  },
  {
   "cell_type": "code",
   "execution_count": null,
   "outputs": [],
   "source": [
    "for pitcher in aub_unique_values:\n",
    "    aub_rl_fc_stuff(pitcher)"
   ],
   "metadata": {
    "collapsed": false
   },
   "id": "4dfd0a4d3a0ad1c"
  },
  {
   "cell_type": "code",
   "execution_count": null,
   "outputs": [],
   "source": [
    "fc_lr_X = fc_lr[preds]\n",
    "fc_lr_y = fc_lr['whiff']"
   ],
   "metadata": {
    "collapsed": false
   },
   "id": "97d2f59567ba5805"
  },
  {
   "cell_type": "code",
   "execution_count": null,
   "outputs": [],
   "source": [
    "X_train, X_test, y_train, y_test = train_test_split(fc_lr_X, fc_lr_y, test_size=.33, random_state=25)\n",
    "\n",
    "model = XGBClassifier()\n",
    "model.fit(X_train, y_train)\n",
    "\n",
    "y_pred = model.predict(X_test)\n",
    "predictions = [round(value) for value in y_pred]\n",
    "\n",
    "accuracy = accuracy_score(y_test, predictions)\n",
    "print(\"Accuracy: %.2f%%\" % (accuracy * 100.0))"
   ],
   "metadata": {
    "collapsed": false
   },
   "id": "60d5f2c3e77f7afb"
  },
  {
   "cell_type": "code",
   "execution_count": null,
   "outputs": [],
   "source": [
    "aub_fc_lr = fc_lr[fc_lr['PitcherTeam']=='AUB_TIG']\n",
    "print(aub_fc_lr.shape)"
   ],
   "metadata": {
    "collapsed": false
   },
   "id": "f0dc770eda742ce0"
  },
  {
   "cell_type": "code",
   "execution_count": null,
   "outputs": [],
   "source": [
    "# Get unique values\n",
    "unique_values = fc_lr['Pitcher'].unique()\n",
    "aub_unique_values = aub_fc_lr['Pitcher'].unique()\n",
    "\n",
    "print(aub_unique_values)\n",
    "\n",
    "# Create a dictionary to store subsets\n",
    "all_subsets = {value: fc_lr[fc_lr['Pitcher'] == value] for value in unique_values}\n",
    "\n",
    "aub_subsets = {value: fc_lr[fc_lr['Pitcher'] == value] for value in aub_unique_values}"
   ],
   "metadata": {
    "collapsed": false
   },
   "id": "64f1ad502e22c2e5"
  },
  {
   "cell_type": "code",
   "execution_count": null,
   "outputs": [],
   "source": [
    "def aub_lr_fc_stuff(name):\n",
    "    \n",
    "    preds = ['RelSpeed','VertRelAngle','HorzRelAngle','SpinRate','SpinAxis','RelHeight','RelSide','Extension','VertBreak','InducedVertBreak','HorzBreak','ZoneSpeed','VertApprAngle','HorzApprAngle','ZoneTime','pfxx','pfxz','x0','y0','z0','vx0','vy0','vz0','ax0','ay0','az0','SpeedDrop','PitchTrajectoryXc1','PitchTrajectoryXc2','PitchTrajectoryYc0','PitchTrajectoryYc1','PitchTrajectoryYc2','PitchTrajectoryZc0','PitchTrajectoryZc1','PitchTrajectoryZc2']\n",
    "    \n",
    "    all_preds = model.predict_proba(fc_lr_X)[:,1]\n",
    "    mean_pred = np.mean(all_preds)\n",
    "\n",
    "    pitcher = aub_subsets[name]\n",
    "    pitcher_x = pitcher[preds]\n",
    "\n",
    "    whiff_preds = model.predict_proba(pitcher_x)[:,1]\n",
    "\n",
    "    stuff = whiff_preds/mean_pred\n",
    "    \n",
    "    print(f\"{name} LR Cutter stuff+: {np.mean(stuff * 100)}\")"
   ],
   "metadata": {
    "collapsed": false
   },
   "id": "25317233a1b761e8"
  },
  {
   "cell_type": "code",
   "execution_count": null,
   "outputs": [],
   "source": [
    "for pitcher in aub_unique_values:\n",
    "    aub_lr_fc_stuff(pitcher)"
   ],
   "metadata": {
    "collapsed": false
   },
   "id": "ed5ac49d78aac6e7"
  },
  {
   "cell_type": "code",
   "execution_count": null,
   "outputs": [],
   "source": [
    "fc_ll_X = fc_ll[preds]\n",
    "fc_ll_y = fc_ll['whiff']"
   ],
   "metadata": {
    "collapsed": false
   },
   "id": "8d24236f390fe128"
  },
  {
   "cell_type": "code",
   "execution_count": null,
   "outputs": [],
   "source": [
    "X_train, X_test, y_train, y_test = train_test_split(fc_ll_X, fc_ll_y, test_size=.33, random_state=25)\n",
    "\n",
    "model = XGBClassifier()\n",
    "model.fit(X_train, y_train)\n",
    "\n",
    "y_pred = model.predict(X_test)\n",
    "predictions = [round(value) for value in y_pred]\n",
    "\n",
    "accuracy = accuracy_score(y_test, predictions)\n",
    "print(\"Accuracy: %.2f%%\" % (accuracy * 100.0))"
   ],
   "metadata": {
    "collapsed": false
   },
   "id": "8feb15f794b4765e"
  },
  {
   "cell_type": "code",
   "execution_count": null,
   "outputs": [],
   "source": [
    "aub_fc_ll = fc_ll[fc_ll['PitcherTeam']=='AUB_TIG']\n",
    "print(aub_fc_ll.shape)"
   ],
   "metadata": {
    "collapsed": false
   },
   "id": "d57c2b66e5dead"
  },
  {
   "cell_type": "code",
   "execution_count": null,
   "outputs": [],
   "source": [
    "# Get unique values\n",
    "unique_values = fc_ll['Pitcher'].unique()\n",
    "aub_unique_values = aub_fc_ll['Pitcher'].unique()\n",
    "\n",
    "print(aub_unique_values)\n",
    "\n",
    "# Create a dictionary to store subsets\n",
    "all_subsets = {value: fc_ll[fc_ll['Pitcher'] == value] for value in unique_values}\n",
    "\n",
    "aub_subsets = {value: fc_ll[fc_ll['Pitcher'] == value] for value in aub_unique_values}"
   ],
   "metadata": {
    "collapsed": false
   },
   "id": "43b8a2ebb76a25bc"
  },
  {
   "cell_type": "code",
   "execution_count": null,
   "outputs": [],
   "source": [
    "def aub_ll_fc_stuff(name):\n",
    "    \n",
    "    preds = ['RelSpeed','VertRelAngle','HorzRelAngle','SpinRate','SpinAxis','RelHeight','RelSide','Extension','VertBreak','InducedVertBreak','HorzBreak','ZoneSpeed','VertApprAngle','HorzApprAngle','ZoneTime','pfxx','pfxz','x0','y0','z0','vx0','vy0','vz0','ax0','ay0','az0','SpeedDrop','PitchTrajectoryXc1','PitchTrajectoryXc2','PitchTrajectoryYc0','PitchTrajectoryYc1','PitchTrajectoryYc2','PitchTrajectoryZc0','PitchTrajectoryZc1','PitchTrajectoryZc2']\n",
    "    \n",
    "    all_preds = model.predict_proba(fc_ll_X)[:,1]\n",
    "    mean_pred = np.mean(all_preds)\n",
    "\n",
    "    pitcher = aub_subsets[name]\n",
    "    pitcher_x = pitcher[preds]\n",
    "\n",
    "    whiff_preds = model.predict_proba(pitcher_x)[:,1]\n",
    "\n",
    "    stuff = whiff_preds/mean_pred\n",
    "    \n",
    "    print(f\"{name} LL Cutter stuff+: {np.mean(stuff * 100)}\")"
   ],
   "metadata": {
    "collapsed": false
   },
   "id": "9e71b06c587def58"
  },
  {
   "cell_type": "code",
   "execution_count": null,
   "outputs": [],
   "source": [
    "for pitcher in aub_unique_values:\n",
    "    aub_ll_fc_stuff(pitcher)"
   ],
   "metadata": {
    "collapsed": false
   },
   "id": "5481fe471db7816a"
  },
  {
   "cell_type": "code",
   "execution_count": null,
   "outputs": [],
   "source": [
    "aub_subsets['Vail, Tommy']"
   ],
   "metadata": {
    "collapsed": false
   },
   "id": "33f1dc205b2c5f26"
  }
 ],
 "metadata": {
  "kernelspec": {
   "display_name": "Python 3",
   "language": "python",
   "name": "python3"
  },
  "language_info": {
   "codemirror_mode": {
    "name": "ipython",
    "version": 2
   },
   "file_extension": ".py",
   "mimetype": "text/x-python",
   "name": "python",
   "nbconvert_exporter": "python",
   "pygments_lexer": "ipython2",
   "version": "2.7.6"
  }
 },
 "nbformat": 4,
 "nbformat_minor": 5
}
