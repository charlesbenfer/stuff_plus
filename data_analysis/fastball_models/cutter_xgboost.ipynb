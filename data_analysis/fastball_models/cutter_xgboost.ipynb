{
 "cells": [
  {
   "cell_type": "code",
   "execution_count": 47,
   "id": "initial_id",
   "metadata": {
    "collapsed": true,
    "ExecuteTime": {
     "end_time": "2024-10-07T18:29:31.255386100Z",
     "start_time": "2024-10-07T18:29:31.250304300Z"
    }
   },
   "outputs": [],
   "source": [
    "import os\n",
    "import pandas as pd\n",
    "import numpy as np\n",
    "import xgboost\n",
    "from xgboost import XGBClassifier\n",
    "from sklearn.model_selection import train_test_split\n",
    "from sklearn.metrics import accuracy_score, confusion_matrix, precision_score, recall_score, f1_score, roc_auc_score, roc_curve\n",
    "from hyperopt import STATUS_OK, Trials, fmin, hp, tpe\n",
    "import matplotlib.pyplot as plt\n",
    "import seaborn as sns\n",
    "import shap"
   ]
  },
  {
   "cell_type": "code",
   "execution_count": 48,
   "outputs": [
    {
     "name": "stdout",
     "output_type": "stream",
     "text": [
      "(270589, 167)\n",
      "Index(['PitchNo', 'Date', 'Time', 'PAofInning', 'PitchofPA', 'Pitcher',\n",
      "       'PitcherId', 'PitcherThrows', 'PitcherTeam', 'Batter',\n",
      "       ...\n",
      "       'ThrowTrajectoryZc1', 'ThrowTrajectoryZc2', 'PitchReleaseConfidence',\n",
      "       'PitchLocationConfidence', 'PitchMovementConfidence',\n",
      "       'HitLaunchConfidence', 'HitLandingConfidence',\n",
      "       'CatcherThrowCatchConfidence', 'CatcherThrowReleaseConfidence',\n",
      "       'CatcherThrowLocationConfidence'],\n",
      "      dtype='object', length=167)\n"
     ]
    }
   ],
   "source": [
    "csv_dir = '../../SEC Trackman Data/'\n",
    "all_files = [os.path.join(csv_dir, f) for f in os.listdir(csv_dir) if f.endswith('.csv')]\n",
    "\n",
    "df_list = []\n",
    "\n",
    "for file in all_files:\n",
    "    df = pd.read_csv(file)\n",
    "    df_list.append(df)\n",
    "\n",
    "all_pitches = pd.concat(df_list, ignore_index=True)\n",
    "\n",
    "print(all_pitches.shape)\n",
    "print(all_pitches.columns)"
   ],
   "metadata": {
    "collapsed": false,
    "ExecuteTime": {
     "end_time": "2024-10-07T18:29:45.228322900Z",
     "start_time": "2024-10-07T18:29:32.277189500Z"
    }
   },
   "id": "a37ef587a26e375a"
  },
  {
   "cell_type": "code",
   "execution_count": 49,
   "outputs": [
    {
     "name": "stdout",
     "output_type": "stream",
     "text": [
      "(8203, 167)\n"
     ]
    }
   ],
   "source": [
    "fc = all_pitches[all_pitches['TaggedPitchType']=='Cutter']\n",
    "print(fc.shape)"
   ],
   "metadata": {
    "collapsed": false,
    "ExecuteTime": {
     "end_time": "2024-10-07T18:29:47.733856500Z",
     "start_time": "2024-10-07T18:29:47.678493600Z"
    }
   },
   "id": "72ef45915c4821a2"
  },
  {
   "cell_type": "code",
   "execution_count": 50,
   "outputs": [
    {
     "name": "stderr",
     "output_type": "stream",
     "text": [
      "C:\\Users\\charl\\AppData\\Local\\Temp\\ipykernel_10996\\1525590373.py:1: SettingWithCopyWarning: \n",
      "A value is trying to be set on a copy of a slice from a DataFrame.\n",
      "Try using .loc[row_indexer,col_indexer] = value instead\n",
      "\n",
      "See the caveats in the documentation: https://pandas.pydata.org/pandas-docs/stable/user_guide/indexing.html#returning-a-view-versus-a-copy\n",
      "  fc['whiff'] = np.where(fc['PitchCall']=='StrikeSwinging',1,0)\n"
     ]
    }
   ],
   "source": [
    "fc['whiff'] = np.where(fc['PitchCall']=='StrikeSwinging',1,0)"
   ],
   "metadata": {
    "collapsed": false,
    "ExecuteTime": {
     "end_time": "2024-10-07T18:29:48.933964300Z",
     "start_time": "2024-10-07T18:29:48.921654800Z"
    }
   },
   "id": "7b306c621e70f87e"
  },
  {
   "cell_type": "code",
   "execution_count": 51,
   "outputs": [],
   "source": [
    "preds = ['RelSpeed','VertRelAngle','HorzRelAngle','SpinRate','SpinAxis','RelHeight','RelSide','Extension','VertBreak','InducedVertBreak','HorzBreak','ZoneSpeed','VertApprAngle','HorzApprAngle','ZoneTime','pfxx','pfxz','x0','y0','z0','vx0','vy0','vz0','ax0','ay0','az0','SpeedDrop','PitchTrajectoryXc1','PitchTrajectoryXc2','PitchTrajectoryYc0','PitchTrajectoryYc1','PitchTrajectoryYc2','PitchTrajectoryZc0','PitchTrajectoryZc1','PitchTrajectoryZc2']"
   ],
   "metadata": {
    "collapsed": false,
    "ExecuteTime": {
     "end_time": "2024-10-07T18:29:50.436568900Z",
     "start_time": "2024-10-07T18:29:50.422849200Z"
    }
   },
   "id": "814dc67460ba298"
  },
  {
   "cell_type": "code",
   "execution_count": 52,
   "outputs": [],
   "source": [
    "fc_X = fc[preds]\n",
    "fc_y = fc['whiff']"
   ],
   "metadata": {
    "collapsed": false,
    "ExecuteTime": {
     "end_time": "2024-10-07T18:29:51.856479300Z",
     "start_time": "2024-10-07T18:29:51.841451100Z"
    }
   },
   "id": "f9cb54f440e28ddf"
  },
  {
   "cell_type": "code",
   "execution_count": 53,
   "outputs": [
    {
     "name": "stdout",
     "output_type": "stream",
     "text": [
      "Accuracy: 82.71%\n"
     ]
    }
   ],
   "source": [
    "X_train, X_test, y_train, y_test = train_test_split(fc_X, fc_y, test_size=.33, random_state=25)\n",
    "\n",
    "model = XGBClassifier()\n",
    "model.fit(X_train, y_train)\n",
    "\n",
    "y_pred = model.predict(X_test)\n",
    "predictions = [round(value) for value in y_pred]\n",
    "\n",
    "accuracy = accuracy_score(y_test, predictions)\n",
    "print(\"Accuracy: %.2f%%\" % (accuracy * 100.0))"
   ],
   "metadata": {
    "collapsed": false,
    "ExecuteTime": {
     "end_time": "2024-10-07T18:29:53.449627800Z",
     "start_time": "2024-10-07T18:29:52.981095500Z"
    }
   },
   "id": "e5e7bd7e51d2df5"
  },
  {
   "cell_type": "code",
   "execution_count": 54,
   "outputs": [
    {
     "name": "stdout",
     "output_type": "stream",
     "text": [
      "ROC AUC: 0.5126\n"
     ]
    },
    {
     "data": {
      "text/plain": "<Figure size 640x480 with 1 Axes>",
      "image/png": "[encoded data removed]"
     },
     "metadata": {},
     "output_type": "display_data"
    }
   ],
   "source": [
    "y_pred_prob = model.predict_proba(X_test)[:,1]\n",
    "roc_auc = roc_auc_score(y_test, predictions, multi_class='ovr')\n",
    "\n",
    "print(f'ROC AUC: {roc_auc:.4f}')\n",
    "\n",
    "# Plotting ROC Curve for one class (e.g., class 0)\n",
    "fpr, tpr, _ = roc_curve(y_test == 1, y_pred_prob)\n",
    "plt.plot(fpr, tpr, label='Class 0 ROC curve')\n",
    "plt.xlabel('False Positive Rate')\n",
    "plt.ylabel('True Positive Rate')\n",
    "plt.title('ROC Curve')\n",
    "plt.legend(loc='best')\n",
    "plt.show()"
   ],
   "metadata": {
    "collapsed": false,
    "ExecuteTime": {
     "end_time": "2024-10-07T18:29:55.022620800Z",
     "start_time": "2024-10-07T18:29:54.791184800Z"
    }
   },
   "id": "82368b8d20fbc768"
  },
  {
   "cell_type": "code",
   "execution_count": 58,
   "outputs": [],
   "source": [
    "aub_fc = fc[fc['PitcherTeam']=='AUB_TIG']"
   ],
   "metadata": {
    "collapsed": false,
    "ExecuteTime": {
     "end_time": "2024-10-07T18:30:55.944593800Z",
     "start_time": "2024-10-07T18:30:55.925446700Z"
    }
   },
   "id": "4ca7ecaa504013d1"
  },
  {
   "cell_type": "code",
   "execution_count": 64,
   "outputs": [
    {
     "name": "stdout",
     "output_type": "stream",
     "text": [
      "['Carlson, Parker' 'Allsup, Chase' 'Isbell, Chase' 'Vail, Tommy'\n",
      " 'McBride, Connor' 'Murphy, Hayden' 'Schorr, Ben']\n"
     ]
    }
   ],
   "source": [
    "# Get unique values\n",
    "unique_values = fc['Pitcher'].unique()\n",
    "aub_unique_values = aub_fc['Pitcher'].unique()\n",
    "\n",
    "print(aub_unique_values)\n",
    "\n",
    "# Create a dictionary to store subsets\n",
    "all_subsets = {value: fc[fc['Pitcher'] == value] for value in unique_values}\n",
    "\n",
    "aub_subsets = {value: fc[fc['Pitcher'] == value] for value in aub_unique_values}"
   ],
   "metadata": {
    "collapsed": false,
    "ExecuteTime": {
     "end_time": "2024-10-07T18:32:19.723578Z",
     "start_time": "2024-10-07T18:32:19.404118Z"
    }
   },
   "id": "36d9f6dec163f083"
  },
  {
   "cell_type": "code",
   "execution_count": 66,
   "outputs": [],
   "source": [
    "def aub_fc_stuff(name):\n",
    "    \n",
    "    preds = ['RelSpeed','VertRelAngle','HorzRelAngle','SpinRate','SpinAxis','RelHeight','RelSide','Extension','VertBreak','InducedVertBreak','HorzBreak','ZoneSpeed','VertApprAngle','HorzApprAngle','ZoneTime','pfxx','pfxz','x0','y0','z0','vx0','vy0','vz0','ax0','ay0','az0','SpeedDrop','PitchTrajectoryXc1','PitchTrajectoryXc2','PitchTrajectoryYc0','PitchTrajectoryYc1','PitchTrajectoryYc2','PitchTrajectoryZc0','PitchTrajectoryZc1','PitchTrajectoryZc2']\n",
    "    \n",
    "    all_preds = model.predict_proba(fc_X)[:,1]\n",
    "    mean_pred = np.mean(all_preds)\n",
    "\n",
    "    pitcher = aub_subsets[name]\n",
    "    pitcher_x = pitcher[preds]\n",
    "\n",
    "    whiff_preds = model.predict_proba(pitcher_x)[:,1]\n",
    "\n",
    "    stuff = whiff_preds/mean_pred\n",
    "    \n",
    "    print(f\"{name} cutter stuff+: {np.mean(stuff * 100)}\")"
   ],
   "metadata": {
    "collapsed": false,
    "ExecuteTime": {
     "end_time": "2024-10-07T18:32:41.084176200Z",
     "start_time": "2024-10-07T18:32:41.063000400Z"
    }
   },
   "id": "9b03427fbc914d15"
  },
  {
   "cell_type": "code",
   "execution_count": 67,
   "outputs": [
    {
     "name": "stdout",
     "output_type": "stream",
     "text": [
      "Carlson, Parker cutter stuff+: 58.98899459838867\n",
      "Allsup, Chase cutter stuff+: 76.94023895263672\n",
      "Isbell, Chase cutter stuff+: 143.5036163330078\n",
      "Vail, Tommy cutter stuff+: 32.28517150878906\n",
      "McBride, Connor cutter stuff+: 108.11065673828125\n",
      "Murphy, Hayden cutter stuff+: 15.714156150817871\n",
      "Schorr, Ben cutter stuff+: 17.192230224609375\n"
     ]
    }
   ],
   "source": [
    "for player in aub_unique_values:\n",
    "    aub_fc_stuff(player)"
   ],
   "metadata": {
    "collapsed": false,
    "ExecuteTime": {
     "end_time": "2024-10-07T18:32:42.590701800Z",
     "start_time": "2024-10-07T18:32:42.304856600Z"
    }
   },
   "id": "61b8800a0bdb8a64"
  },
  {
   "cell_type": "markdown",
   "source": [
    "Splits "
   ],
   "metadata": {
    "collapsed": false
   },
   "id": "49277f99808aa2d6"
  },
  {
   "cell_type": "code",
   "execution_count": 12,
   "outputs": [
    {
     "name": "stdout",
     "output_type": "stream",
     "text": [
      "(4522, 168)\n",
      "(1976, 168)\n",
      "(885, 168)\n",
      "(805, 168)\n"
     ]
    }
   ],
   "source": [
    "fc_rr = fc[(fc['PitcherThrows'] == 'Right') & (fc['BatterSide'] == 'Right')]\n",
    "fc_rl = fc[(fc['PitcherThrows'] == 'Right') & (fc['BatterSide'] == 'Left')]\n",
    "fc_lr = fc[(fc['PitcherThrows'] == 'Left') & (fc['BatterSide'] == 'Right')]\n",
    "fc_ll = fc[(fc['PitcherThrows'] == 'Left') & (fc['BatterSide'] == 'Left')]\n",
    "\n",
    "print(fc_rr.shape)\n",
    "print(fc_rl.shape)\n",
    "print(fc_lr.shape)\n",
    "print(fc_ll.shape)"
   ],
   "metadata": {
    "collapsed": false,
    "ExecuteTime": {
     "end_time": "2024-10-07T18:13:33.217822800Z",
     "start_time": "2024-10-07T18:13:33.174497700Z"
    }
   },
   "id": "26f9bdeb0de46055"
  },
  {
   "cell_type": "code",
   "execution_count": 13,
   "outputs": [
    {
     "name": "stderr",
     "output_type": "stream",
     "text": [
      "C:\\Users\\charl\\AppData\\Local\\Temp\\ipykernel_10996\\2437321745.py:1: SettingWithCopyWarning: \n",
      "A value is trying to be set on a copy of a slice from a DataFrame.\n",
      "Try using .loc[row_indexer,col_indexer] = value instead\n",
      "\n",
      "See the caveats in the documentation: https://pandas.pydata.org/pandas-docs/stable/user_guide/indexing.html#returning-a-view-versus-a-copy\n",
      "  fc_rr['whiff'] = np.where(fc_rr['PitchCall']=='StrikeSwinging',1,0)\n",
      "C:\\Users\\charl\\AppData\\Local\\Temp\\ipykernel_10996\\2437321745.py:2: SettingWithCopyWarning: \n",
      "A value is trying to be set on a copy of a slice from a DataFrame.\n",
      "Try using .loc[row_indexer,col_indexer] = value instead\n",
      "\n",
      "See the caveats in the documentation: https://pandas.pydata.org/pandas-docs/stable/user_guide/indexing.html#returning-a-view-versus-a-copy\n",
      "  fc_rl['whiff'] = np.where(fc_rl['PitchCall']=='StrikeSwinging',1,0)\n",
      "C:\\Users\\charl\\AppData\\Local\\Temp\\ipykernel_10996\\2437321745.py:3: SettingWithCopyWarning: \n",
      "A value is trying to be set on a copy of a slice from a DataFrame.\n",
      "Try using .loc[row_indexer,col_indexer] = value instead\n",
      "\n",
      "See the caveats in the documentation: https://pandas.pydata.org/pandas-docs/stable/user_guide/indexing.html#returning-a-view-versus-a-copy\n",
      "  fc_lr['whiff'] = np.where(fc_lr['PitchCall']=='StrikeSwinging',1,0)\n",
      "C:\\Users\\charl\\AppData\\Local\\Temp\\ipykernel_10996\\2437321745.py:4: SettingWithCopyWarning: \n",
      "A value is trying to be set on a copy of a slice from a DataFrame.\n",
      "Try using .loc[row_indexer,col_indexer] = value instead\n",
      "\n",
      "See the caveats in the documentation: https://pandas.pydata.org/pandas-docs/stable/user_guide/indexing.html#returning-a-view-versus-a-copy\n",
      "  fc_ll['whiff'] = np.where(fc_ll['PitchCall']=='StrikeSwinging',1,0)\n"
     ]
    }
   ],
   "source": [
    "fc_rr['whiff'] = np.where(fc_rr['PitchCall']=='StrikeSwinging',1,0)\n",
    "fc_rl['whiff'] = np.where(fc_rl['PitchCall']=='StrikeSwinging',1,0)\n",
    "fc_lr['whiff'] = np.where(fc_lr['PitchCall']=='StrikeSwinging',1,0)\n",
    "fc_ll['whiff'] = np.where(fc_ll['PitchCall']=='StrikeSwinging',1,0)"
   ],
   "metadata": {
    "collapsed": false,
    "ExecuteTime": {
     "end_time": "2024-10-07T18:13:35.616913800Z",
     "start_time": "2024-10-07T18:13:35.611311400Z"
    }
   },
   "id": "527b768ff2e178d6"
  },
  {
   "cell_type": "code",
   "execution_count": 14,
   "outputs": [],
   "source": [
    "preds = ['RelSpeed','VertRelAngle','HorzRelAngle','SpinRate','SpinAxis','RelHeight','RelSide','Extension','VertBreak','InducedVertBreak','HorzBreak','ZoneSpeed','VertApprAngle','HorzApprAngle','ZoneTime','pfxx','pfxz','x0','y0','z0','vx0','vy0','vz0','ax0','ay0','az0','SpeedDrop','PitchTrajectoryXc1','PitchTrajectoryXc2','PitchTrajectoryYc0','PitchTrajectoryYc1','PitchTrajectoryYc2','PitchTrajectoryZc0','PitchTrajectoryZc1','PitchTrajectoryZc2']"
   ],
   "metadata": {
    "collapsed": false,
    "ExecuteTime": {
     "end_time": "2024-10-07T18:13:47.817954600Z",
     "start_time": "2024-10-07T18:13:47.808473100Z"
    }
   },
   "id": "a9850bc15921df0d"
  },
  {
   "cell_type": "code",
   "execution_count": 15,
   "outputs": [],
   "source": [
    "fc_rr_X = fc_rr[preds]\n",
    "fc_rr_y = fc_rr['whiff']"
   ],
   "metadata": {
    "collapsed": false,
    "ExecuteTime": {
     "end_time": "2024-10-07T18:14:17.818685700Z",
     "start_time": "2024-10-07T18:14:17.807987900Z"
    }
   },
   "id": "3cda6eac4019b9a7"
  },
  {
   "cell_type": "code",
   "execution_count": 16,
   "outputs": [
    {
     "name": "stdout",
     "output_type": "stream",
     "text": [
      "Accuracy: 82.52%\n"
     ]
    }
   ],
   "source": [
    "X_train, X_test, y_train, y_test = train_test_split(fc_rr_X, fc_rr_y, test_size=.33, random_state=25)\n",
    "\n",
    "model = XGBClassifier()\n",
    "model.fit(X_train, y_train)\n",
    "\n",
    "y_pred = model.predict(X_test)\n",
    "predictions = [round(value) for value in y_pred]\n",
    "\n",
    "accuracy = accuracy_score(y_test, predictions)\n",
    "print(\"Accuracy: %.2f%%\" % (accuracy * 100.0))"
   ],
   "metadata": {
    "collapsed": false,
    "ExecuteTime": {
     "end_time": "2024-10-07T18:14:19.144694700Z",
     "start_time": "2024-10-07T18:14:18.730198Z"
    }
   },
   "id": "4407d0275877b08e"
  },
  {
   "cell_type": "code",
   "execution_count": 17,
   "outputs": [
    {
     "name": "stdout",
     "output_type": "stream",
     "text": [
      "(99, 168)\n"
     ]
    }
   ],
   "source": [
    "aub_fc_rr = fc_rr[fc_rr['PitcherTeam']=='AUB_TIG']\n",
    "print(aub_fc_rr.shape)"
   ],
   "metadata": {
    "collapsed": false,
    "ExecuteTime": {
     "end_time": "2024-10-07T18:14:29.243476300Z",
     "start_time": "2024-10-07T18:14:29.198449100Z"
    }
   },
   "id": "138c1d92e0586db5"
  },
  {
   "cell_type": "code",
   "execution_count": 18,
   "outputs": [
    {
     "name": "stdout",
     "output_type": "stream",
     "text": [
      "['Carlson, Parker' 'Allsup, Chase' 'Isbell, Chase' 'McBride, Connor'\n",
      " 'Murphy, Hayden']\n"
     ]
    }
   ],
   "source": [
    "# Get unique values\n",
    "unique_values = fc_rr['Pitcher'].unique()\n",
    "aub_unique_values = aub_fc_rr['Pitcher'].unique()\n",
    "\n",
    "print(aub_unique_values)\n",
    "\n",
    "# Create a dictionary to store subsets\n",
    "all_subsets = {value: fc_rr[fc_rr['Pitcher'] == value] for value in unique_values}\n",
    "\n",
    "aub_subsets = {value: fc_rr[fc_rr['Pitcher'] == value] for value in aub_unique_values}"
   ],
   "metadata": {
    "collapsed": false,
    "ExecuteTime": {
     "end_time": "2024-10-07T18:14:53.381597300Z",
     "start_time": "2024-10-07T18:14:53.063875200Z"
    }
   },
   "id": "229ada02b9ea78d9"
  },
  {
   "cell_type": "code",
   "execution_count": 22,
   "outputs": [],
   "source": [
    "def aub_rr_fc_stuff(name):\n",
    "    \n",
    "    preds = ['RelSpeed','VertRelAngle','HorzRelAngle','SpinRate','SpinAxis','RelHeight','RelSide','Extension','VertBreak','InducedVertBreak','HorzBreak','ZoneSpeed','VertApprAngle','HorzApprAngle','ZoneTime','pfxx','pfxz','x0','y0','z0','vx0','vy0','vz0','ax0','ay0','az0','SpeedDrop','PitchTrajectoryXc1','PitchTrajectoryXc2','PitchTrajectoryYc0','PitchTrajectoryYc1','PitchTrajectoryYc2','PitchTrajectoryZc0','PitchTrajectoryZc1','PitchTrajectoryZc2']\n",
    "    \n",
    "    all_preds = model.predict_proba(fc_rr_X)[:,1]\n",
    "    mean_pred = np.mean(all_preds)\n",
    "\n",
    "    pitcher = aub_subsets[name]\n",
    "    pitcher_x = pitcher[preds]\n",
    "\n",
    "    whiff_preds = model.predict_proba(pitcher_x)[:,1]\n",
    "\n",
    "    stuff = whiff_preds/mean_pred\n",
    "    \n",
    "    print(f\"{name} RR Cutter stuff+: {np.mean(stuff * 100)}\")"
   ],
   "metadata": {
    "collapsed": false,
    "ExecuteTime": {
     "end_time": "2024-10-07T18:15:21.788964800Z",
     "start_time": "2024-10-07T18:15:21.781145100Z"
    }
   },
   "id": "f827ae385970b91e"
  },
  {
   "cell_type": "code",
   "execution_count": 23,
   "outputs": [
    {
     "name": "stdout",
     "output_type": "stream",
     "text": [
      "Carlson, Parker RR Cutter stuff+: 31.0511474609375\n",
      "Allsup, Chase RR Cutter stuff+: 75.36477661132812\n",
      "Isbell, Chase RR Cutter stuff+: 52.612579345703125\n",
      "McBride, Connor RR Cutter stuff+: 127.9946060180664\n",
      "Murphy, Hayden RR Cutter stuff+: 5.887296676635742\n"
     ]
    }
   ],
   "source": [
    "for pitcher in aub_unique_values:\n",
    "    aub_rr_fc_stuff(pitcher)"
   ],
   "metadata": {
    "collapsed": false,
    "ExecuteTime": {
     "end_time": "2024-10-07T18:15:23.168592300Z",
     "start_time": "2024-10-07T18:15:22.977436Z"
    }
   },
   "id": "215f984600a683b6"
  },
  {
   "cell_type": "code",
   "execution_count": 24,
   "outputs": [],
   "source": [
    "fc_rl_X = fc_rl[preds]\n",
    "fc_rl_y = fc_rl['whiff']"
   ],
   "metadata": {
    "collapsed": false,
    "ExecuteTime": {
     "end_time": "2024-10-07T18:17:10.583463900Z",
     "start_time": "2024-10-07T18:17:10.573239500Z"
    }
   },
   "id": "b10dc439a67efe5c"
  },
  {
   "cell_type": "code",
   "execution_count": 25,
   "outputs": [
    {
     "name": "stdout",
     "output_type": "stream",
     "text": [
      "Accuracy: 84.23%\n"
     ]
    }
   ],
   "source": [
    "X_train, X_test, y_train, y_test = train_test_split(fc_rl_X, fc_rl_y, test_size=.33, random_state=25)\n",
    "\n",
    "model = XGBClassifier()\n",
    "model.fit(X_train, y_train)\n",
    "\n",
    "y_pred = model.predict(X_test)\n",
    "predictions = [round(value) for value in y_pred]\n",
    "\n",
    "accuracy = accuracy_score(y_test, predictions)\n",
    "print(\"Accuracy: %.2f%%\" % (accuracy * 100.0))"
   ],
   "metadata": {
    "collapsed": false,
    "ExecuteTime": {
     "end_time": "2024-10-07T18:17:12.197732800Z",
     "start_time": "2024-10-07T18:17:11.927212Z"
    }
   },
   "id": "7ae0b4bbe5784857"
  },
  {
   "cell_type": "code",
   "execution_count": 26,
   "outputs": [
    {
     "name": "stdout",
     "output_type": "stream",
     "text": [
      "(77, 168)\n"
     ]
    }
   ],
   "source": [
    "aub_fc_rl = fc_rl[fc_rl['PitcherTeam']=='AUB_TIG']\n",
    "print(aub_fc_rl.shape)"
   ],
   "metadata": {
    "collapsed": false,
    "ExecuteTime": {
     "end_time": "2024-10-07T18:17:13.594807600Z",
     "start_time": "2024-10-07T18:17:13.587754200Z"
    }
   },
   "id": "e22a92becc180734"
  },
  {
   "cell_type": "code",
   "execution_count": 27,
   "outputs": [
    {
     "name": "stdout",
     "output_type": "stream",
     "text": [
      "['Carlson, Parker' 'Isbell, Chase' 'Allsup, Chase' 'McBride, Connor'\n",
      " 'Murphy, Hayden' 'Schorr, Ben']\n"
     ]
    }
   ],
   "source": [
    "# Get unique values\n",
    "unique_values = fc_rl['Pitcher'].unique()\n",
    "aub_unique_values = aub_fc_rl['Pitcher'].unique()\n",
    "\n",
    "print(aub_unique_values)\n",
    "\n",
    "# Create a dictionary to store subsets\n",
    "all_subsets = {value: fc_rl[fc_rl['Pitcher'] == value] for value in unique_values}\n",
    "\n",
    "aub_subsets = {value: fc_rl[fc_rl['Pitcher'] == value] for value in aub_unique_values}"
   ],
   "metadata": {
    "collapsed": false,
    "ExecuteTime": {
     "end_time": "2024-10-07T18:17:15.079099800Z",
     "start_time": "2024-10-07T18:17:14.965869700Z"
    }
   },
   "id": "3c7c270518e20878"
  },
  {
   "cell_type": "code",
   "execution_count": 28,
   "outputs": [],
   "source": [
    "def aub_rl_fc_stuff(name):\n",
    "    \n",
    "    preds = ['RelSpeed','VertRelAngle','HorzRelAngle','SpinRate','SpinAxis','RelHeight','RelSide','Extension','VertBreak','InducedVertBreak','HorzBreak','ZoneSpeed','VertApprAngle','HorzApprAngle','ZoneTime','pfxx','pfxz','x0','y0','z0','vx0','vy0','vz0','ax0','ay0','az0','SpeedDrop','PitchTrajectoryXc1','PitchTrajectoryXc2','PitchTrajectoryYc0','PitchTrajectoryYc1','PitchTrajectoryYc2','PitchTrajectoryZc0','PitchTrajectoryZc1','PitchTrajectoryZc2']\n",
    "    \n",
    "    all_preds = model.predict_proba(fc_rl_X)[:,1]\n",
    "    mean_pred = np.mean(all_preds)\n",
    "\n",
    "    pitcher = aub_subsets[name]\n",
    "    pitcher_x = pitcher[preds]\n",
    "\n",
    "    whiff_preds = model.predict_proba(pitcher_x)[:,1]\n",
    "\n",
    "    stuff = whiff_preds/mean_pred\n",
    "    \n",
    "    print(f\"{name} RL Cutter stuff+: {np.mean(stuff * 100)}\")"
   ],
   "metadata": {
    "collapsed": false,
    "ExecuteTime": {
     "end_time": "2024-10-07T18:17:17.110928700Z",
     "start_time": "2024-10-07T18:17:17.104355500Z"
    }
   },
   "id": "fbb9bf0ce751d60f"
  },
  {
   "cell_type": "code",
   "execution_count": 29,
   "outputs": [
    {
     "name": "stdout",
     "output_type": "stream",
     "text": [
      "Carlson, Parker RL Cutter stuff+: 112.88485717773438\n",
      "Isbell, Chase RL Cutter stuff+: 55.63394546508789\n",
      "Allsup, Chase RL Cutter stuff+: 88.19487762451172\n",
      "McBride, Connor RL Cutter stuff+: 62.88816452026367\n",
      "Murphy, Hayden RL Cutter stuff+: 13.73134994506836\n",
      "Schorr, Ben RL Cutter stuff+: 13.1558837890625\n"
     ]
    }
   ],
   "source": [
    "for pitcher in aub_unique_values:\n",
    "    aub_rl_fc_stuff(pitcher)"
   ],
   "metadata": {
    "collapsed": false,
    "ExecuteTime": {
     "end_time": "2024-10-07T18:17:18.556860800Z",
     "start_time": "2024-10-07T18:17:18.342988100Z"
    }
   },
   "id": "4dfd0a4d3a0ad1c"
  },
  {
   "cell_type": "code",
   "execution_count": 30,
   "outputs": [],
   "source": [
    "fc_lr_X = fc_lr[preds]\n",
    "fc_lr_y = fc_lr['whiff']"
   ],
   "metadata": {
    "collapsed": false,
    "ExecuteTime": {
     "end_time": "2024-10-07T18:19:51.958188700Z",
     "start_time": "2024-10-07T18:19:51.941795800Z"
    }
   },
   "id": "97d2f59567ba5805"
  },
  {
   "cell_type": "code",
   "execution_count": 31,
   "outputs": [
    {
     "name": "stdout",
     "output_type": "stream",
     "text": [
      "Accuracy: 89.76%\n"
     ]
    }
   ],
   "source": [
    "X_train, X_test, y_train, y_test = train_test_split(fc_lr_X, fc_lr_y, test_size=.33, random_state=25)\n",
    "\n",
    "model = XGBClassifier()\n",
    "model.fit(X_train, y_train)\n",
    "\n",
    "y_pred = model.predict(X_test)\n",
    "predictions = [round(value) for value in y_pred]\n",
    "\n",
    "accuracy = accuracy_score(y_test, predictions)\n",
    "print(\"Accuracy: %.2f%%\" % (accuracy * 100.0))"
   ],
   "metadata": {
    "collapsed": false,
    "ExecuteTime": {
     "end_time": "2024-10-07T18:19:53.062110600Z",
     "start_time": "2024-10-07T18:19:52.850993200Z"
    }
   },
   "id": "60d5f2c3e77f7afb"
  },
  {
   "cell_type": "code",
   "execution_count": 32,
   "outputs": [
    {
     "name": "stdout",
     "output_type": "stream",
     "text": [
      "(5, 168)\n"
     ]
    }
   ],
   "source": [
    "aub_fc_lr = fc_lr[fc_lr['PitcherTeam']=='AUB_TIG']\n",
    "print(aub_fc_lr.shape)"
   ],
   "metadata": {
    "collapsed": false,
    "ExecuteTime": {
     "end_time": "2024-10-07T18:19:54.543918900Z",
     "start_time": "2024-10-07T18:19:54.519367400Z"
    }
   },
   "id": "f0dc770eda742ce0"
  },
  {
   "cell_type": "code",
   "execution_count": 33,
   "outputs": [
    {
     "name": "stdout",
     "output_type": "stream",
     "text": [
      "['Vail, Tommy']\n"
     ]
    }
   ],
   "source": [
    "# Get unique values\n",
    "unique_values = fc_lr['Pitcher'].unique()\n",
    "aub_unique_values = aub_fc_lr['Pitcher'].unique()\n",
    "\n",
    "print(aub_unique_values)\n",
    "\n",
    "# Create a dictionary to store subsets\n",
    "all_subsets = {value: fc_lr[fc_lr['Pitcher'] == value] for value in unique_values}\n",
    "\n",
    "aub_subsets = {value: fc_lr[fc_lr['Pitcher'] == value] for value in aub_unique_values}"
   ],
   "metadata": {
    "collapsed": false,
    "ExecuteTime": {
     "end_time": "2024-10-07T18:19:55.590763300Z",
     "start_time": "2024-10-07T18:19:55.542661100Z"
    }
   },
   "id": "64f1ad502e22c2e5"
  },
  {
   "cell_type": "code",
   "execution_count": 36,
   "outputs": [],
   "source": [
    "def aub_lr_fc_stuff(name):\n",
    "    \n",
    "    preds = ['RelSpeed','VertRelAngle','HorzRelAngle','SpinRate','SpinAxis','RelHeight','RelSide','Extension','VertBreak','InducedVertBreak','HorzBreak','ZoneSpeed','VertApprAngle','HorzApprAngle','ZoneTime','pfxx','pfxz','x0','y0','z0','vx0','vy0','vz0','ax0','ay0','az0','SpeedDrop','PitchTrajectoryXc1','PitchTrajectoryXc2','PitchTrajectoryYc0','PitchTrajectoryYc1','PitchTrajectoryYc2','PitchTrajectoryZc0','PitchTrajectoryZc1','PitchTrajectoryZc2']\n",
    "    \n",
    "    all_preds = model.predict_proba(fc_lr_X)[:,1]\n",
    "    mean_pred = np.mean(all_preds)\n",
    "\n",
    "    pitcher = aub_subsets[name]\n",
    "    pitcher_x = pitcher[preds]\n",
    "\n",
    "    whiff_preds = model.predict_proba(pitcher_x)[:,1]\n",
    "\n",
    "    stuff = whiff_preds/mean_pred\n",
    "    \n",
    "    print(f\"{name} LR Cutter stuff+: {np.mean(stuff * 100)}\")"
   ],
   "metadata": {
    "collapsed": false,
    "ExecuteTime": {
     "end_time": "2024-10-07T18:20:12.623913800Z",
     "start_time": "2024-10-07T18:20:12.618906300Z"
    }
   },
   "id": "25317233a1b761e8"
  },
  {
   "cell_type": "code",
   "execution_count": 37,
   "outputs": [
    {
     "name": "stdout",
     "output_type": "stream",
     "text": [
      "Vail, Tommy LR Cutter stuff+: 193.25222778320312\n"
     ]
    }
   ],
   "source": [
    "for pitcher in aub_unique_values:\n",
    "    aub_lr_fc_stuff(pitcher)"
   ],
   "metadata": {
    "collapsed": false,
    "ExecuteTime": {
     "end_time": "2024-10-07T18:20:13.876575400Z",
     "start_time": "2024-10-07T18:20:13.808763300Z"
    }
   },
   "id": "ed5ac49d78aac6e7"
  },
  {
   "cell_type": "code",
   "execution_count": 38,
   "outputs": [],
   "source": [
    "fc_ll_X = fc_ll[preds]\n",
    "fc_ll_y = fc_ll['whiff']"
   ],
   "metadata": {
    "collapsed": false,
    "ExecuteTime": {
     "end_time": "2024-10-07T18:24:29.907000900Z",
     "start_time": "2024-10-07T18:24:29.867819800Z"
    }
   },
   "id": "8d24236f390fe128"
  },
  {
   "cell_type": "code",
   "execution_count": 39,
   "outputs": [
    {
     "name": "stdout",
     "output_type": "stream",
     "text": [
      "Accuracy: 82.33%\n"
     ]
    }
   ],
   "source": [
    "X_train, X_test, y_train, y_test = train_test_split(fc_ll_X, fc_ll_y, test_size=.33, random_state=25)\n",
    "\n",
    "model = XGBClassifier()\n",
    "model.fit(X_train, y_train)\n",
    "\n",
    "y_pred = model.predict(X_test)\n",
    "predictions = [round(value) for value in y_pred]\n",
    "\n",
    "accuracy = accuracy_score(y_test, predictions)\n",
    "print(\"Accuracy: %.2f%%\" % (accuracy * 100.0))"
   ],
   "metadata": {
    "collapsed": false,
    "ExecuteTime": {
     "end_time": "2024-10-07T18:24:31.763675400Z",
     "start_time": "2024-10-07T18:24:31.561310600Z"
    }
   },
   "id": "8feb15f794b4765e"
  },
  {
   "cell_type": "code",
   "execution_count": 40,
   "outputs": [
    {
     "name": "stdout",
     "output_type": "stream",
     "text": [
      "(4, 168)\n"
     ]
    }
   ],
   "source": [
    "aub_fc_ll = fc_ll[fc_ll['PitcherTeam']=='AUB_TIG']\n",
    "print(aub_fc_ll.shape)"
   ],
   "metadata": {
    "collapsed": false,
    "ExecuteTime": {
     "end_time": "2024-10-07T18:24:33.191175100Z",
     "start_time": "2024-10-07T18:24:33.173339Z"
    }
   },
   "id": "d57c2b66e5dead"
  },
  {
   "cell_type": "code",
   "execution_count": 41,
   "outputs": [
    {
     "name": "stdout",
     "output_type": "stream",
     "text": [
      "['Vail, Tommy']\n"
     ]
    }
   ],
   "source": [
    "# Get unique values\n",
    "unique_values = fc_ll['Pitcher'].unique()\n",
    "aub_unique_values = aub_fc_ll['Pitcher'].unique()\n",
    "\n",
    "print(aub_unique_values)\n",
    "\n",
    "# Create a dictionary to store subsets\n",
    "all_subsets = {value: fc_ll[fc_ll['Pitcher'] == value] for value in unique_values}\n",
    "\n",
    "aub_subsets = {value: fc_ll[fc_ll['Pitcher'] == value] for value in aub_unique_values}"
   ],
   "metadata": {
    "collapsed": false,
    "ExecuteTime": {
     "end_time": "2024-10-07T18:24:34.563716700Z",
     "start_time": "2024-10-07T18:24:34.528095100Z"
    }
   },
   "id": "43b8a2ebb76a25bc"
  },
  {
   "cell_type": "code",
   "execution_count": 44,
   "outputs": [],
   "source": [
    "def aub_ll_fc_stuff(name):\n",
    "    \n",
    "    preds = ['RelSpeed','VertRelAngle','HorzRelAngle','SpinRate','SpinAxis','RelHeight','RelSide','Extension','VertBreak','InducedVertBreak','HorzBreak','ZoneSpeed','VertApprAngle','HorzApprAngle','ZoneTime','pfxx','pfxz','x0','y0','z0','vx0','vy0','vz0','ax0','ay0','az0','SpeedDrop','PitchTrajectoryXc1','PitchTrajectoryXc2','PitchTrajectoryYc0','PitchTrajectoryYc1','PitchTrajectoryYc2','PitchTrajectoryZc0','PitchTrajectoryZc1','PitchTrajectoryZc2']\n",
    "    \n",
    "    all_preds = model.predict_proba(fc_ll_X)[:,1]\n",
    "    mean_pred = np.mean(all_preds)\n",
    "\n",
    "    pitcher = aub_subsets[name]\n",
    "    pitcher_x = pitcher[preds]\n",
    "\n",
    "    whiff_preds = model.predict_proba(pitcher_x)[:,1]\n",
    "\n",
    "    stuff = whiff_preds/mean_pred\n",
    "    \n",
    "    print(f\"{name} LL Cutter stuff+: {np.mean(stuff * 100)}\")"
   ],
   "metadata": {
    "collapsed": false,
    "ExecuteTime": {
     "end_time": "2024-10-07T18:24:50.709242800Z",
     "start_time": "2024-10-07T18:24:50.697531600Z"
    }
   },
   "id": "9e71b06c587def58"
  },
  {
   "cell_type": "code",
   "execution_count": 45,
   "outputs": [
    {
     "name": "stdout",
     "output_type": "stream",
     "text": [
      "Vail, Tommy LL Cutter stuff+: 5.027721405029297\n"
     ]
    }
   ],
   "source": [
    "for pitcher in aub_unique_values:\n",
    "    aub_ll_fc_stuff(pitcher)"
   ],
   "metadata": {
    "collapsed": false,
    "ExecuteTime": {
     "end_time": "2024-10-07T18:24:52.764684700Z",
     "start_time": "2024-10-07T18:24:52.722714600Z"
    }
   },
   "id": "5481fe471db7816a"
  },
  {
   "cell_type": "code",
   "execution_count": 46,
   "outputs": [
    {
     "data": {
      "text/plain": "        PitchNo        Date         Time  PAofInning  PitchofPA      Pitcher  \\\n122604       27  2023-05-12  20:05:46.26         3.0        2.0  Vail, Tommy   \n122632       55  2023-05-12  20:21:25.06         2.0        1.0  Vail, Tommy   \n122638       61  2023-05-12  20:23:28.98         2.0        7.0  Vail, Tommy   \n122751      174  2023-05-12  21:26:04.97         3.0        1.0  Vail, Tommy   \n\n           PitcherId PitcherThrows PitcherTeam           Batter  ...  \\\n122604  1.000067e+09          Left     AUB_TIG  Gonzalez, Jacob  ...   \n122632  1.000067e+09          Left     AUB_TIG   Harris, Calvin  ...   \n122638  1.000067e+09          Left     AUB_TIG   Harris, Calvin  ...   \n122751  1.000067e+09          Left     AUB_TIG     Kramer, John  ...   \n\n        ThrowTrajectoryZc2 PitchReleaseConfidence PitchLocationConfidence  \\\n122604                 NaN                   High                    High   \n122632                 NaN                   High                    High   \n122638                 NaN                   High                    High   \n122751                 NaN                   High                    High   \n\n       PitchMovementConfidence  HitLaunchConfidence HitLandingConfidence  \\\n122604                    High                 High                  Low   \n122632                    High                  NaN                  NaN   \n122638                    High                  Low                  Low   \n122751                    High                  NaN                  NaN   \n\n        CatcherThrowCatchConfidence  CatcherThrowReleaseConfidence  \\\n122604                          NaN                            NaN   \n122632                          NaN                            NaN   \n122638                          NaN                            NaN   \n122751                          NaN                            NaN   \n\n        CatcherThrowLocationConfidence whiff  \n122604                             NaN     0  \n122632                             NaN     0  \n122638                             NaN     0  \n122751                             NaN     0  \n\n[4 rows x 168 columns]",
      "text/html": "<div>\n<style scoped>\n    .dataframe tbody tr th:only-of-type {\n        vertical-align: middle;\n    }\n\n    .dataframe tbody tr th {\n        vertical-align: top;\n    }\n\n    .dataframe thead th {\n        text-align: right;\n    }\n</style>\n<table border=\"1\" class=\"dataframe\">\n  <thead>\n    <tr style=\"text-align: right;\">\n      <th></th>\n      <th>PitchNo</th>\n      <th>Date</th>\n      <th>Time</th>\n      <th>PAofInning</th>\n      <th>PitchofPA</th>\n      <th>Pitcher</th>\n      <th>PitcherId</th>\n      <th>PitcherThrows</th>\n      <th>PitcherTeam</th>\n      <th>Batter</th>\n      <th>...</th>\n      <th>ThrowTrajectoryZc2</th>\n      <th>PitchReleaseConfidence</th>\n      <th>PitchLocationConfidence</th>\n      <th>PitchMovementConfidence</th>\n      <th>HitLaunchConfidence</th>\n      <th>HitLandingConfidence</th>\n      <th>CatcherThrowCatchConfidence</th>\n      <th>CatcherThrowReleaseConfidence</th>\n      <th>CatcherThrowLocationConfidence</th>\n      <th>whiff</th>\n    </tr>\n  </thead>\n  <tbody>\n    <tr>\n      <th>122604</th>\n      <td>27</td>\n      <td>2023-05-12</td>\n      <td>20:05:46.26</td>\n      <td>3.0</td>\n      <td>2.0</td>\n      <td>Vail, Tommy</td>\n      <td>1.000067e+09</td>\n      <td>Left</td>\n      <td>AUB_TIG</td>\n      <td>Gonzalez, Jacob</td>\n      <td>...</td>\n      <td>NaN</td>\n      <td>High</td>\n      <td>High</td>\n      <td>High</td>\n      <td>High</td>\n      <td>Low</td>\n      <td>NaN</td>\n      <td>NaN</td>\n      <td>NaN</td>\n      <td>0</td>\n    </tr>\n    <tr>\n      <th>122632</th>\n      <td>55</td>\n      <td>2023-05-12</td>\n      <td>20:21:25.06</td>\n      <td>2.0</td>\n      <td>1.0</td>\n      <td>Vail, Tommy</td>\n      <td>1.000067e+09</td>\n      <td>Left</td>\n      <td>AUB_TIG</td>\n      <td>Harris, Calvin</td>\n      <td>...</td>\n      <td>NaN</td>\n      <td>High</td>\n      <td>High</td>\n      <td>High</td>\n      <td>NaN</td>\n      <td>NaN</td>\n      <td>NaN</td>\n      <td>NaN</td>\n      <td>NaN</td>\n      <td>0</td>\n    </tr>\n    <tr>\n      <th>122638</th>\n      <td>61</td>\n      <td>2023-05-12</td>\n      <td>20:23:28.98</td>\n      <td>2.0</td>\n      <td>7.0</td>\n      <td>Vail, Tommy</td>\n      <td>1.000067e+09</td>\n      <td>Left</td>\n      <td>AUB_TIG</td>\n      <td>Harris, Calvin</td>\n      <td>...</td>\n      <td>NaN</td>\n      <td>High</td>\n      <td>High</td>\n      <td>High</td>\n      <td>Low</td>\n      <td>Low</td>\n      <td>NaN</td>\n      <td>NaN</td>\n      <td>NaN</td>\n      <td>0</td>\n    </tr>\n    <tr>\n      <th>122751</th>\n      <td>174</td>\n      <td>2023-05-12</td>\n      <td>21:26:04.97</td>\n      <td>3.0</td>\n      <td>1.0</td>\n      <td>Vail, Tommy</td>\n      <td>1.000067e+09</td>\n      <td>Left</td>\n      <td>AUB_TIG</td>\n      <td>Kramer, John</td>\n      <td>...</td>\n      <td>NaN</td>\n      <td>High</td>\n      <td>High</td>\n      <td>High</td>\n      <td>NaN</td>\n      <td>NaN</td>\n      <td>NaN</td>\n      <td>NaN</td>\n      <td>NaN</td>\n      <td>0</td>\n    </tr>\n  </tbody>\n</table>\n<p>4 rows × 168 columns</p>\n</div>"
     },
     "execution_count": 46,
     "metadata": {},
     "output_type": "execute_result"
    }
   ],
   "source": [
    "aub_subsets['Vail, Tommy']"
   ],
   "metadata": {
    "collapsed": false,
    "ExecuteTime": {
     "end_time": "2024-10-07T18:25:16.790511600Z",
     "start_time": "2024-10-07T18:25:16.740449700Z"
    }
   },
   "id": "33f1dc205b2c5f26"
  }
 ],
 "metadata": {
  "kernelspec": {
   "display_name": "Python 3",
   "language": "python",
   "name": "python3"
  },
  "language_info": {
   "codemirror_mode": {
    "name": "ipython",
    "version": 2
   },
   "file_extension": ".py",
   "mimetype": "text/x-python",
   "name": "python",
   "nbconvert_exporter": "python",
   "pygments_lexer": "ipython2",
   "version": "2.7.6"
  }
 },
 "nbformat": 4,
 "nbformat_minor": 5
}
