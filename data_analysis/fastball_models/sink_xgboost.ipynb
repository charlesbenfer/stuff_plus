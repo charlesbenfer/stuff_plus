{
 "cells": [
  {
   "cell_type": "code",
   "execution_count": null,
   "outputs": [],
   "source": [
    "import os\n",
    "import pandas as pd\n",
    "import numpy as np\n",
    "import xgboost\n",
    "from xgboost import XGBClassifier\n",
    "from sklearn.model_selection import train_test_split\n",
    "from sklearn.metrics import accuracy_score, confusion_matrix, precision_score, recall_score, f1_score, roc_auc_score, roc_curve\n",
    "from hyperopt import STATUS_OK, Trials, fmin, hp, tpe\n",
    "import matplotlib.pyplot as plt\n",
    "import seaborn as sns\n",
    "import shap"
   ],
   "metadata": {
    "collapsed": false
   },
   "id": "76721bb980a804d2"
  },
  {
   "cell_type": "code",
   "execution_count": null,
   "outputs": [],
   "source": [
    "csv_dir = '../../SEC Trackman Data/'\n",
    "all_files = [os.path.join(csv_dir, f) for f in os.listdir(csv_dir) if f.endswith('.csv')]\n",
    "\n",
    "df_list = []\n",
    "\n",
    "for file in all_files:\n",
    "    df = pd.read_csv(file)\n",
    "    df_list.append(df)\n",
    "\n",
    "all_pitches = pd.concat(df_list, ignore_index=True)\n",
    "\n",
    "print(all_pitches.shape)\n",
    "print(all_pitches.columns)"
   ],
   "metadata": {
    "collapsed": false
   },
   "id": "4e7906fde6a51746"
  },
  {
   "cell_type": "code",
   "execution_count": null,
   "outputs": [],
   "source": [
    "fs = all_pitches[all_pitches['TaggedPitchType'].isin(['Sinker', 'TwoSeamFastBall'])]\n",
    "print(fs.shape)"
   ],
   "metadata": {
    "collapsed": false
   },
   "id": "a8bd63967cf1d40f"
  },
  {
   "cell_type": "code",
   "execution_count": null,
   "outputs": [],
   "source": [
    "fs['whiff'] = np.where(fs['PitchCall']=='StrikeSwinging',1,0)"
   ],
   "metadata": {
    "collapsed": false
   },
   "id": "870074b44c98c0ba"
  },
  {
   "cell_type": "code",
   "execution_count": null,
   "outputs": [],
   "source": [
    "preds = ['RelSpeed','VertRelAngle','HorzRelAngle','SpinRate','SpinAxis','RelHeight','RelSide','Extension','VertBreak','InducedVertBreak','HorzBreak','ZoneSpeed','VertApprAngle','HorzApprAngle','ZoneTime','pfxx','pfxz','x0','y0','z0','vx0','vy0','vz0','ax0','ay0','az0','SpeedDrop','PitchTrajectoryXc1','PitchTrajectoryXc2','PitchTrajectoryYc0','PitchTrajectoryYc1','PitchTrajectoryYc2','PitchTrajectoryZc0','PitchTrajectoryZc1','PitchTrajectoryZc2']"
   ],
   "metadata": {
    "collapsed": false
   },
   "id": "a69b9e7beeca4a71"
  },
  {
   "cell_type": "code",
   "execution_count": null,
   "outputs": [],
   "source": [
    "fs_X = fs[preds]\n",
    "fs_y = fs['whiff']"
   ],
   "metadata": {
    "collapsed": false
   },
   "id": "d0d43f697cc55c41"
  },
  {
   "cell_type": "code",
   "execution_count": null,
   "outputs": [],
   "source": [
    "X_train, X_test, y_train, y_test = train_test_split(fs_X, fs_y, test_size=.33, random_state=25)\n",
    "\n",
    "model = XGBClassifier()\n",
    "model.fit(X_train, y_train)\n",
    "\n",
    "y_pred = model.predict(X_test)\n",
    "predictions = [round(value) for value in y_pred]\n",
    "\n",
    "accuracy = accuracy_score(y_test, predictions)\n",
    "print(\"Accuracy: %.2f%%\" % (accuracy * 100.0))"
   ],
   "metadata": {
    "collapsed": false
   },
   "id": "130d4af57f82926f"
  },
  {
   "cell_type": "code",
   "execution_count": null,
   "outputs": [],
   "source": [
    "aub_fs = fs[fs['PitcherTeam']=='AUB_TIG']"
   ],
   "metadata": {
    "collapsed": false
   },
   "id": "54d42a0ab7881055"
  },
  {
   "cell_type": "code",
   "execution_count": null,
   "outputs": [],
   "source": [
    "# Get unique values\n",
    "unique_values = fs['Pitcher'].unique()\n",
    "aub_unique_values = aub_fs['Pitcher'].unique()\n",
    "\n",
    "print(aub_unique_values)\n",
    "\n",
    "# Create a dictionary to store subsets\n",
    "all_subsets = {value: fs[fs['Pitcher'] == value] for value in unique_values}\n",
    "\n",
    "aub_subsets = {value: fs[fs['Pitcher'] == value] for value in aub_unique_values}"
   ],
   "metadata": {
    "collapsed": false
   },
   "id": "44737c0388b575ff"
  },
  {
   "cell_type": "code",
   "execution_count": null,
   "outputs": [],
   "source": [
    "def aub_fs_stuff(name):\n",
    "    \n",
    "    preds = ['RelSpeed','VertRelAngle','HorzRelAngle','SpinRate','SpinAxis','RelHeight','RelSide','Extension','VertBreak','InducedVertBreak','HorzBreak','ZoneSpeed','VertApprAngle','HorzApprAngle','ZoneTime','pfxx','pfxz','x0','y0','z0','vx0','vy0','vz0','ax0','ay0','az0','SpeedDrop','PitchTrajectoryXc1','PitchTrajectoryXc2','PitchTrajectoryYc0','PitchTrajectoryYc1','PitchTrajectoryYc2','PitchTrajectoryZc0','PitchTrajectoryZc1','PitchTrajectoryZc2']\n",
    "    \n",
    "    all_preds = model.predict_proba(fs_X)[:,1]\n",
    "    mean_pred = np.mean(all_preds)\n",
    "\n",
    "    pitcher = aub_subsets[name]\n",
    "    pitcher_x = pitcher[preds]\n",
    "\n",
    "    whiff_preds = model.predict_proba(pitcher_x)[:,1]\n",
    "\n",
    "    stuff = whiff_preds/mean_pred\n",
    "    \n",
    "    print(f\"{name} Sinker stuff+: {np.mean(stuff * 100)}\")"
   ],
   "metadata": {
    "collapsed": false
   },
   "id": "6d971fbd1326aa82"
  },
  {
   "cell_type": "code",
   "execution_count": null,
   "outputs": [],
   "source": [
    "for pitcher in aub_unique_values:\n",
    "    aub_fs_stuff(pitcher)"
   ],
   "metadata": {
    "collapsed": false
   },
   "id": "1ef7fd06822e681d"
  },
  {
   "cell_type": "code",
   "execution_count": null,
   "outputs": [],
   "source": [
    "aub_subsets['Cannon, Will']"
   ],
   "metadata": {
    "collapsed": false
   },
   "id": "4528d8123794606f"
  },
  {
   "cell_type": "code",
   "execution_count": null,
   "outputs": [],
   "source": [
    "fs_rr = fs[(fs['PitcherThrows'] == 'Right') & (fs['BatterSide'] == 'Right')]\n",
    "fs_rl = fs[(fs['PitcherThrows'] == 'Right') & (fs['BatterSide'] == 'Left')]\n",
    "fs_lr = fs[(fs['PitcherThrows'] == 'Left') & (fs['BatterSide'] == 'Right')]\n",
    "fs_ll = fs[(fs['PitcherThrows'] == 'Left') & (fs['BatterSide'] == 'Left')]\n",
    "\n",
    "print(fs_rr.shape)\n",
    "print(fs_rl.shape)\n",
    "print(fs_lr.shape)\n",
    "print(fs_ll.shape)"
   ],
   "metadata": {
    "collapsed": false
   },
   "id": "66d9e1c842941cb4"
  },
  {
   "cell_type": "code",
   "execution_count": null,
   "outputs": [],
   "source": [
    "fs_rr['whiff'] = np.where(fs_rr['PitchCall']=='StrikeSwinging',1,0)\n",
    "fs_rl['whiff'] = np.where(fs_rl['PitchCall']=='StrikeSwinging',1,0)\n",
    "fs_lr['whiff'] = np.where(fs_lr['PitchCall']=='StrikeSwinging',1,0)\n",
    "fs_ll['whiff'] = np.where(fs_ll['PitchCall']=='StrikeSwinging',1,0)"
   ],
   "metadata": {
    "collapsed": false
   },
   "id": "6f47886f58c06e52"
  },
  {
   "cell_type": "code",
   "execution_count": null,
   "outputs": [],
   "source": [
    "preds = ['RelSpeed','VertRelAngle','HorzRelAngle','SpinRate','SpinAxis','RelHeight','RelSide','Extension','VertBreak','InducedVertBreak','HorzBreak','ZoneSpeed','VertApprAngle','HorzApprAngle','ZoneTime','pfxx','pfxz','x0','y0','z0','vx0','vy0','vz0','ax0','ay0','az0','SpeedDrop','PitchTrajectoryXc1','PitchTrajectoryXc2','PitchTrajectoryYc0','PitchTrajectoryYc1','PitchTrajectoryYc2','PitchTrajectoryZc0','PitchTrajectoryZc1','PitchTrajectoryZc2']"
   ],
   "metadata": {
    "collapsed": false
   },
   "id": "2ac79afae85c6918"
  },
  {
   "cell_type": "code",
   "execution_count": null,
   "outputs": [],
   "source": [
    "fs_rr_X = fs_rr[preds]\n",
    "fs_rr_y = fs_rr['whiff']"
   ],
   "metadata": {
    "collapsed": false
   },
   "id": "94446033a680a856"
  },
  {
   "cell_type": "code",
   "execution_count": null,
   "outputs": [],
   "source": [
    "X_train, X_test, y_train, y_test = train_test_split(fs_rr_X, fs_rr_y, test_size=.33, random_state=25)\n",
    "\n",
    "model = XGBClassifier()\n",
    "model.fit(X_train, y_train)\n",
    "\n",
    "y_pred = model.predict(X_test)\n",
    "predictions = [round(value) for value in y_pred]\n",
    "\n",
    "accuracy = accuracy_score(y_test, predictions)\n",
    "print(\"Accuracy: %.2f%%\" % (accuracy * 100.0))"
   ],
   "metadata": {
    "collapsed": false
   },
   "id": "a030cdf7cb6729dd"
  },
  {
   "cell_type": "code",
   "execution_count": null,
   "outputs": [],
   "source": [
    "aub_fs_rr = fs_rr[fs_rr['PitcherTeam']=='AUB_TIG']\n",
    "print(aub_fs_rr.shape)"
   ],
   "metadata": {
    "collapsed": false
   },
   "id": "be8a0e3686df122b"
  },
  {
   "cell_type": "code",
   "execution_count": null,
   "outputs": [],
   "source": [
    "# Get unique values\n",
    "unique_values = fs_rr['Pitcher'].unique()\n",
    "aub_unique_values = aub_fs_rr['Pitcher'].unique()\n",
    "\n",
    "print(aub_unique_values)\n",
    "\n",
    "# Create a dictionary to store subsets\n",
    "all_subsets = {value: fs_rr[fs_rr['Pitcher'] == value] for value in unique_values}\n",
    "\n",
    "aub_subsets = {value: fs_rr[fs_rr['Pitcher'] == value] for value in aub_unique_values}"
   ],
   "metadata": {
    "collapsed": false
   },
   "id": "6e9e82971bd2a0e5"
  },
  {
   "cell_type": "code",
   "execution_count": null,
   "outputs": [],
   "source": [
    "def aub_rr_fs_stuff(name):\n",
    "    \n",
    "    preds = ['RelSpeed','VertRelAngle','HorzRelAngle','SpinRate','SpinAxis','RelHeight','RelSide','Extension','VertBreak','InducedVertBreak','HorzBreak','ZoneSpeed','VertApprAngle','HorzApprAngle','ZoneTime','pfxx','pfxz','x0','y0','z0','vx0','vy0','vz0','ax0','ay0','az0','SpeedDrop','PitchTrajectoryXc1','PitchTrajectoryXc2','PitchTrajectoryYc0','PitchTrajectoryYc1','PitchTrajectoryYc2','PitchTrajectoryZc0','PitchTrajectoryZc1','PitchTrajectoryZc2']\n",
    "    \n",
    "    all_preds = model.predict_proba(fs_rr_X)[:,1]\n",
    "    mean_pred = np.mean(all_preds)\n",
    "\n",
    "    pitcher = aub_subsets[name]\n",
    "    pitcher_x = pitcher[preds]\n",
    "\n",
    "    whiff_preds = model.predict_proba(pitcher_x)[:,1]\n",
    "\n",
    "    stuff = whiff_preds/mean_pred\n",
    "    \n",
    "    print(f\"{name} RR Sinker stuff+: {np.mean(stuff * 100)}\")"
   ],
   "metadata": {
    "collapsed": false
   },
   "id": "d6399a9fc70ea107"
  },
  {
   "cell_type": "code",
   "execution_count": null,
   "outputs": [],
   "source": [
    "for pitcher in aub_unique_values:\n",
    "    aub_rr_fs_stuff(pitcher)"
   ],
   "metadata": {
    "collapsed": false
   },
   "id": "28ec3e1439605390"
  },
  {
   "cell_type": "code",
   "execution_count": null,
   "outputs": [],
   "source": [
    "fs_rl_X = fs_rl[preds]\n",
    "fs_rl_y = fs_rl['whiff']"
   ],
   "metadata": {
    "collapsed": false
   },
   "id": "892d73866d120319"
  },
  {
   "cell_type": "code",
   "execution_count": null,
   "outputs": [],
   "source": [
    "X_train, X_test, y_train, y_test = train_test_split(fs_rl_X, fs_rl_y, test_size=.33, random_state=25)\n",
    "\n",
    "model = XGBClassifier()\n",
    "model.fit(X_train, y_train)\n",
    "\n",
    "y_pred = model.predict(X_test)\n",
    "predictions = [round(value) for value in y_pred]\n",
    "\n",
    "accuracy = accuracy_score(y_test, predictions)\n",
    "print(\"Accuracy: %.2f%%\" % (accuracy * 100.0))"
   ],
   "metadata": {
    "collapsed": false
   },
   "id": "b2b57a3d59977874"
  },
  {
   "cell_type": "code",
   "execution_count": null,
   "outputs": [],
   "source": [
    "aub_fs_rl = fs_rl[fs_rl['PitcherTeam']=='AUB_TIG']\n",
    "print(aub_fs_rl.shape)"
   ],
   "metadata": {
    "collapsed": false
   },
   "id": "39d501d755860c5f"
  },
  {
   "cell_type": "code",
   "execution_count": null,
   "outputs": [],
   "source": [
    "# Get unique values\n",
    "unique_values = fs_rl['Pitcher'].unique()\n",
    "aub_unique_values = aub_fs_rl['Pitcher'].unique()\n",
    "\n",
    "print(aub_unique_values)\n",
    "\n",
    "# Create a dictionary to store subsets\n",
    "all_subsets = {value: fs_rl[fs_rl['Pitcher'] == value] for value in unique_values}\n",
    "\n",
    "aub_subsets = {value: fs_rl[fs_rl['Pitcher'] == value] for value in aub_unique_values}"
   ],
   "metadata": {
    "collapsed": false
   },
   "id": "66137ecb236b4e9b"
  },
  {
   "cell_type": "code",
   "execution_count": null,
   "outputs": [],
   "source": [
    "def aub_rl_fs_stuff(name):\n",
    "    \n",
    "    preds = ['RelSpeed','VertRelAngle','HorzRelAngle','SpinRate','SpinAxis','RelHeight','RelSide','Extension','VertBreak','InducedVertBreak','HorzBreak','ZoneSpeed','VertApprAngle','HorzApprAngle','ZoneTime','pfxx','pfxz','x0','y0','z0','vx0','vy0','vz0','ax0','ay0','az0','SpeedDrop','PitchTrajectoryXc1','PitchTrajectoryXc2','PitchTrajectoryYc0','PitchTrajectoryYc1','PitchTrajectoryYc2','PitchTrajectoryZc0','PitchTrajectoryZc1','PitchTrajectoryZc2']\n",
    "    \n",
    "    all_preds = model.predict_proba(fs_rl_X)[:,1]\n",
    "    mean_pred = np.mean(all_preds)\n",
    "\n",
    "    pitcher = aub_subsets[name]\n",
    "    pitcher_x = pitcher[preds]\n",
    "\n",
    "    whiff_preds = model.predict_proba(pitcher_x)[:,1]\n",
    "\n",
    "    stuff = whiff_preds/mean_pred\n",
    "    \n",
    "    print(f\"{name} RL Sinker stuff+: {np.mean(stuff * 100)}\")"
   ],
   "metadata": {
    "collapsed": false
   },
   "id": "57304778b2b199fe"
  },
  {
   "cell_type": "code",
   "execution_count": null,
   "outputs": [],
   "source": [
    "for pitcher in aub_unique_values:\n",
    "    aub_rl_fs_stuff(pitcher)"
   ],
   "metadata": {
    "collapsed": false
   },
   "id": "8c8622898888089b"
  },
  {
   "cell_type": "code",
   "execution_count": null,
   "outputs": [],
   "source": [
    "aub_subsets['Cannon, Will']"
   ],
   "metadata": {
    "collapsed": false
   },
   "id": "61c78e8d964bbced"
  },
  {
   "cell_type": "code",
   "execution_count": null,
   "outputs": [],
   "source": [
    "fs_lr_X = fs_lr[preds]\n",
    "fs_lr_y = fs_lr['whiff']"
   ],
   "metadata": {
    "collapsed": false
   },
   "id": "51068d4f7cb0c1e"
  },
  {
   "cell_type": "code",
   "execution_count": null,
   "outputs": [],
   "source": [
    "X_train, X_test, y_train, y_test = train_test_split(fs_lr_X, fs_lr_y, test_size=.33, random_state=25)\n",
    "\n",
    "model = XGBClassifier()\n",
    "model.fit(X_train, y_train)\n",
    "\n",
    "y_pred = model.predict(X_test)\n",
    "predictions = [round(value) for value in y_pred]\n",
    "\n",
    "accuracy = accuracy_score(y_test, predictions)\n",
    "print(\"Accuracy: %.2f%%\" % (accuracy * 100.0))"
   ],
   "metadata": {
    "collapsed": false
   },
   "id": "b7216b128a7447c8"
  },
  {
   "cell_type": "code",
   "execution_count": null,
   "outputs": [],
   "source": [
    "aub_fs_lr = fs_lr[fs_lr['PitcherTeam']=='AUB_TIG']\n",
    "print(aub_fs_lr.shape)"
   ],
   "metadata": {
    "collapsed": false
   },
   "id": "4c22a9d9a6e12761"
  },
  {
   "cell_type": "code",
   "execution_count": null,
   "outputs": [],
   "source": [
    "# Get unique values\n",
    "unique_values = fs_lr['Pitcher'].unique()\n",
    "aub_unique_values = aub_fs_lr['Pitcher'].unique()\n",
    "\n",
    "print(aub_unique_values)\n",
    "\n",
    "# Create a dictionary to store subsets\n",
    "all_subsets = {value: fs_lr[fs_lr['Pitcher'] == value] for value in unique_values}\n",
    "\n",
    "aub_subsets = {value: fs_lr[fs_lr['Pitcher'] == value] for value in aub_unique_values}"
   ],
   "metadata": {
    "collapsed": false
   },
   "id": "4dbf9923b9875219"
  },
  {
   "cell_type": "code",
   "execution_count": null,
   "outputs": [],
   "source": [
    "def aub_lr_fs_stuff(name):\n",
    "    \n",
    "    preds = ['RelSpeed','VertRelAngle','HorzRelAngle','SpinRate','SpinAxis','RelHeight','RelSide','Extension','VertBreak','InducedVertBreak','HorzBreak','ZoneSpeed','VertApprAngle','HorzApprAngle','ZoneTime','pfxx','pfxz','x0','y0','z0','vx0','vy0','vz0','ax0','ay0','az0','SpeedDrop','PitchTrajectoryXc1','PitchTrajectoryXc2','PitchTrajectoryYc0','PitchTrajectoryYc1','PitchTrajectoryYc2','PitchTrajectoryZc0','PitchTrajectoryZc1','PitchTrajectoryZc2']\n",
    "    \n",
    "    all_preds = model.predict_proba(fs_lr_X)[:,1]\n",
    "    mean_pred = np.mean(all_preds)\n",
    "\n",
    "    pitcher = aub_subsets[name]\n",
    "    pitcher_x = pitcher[preds]\n",
    "\n",
    "    whiff_preds = model.predict_proba(pitcher_x)[:,1]\n",
    "\n",
    "    stuff = whiff_preds/mean_pred\n",
    "    \n",
    "    print(f\"{name} LR Sinker stuff+: {np.mean(stuff * 100)}\")"
   ],
   "metadata": {
    "collapsed": false
   },
   "id": "ad58c31630886b8"
  },
  {
   "cell_type": "code",
   "execution_count": null,
   "outputs": [],
   "source": [
    "for pitcher in aub_unique_values:\n",
    "    aub_lr_fs_stuff(pitcher)"
   ],
   "metadata": {
    "collapsed": false
   },
   "id": "d270abce69ab440d"
  },
  {
   "cell_type": "code",
   "execution_count": null,
   "outputs": [],
   "source": [
    "fs_ll_X = fs_ll[preds]\n",
    "fs_ll_y = fs_ll['whiff']"
   ],
   "metadata": {
    "collapsed": false
   },
   "id": "41cce7d3f0ea5ee7"
  },
  {
   "cell_type": "code",
   "execution_count": null,
   "outputs": [],
   "source": [
    "X_train, X_test, y_train, y_test = train_test_split(fs_ll_X, fs_ll_y, test_size=.33, random_state=25)\n",
    "\n",
    "model = XGBClassifier()\n",
    "model.fit(X_train, y_train)\n",
    "\n",
    "y_pred = model.predict(X_test)\n",
    "predictions = [round(value) for value in y_pred]\n",
    "\n",
    "accuracy = accuracy_score(y_test, predictions)\n",
    "print(\"Accuracy: %.2f%%\" % (accuracy * 100.0))"
   ],
   "metadata": {
    "collapsed": false
   },
   "id": "a8cb61bf28d7d466"
  },
  {
   "cell_type": "code",
   "execution_count": null,
   "outputs": [],
   "source": [
    "aub_fs_ll = fs_ll[fs_ll['PitcherTeam']=='AUB_TIG']\n",
    "print(aub_fs_ll.shape)"
   ],
   "metadata": {
    "collapsed": false
   },
   "id": "f4189b80f9e16b8e"
  },
  {
   "cell_type": "code",
   "execution_count": null,
   "outputs": [],
   "source": [
    "# Get unique values\n",
    "unique_values = fs_ll['Pitcher'].unique()\n",
    "aub_unique_values = aub_fs_ll['Pitcher'].unique()\n",
    "\n",
    "print(aub_unique_values)\n",
    "\n",
    "# Create a dictionary to store subsets\n",
    "all_subsets = {value: fs_ll[fs_ll['Pitcher'] == value] for value in unique_values}\n",
    "\n",
    "aub_subsets = {value: fs_ll[fs_ll['Pitcher'] == value] for value in aub_unique_values}"
   ],
   "metadata": {
    "collapsed": false
   },
   "id": "25a6a3b66bd2d84"
  },
  {
   "cell_type": "code",
   "execution_count": null,
   "outputs": [],
   "source": [
    "def aub_ll_fs_stuff(name):\n",
    "    \n",
    "    preds = ['RelSpeed','VertRelAngle','HorzRelAngle','SpinRate','SpinAxis','RelHeight','RelSide','Extension','VertBreak','InducedVertBreak','HorzBreak','ZoneSpeed','VertApprAngle','HorzApprAngle','ZoneTime','pfxx','pfxz','x0','y0','z0','vx0','vy0','vz0','ax0','ay0','az0','SpeedDrop','PitchTrajectoryXc1','PitchTrajectoryXc2','PitchTrajectoryYc0','PitchTrajectoryYc1','PitchTrajectoryYc2','PitchTrajectoryZc0','PitchTrajectoryZc1','PitchTrajectoryZc2']\n",
    "    \n",
    "    all_preds = model.predict_proba(fs_ll_X)[:,1]\n",
    "    mean_pred = np.mean(all_preds)\n",
    "\n",
    "    pitcher = aub_subsets[name]\n",
    "    pitcher_x = pitcher[preds]\n",
    "\n",
    "    whiff_preds = model.predict_proba(pitcher_x)[:,1]\n",
    "\n",
    "    stuff = whiff_preds/mean_pred\n",
    "    \n",
    "    print(f\"{name} LL Sinker stuff+: {np.mean(stuff * 100)}\")"
   ],
   "metadata": {
    "collapsed": false
   },
   "id": "ee6022f5e25137f4"
  },
  {
   "cell_type": "code",
   "execution_count": null,
   "outputs": [],
   "source": [
    "for pitcher in aub_unique_values:\n",
    "    aub_ll_fs_stuff(pitcher)"
   ],
   "metadata": {
    "collapsed": false
   },
   "id": "5b41034bfeaf46c"
  },
  {
   "cell_type": "code",
   "execution_count": null,
   "outputs": [],
   "source": [
    "aub_subsets['Keplinger, Konner']"
   ],
   "metadata": {
    "collapsed": false
   },
   "id": "b76fb9ea222aa01f"
  },
  {
   "cell_type": "code",
   "execution_count": null,
   "outputs": [],
   "source": [],
   "metadata": {
    "collapsed": false
   },
   "id": "6e5ff9a79db29ef"
  }
 ],
 "metadata": {
  "kernelspec": {
   "display_name": "Python 3",
   "language": "python",
   "name": "python3"
  },
  "language_info": {
   "codemirror_mode": {
    "name": "ipython",
    "version": 2
   },
   "file_extension": ".py",
   "mimetype": "text/x-python",
   "name": "python",
   "nbconvert_exporter": "python",
   "pygments_lexer": "ipython2",
   "version": "2.7.6"
  }
 },
 "nbformat": 4,
 "nbformat_minor": 5
}
