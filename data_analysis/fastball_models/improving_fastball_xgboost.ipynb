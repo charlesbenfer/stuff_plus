{
 "cells": [
  {
   "cell_type": "code",
   "execution_count": null,
   "outputs": [],
   "source": [
    "import pandas as pd\n",
    "import os\n",
    "import numpy as np\n",
    "from xgboost import XGBClassifier\n",
    "from sklearn.model_selection import train_test_split, RandomizedSearchCV\n",
    "from sklearn.metrics import accuracy_score, confusion_matrix, precision_score, recall_score, f1_score, roc_auc_score, roc_curve\n",
    "from sklearn.preprocessing import StandardScaler\n",
    "import scipy.stats as stats\n",
    "import matplotlib.pyplot as plt\n",
    "import seaborn as sns"
   ],
   "metadata": {
    "collapsed": false
   },
   "id": "34f5770b49e682d"
  },
  {
   "cell_type": "markdown",
   "source": [
    "Now, let's see if we can build a better performing model on all the data. We will do so by some hyperparameter tuning"
   ],
   "metadata": {
    "collapsed": false
   },
   "id": "d135160046a7c623"
  },
  {
   "cell_type": "code",
   "execution_count": null,
   "outputs": [],
   "source": [
    "csv_dir = '../../SEC Trackman Data/'\n",
    "all_files = [os.path.join(csv_dir, f) for f in os.listdir(csv_dir) if f.endswith('.csv')]\n",
    "\n",
    "df_list = []\n",
    "\n",
    "for file in all_files:\n",
    "    df = pd.read_csv(file)\n",
    "    df_list.append(df)\n",
    "\n",
    "all_pitches = pd.concat(df_list, ignore_index=True)\n",
    "\n",
    "print(all_pitches.shape)\n",
    "print(all_pitches.columns)"
   ],
   "metadata": {
    "collapsed": false
   },
   "id": "c29144e536a1000"
  },
  {
   "cell_type": "code",
   "execution_count": null,
   "outputs": [],
   "source": [
    "fastballs = all_pitches[all_pitches['TaggedPitchType'].isin(['Fastball','Cutter','Sinker','FourSeamFastBall','TwoSeamFastBall','OneSeamFastBall'])]\n",
    "\n",
    "print(fastballs.shape)"
   ],
   "metadata": {
    "collapsed": false
   },
   "id": "b068dff518ea05c2"
  },
  {
   "cell_type": "code",
   "execution_count": null,
   "outputs": [],
   "source": [
    "fastballs['whiff'] = np.where(fastballs['PitchCall']=='StrikeSwinging',1,0)"
   ],
   "metadata": {
    "collapsed": false
   },
   "id": "d1f0ff69a4d48ee"
  },
  {
   "cell_type": "code",
   "execution_count": null,
   "outputs": [],
   "source": [
    "fb_preds = ['RelSpeed','VertRelAngle','HorzRelAngle','SpinRate','SpinAxis','RelHeight','RelSide','Extension','VertBreak','InducedVertBreak','HorzBreak','ZoneSpeed','VertApprAngle','HorzApprAngle','ZoneTime','pfxx','pfxz','x0','y0','z0','vx0','vy0','vz0','ax0','ay0','az0','SpeedDrop','PitchTrajectoryXc1','PitchTrajectoryXc2','PitchTrajectoryYc0','PitchTrajectoryYc1','PitchTrajectoryYc2','PitchTrajectoryZc0','PitchTrajectoryZc1','PitchTrajectoryZc2']"
   ],
   "metadata": {
    "collapsed": false
   },
   "id": "d92e02048a3f977e"
  },
  {
   "cell_type": "code",
   "execution_count": null,
   "outputs": [],
   "source": [
    "fastballs_X = fastballs[fb_preds]\n",
    "fastballs_y = fastballs['whiff']"
   ],
   "metadata": {
    "collapsed": false
   },
   "id": "9c6f120c08f5bf5"
  },
  {
   "cell_type": "code",
   "execution_count": null,
   "outputs": [],
   "source": [
    "X_train, X_test, y_train, y_test = train_test_split(fastballs_X, fastballs_y, test_size=.33, random_state=25)"
   ],
   "metadata": {
    "collapsed": false
   },
   "id": "ce1c86ede2bd4d88"
  },
  {
   "cell_type": "code",
   "execution_count": null,
   "id": "initial_id",
   "metadata": {
    "collapsed": true,
    "is_executing": true
   },
   "outputs": [],
   "source": [
    "# Define the hyperparameter distributions\n",
    "param_dist = {\n",
    "    'max_depth': stats.randint(3, 10),\n",
    "    'learning_rate': stats.uniform(0.01, 0.1),\n",
    "    'subsample': stats.uniform(0.5, 0.5),\n",
    "    'n_estimators':stats.randint(50, 200)\n",
    "}\n",
    "\n",
    "# Create the XGBoost model object\n",
    "xgb_model = XGBClassifier()\n",
    "\n",
    "# Create the RandomizedSearchCV object\n",
    "random_search = RandomizedSearchCV(xgb_model, param_distributions=param_dist, n_iter=1000, cv=10, scoring='roc_auc')\n",
    "\n",
    "# Fit the RandomizedSearchCV object to the training data\n",
    "random_search.fit(X_train, y_train)\n",
    "\n",
    "# Print the best set of hyperparameters and the corresponding score\n",
    "print(\"Best set of hyperparameters: \", random_search.best_params_)\n",
    "print(\"Best score: \", random_search.best_score_)"
   ]
  },
  {
   "cell_type": "markdown",
   "source": [],
   "metadata": {
    "collapsed": false
   },
   "id": "9a9658b53081cb0f"
  },
  {
   "cell_type": "code",
   "execution_count": null,
   "outputs": [],
   "source": [
    "best_xgb = XGBClassifier(**random_search.best_params_)\n",
    "\n",
    "best_xgb.fit(X_train, y_train)\n",
    "\n",
    "y_pred = best_xgb.predict(X_test)\n",
    "predictions = [round(value) for value in y_pred]\n",
    "\n",
    "accuracy = accuracy_score(y_test, predictions)\n",
    "print(\"Accuracy: %.2f%%\" % (accuracy * 100.0))\n"
   ],
   "metadata": {
    "collapsed": false
   },
   "id": "380c010ff503c4de"
  },
  {
   "cell_type": "code",
   "execution_count": null,
   "outputs": [],
   "source": [
    "cm = confusion_matrix(y_test, predictions)\n",
    "plt.figure(figsize=(10, 4))\n",
    "sns.heatmap(cm, annot=True, fmt='d', cmap='Blues')\n",
    "plt.xlabel('Predicted')\n",
    "plt.ylabel('Actual')\n",
    "plt.title('Confusion Matrix')\n",
    "plt.show()"
   ],
   "metadata": {
    "collapsed": false
   },
   "id": "3341dac468ad6d80"
  },
  {
   "cell_type": "code",
   "execution_count": null,
   "outputs": [],
   "source": [
    "precision = precision_score(y_test, predictions, average='macro')\n",
    "recall = recall_score(y_test, predictions, average='macro')\n",
    "f1 = f1_score(y_test, predictions, average='macro')\n",
    "\n",
    "print(f'Precision: {precision:.4f}')\n",
    "print(f'Recall: {recall:.4f}')\n",
    "print(f'F1 Score: {f1:.4f}')"
   ],
   "metadata": {
    "collapsed": false
   },
   "id": "622449f2538200ba"
  },
  {
   "cell_type": "code",
   "execution_count": null,
   "outputs": [],
   "source": [
    "print(f'F1 Score: {f1:.4f}')\n",
    "y_pred_prob = best_xgb.predict_proba(X_test)[:, 1]\n",
    "roc_auc = roc_auc_score(y_test, predictions, multi_class='ovr')\n",
    "\n",
    "print(f'ROC AUC: {roc_auc:.4f}')\n",
    "\n",
    "# Plotting ROC Curve for one class (e.g., class 0)\n",
    "fpr, tpr, _ = roc_curve(y_test == 0, y_pred_prob)\n",
    "plt.plot(fpr, tpr, label='Class 0 ROC curve')\n",
    "plt.xlabel('False Positive Rate')\n",
    "plt.ylabel('True Positive Rate')\n",
    "plt.title('ROC Curve')\n",
    "plt.legend(loc='best')\n",
    "plt.show()"
   ],
   "metadata": {
    "collapsed": false
   },
   "id": "d72c9ce5e8735cd0"
  },
  {
   "cell_type": "markdown",
   "source": [
    "We can now attempt to improve the model by standardizing the predictors "
   ],
   "metadata": {
    "collapsed": false
   },
   "id": "45940a1337353472"
  },
  {
   "cell_type": "markdown",
   "source": [
    "Even with some hyperparameter optimization, we still do not get a great performing model. It is better, but not amazing. Let's build a model that is trained only on 'competitive pitches' based on their location crossing the plate"
   ],
   "metadata": {
    "collapsed": false
   },
   "id": "7e1f2ade0a573cae"
  },
  {
   "cell_type": "code",
   "execution_count": null,
   "outputs": [],
   "source": [
    "fastballs_comp = fastballs[(np.abs(fastballs['PlateLocSide']) <= 9.97/12) &\n",
    "                           (fastballs['PlateLocHeight'] >= 18.29/12) & (fastballs['PlateLocHeight'] <= 44.08/12)]\n",
    "\n",
    "print(fastballs_comp.shape)"
   ],
   "metadata": {
    "collapsed": false
   },
   "id": "21312eb1dcc93df8"
  },
  {
   "cell_type": "markdown",
   "source": [
    "We can now train the model based on these 'competitive' fastballs (in the universal zone)"
   ],
   "metadata": {
    "collapsed": false
   },
   "id": "c8a6300ec645e8e"
  },
  {
   "cell_type": "code",
   "execution_count": null,
   "outputs": [],
   "source": [
    "comp_fastballs_X = fastballs_comp[preds]\n",
    "comp_fastballs_y = fastballs_comp['whiff']\n",
    "\n",
    "X_train, X_test, y_train, y_test = train_test_split(comp_fastballs_X, comp_fastballs_y, test_size=.33)\n",
    "\n",
    "model = XGBClassifier()\n",
    "model.fit(X_train, y_train)\n",
    "\n",
    "y_pred = model.predict(X_test)\n",
    "predictions = [round(value) for value in y_pred]\n",
    "\n",
    "accuracy = accuracy_score(y_test, predictions)\n",
    "print(\"Accuracy: %.2f%%\" % (accuracy * 100.0))"
   ],
   "metadata": {
    "collapsed": false
   },
   "id": "b64f7596d2db5801"
  },
  {
   "cell_type": "code",
   "execution_count": null,
   "outputs": [],
   "source": [
    "cm = confusion_matrix(y_test, predictions)\n",
    "plt.figure(figsize=(10, 4))\n",
    "sns.heatmap(cm, annot=True, fmt='d')\n",
    "plt.xlabel('Predicted')\n",
    "plt.ylabel('Actual')\n",
    "plt.title('Confusion Matrix')\n",
    "plt.show()"
   ],
   "metadata": {
    "collapsed": false
   },
   "id": "d5097d7d542306b5"
  },
  {
   "cell_type": "code",
   "execution_count": null,
   "outputs": [],
   "source": [
    "plt.show()\n",
    "precision = precision_score(y_test, predictions, average='macro')\n",
    "recall = recall_score(y_test, predictions, average='macro')\n",
    "f1 = f1_score(y_test, predictions, average='macro')\n",
    "\n",
    "print(f'Precision: {precision:.4f}')\n",
    "print(f'Recall: {recall:.4f}')\n",
    "print(f'F1 Score: {f1:.4f}')"
   ],
   "metadata": {
    "collapsed": false
   },
   "id": "4b990542b7acebf7"
  },
  {
   "cell_type": "code",
   "execution_count": null,
   "outputs": [],
   "source": [
    "print(f'F1 Score: {f1:.4f}')\n",
    "y_pred_prob = model.predict_proba(X_test)[:, 1]\n",
    "roc_auc = roc_auc_score(y_test, predictions, multi_class='ovr')\n",
    "\n",
    "print(f'ROC AUC: {roc_auc:.4f}')\n",
    "\n",
    "# Plotting ROC Curve for one class (e.g., class 0)\n",
    "fpr, tpr, _ = roc_curve(y_test == 1, y_pred_prob)\n",
    "plt.plot(fpr, tpr, label='Class 1 ROC curve')\n",
    "plt.xlabel('False Positive Rate')\n",
    "plt.ylabel('True Positive Rate')\n",
    "plt.title('ROC Curve')\n",
    "plt.legend(loc='best')\n",
    "plt.show()"
   ],
   "metadata": {
    "collapsed": false
   },
   "id": "157f1a2cba5ed28d"
  },
  {
   "cell_type": "markdown",
   "source": [
    "Still performs poorly, let's do the same hyperparameter tuning"
   ],
   "metadata": {
    "collapsed": false
   },
   "id": "b739592a6be0dc84"
  },
  {
   "cell_type": "code",
   "execution_count": null,
   "outputs": [],
   "source": [
    "# Define the hyperparameter distributions\n",
    "param_dist = {\n",
    "    'max_depth': stats.randint(3, 10),\n",
    "    'learning_rate': stats.uniform(0.01, 0.1),\n",
    "    'subsample': stats.uniform(0.5, 0.5),\n",
    "    'n_estimators':stats.randint(50, 200)\n",
    "}\n",
    "\n",
    "# Create the XGBoost model object\n",
    "xgb_model = XGBClassifier()\n",
    "\n",
    "# Create the RandomizedSearchCV object\n",
    "random_search = RandomizedSearchCV(xgb_model, param_distributions=param_dist, n_iter=10, cv=5, scoring='roc_auc')\n",
    "\n",
    "# Fit the RandomizedSearchCV object to the training data\n",
    "random_search.fit(X_train, y_train)\n",
    "\n",
    "# Print the best set of hyperparameters and the corresponding score\n",
    "print(\"Best set of hyperparameters: \", random_search.best_params_)\n",
    "print(\"Best score: \", random_search.best_score_)"
   ],
   "metadata": {
    "collapsed": false
   },
   "id": "9ddf52313b112ab4"
  },
  {
   "cell_type": "code",
   "execution_count": null,
   "outputs": [],
   "source": [
    "best_xgb = XGBClassifier(learning_rate=0.040917024300031815, max_depth=7, n_estimators=109, subsample=0.7047730661046687)\n",
    "\n",
    "best_xgb.fit(X_train, y_train)\n",
    "\n",
    "y_pred = best_xgb.predict(X_test)\n",
    "predictions = [round(value) for value in y_pred]\n",
    "\n",
    "accuracy = accuracy_score(y_test, predictions)\n",
    "print(\"Accuracy: %.2f%%\" % (accuracy * 100.0))"
   ],
   "metadata": {
    "collapsed": false
   },
   "id": "3b2cb7974afc51d6"
  },
  {
   "cell_type": "code",
   "execution_count": null,
   "outputs": [],
   "source": [
    "print(f'F1 Score: {f1:.4f}')\n",
    "y_pred_prob = best_xgb.predict_proba(X_test)[:, 1]\n",
    "roc_auc = roc_auc_score(y_test, predictions)\n",
    "\n",
    "print(f'ROC AUC: {roc_auc:.4f}')\n",
    "\n",
    "# Plotting ROC Curve for one class (e.g., class 0)\n",
    "fpr, tpr, _ = roc_curve(y_test == 1, y_pred_prob)\n",
    "plt.plot(fpr, tpr, label='Class 1 ROC curve')\n",
    "plt.xlabel('False Positive Rate')\n",
    "plt.ylabel('True Positive Rate')\n",
    "plt.title('ROC Curve')\n",
    "plt.legend(loc='best')\n",
    "plt.show()"
   ],
   "metadata": {
    "collapsed": false
   },
   "id": "1184282713b8e924"
  }
 ],
 "metadata": {
  "kernelspec": {
   "display_name": "Python 3",
   "language": "python",
   "name": "python3"
  },
  "language_info": {
   "codemirror_mode": {
    "name": "ipython",
    "version": 2
   },
   "file_extension": ".py",
   "mimetype": "text/x-python",
   "name": "python",
   "nbconvert_exporter": "python",
   "pygments_lexer": "ipython2",
   "version": "2.7.6"
  }
 },
 "nbformat": 4,
 "nbformat_minor": 5
}
