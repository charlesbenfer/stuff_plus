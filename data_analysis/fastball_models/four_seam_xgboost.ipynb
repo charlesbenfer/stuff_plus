{
 "cells": [
  {
   "cell_type": "code",
   "id": "initial_id",
   "metadata": {
    "collapsed": true,
    "ExecuteTime": {
     "end_time": "2024-10-12T23:51:25.179601Z",
     "start_time": "2024-10-12T23:51:24.407272Z"
    }
   },
   "source": [
    "import os\n",
    "import pandas as pd\n",
    "import numpy as np\n",
    "import xgboost\n",
    "from xgboost import XGBClassifier\n",
    "from sklearn.model_selection import train_test_split\n",
    "from sklearn.metrics import accuracy_score, confusion_matrix, precision_score, recall_score, f1_score, roc_auc_score, roc_curve\n",
    "from hyperopt import STATUS_OK, Trials, fmin, hp, tpe\n",
    "import matplotlib.pyplot as plt\n",
    "import seaborn as sns\n",
    "import shap"
   ],
   "outputs": [],
   "execution_count": 1
  },
  {
   "cell_type": "code",
   "source": [
    "csv_dir = '../../SEC Trackman Data/'\n",
    "all_files = [os.path.join(csv_dir, f) for f in os.listdir(csv_dir) if f.endswith('.csv')]\n",
    "\n",
    "df_list = []\n",
    "\n",
    "for file in all_files:\n",
    "    df = pd.read_csv(file)\n",
    "    df_list.append(df)\n",
    "\n",
    "all_pitches = pd.concat(df_list, ignore_index=True)\n",
    "\n",
    "print(all_pitches.shape)\n",
    "print(all_pitches.columns)"
   ],
   "metadata": {
    "collapsed": false,
    "ExecuteTime": {
     "end_time": "2024-10-12T23:51:29.043386Z",
     "start_time": "2024-10-12T23:51:25.181864Z"
    }
   },
   "id": "e30e9c1ae364f5c3",
   "outputs": [
    {
     "name": "stdout",
     "output_type": "stream",
     "text": [
      "(270589, 167)\n",
      "Index(['PitchNo', 'Date', 'Time', 'PAofInning', 'PitchofPA', 'Pitcher',\n",
      "       'PitcherId', 'PitcherThrows', 'PitcherTeam', 'Batter',\n",
      "       ...\n",
      "       'ThrowTrajectoryZc1', 'ThrowTrajectoryZc2', 'PitchReleaseConfidence',\n",
      "       'PitchLocationConfidence', 'PitchMovementConfidence',\n",
      "       'HitLaunchConfidence', 'HitLandingConfidence',\n",
      "       'CatcherThrowCatchConfidence', 'CatcherThrowReleaseConfidence',\n",
      "       'CatcherThrowLocationConfidence'],\n",
      "      dtype='object', length=167)\n"
     ]
    }
   ],
   "execution_count": 2
  },
  {
   "cell_type": "code",
   "source": [
    "ffs = all_pitches[all_pitches['TaggedPitchType'].isin(['FourSeamFastBall', 'Fastball'])]\n",
    "print(ffs.shape)"
   ],
   "metadata": {
    "collapsed": false,
    "ExecuteTime": {
     "end_time": "2024-10-12T23:51:29.237052Z",
     "start_time": "2024-10-12T23:51:29.166246Z"
    }
   },
   "id": "444f3848215c6482",
   "outputs": [
    {
     "name": "stdout",
     "output_type": "stream",
     "text": [
      "(125719, 167)\n"
     ]
    }
   ],
   "execution_count": 3
  },
  {
   "cell_type": "code",
   "source": [
    "ffs['whiff'] = np.where(ffs['PitchCall']=='StrikeSwinging',1,0)"
   ],
   "metadata": {
    "collapsed": false,
    "ExecuteTime": {
     "end_time": "2024-10-12T23:51:31.048962Z",
     "start_time": "2024-10-12T23:51:31.033694Z"
    }
   },
   "id": "b4c7f0c1404d490",
   "outputs": [
    {
     "name": "stderr",
     "output_type": "stream",
     "text": [
      "/tmp/ipykernel_19284/3136182571.py:1: SettingWithCopyWarning: \n",
      "A value is trying to be set on a copy of a slice from a DataFrame.\n",
      "Try using .loc[row_indexer,col_indexer] = value instead\n",
      "\n",
      "See the caveats in the documentation: https://pandas.pydata.org/pandas-docs/stable/user_guide/indexing.html#returning-a-view-versus-a-copy\n",
      "  ffs['whiff'] = np.where(ffs['PitchCall']=='StrikeSwinging',1,0)\n"
     ]
    }
   ],
   "execution_count": 4
  },
  {
   "cell_type": "code",
   "source": [
    "preds = ['RelSpeed','VertRelAngle','HorzRelAngle','SpinRate','SpinAxis','RelHeight','RelSide','Extension','VertBreak','InducedVertBreak','HorzBreak','ZoneSpeed','VertApprAngle','HorzApprAngle','ZoneTime','pfxx','pfxz','x0','y0','z0','vx0','vy0','vz0','ax0','ay0','az0','SpeedDrop','PitchTrajectoryXc1','PitchTrajectoryXc2','PitchTrajectoryYc0','PitchTrajectoryYc1','PitchTrajectoryYc2','PitchTrajectoryZc0','PitchTrajectoryZc1','PitchTrajectoryZc2']"
   ],
   "metadata": {
    "collapsed": false,
    "ExecuteTime": {
     "end_time": "2024-10-12T23:51:32.313495Z",
     "start_time": "2024-10-12T23:51:32.308730Z"
    }
   },
   "id": "4aa1a64ef9ffd1ed",
   "outputs": [],
   "execution_count": 5
  },
  {
   "cell_type": "code",
   "source": [
    "ffs_X = ffs[preds]\n",
    "ffs_y = ffs['whiff']"
   ],
   "metadata": {
    "collapsed": false,
    "ExecuteTime": {
     "end_time": "2024-10-12T23:51:33.592459Z",
     "start_time": "2024-10-12T23:51:33.580028Z"
    }
   },
   "id": "77852724d871ed07",
   "outputs": [],
   "execution_count": 6
  },
  {
   "cell_type": "code",
   "source": [
    "X_train, X_test, y_train, y_test = train_test_split(ffs_X, ffs_y, test_size=.33, random_state=25)\n",
    "\n",
    "model = XGBClassifier()\n",
    "model.fit(X_train, y_train)\n",
    "\n",
    "y_pred = model.predict(X_test)\n",
    "predictions = [round(value) for value in y_pred]\n",
    "\n",
    "accuracy = accuracy_score(y_test, predictions)\n",
    "print(\"Accuracy: %.2f%%\" % (accuracy * 100.0))"
   ],
   "metadata": {
    "collapsed": false,
    "ExecuteTime": {
     "end_time": "2024-10-12T23:51:36.463750Z",
     "start_time": "2024-10-12T23:51:35.795250Z"
    }
   },
   "id": "4d08d18b66536cc9",
   "outputs": [
    {
     "name": "stdout",
     "output_type": "stream",
     "text": [
      "Accuracy: 90.82%\n"
     ]
    }
   ],
   "execution_count": 7
  },
  {
   "cell_type": "code",
   "source": [
    "aub_ffs = ffs[ffs['PitcherTeam']=='AUB_TIG']"
   ],
   "metadata": {
    "collapsed": false,
    "ExecuteTime": {
     "end_time": "2024-10-12T23:51:40.326801Z",
     "start_time": "2024-10-12T23:51:40.314967Z"
    }
   },
   "id": "85ba3b2316b290a0",
   "outputs": [],
   "execution_count": 8
  },
  {
   "cell_type": "code",
   "source": [
    "# Get unique values\n",
    "unique_values = ffs['Pitcher'].unique()\n",
    "aub_unique_values = aub_ffs['Pitcher'].unique()\n",
    "\n",
    "print(aub_unique_values)\n",
    "\n",
    "# Create a dictionary to store subsets\n",
    "all_subsets = {value: ffs[ffs['Pitcher'] == value] for value in unique_values}\n",
    "\n",
    "aub_subsets = {value: ffs[ffs['Pitcher'] == value] for value in aub_unique_values}"
   ],
   "metadata": {
    "collapsed": false,
    "ExecuteTime": {
     "end_time": "2024-10-12T23:51:47.840804Z",
     "start_time": "2024-10-12T23:51:41.084283Z"
    }
   },
   "id": "2c7c7a80854cbae5",
   "outputs": [
    {
     "name": "stdout",
     "output_type": "stream",
     "text": [
      "['Herberholz, Christian' 'Nelson, Drew' 'Horne, Trevor' 'Olson, Ryan'\n",
      " 'Carlson, Parker' 'Keshock, Cameron' 'Armstrong, John' 'Vail, Tommy'\n",
      " 'Bauman, Tanner' 'Cannon, Will' 'Myers, Carson' 'Tilly, Cameron'\n",
      " 'Allsup, Chase' 'McBride, Connor' 'Isbell, Chase' 'Murphy, Hayden'\n",
      " 'Graves, Griffin' 'Watts, Dylan' 'Crotchfelt, Zach' 'Copeland, Konner'\n",
      " 'Petrovic, Alexander' 'Schorr, Ben' 'Gonzalez, Joseph' 'Sheehan, Tommy']\n"
     ]
    }
   ],
   "execution_count": 9
  },
  {
   "cell_type": "code",
   "source": [
    "def aub_ffs_stuff(name):\n",
    "    \n",
    "    preds = ['RelSpeed','VertRelAngle','HorzRelAngle','SpinRate','SpinAxis','RelHeight','RelSide','Extension','VertBreak','InducedVertBreak','HorzBreak','ZoneSpeed','VertApprAngle','HorzApprAngle','ZoneTime','pfxx','pfxz','x0','y0','z0','vx0','vy0','vz0','ax0','ay0','az0','SpeedDrop','PitchTrajectoryXc1','PitchTrajectoryXc2','PitchTrajectoryYc0','PitchTrajectoryYc1','PitchTrajectoryYc2','PitchTrajectoryZc0','PitchTrajectoryZc1','PitchTrajectoryZc2']\n",
    "    \n",
    "    all_preds = model.predict_proba(ffs_X)[:,1]\n",
    "    mean_pred = np.mean(all_preds)\n",
    "\n",
    "    pitcher = aub_subsets[name]\n",
    "    pitcher_x = pitcher[preds]\n",
    "\n",
    "    whiff_preds = model.predict_proba(pitcher_x)[:,1]\n",
    "\n",
    "    stuff = whiff_preds/mean_pred\n",
    "    \n",
    "    print(f\"{name} Four Seam stuff+: {np.mean(stuff * 100)}\")"
   ],
   "metadata": {
    "collapsed": false,
    "ExecuteTime": {
     "end_time": "2024-10-12T23:51:47.845259Z",
     "start_time": "2024-10-12T23:51:47.843404Z"
    }
   },
   "id": "5345e83743a825b5",
   "outputs": [],
   "execution_count": 10
  },
  {
   "cell_type": "code",
   "source": [
    "for pitcher in aub_unique_values:\n",
    "    aub_ffs_stuff(pitcher)"
   ],
   "metadata": {
    "collapsed": false,
    "ExecuteTime": {
     "end_time": "2024-10-12T23:51:48.557750Z",
     "start_time": "2024-10-12T23:51:48.028077Z"
    }
   },
   "id": "91fbdb5c0b6bb930",
   "outputs": [
    {
     "name": "stdout",
     "output_type": "stream",
     "text": [
      "Herberholz, Christian Four Seam stuff+: 105.56941223144531\n",
      "Nelson, Drew Four Seam stuff+: 95.07010650634766\n",
      "Horne, Trevor Four Seam stuff+: 102.4990234375\n",
      "Olson, Ryan Four Seam stuff+: 53.18757247924805\n",
      "Carlson, Parker Four Seam stuff+: 80.93983459472656\n",
      "Keshock, Cameron Four Seam stuff+: 76.22998046875\n",
      "Armstrong, John Four Seam stuff+: 85.54305267333984\n",
      "Vail, Tommy Four Seam stuff+: 186.03330993652344\n",
      "Bauman, Tanner Four Seam stuff+: 72.12655639648438\n",
      "Cannon, Will Four Seam stuff+: 110.87004089355469\n",
      "Myers, Carson Four Seam stuff+: 71.81211853027344\n",
      "Tilly, Cameron Four Seam stuff+: 108.04875183105469\n",
      "Allsup, Chase Four Seam stuff+: 135.01699829101562\n",
      "McBride, Connor Four Seam stuff+: 120.2344741821289\n",
      "Isbell, Chase Four Seam stuff+: 82.7505111694336\n",
      "Murphy, Hayden Four Seam stuff+: 90.80268096923828\n",
      "Graves, Griffin Four Seam stuff+: 143.97718811035156\n",
      "Watts, Dylan Four Seam stuff+: 84.56826782226562\n",
      "Crotchfelt, Zach Four Seam stuff+: 135.53079223632812\n",
      "Copeland, Konner Four Seam stuff+: 85.43192291259766\n",
      "Petrovic, Alexander Four Seam stuff+: 78.00935363769531\n",
      "Schorr, Ben Four Seam stuff+: 59.82262420654297\n",
      "Gonzalez, Joseph Four Seam stuff+: 67.57061767578125\n",
      "Sheehan, Tommy Four Seam stuff+: 53.637115478515625\n"
     ]
    }
   ],
   "execution_count": 11
  },
  {
   "cell_type": "code",
   "execution_count": null,
   "outputs": [],
   "source": [
    "aub_subsets['Keplinger, Konner']"
   ],
   "metadata": {
    "collapsed": false
   },
   "id": "af110582a10e39e7"
  },
  {
   "metadata": {
    "ExecuteTime": {
     "end_time": "2024-10-12T23:52:41.601979Z",
     "start_time": "2024-10-12T23:52:41.587726Z"
    }
   },
   "cell_type": "code",
   "source": [
    "import joblib\n",
    "\n",
    "joblib.dump(model, '../../models/fourseam_all_model.pkl')"
   ],
   "id": "59e1b05f8541c153",
   "outputs": [
    {
     "data": {
      "text/plain": [
       "['../../models/fourseam_all_model.pkl']"
      ]
     },
     "execution_count": 12,
     "metadata": {},
     "output_type": "execute_result"
    }
   ],
   "execution_count": 12
  },
  {
   "cell_type": "code",
   "source": [
    "ffs_rr = ffs[(ffs['PitcherThrows'] == 'Right') & (ffs['BatterSide'] == 'Right')]\n",
    "ffs_rl = ffs[(ffs['PitcherThrows'] == 'Right') & (ffs['BatterSide'] == 'Left')]\n",
    "ffs_lr = ffs[(ffs['PitcherThrows'] == 'Left') & (ffs['BatterSide'] == 'Right')]\n",
    "ffs_ll = ffs[(ffs['PitcherThrows'] == 'Left') & (ffs['BatterSide'] == 'Left')]\n",
    "\n",
    "print(ffs_rr.shape)\n",
    "print(ffs_rl.shape)\n",
    "print(ffs_lr.shape)\n",
    "print(ffs_ll.shape)"
   ],
   "metadata": {
    "collapsed": false,
    "ExecuteTime": {
     "end_time": "2024-10-12T23:52:54.763942Z",
     "start_time": "2024-10-12T23:52:54.642867Z"
    }
   },
   "id": "2c50bd26fd44fb48",
   "outputs": [
    {
     "name": "stdout",
     "output_type": "stream",
     "text": [
      "(47555, 168)\n",
      "(36801, 168)\n",
      "(26799, 168)\n",
      "(14427, 168)\n"
     ]
    }
   ],
   "execution_count": 13
  },
  {
   "cell_type": "code",
   "source": [
    "ffs_rr['whiff'] = np.where(ffs_rr['PitchCall']=='StrikeSwinging',1,0)\n",
    "ffs_rl['whiff'] = np.where(ffs_rl['PitchCall']=='StrikeSwinging',1,0)\n",
    "ffs_lr['whiff'] = np.where(ffs_lr['PitchCall']=='StrikeSwinging',1,0)\n",
    "ffs_ll['whiff'] = np.where(ffs_ll['PitchCall']=='StrikeSwinging',1,0)"
   ],
   "metadata": {
    "collapsed": false,
    "ExecuteTime": {
     "end_time": "2024-10-12T23:52:55.733971Z",
     "start_time": "2024-10-12T23:52:55.727964Z"
    }
   },
   "id": "763cdeac03de9e52",
   "outputs": [
    {
     "name": "stderr",
     "output_type": "stream",
     "text": [
      "/tmp/ipykernel_19284/2915248739.py:1: SettingWithCopyWarning: \n",
      "A value is trying to be set on a copy of a slice from a DataFrame.\n",
      "Try using .loc[row_indexer,col_indexer] = value instead\n",
      "\n",
      "See the caveats in the documentation: https://pandas.pydata.org/pandas-docs/stable/user_guide/indexing.html#returning-a-view-versus-a-copy\n",
      "  ffs_rr['whiff'] = np.where(ffs_rr['PitchCall']=='StrikeSwinging',1,0)\n",
      "/tmp/ipykernel_19284/2915248739.py:2: SettingWithCopyWarning: \n",
      "A value is trying to be set on a copy of a slice from a DataFrame.\n",
      "Try using .loc[row_indexer,col_indexer] = value instead\n",
      "\n",
      "See the caveats in the documentation: https://pandas.pydata.org/pandas-docs/stable/user_guide/indexing.html#returning-a-view-versus-a-copy\n",
      "  ffs_rl['whiff'] = np.where(ffs_rl['PitchCall']=='StrikeSwinging',1,0)\n",
      "/tmp/ipykernel_19284/2915248739.py:3: SettingWithCopyWarning: \n",
      "A value is trying to be set on a copy of a slice from a DataFrame.\n",
      "Try using .loc[row_indexer,col_indexer] = value instead\n",
      "\n",
      "See the caveats in the documentation: https://pandas.pydata.org/pandas-docs/stable/user_guide/indexing.html#returning-a-view-versus-a-copy\n",
      "  ffs_lr['whiff'] = np.where(ffs_lr['PitchCall']=='StrikeSwinging',1,0)\n",
      "/tmp/ipykernel_19284/2915248739.py:4: SettingWithCopyWarning: \n",
      "A value is trying to be set on a copy of a slice from a DataFrame.\n",
      "Try using .loc[row_indexer,col_indexer] = value instead\n",
      "\n",
      "See the caveats in the documentation: https://pandas.pydata.org/pandas-docs/stable/user_guide/indexing.html#returning-a-view-versus-a-copy\n",
      "  ffs_ll['whiff'] = np.where(ffs_ll['PitchCall']=='StrikeSwinging',1,0)\n"
     ]
    }
   ],
   "execution_count": 14
  },
  {
   "cell_type": "code",
   "source": [
    "preds = ['RelSpeed','VertRelAngle','HorzRelAngle','SpinRate','SpinAxis','RelHeight','RelSide','Extension','VertBreak','InducedVertBreak','HorzBreak','ZoneSpeed','VertApprAngle','HorzApprAngle','ZoneTime','pfxx','pfxz','x0','y0','z0','vx0','vy0','vz0','ax0','ay0','az0','SpeedDrop','PitchTrajectoryXc1','PitchTrajectoryXc2','PitchTrajectoryYc0','PitchTrajectoryYc1','PitchTrajectoryYc2','PitchTrajectoryZc0','PitchTrajectoryZc1','PitchTrajectoryZc2']"
   ],
   "metadata": {
    "collapsed": false,
    "ExecuteTime": {
     "end_time": "2024-10-12T23:52:57.473562Z",
     "start_time": "2024-10-12T23:52:57.471276Z"
    }
   },
   "id": "9a6d43a4a456dce4",
   "outputs": [],
   "execution_count": 15
  },
  {
   "cell_type": "code",
   "source": [
    "ffs_rr_X = ffs_rr[preds]\n",
    "ffs_rr_y = ffs_rr['whiff']"
   ],
   "metadata": {
    "collapsed": false,
    "ExecuteTime": {
     "end_time": "2024-10-12T23:52:58.664347Z",
     "start_time": "2024-10-12T23:52:58.652721Z"
    }
   },
   "id": "31cd3f963ab715e1",
   "outputs": [],
   "execution_count": 16
  },
  {
   "cell_type": "code",
   "source": [
    "X_train, X_test, y_train, y_test = train_test_split(ffs_rr_X, ffs_rr_y, test_size=.33, random_state=25)\n",
    "\n",
    "model = XGBClassifier()\n",
    "model.fit(X_train, y_train)\n",
    "\n",
    "y_pred = model.predict(X_test)\n",
    "predictions = [round(value) for value in y_pred]\n",
    "\n",
    "accuracy = accuracy_score(y_test, predictions)\n",
    "print(\"Accuracy: %.2f%%\" % (accuracy * 100.0))"
   ],
   "metadata": {
    "collapsed": false,
    "ExecuteTime": {
     "end_time": "2024-10-12T23:53:03.259921Z",
     "start_time": "2024-10-12T23:53:02.719360Z"
    }
   },
   "id": "1fd5cb925e76201e",
   "outputs": [
    {
     "name": "stdout",
     "output_type": "stream",
     "text": [
      "Accuracy: 90.89%\n"
     ]
    }
   ],
   "execution_count": 17
  },
  {
   "metadata": {
    "ExecuteTime": {
     "end_time": "2024-10-12T23:53:22.628975Z",
     "start_time": "2024-10-12T23:53:22.625951Z"
    }
   },
   "cell_type": "code",
   "source": [
    "import joblib\n",
    "\n",
    "joblib.dump(model, '../../models/fourseam_rr_model.pkl')"
   ],
   "id": "79f025ad88ab92a0",
   "outputs": [
    {
     "data": {
      "text/plain": [
       "['../../models/fourseam_rr_model.pkl']"
      ]
     },
     "execution_count": 19,
     "metadata": {},
     "output_type": "execute_result"
    }
   ],
   "execution_count": 19
  },
  {
   "cell_type": "code",
   "source": [
    "y_pred_prob = model.predict_proba(X_test)[:,1]\n",
    "roc_auc = roc_auc_score(y_test, predictions, multi_class='ovr')\n",
    "\n",
    "print(f'ROC AUC: {roc_auc:.4f}')\n",
    "\n",
    "# Plotting ROC Curve for one class (e.g., class 0)\n",
    "fpr, tpr, _ = roc_curve(y_test == 1, y_pred_prob)\n",
    "plt.plot(fpr, tpr, label='Class 0 ROC curve')\n",
    "plt.xlabel('False Positive Rate')\n",
    "plt.ylabel('True Positive Rate')\n",
    "plt.title('ROC Curve')\n",
    "plt.legend(loc='best')\n",
    "plt.show()"
   ],
   "metadata": {
    "collapsed": false,
    "ExecuteTime": {
     "end_time": "2024-10-12T23:53:10.253158Z",
     "start_time": "2024-10-12T23:53:10.155454Z"
    }
   },
   "id": "18b554bae750bebf",
   "outputs": [
    {
     "name": "stdout",
     "output_type": "stream",
     "text": [
      "ROC AUC: 0.5088\n"
     ]
    },
    {
     "data": {
      "text/plain": [
       "<Figure size 640x480 with 1 Axes>"
      ],
      "image/png": "[encoded data removed]"
     },
     "metadata": {},
     "output_type": "display_data"
    }
   ],
   "execution_count": 18
  },
  {
   "cell_type": "code",
   "source": [
    "aub_ffs_rr = ffs_rr[ffs_rr['PitcherTeam']=='AUB_TIG']\n",
    "print(aub_ffs_rr.shape)"
   ],
   "metadata": {
    "collapsed": false,
    "ExecuteTime": {
     "end_time": "2024-10-12T23:53:30.140123Z",
     "start_time": "2024-10-12T23:53:30.121276Z"
    }
   },
   "id": "64cbb1b2dfadae86",
   "outputs": [
    {
     "name": "stdout",
     "output_type": "stream",
     "text": [
      "(2400, 168)\n"
     ]
    }
   ],
   "execution_count": 20
  },
  {
   "cell_type": "code",
   "source": [
    "# Get unique values\n",
    "unique_values = ffs_rr['Pitcher'].unique()\n",
    "aub_unique_values = aub_ffs_rr['Pitcher'].unique()\n",
    "\n",
    "print(aub_unique_values)\n",
    "\n",
    "# Create a dictionary to store subsets\n",
    "all_subsets = {value: ffs_rr[ffs_rr['Pitcher'] == value] for value in unique_values}\n",
    "\n",
    "aub_subsets = {value: ffs_rr[ffs_rr['Pitcher'] == value] for value in aub_unique_values}"
   ],
   "metadata": {
    "collapsed": false,
    "ExecuteTime": {
     "end_time": "2024-10-12T23:53:33.114574Z",
     "start_time": "2024-10-12T23:53:31.031828Z"
    }
   },
   "id": "7738968264671b39",
   "outputs": [
    {
     "name": "stdout",
     "output_type": "stream",
     "text": [
      "['Herberholz, Christian' 'Horne, Trevor' 'Olson, Ryan' 'Carlson, Parker'\n",
      " 'Keshock, Cameron' 'Armstrong, John' 'Cannon, Will' 'Tilly, Cameron'\n",
      " 'Allsup, Chase' 'McBride, Connor' 'Isbell, Chase' 'Murphy, Hayden'\n",
      " 'Watts, Dylan' 'Petrovic, Alexander' 'Gonzalez, Joseph' 'Schorr, Ben']\n"
     ]
    }
   ],
   "execution_count": 21
  },
  {
   "cell_type": "code",
   "source": [
    "def aub_rr_ffs_stuff(name):\n",
    "    \n",
    "    preds = ['RelSpeed','VertRelAngle','HorzRelAngle','SpinRate','SpinAxis','RelHeight','RelSide','Extension','VertBreak','InducedVertBreak','HorzBreak','ZoneSpeed','VertApprAngle','HorzApprAngle','ZoneTime','pfxx','pfxz','x0','y0','z0','vx0','vy0','vz0','ax0','ay0','az0','SpeedDrop','PitchTrajectoryXc1','PitchTrajectoryXc2','PitchTrajectoryYc0','PitchTrajectoryYc1','PitchTrajectoryYc2','PitchTrajectoryZc0','PitchTrajectoryZc1','PitchTrajectoryZc2']\n",
    "    \n",
    "    all_preds = model.predict_proba(ffs_rr_X)[:,1]\n",
    "    mean_pred = np.mean(all_preds)\n",
    "\n",
    "    pitcher = aub_subsets[name]\n",
    "    pitcher_x = pitcher[preds]\n",
    "\n",
    "    whiff_preds = model.predict_proba(pitcher_x)[:,1]\n",
    "\n",
    "    stuff = whiff_preds/mean_pred\n",
    "    \n",
    "    print(f\"{name} RR Four Seam stuff+: {np.mean(stuff * 100)}\")"
   ],
   "metadata": {
    "collapsed": false,
    "ExecuteTime": {
     "end_time": "2024-10-12T23:53:33.118562Z",
     "start_time": "2024-10-12T23:53:33.116702Z"
    }
   },
   "id": "6e33b8eb1b6c9bce",
   "outputs": [],
   "execution_count": 22
  },
  {
   "cell_type": "code",
   "source": [
    "for pitcher in aub_unique_values:\n",
    "    aub_rr_ffs_stuff(pitcher)"
   ],
   "metadata": {
    "collapsed": false,
    "ExecuteTime": {
     "end_time": "2024-10-12T23:53:33.805524Z",
     "start_time": "2024-10-12T23:53:33.609596Z"
    }
   },
   "id": "f5246b9f3e5aff9a",
   "outputs": [
    {
     "name": "stdout",
     "output_type": "stream",
     "text": [
      "Herberholz, Christian RR Four Seam stuff+: 89.30109405517578\n",
      "Horne, Trevor RR Four Seam stuff+: 122.75839233398438\n",
      "Olson, Ryan RR Four Seam stuff+: 83.78729248046875\n",
      "Carlson, Parker RR Four Seam stuff+: 68.20626831054688\n",
      "Keshock, Cameron RR Four Seam stuff+: 158.83114624023438\n",
      "Armstrong, John RR Four Seam stuff+: 70.21876525878906\n",
      "Cannon, Will RR Four Seam stuff+: 95.5855484008789\n",
      "Tilly, Cameron RR Four Seam stuff+: 107.64210510253906\n",
      "Allsup, Chase RR Four Seam stuff+: 130.3473663330078\n",
      "McBride, Connor RR Four Seam stuff+: 87.9650650024414\n",
      "Isbell, Chase RR Four Seam stuff+: 71.78107452392578\n",
      "Murphy, Hayden RR Four Seam stuff+: 73.97808837890625\n",
      "Watts, Dylan RR Four Seam stuff+: 95.52584838867188\n",
      "Petrovic, Alexander RR Four Seam stuff+: 51.7245979309082\n",
      "Gonzalez, Joseph RR Four Seam stuff+: 96.84825897216797\n",
      "Schorr, Ben RR Four Seam stuff+: 47.51643753051758\n"
     ]
    }
   ],
   "execution_count": 23
  },
  {
   "cell_type": "code",
   "source": [
    "ffs_rl_X = ffs_rl[preds]\n",
    "ffs_rl_y = ffs_rl['whiff']"
   ],
   "metadata": {
    "collapsed": false,
    "ExecuteTime": {
     "end_time": "2024-10-12T23:53:36.896214Z",
     "start_time": "2024-10-12T23:53:36.893184Z"
    }
   },
   "id": "9055dc334c8a7eb2",
   "outputs": [],
   "execution_count": 24
  },
  {
   "cell_type": "code",
   "source": [
    "X_train, X_test, y_train, y_test = train_test_split(ffs_rl_X, ffs_rl_y, test_size=.33, random_state=25)\n",
    "\n",
    "model = XGBClassifier()\n",
    "model.fit(X_train, y_train)\n",
    "\n",
    "y_pred = model.predict(X_test)\n",
    "predictions = [round(value) for value in y_pred]\n",
    "\n",
    "accuracy = accuracy_score(y_test, predictions)\n",
    "print(\"Accuracy: %.2f%%\" % (accuracy * 100.0))"
   ],
   "metadata": {
    "collapsed": false,
    "ExecuteTime": {
     "end_time": "2024-10-12T23:53:38.484932Z",
     "start_time": "2024-10-12T23:53:37.985744Z"
    }
   },
   "id": "bf7757328119f3ca",
   "outputs": [
    {
     "name": "stdout",
     "output_type": "stream",
     "text": [
      "Accuracy: 90.61%\n"
     ]
    }
   ],
   "execution_count": 25
  },
  {
   "metadata": {
    "ExecuteTime": {
     "end_time": "2024-10-12T23:54:05.067445Z",
     "start_time": "2024-10-12T23:54:05.059952Z"
    }
   },
   "cell_type": "code",
   "source": [
    "import joblib\n",
    "\n",
    "joblib.dump(model, '../../models/fourseam_rl_model.pkl')"
   ],
   "id": "6757f7c56492670e",
   "outputs": [
    {
     "data": {
      "text/plain": [
       "['../../models/fourseam_rl_model.pkl']"
      ]
     },
     "execution_count": 30,
     "metadata": {},
     "output_type": "execute_result"
    }
   ],
   "execution_count": 30
  },
  {
   "cell_type": "code",
   "source": [
    "aub_ffs_rl = ffs_rl[ffs_rl['PitcherTeam']=='AUB_TIG']\n",
    "print(aub_ffs_rl.shape)"
   ],
   "metadata": {
    "collapsed": false,
    "ExecuteTime": {
     "end_time": "2024-10-12T23:53:39.288483Z",
     "start_time": "2024-10-12T23:53:39.283658Z"
    }
   },
   "id": "1f2602773026c4ce",
   "outputs": [
    {
     "name": "stdout",
     "output_type": "stream",
     "text": [
      "(1882, 168)\n"
     ]
    }
   ],
   "execution_count": 26
  },
  {
   "cell_type": "code",
   "source": [
    "# Get unique values\n",
    "unique_values = ffs_rl['Pitcher'].unique()\n",
    "aub_unique_values = aub_ffs_rl['Pitcher'].unique()\n",
    "\n",
    "print(aub_unique_values)\n",
    "\n",
    "# Create a dictionary to store subsets\n",
    "all_subsets = {value: ffs_rl[ffs_rl['Pitcher'] == value] for value in unique_values}\n",
    "\n",
    "aub_subsets = {value: ffs_rl[ffs_rl['Pitcher'] == value] for value in aub_unique_values}"
   ],
   "metadata": {
    "collapsed": false,
    "ExecuteTime": {
     "end_time": "2024-10-12T23:53:42.352361Z",
     "start_time": "2024-10-12T23:53:40.600434Z"
    }
   },
   "id": "83a0df365bda10ea",
   "outputs": [
    {
     "name": "stdout",
     "output_type": "stream",
     "text": [
      "['Herberholz, Christian' 'Horne, Trevor' 'Olson, Ryan' 'Keshock, Cameron'\n",
      " 'Armstrong, John' 'Cannon, Will' 'Tilly, Cameron' 'Allsup, Chase'\n",
      " 'Isbell, Chase' 'Murphy, Hayden' 'McBride, Connor' 'Carlson, Parker'\n",
      " 'Watts, Dylan' 'Petrovic, Alexander' 'Schorr, Ben' 'Gonzalez, Joseph']\n"
     ]
    }
   ],
   "execution_count": 27
  },
  {
   "cell_type": "code",
   "source": [
    "def aub_rl_ffs_stuff(name):\n",
    "    \n",
    "    preds = ['RelSpeed','VertRelAngle','HorzRelAngle','SpinRate','SpinAxis','RelHeight','RelSide','Extension','VertBreak','InducedVertBreak','HorzBreak','ZoneSpeed','VertApprAngle','HorzApprAngle','ZoneTime','pfxx','pfxz','x0','y0','z0','vx0','vy0','vz0','ax0','ay0','az0','SpeedDrop','PitchTrajectoryXc1','PitchTrajectoryXc2','PitchTrajectoryYc0','PitchTrajectoryYc1','PitchTrajectoryYc2','PitchTrajectoryZc0','PitchTrajectoryZc1','PitchTrajectoryZc2']\n",
    "    \n",
    "    all_preds = model.predict_proba(ffs_rl_X)[:,1]\n",
    "    mean_pred = np.mean(all_preds)\n",
    "\n",
    "    pitcher = aub_subsets[name]\n",
    "    pitcher_x = pitcher[preds]\n",
    "\n",
    "    whiff_preds = model.predict_proba(pitcher_x)[:,1]\n",
    "\n",
    "    stuff = whiff_preds/mean_pred\n",
    "    \n",
    "    print(f\"{name} Four Seam RL stuff+: {np.mean(stuff * 100)}\")"
   ],
   "metadata": {
    "collapsed": false,
    "ExecuteTime": {
     "end_time": "2024-10-12T23:53:42.357163Z",
     "start_time": "2024-10-12T23:53:42.355185Z"
    }
   },
   "id": "e15187d672310975",
   "outputs": [],
   "execution_count": 28
  },
  {
   "cell_type": "code",
   "source": [
    "for pitcher in aub_unique_values:\n",
    "    aub_rl_ffs_stuff(pitcher)"
   ],
   "metadata": {
    "collapsed": false,
    "ExecuteTime": {
     "end_time": "2024-10-12T23:53:44.600266Z",
     "start_time": "2024-10-12T23:53:44.318905Z"
    }
   },
   "id": "5c06a2ad389990b",
   "outputs": [
    {
     "name": "stdout",
     "output_type": "stream",
     "text": [
      "Herberholz, Christian Four Seam RL stuff+: 105.1431884765625\n",
      "Horne, Trevor Four Seam RL stuff+: 65.89749908447266\n",
      "Olson, Ryan Four Seam RL stuff+: 43.44674301147461\n",
      "Keshock, Cameron Four Seam RL stuff+: 24.23225212097168\n",
      "Armstrong, John Four Seam RL stuff+: 80.32503509521484\n",
      "Cannon, Will Four Seam RL stuff+: 116.99591064453125\n",
      "Tilly, Cameron Four Seam RL stuff+: 90.81563568115234\n",
      "Allsup, Chase Four Seam RL stuff+: 157.75059509277344\n",
      "Isbell, Chase Four Seam RL stuff+: 72.34778594970703\n",
      "Murphy, Hayden Four Seam RL stuff+: 116.97882080078125\n",
      "McBride, Connor Four Seam RL stuff+: 160.82774353027344\n",
      "Carlson, Parker Four Seam RL stuff+: 73.26499938964844\n",
      "Watts, Dylan Four Seam RL stuff+: 115.4656982421875\n",
      "Petrovic, Alexander Four Seam RL stuff+: 125.4988784790039\n",
      "Schorr, Ben Four Seam RL stuff+: 52.860572814941406\n",
      "Gonzalez, Joseph Four Seam RL stuff+: 57.584468841552734\n"
     ]
    }
   ],
   "execution_count": 29
  },
  {
   "cell_type": "code",
   "source": [
    "ffs_lr_X = ffs_lr[preds]\n",
    "ffs_lr_y = ffs_lr['whiff']"
   ],
   "metadata": {
    "collapsed": false,
    "ExecuteTime": {
     "end_time": "2024-10-12T23:54:11.959369Z",
     "start_time": "2024-10-12T23:54:11.956972Z"
    }
   },
   "id": "4d29e4ba55bb48c7",
   "outputs": [],
   "execution_count": 31
  },
  {
   "cell_type": "code",
   "source": [
    "X_train, X_test, y_train, y_test = train_test_split(ffs_lr_X, ffs_lr_y, test_size=.33, random_state=25)\n",
    "\n",
    "model = XGBClassifier()\n",
    "model.fit(X_train, y_train)\n",
    "\n",
    "y_pred = model.predict(X_test)\n",
    "predictions = [round(value) for value in y_pred]\n",
    "\n",
    "accuracy = accuracy_score(y_test, predictions)\n",
    "print(\"Accuracy: %.2f%%\" % (accuracy * 100.0))"
   ],
   "metadata": {
    "collapsed": false,
    "ExecuteTime": {
     "end_time": "2024-10-12T23:54:13.452083Z",
     "start_time": "2024-10-12T23:54:12.884315Z"
    }
   },
   "id": "f3c2bdd7e0d6ff63",
   "outputs": [
    {
     "name": "stdout",
     "output_type": "stream",
     "text": [
      "Accuracy: 89.28%\n"
     ]
    }
   ],
   "execution_count": 32
  },
  {
   "metadata": {
    "ExecuteTime": {
     "end_time": "2024-10-12T23:54:28.146960Z",
     "start_time": "2024-10-12T23:54:28.139523Z"
    }
   },
   "cell_type": "code",
   "source": [
    "import joblib\n",
    "\n",
    "joblib.dump(model, '../../models/fourseam_lr_model.pkl')"
   ],
   "id": "10623cb6b015fecf",
   "outputs": [
    {
     "data": {
      "text/plain": [
       "['../../models/fourseam_lr_model.pkl']"
      ]
     },
     "execution_count": 33,
     "metadata": {},
     "output_type": "execute_result"
    }
   ],
   "execution_count": 33
  },
  {
   "cell_type": "code",
   "source": [
    "aub_ffs_lr = ffs_lr[ffs_lr['PitcherTeam']=='AUB_TIG']\n",
    "print(aub_ffs_lr.shape)"
   ],
   "metadata": {
    "collapsed": false,
    "ExecuteTime": {
     "end_time": "2024-10-12T23:54:30.486114Z",
     "start_time": "2024-10-12T23:54:30.476617Z"
    }
   },
   "id": "632469c9763fea57",
   "outputs": [
    {
     "name": "stdout",
     "output_type": "stream",
     "text": [
      "(1651, 168)\n"
     ]
    }
   ],
   "execution_count": 34
  },
  {
   "cell_type": "code",
   "source": [
    "# Get unique values\n",
    "unique_values = ffs_lr['Pitcher'].unique()\n",
    "aub_unique_values = aub_ffs_lr['Pitcher'].unique()\n",
    "\n",
    "print(aub_unique_values)\n",
    "\n",
    "# Create a dictionary to store subsets\n",
    "all_subsets = {value: ffs_lr[ffs_lr['Pitcher'] == value] for value in unique_values}\n",
    "\n",
    "aub_subsets = {value: ffs_lr[ffs_lr['Pitcher'] == value] for value in aub_unique_values}"
   ],
   "metadata": {
    "collapsed": false,
    "ExecuteTime": {
     "end_time": "2024-10-12T23:54:32.079215Z",
     "start_time": "2024-10-12T23:54:31.613008Z"
    }
   },
   "id": "3ed6d43a69d631ff",
   "outputs": [
    {
     "name": "stdout",
     "output_type": "stream",
     "text": [
      "['Nelson, Drew' 'Vail, Tommy' 'Bauman, Tanner' 'Myers, Carson'\n",
      " 'Graves, Griffin' 'Crotchfelt, Zach' 'Copeland, Konner' 'Sheehan, Tommy'\n",
      " 'Murphy, Hayden']\n"
     ]
    }
   ],
   "execution_count": 35
  },
  {
   "cell_type": "code",
   "source": [
    "def aub_lr_ffs_stuff(name):\n",
    "    \n",
    "    preds = ['RelSpeed','VertRelAngle','HorzRelAngle','SpinRate','SpinAxis','RelHeight','RelSide','Extension','VertBreak','InducedVertBreak','HorzBreak','ZoneSpeed','VertApprAngle','HorzApprAngle','ZoneTime','pfxx','pfxz','x0','y0','z0','vx0','vy0','vz0','ax0','ay0','az0','SpeedDrop','PitchTrajectoryXc1','PitchTrajectoryXc2','PitchTrajectoryYc0','PitchTrajectoryYc1','PitchTrajectoryYc2','PitchTrajectoryZc0','PitchTrajectoryZc1','PitchTrajectoryZc2']\n",
    "    \n",
    "    all_preds = model.predict_proba(ffs_lr_X)[:,1]\n",
    "    mean_pred = np.mean(all_preds)\n",
    "\n",
    "    pitcher = aub_subsets[name]\n",
    "    pitcher_x = pitcher[preds]\n",
    "\n",
    "    whiff_preds = model.predict_proba(pitcher_x)[:,1]\n",
    "\n",
    "    stuff = whiff_preds/mean_pred\n",
    "    \n",
    "    print(f\"{name} Four Seam LR stuff+: {np.mean(stuff * 100)}\")"
   ],
   "metadata": {
    "collapsed": false,
    "ExecuteTime": {
     "end_time": "2024-10-12T23:54:32.726760Z",
     "start_time": "2024-10-12T23:54:32.724339Z"
    }
   },
   "id": "f66d6231b8b3571d",
   "outputs": [],
   "execution_count": 36
  },
  {
   "cell_type": "code",
   "source": [
    "for pitcher in aub_unique_values:\n",
    "    aub_lr_ffs_stuff(pitcher)"
   ],
   "metadata": {
    "collapsed": false,
    "ExecuteTime": {
     "end_time": "2024-10-12T23:54:34.520167Z",
     "start_time": "2024-10-12T23:54:34.415752Z"
    }
   },
   "id": "8760355e910d5a62",
   "outputs": [
    {
     "name": "stdout",
     "output_type": "stream",
     "text": [
      "Nelson, Drew Four Seam LR stuff+: 100.18602752685547\n",
      "Vail, Tommy Four Seam LR stuff+: 180.4160919189453\n",
      "Bauman, Tanner Four Seam LR stuff+: 89.64679718017578\n",
      "Myers, Carson Four Seam LR stuff+: 71.73851013183594\n",
      "Graves, Griffin Four Seam LR stuff+: 84.99886322021484\n",
      "Crotchfelt, Zach Four Seam LR stuff+: 127.01658630371094\n",
      "Copeland, Konner Four Seam LR stuff+: 75.27986907958984\n",
      "Sheehan, Tommy Four Seam LR stuff+: 48.4864616394043\n",
      "Murphy, Hayden Four Seam LR stuff+: 52.61192321777344\n"
     ]
    }
   ],
   "execution_count": 37
  },
  {
   "cell_type": "code",
   "source": [
    "ffs_ll_X = ffs_ll[preds]\n",
    "ffs_ll_y = ffs_ll['whiff']"
   ],
   "metadata": {
    "collapsed": false,
    "ExecuteTime": {
     "end_time": "2024-10-12T23:54:46.722842Z",
     "start_time": "2024-10-12T23:54:46.716266Z"
    }
   },
   "id": "4a6b59ded1b138d4",
   "outputs": [],
   "execution_count": 39
  },
  {
   "cell_type": "code",
   "source": [
    "X_train, X_test, y_train, y_test = train_test_split(ffs_ll_X, ffs_ll_y, test_size=.33, random_state=25)\n",
    "\n",
    "model = XGBClassifier()\n",
    "model.fit(X_train, y_train)\n",
    "\n",
    "y_pred = model.predict(X_test)\n",
    "predictions = [round(value) for value in y_pred]\n",
    "\n",
    "accuracy = accuracy_score(y_test, predictions)\n",
    "print(\"Accuracy: %.2f%%\" % (accuracy * 100.0))"
   ],
   "metadata": {
    "collapsed": false,
    "ExecuteTime": {
     "end_time": "2024-10-12T23:54:48.395283Z",
     "start_time": "2024-10-12T23:54:47.918387Z"
    }
   },
   "id": "519c6293db6b4f6d",
   "outputs": [
    {
     "name": "stdout",
     "output_type": "stream",
     "text": [
      "Accuracy: 91.26%\n"
     ]
    }
   ],
   "execution_count": 40
  },
  {
   "metadata": {
    "ExecuteTime": {
     "end_time": "2024-10-12T23:54:59.102438Z",
     "start_time": "2024-10-12T23:54:59.097739Z"
    }
   },
   "cell_type": "code",
   "source": [
    "import joblib\n",
    "\n",
    "joblib.dump(model, '../../models/fourseam_ll_model.pkl')"
   ],
   "id": "d3509a03c911d844",
   "outputs": [
    {
     "data": {
      "text/plain": [
       "['../../models/fourseam_ll_model.pkl']"
      ]
     },
     "execution_count": 41,
     "metadata": {},
     "output_type": "execute_result"
    }
   ],
   "execution_count": 41
  },
  {
   "cell_type": "code",
   "source": [
    "aub_ffs_ll = ffs_ll[ffs_ll['PitcherTeam']=='AUB_TIG']\n",
    "print(aub_ffs_ll.shape)"
   ],
   "metadata": {
    "collapsed": false,
    "ExecuteTime": {
     "end_time": "2024-10-12T23:55:16.463631Z",
     "start_time": "2024-10-12T23:55:16.459019Z"
    }
   },
   "id": "478ff4999d70642b",
   "outputs": [
    {
     "name": "stdout",
     "output_type": "stream",
     "text": [
      "(813, 168)\n"
     ]
    }
   ],
   "execution_count": 42
  },
  {
   "cell_type": "code",
   "source": [
    "# Get unique values\n",
    "unique_values = ffs_ll['Pitcher'].unique()\n",
    "aub_unique_values = aub_ffs_ll['Pitcher'].unique()\n",
    "\n",
    "print(aub_unique_values)\n",
    "\n",
    "# Create a dictionary to store subsets\n",
    "all_subsets = {value: ffs_ll[ffs_ll['Pitcher'] == value] for value in unique_values}\n",
    "\n",
    "aub_subsets = {value: ffs_ll[ffs_ll['Pitcher'] == value] for value in aub_unique_values}"
   ],
   "metadata": {
    "collapsed": false,
    "ExecuteTime": {
     "end_time": "2024-10-12T23:55:17.686218Z",
     "start_time": "2024-10-12T23:55:17.337005Z"
    }
   },
   "id": "df7771347a5d74ff",
   "outputs": [
    {
     "name": "stdout",
     "output_type": "stream",
     "text": [
      "['Nelson, Drew' 'Vail, Tommy' 'Bauman, Tanner' 'Myers, Carson'\n",
      " 'Graves, Griffin' 'Copeland, Konner' 'Sheehan, Tommy' 'Crotchfelt, Zach']\n"
     ]
    }
   ],
   "execution_count": 43
  },
  {
   "cell_type": "code",
   "source": [
    "def aub_ll_ffs_stuff(name):\n",
    "    \n",
    "    preds = ['RelSpeed','VertRelAngle','HorzRelAngle','SpinRate','SpinAxis','RelHeight','RelSide','Extension','VertBreak','InducedVertBreak','HorzBreak','ZoneSpeed','VertApprAngle','HorzApprAngle','ZoneTime','pfxx','pfxz','x0','y0','z0','vx0','vy0','vz0','ax0','ay0','az0','SpeedDrop','PitchTrajectoryXc1','PitchTrajectoryXc2','PitchTrajectoryYc0','PitchTrajectoryYc1','PitchTrajectoryYc2','PitchTrajectoryZc0','PitchTrajectoryZc1','PitchTrajectoryZc2']\n",
    "    \n",
    "    all_preds = model.predict_proba(ffs_ll_X)[:,1]\n",
    "    mean_pred = np.mean(all_preds)\n",
    "\n",
    "    pitcher = aub_subsets[name]\n",
    "    pitcher_x = pitcher[preds]\n",
    "\n",
    "    whiff_preds = model.predict_proba(pitcher_x)[:,1]\n",
    "\n",
    "    stuff = whiff_preds/mean_pred\n",
    "    \n",
    "    print(f\"{name} Four Seam LL stuff+: {np.mean(stuff * 100)}\")"
   ],
   "metadata": {
    "collapsed": false,
    "ExecuteTime": {
     "end_time": "2024-10-12T23:55:18.665213Z",
     "start_time": "2024-10-12T23:55:18.663139Z"
    }
   },
   "id": "496f56a66b1700c8",
   "outputs": [],
   "execution_count": 44
  },
  {
   "cell_type": "code",
   "source": [
    "for pitcher in aub_unique_values:\n",
    "    aub_ll_ffs_stuff(pitcher)"
   ],
   "metadata": {
    "collapsed": false,
    "ExecuteTime": {
     "end_time": "2024-10-12T23:55:20.283181Z",
     "start_time": "2024-10-12T23:55:20.206140Z"
    }
   },
   "id": "b7c8ee1865b02f47",
   "outputs": [
    {
     "name": "stdout",
     "output_type": "stream",
     "text": [
      "Nelson, Drew Four Seam LL stuff+: 125.9273681640625\n",
      "Vail, Tommy Four Seam LL stuff+: 172.6954345703125\n",
      "Bauman, Tanner Four Seam LL stuff+: 47.41603469848633\n",
      "Myers, Carson Four Seam LL stuff+: 46.49747848510742\n",
      "Graves, Griffin Four Seam LL stuff+: 317.50457763671875\n",
      "Copeland, Konner Four Seam LL stuff+: 142.1805877685547\n",
      "Sheehan, Tommy Four Seam LL stuff+: 29.153879165649414\n",
      "Crotchfelt, Zach Four Seam LL stuff+: 79.48432922363281\n"
     ]
    }
   ],
   "execution_count": 45
  },
  {
   "cell_type": "code",
   "source": [
    "aub_subsets['Vail, Tommy']"
   ],
   "metadata": {
    "collapsed": false,
    "ExecuteTime": {
     "end_time": "2024-10-12T23:55:21.750392Z",
     "start_time": "2024-10-12T23:55:21.738854Z"
    }
   },
   "id": "7fbbac85e8897c28",
   "outputs": [
    {
     "data": {
      "text/plain": [
       "        PitchNo        Date         Time  PAofInning  PitchofPA      Pitcher  \\\n",
       "16562        66  2023-05-20  13:39:07.57         2.0        3.0  Vail, Tommy   \n",
       "16588        92  2023-05-20  13:53:57.96         1.0        1.0  Vail, Tommy   \n",
       "16591        95  2023-05-20  13:54:48.10         1.0        4.0  Vail, Tommy   \n",
       "16592        96  2023-05-20  13:55:23.62         2.0        1.0  Vail, Tommy   \n",
       "16594        98  2023-05-20  13:56:03.39         2.0        3.0  Vail, Tommy   \n",
       "...         ...         ...          ...         ...        ...          ...   \n",
       "263924      118  2023-05-06  21:04:45.06         5.0        2.0  Vail, Tommy   \n",
       "263926      120  2023-05-06  21:05:38.22         5.0        4.0  Vail, Tommy   \n",
       "263927      121  2023-05-06  21:06:10.46         5.0        5.0  Vail, Tommy   \n",
       "263928      122  2023-05-06  21:06:36.88         5.0        6.0  Vail, Tommy   \n",
       "263929      123  2023-05-06  21:07:09.33         5.0        7.0  Vail, Tommy   \n",
       "\n",
       "           PitcherId PitcherThrows PitcherTeam         Batter  ...  \\\n",
       "16562   1.000067e+09          Left     AUB_TIG   Lovich, Ross  ...   \n",
       "16588   1.000067e+09          Left     AUB_TIG     Mann, Luke  ...   \n",
       "16591   1.000067e+09          Left     AUB_TIG     Mann, Luke  ...   \n",
       "16592   1.000067e+09          Left     AUB_TIG  Zeisler, Hank  ...   \n",
       "16594   1.000067e+09          Left     AUB_TIG  Zeisler, Hank  ...   \n",
       "...              ...           ...         ...            ...  ...   \n",
       "263924  1.000067e+09          Left     AUB_TIG    Morgan, Tre  ...   \n",
       "263926  1.000067e+09          Left     AUB_TIG    Morgan, Tre  ...   \n",
       "263927  1.000067e+09          Left     AUB_TIG    Morgan, Tre  ...   \n",
       "263928  1.000067e+09          Left     AUB_TIG    Morgan, Tre  ...   \n",
       "263929  1.000067e+09          Left     AUB_TIG    Morgan, Tre  ...   \n",
       "\n",
       "        ThrowTrajectoryZc2 PitchReleaseConfidence PitchLocationConfidence  \\\n",
       "16562                  NaN                   High                    High   \n",
       "16588                  NaN                   High                    High   \n",
       "16591                  NaN                   High                    High   \n",
       "16592                  NaN                   High                    High   \n",
       "16594                  NaN                   High                    High   \n",
       "...                    ...                    ...                     ...   \n",
       "263924                 NaN                   High                    High   \n",
       "263926                 NaN                   High                    High   \n",
       "263927                 NaN                   High                    High   \n",
       "263928                 NaN                   High                    High   \n",
       "263929                 NaN                   High                    High   \n",
       "\n",
       "       PitchMovementConfidence  HitLaunchConfidence HitLandingConfidence  \\\n",
       "16562                     High                 High               Medium   \n",
       "16588                     High                  NaN                  NaN   \n",
       "16591                     High                  NaN                  NaN   \n",
       "16592                     High                  NaN                  NaN   \n",
       "16594                     High                 High               Medium   \n",
       "...                        ...                  ...                  ...   \n",
       "263924                    High                  NaN                  NaN   \n",
       "263926                    High                  Low                  Low   \n",
       "263927                    High                 High                  Low   \n",
       "263928                    High                  NaN                  NaN   \n",
       "263929                    High                  Low                  Low   \n",
       "\n",
       "        CatcherThrowCatchConfidence  CatcherThrowReleaseConfidence  \\\n",
       "16562                           NaN                            NaN   \n",
       "16588                           NaN                            NaN   \n",
       "16591                           NaN                            NaN   \n",
       "16592                           NaN                            NaN   \n",
       "16594                           NaN                            NaN   \n",
       "...                             ...                            ...   \n",
       "263924                          NaN                            NaN   \n",
       "263926                          NaN                            NaN   \n",
       "263927                          NaN                            NaN   \n",
       "263928                          NaN                            NaN   \n",
       "263929                          NaN                            NaN   \n",
       "\n",
       "        CatcherThrowLocationConfidence whiff  \n",
       "16562                              NaN     0  \n",
       "16588                              NaN     0  \n",
       "16591                              NaN     0  \n",
       "16592                              NaN     0  \n",
       "16594                              NaN     0  \n",
       "...                                ...   ...  \n",
       "263924                             NaN     1  \n",
       "263926                             NaN     0  \n",
       "263927                             NaN     0  \n",
       "263928                             NaN     0  \n",
       "263929                             NaN     0  \n",
       "\n",
       "[185 rows x 168 columns]"
      ],
      "text/html": [
       "<div>\n",
       "<style scoped>\n",
       "    .dataframe tbody tr th:only-of-type {\n",
       "        vertical-align: middle;\n",
       "    }\n",
       "\n",
       "    .dataframe tbody tr th {\n",
       "        vertical-align: top;\n",
       "    }\n",
       "\n",
       "    .dataframe thead th {\n",
       "        text-align: right;\n",
       "    }\n",
       "</style>\n",
       "<table border=\"1\" class=\"dataframe\">\n",
       "  <thead>\n",
       "    <tr style=\"text-align: right;\">\n",
       "      <th></th>\n",
       "      <th>PitchNo</th>\n",
       "      <th>Date</th>\n",
       "      <th>Time</th>\n",
       "      <th>PAofInning</th>\n",
       "      <th>PitchofPA</th>\n",
       "      <th>Pitcher</th>\n",
       "      <th>PitcherId</th>\n",
       "      <th>PitcherThrows</th>\n",
       "      <th>PitcherTeam</th>\n",
       "      <th>Batter</th>\n",
       "      <th>...</th>\n",
       "      <th>ThrowTrajectoryZc2</th>\n",
       "      <th>PitchReleaseConfidence</th>\n",
       "      <th>PitchLocationConfidence</th>\n",
       "      <th>PitchMovementConfidence</th>\n",
       "      <th>HitLaunchConfidence</th>\n",
       "      <th>HitLandingConfidence</th>\n",
       "      <th>CatcherThrowCatchConfidence</th>\n",
       "      <th>CatcherThrowReleaseConfidence</th>\n",
       "      <th>CatcherThrowLocationConfidence</th>\n",
       "      <th>whiff</th>\n",
       "    </tr>\n",
       "  </thead>\n",
       "  <tbody>\n",
       "    <tr>\n",
       "      <th>16562</th>\n",
       "      <td>66</td>\n",
       "      <td>2023-05-20</td>\n",
       "      <td>13:39:07.57</td>\n",
       "      <td>2.0</td>\n",
       "      <td>3.0</td>\n",
       "      <td>Vail, Tommy</td>\n",
       "      <td>1.000067e+09</td>\n",
       "      <td>Left</td>\n",
       "      <td>AUB_TIG</td>\n",
       "      <td>Lovich, Ross</td>\n",
       "      <td>...</td>\n",
       "      <td>NaN</td>\n",
       "      <td>High</td>\n",
       "      <td>High</td>\n",
       "      <td>High</td>\n",
       "      <td>High</td>\n",
       "      <td>Medium</td>\n",
       "      <td>NaN</td>\n",
       "      <td>NaN</td>\n",
       "      <td>NaN</td>\n",
       "      <td>0</td>\n",
       "    </tr>\n",
       "    <tr>\n",
       "      <th>16588</th>\n",
       "      <td>92</td>\n",
       "      <td>2023-05-20</td>\n",
       "      <td>13:53:57.96</td>\n",
       "      <td>1.0</td>\n",
       "      <td>1.0</td>\n",
       "      <td>Vail, Tommy</td>\n",
       "      <td>1.000067e+09</td>\n",
       "      <td>Left</td>\n",
       "      <td>AUB_TIG</td>\n",
       "      <td>Mann, Luke</td>\n",
       "      <td>...</td>\n",
       "      <td>NaN</td>\n",
       "      <td>High</td>\n",
       "      <td>High</td>\n",
       "      <td>High</td>\n",
       "      <td>NaN</td>\n",
       "      <td>NaN</td>\n",
       "      <td>NaN</td>\n",
       "      <td>NaN</td>\n",
       "      <td>NaN</td>\n",
       "      <td>0</td>\n",
       "    </tr>\n",
       "    <tr>\n",
       "      <th>16591</th>\n",
       "      <td>95</td>\n",
       "      <td>2023-05-20</td>\n",
       "      <td>13:54:48.10</td>\n",
       "      <td>1.0</td>\n",
       "      <td>4.0</td>\n",
       "      <td>Vail, Tommy</td>\n",
       "      <td>1.000067e+09</td>\n",
       "      <td>Left</td>\n",
       "      <td>AUB_TIG</td>\n",
       "      <td>Mann, Luke</td>\n",
       "      <td>...</td>\n",
       "      <td>NaN</td>\n",
       "      <td>High</td>\n",
       "      <td>High</td>\n",
       "      <td>High</td>\n",
       "      <td>NaN</td>\n",
       "      <td>NaN</td>\n",
       "      <td>NaN</td>\n",
       "      <td>NaN</td>\n",
       "      <td>NaN</td>\n",
       "      <td>0</td>\n",
       "    </tr>\n",
       "    <tr>\n",
       "      <th>16592</th>\n",
       "      <td>96</td>\n",
       "      <td>2023-05-20</td>\n",
       "      <td>13:55:23.62</td>\n",
       "      <td>2.0</td>\n",
       "      <td>1.0</td>\n",
       "      <td>Vail, Tommy</td>\n",
       "      <td>1.000067e+09</td>\n",
       "      <td>Left</td>\n",
       "      <td>AUB_TIG</td>\n",
       "      <td>Zeisler, Hank</td>\n",
       "      <td>...</td>\n",
       "      <td>NaN</td>\n",
       "      <td>High</td>\n",
       "      <td>High</td>\n",
       "      <td>High</td>\n",
       "      <td>NaN</td>\n",
       "      <td>NaN</td>\n",
       "      <td>NaN</td>\n",
       "      <td>NaN</td>\n",
       "      <td>NaN</td>\n",
       "      <td>0</td>\n",
       "    </tr>\n",
       "    <tr>\n",
       "      <th>16594</th>\n",
       "      <td>98</td>\n",
       "      <td>2023-05-20</td>\n",
       "      <td>13:56:03.39</td>\n",
       "      <td>2.0</td>\n",
       "      <td>3.0</td>\n",
       "      <td>Vail, Tommy</td>\n",
       "      <td>1.000067e+09</td>\n",
       "      <td>Left</td>\n",
       "      <td>AUB_TIG</td>\n",
       "      <td>Zeisler, Hank</td>\n",
       "      <td>...</td>\n",
       "      <td>NaN</td>\n",
       "      <td>High</td>\n",
       "      <td>High</td>\n",
       "      <td>High</td>\n",
       "      <td>High</td>\n",
       "      <td>Medium</td>\n",
       "      <td>NaN</td>\n",
       "      <td>NaN</td>\n",
       "      <td>NaN</td>\n",
       "      <td>0</td>\n",
       "    </tr>\n",
       "    <tr>\n",
       "      <th>...</th>\n",
       "      <td>...</td>\n",
       "      <td>...</td>\n",
       "      <td>...</td>\n",
       "      <td>...</td>\n",
       "      <td>...</td>\n",
       "      <td>...</td>\n",
       "      <td>...</td>\n",
       "      <td>...</td>\n",
       "      <td>...</td>\n",
       "      <td>...</td>\n",
       "      <td>...</td>\n",
       "      <td>...</td>\n",
       "      <td>...</td>\n",
       "      <td>...</td>\n",
       "      <td>...</td>\n",
       "      <td>...</td>\n",
       "      <td>...</td>\n",
       "      <td>...</td>\n",
       "      <td>...</td>\n",
       "      <td>...</td>\n",
       "      <td>...</td>\n",
       "    </tr>\n",
       "    <tr>\n",
       "      <th>263924</th>\n",
       "      <td>118</td>\n",
       "      <td>2023-05-06</td>\n",
       "      <td>21:04:45.06</td>\n",
       "      <td>5.0</td>\n",
       "      <td>2.0</td>\n",
       "      <td>Vail, Tommy</td>\n",
       "      <td>1.000067e+09</td>\n",
       "      <td>Left</td>\n",
       "      <td>AUB_TIG</td>\n",
       "      <td>Morgan, Tre</td>\n",
       "      <td>...</td>\n",
       "      <td>NaN</td>\n",
       "      <td>High</td>\n",
       "      <td>High</td>\n",
       "      <td>High</td>\n",
       "      <td>NaN</td>\n",
       "      <td>NaN</td>\n",
       "      <td>NaN</td>\n",
       "      <td>NaN</td>\n",
       "      <td>NaN</td>\n",
       "      <td>1</td>\n",
       "    </tr>\n",
       "    <tr>\n",
       "      <th>263926</th>\n",
       "      <td>120</td>\n",
       "      <td>2023-05-06</td>\n",
       "      <td>21:05:38.22</td>\n",
       "      <td>5.0</td>\n",
       "      <td>4.0</td>\n",
       "      <td>Vail, Tommy</td>\n",
       "      <td>1.000067e+09</td>\n",
       "      <td>Left</td>\n",
       "      <td>AUB_TIG</td>\n",
       "      <td>Morgan, Tre</td>\n",
       "      <td>...</td>\n",
       "      <td>NaN</td>\n",
       "      <td>High</td>\n",
       "      <td>High</td>\n",
       "      <td>High</td>\n",
       "      <td>Low</td>\n",
       "      <td>Low</td>\n",
       "      <td>NaN</td>\n",
       "      <td>NaN</td>\n",
       "      <td>NaN</td>\n",
       "      <td>0</td>\n",
       "    </tr>\n",
       "    <tr>\n",
       "      <th>263927</th>\n",
       "      <td>121</td>\n",
       "      <td>2023-05-06</td>\n",
       "      <td>21:06:10.46</td>\n",
       "      <td>5.0</td>\n",
       "      <td>5.0</td>\n",
       "      <td>Vail, Tommy</td>\n",
       "      <td>1.000067e+09</td>\n",
       "      <td>Left</td>\n",
       "      <td>AUB_TIG</td>\n",
       "      <td>Morgan, Tre</td>\n",
       "      <td>...</td>\n",
       "      <td>NaN</td>\n",
       "      <td>High</td>\n",
       "      <td>High</td>\n",
       "      <td>High</td>\n",
       "      <td>High</td>\n",
       "      <td>Low</td>\n",
       "      <td>NaN</td>\n",
       "      <td>NaN</td>\n",
       "      <td>NaN</td>\n",
       "      <td>0</td>\n",
       "    </tr>\n",
       "    <tr>\n",
       "      <th>263928</th>\n",
       "      <td>122</td>\n",
       "      <td>2023-05-06</td>\n",
       "      <td>21:06:36.88</td>\n",
       "      <td>5.0</td>\n",
       "      <td>6.0</td>\n",
       "      <td>Vail, Tommy</td>\n",
       "      <td>1.000067e+09</td>\n",
       "      <td>Left</td>\n",
       "      <td>AUB_TIG</td>\n",
       "      <td>Morgan, Tre</td>\n",
       "      <td>...</td>\n",
       "      <td>NaN</td>\n",
       "      <td>High</td>\n",
       "      <td>High</td>\n",
       "      <td>High</td>\n",
       "      <td>NaN</td>\n",
       "      <td>NaN</td>\n",
       "      <td>NaN</td>\n",
       "      <td>NaN</td>\n",
       "      <td>NaN</td>\n",
       "      <td>0</td>\n",
       "    </tr>\n",
       "    <tr>\n",
       "      <th>263929</th>\n",
       "      <td>123</td>\n",
       "      <td>2023-05-06</td>\n",
       "      <td>21:07:09.33</td>\n",
       "      <td>5.0</td>\n",
       "      <td>7.0</td>\n",
       "      <td>Vail, Tommy</td>\n",
       "      <td>1.000067e+09</td>\n",
       "      <td>Left</td>\n",
       "      <td>AUB_TIG</td>\n",
       "      <td>Morgan, Tre</td>\n",
       "      <td>...</td>\n",
       "      <td>NaN</td>\n",
       "      <td>High</td>\n",
       "      <td>High</td>\n",
       "      <td>High</td>\n",
       "      <td>Low</td>\n",
       "      <td>Low</td>\n",
       "      <td>NaN</td>\n",
       "      <td>NaN</td>\n",
       "      <td>NaN</td>\n",
       "      <td>0</td>\n",
       "    </tr>\n",
       "  </tbody>\n",
       "</table>\n",
       "<p>185 rows × 168 columns</p>\n",
       "</div>"
      ]
     },
     "execution_count": 46,
     "metadata": {},
     "output_type": "execute_result"
    }
   ],
   "execution_count": 46
  }
 ],
 "metadata": {
  "kernelspec": {
   "display_name": "Python 3",
   "language": "python",
   "name": "python3"
  },
  "language_info": {
   "codemirror_mode": {
    "name": "ipython",
    "version": 2
   },
   "file_extension": ".py",
   "mimetype": "text/x-python",
   "name": "python",
   "nbconvert_exporter": "python",
   "pygments_lexer": "ipython2",
   "version": "2.7.6"
  }
 },
 "nbformat": 4,
 "nbformat_minor": 5
}
