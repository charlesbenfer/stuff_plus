{
 "cells": [
  {
   "cell_type": "code",
   "id": "initial_id",
   "metadata": {
    "collapsed": true,
    "ExecuteTime": {
     "end_time": "2024-10-23T22:11:41.288324Z",
     "start_time": "2024-10-23T22:11:41.285512Z"
    }
   },
   "source": [
    "import datetime\n",
    "import os\n",
    "import pandas as pd\n",
    "import numpy as np\n",
    "from xgboost import XGBClassifier\n",
    "from sklearn.model_selection import train_test_split\n",
    "from sklearn.metrics import accuracy_score, roc_auc_score\n",
    "import matplotlib.pyplot as plt\n",
    "from skopt import BayesSearchCV"
   ],
   "outputs": [],
   "execution_count": 12
  },
  {
   "cell_type": "code",
   "source": [
    "csv_dir = '../../SEC Trackman Data/'\n",
    "all_files = [os.path.join(csv_dir, f) for f in os.listdir(csv_dir) if f.endswith('.csv')]\n",
    "\n",
    "df_list = []\n",
    "\n",
    "for file in all_files:\n",
    "    df = pd.read_csv(file)\n",
    "    df_list.append(df)\n",
    "\n",
    "all_pitches = pd.concat(df_list, ignore_index=True)\n",
    "\n",
    "print(all_pitches.shape)\n",
    "print(all_pitches.columns)"
   ],
   "metadata": {
    "collapsed": false,
    "ExecuteTime": {
     "end_time": "2024-10-23T22:09:27.562566Z",
     "start_time": "2024-10-23T22:09:23.678129Z"
    }
   },
   "id": "e30e9c1ae364f5c3",
   "outputs": [
    {
     "name": "stdout",
     "output_type": "stream",
     "text": [
      "(270589, 167)\n",
      "Index(['PitchNo', 'Date', 'Time', 'PAofInning', 'PitchofPA', 'Pitcher',\n",
      "       'PitcherId', 'PitcherThrows', 'PitcherTeam', 'Batter',\n",
      "       ...\n",
      "       'ThrowTrajectoryZc1', 'ThrowTrajectoryZc2', 'PitchReleaseConfidence',\n",
      "       'PitchLocationConfidence', 'PitchMovementConfidence',\n",
      "       'HitLaunchConfidence', 'HitLandingConfidence',\n",
      "       'CatcherThrowCatchConfidence', 'CatcherThrowReleaseConfidence',\n",
      "       'CatcherThrowLocationConfidence'],\n",
      "      dtype='object', length=167)\n"
     ]
    }
   ],
   "execution_count": 2
  },
  {
   "cell_type": "code",
   "source": [
    "ffs = all_pitches[all_pitches['TaggedPitchType'].isin(['FourSeamFastBall', 'Fastball'])]\n",
    "print(ffs.shape)"
   ],
   "metadata": {
    "collapsed": false,
    "ExecuteTime": {
     "end_time": "2024-10-23T22:09:27.734878Z",
     "start_time": "2024-10-23T22:09:27.660441Z"
    }
   },
   "id": "444f3848215c6482",
   "outputs": [
    {
     "name": "stdout",
     "output_type": "stream",
     "text": [
      "(125719, 167)\n"
     ]
    }
   ],
   "execution_count": 3
  },
  {
   "cell_type": "code",
   "source": [
    "ffs['whiff'] = np.where(ffs['PitchCall']=='StrikeSwinging',1,0)"
   ],
   "metadata": {
    "collapsed": false,
    "ExecuteTime": {
     "end_time": "2024-10-23T22:09:27.879249Z",
     "start_time": "2024-10-23T22:09:27.867340Z"
    }
   },
   "id": "b4c7f0c1404d490",
   "outputs": [
    {
     "name": "stderr",
     "output_type": "stream",
     "text": [
      "/tmp/ipykernel_12080/3136182571.py:1: SettingWithCopyWarning: \n",
      "A value is trying to be set on a copy of a slice from a DataFrame.\n",
      "Try using .loc[row_indexer,col_indexer] = value instead\n",
      "\n",
      "See the caveats in the documentation: https://pandas.pydata.org/pandas-docs/stable/user_guide/indexing.html#returning-a-view-versus-a-copy\n",
      "  ffs['whiff'] = np.where(ffs['PitchCall']=='StrikeSwinging',1,0)\n"
     ]
    }
   ],
   "execution_count": 4
  },
  {
   "cell_type": "code",
   "source": [
    "preds = ['RelSpeed','VertRelAngle','HorzRelAngle','SpinRate','SpinAxis','RelHeight','RelSide','Extension','VertBreak','InducedVertBreak','HorzBreak','ZoneSpeed','VertApprAngle','HorzApprAngle','ZoneTime','pfxx','pfxz','x0','y0','z0','vx0','vy0','vz0','ax0','ay0','az0','SpeedDrop','PitchTrajectoryXc1','PitchTrajectoryXc2','PitchTrajectoryYc0','PitchTrajectoryYc1','PitchTrajectoryYc2','PitchTrajectoryZc0','PitchTrajectoryZc1','PitchTrajectoryZc2']"
   ],
   "metadata": {
    "collapsed": false,
    "ExecuteTime": {
     "end_time": "2024-10-23T22:09:31.085458Z",
     "start_time": "2024-10-23T22:09:31.083161Z"
    }
   },
   "id": "4aa1a64ef9ffd1ed",
   "outputs": [],
   "execution_count": 5
  },
  {
   "cell_type": "code",
   "source": [
    "ffs_X = ffs[preds]\n",
    "ffs_y = ffs['whiff']"
   ],
   "metadata": {
    "collapsed": false,
    "ExecuteTime": {
     "end_time": "2024-10-23T22:09:32.235795Z",
     "start_time": "2024-10-23T22:09:32.218369Z"
    }
   },
   "id": "77852724d871ed07",
   "outputs": [],
   "execution_count": 6
  },
  {
   "cell_type": "code",
   "source": [
    "X_train, X_test, y_train, y_test = train_test_split(ffs_X, ffs_y, test_size=.33, random_state=25)\n",
    "\n",
    "# Set up the XGBoost model\n",
    "xgb_model = XGBClassifier(random_state=25)\n",
    "\n",
    "# Define the parameter space for Bayesian hyperparameter tuning for XGBoost\n",
    "param_space = {\n",
    "    'learning_rate': (0.01, 0.3, 'log-uniform'),  # Learning rate\n",
    "    'max_depth': (3, 10),  # Maximum depth of a tree\n",
    "    'n_estimators': (50, 300),  # Number of boosting rounds\n",
    "    'subsample': (0.6, 1.0),  # Subsample ratio of the training instances\n",
    "    'colsample_bytree': (0.6, 1.0),  # Subsample ratio of columns for each tree\n",
    "    'gamma': (0, 10),  # Minimum loss reduction required to make a further partition\n",
    "    'reg_alpha': (1e-8, 1.0, 'log-uniform'),  # L1 regularization term\n",
    "    'reg_lambda': (1e-8, 1.0, 'log-uniform'),  # L2 regularization term\n",
    "}\n",
    "\n",
    "# Set up Bayesian search using BayesSearchCV\n",
    "bayes_search = BayesSearchCV(\n",
    "    estimator=xgb_model,\n",
    "    search_spaces=param_space,\n",
    "    n_iter=25,  # Number of iterations\n",
    "    cv=3,  # 3-fold cross-validation\n",
    "    scoring='accuracy',  # Scoring metric\n",
    "    n_jobs=-1,  # Use all available cores\n",
    "    verbose=0,\n",
    "    random_state=42\n",
    ")\n",
    "\n",
    "# Fit the model using Bayesian hyperparameter tuning\n",
    "bayes_search.fit(X_train, y_train)\n",
    "\n",
    "# Best hyperparameters found\n",
    "best_params = bayes_search.best_params_\n",
    "print(f\"Best hyperparameters for Whiffs: {best_params}\")\n",
    "\n",
    "# Make predictions on the training and test sets using the best model\n",
    "best_model = bayes_search.best_estimator_\n",
    "y_train_pred = best_model.predict(X_train)\n",
    "y_test_pred = best_model.predict(X_test)\n",
    "\n",
    "# Calculate MSE and R-squared for both training and test sets\n",
    "accuracy_train = accuracy_score(y_train, y_train_pred)\n",
    "accuracy_test = accuracy_score(y_test, y_test_pred)\n",
    "auc_train = roc_auc_score(y_train, y_train_pred)\n",
    "auc_test = roc_auc_score(y_test, y_test_pred)\n",
    "\n",
    "print(f'Accuracy (Training): {accuracy_train:.4f}')\n",
    "print(f'ROC AUC (Training): {auc_train:.4f}')\n",
    "print(f'Accuracy (Test): {accuracy_test:.4f}')\n",
    "print(f'ROC AUC (Test): {auc_test:.4f}')"
   ],
   "metadata": {
    "collapsed": false,
    "ExecuteTime": {
     "end_time": "2024-10-23T22:10:24.157816Z",
     "start_time": "2024-10-23T22:09:46.059089Z"
    }
   },
   "id": "4d08d18b66536cc9",
   "outputs": [
    {
     "name": "stdout",
     "output_type": "stream",
     "text": [
      "Best hyperparameters for Whiffs: OrderedDict({'colsample_bytree': 0.817361227076125, 'gamma': 9, 'learning_rate': 0.05411797281355388, 'max_depth': 9, 'n_estimators': 131, 'reg_alpha': 2.5649353875576796e-08, 'reg_lambda': 0.0003683175570745102, 'subsample': 0.6103204340214085})\n",
      "Accuracy (Training): 0.9113\n",
      "ROC AUC (Training): 0.5020\n",
      "Accuracy (Test): 0.9093\n",
      "ROC AUC (Test): 0.5006\n"
     ]
    }
   ],
   "execution_count": 8
  },
  {
   "metadata": {
    "ExecuteTime": {
     "end_time": "2024-10-23T22:10:38.403818Z",
     "start_time": "2024-10-23T22:10:38.386629Z"
    }
   },
   "cell_type": "code",
   "source": [
    "ffs['Date'] = pd.to_datetime(ffs['Date'], format = 'mixed')"
   ],
   "id": "23e980b5f0e6736d",
   "outputs": [
    {
     "name": "stderr",
     "output_type": "stream",
     "text": [
      "/tmp/ipykernel_12080/2252532815.py:1: SettingWithCopyWarning: \n",
      "A value is trying to be set on a copy of a slice from a DataFrame.\n",
      "Try using .loc[row_indexer,col_indexer] = value instead\n",
      "\n",
      "See the caveats in the documentation: https://pandas.pydata.org/pandas-docs/stable/user_guide/indexing.html#returning-a-view-versus-a-copy\n",
      "  ffs['Date'] = pd.to_datetime(ffs['Date'], format = 'mixed')\n"
     ]
    }
   ],
   "execution_count": 9
  },
  {
   "cell_type": "code",
   "source": [
    "aub_ffs_2024 = ffs[(ffs['PitcherTeam']=='AUB_TIG') & (ffs['Date'] > datetime.datetime(2024,1,1))]"
   ],
   "metadata": {
    "collapsed": false,
    "ExecuteTime": {
     "end_time": "2024-10-23T22:11:54.713608Z",
     "start_time": "2024-10-23T22:11:54.706194Z"
    }
   },
   "id": "85ba3b2316b290a0",
   "outputs": [],
   "execution_count": 14
  },
  {
   "cell_type": "code",
   "source": [
    "# Get unique values\n",
    "unique_values = ffs['Pitcher'].unique()\n",
    "aub_unique_values = aub_ffs_2024['Pitcher'].unique()\n",
    "\n",
    "print(aub_unique_values)\n",
    "\n",
    "# Create a dictionary to store subsets\n",
    "all_subsets = {value: ffs[ffs['Pitcher'] == value] for value in unique_values}\n",
    "\n",
    "aub_subsets = {value: aub_ffs_2024[aub_ffs_2024['Pitcher'] == value] for value in aub_unique_values}"
   ],
   "metadata": {
    "collapsed": false,
    "ExecuteTime": {
     "end_time": "2024-10-23T22:34:06.347358Z",
     "start_time": "2024-10-23T22:33:59.549594Z"
    }
   },
   "id": "2c7c7a80854cbae5",
   "outputs": [
    {
     "name": "stdout",
     "output_type": "stream",
     "text": [
      "['Myers, Carson' 'Tilly, Cameron' 'Allsup, Chase' 'McBride, Connor'\n",
      " 'Carlson, Parker' 'Graves, Griffin' 'Watts, Dylan' 'Murphy, Hayden'\n",
      " 'Crotchfelt, Zach' 'Armstrong, John' 'Petrovic, Alexander' 'Schorr, Ben'\n",
      " 'Cannon, Will' 'Herberholz, Christian' 'Nelson, Drew' 'Copeland, Konner'\n",
      " 'Bauman, Tanner' 'Gonzalez, Joseph']\n"
     ]
    }
   ],
   "execution_count": 16
  },
  {
   "cell_type": "code",
   "source": [
    "def aub_ffs_stuff(name):\n",
    "    \n",
    "    preds = ['RelSpeed','VertRelAngle','HorzRelAngle','SpinRate','SpinAxis','RelHeight','RelSide','Extension','VertBreak','InducedVertBreak','HorzBreak','ZoneSpeed','VertApprAngle','HorzApprAngle','ZoneTime','pfxx','pfxz','x0','y0','z0','vx0','vy0','vz0','ax0','ay0','az0','SpeedDrop','PitchTrajectoryXc1','PitchTrajectoryXc2','PitchTrajectoryYc0','PitchTrajectoryYc1','PitchTrajectoryYc2','PitchTrajectoryZc0','PitchTrajectoryZc1','PitchTrajectoryZc2']\n",
    "    \n",
    "    all_preds = best_model.predict_proba(ffs_X)[:,1]\n",
    "    mean_pred = np.mean(all_preds)\n",
    "\n",
    "    pitcher = aub_subsets[name]\n",
    "    pitcher_x = pitcher[preds]\n",
    "\n",
    "    whiff_preds = best_model.predict_proba(pitcher_x)[:,1]\n",
    "\n",
    "    stuff = whiff_preds/mean_pred\n",
    "    \n",
    "    print(f\"{name} Four Seam stuff+: {np.mean(stuff * 100)}\")"
   ],
   "metadata": {
    "collapsed": false,
    "ExecuteTime": {
     "end_time": "2024-10-23T22:34:32.169336Z",
     "start_time": "2024-10-23T22:34:32.161799Z"
    }
   },
   "id": "5345e83743a825b5",
   "outputs": [],
   "execution_count": 21
  },
  {
   "cell_type": "code",
   "source": [
    "for pitcher in aub_unique_values:\n",
    "    aub_ffs_stuff(pitcher)"
   ],
   "metadata": {
    "collapsed": false,
    "ExecuteTime": {
     "end_time": "2024-10-23T22:34:33.829691Z",
     "start_time": "2024-10-23T22:34:33.429484Z"
    }
   },
   "id": "91fbdb5c0b6bb930",
   "outputs": [
    {
     "name": "stdout",
     "output_type": "stream",
     "text": [
      "Myers, Carson Four Seam stuff+: 70.63833618164062\n",
      "Tilly, Cameron Four Seam stuff+: 99.46634674072266\n",
      "Allsup, Chase Four Seam stuff+: 128.18869018554688\n",
      "McBride, Connor Four Seam stuff+: 104.86662292480469\n",
      "Carlson, Parker Four Seam stuff+: 87.67110443115234\n",
      "Graves, Griffin Four Seam stuff+: 144.9161834716797\n",
      "Watts, Dylan Four Seam stuff+: 87.02266693115234\n",
      "Murphy, Hayden Four Seam stuff+: 102.93563079833984\n",
      "Crotchfelt, Zach Four Seam stuff+: 117.78130340576172\n",
      "Armstrong, John Four Seam stuff+: 108.89517211914062\n",
      "Petrovic, Alexander Four Seam stuff+: 84.0595932006836\n",
      "Schorr, Ben Four Seam stuff+: 70.13426208496094\n",
      "Cannon, Will Four Seam stuff+: 111.48564910888672\n",
      "Herberholz, Christian Four Seam stuff+: 108.4026870727539\n",
      "Nelson, Drew Four Seam stuff+: 87.67931365966797\n",
      "Copeland, Konner Four Seam stuff+: 77.89179229736328\n",
      "Bauman, Tanner Four Seam stuff+: 60.70023727416992\n",
      "Gonzalez, Joseph Four Seam stuff+: 69.5010986328125\n"
     ]
    }
   ],
   "execution_count": 22
  },
  {
   "metadata": {
    "ExecuteTime": {
     "end_time": "2024-10-23T22:35:23.586752Z",
     "start_time": "2024-10-23T22:35:23.579106Z"
    }
   },
   "cell_type": "code",
   "source": [
    "import joblib\n",
    "\n",
    "joblib.dump(best_model, '../../models/fourseam_all_model.pkl')"
   ],
   "id": "59e1b05f8541c153",
   "outputs": [
    {
     "data": {
      "text/plain": [
       "['../../models/fourseam_all_model.pkl']"
      ]
     },
     "execution_count": 23,
     "metadata": {},
     "output_type": "execute_result"
    }
   ],
   "execution_count": 23
  },
  {
   "cell_type": "code",
   "source": [
    "ffs_rr = ffs[(ffs['PitcherThrows'] == 'Right') & (ffs['BatterSide'] == 'Right')]\n",
    "ffs_rl = ffs[(ffs['PitcherThrows'] == 'Right') & (ffs['BatterSide'] == 'Left')]\n",
    "ffs_lr = ffs[(ffs['PitcherThrows'] == 'Left') & (ffs['BatterSide'] == 'Right')]\n",
    "ffs_ll = ffs[(ffs['PitcherThrows'] == 'Left') & (ffs['BatterSide'] == 'Left')]\n",
    "\n",
    "print(ffs_rr.shape)\n",
    "print(ffs_rl.shape)\n",
    "print(ffs_lr.shape)\n",
    "print(ffs_ll.shape)"
   ],
   "metadata": {
    "collapsed": false,
    "ExecuteTime": {
     "end_time": "2024-10-23T22:35:34.347309Z",
     "start_time": "2024-10-23T22:35:34.236008Z"
    }
   },
   "id": "2c50bd26fd44fb48",
   "outputs": [
    {
     "name": "stdout",
     "output_type": "stream",
     "text": [
      "(47555, 168)\n",
      "(36801, 168)\n",
      "(26799, 168)\n",
      "(14427, 168)\n"
     ]
    }
   ],
   "execution_count": 24
  },
  {
   "cell_type": "code",
   "source": [
    "ffs_rr['whiff'] = np.where(ffs_rr['PitchCall']=='StrikeSwinging',1,0)\n",
    "ffs_rl['whiff'] = np.where(ffs_rl['PitchCall']=='StrikeSwinging',1,0)\n",
    "ffs_lr['whiff'] = np.where(ffs_lr['PitchCall']=='StrikeSwinging',1,0)\n",
    "ffs_ll['whiff'] = np.where(ffs_ll['PitchCall']=='StrikeSwinging',1,0)"
   ],
   "metadata": {
    "collapsed": false,
    "ExecuteTime": {
     "end_time": "2024-10-23T22:35:36.425370Z",
     "start_time": "2024-10-23T22:35:36.418399Z"
    }
   },
   "id": "763cdeac03de9e52",
   "outputs": [
    {
     "name": "stderr",
     "output_type": "stream",
     "text": [
      "/tmp/ipykernel_12080/2915248739.py:1: SettingWithCopyWarning: \n",
      "A value is trying to be set on a copy of a slice from a DataFrame.\n",
      "Try using .loc[row_indexer,col_indexer] = value instead\n",
      "\n",
      "See the caveats in the documentation: https://pandas.pydata.org/pandas-docs/stable/user_guide/indexing.html#returning-a-view-versus-a-copy\n",
      "  ffs_rr['whiff'] = np.where(ffs_rr['PitchCall']=='StrikeSwinging',1,0)\n",
      "/tmp/ipykernel_12080/2915248739.py:2: SettingWithCopyWarning: \n",
      "A value is trying to be set on a copy of a slice from a DataFrame.\n",
      "Try using .loc[row_indexer,col_indexer] = value instead\n",
      "\n",
      "See the caveats in the documentation: https://pandas.pydata.org/pandas-docs/stable/user_guide/indexing.html#returning-a-view-versus-a-copy\n",
      "  ffs_rl['whiff'] = np.where(ffs_rl['PitchCall']=='StrikeSwinging',1,0)\n",
      "/tmp/ipykernel_12080/2915248739.py:3: SettingWithCopyWarning: \n",
      "A value is trying to be set on a copy of a slice from a DataFrame.\n",
      "Try using .loc[row_indexer,col_indexer] = value instead\n",
      "\n",
      "See the caveats in the documentation: https://pandas.pydata.org/pandas-docs/stable/user_guide/indexing.html#returning-a-view-versus-a-copy\n",
      "  ffs_lr['whiff'] = np.where(ffs_lr['PitchCall']=='StrikeSwinging',1,0)\n",
      "/tmp/ipykernel_12080/2915248739.py:4: SettingWithCopyWarning: \n",
      "A value is trying to be set on a copy of a slice from a DataFrame.\n",
      "Try using .loc[row_indexer,col_indexer] = value instead\n",
      "\n",
      "See the caveats in the documentation: https://pandas.pydata.org/pandas-docs/stable/user_guide/indexing.html#returning-a-view-versus-a-copy\n",
      "  ffs_ll['whiff'] = np.where(ffs_ll['PitchCall']=='StrikeSwinging',1,0)\n"
     ]
    }
   ],
   "execution_count": 25
  },
  {
   "cell_type": "code",
   "source": [
    "preds = ['RelSpeed','VertRelAngle','HorzRelAngle','SpinRate','SpinAxis','RelHeight','RelSide','Extension','VertBreak','InducedVertBreak','HorzBreak','ZoneSpeed','VertApprAngle','HorzApprAngle','ZoneTime','pfxx','pfxz','x0','y0','z0','vx0','vy0','vz0','ax0','ay0','az0','SpeedDrop','PitchTrajectoryXc1','PitchTrajectoryXc2','PitchTrajectoryYc0','PitchTrajectoryYc1','PitchTrajectoryYc2','PitchTrajectoryZc0','PitchTrajectoryZc1','PitchTrajectoryZc2']"
   ],
   "metadata": {
    "collapsed": false,
    "ExecuteTime": {
     "end_time": "2024-10-23T22:35:40.249820Z",
     "start_time": "2024-10-23T22:35:40.247918Z"
    }
   },
   "id": "9a6d43a4a456dce4",
   "outputs": [],
   "execution_count": 26
  },
  {
   "cell_type": "code",
   "source": [
    "ffs_rr_X = ffs_rr[preds]\n",
    "ffs_rr_y = ffs_rr['whiff']"
   ],
   "metadata": {
    "collapsed": false,
    "ExecuteTime": {
     "end_time": "2024-10-23T22:36:43.767927Z",
     "start_time": "2024-10-23T22:36:43.755975Z"
    }
   },
   "id": "31cd3f963ab715e1",
   "outputs": [],
   "execution_count": 27
  },
  {
   "cell_type": "code",
   "source": [
    "X_train, X_test, y_train, y_test = train_test_split(ffs_rr_X, ffs_rr_y, test_size=.33, random_state=25)\n",
    "\n",
    "# Set up the XGBoost model\n",
    "xgb_model = XGBClassifier(random_state=25)\n",
    "\n",
    "# Define the parameter space for Bayesian hyperparameter tuning for XGBoost\n",
    "param_space = {\n",
    "    'learning_rate': (0.01, 0.3, 'log-uniform'),  # Learning rate\n",
    "    'max_depth': (3, 10),  # Maximum depth of a tree\n",
    "    'n_estimators': (50, 300),  # Number of boosting rounds\n",
    "    'subsample': (0.6, 1.0),  # Subsample ratio of the training instances\n",
    "    'colsample_bytree': (0.6, 1.0),  # Subsample ratio of columns for each tree\n",
    "    'gamma': (0, 10),  # Minimum loss reduction required to make a further partition\n",
    "    'reg_alpha': (1e-8, 1.0, 'log-uniform'),  # L1 regularization term\n",
    "    'reg_lambda': (1e-8, 1.0, 'log-uniform'),  # L2 regularization term\n",
    "}\n",
    "\n",
    "# Set up Bayesian search using BayesSearchCV\n",
    "bayes_search = BayesSearchCV(\n",
    "    estimator=xgb_model,\n",
    "    search_spaces=param_space,\n",
    "    n_iter=25,  # Number of iterations\n",
    "    cv=3,  # 3-fold cross-validation\n",
    "    scoring='accuracy',  # Scoring metric\n",
    "    n_jobs=-1,  # Use all available cores\n",
    "    verbose=0,\n",
    "    random_state=42\n",
    ")\n",
    "\n",
    "# Fit the model using Bayesian hyperparameter tuning\n",
    "bayes_search.fit(X_train, y_train)\n",
    "\n",
    "# Best hyperparameters found\n",
    "best_params = bayes_search.best_params_\n",
    "print(f\"Best hyperparameters for Whiffs: {best_params}\")\n",
    "\n",
    "# Make predictions on the training and test sets using the best model\n",
    "best_model = bayes_search.best_estimator_\n",
    "y_train_pred = best_model.predict(X_train)\n",
    "y_test_pred = best_model.predict(X_test)\n",
    "\n",
    "# Calculate MSE and R-squared for both training and test sets\n",
    "accuracy_train = accuracy_score(y_train, y_train_pred)\n",
    "accuracy_test = accuracy_score(y_test, y_test_pred)\n",
    "auc_train = roc_auc_score(y_train, y_train_pred)\n",
    "auc_test = roc_auc_score(y_test, y_test_pred)\n",
    "\n",
    "print(f'Accuracy (Training): {accuracy_train:.4f}')\n",
    "print(f'ROC AUC (Training): {auc_train:.4f}')\n",
    "print(f'Accuracy (Test): {accuracy_test:.4f}')\n",
    "print(f'ROC AUC (Test): {auc_test:.4f}')"
   ],
   "metadata": {
    "collapsed": false,
    "ExecuteTime": {
     "end_time": "2024-10-23T22:37:10.966479Z",
     "start_time": "2024-10-23T22:36:45.017221Z"
    }
   },
   "id": "1fd5cb925e76201e",
   "outputs": [
    {
     "name": "stdout",
     "output_type": "stream",
     "text": [
      "Best hyperparameters for Whiffs: OrderedDict({'colsample_bytree': 0.8468317434009265, 'gamma': 8, 'learning_rate': 0.03390942329293072, 'max_depth': 9, 'n_estimators': 198, 'reg_alpha': 0.0005714263732942848, 'reg_lambda': 0.0015496016767113624, 'subsample': 0.768833034380279})\n",
      "Accuracy (Training): 0.9168\n",
      "ROC AUC (Training): 0.5011\n",
      "Accuracy (Test): 0.9112\n",
      "ROC AUC (Test): 0.5004\n"
     ]
    }
   ],
   "execution_count": 28
  },
  {
   "metadata": {
    "ExecuteTime": {
     "end_time": "2024-10-23T22:37:11.050644Z",
     "start_time": "2024-10-23T22:37:11.046606Z"
    }
   },
   "cell_type": "code",
   "source": [
    "import joblib\n",
    "\n",
    "joblib.dump(best_model, '../../models/fourseam_rr_model.pkl')"
   ],
   "id": "79f025ad88ab92a0",
   "outputs": [
    {
     "data": {
      "text/plain": [
       "['../../models/fourseam_rr_model.pkl']"
      ]
     },
     "execution_count": 29,
     "metadata": {},
     "output_type": "execute_result"
    }
   ],
   "execution_count": 29
  },
  {
   "metadata": {
    "ExecuteTime": {
     "end_time": "2024-10-23T22:38:27.054425Z",
     "start_time": "2024-10-23T22:38:27.039932Z"
    }
   },
   "cell_type": "code",
   "source": [
    "ffs_rr['Date'] = pd.to_datetime(ffs_rr['Date'], format = 'mixed')"
   ],
   "id": "9b3a1399d7a0ff50",
   "outputs": [
    {
     "name": "stderr",
     "output_type": "stream",
     "text": [
      "/tmp/ipykernel_12080/2153481945.py:1: SettingWithCopyWarning: \n",
      "A value is trying to be set on a copy of a slice from a DataFrame.\n",
      "Try using .loc[row_indexer,col_indexer] = value instead\n",
      "\n",
      "See the caveats in the documentation: https://pandas.pydata.org/pandas-docs/stable/user_guide/indexing.html#returning-a-view-versus-a-copy\n",
      "  ffs_rr['Date'] = pd.to_datetime(ffs_rr['Date'], format = 'mixed')\n"
     ]
    }
   ],
   "execution_count": 30
  },
  {
   "cell_type": "code",
   "source": [
    "aub_ffs_rr_2024 = ffs_rr[(ffs_rr['PitcherTeam']=='AUB_TIG') & (ffs_rr['Date'] > datetime.datetime(2024,1,1))]"
   ],
   "metadata": {
    "collapsed": false,
    "ExecuteTime": {
     "end_time": "2024-10-23T22:43:46.309431Z",
     "start_time": "2024-10-23T22:43:46.302707Z"
    }
   },
   "id": "64cbb1b2dfadae86",
   "outputs": [],
   "execution_count": 39
  },
  {
   "cell_type": "code",
   "source": [
    "# Get unique values\n",
    "unique_values = ffs_rr['Pitcher'].unique()\n",
    "aub_unique_values = aub_ffs_rr_2024['Pitcher'].unique()\n",
    "\n",
    "print(aub_unique_values)\n",
    "\n",
    "# Create a dictionary to store subsets\n",
    "all_subsets = {value: ffs_rr[ffs_rr['Pitcher'] == value] for value in unique_values}\n",
    "\n",
    "aub_subsets = {value: aub_ffs_rr_2024[aub_ffs_rr_2024['Pitcher'] == value] for value in aub_unique_values}"
   ],
   "metadata": {
    "collapsed": false,
    "ExecuteTime": {
     "end_time": "2024-10-23T22:43:49.717297Z",
     "start_time": "2024-10-23T22:43:47.550522Z"
    }
   },
   "id": "7738968264671b39",
   "outputs": [
    {
     "name": "stdout",
     "output_type": "stream",
     "text": [
      "['Tilly, Cameron' 'Allsup, Chase' 'McBride, Connor' 'Carlson, Parker'\n",
      " 'Watts, Dylan' 'Murphy, Hayden' 'Petrovic, Alexander' 'Armstrong, John'\n",
      " 'Cannon, Will' 'Schorr, Ben' 'Herberholz, Christian' 'Gonzalez, Joseph']\n"
     ]
    }
   ],
   "execution_count": 40
  },
  {
   "cell_type": "code",
   "source": [
    "def aub_rr_ffs_stuff(name):\n",
    "    \n",
    "    preds = ['RelSpeed','VertRelAngle','HorzRelAngle','SpinRate','SpinAxis','RelHeight','RelSide','Extension','VertBreak','InducedVertBreak','HorzBreak','ZoneSpeed','VertApprAngle','HorzApprAngle','ZoneTime','pfxx','pfxz','x0','y0','z0','vx0','vy0','vz0','ax0','ay0','az0','SpeedDrop','PitchTrajectoryXc1','PitchTrajectoryXc2','PitchTrajectoryYc0','PitchTrajectoryYc1','PitchTrajectoryYc2','PitchTrajectoryZc0','PitchTrajectoryZc1','PitchTrajectoryZc2']\n",
    "    \n",
    "    all_preds = best_model.predict_proba(ffs_rr_X)[:,1]\n",
    "    mean_pred = np.mean(all_preds)\n",
    "\n",
    "    pitcher = aub_subsets[name]\n",
    "    pitcher_x = pitcher[preds]\n",
    "\n",
    "    whiff_preds = best_model.predict_proba(pitcher_x)[:,1]\n",
    "\n",
    "    stuff = whiff_preds/mean_pred\n",
    "    \n",
    "    print(f\"{name} RR Four Seam stuff+: {np.mean(stuff * 100)}\")"
   ],
   "metadata": {
    "collapsed": false,
    "ExecuteTime": {
     "end_time": "2024-10-23T22:43:52.153087Z",
     "start_time": "2024-10-23T22:43:52.145297Z"
    }
   },
   "id": "6e33b8eb1b6c9bce",
   "outputs": [],
   "execution_count": 41
  },
  {
   "cell_type": "code",
   "source": [
    "for pitcher in aub_unique_values:\n",
    "    aub_rr_ffs_stuff(pitcher)"
   ],
   "metadata": {
    "collapsed": false,
    "ExecuteTime": {
     "end_time": "2024-10-23T22:43:53.707135Z",
     "start_time": "2024-10-23T22:43:53.470413Z"
    }
   },
   "id": "f5246b9f3e5aff9a",
   "outputs": [
    {
     "name": "stdout",
     "output_type": "stream",
     "text": [
      "Tilly, Cameron RR Four Seam stuff+: 108.41560363769531\n",
      "Allsup, Chase RR Four Seam stuff+: 138.9651641845703\n",
      "McBride, Connor RR Four Seam stuff+: 107.19381713867188\n",
      "Carlson, Parker RR Four Seam stuff+: 75.41413116455078\n",
      "Watts, Dylan RR Four Seam stuff+: 86.21150970458984\n",
      "Murphy, Hayden RR Four Seam stuff+: 119.8906021118164\n",
      "Petrovic, Alexander RR Four Seam stuff+: 101.44122314453125\n",
      "Armstrong, John RR Four Seam stuff+: 94.03411102294922\n",
      "Cannon, Will RR Four Seam stuff+: 127.3408203125\n",
      "Schorr, Ben RR Four Seam stuff+: 72.4330062866211\n",
      "Herberholz, Christian RR Four Seam stuff+: 115.09632110595703\n",
      "Gonzalez, Joseph RR Four Seam stuff+: 65.45948791503906\n"
     ]
    }
   ],
   "execution_count": 42
  },
  {
   "cell_type": "code",
   "source": [
    "ffs_rl_X = ffs_rl[preds]\n",
    "ffs_rl_y = ffs_rl['whiff']"
   ],
   "metadata": {
    "collapsed": false,
    "ExecuteTime": {
     "end_time": "2024-10-23T22:44:12.827822Z",
     "start_time": "2024-10-23T22:44:12.824738Z"
    }
   },
   "id": "9055dc334c8a7eb2",
   "outputs": [],
   "execution_count": 43
  },
  {
   "cell_type": "code",
   "source": [
    "X_train, X_test, y_train, y_test = train_test_split(ffs_rl_X, ffs_rl_y, test_size=.33, random_state=25)\n",
    "\n",
    "# Set up the XGBoost model\n",
    "xgb_model = XGBClassifier(random_state=25)\n",
    "\n",
    "# Define the parameter space for Bayesian hyperparameter tuning for XGBoost\n",
    "param_space = {\n",
    "    'learning_rate': (0.01, 0.3, 'log-uniform'),  # Learning rate\n",
    "    'max_depth': (3, 10),  # Maximum depth of a tree\n",
    "    'n_estimators': (50, 300),  # Number of boosting rounds\n",
    "    'subsample': (0.6, 1.0),  # Subsample ratio of the training instances\n",
    "    'colsample_bytree': (0.6, 1.0),  # Subsample ratio of columns for each tree\n",
    "    'gamma': (0, 10),  # Minimum loss reduction required to make a further partition\n",
    "    'reg_alpha': (1e-8, 1.0, 'log-uniform'),  # L1 regularization term\n",
    "    'reg_lambda': (1e-8, 1.0, 'log-uniform'),  # L2 regularization term\n",
    "}\n",
    "\n",
    "# Set up Bayesian search using BayesSearchCV\n",
    "bayes_search = BayesSearchCV(\n",
    "    estimator=xgb_model,\n",
    "    search_spaces=param_space,\n",
    "    n_iter=25,  # Number of iterations\n",
    "    cv=3,  # 3-fold cross-validation\n",
    "    scoring='accuracy',  # Scoring metric\n",
    "    n_jobs=-1,  # Use all available cores\n",
    "    verbose=0,\n",
    "    random_state=42\n",
    ")\n",
    "\n",
    "# Fit the model using Bayesian hyperparameter tuning\n",
    "bayes_search.fit(X_train, y_train)\n",
    "\n",
    "# Best hyperparameters found\n",
    "best_params = bayes_search.best_params_\n",
    "print(f\"Best hyperparameters for Whiffs: {best_params}\")\n",
    "\n",
    "# Make predictions on the training and test sets using the best model\n",
    "best_model = bayes_search.best_estimator_\n",
    "y_train_pred = best_model.predict(X_train)\n",
    "y_test_pred = best_model.predict(X_test)\n",
    "\n",
    "# Calculate MSE and R-squared for both training and test sets\n",
    "accuracy_train = accuracy_score(y_train, y_train_pred)\n",
    "accuracy_test = accuracy_score(y_test, y_test_pred)\n",
    "auc_train = roc_auc_score(y_train, y_train_pred)\n",
    "auc_test = roc_auc_score(y_test, y_test_pred)\n",
    "\n",
    "print(f'Accuracy (Training): {accuracy_train:.4f}')\n",
    "print(f'ROC AUC (Training): {auc_train:.4f}')\n",
    "print(f'Accuracy (Test): {accuracy_test:.4f}')\n",
    "print(f'ROC AUC (Test): {auc_test:.4f}')"
   ],
   "metadata": {
    "collapsed": false,
    "ExecuteTime": {
     "end_time": "2024-10-23T22:44:37.146743Z",
     "start_time": "2024-10-23T22:44:13.698714Z"
    }
   },
   "id": "bf7757328119f3ca",
   "outputs": [
    {
     "name": "stdout",
     "output_type": "stream",
     "text": [
      "Best hyperparameters for Whiffs: OrderedDict({'colsample_bytree': 0.9349553422213137, 'gamma': 9, 'learning_rate': 0.02806554771929606, 'max_depth': 10, 'n_estimators': 266, 'reg_alpha': 3.151399971510153e-08, 'reg_lambda': 1.2778159542148633e-07, 'subsample': 0.7414349590513672})\n",
      "Accuracy (Training): 0.9111\n",
      "ROC AUC (Training): 0.5009\n",
      "Accuracy (Test): 0.9079\n",
      "ROC AUC (Test): 0.5004\n"
     ]
    }
   ],
   "execution_count": 44
  },
  {
   "metadata": {
    "ExecuteTime": {
     "end_time": "2024-10-23T22:42:25.878160Z",
     "start_time": "2024-10-23T22:42:25.870646Z"
    }
   },
   "cell_type": "code",
   "source": [
    "import joblib\n",
    "\n",
    "joblib.dump(best_model, '../../models/fourseam_rl_model.pkl')"
   ],
   "id": "6757f7c56492670e",
   "outputs": [
    {
     "data": {
      "text/plain": [
       "['../../models/fourseam_rl_model.pkl']"
      ]
     },
     "execution_count": 38,
     "metadata": {},
     "output_type": "execute_result"
    }
   ],
   "execution_count": 38
  },
  {
   "metadata": {
    "ExecuteTime": {
     "end_time": "2024-10-23T22:44:48.987336Z",
     "start_time": "2024-10-23T22:44:48.976008Z"
    }
   },
   "cell_type": "code",
   "source": [
    "ffs_rl['Date'] = pd.to_datetime(ffs_rl['Date'], format='mixed')\n",
    "aub_ffs_rl_2024 = ffs_rl[(ffs_rl['PitcherTeam']=='AUB_TIG') & (ffs_rl['Date'] > datetime.datetime(2024,1,1))]"
   ],
   "id": "9ce7273eebe80bd9",
   "outputs": [
    {
     "name": "stderr",
     "output_type": "stream",
     "text": [
      "/tmp/ipykernel_12080/233802204.py:1: SettingWithCopyWarning: \n",
      "A value is trying to be set on a copy of a slice from a DataFrame.\n",
      "Try using .loc[row_indexer,col_indexer] = value instead\n",
      "\n",
      "See the caveats in the documentation: https://pandas.pydata.org/pandas-docs/stable/user_guide/indexing.html#returning-a-view-versus-a-copy\n",
      "  ffs_rl['Date'] = pd.to_datetime(ffs_rl['Date'], format='mixed')\n"
     ]
    }
   ],
   "execution_count": 46
  },
  {
   "cell_type": "code",
   "source": [
    "# Get unique values\n",
    "unique_values = ffs_rl['Pitcher'].unique()\n",
    "aub_unique_values = aub_ffs_rl_2024['Pitcher'].unique()\n",
    "\n",
    "print(aub_unique_values)\n",
    "\n",
    "# Create a dictionary to store subsets\n",
    "all_subsets = {value: ffs_rl[ffs_rl['Pitcher'] == value] for value in unique_values}\n",
    "\n",
    "aub_subsets = {value: aub_ffs_rl_2024[aub_ffs_rl_2024['Pitcher'] == value] for value in aub_unique_values}"
   ],
   "metadata": {
    "collapsed": false,
    "ExecuteTime": {
     "end_time": "2024-10-23T22:45:10.828682Z",
     "start_time": "2024-10-23T22:45:09.133868Z"
    }
   },
   "id": "83a0df365bda10ea",
   "outputs": [
    {
     "name": "stdout",
     "output_type": "stream",
     "text": [
      "['Tilly, Cameron' 'Allsup, Chase' 'McBride, Connor' 'Carlson, Parker'\n",
      " 'Murphy, Hayden' 'Watts, Dylan' 'Armstrong, John' 'Petrovic, Alexander'\n",
      " 'Schorr, Ben' 'Cannon, Will' 'Herberholz, Christian' 'Gonzalez, Joseph']\n"
     ]
    }
   ],
   "execution_count": 48
  },
  {
   "cell_type": "code",
   "source": [
    "def aub_rl_ffs_stuff(name):\n",
    "    \n",
    "    preds = ['RelSpeed','VertRelAngle','HorzRelAngle','SpinRate','SpinAxis','RelHeight','RelSide','Extension','VertBreak','InducedVertBreak','HorzBreak','ZoneSpeed','VertApprAngle','HorzApprAngle','ZoneTime','pfxx','pfxz','x0','y0','z0','vx0','vy0','vz0','ax0','ay0','az0','SpeedDrop','PitchTrajectoryXc1','PitchTrajectoryXc2','PitchTrajectoryYc0','PitchTrajectoryYc1','PitchTrajectoryYc2','PitchTrajectoryZc0','PitchTrajectoryZc1','PitchTrajectoryZc2']\n",
    "    \n",
    "    all_preds = best_model.predict_proba(ffs_rl_X)[:,1]\n",
    "    mean_pred = np.mean(all_preds)\n",
    "\n",
    "    pitcher = aub_subsets[name]\n",
    "    pitcher_x = pitcher[preds]\n",
    "\n",
    "    whiff_preds = best_model.predict_proba(pitcher_x)[:,1]\n",
    "\n",
    "    stuff = whiff_preds/mean_pred\n",
    "    \n",
    "    print(f\"{name} Four Seam RL stuff+: {np.mean(stuff * 100)}\")"
   ],
   "metadata": {
    "collapsed": false,
    "ExecuteTime": {
     "end_time": "2024-10-23T22:45:30.289510Z",
     "start_time": "2024-10-23T22:45:30.286216Z"
    }
   },
   "id": "e15187d672310975",
   "outputs": [],
   "execution_count": 49
  },
  {
   "cell_type": "code",
   "source": [
    "for pitcher in aub_unique_values:\n",
    "    aub_rl_ffs_stuff(pitcher)"
   ],
   "metadata": {
    "collapsed": false,
    "ExecuteTime": {
     "end_time": "2024-10-23T22:45:32.605444Z",
     "start_time": "2024-10-23T22:45:32.408564Z"
    }
   },
   "id": "5c06a2ad389990b",
   "outputs": [
    {
     "name": "stdout",
     "output_type": "stream",
     "text": [
      "Tilly, Cameron Four Seam RL stuff+: 103.46245574951172\n",
      "Allsup, Chase Four Seam RL stuff+: 138.93927001953125\n",
      "McBride, Connor Four Seam RL stuff+: 139.33816528320312\n",
      "Carlson, Parker Four Seam RL stuff+: 80.01825714111328\n",
      "Murphy, Hayden Four Seam RL stuff+: 129.45579528808594\n",
      "Watts, Dylan Four Seam RL stuff+: 96.42069244384766\n",
      "Armstrong, John Four Seam RL stuff+: 112.68742370605469\n",
      "Petrovic, Alexander Four Seam RL stuff+: 100.37000274658203\n",
      "Schorr, Ben Four Seam RL stuff+: 69.6596450805664\n",
      "Cannon, Will Four Seam RL stuff+: 119.47042083740234\n",
      "Herberholz, Christian Four Seam RL stuff+: 113.9951400756836\n",
      "Gonzalez, Joseph Four Seam RL stuff+: 83.19973754882812\n"
     ]
    }
   ],
   "execution_count": 50
  },
  {
   "cell_type": "code",
   "source": [
    "ffs_lr_X = ffs_lr[preds]\n",
    "ffs_lr_y = ffs_lr['whiff']"
   ],
   "metadata": {
    "collapsed": false,
    "ExecuteTime": {
     "end_time": "2024-10-23T22:47:38.219645Z",
     "start_time": "2024-10-23T22:47:38.213464Z"
    }
   },
   "id": "4d29e4ba55bb48c7",
   "outputs": [],
   "execution_count": 51
  },
  {
   "cell_type": "code",
   "source": [
    "X_train, X_test, y_train, y_test = train_test_split(ffs_lr_X, ffs_lr_y, test_size=.33, random_state=25)\n",
    "\n",
    "# Set up the XGBoost model\n",
    "xgb_model = XGBClassifier(random_state=25)\n",
    "\n",
    "# Define the parameter space for Bayesian hyperparameter tuning for XGBoost\n",
    "param_space = {\n",
    "    'learning_rate': (0.01, 0.3, 'log-uniform'),  # Learning rate\n",
    "    'max_depth': (3, 10),  # Maximum depth of a tree\n",
    "    'n_estimators': (50, 300),  # Number of boosting rounds\n",
    "    'subsample': (0.6, 1.0),  # Subsample ratio of the training instances\n",
    "    'colsample_bytree': (0.6, 1.0),  # Subsample ratio of columns for each tree\n",
    "    'gamma': (0, 10),  # Minimum loss reduction required to make a further partition\n",
    "    'reg_alpha': (1e-8, 1.0, 'log-uniform'),  # L1 regularization term\n",
    "    'reg_lambda': (1e-8, 1.0, 'log-uniform'),  # L2 regularization term\n",
    "}\n",
    "\n",
    "# Set up Bayesian search using BayesSearchCV\n",
    "bayes_search = BayesSearchCV(\n",
    "    estimator=xgb_model,\n",
    "    search_spaces=param_space,\n",
    "    n_iter=25,  # Number of iterations\n",
    "    cv=3,  # 3-fold cross-validation\n",
    "    scoring='accuracy',  # Scoring metric\n",
    "    n_jobs=-1,  # Use all available cores\n",
    "    verbose=0,\n",
    "    random_state=42\n",
    ")\n",
    "\n",
    "# Fit the model using Bayesian hyperparameter tuning\n",
    "bayes_search.fit(X_train, y_train)\n",
    "\n",
    "# Best hyperparameters found\n",
    "best_params = bayes_search.best_params_\n",
    "print(f\"Best hyperparameters for Whiffs: {best_params}\")\n",
    "\n",
    "# Make predictions on the training and test sets using the best model\n",
    "best_model = bayes_search.best_estimator_\n",
    "y_train_pred = best_model.predict(X_train)\n",
    "y_test_pred = best_model.predict(X_test)\n",
    "\n",
    "# Calculate MSE and R-squared for both training and test sets\n",
    "accuracy_train = accuracy_score(y_train, y_train_pred)\n",
    "accuracy_test = accuracy_score(y_test, y_test_pred)\n",
    "auc_train = roc_auc_score(y_train, y_train_pred)\n",
    "auc_test = roc_auc_score(y_test, y_test_pred)\n",
    "\n",
    "print(f'Accuracy (Training): {accuracy_train:.4f}')\n",
    "print(f'ROC AUC (Training): {auc_train:.4f}')\n",
    "print(f'Accuracy (Test): {accuracy_test:.4f}')\n",
    "print(f'ROC AUC (Test): {auc_test:.4f}')"
   ],
   "metadata": {
    "collapsed": false,
    "ExecuteTime": {
     "end_time": "2024-10-23T22:47:55.965668Z",
     "start_time": "2024-10-23T22:47:39.063053Z"
    }
   },
   "id": "f3c2bdd7e0d6ff63",
   "outputs": [
    {
     "name": "stdout",
     "output_type": "stream",
     "text": [
      "Best hyperparameters for Whiffs: OrderedDict({'colsample_bytree': 0.8468317434009265, 'gamma': 8, 'learning_rate': 0.03390942329293072, 'max_depth': 9, 'n_estimators': 198, 'reg_alpha': 0.0005714263732942848, 'reg_lambda': 0.0015496016767113624, 'subsample': 0.768833034380279})\n",
      "Accuracy (Training): 0.8990\n",
      "ROC AUC (Training): 0.5036\n",
      "Accuracy (Test): 0.8987\n",
      "ROC AUC (Test): 0.5004\n"
     ]
    }
   ],
   "execution_count": 52
  },
  {
   "metadata": {
    "ExecuteTime": {
     "end_time": "2024-10-23T22:47:59.855762Z",
     "start_time": "2024-10-23T22:47:59.850800Z"
    }
   },
   "cell_type": "code",
   "source": [
    "import joblib\n",
    "\n",
    "joblib.dump(best_model, '../../models/fourseam_lr_model.pkl')"
   ],
   "id": "10623cb6b015fecf",
   "outputs": [
    {
     "data": {
      "text/plain": [
       "['../../models/fourseam_lr_model.pkl']"
      ]
     },
     "execution_count": 53,
     "metadata": {},
     "output_type": "execute_result"
    }
   ],
   "execution_count": 53
  },
  {
   "cell_type": "code",
   "source": [
    "ffs_lr['Date'] = pd.to_datetime(ffs_lr['Date'], format='mixed')\n",
    "aub_ffs_lr_2024 = ffs_lr[(ffs_lr['PitcherTeam']=='AUB_TIG') & (ffs_lr['Date'] > datetime.datetime(2024,1,1))]"
   ],
   "metadata": {
    "collapsed": false,
    "ExecuteTime": {
     "end_time": "2024-10-23T22:48:01.562952Z",
     "start_time": "2024-10-23T22:48:01.552801Z"
    }
   },
   "id": "632469c9763fea57",
   "outputs": [
    {
     "name": "stderr",
     "output_type": "stream",
     "text": [
      "/tmp/ipykernel_12080/976807833.py:1: SettingWithCopyWarning: \n",
      "A value is trying to be set on a copy of a slice from a DataFrame.\n",
      "Try using .loc[row_indexer,col_indexer] = value instead\n",
      "\n",
      "See the caveats in the documentation: https://pandas.pydata.org/pandas-docs/stable/user_guide/indexing.html#returning-a-view-versus-a-copy\n",
      "  ffs_lr['Date'] = pd.to_datetime(ffs_lr['Date'], format='mixed')\n"
     ]
    }
   ],
   "execution_count": 54
  },
  {
   "cell_type": "code",
   "source": [
    "# Get unique values\n",
    "unique_values = ffs_lr['Pitcher'].unique()\n",
    "aub_unique_values = aub_ffs_lr_2024['Pitcher'].unique()\n",
    "\n",
    "print(aub_unique_values)\n",
    "\n",
    "# Create a dictionary to store subsets\n",
    "all_subsets = {value: ffs_lr[ffs_lr['Pitcher'] == value] for value in unique_values}\n",
    "\n",
    "aub_subsets = {value: aub_ffs_lr_2024[aub_ffs_lr_2024['Pitcher'] == value] for value in aub_unique_values}"
   ],
   "metadata": {
    "collapsed": false,
    "ExecuteTime": {
     "end_time": "2024-10-23T22:48:10.131379Z",
     "start_time": "2024-10-23T22:48:09.648664Z"
    }
   },
   "id": "3ed6d43a69d631ff",
   "outputs": [
    {
     "name": "stdout",
     "output_type": "stream",
     "text": [
      "['Myers, Carson' 'Graves, Griffin' 'Crotchfelt, Zach' 'Nelson, Drew'\n",
      " 'Copeland, Konner' 'Bauman, Tanner' 'Murphy, Hayden']\n"
     ]
    }
   ],
   "execution_count": 55
  },
  {
   "cell_type": "code",
   "source": [
    "def aub_lr_ffs_stuff(name):\n",
    "    \n",
    "    preds = ['RelSpeed','VertRelAngle','HorzRelAngle','SpinRate','SpinAxis','RelHeight','RelSide','Extension','VertBreak','InducedVertBreak','HorzBreak','ZoneSpeed','VertApprAngle','HorzApprAngle','ZoneTime','pfxx','pfxz','x0','y0','z0','vx0','vy0','vz0','ax0','ay0','az0','SpeedDrop','PitchTrajectoryXc1','PitchTrajectoryXc2','PitchTrajectoryYc0','PitchTrajectoryYc1','PitchTrajectoryYc2','PitchTrajectoryZc0','PitchTrajectoryZc1','PitchTrajectoryZc2']\n",
    "    \n",
    "    all_preds = best_model.predict_proba(ffs_lr_X)[:,1]\n",
    "    mean_pred = np.mean(all_preds)\n",
    "\n",
    "    pitcher = aub_subsets[name]\n",
    "    pitcher_x = pitcher[preds]\n",
    "\n",
    "    whiff_preds = best_model.predict_proba(pitcher_x)[:,1]\n",
    "\n",
    "    stuff = whiff_preds/mean_pred\n",
    "    \n",
    "    print(f\"{name} Four Seam LR stuff+: {np.mean(stuff * 100)}\")"
   ],
   "metadata": {
    "collapsed": false,
    "ExecuteTime": {
     "end_time": "2024-10-23T22:48:32.994232Z",
     "start_time": "2024-10-23T22:48:32.990757Z"
    }
   },
   "id": "f66d6231b8b3571d",
   "outputs": [],
   "execution_count": 58
  },
  {
   "cell_type": "code",
   "source": [
    "for pitcher in aub_unique_values:\n",
    "    aub_lr_ffs_stuff(pitcher)"
   ],
   "metadata": {
    "collapsed": false,
    "ExecuteTime": {
     "end_time": "2024-10-23T22:48:35.654532Z",
     "start_time": "2024-10-23T22:48:35.558485Z"
    }
   },
   "id": "8760355e910d5a62",
   "outputs": [
    {
     "name": "stdout",
     "output_type": "stream",
     "text": [
      "Myers, Carson Four Seam LR stuff+: 74.96627044677734\n",
      "Graves, Griffin Four Seam LR stuff+: 104.0830307006836\n",
      "Crotchfelt, Zach Four Seam LR stuff+: 117.79011535644531\n",
      "Nelson, Drew Four Seam LR stuff+: 78.60383605957031\n",
      "Copeland, Konner Four Seam LR stuff+: 80.51910400390625\n",
      "Bauman, Tanner Four Seam LR stuff+: 57.797489166259766\n",
      "Murphy, Hayden Four Seam LR stuff+: 83.45811462402344\n"
     ]
    }
   ],
   "execution_count": 59
  },
  {
   "cell_type": "code",
   "source": [
    "ffs_ll_X = ffs_ll[preds]\n",
    "ffs_ll_y = ffs_ll['whiff']"
   ],
   "metadata": {
    "collapsed": false,
    "ExecuteTime": {
     "end_time": "2024-10-23T22:50:53.121810Z",
     "start_time": "2024-10-23T22:50:53.118167Z"
    }
   },
   "id": "4a6b59ded1b138d4",
   "outputs": [],
   "execution_count": 60
  },
  {
   "cell_type": "code",
   "source": [
    "X_train, X_test, y_train, y_test = train_test_split(ffs_ll_X, ffs_ll_y, test_size=.33, random_state=25)\n",
    "\n",
    "# Set up the XGBoost model\n",
    "xgb_model = XGBClassifier(random_state=25)\n",
    "\n",
    "# Define the parameter space for Bayesian hyperparameter tuning for XGBoost\n",
    "param_space = {\n",
    "    'learning_rate': (0.01, 0.3, 'log-uniform'),  # Learning rate\n",
    "    'max_depth': (3, 10),  # Maximum depth of a tree\n",
    "    'n_estimators': (50, 300),  # Number of boosting rounds\n",
    "    'subsample': (0.6, 1.0),  # Subsample ratio of the training instances\n",
    "    'colsample_bytree': (0.6, 1.0),  # Subsample ratio of columns for each tree\n",
    "    'gamma': (0, 10),  # Minimum loss reduction required to make a further partition\n",
    "    'reg_alpha': (1e-8, 1.0, 'log-uniform'),  # L1 regularization term\n",
    "    'reg_lambda': (1e-8, 1.0, 'log-uniform'),  # L2 regularization term\n",
    "}\n",
    "\n",
    "# Set up Bayesian search using BayesSearchCV\n",
    "bayes_search = BayesSearchCV(\n",
    "    estimator=xgb_model,\n",
    "    search_spaces=param_space,\n",
    "    n_iter=25,  # Number of iterations\n",
    "    cv=3,  # 3-fold cross-validation\n",
    "    scoring='accuracy',  # Scoring metric\n",
    "    n_jobs=-1,  # Use all available cores\n",
    "    verbose=0,\n",
    "    random_state=42\n",
    ")\n",
    "\n",
    "# Fit the model using Bayesian hyperparameter tuning\n",
    "bayes_search.fit(X_train, y_train)\n",
    "\n",
    "# Best hyperparameters found\n",
    "best_params = bayes_search.best_params_\n",
    "print(f\"Best hyperparameters for Whiffs: {best_params}\")\n",
    "\n",
    "# Make predictions on the training and test sets using the best model\n",
    "best_model = bayes_search.best_estimator_\n",
    "y_train_pred = best_model.predict(X_train)\n",
    "y_test_pred = best_model.predict(X_test)\n",
    "\n",
    "# Calculate MSE and R-squared for both training and test sets\n",
    "accuracy_train = accuracy_score(y_train, y_train_pred)\n",
    "accuracy_test = accuracy_score(y_test, y_test_pred)\n",
    "auc_train = roc_auc_score(y_train, y_train_pred)\n",
    "auc_test = roc_auc_score(y_test, y_test_pred)\n",
    "\n",
    "print(f'Accuracy (Training): {accuracy_train:.4f}')\n",
    "print(f'ROC AUC (Training): {auc_train:.4f}')\n",
    "print(f'Accuracy (Test): {accuracy_test:.4f}')\n",
    "print(f'ROC AUC (Test): {auc_test:.4f}')"
   ],
   "metadata": {
    "collapsed": false,
    "ExecuteTime": {
     "end_time": "2024-10-23T22:51:05.458877Z",
     "start_time": "2024-10-23T22:50:54.416274Z"
    }
   },
   "id": "519c6293db6b4f6d",
   "outputs": [
    {
     "name": "stdout",
     "output_type": "stream",
     "text": [
      "Best hyperparameters for Whiffs: OrderedDict({'colsample_bytree': 0.7779330049204607, 'gamma': 9, 'learning_rate': 0.014285310742471472, 'max_depth': 6, 'n_estimators': 97, 'reg_alpha': 4.259148185658276e-05, 'reg_lambda': 1.752203051791065e-07, 'subsample': 0.9006210125361986})\n",
      "Accuracy (Training): 0.9202\n",
      "ROC AUC (Training): 0.5000\n",
      "Accuracy (Test): 0.9170\n",
      "ROC AUC (Test): 0.5000\n"
     ]
    }
   ],
   "execution_count": 61
  },
  {
   "metadata": {
    "ExecuteTime": {
     "end_time": "2024-10-23T22:53:11.055213Z",
     "start_time": "2024-10-23T22:53:11.045995Z"
    }
   },
   "cell_type": "code",
   "source": [
    "import joblib\n",
    "\n",
    "joblib.dump(best_model, '../../models/fourseam_ll_model.pkl')"
   ],
   "id": "d3509a03c911d844",
   "outputs": [
    {
     "data": {
      "text/plain": [
       "['../../models/fourseam_ll_model.pkl']"
      ]
     },
     "execution_count": 67,
     "metadata": {},
     "output_type": "execute_result"
    }
   ],
   "execution_count": 67
  },
  {
   "cell_type": "code",
   "source": [
    "ffs_ll['Date'] = pd.to_datetime(ffs_ll['Date'], format='mixed')\n",
    "aub_ffs_ll_2024 = ffs_ll[(ffs_ll['PitcherTeam']=='AUB_TIG') & (ffs_ll['Date'] > datetime.datetime(2024,1,1))]"
   ],
   "metadata": {
    "collapsed": false,
    "ExecuteTime": {
     "end_time": "2024-10-23T22:51:42.667571Z",
     "start_time": "2024-10-23T22:51:42.659159Z"
    }
   },
   "id": "478ff4999d70642b",
   "outputs": [
    {
     "name": "stderr",
     "output_type": "stream",
     "text": [
      "/tmp/ipykernel_12080/1848920086.py:1: SettingWithCopyWarning: \n",
      "A value is trying to be set on a copy of a slice from a DataFrame.\n",
      "Try using .loc[row_indexer,col_indexer] = value instead\n",
      "\n",
      "See the caveats in the documentation: https://pandas.pydata.org/pandas-docs/stable/user_guide/indexing.html#returning-a-view-versus-a-copy\n",
      "  ffs_ll['Date'] = pd.to_datetime(ffs_ll['Date'], format='mixed')\n"
     ]
    }
   ],
   "execution_count": 63
  },
  {
   "cell_type": "code",
   "source": [
    "# Get unique values\n",
    "unique_values = ffs_ll['Pitcher'].unique()\n",
    "aub_unique_values = aub_ffs_ll_2024['Pitcher'].unique()\n",
    "\n",
    "print(aub_unique_values)\n",
    "\n",
    "# Create a dictionary to store subsets\n",
    "all_subsets = {value: ffs_ll[ffs_ll['Pitcher'] == value] for value in unique_values}\n",
    "\n",
    "aub_subsets = {value: aub_ffs_ll_2024[aub_ffs_ll_2024['Pitcher'] == value] for value in aub_unique_values}"
   ],
   "metadata": {
    "collapsed": false,
    "ExecuteTime": {
     "end_time": "2024-10-23T22:52:11.873872Z",
     "start_time": "2024-10-23T22:52:11.484826Z"
    }
   },
   "id": "df7771347a5d74ff",
   "outputs": [
    {
     "name": "stdout",
     "output_type": "stream",
     "text": [
      "['Myers, Carson' 'Graves, Griffin' 'Nelson, Drew' 'Copeland, Konner'\n",
      " 'Bauman, Tanner' 'Crotchfelt, Zach']\n"
     ]
    }
   ],
   "execution_count": 64
  },
  {
   "cell_type": "code",
   "source": [
    "def aub_ll_ffs_stuff(name):\n",
    "    \n",
    "    preds = ['RelSpeed','VertRelAngle','HorzRelAngle','SpinRate','SpinAxis','RelHeight','RelSide','Extension','VertBreak','InducedVertBreak','HorzBreak','ZoneSpeed','VertApprAngle','HorzApprAngle','ZoneTime','pfxx','pfxz','x0','y0','z0','vx0','vy0','vz0','ax0','ay0','az0','SpeedDrop','PitchTrajectoryXc1','PitchTrajectoryXc2','PitchTrajectoryYc0','PitchTrajectoryYc1','PitchTrajectoryYc2','PitchTrajectoryZc0','PitchTrajectoryZc1','PitchTrajectoryZc2']\n",
    "    \n",
    "    all_preds = best_model.predict_proba(ffs_ll_X)[:,1]\n",
    "    mean_pred = np.mean(all_preds)\n",
    "\n",
    "    pitcher = aub_subsets[name]\n",
    "    pitcher_x = pitcher[preds]\n",
    "\n",
    "    whiff_preds = best_model.predict_proba(pitcher_x)[:,1]\n",
    "\n",
    "    stuff = whiff_preds/mean_pred\n",
    "    \n",
    "    print(f\"{name} Four Seam LL stuff+: {np.mean(stuff * 100)}\")"
   ],
   "metadata": {
    "collapsed": false,
    "ExecuteTime": {
     "end_time": "2024-10-23T22:52:25.255326Z",
     "start_time": "2024-10-23T22:52:25.253357Z"
    }
   },
   "id": "496f56a66b1700c8",
   "outputs": [],
   "execution_count": 65
  },
  {
   "cell_type": "code",
   "source": [
    "for pitcher in aub_unique_values:\n",
    "    aub_ll_ffs_stuff(pitcher)"
   ],
   "metadata": {
    "collapsed": false,
    "ExecuteTime": {
     "end_time": "2024-10-23T22:52:27.264170Z",
     "start_time": "2024-10-23T22:52:27.211709Z"
    }
   },
   "id": "b7c8ee1865b02f47",
   "outputs": [
    {
     "name": "stdout",
     "output_type": "stream",
     "text": [
      "Myers, Carson Four Seam LL stuff+: 80.69529724121094\n",
      "Graves, Griffin Four Seam LL stuff+: 154.1129150390625\n",
      "Nelson, Drew Four Seam LL stuff+: 111.88551330566406\n",
      "Copeland, Konner Four Seam LL stuff+: 97.95450592041016\n",
      "Bauman, Tanner Four Seam LL stuff+: 77.89878845214844\n",
      "Crotchfelt, Zach Four Seam LL stuff+: 102.84469604492188\n"
     ]
    }
   ],
   "execution_count": 66
  }
 ],
 "metadata": {
  "kernelspec": {
   "display_name": "Python 3",
   "language": "python",
   "name": "python3"
  },
  "language_info": {
   "codemirror_mode": {
    "name": "ipython",
    "version": 2
   },
   "file_extension": ".py",
   "mimetype": "text/x-python",
   "name": "python",
   "nbconvert_exporter": "python",
   "pygments_lexer": "ipython2",
   "version": "2.7.6"
  }
 },
 "nbformat": 4,
 "nbformat_minor": 5
}
