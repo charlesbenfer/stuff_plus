{
 "cells": [
  {
   "cell_type": "code",
   "id": "initial_id",
   "metadata": {
    "collapsed": true,
    "ExecuteTime": {
     "end_time": "2024-10-25T15:43:30.063588600Z",
     "start_time": "2024-10-25T15:43:28.716839700Z"
    }
   },
   "source": [
    "import datetime\n",
    "import os\n",
    "import pandas as pd\n",
    "import numpy as np\n",
    "from xgboost import XGBClassifier\n",
    "from sklearn.model_selection import train_test_split\n",
    "from sklearn.metrics import accuracy_score, roc_auc_score\n",
    "import matplotlib.pyplot as plt\n",
    "from skopt import BayesSearchCV"
   ],
   "outputs": [],
   "execution_count": 2
  },
  {
   "cell_type": "code",
   "source": [
    "csv_dir = '../../SEC Trackman Data/'\n",
    "all_files = [os.path.join(csv_dir, f) for f in os.listdir(csv_dir) if f.endswith('.csv')]\n",
    "\n",
    "df_list = []\n",
    "\n",
    "for file in all_files:\n",
    "    df = pd.read_csv(file)\n",
    "    df_list.append(df)\n",
    "\n",
    "all_pitches = pd.concat(df_list, ignore_index=True)\n",
    "\n",
    "print(all_pitches.shape)\n",
    "print(all_pitches.columns)"
   ],
   "metadata": {
    "collapsed": false,
    "ExecuteTime": {
     "end_time": "2024-10-25T15:43:48.515075500Z",
     "start_time": "2024-10-25T15:43:31.173576700Z"
    }
   },
   "id": "e30e9c1ae364f5c3",
   "outputs": [
    {
     "name": "stdout",
     "output_type": "stream",
     "text": [
      "(270589, 167)\n",
      "Index(['PitchNo', 'Date', 'Time', 'PAofInning', 'PitchofPA', 'Pitcher',\n",
      "       'PitcherId', 'PitcherThrows', 'PitcherTeam', 'Batter',\n",
      "       ...\n",
      "       'ThrowTrajectoryZc1', 'ThrowTrajectoryZc2', 'PitchReleaseConfidence',\n",
      "       'PitchLocationConfidence', 'PitchMovementConfidence',\n",
      "       'HitLaunchConfidence', 'HitLandingConfidence',\n",
      "       'CatcherThrowCatchConfidence', 'CatcherThrowReleaseConfidence',\n",
      "       'CatcherThrowLocationConfidence'],\n",
      "      dtype='object', length=167)\n"
     ]
    }
   ],
   "execution_count": 3
  },
  {
   "cell_type": "code",
   "execution_count": 30,
   "outputs": [
    {
     "name": "stdout",
     "output_type": "stream",
     "text": [
      "['Fastball' 'Slider' 'ChangeUp' 'Curveball' 'Cutter' 'Other' 'Undefined'\n",
      " 'Sinker' 'Knuckleball' 'Splitter' 'FourSeamFastBall' 'TwoSeamFastBall'\n",
      " 'OneSeamFastBall']\n",
      "['Sinker' 'Four-Seam' 'Curveball' 'Changeup' 'Slider' 'Cutter' nan\n",
      " 'Splitter' 'Other']\n"
     ]
    }
   ],
   "source": [
    "print(all_pitches['TaggedPitchType'].unique())\n",
    "print(all_pitches['AutoPitchType'].unique())"
   ],
   "metadata": {
    "collapsed": false,
    "ExecuteTime": {
     "end_time": "2024-10-25T15:59:50.258894900Z",
     "start_time": "2024-10-25T15:59:50.203974600Z"
    }
   },
   "id": "520cc95279a66116"
  },
  {
   "cell_type": "code",
   "execution_count": 42,
   "outputs": [
    {
     "data": {
      "text/plain": "2563"
     },
     "execution_count": 42,
     "metadata": {},
     "output_type": "execute_result"
    }
   ],
   "source": [
    "len(all_pitches[all_pitches['TaggedPitchType']=='FourSeamFastBall'])"
   ],
   "metadata": {
    "collapsed": false,
    "ExecuteTime": {
     "end_time": "2024-10-25T16:03:54.653800100Z",
     "start_time": "2024-10-25T16:03:54.635247700Z"
    }
   },
   "id": "4aa355312bfafe5"
  },
  {
   "cell_type": "code",
   "source": [
    "ffs = all_pitches[all_pitches['AutoPitchType'].isin(['Four-Seam'])]\n",
    "print(ffs.shape)"
   ],
   "metadata": {
    "collapsed": false,
    "ExecuteTime": {
     "end_time": "2024-10-25T16:01:23.369619600Z",
     "start_time": "2024-10-25T16:01:23.147334600Z"
    }
   },
   "id": "444f3848215c6482",
   "outputs": [
    {
     "name": "stdout",
     "output_type": "stream",
     "text": [
      "(91835, 167)\n"
     ]
    }
   ],
   "execution_count": 31
  },
  {
   "cell_type": "code",
   "source": [
    "ffs['whiff'] = np.where(ffs['PitchCall']=='StrikeSwinging',1,0)"
   ],
   "metadata": {
    "collapsed": false,
    "ExecuteTime": {
     "end_time": "2024-10-25T16:01:33.960125700Z",
     "start_time": "2024-10-25T16:01:33.949373600Z"
    }
   },
   "id": "b4c7f0c1404d490",
   "outputs": [
    {
     "name": "stderr",
     "output_type": "stream",
     "text": [
      "C:\\Users\\charl\\AppData\\Local\\Temp\\ipykernel_14272\\3136182571.py:1: SettingWithCopyWarning: \n",
      "A value is trying to be set on a copy of a slice from a DataFrame.\n",
      "Try using .loc[row_indexer,col_indexer] = value instead\n",
      "\n",
      "See the caveats in the documentation: https://pandas.pydata.org/pandas-docs/stable/user_guide/indexing.html#returning-a-view-versus-a-copy\n",
      "  ffs['whiff'] = np.where(ffs['PitchCall']=='StrikeSwinging',1,0)\n"
     ]
    }
   ],
   "execution_count": 32
  },
  {
   "cell_type": "code",
   "source": [
    "preds = ['RelSpeed','VertRelAngle','HorzRelAngle','SpinRate','SpinAxis','RelHeight','RelSide','Extension','VertBreak','InducedVertBreak','HorzBreak','ZoneSpeed','VertApprAngle','HorzApprAngle','ZoneTime','pfxx','pfxz','x0','y0','z0','vx0','vy0','vz0','ax0','ay0','az0','SpeedDrop','PitchTrajectoryXc1','PitchTrajectoryXc2','PitchTrajectoryYc0','PitchTrajectoryYc1','PitchTrajectoryYc2','PitchTrajectoryZc0','PitchTrajectoryZc1','PitchTrajectoryZc2']"
   ],
   "metadata": {
    "collapsed": false,
    "ExecuteTime": {
     "end_time": "2024-10-25T16:01:36.475561Z",
     "start_time": "2024-10-25T16:01:36.466513Z"
    }
   },
   "id": "4aa1a64ef9ffd1ed",
   "outputs": [],
   "execution_count": 33
  },
  {
   "cell_type": "code",
   "source": [
    "ffs_X = ffs[preds]\n",
    "ffs_y = ffs['whiff']"
   ],
   "metadata": {
    "collapsed": false,
    "ExecuteTime": {
     "end_time": "2024-10-25T16:01:37.357143Z",
     "start_time": "2024-10-25T16:01:37.353273500Z"
    }
   },
   "id": "77852724d871ed07",
   "outputs": [],
   "execution_count": 34
  },
  {
   "cell_type": "code",
   "source": [
    "X_train, X_test, y_train, y_test = train_test_split(ffs_X, ffs_y, test_size=.33, random_state=25)\n",
    "\n",
    "# Set up the XGBoost model\n",
    "xgb_model = XGBClassifier(random_state=25)\n",
    "\n",
    "# Define the parameter space for Bayesian hyperparameter tuning for XGBoost\n",
    "param_space = {\n",
    "    'learning_rate': (0.01, 0.3, 'log-uniform'),  # Learning rate\n",
    "    'max_depth': (3, 10),  # Maximum depth of a tree\n",
    "    'n_estimators': (50, 300),  # Number of boosting rounds\n",
    "    'subsample': (0.6, 1.0),  # Subsample ratio of the training instances\n",
    "    'colsample_bytree': (0.6, 1.0),  # Subsample ratio of columns for each tree\n",
    "    'gamma': (0, 10),  # Minimum loss reduction required to make a further partition\n",
    "    'reg_alpha': (1e-8, 1.0, 'log-uniform'),  # L1 regularization term\n",
    "    'reg_lambda': (1e-8, 1.0, 'log-uniform'),  # L2 regularization term\n",
    "}\n",
    "\n",
    "# Set up Bayesian search using BayesSearchCV\n",
    "bayes_search = BayesSearchCV(\n",
    "    estimator=xgb_model,\n",
    "    search_spaces=param_space,\n",
    "    n_iter=25,  # Number of iterations\n",
    "    cv=3,  # 3-fold cross-validation\n",
    "    scoring='accuracy',  # Scoring metric\n",
    "    n_jobs=-1,  # Use all available cores\n",
    "    verbose=0,\n",
    "    random_state=42\n",
    ")\n",
    "\n",
    "# Fit the model using Bayesian hyperparameter tuning\n",
    "bayes_search.fit(X_train, y_train)\n",
    "\n",
    "# Best hyperparameters found\n",
    "best_params = bayes_search.best_params_\n",
    "print(f\"Best hyperparameters for Whiffs: {best_params}\")\n",
    "\n",
    "# Make predictions on the training and test sets using the best model\n",
    "best_model = bayes_search.best_estimator_\n",
    "y_train_pred = best_model.predict(X_train)\n",
    "y_test_pred = best_model.predict(X_test)\n",
    "\n",
    "# Calculate MSE and R-squared for both training and test sets\n",
    "accuracy_train = accuracy_score(y_train, y_train_pred)\n",
    "accuracy_test = accuracy_score(y_test, y_test_pred)\n",
    "auc_train = roc_auc_score(y_train, y_train_pred)\n",
    "auc_test = roc_auc_score(y_test, y_test_pred)\n",
    "\n",
    "print(f'Accuracy (Training): {accuracy_train:.4f}')\n",
    "print(f'ROC AUC (Training): {auc_train:.4f}')\n",
    "print(f'Accuracy (Test): {accuracy_test:.4f}')\n",
    "print(f'ROC AUC (Test): {auc_test:.4f}')"
   ],
   "metadata": {
    "collapsed": false,
    "ExecuteTime": {
     "end_time": "2024-10-25T16:03:15.908220900Z",
     "start_time": "2024-10-25T16:01:38.165534100Z"
    }
   },
   "id": "4d08d18b66536cc9",
   "outputs": [
    {
     "name": "stdout",
     "output_type": "stream",
     "text": [
      "Best hyperparameters for Whiffs: OrderedDict([('colsample_bytree', 0.7779330049204607), ('gamma', 9), ('learning_rate', 0.014285310742471472), ('max_depth', 6), ('n_estimators', 97), ('reg_alpha', 4.259148185658276e-05), ('reg_lambda', 1.752203051791065e-07), ('subsample', 0.9006210125361986)])\n",
      "Accuracy (Training): 0.9019\n",
      "ROC AUC (Training): 0.5000\n",
      "Accuracy (Test): 0.9022\n",
      "ROC AUC (Test): 0.5000\n"
     ]
    }
   ],
   "execution_count": 35
  },
  {
   "metadata": {
    "ExecuteTime": {
     "end_time": "2024-10-25T16:03:15.908220900Z",
     "start_time": "2024-10-25T16:03:15.845903500Z"
    }
   },
   "cell_type": "code",
   "source": [
    "ffs['Date'] = pd.to_datetime(ffs['Date'], format = 'mixed')"
   ],
   "id": "23e980b5f0e6736d",
   "outputs": [
    {
     "name": "stderr",
     "output_type": "stream",
     "text": [
      "C:\\Users\\charl\\AppData\\Local\\Temp\\ipykernel_14272\\2252532815.py:1: SettingWithCopyWarning: \n",
      "A value is trying to be set on a copy of a slice from a DataFrame.\n",
      "Try using .loc[row_indexer,col_indexer] = value instead\n",
      "\n",
      "See the caveats in the documentation: https://pandas.pydata.org/pandas-docs/stable/user_guide/indexing.html#returning-a-view-versus-a-copy\n",
      "  ffs['Date'] = pd.to_datetime(ffs['Date'], format = 'mixed')\n"
     ]
    }
   ],
   "execution_count": 36
  },
  {
   "cell_type": "code",
   "source": [
    "aub_ffs_2024 = ffs[(ffs['PitcherTeam']=='AUB_TIG') & (ffs['Date'] > datetime.datetime(2024,1,1))]"
   ],
   "metadata": {
    "collapsed": false,
    "ExecuteTime": {
     "end_time": "2024-10-25T16:03:15.917153700Z",
     "start_time": "2024-10-25T16:03:15.876571400Z"
    }
   },
   "id": "85ba3b2316b290a0",
   "outputs": [],
   "execution_count": 37
  },
  {
   "cell_type": "code",
   "source": [
    "# Get unique values\n",
    "unique_values = ffs['Pitcher'].unique()\n",
    "aub_unique_values = aub_ffs_2024['Pitcher'].unique()\n",
    "\n",
    "print(aub_unique_values)\n",
    "\n",
    "# Create a dictionary to store subsets\n",
    "all_subsets = {value: ffs[ffs['Pitcher'] == value] for value in unique_values}\n",
    "\n",
    "aub_subsets = {value: aub_ffs_2024[aub_ffs_2024['Pitcher'] == value] for value in aub_unique_values}"
   ],
   "metadata": {
    "collapsed": false,
    "ExecuteTime": {
     "end_time": "2024-10-25T16:03:29.029202700Z",
     "start_time": "2024-10-25T16:03:15.908220900Z"
    }
   },
   "id": "2c7c7a80854cbae5",
   "outputs": [
    {
     "name": "stdout",
     "output_type": "stream",
     "text": [
      "['Allsup, Chase' 'Tilly, Cameron' 'Gonzalez, Joseph' 'Crotchfelt, Zach'\n",
      " 'Cannon, Will' 'Myers, Carson' 'Herberholz, Christian' 'McBride, Connor'\n",
      " 'Murphy, Hayden' 'Graves, Griffin' 'Watts, Dylan' 'Carlson, Parker'\n",
      " 'Armstrong, John' 'Petrovic, Alexander' 'Nelson, Drew' 'Copeland, Konner'\n",
      " 'Schorr, Ben' 'Keshock, Cameron' 'Bauman, Tanner']\n"
     ]
    }
   ],
   "execution_count": 38
  },
  {
   "cell_type": "code",
   "source": [
    "def aub_ffs_stuff(name):\n",
    "    \n",
    "    preds = ['RelSpeed','VertRelAngle','HorzRelAngle','SpinRate','SpinAxis','RelHeight','RelSide','Extension','VertBreak','InducedVertBreak','HorzBreak','ZoneSpeed','VertApprAngle','HorzApprAngle','ZoneTime','pfxx','pfxz','x0','y0','z0','vx0','vy0','vz0','ax0','ay0','az0','SpeedDrop','PitchTrajectoryXc1','PitchTrajectoryXc2','PitchTrajectoryYc0','PitchTrajectoryYc1','PitchTrajectoryYc2','PitchTrajectoryZc0','PitchTrajectoryZc1','PitchTrajectoryZc2']\n",
    "    \n",
    "    all_preds = best_model.predict_proba(ffs_X)[:,1]\n",
    "    mean_pred = np.mean(all_preds)\n",
    "\n",
    "    pitcher = aub_subsets[name]\n",
    "    pitcher_x = pitcher[preds]\n",
    "\n",
    "    whiff_preds = best_model.predict_proba(pitcher_x)[:,1]\n",
    "\n",
    "    stuff = whiff_preds/mean_pred\n",
    "    \n",
    "    print(f\"{name} Four Seam stuff+: {np.mean(stuff * 100)}\")"
   ],
   "metadata": {
    "collapsed": false,
    "ExecuteTime": {
     "end_time": "2024-10-25T16:03:29.048642800Z",
     "start_time": "2024-10-25T16:03:29.033192800Z"
    }
   },
   "id": "5345e83743a825b5",
   "outputs": [],
   "execution_count": 39
  },
  {
   "cell_type": "code",
   "source": [
    "for pitcher in aub_unique_values:\n",
    "    aub_ffs_stuff(pitcher)"
   ],
   "metadata": {
    "collapsed": false,
    "ExecuteTime": {
     "end_time": "2024-10-25T16:03:31.426603700Z",
     "start_time": "2024-10-25T16:03:29.038608Z"
    }
   },
   "id": "91fbdb5c0b6bb930",
   "outputs": [
    {
     "name": "stdout",
     "output_type": "stream",
     "text": [
      "Allsup, Chase Four Seam stuff+: 111.99798583984375\n",
      "Tilly, Cameron Four Seam stuff+: 94.66725158691406\n",
      "Gonzalez, Joseph Four Seam stuff+: 83.2686767578125\n",
      "Crotchfelt, Zach Four Seam stuff+: 101.47782897949219\n",
      "Cannon, Will Four Seam stuff+: 102.28593444824219\n",
      "Myers, Carson Four Seam stuff+: 84.28953552246094\n",
      "Herberholz, Christian Four Seam stuff+: 103.02664184570312\n",
      "McBride, Connor Four Seam stuff+: 99.83373260498047\n",
      "Murphy, Hayden Four Seam stuff+: 99.209228515625\n",
      "Graves, Griffin Four Seam stuff+: 115.5823745727539\n",
      "Watts, Dylan Four Seam stuff+: 87.9808349609375\n",
      "Carlson, Parker Four Seam stuff+: 89.33833312988281\n",
      "Armstrong, John Four Seam stuff+: 105.04164123535156\n",
      "Petrovic, Alexander Four Seam stuff+: 89.3357925415039\n",
      "Nelson, Drew Four Seam stuff+: 95.1705322265625\n",
      "Copeland, Konner Four Seam stuff+: 90.31842041015625\n",
      "Schorr, Ben Four Seam stuff+: 79.26956176757812\n",
      "Keshock, Cameron Four Seam stuff+: 143.6160888671875\n",
      "Bauman, Tanner Four Seam stuff+: 69.08319854736328\n"
     ]
    }
   ],
   "execution_count": 40
  },
  {
   "metadata": {
    "ExecuteTime": {
     "end_time": "2024-10-25T16:09:23.689905900Z",
     "start_time": "2024-10-25T16:09:23.628435Z"
    }
   },
   "cell_type": "code",
   "source": [
    "import joblib\n",
    "\n",
    "joblib.dump(best_model, '../../models/Four Seam Models/fourseam_all_model.pkl')"
   ],
   "id": "59e1b05f8541c153",
   "outputs": [
    {
     "data": {
      "text/plain": "['../../models/Four Seam Models/fourseam_all_model.pkl']"
     },
     "execution_count": 45,
     "metadata": {},
     "output_type": "execute_result"
    }
   ],
   "execution_count": 45
  },
  {
   "cell_type": "code",
   "source": [
    "ffs_rr = ffs[(ffs['PitcherThrows'] == 'Right') & (ffs['BatterSide'] == 'Right')]\n",
    "ffs_rl = ffs[(ffs['PitcherThrows'] == 'Right') & (ffs['BatterSide'] == 'Left')]\n",
    "ffs_lr = ffs[(ffs['PitcherThrows'] == 'Left') & (ffs['BatterSide'] == 'Right')]\n",
    "ffs_ll = ffs[(ffs['PitcherThrows'] == 'Left') & (ffs['BatterSide'] == 'Left')]\n",
    "\n",
    "print(ffs_rr.shape)\n",
    "print(ffs_rl.shape)\n",
    "print(ffs_lr.shape)\n",
    "print(ffs_ll.shape)"
   ],
   "metadata": {
    "collapsed": false,
    "ExecuteTime": {
     "end_time": "2024-10-25T16:09:39.428854600Z",
     "start_time": "2024-10-25T16:09:39.240574400Z"
    }
   },
   "id": "2c50bd26fd44fb48",
   "outputs": [
    {
     "name": "stdout",
     "output_type": "stream",
     "text": [
      "(36666, 168)\n",
      "(26985, 168)\n",
      "(18281, 168)\n",
      "(9772, 168)\n"
     ]
    }
   ],
   "execution_count": 46
  },
  {
   "cell_type": "code",
   "source": [
    "ffs_rr['whiff'] = np.where(ffs_rr['PitchCall']=='StrikeSwinging',1,0)\n",
    "ffs_rl['whiff'] = np.where(ffs_rl['PitchCall']=='StrikeSwinging',1,0)\n",
    "ffs_lr['whiff'] = np.where(ffs_lr['PitchCall']=='StrikeSwinging',1,0)\n",
    "ffs_ll['whiff'] = np.where(ffs_ll['PitchCall']=='StrikeSwinging',1,0)"
   ],
   "metadata": {
    "collapsed": false,
    "ExecuteTime": {
     "end_time": "2024-10-25T16:09:40.718468300Z",
     "start_time": "2024-10-25T16:09:40.706638300Z"
    }
   },
   "id": "763cdeac03de9e52",
   "outputs": [
    {
     "name": "stderr",
     "output_type": "stream",
     "text": [
      "C:\\Users\\charl\\AppData\\Local\\Temp\\ipykernel_14272\\2915248739.py:1: SettingWithCopyWarning: \n",
      "A value is trying to be set on a copy of a slice from a DataFrame.\n",
      "Try using .loc[row_indexer,col_indexer] = value instead\n",
      "\n",
      "See the caveats in the documentation: https://pandas.pydata.org/pandas-docs/stable/user_guide/indexing.html#returning-a-view-versus-a-copy\n",
      "  ffs_rr['whiff'] = np.where(ffs_rr['PitchCall']=='StrikeSwinging',1,0)\n",
      "C:\\Users\\charl\\AppData\\Local\\Temp\\ipykernel_14272\\2915248739.py:2: SettingWithCopyWarning: \n",
      "A value is trying to be set on a copy of a slice from a DataFrame.\n",
      "Try using .loc[row_indexer,col_indexer] = value instead\n",
      "\n",
      "See the caveats in the documentation: https://pandas.pydata.org/pandas-docs/stable/user_guide/indexing.html#returning-a-view-versus-a-copy\n",
      "  ffs_rl['whiff'] = np.where(ffs_rl['PitchCall']=='StrikeSwinging',1,0)\n",
      "C:\\Users\\charl\\AppData\\Local\\Temp\\ipykernel_14272\\2915248739.py:3: SettingWithCopyWarning: \n",
      "A value is trying to be set on a copy of a slice from a DataFrame.\n",
      "Try using .loc[row_indexer,col_indexer] = value instead\n",
      "\n",
      "See the caveats in the documentation: https://pandas.pydata.org/pandas-docs/stable/user_guide/indexing.html#returning-a-view-versus-a-copy\n",
      "  ffs_lr['whiff'] = np.where(ffs_lr['PitchCall']=='StrikeSwinging',1,0)\n",
      "C:\\Users\\charl\\AppData\\Local\\Temp\\ipykernel_14272\\2915248739.py:4: SettingWithCopyWarning: \n",
      "A value is trying to be set on a copy of a slice from a DataFrame.\n",
      "Try using .loc[row_indexer,col_indexer] = value instead\n",
      "\n",
      "See the caveats in the documentation: https://pandas.pydata.org/pandas-docs/stable/user_guide/indexing.html#returning-a-view-versus-a-copy\n",
      "  ffs_ll['whiff'] = np.where(ffs_ll['PitchCall']=='StrikeSwinging',1,0)\n"
     ]
    }
   ],
   "execution_count": 47
  },
  {
   "cell_type": "code",
   "source": [
    "preds = ['RelSpeed','VertRelAngle','HorzRelAngle','SpinRate','SpinAxis','RelHeight','RelSide','Extension','VertBreak','InducedVertBreak','HorzBreak','ZoneSpeed','VertApprAngle','HorzApprAngle','ZoneTime','pfxx','pfxz','x0','y0','z0','vx0','vy0','vz0','ax0','ay0','az0','SpeedDrop','PitchTrajectoryXc1','PitchTrajectoryXc2','PitchTrajectoryYc0','PitchTrajectoryYc1','PitchTrajectoryYc2','PitchTrajectoryZc0','PitchTrajectoryZc1','PitchTrajectoryZc2']"
   ],
   "metadata": {
    "collapsed": false,
    "ExecuteTime": {
     "end_time": "2024-10-25T16:09:42.493790800Z",
     "start_time": "2024-10-25T16:09:42.490203200Z"
    }
   },
   "id": "9a6d43a4a456dce4",
   "outputs": [],
   "execution_count": 48
  },
  {
   "cell_type": "code",
   "source": [
    "ffs_rr_X = ffs_rr[preds]\n",
    "ffs_rr_y = ffs_rr['whiff']"
   ],
   "metadata": {
    "collapsed": false,
    "ExecuteTime": {
     "end_time": "2024-10-25T16:09:43.444555800Z",
     "start_time": "2024-10-25T16:09:43.420156500Z"
    }
   },
   "id": "31cd3f963ab715e1",
   "outputs": [],
   "execution_count": 49
  },
  {
   "cell_type": "code",
   "source": [
    "X_train, X_test, y_train, y_test = train_test_split(ffs_rr_X, ffs_rr_y, test_size=.33, random_state=25)\n",
    "\n",
    "# Set up the XGBoost model\n",
    "xgb_model = XGBClassifier(random_state=25)\n",
    "\n",
    "# Define the parameter space for Bayesian hyperparameter tuning for XGBoost\n",
    "param_space = {\n",
    "    'learning_rate': (0.01, 0.3, 'log-uniform'),  # Learning rate\n",
    "    'max_depth': (3, 10),  # Maximum depth of a tree\n",
    "    'n_estimators': (50, 300),  # Number of boosting rounds\n",
    "    'subsample': (0.6, 1.0),  # Subsample ratio of the training instances\n",
    "    'colsample_bytree': (0.6, 1.0),  # Subsample ratio of columns for each tree\n",
    "    'gamma': (0, 10),  # Minimum loss reduction required to make a further partition\n",
    "    'reg_alpha': (1e-8, 1.0, 'log-uniform'),  # L1 regularization term\n",
    "    'reg_lambda': (1e-8, 1.0, 'log-uniform'),  # L2 regularization term\n",
    "}\n",
    "\n",
    "# Set up Bayesian search using BayesSearchCV\n",
    "bayes_search = BayesSearchCV(\n",
    "    estimator=xgb_model,\n",
    "    search_spaces=param_space,\n",
    "    n_iter=25,  # Number of iterations\n",
    "    cv=3,  # 3-fold cross-validation\n",
    "    scoring='accuracy',  # Scoring metric\n",
    "    n_jobs=-1,  # Use all available cores\n",
    "    verbose=0,\n",
    "    random_state=42\n",
    ")\n",
    "\n",
    "# Fit the model using Bayesian hyperparameter tuning\n",
    "bayes_search.fit(X_train, y_train)\n",
    "\n",
    "# Best hyperparameters found\n",
    "best_params = bayes_search.best_params_\n",
    "print(f\"Best hyperparameters for Whiffs: {best_params}\")\n",
    "\n",
    "# Make predictions on the training and test sets using the best model\n",
    "best_model = bayes_search.best_estimator_\n",
    "y_train_pred = best_model.predict(X_train)\n",
    "y_test_pred = best_model.predict(X_test)\n",
    "\n",
    "# Calculate MSE and R-squared for both training and test sets\n",
    "accuracy_train = accuracy_score(y_train, y_train_pred)\n",
    "accuracy_test = accuracy_score(y_test, y_test_pred)\n",
    "auc_train = roc_auc_score(y_train, y_train_pred)\n",
    "auc_test = roc_auc_score(y_test, y_test_pred)\n",
    "\n",
    "print(f'Accuracy (Training): {accuracy_train:.4f}')\n",
    "print(f'ROC AUC (Training): {auc_train:.4f}')\n",
    "print(f'Accuracy (Test): {accuracy_test:.4f}')\n",
    "print(f'ROC AUC (Test): {auc_test:.4f}')"
   ],
   "metadata": {
    "collapsed": false,
    "ExecuteTime": {
     "end_time": "2024-10-25T16:16:58.126723Z",
     "start_time": "2024-10-25T16:15:59.084330200Z"
    }
   },
   "id": "1fd5cb925e76201e",
   "outputs": [
    {
     "name": "stdout",
     "output_type": "stream",
     "text": [
      "Best hyperparameters for Whiffs: OrderedDict([('colsample_bytree', 0.6214987446240974), ('gamma', 1), ('learning_rate', 0.037595418101548164), ('max_depth', 8), ('n_estimators', 192), ('reg_alpha', 7.173506161250544e-05), ('reg_lambda', 0.05577909761565971), ('subsample', 0.6848019443859761)])\n",
      "Accuracy (Training): 0.9233\n",
      "ROC AUC (Training): 0.5781\n",
      "Accuracy (Test): 0.9058\n",
      "ROC AUC (Test): 0.5028\n"
     ]
    }
   ],
   "execution_count": 64
  },
  {
   "metadata": {
    "ExecuteTime": {
     "end_time": "2024-10-25T16:16:58.146133100Z",
     "start_time": "2024-10-25T16:16:58.126723Z"
    }
   },
   "cell_type": "code",
   "source": [
    "import joblib\n",
    "\n",
    "joblib.dump(best_model, '../../models/Four Seam Models/fourseam_rr_model.pkl')"
   ],
   "id": "79f025ad88ab92a0",
   "outputs": [
    {
     "data": {
      "text/plain": "['../../models/Four Seam Models/fourseam_rr_model.pkl']"
     },
     "execution_count": 65,
     "metadata": {},
     "output_type": "execute_result"
    }
   ],
   "execution_count": 65
  },
  {
   "metadata": {
    "ExecuteTime": {
     "end_time": "2024-10-25T16:11:07.922693100Z",
     "start_time": "2024-10-25T16:11:07.908375100Z"
    }
   },
   "cell_type": "code",
   "source": [
    "ffs_rr['Date'] = pd.to_datetime(ffs_rr['Date'], format = 'mixed')"
   ],
   "id": "9b3a1399d7a0ff50",
   "outputs": [
    {
     "name": "stderr",
     "output_type": "stream",
     "text": [
      "C:\\Users\\charl\\AppData\\Local\\Temp\\ipykernel_14272\\2153481945.py:1: SettingWithCopyWarning: \n",
      "A value is trying to be set on a copy of a slice from a DataFrame.\n",
      "Try using .loc[row_indexer,col_indexer] = value instead\n",
      "\n",
      "See the caveats in the documentation: https://pandas.pydata.org/pandas-docs/stable/user_guide/indexing.html#returning-a-view-versus-a-copy\n",
      "  ffs_rr['Date'] = pd.to_datetime(ffs_rr['Date'], format = 'mixed')\n"
     ]
    }
   ],
   "execution_count": 52
  },
  {
   "cell_type": "code",
   "source": [
    "aub_ffs_rr_2024 = ffs_rr[(ffs_rr['PitcherTeam']=='AUB_TIG') & (ffs_rr['Date'] > datetime.datetime(2024,1,1))]"
   ],
   "metadata": {
    "collapsed": false,
    "ExecuteTime": {
     "end_time": "2024-10-25T16:11:09.218850500Z",
     "start_time": "2024-10-25T16:11:09.197073200Z"
    }
   },
   "id": "64cbb1b2dfadae86",
   "outputs": [],
   "execution_count": 53
  },
  {
   "cell_type": "code",
   "source": [
    "# Get unique values\n",
    "unique_values = ffs_rr['Pitcher'].unique()\n",
    "aub_unique_values = aub_ffs_rr_2024['Pitcher'].unique()\n",
    "\n",
    "print(aub_unique_values)\n",
    "\n",
    "# Create a dictionary to store subsets\n",
    "all_subsets = {value: ffs_rr[ffs_rr['Pitcher'] == value] for value in unique_values}\n",
    "\n",
    "aub_subsets = {value: aub_ffs_rr_2024[aub_ffs_rr_2024['Pitcher'] == value] for value in aub_unique_values}"
   ],
   "metadata": {
    "collapsed": false,
    "ExecuteTime": {
     "end_time": "2024-10-25T16:11:14.694676700Z",
     "start_time": "2024-10-25T16:11:10.493163700Z"
    }
   },
   "id": "7738968264671b39",
   "outputs": [
    {
     "name": "stdout",
     "output_type": "stream",
     "text": [
      "['Allsup, Chase' 'Cannon, Will' 'Herberholz, Christian' 'McBride, Connor'\n",
      " 'Murphy, Hayden' 'Tilly, Cameron' 'Watts, Dylan' 'Carlson, Parker'\n",
      " 'Gonzalez, Joseph' 'Petrovic, Alexander' 'Schorr, Ben' 'Armstrong, John'\n",
      " 'Keshock, Cameron']\n"
     ]
    }
   ],
   "execution_count": 54
  },
  {
   "cell_type": "code",
   "source": [
    "def aub_rr_ffs_stuff(name):\n",
    "    \n",
    "    preds = ['RelSpeed','VertRelAngle','HorzRelAngle','SpinRate','SpinAxis','RelHeight','RelSide','Extension','VertBreak','InducedVertBreak','HorzBreak','ZoneSpeed','VertApprAngle','HorzApprAngle','ZoneTime','pfxx','pfxz','x0','y0','z0','vx0','vy0','vz0','ax0','ay0','az0','SpeedDrop','PitchTrajectoryXc1','PitchTrajectoryXc2','PitchTrajectoryYc0','PitchTrajectoryYc1','PitchTrajectoryYc2','PitchTrajectoryZc0','PitchTrajectoryZc1','PitchTrajectoryZc2']\n",
    "    \n",
    "    all_preds = best_model.predict_proba(ffs_rr_X)[:,1]\n",
    "    mean_pred = np.mean(all_preds)\n",
    "\n",
    "    pitcher = aub_subsets[name]\n",
    "    pitcher_x = pitcher[preds]\n",
    "\n",
    "    whiff_preds = best_model.predict_proba(pitcher_x)[:,1]\n",
    "\n",
    "    stuff = whiff_preds/mean_pred\n",
    "    \n",
    "    print(f\"{name} RR Four Seam stuff+: {np.mean(stuff * 100)}\")"
   ],
   "metadata": {
    "collapsed": false,
    "ExecuteTime": {
     "end_time": "2024-10-25T16:11:16.219251500Z",
     "start_time": "2024-10-25T16:11:16.203386400Z"
    }
   },
   "id": "6e33b8eb1b6c9bce",
   "outputs": [],
   "execution_count": 55
  },
  {
   "cell_type": "code",
   "source": [
    "for pitcher in aub_unique_values:\n",
    "    aub_rr_ffs_stuff(pitcher)"
   ],
   "metadata": {
    "collapsed": false,
    "ExecuteTime": {
     "end_time": "2024-10-25T16:11:18.776379100Z",
     "start_time": "2024-10-25T16:11:17.473675700Z"
    }
   },
   "id": "f5246b9f3e5aff9a",
   "outputs": [
    {
     "name": "stdout",
     "output_type": "stream",
     "text": [
      "Allsup, Chase RR Four Seam stuff+: 118.7047348022461\n",
      "Cannon, Will RR Four Seam stuff+: 104.28482818603516\n",
      "Herberholz, Christian RR Four Seam stuff+: 108.99883270263672\n",
      "McBride, Connor RR Four Seam stuff+: 87.47892761230469\n",
      "Murphy, Hayden RR Four Seam stuff+: 69.03852081298828\n",
      "Tilly, Cameron RR Four Seam stuff+: 94.46532440185547\n",
      "Watts, Dylan RR Four Seam stuff+: 85.68556213378906\n",
      "Carlson, Parker RR Four Seam stuff+: 68.18839263916016\n",
      "Gonzalez, Joseph RR Four Seam stuff+: 136.07276916503906\n",
      "Petrovic, Alexander RR Four Seam stuff+: 57.50715637207031\n",
      "Schorr, Ben RR Four Seam stuff+: 62.089141845703125\n",
      "Armstrong, John RR Four Seam stuff+: 14.755199432373047\n",
      "Keshock, Cameron RR Four Seam stuff+: 260.8507385253906\n"
     ]
    }
   ],
   "execution_count": 56
  },
  {
   "cell_type": "code",
   "source": [
    "ffs_rl_X = ffs_rl[preds]\n",
    "ffs_rl_y = ffs_rl['whiff']"
   ],
   "metadata": {
    "collapsed": false,
    "ExecuteTime": {
     "end_time": "2024-10-25T16:14:58.068118100Z",
     "start_time": "2024-10-25T16:14:58.000787500Z"
    }
   },
   "id": "9055dc334c8a7eb2",
   "outputs": [],
   "execution_count": 57
  },
  {
   "cell_type": "code",
   "source": [
    "X_train, X_test, y_train, y_test = train_test_split(ffs_rl_X, ffs_rl_y, test_size=.33, random_state=25)\n",
    "\n",
    "# Set up the XGBoost model\n",
    "xgb_model = XGBClassifier(random_state=25)\n",
    "\n",
    "# Define the parameter space for Bayesian hyperparameter tuning for XGBoost\n",
    "param_space = {\n",
    "    'learning_rate': (0.01, 0.3, 'log-uniform'),  # Learning rate\n",
    "    'max_depth': (3, 10),  # Maximum depth of a tree\n",
    "    'n_estimators': (50, 300),  # Number of boosting rounds\n",
    "    'subsample': (0.6, 1.0),  # Subsample ratio of the training instances\n",
    "    'colsample_bytree': (0.6, 1.0),  # Subsample ratio of columns for each tree\n",
    "    'gamma': (0, 10),  # Minimum loss reduction required to make a further partition\n",
    "    'reg_alpha': (1e-8, 1.0, 'log-uniform'),  # L1 regularization term\n",
    "    'reg_lambda': (1e-8, 1.0, 'log-uniform'),  # L2 regularization term\n",
    "}\n",
    "\n",
    "# Set up Bayesian search using BayesSearchCV\n",
    "bayes_search = BayesSearchCV(\n",
    "    estimator=xgb_model,\n",
    "    search_spaces=param_space,\n",
    "    n_iter=25,  # Number of iterations\n",
    "    cv=3,  # 3-fold cross-validation\n",
    "    scoring='accuracy',  # Scoring metric\n",
    "    n_jobs=-1,  # Use all available cores\n",
    "    verbose=0,\n",
    "    random_state=42\n",
    ")\n",
    "\n",
    "# Fit the model using Bayesian hyperparameter tuning\n",
    "bayes_search.fit(X_train, y_train)\n",
    "\n",
    "# Best hyperparameters found\n",
    "best_params = bayes_search.best_params_\n",
    "print(f\"Best hyperparameters for Whiffs: {best_params}\")\n",
    "\n",
    "# Make predictions on the training and test sets using the best model\n",
    "best_model = bayes_search.best_estimator_\n",
    "y_train_pred = best_model.predict(X_train)\n",
    "y_test_pred = best_model.predict(X_test)\n",
    "\n",
    "# Calculate MSE and R-squared for both training and test sets\n",
    "accuracy_train = accuracy_score(y_train, y_train_pred)\n",
    "accuracy_test = accuracy_score(y_test, y_test_pred)\n",
    "auc_train = roc_auc_score(y_train, y_train_pred)\n",
    "auc_test = roc_auc_score(y_test, y_test_pred)\n",
    "\n",
    "print(f'Accuracy (Training): {accuracy_train:.4f}')\n",
    "print(f'ROC AUC (Training): {auc_train:.4f}')\n",
    "print(f'Accuracy (Test): {accuracy_test:.4f}')\n",
    "print(f'ROC AUC (Test): {auc_test:.4f}')"
   ],
   "metadata": {
    "collapsed": false,
    "ExecuteTime": {
     "end_time": "2024-10-25T16:17:55.540191200Z",
     "start_time": "2024-10-25T16:16:58.146133100Z"
    }
   },
   "id": "bf7757328119f3ca",
   "outputs": [
    {
     "name": "stdout",
     "output_type": "stream",
     "text": [
      "Best hyperparameters for Whiffs: OrderedDict([('colsample_bytree', 0.6), ('gamma', 0), ('learning_rate', 0.01), ('max_depth', 9), ('n_estimators', 252), ('reg_alpha', 1e-08), ('reg_lambda', 0.00042750556612102723), ('subsample', 0.8310000673126994)])\n",
      "Accuracy (Training): 0.9091\n",
      "ROC AUC (Training): 0.5224\n",
      "Accuracy (Test): 0.9014\n",
      "ROC AUC (Test): 0.5006\n"
     ]
    }
   ],
   "execution_count": 66
  },
  {
   "metadata": {
    "ExecuteTime": {
     "end_time": "2024-10-25T16:17:55.604026100Z",
     "start_time": "2024-10-25T16:17:55.540191200Z"
    }
   },
   "cell_type": "code",
   "source": [
    "import joblib\n",
    "\n",
    "joblib.dump(best_model, '../../models/Four Seam Models/fourseam_rl_model.pkl')"
   ],
   "id": "6757f7c56492670e",
   "outputs": [
    {
     "data": {
      "text/plain": "['../../models/Four Seam Models/fourseam_rl_model.pkl']"
     },
     "execution_count": 67,
     "metadata": {},
     "output_type": "execute_result"
    }
   ],
   "execution_count": 67
  },
  {
   "metadata": {
    "ExecuteTime": {
     "end_time": "2024-10-25T16:15:54.169520800Z",
     "start_time": "2024-10-25T16:15:54.097958100Z"
    }
   },
   "cell_type": "code",
   "source": [
    "ffs_rl['Date'] = pd.to_datetime(ffs_rl['Date'], format='mixed')\n",
    "aub_ffs_rl_2024 = ffs_rl[(ffs_rl['PitcherTeam']=='AUB_TIG') & (ffs_rl['Date'] > datetime.datetime(2024,1,1))]"
   ],
   "id": "9ce7273eebe80bd9",
   "outputs": [
    {
     "name": "stderr",
     "output_type": "stream",
     "text": [
      "C:\\Users\\charl\\AppData\\Local\\Temp\\ipykernel_14272\\233802204.py:1: SettingWithCopyWarning: \n",
      "A value is trying to be set on a copy of a slice from a DataFrame.\n",
      "Try using .loc[row_indexer,col_indexer] = value instead\n",
      "\n",
      "See the caveats in the documentation: https://pandas.pydata.org/pandas-docs/stable/user_guide/indexing.html#returning-a-view-versus-a-copy\n",
      "  ffs_rl['Date'] = pd.to_datetime(ffs_rl['Date'], format='mixed')\n"
     ]
    }
   ],
   "execution_count": 60
  },
  {
   "cell_type": "code",
   "source": [
    "# Get unique values\n",
    "unique_values = ffs_rl['Pitcher'].unique()\n",
    "aub_unique_values = aub_ffs_rl_2024['Pitcher'].unique()\n",
    "\n",
    "print(aub_unique_values)\n",
    "\n",
    "# Create a dictionary to store subsets\n",
    "all_subsets = {value: ffs_rl[ffs_rl['Pitcher'] == value] for value in unique_values}\n",
    "\n",
    "aub_subsets = {value: aub_ffs_rl_2024[aub_ffs_rl_2024['Pitcher'] == value] for value in aub_unique_values}"
   ],
   "metadata": {
    "collapsed": false,
    "ExecuteTime": {
     "end_time": "2024-10-25T16:15:57.388325200Z",
     "start_time": "2024-10-25T16:15:54.137862600Z"
    }
   },
   "id": "83a0df365bda10ea",
   "outputs": [
    {
     "name": "stdout",
     "output_type": "stream",
     "text": [
      "['Allsup, Chase' 'Tilly, Cameron' 'Gonzalez, Joseph' 'Cannon, Will'\n",
      " 'Herberholz, Christian' 'McBride, Connor' 'Carlson, Parker'\n",
      " 'Murphy, Hayden' 'Watts, Dylan' 'Armstrong, John' 'Petrovic, Alexander'\n",
      " 'Schorr, Ben']\n"
     ]
    }
   ],
   "execution_count": 61
  },
  {
   "cell_type": "code",
   "source": [
    "def aub_rl_ffs_stuff(name):\n",
    "    \n",
    "    preds = ['RelSpeed','VertRelAngle','HorzRelAngle','SpinRate','SpinAxis','RelHeight','RelSide','Extension','VertBreak','InducedVertBreak','HorzBreak','ZoneSpeed','VertApprAngle','HorzApprAngle','ZoneTime','pfxx','pfxz','x0','y0','z0','vx0','vy0','vz0','ax0','ay0','az0','SpeedDrop','PitchTrajectoryXc1','PitchTrajectoryXc2','PitchTrajectoryYc0','PitchTrajectoryYc1','PitchTrajectoryYc2','PitchTrajectoryZc0','PitchTrajectoryZc1','PitchTrajectoryZc2']\n",
    "    \n",
    "    all_preds = best_model.predict_proba(ffs_rl_X)[:,1]\n",
    "    mean_pred = np.mean(all_preds)\n",
    "\n",
    "    pitcher = aub_subsets[name]\n",
    "    pitcher_x = pitcher[preds]\n",
    "\n",
    "    whiff_preds = best_model.predict_proba(pitcher_x)[:,1]\n",
    "\n",
    "    stuff = whiff_preds/mean_pred\n",
    "    \n",
    "    print(f\"{name} Four Seam RL stuff+: {np.mean(stuff * 100)}\")"
   ],
   "metadata": {
    "collapsed": false,
    "ExecuteTime": {
     "end_time": "2024-10-25T16:15:57.431154600Z",
     "start_time": "2024-10-25T16:15:57.392399900Z"
    }
   },
   "id": "e15187d672310975",
   "outputs": [],
   "execution_count": 62
  },
  {
   "cell_type": "code",
   "source": [
    "for pitcher in aub_unique_values:\n",
    "    aub_rl_ffs_stuff(pitcher)"
   ],
   "metadata": {
    "collapsed": false,
    "ExecuteTime": {
     "end_time": "2024-10-25T16:15:58.660099400Z",
     "start_time": "2024-10-25T16:15:57.412612400Z"
    }
   },
   "id": "5c06a2ad389990b",
   "outputs": [
    {
     "name": "stdout",
     "output_type": "stream",
     "text": [
      "Allsup, Chase Four Seam RL stuff+: 118.23831939697266\n",
      "Tilly, Cameron Four Seam RL stuff+: 92.6011734008789\n",
      "Gonzalez, Joseph Four Seam RL stuff+: 126.34913635253906\n",
      "Cannon, Will Four Seam RL stuff+: 100.24156188964844\n",
      "Herberholz, Christian Four Seam RL stuff+: 102.43070220947266\n",
      "McBride, Connor Four Seam RL stuff+: 139.75607299804688\n",
      "Carlson, Parker Four Seam RL stuff+: 69.0164794921875\n",
      "Murphy, Hayden Four Seam RL stuff+: 122.46546173095703\n",
      "Watts, Dylan Four Seam RL stuff+: 88.46366882324219\n",
      "Armstrong, John Four Seam RL stuff+: 96.18131256103516\n",
      "Petrovic, Alexander Four Seam RL stuff+: 94.58028411865234\n",
      "Schorr, Ben Four Seam RL stuff+: 78.57306671142578\n"
     ]
    }
   ],
   "execution_count": 63
  },
  {
   "cell_type": "code",
   "source": [
    "ffs_lr_X = ffs_lr[preds]\n",
    "ffs_lr_y = ffs_lr['whiff']"
   ],
   "metadata": {
    "collapsed": false,
    "ExecuteTime": {
     "end_time": "2024-10-25T16:20:02.000335700Z",
     "start_time": "2024-10-25T16:20:01.988248100Z"
    }
   },
   "id": "4d29e4ba55bb48c7",
   "outputs": [],
   "execution_count": 68
  },
  {
   "cell_type": "code",
   "source": [
    "X_train, X_test, y_train, y_test = train_test_split(ffs_lr_X, ffs_lr_y, test_size=.33, random_state=25)\n",
    "\n",
    "# Set up the XGBoost model\n",
    "xgb_model = XGBClassifier(random_state=25)\n",
    "\n",
    "# Define the parameter space for Bayesian hyperparameter tuning for XGBoost\n",
    "param_space = {\n",
    "    'learning_rate': (0.01, 0.3, 'log-uniform'),  # Learning rate\n",
    "    'max_depth': (3, 10),  # Maximum depth of a tree\n",
    "    'n_estimators': (50, 300),  # Number of boosting rounds\n",
    "    'subsample': (0.6, 1.0),  # Subsample ratio of the training instances\n",
    "    'colsample_bytree': (0.6, 1.0),  # Subsample ratio of columns for each tree\n",
    "    'gamma': (0, 10),  # Minimum loss reduction required to make a further partition\n",
    "    'reg_alpha': (1e-8, 1.0, 'log-uniform'),  # L1 regularization term\n",
    "    'reg_lambda': (1e-8, 1.0, 'log-uniform'),  # L2 regularization term\n",
    "}\n",
    "\n",
    "# Set up Bayesian search using BayesSearchCV\n",
    "bayes_search = BayesSearchCV(\n",
    "    estimator=xgb_model,\n",
    "    search_spaces=param_space,\n",
    "    n_iter=25,  # Number of iterations\n",
    "    cv=3,  # 3-fold cross-validation\n",
    "    scoring='accuracy',  # Scoring metric\n",
    "    n_jobs=-1,  # Use all available cores\n",
    "    verbose=0,\n",
    "    random_state=42\n",
    ")\n",
    "\n",
    "# Fit the model using Bayesian hyperparameter tuning\n",
    "bayes_search.fit(X_train, y_train)\n",
    "\n",
    "# Best hyperparameters found\n",
    "best_params = bayes_search.best_params_\n",
    "print(f\"Best hyperparameters for Whiffs: {best_params}\")\n",
    "\n",
    "# Make predictions on the training and test sets using the best model\n",
    "best_model = bayes_search.best_estimator_\n",
    "y_train_pred = best_model.predict(X_train)\n",
    "y_test_pred = best_model.predict(X_test)\n",
    "\n",
    "# Calculate MSE and R-squared for both training and test sets\n",
    "accuracy_train = accuracy_score(y_train, y_train_pred)\n",
    "accuracy_test = accuracy_score(y_test, y_test_pred)\n",
    "auc_train = roc_auc_score(y_train, y_train_pred)\n",
    "auc_test = roc_auc_score(y_test, y_test_pred)\n",
    "\n",
    "print(f'Accuracy (Training): {accuracy_train:.4f}')\n",
    "print(f'ROC AUC (Training): {auc_train:.4f}')\n",
    "print(f'Accuracy (Test): {accuracy_test:.4f}')\n",
    "print(f'ROC AUC (Test): {auc_test:.4f}')"
   ],
   "metadata": {
    "collapsed": false,
    "ExecuteTime": {
     "end_time": "2024-10-25T16:20:42.341131100Z",
     "start_time": "2024-10-25T16:20:02.896258200Z"
    }
   },
   "id": "f3c2bdd7e0d6ff63",
   "outputs": [
    {
     "name": "stdout",
     "output_type": "stream",
     "text": [
      "Best hyperparameters for Whiffs: OrderedDict([('colsample_bytree', 0.9349553422213137), ('gamma', 9), ('learning_rate', 0.02806554771929606), ('max_depth', 10), ('n_estimators', 266), ('reg_alpha', 3.151399971510153e-08), ('reg_lambda', 1.2778159542148633e-07), ('subsample', 0.7414349590513672)])\n",
      "Accuracy (Training): 0.8846\n",
      "ROC AUC (Training): 0.5011\n",
      "Accuracy (Test): 0.8899\n",
      "ROC AUC (Test): 0.5007\n"
     ]
    }
   ],
   "execution_count": 69
  },
  {
   "metadata": {
    "ExecuteTime": {
     "end_time": "2024-10-25T16:20:42.362519400Z",
     "start_time": "2024-10-25T16:20:42.341904Z"
    }
   },
   "cell_type": "code",
   "source": [
    "import joblib\n",
    "\n",
    "joblib.dump(best_model, '../../models/Four Seam Models/fourseam_lr_model.pkl')"
   ],
   "id": "10623cb6b015fecf",
   "outputs": [
    {
     "data": {
      "text/plain": "['../../models/Four Seam Models/fourseam_lr_model.pkl']"
     },
     "execution_count": 70,
     "metadata": {},
     "output_type": "execute_result"
    }
   ],
   "execution_count": 70
  },
  {
   "cell_type": "code",
   "source": [
    "ffs_lr['Date'] = pd.to_datetime(ffs_lr['Date'], format='mixed')\n",
    "aub_ffs_lr_2024 = ffs_lr[(ffs_lr['PitcherTeam']=='AUB_TIG') & (ffs_lr['Date'] > datetime.datetime(2024,1,1))]"
   ],
   "metadata": {
    "collapsed": false,
    "ExecuteTime": {
     "end_time": "2024-10-25T16:20:42.434286300Z",
     "start_time": "2024-10-25T16:20:42.358506Z"
    }
   },
   "id": "632469c9763fea57",
   "outputs": [
    {
     "name": "stderr",
     "output_type": "stream",
     "text": [
      "C:\\Users\\charl\\AppData\\Local\\Temp\\ipykernel_14272\\976807833.py:1: SettingWithCopyWarning: \n",
      "A value is trying to be set on a copy of a slice from a DataFrame.\n",
      "Try using .loc[row_indexer,col_indexer] = value instead\n",
      "\n",
      "See the caveats in the documentation: https://pandas.pydata.org/pandas-docs/stable/user_guide/indexing.html#returning-a-view-versus-a-copy\n",
      "  ffs_lr['Date'] = pd.to_datetime(ffs_lr['Date'], format='mixed')\n"
     ]
    }
   ],
   "execution_count": 71
  },
  {
   "cell_type": "code",
   "source": [
    "# Get unique values\n",
    "unique_values = ffs_lr['Pitcher'].unique()\n",
    "aub_unique_values = aub_ffs_lr_2024['Pitcher'].unique()\n",
    "\n",
    "print(aub_unique_values)\n",
    "\n",
    "# Create a dictionary to store subsets\n",
    "all_subsets = {value: ffs_lr[ffs_lr['Pitcher'] == value] for value in unique_values}\n",
    "\n",
    "aub_subsets = {value: aub_ffs_lr_2024[aub_ffs_lr_2024['Pitcher'] == value] for value in aub_unique_values}"
   ],
   "metadata": {
    "collapsed": false,
    "ExecuteTime": {
     "end_time": "2024-10-25T16:20:43.231791100Z",
     "start_time": "2024-10-25T16:20:42.384148100Z"
    }
   },
   "id": "3ed6d43a69d631ff",
   "outputs": [
    {
     "name": "stdout",
     "output_type": "stream",
     "text": [
      "['Crotchfelt, Zach' 'Myers, Carson' 'Murphy, Hayden' 'Graves, Griffin'\n",
      " 'Nelson, Drew' 'Copeland, Konner' 'Bauman, Tanner']\n"
     ]
    }
   ],
   "execution_count": 72
  },
  {
   "cell_type": "code",
   "source": [
    "def aub_lr_ffs_stuff(name):\n",
    "    \n",
    "    preds = ['RelSpeed','VertRelAngle','HorzRelAngle','SpinRate','SpinAxis','RelHeight','RelSide','Extension','VertBreak','InducedVertBreak','HorzBreak','ZoneSpeed','VertApprAngle','HorzApprAngle','ZoneTime','pfxx','pfxz','x0','y0','z0','vx0','vy0','vz0','ax0','ay0','az0','SpeedDrop','PitchTrajectoryXc1','PitchTrajectoryXc2','PitchTrajectoryYc0','PitchTrajectoryYc1','PitchTrajectoryYc2','PitchTrajectoryZc0','PitchTrajectoryZc1','PitchTrajectoryZc2']\n",
    "    \n",
    "    all_preds = best_model.predict_proba(ffs_lr_X)[:,1]\n",
    "    mean_pred = np.mean(all_preds)\n",
    "\n",
    "    pitcher = aub_subsets[name]\n",
    "    pitcher_x = pitcher[preds]\n",
    "\n",
    "    whiff_preds = best_model.predict_proba(pitcher_x)[:,1]\n",
    "\n",
    "    stuff = whiff_preds/mean_pred\n",
    "    \n",
    "    print(f\"{name} Four Seam LR stuff+: {np.mean(stuff * 100)}\")"
   ],
   "metadata": {
    "collapsed": false,
    "ExecuteTime": {
     "end_time": "2024-10-25T16:20:43.241582900Z",
     "start_time": "2024-10-25T16:20:43.232797600Z"
    }
   },
   "id": "f66d6231b8b3571d",
   "outputs": [],
   "execution_count": 73
  },
  {
   "cell_type": "code",
   "source": [
    "for pitcher in aub_unique_values:\n",
    "    aub_lr_ffs_stuff(pitcher)"
   ],
   "metadata": {
    "collapsed": false,
    "ExecuteTime": {
     "end_time": "2024-10-25T16:20:43.622432900Z",
     "start_time": "2024-10-25T16:20:43.241582900Z"
    }
   },
   "id": "8760355e910d5a62",
   "outputs": [
    {
     "name": "stdout",
     "output_type": "stream",
     "text": [
      "Crotchfelt, Zach Four Seam LR stuff+: 106.07128143310547\n",
      "Myers, Carson Four Seam LR stuff+: 79.92832946777344\n",
      "Murphy, Hayden Four Seam LR stuff+: 68.79878234863281\n",
      "Graves, Griffin Four Seam LR stuff+: 90.716064453125\n",
      "Nelson, Drew Four Seam LR stuff+: 79.02799224853516\n",
      "Copeland, Konner Four Seam LR stuff+: 80.22103881835938\n",
      "Bauman, Tanner Four Seam LR stuff+: 50.878082275390625\n"
     ]
    }
   ],
   "execution_count": 74
  },
  {
   "cell_type": "code",
   "source": [
    "ffs_ll_X = ffs_ll[preds]\n",
    "ffs_ll_y = ffs_ll['whiff']"
   ],
   "metadata": {
    "collapsed": false,
    "ExecuteTime": {
     "end_time": "2024-10-23T22:50:53.121810Z",
     "start_time": "2024-10-23T22:50:53.118167Z"
    }
   },
   "id": "4a6b59ded1b138d4",
   "outputs": [],
   "execution_count": 60
  },
  {
   "cell_type": "code",
   "source": [
    "X_train, X_test, y_train, y_test = train_test_split(ffs_ll_X, ffs_ll_y, test_size=.33, random_state=25)\n",
    "\n",
    "# Set up the XGBoost model\n",
    "xgb_model = XGBClassifier(random_state=25)\n",
    "\n",
    "# Define the parameter space for Bayesian hyperparameter tuning for XGBoost\n",
    "param_space = {\n",
    "    'learning_rate': (0.01, 0.3, 'log-uniform'),  # Learning rate\n",
    "    'max_depth': (3, 10),  # Maximum depth of a tree\n",
    "    'n_estimators': (50, 300),  # Number of boosting rounds\n",
    "    'subsample': (0.6, 1.0),  # Subsample ratio of the training instances\n",
    "    'colsample_bytree': (0.6, 1.0),  # Subsample ratio of columns for each tree\n",
    "    'gamma': (0, 10),  # Minimum loss reduction required to make a further partition\n",
    "    'reg_alpha': (1e-8, 1.0, 'log-uniform'),  # L1 regularization term\n",
    "    'reg_lambda': (1e-8, 1.0, 'log-uniform'),  # L2 regularization term\n",
    "}\n",
    "\n",
    "# Set up Bayesian search using BayesSearchCV\n",
    "bayes_search = BayesSearchCV(\n",
    "    estimator=xgb_model,\n",
    "    search_spaces=param_space,\n",
    "    n_iter=25,  # Number of iterations\n",
    "    cv=3,  # 3-fold cross-validation\n",
    "    scoring='accuracy',  # Scoring metric\n",
    "    n_jobs=-1,  # Use all available cores\n",
    "    verbose=0,\n",
    "    random_state=42\n",
    ")\n",
    "\n",
    "# Fit the model using Bayesian hyperparameter tuning\n",
    "bayes_search.fit(X_train, y_train)\n",
    "\n",
    "# Best hyperparameters found\n",
    "best_params = bayes_search.best_params_\n",
    "print(f\"Best hyperparameters for Whiffs: {best_params}\")\n",
    "\n",
    "# Make predictions on the training and test sets using the best model\n",
    "best_model = bayes_search.best_estimator_\n",
    "y_train_pred = best_model.predict(X_train)\n",
    "y_test_pred = best_model.predict(X_test)\n",
    "\n",
    "# Calculate MSE and R-squared for both training and test sets\n",
    "accuracy_train = accuracy_score(y_train, y_train_pred)\n",
    "accuracy_test = accuracy_score(y_test, y_test_pred)\n",
    "auc_train = roc_auc_score(y_train, y_train_pred)\n",
    "auc_test = roc_auc_score(y_test, y_test_pred)\n",
    "\n",
    "print(f'Accuracy (Training): {accuracy_train:.4f}')\n",
    "print(f'ROC AUC (Training): {auc_train:.4f}')\n",
    "print(f'Accuracy (Test): {accuracy_test:.4f}')\n",
    "print(f'ROC AUC (Test): {auc_test:.4f}')"
   ],
   "metadata": {
    "collapsed": false,
    "ExecuteTime": {
     "end_time": "2024-10-23T22:51:05.458877Z",
     "start_time": "2024-10-23T22:50:54.416274Z"
    }
   },
   "id": "519c6293db6b4f6d",
   "outputs": [
    {
     "name": "stdout",
     "output_type": "stream",
     "text": [
      "Best hyperparameters for Whiffs: OrderedDict({'colsample_bytree': 0.7779330049204607, 'gamma': 9, 'learning_rate': 0.014285310742471472, 'max_depth': 6, 'n_estimators': 97, 'reg_alpha': 4.259148185658276e-05, 'reg_lambda': 1.752203051791065e-07, 'subsample': 0.9006210125361986})\n",
      "Accuracy (Training): 0.9202\n",
      "ROC AUC (Training): 0.5000\n",
      "Accuracy (Test): 0.9170\n",
      "ROC AUC (Test): 0.5000\n"
     ]
    }
   ],
   "execution_count": 61
  },
  {
   "metadata": {
    "ExecuteTime": {
     "end_time": "2024-10-23T22:53:11.055213Z",
     "start_time": "2024-10-23T22:53:11.045995Z"
    }
   },
   "cell_type": "code",
   "source": [
    "import joblib\n",
    "\n",
    "joblib.dump(best_model, '../../models/Four Seam Models/fourseam_ll_model.pkl')"
   ],
   "id": "d3509a03c911d844",
   "outputs": [
    {
     "data": {
      "text/plain": [
       "['../../models/fourseam_ll_model.pkl']"
      ]
     },
     "execution_count": 67,
     "metadata": {},
     "output_type": "execute_result"
    }
   ],
   "execution_count": 67
  },
  {
   "cell_type": "code",
   "source": [
    "ffs_ll['Date'] = pd.to_datetime(ffs_ll['Date'], format='mixed')\n",
    "aub_ffs_ll_2024 = ffs_ll[(ffs_ll['PitcherTeam']=='AUB_TIG') & (ffs_ll['Date'] > datetime.datetime(2024,1,1))]"
   ],
   "metadata": {
    "collapsed": false,
    "ExecuteTime": {
     "end_time": "2024-10-23T22:51:42.667571Z",
     "start_time": "2024-10-23T22:51:42.659159Z"
    }
   },
   "id": "478ff4999d70642b",
   "outputs": [
    {
     "name": "stderr",
     "output_type": "stream",
     "text": [
      "/tmp/ipykernel_12080/1848920086.py:1: SettingWithCopyWarning: \n",
      "A value is trying to be set on a copy of a slice from a DataFrame.\n",
      "Try using .loc[row_indexer,col_indexer] = value instead\n",
      "\n",
      "See the caveats in the documentation: https://pandas.pydata.org/pandas-docs/stable/user_guide/indexing.html#returning-a-view-versus-a-copy\n",
      "  ffs_ll['Date'] = pd.to_datetime(ffs_ll['Date'], format='mixed')\n"
     ]
    }
   ],
   "execution_count": 63
  },
  {
   "cell_type": "code",
   "source": [
    "# Get unique values\n",
    "unique_values = ffs_ll['Pitcher'].unique()\n",
    "aub_unique_values = aub_ffs_ll_2024['Pitcher'].unique()\n",
    "\n",
    "print(aub_unique_values)\n",
    "\n",
    "# Create a dictionary to store subsets\n",
    "all_subsets = {value: ffs_ll[ffs_ll['Pitcher'] == value] for value in unique_values}\n",
    "\n",
    "aub_subsets = {value: aub_ffs_ll_2024[aub_ffs_ll_2024['Pitcher'] == value] for value in aub_unique_values}"
   ],
   "metadata": {
    "collapsed": false,
    "ExecuteTime": {
     "end_time": "2024-10-23T22:52:11.873872Z",
     "start_time": "2024-10-23T22:52:11.484826Z"
    }
   },
   "id": "df7771347a5d74ff",
   "outputs": [
    {
     "name": "stdout",
     "output_type": "stream",
     "text": [
      "['Myers, Carson' 'Graves, Griffin' 'Nelson, Drew' 'Copeland, Konner'\n",
      " 'Bauman, Tanner' 'Crotchfelt, Zach']\n"
     ]
    }
   ],
   "execution_count": 64
  },
  {
   "cell_type": "code",
   "source": [
    "def aub_ll_ffs_stuff(name):\n",
    "    \n",
    "    preds = ['RelSpeed','VertRelAngle','HorzRelAngle','SpinRate','SpinAxis','RelHeight','RelSide','Extension','VertBreak','InducedVertBreak','HorzBreak','ZoneSpeed','VertApprAngle','HorzApprAngle','ZoneTime','pfxx','pfxz','x0','y0','z0','vx0','vy0','vz0','ax0','ay0','az0','SpeedDrop','PitchTrajectoryXc1','PitchTrajectoryXc2','PitchTrajectoryYc0','PitchTrajectoryYc1','PitchTrajectoryYc2','PitchTrajectoryZc0','PitchTrajectoryZc1','PitchTrajectoryZc2']\n",
    "    \n",
    "    all_preds = best_model.predict_proba(ffs_ll_X)[:,1]\n",
    "    mean_pred = np.mean(all_preds)\n",
    "\n",
    "    pitcher = aub_subsets[name]\n",
    "    pitcher_x = pitcher[preds]\n",
    "\n",
    "    whiff_preds = best_model.predict_proba(pitcher_x)[:,1]\n",
    "\n",
    "    stuff = whiff_preds/mean_pred\n",
    "    \n",
    "    print(f\"{name} Four Seam LL stuff+: {np.mean(stuff * 100)}\")"
   ],
   "metadata": {
    "collapsed": false,
    "ExecuteTime": {
     "end_time": "2024-10-23T22:52:25.255326Z",
     "start_time": "2024-10-23T22:52:25.253357Z"
    }
   },
   "id": "496f56a66b1700c8",
   "outputs": [],
   "execution_count": 65
  },
  {
   "cell_type": "code",
   "source": [
    "for pitcher in aub_unique_values:\n",
    "    aub_ll_ffs_stuff(pitcher)"
   ],
   "metadata": {
    "collapsed": false,
    "ExecuteTime": {
     "end_time": "2024-10-23T22:52:27.264170Z",
     "start_time": "2024-10-23T22:52:27.211709Z"
    }
   },
   "id": "b7c8ee1865b02f47",
   "outputs": [
    {
     "name": "stdout",
     "output_type": "stream",
     "text": [
      "Myers, Carson Four Seam LL stuff+: 80.69529724121094\n",
      "Graves, Griffin Four Seam LL stuff+: 154.1129150390625\n",
      "Nelson, Drew Four Seam LL stuff+: 111.88551330566406\n",
      "Copeland, Konner Four Seam LL stuff+: 97.95450592041016\n",
      "Bauman, Tanner Four Seam LL stuff+: 77.89878845214844\n",
      "Crotchfelt, Zach Four Seam LL stuff+: 102.84469604492188\n"
     ]
    }
   ],
   "execution_count": 66
  }
 ],
 "metadata": {
  "kernelspec": {
   "display_name": "Python 3",
   "language": "python",
   "name": "python3"
  },
  "language_info": {
   "codemirror_mode": {
    "name": "ipython",
    "version": 2
   },
   "file_extension": ".py",
   "mimetype": "text/x-python",
   "name": "python",
   "nbconvert_exporter": "python",
   "pygments_lexer": "ipython2",
   "version": "2.7.6"
  }
 },
 "nbformat": 4,
 "nbformat_minor": 5
}
