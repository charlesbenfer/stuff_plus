{
 "cells": [
  {
   "cell_type": "code",
   "execution_count": null,
   "id": "initial_id",
   "metadata": {
    "collapsed": true
   },
   "outputs": [],
   "source": [
    "import os\n",
    "import pandas as pd\n",
    "import numpy as np\n",
    "import xgboost\n",
    "from xgboost import XGBClassifier\n",
    "from sklearn.model_selection import train_test_split\n",
    "from sklearn.metrics import accuracy_score, confusion_matrix, precision_score, recall_score, f1_score, roc_auc_score, roc_curve\n",
    "from hyperopt import STATUS_OK, Trials, fmin, hp, tpe\n",
    "import matplotlib.pyplot as plt\n",
    "import seaborn as sns\n",
    "import shap"
   ]
  },
  {
   "cell_type": "code",
   "execution_count": null,
   "outputs": [],
   "source": [
    "csv_dir = '../../SEC Trackman Data/'\n",
    "all_files = [os.path.join(csv_dir, f) for f in os.listdir(csv_dir) if f.endswith('.csv')]\n",
    "\n",
    "df_list = []\n",
    "\n",
    "for file in all_files:\n",
    "    df = pd.read_csv(file)\n",
    "    df_list.append(df)\n",
    "\n",
    "all_pitches = pd.concat(df_list, ignore_index=True)\n",
    "\n",
    "print(all_pitches.shape)\n",
    "print(all_pitches.columns)"
   ],
   "metadata": {
    "collapsed": false
   },
   "id": "e30e9c1ae364f5c3"
  },
  {
   "cell_type": "code",
   "execution_count": null,
   "outputs": [],
   "source": [
    "ffs = all_pitches[all_pitches['TaggedPitchType'].isin(['FourSeamFastBall', 'Fastball'])]\n",
    "print(ffs.shape)"
   ],
   "metadata": {
    "collapsed": false
   },
   "id": "444f3848215c6482"
  },
  {
   "cell_type": "code",
   "execution_count": null,
   "outputs": [],
   "source": [
    "ffs['whiff'] = np.where(ffs['PitchCall']=='StrikeSwinging',1,0)"
   ],
   "metadata": {
    "collapsed": false
   },
   "id": "b4c7f0c1404d490"
  },
  {
   "cell_type": "code",
   "execution_count": null,
   "outputs": [],
   "source": [
    "preds = ['RelSpeed','VertRelAngle','HorzRelAngle','SpinRate','SpinAxis','RelHeight','RelSide','Extension','VertBreak','InducedVertBreak','HorzBreak','ZoneSpeed','VertApprAngle','HorzApprAngle','ZoneTime','pfxx','pfxz','x0','y0','z0','vx0','vy0','vz0','ax0','ay0','az0','SpeedDrop','PitchTrajectoryXc1','PitchTrajectoryXc2','PitchTrajectoryYc0','PitchTrajectoryYc1','PitchTrajectoryYc2','PitchTrajectoryZc0','PitchTrajectoryZc1','PitchTrajectoryZc2']"
   ],
   "metadata": {
    "collapsed": false
   },
   "id": "4aa1a64ef9ffd1ed"
  },
  {
   "cell_type": "code",
   "execution_count": null,
   "outputs": [],
   "source": [
    "ffs_X = ffs[preds]\n",
    "ffs_y = ffs['whiff']"
   ],
   "metadata": {
    "collapsed": false
   },
   "id": "77852724d871ed07"
  },
  {
   "cell_type": "code",
   "execution_count": null,
   "outputs": [],
   "source": [
    "X_train, X_test, y_train, y_test = train_test_split(ffs_X, ffs_y, test_size=.33, random_state=25)\n",
    "\n",
    "model = XGBClassifier()\n",
    "model.fit(X_train, y_train)\n",
    "\n",
    "y_pred = model.predict(X_test)\n",
    "predictions = [round(value) for value in y_pred]\n",
    "\n",
    "accuracy = accuracy_score(y_test, predictions)\n",
    "print(\"Accuracy: %.2f%%\" % (accuracy * 100.0))"
   ],
   "metadata": {
    "collapsed": false
   },
   "id": "4d08d18b66536cc9"
  },
  {
   "cell_type": "code",
   "execution_count": null,
   "outputs": [],
   "source": [
    "aub_ffs = ffs[ffs['PitcherTeam']=='AUB_TIG']"
   ],
   "metadata": {
    "collapsed": false
   },
   "id": "85ba3b2316b290a0"
  },
  {
   "cell_type": "code",
   "execution_count": null,
   "outputs": [],
   "source": [
    "# Get unique values\n",
    "unique_values = ffs['Pitcher'].unique()\n",
    "aub_unique_values = aub_ffs['Pitcher'].unique()\n",
    "\n",
    "print(aub_unique_values)\n",
    "\n",
    "# Create a dictionary to store subsets\n",
    "all_subsets = {value: ffs[ffs['Pitcher'] == value] for value in unique_values}\n",
    "\n",
    "aub_subsets = {value: ffs[ffs['Pitcher'] == value] for value in aub_unique_values}"
   ],
   "metadata": {
    "collapsed": false
   },
   "id": "2c7c7a80854cbae5"
  },
  {
   "cell_type": "code",
   "execution_count": null,
   "outputs": [],
   "source": [
    "def aub_ffs_stuff(name):\n",
    "    \n",
    "    preds = ['RelSpeed','VertRelAngle','HorzRelAngle','SpinRate','SpinAxis','RelHeight','RelSide','Extension','VertBreak','InducedVertBreak','HorzBreak','ZoneSpeed','VertApprAngle','HorzApprAngle','ZoneTime','pfxx','pfxz','x0','y0','z0','vx0','vy0','vz0','ax0','ay0','az0','SpeedDrop','PitchTrajectoryXc1','PitchTrajectoryXc2','PitchTrajectoryYc0','PitchTrajectoryYc1','PitchTrajectoryYc2','PitchTrajectoryZc0','PitchTrajectoryZc1','PitchTrajectoryZc2']\n",
    "    \n",
    "    all_preds = model.predict_proba(ffs_X)[:,1]\n",
    "    mean_pred = np.mean(all_preds)\n",
    "\n",
    "    pitcher = aub_subsets[name]\n",
    "    pitcher_x = pitcher[preds]\n",
    "\n",
    "    whiff_preds = model.predict_proba(pitcher_x)[:,1]\n",
    "\n",
    "    stuff = whiff_preds/mean_pred\n",
    "    \n",
    "    print(f\"{name} Four Seam stuff+: {np.mean(stuff * 100)}\")"
   ],
   "metadata": {
    "collapsed": false
   },
   "id": "5345e83743a825b5"
  },
  {
   "cell_type": "code",
   "execution_count": null,
   "outputs": [],
   "source": [
    "for pitcher in aub_unique_values:\n",
    "    aub_ffs_stuff(pitcher)"
   ],
   "metadata": {
    "collapsed": false
   },
   "id": "91fbdb5c0b6bb930"
  },
  {
   "cell_type": "code",
   "execution_count": null,
   "outputs": [],
   "source": [
    "aub_subsets['Keplinger, Konner']"
   ],
   "metadata": {
    "collapsed": false
   },
   "id": "af110582a10e39e7"
  },
  {
   "cell_type": "code",
   "execution_count": null,
   "outputs": [],
   "source": [
    "ffs_rr = ffs[(ffs['PitcherThrows'] == 'Right') & (ffs['BatterSide'] == 'Right')]\n",
    "ffs_rl = ffs[(ffs['PitcherThrows'] == 'Right') & (ffs['BatterSide'] == 'Left')]\n",
    "ffs_lr = ffs[(ffs['PitcherThrows'] == 'Left') & (ffs['BatterSide'] == 'Right')]\n",
    "ffs_ll = ffs[(ffs['PitcherThrows'] == 'Left') & (ffs['BatterSide'] == 'Left')]\n",
    "\n",
    "print(ffs_rr.shape)\n",
    "print(ffs_rl.shape)\n",
    "print(ffs_lr.shape)\n",
    "print(ffs_ll.shape)"
   ],
   "metadata": {
    "collapsed": false
   },
   "id": "2c50bd26fd44fb48"
  },
  {
   "cell_type": "code",
   "execution_count": null,
   "outputs": [],
   "source": [
    "ffs_rr['whiff'] = np.where(ffs_rr['PitchCall']=='StrikeSwinging',1,0)\n",
    "ffs_rl['whiff'] = np.where(ffs_rl['PitchCall']=='StrikeSwinging',1,0)\n",
    "ffs_lr['whiff'] = np.where(ffs_lr['PitchCall']=='StrikeSwinging',1,0)\n",
    "ffs_ll['whiff'] = np.where(ffs_ll['PitchCall']=='StrikeSwinging',1,0)"
   ],
   "metadata": {
    "collapsed": false
   },
   "id": "763cdeac03de9e52"
  },
  {
   "cell_type": "code",
   "execution_count": null,
   "outputs": [],
   "source": [
    "preds = ['RelSpeed','VertRelAngle','HorzRelAngle','SpinRate','SpinAxis','RelHeight','RelSide','Extension','VertBreak','InducedVertBreak','HorzBreak','ZoneSpeed','VertApprAngle','HorzApprAngle','ZoneTime','pfxx','pfxz','x0','y0','z0','vx0','vy0','vz0','ax0','ay0','az0','SpeedDrop','PitchTrajectoryXc1','PitchTrajectoryXc2','PitchTrajectoryYc0','PitchTrajectoryYc1','PitchTrajectoryYc2','PitchTrajectoryZc0','PitchTrajectoryZc1','PitchTrajectoryZc2']"
   ],
   "metadata": {
    "collapsed": false
   },
   "id": "9a6d43a4a456dce4"
  },
  {
   "cell_type": "code",
   "execution_count": null,
   "outputs": [],
   "source": [
    "ffs_rr_X = ffs_rr[preds]\n",
    "ffs_rr_y = ffs_rr['whiff']"
   ],
   "metadata": {
    "collapsed": false
   },
   "id": "31cd3f963ab715e1"
  },
  {
   "cell_type": "code",
   "execution_count": null,
   "outputs": [],
   "source": [
    "X_train, X_test, y_train, y_test = train_test_split(ffs_rr_X, ffs_rr_y, test_size=.33, random_state=25)\n",
    "\n",
    "model = XGBClassifier()\n",
    "model.fit(X_train, y_train)\n",
    "\n",
    "y_pred = model.predict(X_test)\n",
    "predictions = [round(value) for value in y_pred]\n",
    "\n",
    "accuracy = accuracy_score(y_test, predictions)\n",
    "print(\"Accuracy: %.2f%%\" % (accuracy * 100.0))"
   ],
   "metadata": {
    "collapsed": false
   },
   "id": "1fd5cb925e76201e"
  },
  {
   "cell_type": "code",
   "execution_count": null,
   "outputs": [],
   "source": [
    "y_pred_prob = model.predict_proba(X_test)[:,1]\n",
    "roc_auc = roc_auc_score(y_test, predictions, multi_class='ovr')\n",
    "\n",
    "print(f'ROC AUC: {roc_auc:.4f}')\n",
    "\n",
    "# Plotting ROC Curve for one class (e.g., class 0)\n",
    "fpr, tpr, _ = roc_curve(y_test == 1, y_pred_prob)\n",
    "plt.plot(fpr, tpr, label='Class 0 ROC curve')\n",
    "plt.xlabel('False Positive Rate')\n",
    "plt.ylabel('True Positive Rate')\n",
    "plt.title('ROC Curve')\n",
    "plt.legend(loc='best')\n",
    "plt.show()"
   ],
   "metadata": {
    "collapsed": false
   },
   "id": "18b554bae750bebf"
  },
  {
   "cell_type": "code",
   "execution_count": null,
   "outputs": [],
   "source": [
    "aub_ffs_rr = ffs_rr[ffs_rr['PitcherTeam']=='AUB_TIG']\n",
    "print(aub_ffs_rr.shape)"
   ],
   "metadata": {
    "collapsed": false
   },
   "id": "64cbb1b2dfadae86"
  },
  {
   "cell_type": "code",
   "execution_count": null,
   "outputs": [],
   "source": [
    "# Get unique values\n",
    "unique_values = ffs_rr['Pitcher'].unique()\n",
    "aub_unique_values = aub_ffs_rr['Pitcher'].unique()\n",
    "\n",
    "print(aub_unique_values)\n",
    "\n",
    "# Create a dictionary to store subsets\n",
    "all_subsets = {value: ffs_rr[ffs_rr['Pitcher'] == value] for value in unique_values}\n",
    "\n",
    "aub_subsets = {value: ffs_rr[ffs_rr['Pitcher'] == value] for value in aub_unique_values}"
   ],
   "metadata": {
    "collapsed": false
   },
   "id": "7738968264671b39"
  },
  {
   "cell_type": "code",
   "execution_count": null,
   "outputs": [],
   "source": [
    "def aub_rr_ffs_stuff(name):\n",
    "    \n",
    "    preds = ['RelSpeed','VertRelAngle','HorzRelAngle','SpinRate','SpinAxis','RelHeight','RelSide','Extension','VertBreak','InducedVertBreak','HorzBreak','ZoneSpeed','VertApprAngle','HorzApprAngle','ZoneTime','pfxx','pfxz','x0','y0','z0','vx0','vy0','vz0','ax0','ay0','az0','SpeedDrop','PitchTrajectoryXc1','PitchTrajectoryXc2','PitchTrajectoryYc0','PitchTrajectoryYc1','PitchTrajectoryYc2','PitchTrajectoryZc0','PitchTrajectoryZc1','PitchTrajectoryZc2']\n",
    "    \n",
    "    all_preds = model.predict_proba(ffs_rr_X)[:,1]\n",
    "    mean_pred = np.mean(all_preds)\n",
    "\n",
    "    pitcher = aub_subsets[name]\n",
    "    pitcher_x = pitcher[preds]\n",
    "\n",
    "    whiff_preds = model.predict_proba(pitcher_x)[:,1]\n",
    "\n",
    "    stuff = whiff_preds/mean_pred\n",
    "    \n",
    "    print(f\"{name} RR Four Seam stuff+: {np.mean(stuff * 100)}\")"
   ],
   "metadata": {
    "collapsed": false
   },
   "id": "6e33b8eb1b6c9bce"
  },
  {
   "cell_type": "code",
   "execution_count": null,
   "outputs": [],
   "source": [
    "for pitcher in aub_unique_values:\n",
    "    aub_rr_ffs_stuff(pitcher)"
   ],
   "metadata": {
    "collapsed": false
   },
   "id": "f5246b9f3e5aff9a"
  },
  {
   "cell_type": "code",
   "execution_count": null,
   "outputs": [],
   "source": [
    "ffs_rl_X = ffs_rl[preds]\n",
    "ffs_rl_y = ffs_rl['whiff']"
   ],
   "metadata": {
    "collapsed": false
   },
   "id": "9055dc334c8a7eb2"
  },
  {
   "cell_type": "code",
   "execution_count": null,
   "outputs": [],
   "source": [
    "X_train, X_test, y_train, y_test = train_test_split(ffs_rl_X, ffs_rl_y, test_size=.33, random_state=25)\n",
    "\n",
    "model = XGBClassifier()\n",
    "model.fit(X_train, y_train)\n",
    "\n",
    "y_pred = model.predict(X_test)\n",
    "predictions = [round(value) for value in y_pred]\n",
    "\n",
    "accuracy = accuracy_score(y_test, predictions)\n",
    "print(\"Accuracy: %.2f%%\" % (accuracy * 100.0))"
   ],
   "metadata": {
    "collapsed": false
   },
   "id": "bf7757328119f3ca"
  },
  {
   "cell_type": "code",
   "execution_count": null,
   "outputs": [],
   "source": [
    "aub_ffs_rl = ffs_rl[ffs_rl['PitcherTeam']=='AUB_TIG']\n",
    "print(aub_ffs_rl.shape)"
   ],
   "metadata": {
    "collapsed": false
   },
   "id": "1f2602773026c4ce"
  },
  {
   "cell_type": "code",
   "execution_count": null,
   "outputs": [],
   "source": [
    "# Get unique values\n",
    "unique_values = ffs_rl['Pitcher'].unique()\n",
    "aub_unique_values = aub_ffs_rl['Pitcher'].unique()\n",
    "\n",
    "print(aub_unique_values)\n",
    "\n",
    "# Create a dictionary to store subsets\n",
    "all_subsets = {value: ffs_rl[ffs_rl['Pitcher'] == value] for value in unique_values}\n",
    "\n",
    "aub_subsets = {value: ffs_rl[ffs_rl['Pitcher'] == value] for value in aub_unique_values}"
   ],
   "metadata": {
    "collapsed": false
   },
   "id": "83a0df365bda10ea"
  },
  {
   "cell_type": "code",
   "execution_count": null,
   "outputs": [],
   "source": [
    "def aub_rl_ffs_stuff(name):\n",
    "    \n",
    "    preds = ['RelSpeed','VertRelAngle','HorzRelAngle','SpinRate','SpinAxis','RelHeight','RelSide','Extension','VertBreak','InducedVertBreak','HorzBreak','ZoneSpeed','VertApprAngle','HorzApprAngle','ZoneTime','pfxx','pfxz','x0','y0','z0','vx0','vy0','vz0','ax0','ay0','az0','SpeedDrop','PitchTrajectoryXc1','PitchTrajectoryXc2','PitchTrajectoryYc0','PitchTrajectoryYc1','PitchTrajectoryYc2','PitchTrajectoryZc0','PitchTrajectoryZc1','PitchTrajectoryZc2']\n",
    "    \n",
    "    all_preds = model.predict_proba(ffs_rl_X)[:,1]\n",
    "    mean_pred = np.mean(all_preds)\n",
    "\n",
    "    pitcher = aub_subsets[name]\n",
    "    pitcher_x = pitcher[preds]\n",
    "\n",
    "    whiff_preds = model.predict_proba(pitcher_x)[:,1]\n",
    "\n",
    "    stuff = whiff_preds/mean_pred\n",
    "    \n",
    "    print(f\"{name} Four Seam RL stuff+: {np.mean(stuff * 100)}\")"
   ],
   "metadata": {
    "collapsed": false
   },
   "id": "e15187d672310975"
  },
  {
   "cell_type": "code",
   "execution_count": null,
   "outputs": [],
   "source": [
    "for pitcher in aub_unique_values:\n",
    "    aub_rl_ffs_stuff(pitcher)"
   ],
   "metadata": {
    "collapsed": false
   },
   "id": "5c06a2ad389990b"
  },
  {
   "cell_type": "code",
   "execution_count": null,
   "outputs": [],
   "source": [
    "ffs_lr_X = ffs_lr[preds]\n",
    "ffs_lr_y = ffs_lr['whiff']"
   ],
   "metadata": {
    "collapsed": false
   },
   "id": "4d29e4ba55bb48c7"
  },
  {
   "cell_type": "code",
   "execution_count": null,
   "outputs": [],
   "source": [
    "X_train, X_test, y_train, y_test = train_test_split(ffs_lr_X, ffs_lr_y, test_size=.33, random_state=25)\n",
    "\n",
    "model = XGBClassifier()\n",
    "model.fit(X_train, y_train)\n",
    "\n",
    "y_pred = model.predict(X_test)\n",
    "predictions = [round(value) for value in y_pred]\n",
    "\n",
    "accuracy = accuracy_score(y_test, predictions)\n",
    "print(\"Accuracy: %.2f%%\" % (accuracy * 100.0))"
   ],
   "metadata": {
    "collapsed": false
   },
   "id": "f3c2bdd7e0d6ff63"
  },
  {
   "cell_type": "code",
   "execution_count": null,
   "outputs": [],
   "source": [
    "aub_ffs_lr = ffs_lr[ffs_lr['PitcherTeam']=='AUB_TIG']\n",
    "print(aub_ffs_lr.shape)"
   ],
   "metadata": {
    "collapsed": false
   },
   "id": "632469c9763fea57"
  },
  {
   "cell_type": "code",
   "execution_count": null,
   "outputs": [],
   "source": [
    "# Get unique values\n",
    "unique_values = ffs_lr['Pitcher'].unique()\n",
    "aub_unique_values = aub_ffs_lr['Pitcher'].unique()\n",
    "\n",
    "print(aub_unique_values)\n",
    "\n",
    "# Create a dictionary to store subsets\n",
    "all_subsets = {value: ffs_lr[ffs_lr['Pitcher'] == value] for value in unique_values}\n",
    "\n",
    "aub_subsets = {value: ffs_lr[ffs_lr['Pitcher'] == value] for value in aub_unique_values}"
   ],
   "metadata": {
    "collapsed": false
   },
   "id": "3ed6d43a69d631ff"
  },
  {
   "cell_type": "code",
   "execution_count": null,
   "outputs": [],
   "source": [
    "def aub_lr_ffs_stuff(name):\n",
    "    \n",
    "    preds = ['RelSpeed','VertRelAngle','HorzRelAngle','SpinRate','SpinAxis','RelHeight','RelSide','Extension','VertBreak','InducedVertBreak','HorzBreak','ZoneSpeed','VertApprAngle','HorzApprAngle','ZoneTime','pfxx','pfxz','x0','y0','z0','vx0','vy0','vz0','ax0','ay0','az0','SpeedDrop','PitchTrajectoryXc1','PitchTrajectoryXc2','PitchTrajectoryYc0','PitchTrajectoryYc1','PitchTrajectoryYc2','PitchTrajectoryZc0','PitchTrajectoryZc1','PitchTrajectoryZc2']\n",
    "    \n",
    "    all_preds = model.predict_proba(ffs_lr_X)[:,1]\n",
    "    mean_pred = np.mean(all_preds)\n",
    "\n",
    "    pitcher = aub_subsets[name]\n",
    "    pitcher_x = pitcher[preds]\n",
    "\n",
    "    whiff_preds = model.predict_proba(pitcher_x)[:,1]\n",
    "\n",
    "    stuff = whiff_preds/mean_pred\n",
    "    \n",
    "    print(f\"{name} Four Seam LR stuff+: {np.mean(stuff * 100)}\")"
   ],
   "metadata": {
    "collapsed": false
   },
   "id": "f66d6231b8b3571d"
  },
  {
   "cell_type": "code",
   "execution_count": null,
   "outputs": [],
   "source": [
    "for pitcher in aub_unique_values:\n",
    "    aub_lr_ffs_stuff(pitcher)"
   ],
   "metadata": {
    "collapsed": false
   },
   "id": "8760355e910d5a62"
  },
  {
   "cell_type": "code",
   "execution_count": null,
   "outputs": [],
   "source": [
    "ffs_ll_X = ffs_ll[preds]\n",
    "ffs_ll_y = ffs_ll['whiff']"
   ],
   "metadata": {
    "collapsed": false
   },
   "id": "4a6b59ded1b138d4"
  },
  {
   "cell_type": "code",
   "execution_count": null,
   "outputs": [],
   "source": [
    "X_train, X_test, y_train, y_test = train_test_split(ffs_ll_X, ffs_ll_y, test_size=.33, random_state=25)\n",
    "\n",
    "model = XGBClassifier()\n",
    "model.fit(X_train, y_train)\n",
    "\n",
    "y_pred = model.predict(X_test)\n",
    "predictions = [round(value) for value in y_pred]\n",
    "\n",
    "accuracy = accuracy_score(y_test, predictions)\n",
    "print(\"Accuracy: %.2f%%\" % (accuracy * 100.0))"
   ],
   "metadata": {
    "collapsed": false
   },
   "id": "519c6293db6b4f6d"
  },
  {
   "cell_type": "code",
   "execution_count": null,
   "outputs": [],
   "source": [
    "aub_ffs_ll = ffs_ll[ffs_ll['PitcherTeam']=='AUB_TIG']\n",
    "print(aub_ffs_ll.shape)"
   ],
   "metadata": {
    "collapsed": false
   },
   "id": "478ff4999d70642b"
  },
  {
   "cell_type": "code",
   "execution_count": null,
   "outputs": [],
   "source": [
    "# Get unique values\n",
    "unique_values = ffs_ll['Pitcher'].unique()\n",
    "aub_unique_values = aub_ffs_ll['Pitcher'].unique()\n",
    "\n",
    "print(aub_unique_values)\n",
    "\n",
    "# Create a dictionary to store subsets\n",
    "all_subsets = {value: ffs_ll[ffs_ll['Pitcher'] == value] for value in unique_values}\n",
    "\n",
    "aub_subsets = {value: ffs_ll[ffs_ll['Pitcher'] == value] for value in aub_unique_values}"
   ],
   "metadata": {
    "collapsed": false
   },
   "id": "df7771347a5d74ff"
  },
  {
   "cell_type": "code",
   "execution_count": null,
   "outputs": [],
   "source": [
    "def aub_ll_ffs_stuff(name):\n",
    "    \n",
    "    preds = ['RelSpeed','VertRelAngle','HorzRelAngle','SpinRate','SpinAxis','RelHeight','RelSide','Extension','VertBreak','InducedVertBreak','HorzBreak','ZoneSpeed','VertApprAngle','HorzApprAngle','ZoneTime','pfxx','pfxz','x0','y0','z0','vx0','vy0','vz0','ax0','ay0','az0','SpeedDrop','PitchTrajectoryXc1','PitchTrajectoryXc2','PitchTrajectoryYc0','PitchTrajectoryYc1','PitchTrajectoryYc2','PitchTrajectoryZc0','PitchTrajectoryZc1','PitchTrajectoryZc2']\n",
    "    \n",
    "    all_preds = model.predict_proba(ffs_ll_X)[:,1]\n",
    "    mean_pred = np.mean(all_preds)\n",
    "\n",
    "    pitcher = aub_subsets[name]\n",
    "    pitcher_x = pitcher[preds]\n",
    "\n",
    "    whiff_preds = model.predict_proba(pitcher_x)[:,1]\n",
    "\n",
    "    stuff = whiff_preds/mean_pred\n",
    "    \n",
    "    print(f\"{name} Four Seam LL stuff+: {np.mean(stuff * 100)}\")"
   ],
   "metadata": {
    "collapsed": false
   },
   "id": "496f56a66b1700c8"
  },
  {
   "cell_type": "code",
   "execution_count": null,
   "outputs": [],
   "source": [
    "for pitcher in aub_unique_values:\n",
    "    aub_ll_ffs_stuff(pitcher)"
   ],
   "metadata": {
    "collapsed": false
   },
   "id": "b7c8ee1865b02f47"
  },
  {
   "cell_type": "code",
   "execution_count": null,
   "outputs": [],
   "source": [
    "aub_subsets['Vail, Tommy']"
   ],
   "metadata": {
    "collapsed": false
   },
   "id": "7fbbac85e8897c28"
  }
 ],
 "metadata": {
  "kernelspec": {
   "display_name": "Python 3",
   "language": "python",
   "name": "python3"
  },
  "language_info": {
   "codemirror_mode": {
    "name": "ipython",
    "version": 2
   },
   "file_extension": ".py",
   "mimetype": "text/x-python",
   "name": "python",
   "nbconvert_exporter": "python",
   "pygments_lexer": "ipython2",
   "version": "2.7.6"
  }
 },
 "nbformat": 4,
 "nbformat_minor": 5
}
