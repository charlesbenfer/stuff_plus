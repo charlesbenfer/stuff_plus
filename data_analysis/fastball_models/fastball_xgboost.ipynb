{
 "cells": [
  {
   "cell_type": "code",
   "id": "initial_id",
   "metadata": {
    "collapsed": true
   },
   "source": [
    "import os\n",
    "import pandas as pd\n",
    "import numpy as np\n",
    "import xgboost\n",
    "from xgboost import XGBClassifier\n",
    "from sklearn.model_selection import train_test_split\n",
    "from sklearn.metrics import accuracy_score, confusion_matrix, precision_score, recall_score, f1_score, roc_auc_score, roc_curve\n",
    "import matplotlib.pyplot as plt\n",
    "import seaborn as sns\n",
    "import shap"
   ],
   "outputs": [],
   "execution_count": null
  },
  {
   "metadata": {},
   "cell_type": "code",
   "source": [
    "csv_dir = '../../SEC Trackman Data/'\n",
    "all_files = [os.path.join(csv_dir, f) for f in os.listdir(csv_dir) if f.endswith('.csv')]\n",
    "\n",
    "df_list = []\n",
    "\n",
    "for file in all_files:\n",
    "    df = pd.read_csv(file)\n",
    "    df_list.append(df)\n",
    "\n",
    "all_pitches = pd.concat(df_list, ignore_index=True)\n",
    "\n",
    "print(all_pitches.shape)\n",
    "print(all_pitches.columns)"
   ],
   "id": "6b40fd402978e678",
   "outputs": [],
   "execution_count": null
  },
  {
   "metadata": {},
   "cell_type": "code",
   "source": [
    "tagged_pitch_types = all_pitches['TaggedPitchType'].unique()\n",
    "print(tagged_pitch_types)\n",
    "\n",
    "auto_pitch_types = all_pitches['AutoPitchType'].unique()\n",
    "print(auto_pitch_types)"
   ],
   "id": "4d474370d48a73b0",
   "outputs": [],
   "execution_count": null
  },
  {
   "metadata": {},
   "cell_type": "code",
   "source": [
    "fastballs = all_pitches[all_pitches['TaggedPitchType'].isin(['Fastball','Cutter','Sinker','FourSeamFastBall','TwoSeamFastBall','OneSeamFastBall'])]\n",
    "off_speed = all_pitches[all_pitches['TaggedPitchType'].isin(['ChangeUp','Splitter'])]\n",
    "breaking_balls = all_pitches[all_pitches['TaggedPitchType'].isin(['Slider','Curveball','Knuckleball'])]\n",
    "\n",
    "print(fastballs.shape)\n",
    "print(off_speed.shape)\n",
    "print(breaking_balls.shape)"
   ],
   "id": "d3c8db5a32ab4d95",
   "outputs": [],
   "execution_count": null
  },
  {
   "metadata": {},
   "cell_type": "code",
   "source": [
    "fastballs['whiff'] = np.where(fastballs['PitchCall']=='StrikeSwinging',1,0)\n",
    "off_speed['whiff'] = np.where(off_speed['PitchCall']=='StrikeSwinging',1,0)\n",
    "breaking_balls['whiff'] = np.where(breaking_balls['PitchCall']=='StrikeSwinging',1,0)"
   ],
   "id": "b7b63c593c5d18ec",
   "outputs": [],
   "execution_count": null
  },
  {
   "metadata": {},
   "cell_type": "code",
   "source": [
    "numeric_cols = fastballs.select_dtypes(include=['number']).columns\n",
    "print(numeric_cols)"
   ],
   "id": "453a54b4935fbd8d",
   "outputs": [],
   "execution_count": null
  },
  {
   "metadata": {},
   "cell_type": "code",
   "source": [
    "fb_preds = ['RelSpeed','VertRelAngle','HorzRelAngle','SpinRate','SpinAxis','RelHeight','RelSide','Extension','VertBreak','InducedVertBreak','HorzBreak','ZoneSpeed','VertApprAngle','HorzApprAngle','ZoneTime','pfxx','pfxz','x0','y0','z0','vx0','vy0','vz0','ax0','ay0','az0','SpeedDrop','PitchTrajectoryXc1','PitchTrajectoryXc2','PitchTrajectoryYc0','PitchTrajectoryYc1','PitchTrajectoryYc2','PitchTrajectoryZc0','PitchTrajectoryZc1','PitchTrajectoryZc2']"
   ],
   "id": "59e99e5792d0321",
   "outputs": [],
   "execution_count": null
  },
  {
   "metadata": {},
   "cell_type": "code",
   "source": [
    "fastballs_X = fastballs[fb_preds]\n",
    "fastballs_y = fastballs['whiff']"
   ],
   "id": "322ed93c859bddd1",
   "outputs": [],
   "execution_count": null
  },
  {
   "metadata": {},
   "cell_type": "code",
   "source": [
    "X_train, X_test, y_train, y_test = train_test_split(fastballs_X, fastballs_y, test_size=.33, random_state=25)\n",
    "\n",
    "model = XGBClassifier()\n",
    "model.fit(X_train, y_train)\n",
    "\n",
    "y_pred = model.predict(X_test)\n",
    "predictions = [round(value) for value in y_pred]\n",
    "\n",
    "accuracy = accuracy_score(y_test, predictions)\n",
    "print(\"Accuracy: %.2f%%\" % (accuracy * 100.0))"
   ],
   "id": "f6753581052037f5",
   "outputs": [],
   "execution_count": null
  },
  {
   "metadata": {},
   "cell_type": "code",
   "source": [
    "cm = confusion_matrix(y_test, predictions)\n",
    "plt.figure(figsize=(10, 4))\n",
    "sns.heatmap(cm, annot=True, fmt='d', cmap='Blues')\n",
    "plt.xlabel('Predicted')\n",
    "plt.ylabel('Actual')\n",
    "plt.title('Confusion Matrix')\n",
    "plt.show()"
   ],
   "id": "6c36c8eece93f0bc",
   "outputs": [],
   "execution_count": null
  },
  {
   "metadata": {},
   "cell_type": "code",
   "source": [
    "precision = precision_score(y_test, predictions, average='macro')\n",
    "recall = recall_score(y_test, predictions, average='macro')\n",
    "f1 = f1_score(y_test, predictions, average='macro')\n",
    "\n",
    "print(f'Precision: {precision:.4f}')\n",
    "print(f'Recall: {recall:.4f}')\n",
    "print(f'F1 Score: {f1:.4f}')"
   ],
   "id": "fb237ceccfd1e49e",
   "outputs": [],
   "execution_count": null
  },
  {
   "metadata": {},
   "cell_type": "code",
   "source": [
    "y_pred_prob = model.predict_proba(X_test)[:,1]\n",
    "roc_auc = roc_auc_score(y_test, predictions, multi_class='ovr')\n",
    "\n",
    "print(f'ROC AUC: {roc_auc:.4f}')\n",
    "\n",
    "# Plotting ROC Curve for one class (e.g., class 0)\n",
    "fpr, tpr, _ = roc_curve(y_test == 0, y_pred_prob)\n",
    "plt.plot(fpr, tpr, label='Class 0 ROC curve')\n",
    "plt.xlabel('False Positive Rate')\n",
    "plt.ylabel('True Positive Rate')\n",
    "plt.title('ROC Curve')\n",
    "plt.legend(loc='best')\n",
    "plt.show()"
   ],
   "id": "d26be37eb11a6466",
   "outputs": [],
   "execution_count": null
  },
  {
   "metadata": {},
   "cell_type": "code",
   "source": [
    "xgboost.plot_importance(model, max_num_features=20)"
   ],
   "id": "32e472b4279c4054",
   "outputs": [],
   "execution_count": null
  },
  {
   "metadata": {},
   "cell_type": "code",
   "source": [
    "# Step 1: Initialize the SHAP explainer\n",
    "explainer = shap.Explainer(model, X_train)\n",
    "\n",
    "# Step 2: Calculate SHAP values for the training data\n",
    "shap_values = explainer(X_train)\n",
    "\n",
    "# Step 3: Plot a summary plot\n",
    "shap.summary_plot(shap_values, X_train, feature_names=X_train.columns)"
   ],
   "id": "652176e29dafe4d",
   "outputs": [],
   "execution_count": null
  },
  {
   "metadata": {},
   "cell_type": "code",
   "source": [
    "shap.summary_plot(shap_values, X_train, feature_names=X_train.columns, plot_type='bar')"
   ],
   "id": "9e19474f1eb0ece7",
   "outputs": [],
   "execution_count": null
  },
  {
   "cell_type": "code",
   "execution_count": null,
   "outputs": [],
   "source": [
    "aub_fbs = fastballs[fastballs['PitcherTeam']=='AUB_TIG']"
   ],
   "metadata": {
    "collapsed": false
   },
   "id": "c872b7307ea561b"
  },
  {
   "metadata": {},
   "cell_type": "code",
   "source": [
    "# Get unique values\n",
    "unique_values = fastballs['Pitcher'].unique()\n",
    "aub_unique_values = aub_fbs['Pitcher'].unique()\n",
    "\n",
    "print(aub_unique_values)\n",
    "\n",
    "# Create a dictionary to store subsets\n",
    "all_subsets = {value: fastballs[fastballs['Pitcher'] == value] for value in unique_values}\n",
    "\n",
    "aub_subsets = {value: aub_fbs[aub_fbs['Pitcher'] == value] for value in aub_unique_values}"
   ],
   "id": "e23741447f83ab2f",
   "outputs": [],
   "execution_count": null
  },
  {
   "metadata": {},
   "cell_type": "code",
   "source": [
    "def aub_fbs_stuff(name):\n",
    "    \n",
    "    preds = ['RelSpeed','VertRelAngle','HorzRelAngle','SpinRate','SpinAxis','RelHeight','RelSide','Extension','VertBreak','InducedVertBreak','HorzBreak','ZoneSpeed','VertApprAngle','HorzApprAngle','ZoneTime','pfxx','pfxz','x0','y0','z0','vx0','vy0','vz0','ax0','ay0','az0','SpeedDrop','PitchTrajectoryXc1','PitchTrajectoryXc2','PitchTrajectoryYc0','PitchTrajectoryYc1','PitchTrajectoryYc2','PitchTrajectoryZc0','PitchTrajectoryZc1','PitchTrajectoryZc2']\n",
    "    \n",
    "    all_preds = model.predict_proba(fastballs_X)[:,1]\n",
    "    mean_pred = np.mean(all_preds)\n",
    "\n",
    "    pitcher = aub_subsets[name]\n",
    "    pitcher_x = pitcher[preds]\n",
    "\n",
    "    whiff_preds = model.predict_proba(pitcher_x)[:,1]\n",
    "\n",
    "    stuff = whiff_preds/mean_pred\n",
    "    \n",
    "    print(f\"{name} Fastball stuff+: {np.mean(stuff * 100)}\")"
   ],
   "id": "fad63167a7705a20",
   "outputs": [],
   "execution_count": null
  },
  {
   "metadata": {},
   "cell_type": "code",
   "source": [
    "for pitcher in aub_unique_values:\n",
    "    aub_fbs_stuff(pitcher)"
   ],
   "id": "968585467c633b94",
   "outputs": [],
   "execution_count": null
  },
  {
   "metadata": {},
   "cell_type": "code",
   "source": [
    "ps_spd_avg = np.mean(p_skenes['RelSpeed'])\n",
    "ps_spd_std = np.std(p_skenes['RelSpeed'])\n",
    "\n",
    "ps_hgt_avg = np.mean(p_skenes['RelHeight'])\n",
    "ps_hgt_std = np.std(p_skenes['RelHeight'])\n",
    "\n",
    "ps_side_avg = np.mean(p_skenes['RelSide'])\n",
    "ps_side_std = np.std(p_skenes['RelSide'])"
   ],
   "id": "6d1019901f27cfa8",
   "outputs": [],
   "execution_count": null
  },
  {
   "metadata": {},
   "cell_type": "code",
   "source": [
    "similar_fastballs = fastballs[(fastballs['RelSpeed'] >= ps_spd_avg - ps_spd_std) &\n",
    "                              (fastballs['RelSpeed'] <= ps_spd_avg + ps_spd_std) &\n",
    "                              (fastballs['RelHeight'] >= ps_hgt_avg - ps_hgt_std) &\n",
    "                              (fastballs['RelHeight'] <= ps_hgt_avg + ps_hgt_std) &\n",
    "                              (fastballs['RelSide'] >= ps_side_avg - ps_side_std) &\n",
    "                              (fastballs['RelSide'] <= ps_side_avg + ps_side_std)]\n",
    "\n",
    "print(similar_fastballs.shape)"
   ],
   "id": "779cf2b795cf8ec0",
   "outputs": [],
   "execution_count": null
  },
  {
   "metadata": {},
   "cell_type": "markdown",
   "source": [
    "this should include both his fastballs and sinkers"
   ],
   "id": "6b760aa4df68dd25"
  },
  {
   "metadata": {},
   "cell_type": "code",
   "source": [
    "similar_fastballs['stuff_plus'] = (model.predict_proba(similar_fastballs[fb_preds])[:,1])/(mean_pred) * 100\n",
    "print(similar_fastballs['stuff_plus'].head(10))\n"
   ],
   "id": "a8ae4d0812076eb3",
   "outputs": [],
   "execution_count": null
  },
  {
   "metadata": {},
   "cell_type": "code",
   "source": [
    "# Create scatter plot\n",
    "plt.figure(figsize=(8, 6))\n",
    "hb = plt.hexbin(x=similar_fastballs['VertBreak'], y=similar_fastballs['HorzBreak'], \n",
    "                C=similar_fastballs['stuff_plus'], cmap='inferno', reduce_C_function=np.mean,\n",
    "                vmin=10, vmax=300)\n",
    "\n",
    "plt.colorbar(hb, label='')\n",
    "\n",
    "# Add labels and title\n",
    "plt.xlabel('Horizontal Break')\n",
    "plt.ylabel(\"Vertical Break\")\n",
    "plt.title(\"Scatter Plot\")\n",
    "\n",
    "# Show plot\n",
    "plt.show()"
   ],
   "id": "2fbcbb4753ed15d6",
   "outputs": [],
   "execution_count": null
  }
 ],
 "metadata": {
  "kernelspec": {
   "display_name": "Python 3",
   "language": "python",
   "name": "python3"
  },
  "language_info": {
   "codemirror_mode": {
    "name": "ipython",
    "version": 2
   },
   "file_extension": ".py",
   "mimetype": "text/x-python",
   "name": "python",
   "nbconvert_exporter": "python",
   "pygments_lexer": "ipython2",
   "version": "2.7.6"
  }
 },
 "nbformat": 4,
 "nbformat_minor": 5
}
