{
 "cells": [
  {
   "cell_type": "code",
   "id": "initial_id",
   "metadata": {
    "collapsed": true,
    "ExecuteTime": {
     "end_time": "2024-10-07T18:34:10.985301Z",
     "start_time": "2024-10-07T18:34:08.664968Z"
    }
   },
   "source": [
    "import os\n",
    "import pandas as pd\n",
    "import numpy as np\n",
    "import xgboost\n",
    "from xgboost import XGBClassifier\n",
    "from sklearn.model_selection import train_test_split\n",
    "from sklearn.metrics import accuracy_score, confusion_matrix, precision_score, recall_score, f1_score, roc_auc_score, roc_curve\n",
    "from hyperopt import STATUS_OK, Trials, fmin, hp, tpe\n",
    "import matplotlib.pyplot as plt\n",
    "import seaborn as sns\n",
    "import shap"
   ],
   "outputs": [],
   "execution_count": 2
  },
  {
   "cell_type": "code",
   "source": [
    "csv_dir = '../../SEC Trackman Data/'\n",
    "all_files = [os.path.join(csv_dir, f) for f in os.listdir(csv_dir) if f.endswith('.csv')]\n",
    "\n",
    "df_list = []\n",
    "\n",
    "for file in all_files:\n",
    "    df = pd.read_csv(file)\n",
    "    df_list.append(df)\n",
    "\n",
    "all_pitches = pd.concat(df_list, ignore_index=True)\n",
    "\n",
    "print(all_pitches.shape)\n",
    "print(all_pitches.columns)"
   ],
   "metadata": {
    "collapsed": false,
    "ExecuteTime": {
     "end_time": "2024-10-07T18:34:23.783599Z",
     "start_time": "2024-10-07T18:34:12.146315Z"
    }
   },
   "id": "c88ff9d4b8c36846",
   "outputs": [
    {
     "name": "stdout",
     "output_type": "stream",
     "text": [
      "(270589, 167)\n",
      "Index(['PitchNo', 'Date', 'Time', 'PAofInning', 'PitchofPA', 'Pitcher',\n",
      "       'PitcherId', 'PitcherThrows', 'PitcherTeam', 'Batter',\n",
      "       ...\n",
      "       'ThrowTrajectoryZc1', 'ThrowTrajectoryZc2', 'PitchReleaseConfidence',\n",
      "       'PitchLocationConfidence', 'PitchMovementConfidence',\n",
      "       'HitLaunchConfidence', 'HitLandingConfidence',\n",
      "       'CatcherThrowCatchConfidence', 'CatcherThrowReleaseConfidence',\n",
      "       'CatcherThrowLocationConfidence'],\n",
      "      dtype='object', length=167)\n"
     ]
    }
   ],
   "execution_count": 3
<<<<<<< Updated upstream
  },
  {
   "cell_type": "code",
   "source": [
    "fs = all_pitches[all_pitches['TaggedPitchType'].isin(['Sinker', 'TwoSeamFastBall'])]\n",
    "print(fs.shape)"
   ],
   "metadata": {
    "collapsed": false,
    "ExecuteTime": {
=======
  },
  {
   "cell_type": "code",
<<<<<<< HEAD
   "execution_count": 77,
   "outputs": [
    {
     "name": "stdout",
     "output_type": "stream",
     "text": [
      "['Fastball' 'Slider' 'ChangeUp' 'Curveball' 'Cutter' 'Other' 'Undefined'\n",
      " 'Sinker' 'Knuckleball' 'Splitter' 'FourSeamFastBall' 'TwoSeamFastBall'\n",
      " 'OneSeamFastBall']\n",
      "['Sinker' 'Four-Seam' 'Curveball' 'Changeup' 'Slider' 'Cutter' nan\n",
      " 'Splitter' 'Other']\n"
     ]
    }
   ],
   "source": [
    "print(all_pitches['TaggedPitchType'].unique())\n",
    "print(all_pitches['AutoPitchType'].unique())"
=======
   "source": [
    "fs = all_pitches[all_pitches['TaggedPitchType'].isin(['Sinker', 'TwoSeamFastBall'])]\n",
    "print(fs.shape)"
>>>>>>> 245313ce8f3dfa5968a207661e07986720b85040
   ],
   "metadata": {
    "collapsed": false,
    "ExecuteTime": {
<<<<<<< HEAD
     "end_time": "2024-10-07T18:09:31.873731Z",
     "start_time": "2024-10-07T18:09:31.850808400Z"
    }
   },
   "id": "e7787d9560f00351"
  },
  {
   "cell_type": "code",
   "execution_count": 3,
=======
>>>>>>> Stashed changes
     "end_time": "2024-10-07T18:34:27.277176Z",
     "start_time": "2024-10-07T18:34:27.171433Z"
    }
   },
   "id": "63a89cd4b97dff54",
<<<<<<< Updated upstream
=======
>>>>>>> 245313ce8f3dfa5968a207661e07986720b85040
>>>>>>> Stashed changes
   "outputs": [
    {
     "name": "stdout",
     "output_type": "stream",
     "text": [
      "(18740, 167)\n"
     ]
    }
   ],
   "execution_count": 4
<<<<<<< Updated upstream
  },
  {
   "cell_type": "code",
=======
  },
  {
   "cell_type": "code",
<<<<<<< HEAD
   "execution_count": 78,
   "outputs": [
    {
     "name": "stderr",
     "output_type": "stream",
     "text": [
      "C:\\Users\\charl\\AppData\\Local\\Temp\\ipykernel_14952\\379306493.py:1: SettingWithCopyWarning: \n",
      "A value is trying to be set on a copy of a slice from a DataFrame.\n",
      "Try using .loc[row_indexer,col_indexer] = value instead\n",
      "\n",
      "See the caveats in the documentation: https://pandas.pydata.org/pandas-docs/stable/user_guide/indexing.html#returning-a-view-versus-a-copy\n",
      "  fs['whiff'] = np.where(fs['PitchCall']=='StrikeSwinging',1,0)\n"
     ]
    }
   ],
   "source": [
    "fs['whiff'] = np.where(fs['PitchCall']=='StrikeSwinging',1,0)"
   ],
   "metadata": {
    "collapsed": false,
    "ExecuteTime": {
     "end_time": "2024-10-07T18:27:14.705989600Z",
     "start_time": "2024-10-07T18:27:14.691628200Z"
    }
   },
   "id": "b7ef60a16cb8b52b"
  },
  {
   "cell_type": "code",
   "execution_count": 79,
   "outputs": [],
   "source": [
    "preds = ['RelSpeed','VertRelAngle','HorzRelAngle','SpinRate','SpinAxis','RelHeight','RelSide','Extension','VertBreak','InducedVertBreak','HorzBreak','ZoneSpeed','VertApprAngle','HorzApprAngle','ZoneTime','pfxx','pfxz','x0','y0','z0','vx0','vy0','vz0','ax0','ay0','az0','SpeedDrop','PitchTrajectoryXc1','PitchTrajectoryXc2','PitchTrajectoryYc0','PitchTrajectoryYc1','PitchTrajectoryYc2','PitchTrajectoryZc0','PitchTrajectoryZc1','PitchTrajectoryZc2']"
   ],
   "metadata": {
    "collapsed": false,
    "ExecuteTime": {
     "end_time": "2024-10-07T18:27:15.975306800Z",
     "start_time": "2024-10-07T18:27:15.965746100Z"
    }
   },
   "id": "7cff14f85e741da7"
  },
  {
   "cell_type": "code",
   "execution_count": 80,
   "outputs": [],
   "source": [
    "fs_X = fs[preds]\n",
    "fs_y = fs['whiff']"
   ],
   "metadata": {
    "collapsed": false,
    "ExecuteTime": {
     "end_time": "2024-10-07T18:27:17.852989800Z",
     "start_time": "2024-10-07T18:27:17.848981200Z"
    }
   },
   "id": "47c05f7c298d2c33"
  },
  {
   "cell_type": "code",
   "execution_count": 81,
   "outputs": [
    {
     "name": "stdout",
     "output_type": "stream",
     "text": [
      "Accuracy: 92.21%\n"
     ]
    }
   ],
   "source": [
    "X_train, X_test, y_train, y_test = train_test_split(fs_X, fs_y, test_size=.33, random_state=25)\n",
    "\n",
    "model = XGBClassifier()\n",
    "model.fit(X_train, y_train)\n",
    "\n",
    "y_pred = model.predict(X_test)\n",
    "predictions = [round(value) for value in y_pred]\n",
    "\n",
    "accuracy = accuracy_score(y_test, predictions)\n",
    "print(\"Accuracy: %.2f%%\" % (accuracy * 100.0))"
   ],
   "metadata": {
    "collapsed": false,
    "ExecuteTime": {
     "end_time": "2024-10-07T18:27:19.507457Z",
     "start_time": "2024-10-07T18:27:18.804748200Z"
    }
   },
   "id": "21d36b89e4658e5f"
  },
  {
   "cell_type": "code",
   "execution_count": 83,
   "outputs": [],
   "source": [
    "aub_fs = fs[fs['PitcherTeam']=='AUB_TIG']"
   ],
   "metadata": {
    "collapsed": false,
    "ExecuteTime": {
     "end_time": "2024-10-07T18:28:19.162938200Z",
     "start_time": "2024-10-07T18:28:19.122110200Z"
    }
   },
   "id": "d3b8a0989471d8f1"
  },
  {
   "cell_type": "code",
   "execution_count": 84,
   "outputs": [
    {
     "name": "stdout",
     "output_type": "stream",
     "text": [
      "['Bauman, Tanner' 'Armstrong, John' 'Sheehan, Tommy' 'Cannon, Will'\n",
      " 'Keshock, Cameron' 'Gonzalez, Joseph' 'Myers, Carson' 'Watts, Dylan'\n",
      " 'Carlson, Parker' 'Keplinger, Konner' 'Petrovic, Alexander'\n",
      " 'Herberholz, Christian']\n"
     ]
    }
   ],
   "source": [
    "# Get unique values\n",
    "unique_values = fs['Pitcher'].unique()\n",
    "aub_unique_values = aub_fs['Pitcher'].unique()\n",
    "\n",
    "print(aub_unique_values)\n",
    "\n",
    "# Create a dictionary to store subsets\n",
    "all_subsets = {value: fs[fs['Pitcher'] == value] for value in unique_values}\n",
    "\n",
    "aub_subsets = {value: fs[fs['Pitcher'] == value] for value in aub_unique_values}"
   ],
   "metadata": {
    "collapsed": false,
    "ExecuteTime": {
     "end_time": "2024-10-07T18:28:21.384375200Z",
     "start_time": "2024-10-07T18:28:20.095196400Z"
    }
   },
   "id": "28cb0354f2804d72"
  },
  {
   "cell_type": "code",
   "execution_count": 85,
   "outputs": [],
   "source": [
    "def aub_fs_stuff(name):\n",
    "    \n",
    "    preds = ['RelSpeed','VertRelAngle','HorzRelAngle','SpinRate','SpinAxis','RelHeight','RelSide','Extension','VertBreak','InducedVertBreak','HorzBreak','ZoneSpeed','VertApprAngle','HorzApprAngle','ZoneTime','pfxx','pfxz','x0','y0','z0','vx0','vy0','vz0','ax0','ay0','az0','SpeedDrop','PitchTrajectoryXc1','PitchTrajectoryXc2','PitchTrajectoryYc0','PitchTrajectoryYc1','PitchTrajectoryYc2','PitchTrajectoryZc0','PitchTrajectoryZc1','PitchTrajectoryZc2']\n",
    "    \n",
    "    all_preds = model.predict_proba(fs_X)[:,1]\n",
    "    mean_pred = np.mean(all_preds)\n",
    "\n",
    "    pitcher = aub_subsets[name]\n",
    "    pitcher_x = pitcher[preds]\n",
    "\n",
    "    whiff_preds = model.predict_proba(pitcher_x)[:,1]\n",
    "\n",
    "    stuff = whiff_preds/mean_pred\n",
    "    \n",
    "    print(f\"{name} Sinker stuff+: {np.mean(stuff * 100)}\")"
   ],
   "metadata": {
    "collapsed": false,
    "ExecuteTime": {
     "end_time": "2024-10-07T18:29:10.583667900Z",
     "start_time": "2024-10-07T18:29:10.563597500Z"
    }
   },
   "id": "b7ce1d559f62cf42"
  },
  {
   "cell_type": "code",
   "execution_count": 86,
   "outputs": [
    {
     "name": "stdout",
     "output_type": "stream",
     "text": [
      "Bauman, Tanner Sinker stuff+: 100.22059631347656\n",
      "Armstrong, John Sinker stuff+: 87.14447021484375\n",
      "Sheehan, Tommy Sinker stuff+: 95.21224975585938\n",
      "Cannon, Will Sinker stuff+: 560.177978515625\n",
      "Keshock, Cameron Sinker stuff+: 137.964599609375\n",
      "Gonzalez, Joseph Sinker stuff+: 85.65592956542969\n",
      "Myers, Carson Sinker stuff+: 94.86962127685547\n",
      "Watts, Dylan Sinker stuff+: 93.2446517944336\n",
      "Carlson, Parker Sinker stuff+: 53.44651412963867\n",
      "Keplinger, Konner Sinker stuff+: 31.147014617919922\n",
      "Petrovic, Alexander Sinker stuff+: 4.644342422485352\n",
      "Herberholz, Christian Sinker stuff+: 434.4385070800781\n"
     ]
    }
   ],
   "source": [
    "for pitcher in aub_unique_values:\n",
    "    aub_fs_stuff(pitcher)"
   ],
   "metadata": {
    "collapsed": false,
    "ExecuteTime": {
     "end_time": "2024-10-07T18:29:13.029655500Z",
     "start_time": "2024-10-07T18:29:12.465506900Z"
    }
   },
   "id": "e13611952422ea7d"
  },
  {
   "cell_type": "code",
   "execution_count": 4,
   "outputs": [
    {
     "name": "stdout",
     "output_type": "stream",
     "text": [
      "(8453, 167)\n",
      "(6374, 167)\n",
      "(2511, 167)\n",
      "(1398, 167)\n"
     ]
    }
   ],
=======
>>>>>>> 245313ce8f3dfa5968a207661e07986720b85040
>>>>>>> Stashed changes
   "source": [
    "fs_rr = fs[(fs['PitcherThrows'] == 'Right') & (fs['BatterSide'] == 'Right')]\n",
    "fs_rl = fs[(fs['PitcherThrows'] == 'Right') & (fs['BatterSide'] == 'Left')]\n",
    "fs_lr = fs[(fs['PitcherThrows'] == 'Left') & (fs['BatterSide'] == 'Right')]\n",
    "fs_ll = fs[(fs['PitcherThrows'] == 'Left') & (fs['BatterSide'] == 'Left')]\n",
    "\n",
    "print(fs_rr.shape)\n",
    "print(fs_rl.shape)\n",
    "print(fs_lr.shape)\n",
    "print(fs_ll.shape)"
   ],
   "metadata": {
    "collapsed": false,
    "ExecuteTime": {
     "end_time": "2024-10-07T18:34:28.883440Z",
     "start_time": "2024-10-07T18:34:28.809206Z"
    }
   },
   "id": "a16a406988118346",
   "outputs": [
    {
     "name": "stdout",
     "output_type": "stream",
     "text": [
      "(8453, 167)\n",
      "(6374, 167)\n",
      "(2511, 167)\n",
      "(1398, 167)\n"
     ]
    }
   ],
   "execution_count": 5
  },
  {
   "cell_type": "code",
   "source": [
    "fs_rr['whiff'] = np.where(fs_rr['PitchCall']=='StrikeSwinging',1,0)\n",
    "fs_rl['whiff'] = np.where(fs_rl['PitchCall']=='StrikeSwinging',1,0)\n",
    "fs_lr['whiff'] = np.where(fs_lr['PitchCall']=='StrikeSwinging',1,0)\n",
    "fs_ll['whiff'] = np.where(fs_ll['PitchCall']=='StrikeSwinging',1,0)"
   ],
   "metadata": {
    "collapsed": false,
    "ExecuteTime": {
     "end_time": "2024-10-07T18:34:30.854026Z",
     "start_time": "2024-10-07T18:34:30.831634Z"
    }
   },
   "id": "e50cbed4e82170c8",
   "outputs": [
    {
     "name": "stderr",
     "output_type": "stream",
     "text": [
      "C:\\Users\\ethan\\AppData\\Local\\Temp\\ipykernel_10040\\753339657.py:1: SettingWithCopyWarning: \n",
      "A value is trying to be set on a copy of a slice from a DataFrame.\n",
      "Try using .loc[row_indexer,col_indexer] = value instead\n",
      "\n",
      "See the caveats in the documentation: https://pandas.pydata.org/pandas-docs/stable/user_guide/indexing.html#returning-a-view-versus-a-copy\n",
      "  fs_rr['whiff'] = np.where(fs_rr['PitchCall']=='StrikeSwinging',1,0)\n",
      "C:\\Users\\ethan\\AppData\\Local\\Temp\\ipykernel_10040\\753339657.py:2: SettingWithCopyWarning: \n",
      "A value is trying to be set on a copy of a slice from a DataFrame.\n",
      "Try using .loc[row_indexer,col_indexer] = value instead\n",
      "\n",
      "See the caveats in the documentation: https://pandas.pydata.org/pandas-docs/stable/user_guide/indexing.html#returning-a-view-versus-a-copy\n",
      "  fs_rl['whiff'] = np.where(fs_rl['PitchCall']=='StrikeSwinging',1,0)\n",
      "C:\\Users\\ethan\\AppData\\Local\\Temp\\ipykernel_10040\\753339657.py:3: SettingWithCopyWarning: \n",
      "A value is trying to be set on a copy of a slice from a DataFrame.\n",
      "Try using .loc[row_indexer,col_indexer] = value instead\n",
      "\n",
      "See the caveats in the documentation: https://pandas.pydata.org/pandas-docs/stable/user_guide/indexing.html#returning-a-view-versus-a-copy\n",
      "  fs_lr['whiff'] = np.where(fs_lr['PitchCall']=='StrikeSwinging',1,0)\n",
      "C:\\Users\\ethan\\AppData\\Local\\Temp\\ipykernel_10040\\753339657.py:4: SettingWithCopyWarning: \n",
      "A value is trying to be set on a copy of a slice from a DataFrame.\n",
      "Try using .loc[row_indexer,col_indexer] = value instead\n",
      "\n",
      "See the caveats in the documentation: https://pandas.pydata.org/pandas-docs/stable/user_guide/indexing.html#returning-a-view-versus-a-copy\n",
      "  fs_ll['whiff'] = np.where(fs_ll['PitchCall']=='StrikeSwinging',1,0)\n"
     ]
    }
   ],
   "execution_count": 6
  },
  {
   "cell_type": "code",
   "source": [
    "preds = ['RelSpeed','VertRelAngle','HorzRelAngle','SpinRate','SpinAxis','RelHeight','RelSide','Extension','VertBreak','InducedVertBreak','HorzBreak','ZoneSpeed','VertApprAngle','HorzApprAngle','ZoneTime','pfxx','pfxz','x0','y0','z0','vx0','vy0','vz0','ax0','ay0','az0','SpeedDrop','PitchTrajectoryXc1','PitchTrajectoryXc2','PitchTrajectoryYc0','PitchTrajectoryYc1','PitchTrajectoryYc2','PitchTrajectoryZc0','PitchTrajectoryZc1','PitchTrajectoryZc2']"
   ],
   "metadata": {
    "collapsed": false,
    "ExecuteTime": {
     "end_time": "2024-10-07T18:34:32.878026Z",
     "start_time": "2024-10-07T18:34:32.863601Z"
    }
   },
   "id": "787b6541537cf0be",
   "outputs": [],
   "execution_count": 7
  },
  {
   "cell_type": "code",
<<<<<<< Updated upstream
=======
<<<<<<< HEAD
   "execution_count": 40,
   "outputs": [],
=======
>>>>>>> 245313ce8f3dfa5968a207661e07986720b85040
>>>>>>> Stashed changes
   "source": [
    "fs_rr_X = fs_rr[preds]\n",
    "fs_rr_y = fs_rr['whiff']"
   ],
   "metadata": {
    "collapsed": false,
    "ExecuteTime": {
<<<<<<< Updated upstream
     "end_time": "2024-10-07T18:34:34.387265Z",
     "start_time": "2024-10-07T18:34:34.379481Z"
=======
<<<<<<< HEAD
     "end_time": "2024-10-07T17:50:02.342422Z",
     "start_time": "2024-10-07T17:50:02.336949600Z"
=======
     "end_time": "2024-10-07T18:34:34.387265Z",
     "start_time": "2024-10-07T18:34:34.379481Z"
>>>>>>> 245313ce8f3dfa5968a207661e07986720b85040
>>>>>>> Stashed changes
    }
   },
   "id": "c4fd6964dacf7713",
   "outputs": [],
   "execution_count": 8
  },
  {
   "cell_type": "code",
<<<<<<< Updated upstream
=======
<<<<<<< HEAD
   "execution_count": 41,
   "outputs": [
    {
     "name": "stdout",
     "output_type": "stream",
     "text": [
      "Accuracy: 92.19%\n"
     ]
    }
   ],
=======
>>>>>>> 245313ce8f3dfa5968a207661e07986720b85040
>>>>>>> Stashed changes
   "source": [
    "X_train, X_test, y_train, y_test = train_test_split(fs_rr_X, fs_rr_y, test_size=.33, random_state=25)\n",
    "\n",
    "model = XGBClassifier()\n",
    "model.fit(X_train, y_train)\n",
    "\n",
    "y_pred = model.predict(X_test)\n",
    "predictions = [round(value) for value in y_pred]\n",
    "\n",
    "accuracy = accuracy_score(y_test, predictions)\n",
    "print(\"Accuracy: %.2f%%\" % (accuracy * 100.0))"
   ],
   "metadata": {
    "collapsed": false,
    "ExecuteTime": {
<<<<<<< Updated upstream
     "end_time": "2024-10-07T18:34:36.722370Z",
     "start_time": "2024-10-07T18:34:36.276854Z"
=======
<<<<<<< HEAD
     "end_time": "2024-10-07T17:50:03.996844300Z",
     "start_time": "2024-10-07T17:50:03.378795500Z"
=======
     "end_time": "2024-10-07T18:34:36.722370Z",
     "start_time": "2024-10-07T18:34:36.276854Z"
>>>>>>> 245313ce8f3dfa5968a207661e07986720b85040
>>>>>>> Stashed changes
    }
   },
   "id": "7b52b0906069c0fc",
   "outputs": [
    {
     "name": "stdout",
     "output_type": "stream",
     "text": [
      "Accuracy: 92.19%\n"
     ]
    }
   ],
   "execution_count": 9
  },
  {
   "cell_type": "code",
<<<<<<< Updated upstream
=======
<<<<<<< HEAD
   "execution_count": 42,
=======
>>>>>>> Stashed changes
   "source": [
    "aub_fs_rr = fs_rr[fs_rr['PitcherTeam']=='AUB_TIG']\n",
    "print(aub_fs_rr.shape)"
   ],
   "metadata": {
    "collapsed": false,
    "ExecuteTime": {
     "end_time": "2024-10-07T18:34:38.385734Z",
     "start_time": "2024-10-07T18:34:38.371407Z"
    }
   },
   "id": "a19967f1447a6d69",
<<<<<<< Updated upstream
=======
>>>>>>> 245313ce8f3dfa5968a207661e07986720b85040
>>>>>>> Stashed changes
   "outputs": [
    {
     "name": "stdout",
     "output_type": "stream",
     "text": [
      "(431, 168)\n"
     ]
    }
   ],
<<<<<<< Updated upstream
   "execution_count": 10
  },
  {
   "cell_type": "code",
=======
<<<<<<< HEAD
   "source": [
    "aub_fs_rr = fs_rr[fs_rr['PitcherTeam']=='AUB_TIG']\n",
    "print(aub_fs_rr.shape)"
   ],
   "metadata": {
    "collapsed": false,
    "ExecuteTime": {
     "end_time": "2024-10-07T17:50:05.919615300Z",
     "start_time": "2024-10-07T17:50:05.911459300Z"
    }
   },
   "id": "a19967f1447a6d69"
  },
  {
   "cell_type": "code",
   "execution_count": 43,
   "outputs": [
    {
     "name": "stdout",
     "output_type": "stream",
     "text": [
      "['Armstrong, John' 'Keshock, Cameron' 'Gonzalez, Joseph' 'Watts, Dylan'\n",
      " 'Carlson, Parker' 'Herberholz, Christian' 'Cannon, Will']\n"
     ]
    }
   ],
=======
   "execution_count": 10
  },
  {
   "cell_type": "code",
>>>>>>> 245313ce8f3dfa5968a207661e07986720b85040
>>>>>>> Stashed changes
   "source": [
    "# Get unique values\n",
    "unique_values = fs_rr['Pitcher'].unique()\n",
    "aub_unique_values = aub_fs_rr['Pitcher'].unique()\n",
    "\n",
    "print(aub_unique_values)\n",
    "\n",
    "# Create a dictionary to store subsets\n",
    "all_subsets = {value: fs_rr[fs_rr['Pitcher'] == value] for value in unique_values}\n",
    "\n",
    "aub_subsets = {value: fs_rr[fs_rr['Pitcher'] == value] for value in aub_unique_values}"
   ],
   "metadata": {
    "collapsed": false,
    "ExecuteTime": {
<<<<<<< Updated upstream
     "end_time": "2024-10-07T18:34:40.926085Z",
     "start_time": "2024-10-07T18:34:40.228416Z"
=======
<<<<<<< HEAD
     "end_time": "2024-10-07T17:50:07.482272200Z",
     "start_time": "2024-10-07T17:50:07.071792100Z"
=======
     "end_time": "2024-10-07T18:34:40.926085Z",
     "start_time": "2024-10-07T18:34:40.228416Z"
>>>>>>> 245313ce8f3dfa5968a207661e07986720b85040
>>>>>>> Stashed changes
    }
   },
   "id": "92b932f86c948fd8",
   "outputs": [
    {
     "name": "stdout",
     "output_type": "stream",
     "text": [
      "['Armstrong, John' 'Keshock, Cameron' 'Gonzalez, Joseph' 'Watts, Dylan'\n",
      " 'Carlson, Parker' 'Herberholz, Christian' 'Cannon, Will']\n"
     ]
    }
   ],
   "execution_count": 11
  },
  {
   "cell_type": "code",
<<<<<<< Updated upstream
=======
<<<<<<< HEAD
   "execution_count": 44,
   "outputs": [],
=======
>>>>>>> 245313ce8f3dfa5968a207661e07986720b85040
>>>>>>> Stashed changes
   "source": [
    "def aub_rr_fs_stuff(name):\n",
    "    \n",
    "    preds = ['RelSpeed','VertRelAngle','HorzRelAngle','SpinRate','SpinAxis','RelHeight','RelSide','Extension','VertBreak','InducedVertBreak','HorzBreak','ZoneSpeed','VertApprAngle','HorzApprAngle','ZoneTime','pfxx','pfxz','x0','y0','z0','vx0','vy0','vz0','ax0','ay0','az0','SpeedDrop','PitchTrajectoryXc1','PitchTrajectoryXc2','PitchTrajectoryYc0','PitchTrajectoryYc1','PitchTrajectoryYc2','PitchTrajectoryZc0','PitchTrajectoryZc1','PitchTrajectoryZc2']\n",
    "    \n",
    "    all_preds = model.predict_proba(fs_rr_X)[:,1]\n",
    "    mean_pred = np.mean(all_preds)\n",
    "\n",
    "    pitcher = aub_subsets[name]\n",
    "    pitcher_x = pitcher[preds]\n",
    "\n",
    "    whiff_preds = model.predict_proba(pitcher_x)[:,1]\n",
    "\n",
    "    stuff = whiff_preds/mean_pred\n",
    "    \n",
    "    print(f\"{name} RR sinker stuff+: {np.mean(stuff * 100)}\")"
   ],
   "metadata": {
    "collapsed": false,
    "ExecuteTime": {
<<<<<<< Updated upstream
     "end_time": "2024-10-07T18:34:43.656510Z",
     "start_time": "2024-10-07T18:34:43.648390Z"
=======
<<<<<<< HEAD
     "end_time": "2024-10-07T17:50:08.797705800Z",
     "start_time": "2024-10-07T17:50:08.784080800Z"
=======
     "end_time": "2024-10-07T18:34:43.656510Z",
     "start_time": "2024-10-07T18:34:43.648390Z"
>>>>>>> 245313ce8f3dfa5968a207661e07986720b85040
>>>>>>> Stashed changes
    }
   },
   "id": "c4df8ba725cd1d0a",
   "outputs": [],
   "execution_count": 12
  },
  {
   "cell_type": "code",
<<<<<<< Updated upstream
=======
<<<<<<< HEAD
   "execution_count": 46,
=======
>>>>>>> Stashed changes
   "source": [
    "for pitcher in aub_unique_values:\n",
    "    aub_rr_fs_stuff(pitcher)"
   ],
   "metadata": {
    "collapsed": false,
    "ExecuteTime": {
     "end_time": "2024-10-07T18:34:47.098026Z",
     "start_time": "2024-10-07T18:34:46.889291Z"
    }
   },
   "id": "85cf0b5beca9dbc5",
<<<<<<< Updated upstream
=======
>>>>>>> 245313ce8f3dfa5968a207661e07986720b85040
>>>>>>> Stashed changes
   "outputs": [
    {
     "name": "stdout",
     "output_type": "stream",
     "text": [
<<<<<<< Updated upstream
      "Armstrong, John sinker stuff+: 86.91795349121094\n",
      "Keshock, Cameron sinker stuff+: 121.16152954101562\n",
      "Gonzalez, Joseph sinker stuff+: 85.65171813964844\n",
      "Watts, Dylan sinker stuff+: 116.86866760253906\n",
      "Carlson, Parker sinker stuff+: 42.93781661987305\n",
      "Herberholz, Christian sinker stuff+: 39.542694091796875\n",
      "Cannon, Will sinker stuff+: 43.248191833496094\n"
     ]
    }
   ],
   "execution_count": 13
=======
      "Armstrong, John RR sinker stuff+: 86.91795349121094\n",
      "Keshock, Cameron RR sinker stuff+: 121.16152954101562\n",
      "Gonzalez, Joseph RR sinker stuff+: 85.65171813964844\n",
      "Watts, Dylan RR sinker stuff+: 116.86866760253906\n",
      "Carlson, Parker RR sinker stuff+: 42.93781661987305\n",
      "Herberholz, Christian RR sinker stuff+: 39.542694091796875\n",
      "Cannon, Will RR sinker stuff+: 43.248191833496094\n"
     ]
    }
   ],
<<<<<<< HEAD
   "source": [
    "for pitcher in aub_unique_values:\n",
    "    aub_rr_fs_stuff(pitcher)"
   ],
   "metadata": {
    "collapsed": false,
    "ExecuteTime": {
     "end_time": "2024-10-07T17:50:19.393252600Z",
     "start_time": "2024-10-07T17:50:19.134375500Z"
    }
   },
   "id": "85cf0b5beca9dbc5"
  },
  {
   "cell_type": "code",
   "execution_count": 47,
   "outputs": [],
   "source": [
    "fs_rl_X = fs_rl[preds]\n",
    "fs_rl_y = fs_rl['whiff']"
   ],
   "metadata": {
    "collapsed": false,
    "ExecuteTime": {
     "end_time": "2024-10-07T17:50:20.813187300Z",
     "start_time": "2024-10-07T17:50:20.797524Z"
    }
   },
   "id": "78176e13b13bef08"
  },
  {
   "cell_type": "code",
   "execution_count": 48,
   "outputs": [
    {
     "name": "stdout",
     "output_type": "stream",
     "text": [
      "Accuracy: 92.63%\n"
     ]
    }
   ],
   "source": [
    "X_train, X_test, y_train, y_test = train_test_split(fs_rl_X, fs_rl_y, test_size=.33, random_state=25)\n",
    "\n",
    "model = XGBClassifier()\n",
    "model.fit(X_train, y_train)\n",
    "\n",
    "y_pred = model.predict(X_test)\n",
    "predictions = [round(value) for value in y_pred]\n",
    "\n",
    "accuracy = accuracy_score(y_test, predictions)\n",
    "print(\"Accuracy: %.2f%%\" % (accuracy * 100.0))"
   ],
   "metadata": {
    "collapsed": false,
    "ExecuteTime": {
     "end_time": "2024-10-07T17:50:23.584362900Z",
     "start_time": "2024-10-07T17:50:23.018602900Z"
    }
   },
   "id": "f2a2796ed8608b37"
  },
  {
   "cell_type": "code",
   "execution_count": 49,
   "outputs": [
    {
     "name": "stdout",
     "output_type": "stream",
     "text": [
      "(183, 168)\n"
     ]
    }
   ],
   "source": [
    "aub_fs_rl = fs_rl[fs_rl['PitcherTeam']=='AUB_TIG']\n",
    "print(aub_fs_rl.shape)"
   ],
   "metadata": {
    "collapsed": false,
    "ExecuteTime": {
     "end_time": "2024-10-07T17:50:25.613281200Z",
     "start_time": "2024-10-07T17:50:25.598139400Z"
    }
   },
   "id": "c59863339c93125f"
  },
  {
   "cell_type": "code",
   "execution_count": 50,
   "outputs": [
    {
     "name": "stdout",
     "output_type": "stream",
     "text": [
      "['Armstrong, John' 'Cannon, Will' 'Keshock, Cameron' 'Gonzalez, Joseph'\n",
      " 'Carlson, Parker' 'Watts, Dylan' 'Petrovic, Alexander']\n"
     ]
    }
   ],
   "source": [
    "# Get unique values\n",
    "unique_values = fs_rl['Pitcher'].unique()\n",
    "aub_unique_values = aub_fs_rl['Pitcher'].unique()\n",
    "\n",
    "print(aub_unique_values)\n",
    "\n",
    "# Create a dictionary to store subsets\n",
    "all_subsets = {value: fs_rl[fs_rl['Pitcher'] == value] for value in unique_values}\n",
    "\n",
    "aub_subsets = {value: fs_rl[fs_rl['Pitcher'] == value] for value in aub_unique_values}"
   ],
   "metadata": {
    "collapsed": false,
    "ExecuteTime": {
     "end_time": "2024-10-07T17:50:27.674087700Z",
     "start_time": "2024-10-07T17:50:27.190100500Z"
    }
   },
   "id": "a7507de435390b97"
  },
  {
   "cell_type": "code",
   "execution_count": 51,
   "outputs": [],
   "source": [
    "def aub_rl_fs_stuff(name):\n",
    "    \n",
    "    preds = ['RelSpeed','VertRelAngle','HorzRelAngle','SpinRate','SpinAxis','RelHeight','RelSide','Extension','VertBreak','InducedVertBreak','HorzBreak','ZoneSpeed','VertApprAngle','HorzApprAngle','ZoneTime','pfxx','pfxz','x0','y0','z0','vx0','vy0','vz0','ax0','ay0','az0','SpeedDrop','PitchTrajectoryXc1','PitchTrajectoryXc2','PitchTrajectoryYc0','PitchTrajectoryYc1','PitchTrajectoryYc2','PitchTrajectoryZc0','PitchTrajectoryZc1','PitchTrajectoryZc2']\n",
    "    \n",
    "    all_preds = model.predict_proba(fs_rl_X)[:,1]\n",
    "    mean_pred = np.mean(all_preds)\n",
    "\n",
    "    pitcher = aub_subsets[name]\n",
    "    pitcher_x = pitcher[preds]\n",
    "\n",
    "    whiff_preds = model.predict_proba(pitcher_x)[:,1]\n",
    "\n",
    "    stuff = whiff_preds/mean_pred\n",
    "    \n",
    "    print(f\"{name} sinker stuff+: {np.mean(stuff * 100)}\")"
   ],
   "metadata": {
    "collapsed": false,
    "ExecuteTime": {
     "end_time": "2024-10-07T17:50:28.900995Z",
     "start_time": "2024-10-07T17:50:28.888344900Z"
    }
   },
   "id": "2ae99258e0d08426"
  },
  {
   "cell_type": "code",
   "execution_count": 52,
   "outputs": [
    {
     "name": "stdout",
     "output_type": "stream",
     "text": [
      "Armstrong, John sinker stuff+: 150.5137481689453\n",
      "Cannon, Will sinker stuff+: 1523.0867919921875\n",
      "Keshock, Cameron sinker stuff+: 86.26493835449219\n",
      "Gonzalez, Joseph sinker stuff+: 65.62776184082031\n",
      "Carlson, Parker sinker stuff+: 6.272765159606934\n",
      "Watts, Dylan sinker stuff+: 10.770028114318848\n",
      "Petrovic, Alexander sinker stuff+: 3.445547342300415\n"
     ]
    }
   ],
   "source": [
    "for pitcher in aub_unique_values:\n",
    "    aub_rl_fs_stuff(pitcher)"
   ],
   "metadata": {
    "collapsed": false,
    "ExecuteTime": {
     "end_time": "2024-10-07T17:50:39.488902Z",
     "start_time": "2024-10-07T17:50:39.235890500Z"
    }
   },
   "id": "6d3eb60489487dbc"
  },
  {
   "cell_type": "code",
   "execution_count": 58,
   "outputs": [
    {
     "data": {
      "text/plain": "        PitchNo        Date         Time  PAofInning  PitchofPA       Pitcher  \\\n110733       99  2023-04-30  15:49:33.45         2.0        6.0  Cannon, Will   \n\n           PitcherId PitcherThrows PitcherTeam         Batter  ...  \\\n110733  1.000096e+09         Right     AUB_TIG  Tippett, Will  ...   \n\n        ThrowTrajectoryZc2 PitchReleaseConfidence PitchLocationConfidence  \\\n110733            -3.24733                   High                    High   \n\n       PitchMovementConfidence  HitLaunchConfidence HitLandingConfidence  \\\n110733                    High                  NaN                  NaN   \n\n        CatcherThrowCatchConfidence  CatcherThrowReleaseConfidence  \\\n110733                         High                           High   \n\n        CatcherThrowLocationConfidence whiff  \n110733                            High     1  \n\n[1 rows x 168 columns]",
      "text/html": "<div>\n<style scoped>\n    .dataframe tbody tr th:only-of-type {\n        vertical-align: middle;\n    }\n\n    .dataframe tbody tr th {\n        vertical-align: top;\n    }\n\n    .dataframe thead th {\n        text-align: right;\n    }\n</style>\n<table border=\"1\" class=\"dataframe\">\n  <thead>\n    <tr style=\"text-align: right;\">\n      <th></th>\n      <th>PitchNo</th>\n      <th>Date</th>\n      <th>Time</th>\n      <th>PAofInning</th>\n      <th>PitchofPA</th>\n      <th>Pitcher</th>\n      <th>PitcherId</th>\n      <th>PitcherThrows</th>\n      <th>PitcherTeam</th>\n      <th>Batter</th>\n      <th>...</th>\n      <th>ThrowTrajectoryZc2</th>\n      <th>PitchReleaseConfidence</th>\n      <th>PitchLocationConfidence</th>\n      <th>PitchMovementConfidence</th>\n      <th>HitLaunchConfidence</th>\n      <th>HitLandingConfidence</th>\n      <th>CatcherThrowCatchConfidence</th>\n      <th>CatcherThrowReleaseConfidence</th>\n      <th>CatcherThrowLocationConfidence</th>\n      <th>whiff</th>\n    </tr>\n  </thead>\n  <tbody>\n    <tr>\n      <th>110733</th>\n      <td>99</td>\n      <td>2023-04-30</td>\n      <td>15:49:33.45</td>\n      <td>2.0</td>\n      <td>6.0</td>\n      <td>Cannon, Will</td>\n      <td>1.000096e+09</td>\n      <td>Right</td>\n      <td>AUB_TIG</td>\n      <td>Tippett, Will</td>\n      <td>...</td>\n      <td>-3.24733</td>\n      <td>High</td>\n      <td>High</td>\n      <td>High</td>\n      <td>NaN</td>\n      <td>NaN</td>\n      <td>High</td>\n      <td>High</td>\n      <td>High</td>\n      <td>1</td>\n    </tr>\n  </tbody>\n</table>\n<p>1 rows × 168 columns</p>\n</div>"
     },
     "execution_count": 58,
     "metadata": {},
     "output_type": "execute_result"
    }
   ],
   "source": [
    "aub_subsets['Cannon, Will']"
   ],
   "metadata": {
    "collapsed": false,
    "ExecuteTime": {
     "end_time": "2024-10-07T17:53:27.682329500Z",
     "start_time": "2024-10-07T17:53:27.659075200Z"
    }
   },
   "id": "73dc27b524bc4a97"
  },
  {
   "cell_type": "code",
   "execution_count": 59,
   "outputs": [],
   "source": [
    "fs_lr_X = fs_lr[preds]\n",
    "fs_lr_y = fs_lr['whiff']"
   ],
   "metadata": {
    "collapsed": false,
    "ExecuteTime": {
     "end_time": "2024-10-07T18:02:36.339466400Z",
     "start_time": "2024-10-07T18:02:36.326984800Z"
    }
   },
   "id": "fb56603eb40c5409"
  },
  {
   "cell_type": "code",
   "execution_count": 60,
   "outputs": [
    {
     "name": "stdout",
     "output_type": "stream",
     "text": [
      "Accuracy: 92.64%\n"
     ]
    }
   ],
   "source": [
    "X_train, X_test, y_train, y_test = train_test_split(fs_lr_X, fs_lr_y, test_size=.33, random_state=25)\n",
    "\n",
    "model = XGBClassifier()\n",
    "model.fit(X_train, y_train)\n",
    "\n",
    "y_pred = model.predict(X_test)\n",
    "predictions = [round(value) for value in y_pred]\n",
    "\n",
    "accuracy = accuracy_score(y_test, predictions)\n",
    "print(\"Accuracy: %.2f%%\" % (accuracy * 100.0))"
   ],
   "metadata": {
    "collapsed": false,
    "ExecuteTime": {
     "end_time": "2024-10-07T18:02:37.646966200Z",
     "start_time": "2024-10-07T18:02:37.410164400Z"
    }
   },
   "id": "fa9fd2a46c974a60"
  },
  {
   "cell_type": "code",
   "execution_count": 61,
   "outputs": [
    {
     "name": "stdout",
     "output_type": "stream",
     "text": [
      "(252, 168)\n"
     ]
    }
   ],
   "source": [
    "aub_fs_lr = fs_lr[fs_lr['PitcherTeam']=='AUB_TIG']\n",
    "print(aub_fs_lr.shape)"
   ],
   "metadata": {
    "collapsed": false,
    "ExecuteTime": {
     "end_time": "2024-10-07T18:02:39.231362200Z",
     "start_time": "2024-10-07T18:02:39.206634300Z"
    }
   },
   "id": "8215de6d4e68cc56"
  },
  {
   "cell_type": "code",
   "execution_count": 62,
   "outputs": [
    {
     "name": "stdout",
     "output_type": "stream",
     "text": [
      "['Bauman, Tanner' 'Myers, Carson' 'Keplinger, Konner']\n"
     ]
    }
   ],
   "source": [
    "# Get unique values\n",
    "unique_values = fs_lr['Pitcher'].unique()\n",
    "aub_unique_values = aub_fs_lr['Pitcher'].unique()\n",
    "\n",
    "print(aub_unique_values)\n",
    "\n",
    "# Create a dictionary to store subsets\n",
    "all_subsets = {value: fs_lr[fs_lr['Pitcher'] == value] for value in unique_values}\n",
    "\n",
    "aub_subsets = {value: fs_lr[fs_lr['Pitcher'] == value] for value in aub_unique_values}"
   ],
   "metadata": {
    "collapsed": false,
    "ExecuteTime": {
     "end_time": "2024-10-07T18:02:40.444023700Z",
     "start_time": "2024-10-07T18:02:40.313877100Z"
    }
   },
   "id": "d5cc3d4a7125fb9c"
  },
  {
   "cell_type": "code",
   "execution_count": 63,
   "outputs": [],
   "source": [
    "def aub_lr_fs_stuff(name):\n",
    "    \n",
    "    preds = ['RelSpeed','VertRelAngle','HorzRelAngle','SpinRate','SpinAxis','RelHeight','RelSide','Extension','VertBreak','InducedVertBreak','HorzBreak','ZoneSpeed','VertApprAngle','HorzApprAngle','ZoneTime','pfxx','pfxz','x0','y0','z0','vx0','vy0','vz0','ax0','ay0','az0','SpeedDrop','PitchTrajectoryXc1','PitchTrajectoryXc2','PitchTrajectoryYc0','PitchTrajectoryYc1','PitchTrajectoryYc2','PitchTrajectoryZc0','PitchTrajectoryZc1','PitchTrajectoryZc2']\n",
    "    \n",
    "    all_preds = model.predict_proba(fs_lr_X)[:,1]\n",
    "    mean_pred = np.mean(all_preds)\n",
    "\n",
    "    pitcher = aub_subsets[name]\n",
    "    pitcher_x = pitcher[preds]\n",
    "\n",
    "    whiff_preds = model.predict_proba(pitcher_x)[:,1]\n",
    "\n",
    "    stuff = whiff_preds/mean_pred\n",
    "    \n",
    "    print(f\"{name} sinker stuff+: {np.mean(stuff * 100)}\")"
   ],
   "metadata": {
    "collapsed": false,
    "ExecuteTime": {
     "end_time": "2024-10-07T18:02:45.239219700Z",
     "start_time": "2024-10-07T18:02:45.231915Z"
    }
   },
   "id": "94ab33efe0ecaa6b"
  },
  {
   "cell_type": "code",
   "execution_count": 64,
   "outputs": [
    {
     "name": "stdout",
     "output_type": "stream",
     "text": [
      "Bauman, Tanner sinker stuff+: 83.47110748291016\n",
      "Myers, Carson sinker stuff+: 58.712982177734375\n",
      "Keplinger, Konner sinker stuff+: 3.819227457046509\n"
     ]
    }
   ],
   "source": [
    "for pitcher in aub_unique_values:\n",
    "    aub_lr_fs_stuff(pitcher)"
   ],
   "metadata": {
    "collapsed": false,
    "ExecuteTime": {
     "end_time": "2024-10-07T18:02:47.955202200Z",
     "start_time": "2024-10-07T18:02:47.843266500Z"
    }
   },
   "id": "f444c5306ffc707b"
  },
  {
   "cell_type": "code",
   "execution_count": 65,
   "outputs": [
    {
     "data": {
      "text/plain": "        PitchNo        Date         Time  PAofInning  PitchofPA  \\\n180969      253  2024-03-09  15:25:03.79         7.0        1.0   \n180970      254  2024-03-09  15:25:18.29         7.0        2.0   \n180971      255  2024-03-09  15:25:35.43         7.0        3.0   \n180997      281  2024-03-09  15:43:31.62         1.0        1.0   \n181000      284  2024-03-09  15:44:14.61         1.0        4.0   \n181002      286  2024-03-09  15:44:46.62         1.0        6.0   \n181003      287  2024-03-09  15:45:01.17         1.0        7.0   \n181006      290  2024-03-09  15:46:35.88         2.0        3.0   \n181007      291  2024-03-09  15:46:53.85         2.0        4.0   \n181008      292  2024-03-09  15:47:10.83         2.0        5.0   \n181009      293  2024-03-09  15:47:49.62         2.0        6.0   \n\n                  Pitcher     PitcherId PitcherThrows PitcherTeam Batter  ...  \\\n180969  Keplinger, Konner  1.000107e+09          Left     AUB_TIG    NaN  ...   \n180970  Keplinger, Konner  1.000107e+09          Left     AUB_TIG    NaN  ...   \n180971  Keplinger, Konner  1.000107e+09          Left     AUB_TIG    NaN  ...   \n180997  Keplinger, Konner  1.000107e+09          Left     AUB_TIG    NaN  ...   \n181000  Keplinger, Konner  1.000107e+09          Left     AUB_TIG    NaN  ...   \n181002  Keplinger, Konner  1.000107e+09          Left     AUB_TIG    NaN  ...   \n181003  Keplinger, Konner  1.000107e+09          Left     AUB_TIG    NaN  ...   \n181006  Keplinger, Konner  1.000107e+09          Left     AUB_TIG    NaN  ...   \n181007  Keplinger, Konner  1.000107e+09          Left     AUB_TIG    NaN  ...   \n181008  Keplinger, Konner  1.000107e+09          Left     AUB_TIG    NaN  ...   \n181009  Keplinger, Konner  1.000107e+09          Left     AUB_TIG    NaN  ...   \n\n        ThrowTrajectoryZc2 PitchReleaseConfidence PitchLocationConfidence  \\\n180969                 NaN                   High                    High   \n180970                 NaN                   High                    High   \n180971                 NaN                   High                    High   \n180997                 NaN                   High                    High   \n181000                 NaN                   High                    High   \n181002                 NaN                   High                    High   \n181003                 NaN                   High                    High   \n181006                 NaN                   High                    High   \n181007                 NaN                   High                    High   \n181008                 NaN                   High                    High   \n181009                 NaN                   High                    High   \n\n       PitchMovementConfidence  HitLaunchConfidence HitLandingConfidence  \\\n180969                    High                  NaN                  NaN   \n180970                    High                  NaN                  NaN   \n180971                    High               Medium                 High   \n180997                    High                  NaN                  NaN   \n181000                    High                  NaN                  NaN   \n181002                    High                  NaN                  NaN   \n181003                    High                  NaN                  NaN   \n181006                    High                 High                  Low   \n181007                    High                  NaN                  NaN   \n181008                    High                  Low                  Low   \n181009                    High                 High                  Low   \n\n        CatcherThrowCatchConfidence  CatcherThrowReleaseConfidence  \\\n180969                          NaN                            NaN   \n180970                          NaN                            NaN   \n180971                          NaN                            NaN   \n180997                          NaN                            NaN   \n181000                          NaN                            NaN   \n181002                          NaN                            NaN   \n181003                          NaN                            NaN   \n181006                          NaN                            NaN   \n181007                          NaN                            NaN   \n181008                          NaN                            NaN   \n181009                          NaN                            NaN   \n\n        CatcherThrowLocationConfidence whiff  \n180969                             NaN     0  \n180970                             NaN     0  \n180971                             NaN     0  \n180997                             NaN     0  \n181000                             NaN     0  \n181002                             NaN     0  \n181003                             NaN     0  \n181006                             NaN     0  \n181007                             NaN     0  \n181008                             NaN     0  \n181009                             NaN     0  \n\n[11 rows x 168 columns]",
      "text/html": "<div>\n<style scoped>\n    .dataframe tbody tr th:only-of-type {\n        vertical-align: middle;\n    }\n\n    .dataframe tbody tr th {\n        vertical-align: top;\n    }\n\n    .dataframe thead th {\n        text-align: right;\n    }\n</style>\n<table border=\"1\" class=\"dataframe\">\n  <thead>\n    <tr style=\"text-align: right;\">\n      <th></th>\n      <th>PitchNo</th>\n      <th>Date</th>\n      <th>Time</th>\n      <th>PAofInning</th>\n      <th>PitchofPA</th>\n      <th>Pitcher</th>\n      <th>PitcherId</th>\n      <th>PitcherThrows</th>\n      <th>PitcherTeam</th>\n      <th>Batter</th>\n      <th>...</th>\n      <th>ThrowTrajectoryZc2</th>\n      <th>PitchReleaseConfidence</th>\n      <th>PitchLocationConfidence</th>\n      <th>PitchMovementConfidence</th>\n      <th>HitLaunchConfidence</th>\n      <th>HitLandingConfidence</th>\n      <th>CatcherThrowCatchConfidence</th>\n      <th>CatcherThrowReleaseConfidence</th>\n      <th>CatcherThrowLocationConfidence</th>\n      <th>whiff</th>\n    </tr>\n  </thead>\n  <tbody>\n    <tr>\n      <th>180969</th>\n      <td>253</td>\n      <td>2024-03-09</td>\n      <td>15:25:03.79</td>\n      <td>7.0</td>\n      <td>1.0</td>\n      <td>Keplinger, Konner</td>\n      <td>1.000107e+09</td>\n      <td>Left</td>\n      <td>AUB_TIG</td>\n      <td>NaN</td>\n      <td>...</td>\n      <td>NaN</td>\n      <td>High</td>\n      <td>High</td>\n      <td>High</td>\n      <td>NaN</td>\n      <td>NaN</td>\n      <td>NaN</td>\n      <td>NaN</td>\n      <td>NaN</td>\n      <td>0</td>\n    </tr>\n    <tr>\n      <th>180970</th>\n      <td>254</td>\n      <td>2024-03-09</td>\n      <td>15:25:18.29</td>\n      <td>7.0</td>\n      <td>2.0</td>\n      <td>Keplinger, Konner</td>\n      <td>1.000107e+09</td>\n      <td>Left</td>\n      <td>AUB_TIG</td>\n      <td>NaN</td>\n      <td>...</td>\n      <td>NaN</td>\n      <td>High</td>\n      <td>High</td>\n      <td>High</td>\n      <td>NaN</td>\n      <td>NaN</td>\n      <td>NaN</td>\n      <td>NaN</td>\n      <td>NaN</td>\n      <td>0</td>\n    </tr>\n    <tr>\n      <th>180971</th>\n      <td>255</td>\n      <td>2024-03-09</td>\n      <td>15:25:35.43</td>\n      <td>7.0</td>\n      <td>3.0</td>\n      <td>Keplinger, Konner</td>\n      <td>1.000107e+09</td>\n      <td>Left</td>\n      <td>AUB_TIG</td>\n      <td>NaN</td>\n      <td>...</td>\n      <td>NaN</td>\n      <td>High</td>\n      <td>High</td>\n      <td>High</td>\n      <td>Medium</td>\n      <td>High</td>\n      <td>NaN</td>\n      <td>NaN</td>\n      <td>NaN</td>\n      <td>0</td>\n    </tr>\n    <tr>\n      <th>180997</th>\n      <td>281</td>\n      <td>2024-03-09</td>\n      <td>15:43:31.62</td>\n      <td>1.0</td>\n      <td>1.0</td>\n      <td>Keplinger, Konner</td>\n      <td>1.000107e+09</td>\n      <td>Left</td>\n      <td>AUB_TIG</td>\n      <td>NaN</td>\n      <td>...</td>\n      <td>NaN</td>\n      <td>High</td>\n      <td>High</td>\n      <td>High</td>\n      <td>NaN</td>\n      <td>NaN</td>\n      <td>NaN</td>\n      <td>NaN</td>\n      <td>NaN</td>\n      <td>0</td>\n    </tr>\n    <tr>\n      <th>181000</th>\n      <td>284</td>\n      <td>2024-03-09</td>\n      <td>15:44:14.61</td>\n      <td>1.0</td>\n      <td>4.0</td>\n      <td>Keplinger, Konner</td>\n      <td>1.000107e+09</td>\n      <td>Left</td>\n      <td>AUB_TIG</td>\n      <td>NaN</td>\n      <td>...</td>\n      <td>NaN</td>\n      <td>High</td>\n      <td>High</td>\n      <td>High</td>\n      <td>NaN</td>\n      <td>NaN</td>\n      <td>NaN</td>\n      <td>NaN</td>\n      <td>NaN</td>\n      <td>0</td>\n    </tr>\n    <tr>\n      <th>181002</th>\n      <td>286</td>\n      <td>2024-03-09</td>\n      <td>15:44:46.62</td>\n      <td>1.0</td>\n      <td>6.0</td>\n      <td>Keplinger, Konner</td>\n      <td>1.000107e+09</td>\n      <td>Left</td>\n      <td>AUB_TIG</td>\n      <td>NaN</td>\n      <td>...</td>\n      <td>NaN</td>\n      <td>High</td>\n      <td>High</td>\n      <td>High</td>\n      <td>NaN</td>\n      <td>NaN</td>\n      <td>NaN</td>\n      <td>NaN</td>\n      <td>NaN</td>\n      <td>0</td>\n    </tr>\n    <tr>\n      <th>181003</th>\n      <td>287</td>\n      <td>2024-03-09</td>\n      <td>15:45:01.17</td>\n      <td>1.0</td>\n      <td>7.0</td>\n      <td>Keplinger, Konner</td>\n      <td>1.000107e+09</td>\n      <td>Left</td>\n      <td>AUB_TIG</td>\n      <td>NaN</td>\n      <td>...</td>\n      <td>NaN</td>\n      <td>High</td>\n      <td>High</td>\n      <td>High</td>\n      <td>NaN</td>\n      <td>NaN</td>\n      <td>NaN</td>\n      <td>NaN</td>\n      <td>NaN</td>\n      <td>0</td>\n    </tr>\n    <tr>\n      <th>181006</th>\n      <td>290</td>\n      <td>2024-03-09</td>\n      <td>15:46:35.88</td>\n      <td>2.0</td>\n      <td>3.0</td>\n      <td>Keplinger, Konner</td>\n      <td>1.000107e+09</td>\n      <td>Left</td>\n      <td>AUB_TIG</td>\n      <td>NaN</td>\n      <td>...</td>\n      <td>NaN</td>\n      <td>High</td>\n      <td>High</td>\n      <td>High</td>\n      <td>High</td>\n      <td>Low</td>\n      <td>NaN</td>\n      <td>NaN</td>\n      <td>NaN</td>\n      <td>0</td>\n    </tr>\n    <tr>\n      <th>181007</th>\n      <td>291</td>\n      <td>2024-03-09</td>\n      <td>15:46:53.85</td>\n      <td>2.0</td>\n      <td>4.0</td>\n      <td>Keplinger, Konner</td>\n      <td>1.000107e+09</td>\n      <td>Left</td>\n      <td>AUB_TIG</td>\n      <td>NaN</td>\n      <td>...</td>\n      <td>NaN</td>\n      <td>High</td>\n      <td>High</td>\n      <td>High</td>\n      <td>NaN</td>\n      <td>NaN</td>\n      <td>NaN</td>\n      <td>NaN</td>\n      <td>NaN</td>\n      <td>0</td>\n    </tr>\n    <tr>\n      <th>181008</th>\n      <td>292</td>\n      <td>2024-03-09</td>\n      <td>15:47:10.83</td>\n      <td>2.0</td>\n      <td>5.0</td>\n      <td>Keplinger, Konner</td>\n      <td>1.000107e+09</td>\n      <td>Left</td>\n      <td>AUB_TIG</td>\n      <td>NaN</td>\n      <td>...</td>\n      <td>NaN</td>\n      <td>High</td>\n      <td>High</td>\n      <td>High</td>\n      <td>Low</td>\n      <td>Low</td>\n      <td>NaN</td>\n      <td>NaN</td>\n      <td>NaN</td>\n      <td>0</td>\n    </tr>\n    <tr>\n      <th>181009</th>\n      <td>293</td>\n      <td>2024-03-09</td>\n      <td>15:47:49.62</td>\n      <td>2.0</td>\n      <td>6.0</td>\n      <td>Keplinger, Konner</td>\n      <td>1.000107e+09</td>\n      <td>Left</td>\n      <td>AUB_TIG</td>\n      <td>NaN</td>\n      <td>...</td>\n      <td>NaN</td>\n      <td>High</td>\n      <td>High</td>\n      <td>High</td>\n      <td>High</td>\n      <td>Low</td>\n      <td>NaN</td>\n      <td>NaN</td>\n      <td>NaN</td>\n      <td>0</td>\n    </tr>\n  </tbody>\n</table>\n<p>11 rows × 168 columns</p>\n</div>"
     },
     "execution_count": 65,
     "metadata": {},
     "output_type": "execute_result"
    }
   ],
   "source": [
    "aub_subsets['Keplinger, Konner']"
   ],
   "metadata": {
    "collapsed": false,
    "ExecuteTime": {
     "end_time": "2024-10-07T18:03:23.876676100Z",
     "start_time": "2024-10-07T18:03:23.847881800Z"
    }
   },
   "id": "58e8ea1df900a3ba"
  },
  {
   "cell_type": "code",
   "execution_count": 66,
   "outputs": [],
   "source": [
    "fs_ll_X = fs_ll[preds]\n",
    "fs_ll_y = fs_ll['whiff']"
   ],
   "metadata": {
    "collapsed": false,
    "ExecuteTime": {
     "end_time": "2024-10-07T18:06:19.852779Z",
     "start_time": "2024-10-07T18:06:19.841712500Z"
    }
   },
   "id": "944550340048ff3c"
  },
  {
   "cell_type": "code",
   "execution_count": 67,
   "outputs": [
    {
     "name": "stdout",
     "output_type": "stream",
     "text": [
      "Accuracy: 92.64%\n"
     ]
    }
   ],
   "source": [
    "X_train, X_test, y_train, y_test = train_test_split(fs_ll_X, fs_ll_y, test_size=.33, random_state=25)\n",
    "\n",
    "model = XGBClassifier()\n",
    "model.fit(X_train, y_train)\n",
    "\n",
    "y_pred = model.predict(X_test)\n",
    "predictions = [round(value) for value in y_pred]\n",
    "\n",
    "accuracy = accuracy_score(y_test, predictions)\n",
    "print(\"Accuracy: %.2f%%\" % (accuracy * 100.0))"
   ],
   "metadata": {
    "collapsed": false,
    "ExecuteTime": {
     "end_time": "2024-10-07T18:06:21.012751Z",
     "start_time": "2024-10-07T18:06:20.823278600Z"
    }
   },
   "id": "46d04bcc87c683c5"
  },
  {
   "cell_type": "code",
   "execution_count": 68,
   "outputs": [
    {
     "name": "stdout",
     "output_type": "stream",
     "text": [
      "(239, 168)\n"
     ]
    }
   ],
   "source": [
    "aub_fs_ll = fs_ll[fs_ll['PitcherTeam']=='AUB_TIG']\n",
    "print(aub_fs_ll.shape)"
   ],
   "metadata": {
    "collapsed": false,
    "ExecuteTime": {
     "end_time": "2024-10-07T18:06:23.047062700Z",
     "start_time": "2024-10-07T18:06:23.025225600Z"
    }
   },
   "id": "f25c607b30a08073"
  },
  {
   "cell_type": "code",
   "execution_count": 69,
   "outputs": [
    {
     "name": "stdout",
     "output_type": "stream",
     "text": [
      "['Bauman, Tanner' 'Sheehan, Tommy' 'Myers, Carson' 'Keplinger, Konner']\n"
     ]
    }
   ],
   "source": [
    "# Get unique values\n",
    "unique_values = fs_ll['Pitcher'].unique()\n",
    "aub_unique_values = aub_fs_ll['Pitcher'].unique()\n",
    "\n",
    "print(aub_unique_values)\n",
    "\n",
    "# Create a dictionary to store subsets\n",
    "all_subsets = {value: fs_ll[fs_ll['Pitcher'] == value] for value in unique_values}\n",
    "\n",
    "aub_subsets = {value: fs_ll[fs_ll['Pitcher'] == value] for value in aub_unique_values}"
   ],
   "metadata": {
    "collapsed": false,
    "ExecuteTime": {
     "end_time": "2024-10-07T18:06:24.270021200Z",
     "start_time": "2024-10-07T18:06:24.177898500Z"
    }
   },
   "id": "85c48aa7a852130a"
  },
  {
   "cell_type": "code",
   "execution_count": 70,
   "outputs": [],
   "source": [
    "def aub_ll_fs_stuff(name):\n",
    "    \n",
    "    preds = ['RelSpeed','VertRelAngle','HorzRelAngle','SpinRate','SpinAxis','RelHeight','RelSide','Extension','VertBreak','InducedVertBreak','HorzBreak','ZoneSpeed','VertApprAngle','HorzApprAngle','ZoneTime','pfxx','pfxz','x0','y0','z0','vx0','vy0','vz0','ax0','ay0','az0','SpeedDrop','PitchTrajectoryXc1','PitchTrajectoryXc2','PitchTrajectoryYc0','PitchTrajectoryYc1','PitchTrajectoryYc2','PitchTrajectoryZc0','PitchTrajectoryZc1','PitchTrajectoryZc2']\n",
    "    \n",
    "    all_preds = model.predict_proba(fs_ll_X)[:,1]\n",
    "    mean_pred = np.mean(all_preds)\n",
    "\n",
    "    pitcher = aub_subsets[name]\n",
    "    pitcher_x = pitcher[preds]\n",
    "\n",
    "    whiff_preds = model.predict_proba(pitcher_x)[:,1]\n",
    "\n",
    "    stuff = whiff_preds/mean_pred\n",
    "    \n",
    "    print(f\"{name} sinker stuff+: {np.mean(stuff * 100)}\")"
   ],
   "metadata": {
    "collapsed": false,
    "ExecuteTime": {
     "end_time": "2024-10-07T18:06:25.797548300Z",
     "start_time": "2024-10-07T18:06:25.792125900Z"
    }
   },
   "id": "dc5d6bb90cbe1874"
  },
  {
   "cell_type": "code",
   "execution_count": 71,
   "outputs": [
    {
     "name": "stdout",
     "output_type": "stream",
     "text": [
      "Bauman, Tanner sinker stuff+: 188.41030883789062\n",
      "Sheehan, Tommy sinker stuff+: 7.371059894561768\n",
      "Myers, Carson sinker stuff+: 80.22283172607422\n",
      "Keplinger, Konner sinker stuff+: 756.3327026367188\n"
     ]
    }
   ],
   "source": [
    "for pitcher in aub_unique_values:\n",
    "    aub_ll_fs_stuff(pitcher)"
   ],
   "metadata": {
    "collapsed": false,
    "ExecuteTime": {
     "end_time": "2024-10-07T18:06:27.691971100Z",
     "start_time": "2024-10-07T18:06:27.563602400Z"
    }
   },
   "id": "918dd85ebd60dfc3"
  },
  {
   "cell_type": "code",
   "execution_count": 73,
   "outputs": [
    {
     "data": {
      "text/plain": "        PitchNo        Date         Time  PAofInning  PitchofPA  \\\n180977      261  2024-03-09  15:28:37.25         9.0        1.0   \n180979      263  2024-03-09  15:29:11.70         9.0        3.0   \n181012      296  2024-03-09  15:49:04.88         3.0        3.0   \n\n                  Pitcher     PitcherId PitcherThrows PitcherTeam Batter  ...  \\\n180977  Keplinger, Konner  1.000107e+09          Left     AUB_TIG    NaN  ...   \n180979  Keplinger, Konner  1.000107e+09          Left     AUB_TIG    NaN  ...   \n181012  Keplinger, Konner  1.000107e+09          Left     AUB_TIG    NaN  ...   \n\n        ThrowTrajectoryZc2 PitchReleaseConfidence PitchLocationConfidence  \\\n180977                 NaN                   High                    High   \n180979                 NaN                   High                    High   \n181012                 NaN                   High                    High   \n\n       PitchMovementConfidence  HitLaunchConfidence HitLandingConfidence  \\\n180977                    High                  NaN                  NaN   \n180979                    High                  NaN                  NaN   \n181012                    High                  Low                  Low   \n\n        CatcherThrowCatchConfidence  CatcherThrowReleaseConfidence  \\\n180977                          NaN                            NaN   \n180979                          NaN                            NaN   \n181012                          NaN                            NaN   \n\n        CatcherThrowLocationConfidence whiff  \n180977                             NaN     1  \n180979                             NaN     0  \n181012                             NaN     0  \n\n[3 rows x 168 columns]",
      "text/html": "<div>\n<style scoped>\n    .dataframe tbody tr th:only-of-type {\n        vertical-align: middle;\n    }\n\n    .dataframe tbody tr th {\n        vertical-align: top;\n    }\n\n    .dataframe thead th {\n        text-align: right;\n    }\n</style>\n<table border=\"1\" class=\"dataframe\">\n  <thead>\n    <tr style=\"text-align: right;\">\n      <th></th>\n      <th>PitchNo</th>\n      <th>Date</th>\n      <th>Time</th>\n      <th>PAofInning</th>\n      <th>PitchofPA</th>\n      <th>Pitcher</th>\n      <th>PitcherId</th>\n      <th>PitcherThrows</th>\n      <th>PitcherTeam</th>\n      <th>Batter</th>\n      <th>...</th>\n      <th>ThrowTrajectoryZc2</th>\n      <th>PitchReleaseConfidence</th>\n      <th>PitchLocationConfidence</th>\n      <th>PitchMovementConfidence</th>\n      <th>HitLaunchConfidence</th>\n      <th>HitLandingConfidence</th>\n      <th>CatcherThrowCatchConfidence</th>\n      <th>CatcherThrowReleaseConfidence</th>\n      <th>CatcherThrowLocationConfidence</th>\n      <th>whiff</th>\n    </tr>\n  </thead>\n  <tbody>\n    <tr>\n      <th>180977</th>\n      <td>261</td>\n      <td>2024-03-09</td>\n      <td>15:28:37.25</td>\n      <td>9.0</td>\n      <td>1.0</td>\n      <td>Keplinger, Konner</td>\n      <td>1.000107e+09</td>\n      <td>Left</td>\n      <td>AUB_TIG</td>\n      <td>NaN</td>\n      <td>...</td>\n      <td>NaN</td>\n      <td>High</td>\n      <td>High</td>\n      <td>High</td>\n      <td>NaN</td>\n      <td>NaN</td>\n      <td>NaN</td>\n      <td>NaN</td>\n      <td>NaN</td>\n      <td>1</td>\n    </tr>\n    <tr>\n      <th>180979</th>\n      <td>263</td>\n      <td>2024-03-09</td>\n      <td>15:29:11.70</td>\n      <td>9.0</td>\n      <td>3.0</td>\n      <td>Keplinger, Konner</td>\n      <td>1.000107e+09</td>\n      <td>Left</td>\n      <td>AUB_TIG</td>\n      <td>NaN</td>\n      <td>...</td>\n      <td>NaN</td>\n      <td>High</td>\n      <td>High</td>\n      <td>High</td>\n      <td>NaN</td>\n      <td>NaN</td>\n      <td>NaN</td>\n      <td>NaN</td>\n      <td>NaN</td>\n      <td>0</td>\n    </tr>\n    <tr>\n      <th>181012</th>\n      <td>296</td>\n      <td>2024-03-09</td>\n      <td>15:49:04.88</td>\n      <td>3.0</td>\n      <td>3.0</td>\n      <td>Keplinger, Konner</td>\n      <td>1.000107e+09</td>\n      <td>Left</td>\n      <td>AUB_TIG</td>\n      <td>NaN</td>\n      <td>...</td>\n      <td>NaN</td>\n      <td>High</td>\n      <td>High</td>\n      <td>High</td>\n      <td>Low</td>\n      <td>Low</td>\n      <td>NaN</td>\n      <td>NaN</td>\n      <td>NaN</td>\n      <td>0</td>\n    </tr>\n  </tbody>\n</table>\n<p>3 rows × 168 columns</p>\n</div>"
     },
     "execution_count": 73,
     "metadata": {},
     "output_type": "execute_result"
    }
   ],
   "source": [
    "aub_subsets['Keplinger, Konner']"
   ],
   "metadata": {
    "collapsed": false,
    "ExecuteTime": {
     "end_time": "2024-10-07T18:07:10.862804Z",
     "start_time": "2024-10-07T18:07:10.835985800Z"
    }
   },
   "id": "6439420f83a92d8d"
=======
   "execution_count": 13
>>>>>>> 245313ce8f3dfa5968a207661e07986720b85040
>>>>>>> Stashed changes
  }
 ],
 "metadata": {
  "kernelspec": {
   "display_name": "Python 3",
   "language": "python",
   "name": "python3"
  },
  "language_info": {
   "codemirror_mode": {
    "name": "ipython",
    "version": 2
   },
   "file_extension": ".py",
   "mimetype": "text/x-python",
   "name": "python",
   "nbconvert_exporter": "python",
   "pygments_lexer": "ipython2",
   "version": "2.7.6"
  }
 },
 "nbformat": 4,
 "nbformat_minor": 5
}
