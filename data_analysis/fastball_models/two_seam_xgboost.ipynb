{
 "cells": [
  {
   "cell_type": "code",
   "execution_count": 1,
   "id": "initial_id",
   "metadata": {
    "collapsed": true,
    "ExecuteTime": {
     "end_time": "2024-10-06T03:15:14.185123100Z",
     "start_time": "2024-10-06T03:15:08.618026300Z"
    }
   },
   "outputs": [],
   "source": [
    "import os\n",
    "import pandas as pd\n",
    "import numpy as np\n",
    "import xgboost\n",
    "from xgboost import XGBClassifier\n",
    "from sklearn.model_selection import train_test_split\n",
    "from sklearn.metrics import accuracy_score, confusion_matrix, precision_score, recall_score, f1_score, roc_auc_score, roc_curve\n",
    "from hyperopt import STATUS_OK, Trials, fmin, hp, tpe\n",
    "import matplotlib.pyplot as plt\n",
    "import seaborn as sns\n",
    "import shap"
   ]
  },
  {
   "cell_type": "code",
   "execution_count": 2,
   "outputs": [
    {
     "name": "stdout",
     "output_type": "stream",
     "text": [
      "(270589, 167)\n",
      "Index(['PitchNo', 'Date', 'Time', 'PAofInning', 'PitchofPA', 'Pitcher',\n",
      "       'PitcherId', 'PitcherThrows', 'PitcherTeam', 'Batter',\n",
      "       ...\n",
      "       'ThrowTrajectoryZc1', 'ThrowTrajectoryZc2', 'PitchReleaseConfidence',\n",
      "       'PitchLocationConfidence', 'PitchMovementConfidence',\n",
      "       'HitLaunchConfidence', 'HitLandingConfidence',\n",
      "       'CatcherThrowCatchConfidence', 'CatcherThrowReleaseConfidence',\n",
      "       'CatcherThrowLocationConfidence'],\n",
      "      dtype='object', length=167)\n"
     ]
    }
   ],
   "source": [
    "csv_dir = '../SEC Trackman Data/'\n",
    "all_files = [os.path.join(csv_dir, f) for f in os.listdir(csv_dir) if f.endswith('.csv')]\n",
    "\n",
    "df_list = []\n",
    "\n",
    "for file in all_files:\n",
    "    df = pd.read_csv(file)\n",
    "    df_list.append(df)\n",
    "\n",
    "all_pitches = pd.concat(df_list, ignore_index=True)\n",
    "\n",
    "print(all_pitches.shape)\n",
    "print(all_pitches.columns)"
   ],
   "metadata": {
    "collapsed": false,
    "ExecuteTime": {
     "end_time": "2024-10-06T03:15:34.706843100Z",
     "start_time": "2024-10-06T03:15:14.198620400Z"
    }
   },
   "id": "f0708e0a471d07f3"
  },
  {
   "cell_type": "code",
   "execution_count": 7,
   "outputs": [
    {
     "name": "stdout",
     "output_type": "stream",
     "text": [
      "['Fastball' 'Slider' 'ChangeUp' 'Curveball' 'Cutter' 'Other' 'Undefined'\n",
      " 'Sinker' 'Knuckleball' 'Splitter' 'FourSeamFastBall' 'TwoSeamFastBall'\n",
      " 'OneSeamFastBall']\n",
      "['Sinker' 'Four-Seam' 'Curveball' 'Changeup' 'Slider' 'Cutter' nan\n",
      " 'Splitter' 'Other']\n"
     ]
    }
   ],
   "source": [
    "print(all_pitches['TaggedPitchType'].unique())\n",
    "print(all_pitches['AutoPitchType'].unique())"
   ],
   "metadata": {
    "collapsed": false,
    "ExecuteTime": {
     "end_time": "2024-10-06T04:35:53.173566100Z",
     "start_time": "2024-10-06T04:35:53.101693400Z"
    }
   },
   "id": "8a2c69de2ffb5164"
  },
  {
   "cell_type": "code",
   "execution_count": 6,
   "outputs": [
    {
     "name": "stdout",
     "output_type": "stream",
     "text": [
      "(4, 167)\n"
     ]
    }
   ],
   "source": [
    "fts = all_pitches[all_pitches['TaggedPitchType'].isin(['TwoSeamFastBall', 'OneSeamFastBall'])]\n",
    "print(fts.shape)"
   ],
   "metadata": {
    "collapsed": false,
    "ExecuteTime": {
     "end_time": "2024-10-06T03:17:25.403559900Z",
     "start_time": "2024-10-06T03:17:25.355804600Z"
    }
   },
   "id": "2ebe5a163ceaafc9"
  },
  {
   "cell_type": "markdown",
   "source": [
    "Cant even train this model"
   ],
   "metadata": {
    "collapsed": false
   },
   "id": "c4fd6fc894c62ee8"
  }
 ],
 "metadata": {
  "kernelspec": {
   "display_name": "Python 3",
   "language": "python",
   "name": "python3"
  },
  "language_info": {
   "codemirror_mode": {
    "name": "ipython",
    "version": 2
   },
   "file_extension": ".py",
   "mimetype": "text/x-python",
   "name": "python",
   "nbconvert_exporter": "python",
   "pygments_lexer": "ipython2",
   "version": "2.7.6"
  }
 },
 "nbformat": 4,
 "nbformat_minor": 5
}
