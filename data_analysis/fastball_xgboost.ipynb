{
 "cells": [
  {
   "cell_type": "markdown",
   "source": [
    "In this notebook, we will concatenate all the game data into one data frame, and train an XGBoost model for whiff %. We will calculate stuff+ for generic fastball, off-speed, and breaking balls"
   ],
   "metadata": {
    "collapsed": false
   },
   "id": "c7b27866b927f2e4"
  },
  {
   "cell_type": "markdown",
   "source": [
    "First, we define the file path that contains all the data, and concatenate all csv files in the selected path "
   ],
   "metadata": {
    "collapsed": false
   },
   "id": "49a6a6ccdec76a51"
  },
  {
   "cell_type": "code",
   "execution_count": 207,
   "outputs": [],
   "source": [
    "import os\n",
    "import pandas as pd\n",
    "import numpy as np\n",
    "import xgboost\n",
    "from xgboost import XGBClassifier\n",
    "from sklearn.model_selection import train_test_split\n",
    "from sklearn.metrics import accuracy_score, confusion_matrix, precision_score, recall_score, f1_score, roc_auc_score, roc_curve\n",
    "import matplotlib.pyplot as plt\n",
    "import seaborn as sns"
   ],
   "metadata": {
    "collapsed": false,
    "ExecuteTime": {
     "end_time": "2024-09-24T18:54:34.154641Z",
     "start_time": "2024-09-24T18:54:34.139595100Z"
    }
   },
   "id": "b400496d5ccf1ebd"
  },
  {
   "cell_type": "code",
   "execution_count": 141,
   "id": "initial_id",
   "metadata": {
    "collapsed": true,
    "ExecuteTime": {
     "end_time": "2024-09-24T14:12:33.186326200Z",
     "start_time": "2024-09-24T14:11:57.880737100Z"
    }
   },
   "outputs": [
    {
     "name": "stdout",
     "output_type": "stream",
     "text": [
      "(270589, 167)\n",
      "Index(['PitchNo', 'Date', 'Time', 'PAofInning', 'PitchofPA', 'Pitcher',\n",
      "       'PitcherId', 'PitcherThrows', 'PitcherTeam', 'Batter',\n",
      "       ...\n",
      "       'ThrowTrajectoryZc1', 'ThrowTrajectoryZc2', 'PitchReleaseConfidence',\n",
      "       'PitchLocationConfidence', 'PitchMovementConfidence',\n",
      "       'HitLaunchConfidence', 'HitLandingConfidence',\n",
      "       'CatcherThrowCatchConfidence', 'CatcherThrowReleaseConfidence',\n",
      "       'CatcherThrowLocationConfidence'],\n",
      "      dtype='object', length=167)\n"
     ]
    }
   ],
   "source": [
    "csv_dir = '../SEC Trackman Data/'\n",
    "all_files = [os.path.join(csv_dir, f) for f in os.listdir(csv_dir) if f.endswith('.csv')]\n",
    "\n",
    "df_list = []\n",
    "\n",
    "for file in all_files:\n",
    "    df = pd.read_csv(file)\n",
    "    df_list.append(df)\n",
    "\n",
    "all_pitches = pd.concat(df_list, ignore_index=True)\n",
    "\n",
    "print(all_pitches.shape)\n",
    "print(all_pitches.columns)"
   ]
  },
  {
   "cell_type": "markdown",
   "source": [
    "Now that all the pitches have been combined into one large data frame, we can begin to subset the data based on pitch type. We first have to find out what pitch types there are, and classify each as a fastball, off-speed, or breaking ball"
   ],
   "metadata": {
    "collapsed": false
   },
   "id": "e231b6300b0f38d"
  },
  {
   "cell_type": "code",
   "execution_count": 142,
   "outputs": [
    {
     "name": "stdout",
     "output_type": "stream",
     "text": [
      "['Fastball' 'Slider' 'ChangeUp' 'Curveball' 'Cutter' 'Other' 'Undefined'\n",
      " 'Sinker' 'Knuckleball' 'Splitter' 'FourSeamFastBall' 'TwoSeamFastBall'\n",
      " 'OneSeamFastBall']\n",
      "['Sinker' 'Four-Seam' 'Curveball' 'Changeup' 'Slider' 'Cutter' nan\n",
      " 'Splitter' 'Other']\n"
     ]
    }
   ],
   "source": [
    "tagged_pitch_types = all_pitches['TaggedPitchType'].unique()\n",
    "print(tagged_pitch_types)\n",
    "\n",
    "auto_pitch_types = all_pitches['AutoPitchType'].unique()\n",
    "print(auto_pitch_types)"
   ],
   "metadata": {
    "collapsed": false,
    "ExecuteTime": {
     "end_time": "2024-09-24T14:12:38.626263Z",
     "start_time": "2024-09-24T14:12:38.572521300Z"
    }
   },
   "id": "fe26fd0bc1a3ab3c"
  },
  {
   "cell_type": "markdown",
   "source": [
    "Now that we know what types of pitches there are, we can create the three desired subsets"
   ],
   "metadata": {
    "collapsed": false
   },
   "id": "266da7947677dae5"
  },
  {
   "cell_type": "code",
   "execution_count": 143,
   "outputs": [
    {
     "name": "stdout",
     "output_type": "stream",
     "text": [
      "(152663, 167)\n",
      "(31218, 167)\n",
      "(80860, 167)\n"
     ]
    }
   ],
   "source": [
    "fastballs = all_pitches[all_pitches['TaggedPitchType'].isin(['Fastball','Cutter','Sinker','FourSeamFastBall','TwoSeamFastBall','OneSeamFastBall'])]\n",
    "off_speed = all_pitches[all_pitches['TaggedPitchType'].isin(['ChangeUp','Splitter'])]\n",
    "breaking_balls = all_pitches[all_pitches['TaggedPitchType'].isin(['Slider','Curveball','Knuckleball'])]\n",
    "\n",
    "print(fastballs.shape)\n",
    "print(off_speed.shape)\n",
    "print(breaking_balls.shape)"
   ],
   "metadata": {
    "collapsed": false,
    "ExecuteTime": {
     "end_time": "2024-09-24T14:12:41.631770200Z",
     "start_time": "2024-09-24T14:12:40.724179Z"
    }
   },
   "id": "15d7a7ab7f719645"
  },
  {
   "cell_type": "markdown",
   "source": [
    "Now we have the three different data frames created, we can create a new column called 'Whiff' with a 1 if there is a swinging strike or a 0 if not."
   ],
   "metadata": {
    "collapsed": false
   },
   "id": "4e5c4fa77f9eb55c"
  },
  {
   "cell_type": "code",
   "execution_count": 144,
   "outputs": [
    {
     "name": "stdout",
     "output_type": "stream",
     "text": [
      "0     0\n",
      "1     0\n",
      "3     0\n",
      "4     0\n",
      "5     0\n",
      "8     0\n",
      "9     0\n",
      "10    0\n",
      "13    0\n",
      "14    0\n",
      "Name: whiff, dtype: int32\n",
      "6     0\n",
      "7     0\n",
      "11    0\n",
      "40    0\n",
      "41    0\n",
      "55    0\n",
      "56    0\n",
      "69    0\n",
      "72    0\n",
      "84    0\n",
      "Name: whiff, dtype: int32\n",
      "2     0\n",
      "12    0\n",
      "19    0\n",
      "21    1\n",
      "22    0\n",
      "29    0\n",
      "32    0\n",
      "35    0\n",
      "36    0\n",
      "39    0\n",
      "Name: whiff, dtype: int32\n"
     ]
    },
    {
     "name": "stderr",
     "output_type": "stream",
     "text": [
      "C:\\Users\\charl\\AppData\\Local\\Temp\\ipykernel_10652\\39047805.py:1: SettingWithCopyWarning: \n",
      "A value is trying to be set on a copy of a slice from a DataFrame.\n",
      "Try using .loc[row_indexer,col_indexer] = value instead\n",
      "\n",
      "See the caveats in the documentation: https://pandas.pydata.org/pandas-docs/stable/user_guide/indexing.html#returning-a-view-versus-a-copy\n",
      "  fastballs['whiff'] = np.where(fastballs['PitchCall']=='StrikeSwinging',1,0)\n",
      "C:\\Users\\charl\\AppData\\Local\\Temp\\ipykernel_10652\\39047805.py:2: SettingWithCopyWarning: \n",
      "A value is trying to be set on a copy of a slice from a DataFrame.\n",
      "Try using .loc[row_indexer,col_indexer] = value instead\n",
      "\n",
      "See the caveats in the documentation: https://pandas.pydata.org/pandas-docs/stable/user_guide/indexing.html#returning-a-view-versus-a-copy\n",
      "  off_speed['whiff'] = np.where(off_speed['PitchCall']=='StrikeSwinging',1,0)\n",
      "C:\\Users\\charl\\AppData\\Local\\Temp\\ipykernel_10652\\39047805.py:3: SettingWithCopyWarning: \n",
      "A value is trying to be set on a copy of a slice from a DataFrame.\n",
      "Try using .loc[row_indexer,col_indexer] = value instead\n",
      "\n",
      "See the caveats in the documentation: https://pandas.pydata.org/pandas-docs/stable/user_guide/indexing.html#returning-a-view-versus-a-copy\n",
      "  breaking_balls['whiff'] = np.where(breaking_balls['PitchCall']=='StrikeSwinging',1,0)\n"
     ]
    }
   ],
   "source": [
    "fastballs['whiff'] = np.where(fastballs['PitchCall']=='StrikeSwinging',1,0)\n",
    "off_speed['whiff'] = np.where(off_speed['PitchCall']=='StrikeSwinging',1,0)\n",
    "breaking_balls['whiff'] = np.where(breaking_balls['PitchCall']=='StrikeSwinging',1,0)"
   ],
   "metadata": {
    "collapsed": false,
    "ExecuteTime": {
     "end_time": "2024-09-24T14:12:43.288362100Z",
     "start_time": "2024-09-24T14:12:43.223472400Z"
    }
   },
   "id": "bcfd585a2ff1e195"
  },
  {
   "cell_type": "markdown",
   "source": [
    "Now, we can examine the columns and determine which ones we want for predictors in our model. "
   ],
   "metadata": {
    "collapsed": false
   },
   "id": "79b88012e370a3a0"
  },
  {
   "cell_type": "markdown",
   "source": [
    "Now that we have whether a pitch was a whiff or not, we can begin determining which variables we want as predictors"
   ],
   "metadata": {
    "collapsed": false
   },
   "id": "7e3b9fbb42f9bd5e"
  },
  {
   "cell_type": "code",
   "execution_count": 145,
   "outputs": [
    {
     "name": "stdout",
     "output_type": "stream",
     "text": [
      "Index(['PitchNo', 'PAofInning', 'PitchofPA', 'PitcherId', 'BatterId', 'Inning',\n",
      "       'Outs', 'Balls', 'Strikes', 'OutsOnPlay',\n",
      "       ...\n",
      "       'ThrowTrajectoryXc0', 'ThrowTrajectoryXc1', 'ThrowTrajectoryXc2',\n",
      "       'ThrowTrajectoryYc0', 'ThrowTrajectoryYc1', 'ThrowTrajectoryYc2',\n",
      "       'ThrowTrajectoryZc0', 'ThrowTrajectoryZc1', 'ThrowTrajectoryZc2',\n",
      "       'whiff'],\n",
      "      dtype='object', length=121)\n"
     ]
    }
   ],
   "source": [
    "numeric_cols = fastballs.select_dtypes(include=['number']).columns\n",
    "print(numeric_cols)"
   ],
   "metadata": {
    "collapsed": false,
    "ExecuteTime": {
     "end_time": "2024-09-24T14:12:47.771480Z",
     "start_time": "2024-09-24T14:12:47.517339Z"
    }
   },
   "id": "6f6b58fc2093a9f6"
  },
  {
   "cell_type": "markdown",
   "source": [
    "Let's define the predictors "
   ],
   "metadata": {
    "collapsed": false
   },
   "id": "d01b2b4f01a9b2b9"
  },
  {
   "cell_type": "code",
   "execution_count": 209,
   "outputs": [],
   "source": [
    "preds = ['RelSpeed','VertRelAngle','HorzRelAngle','SpinRate','SpinAxis','RelHeight','RelSide','Extension','VertBreak','InducedVertBreak','HorzBreak','PlateLocHeight','PlateLocSide','ZoneSpeed','VertApprAngle','HorzApprAngle','ZoneTime','pfxx','pfxz','x0','y0','z0','vx0','vy0','vz0','ax0','ay0','az0','SpeedDrop','PitchTrajectoryXc1','PitchTrajectoryXc2','PitchTrajectoryYc0','PitchTrajectoryYc1','PitchTrajectoryYc2','PitchTrajectoryZc0','PitchTrajectoryZc1','PitchTrajectoryZc2']"
   ],
   "metadata": {
    "collapsed": false,
    "ExecuteTime": {
     "end_time": "2024-09-24T18:54:43.591466Z",
     "start_time": "2024-09-24T18:54:43.586846400Z"
    }
   },
   "id": "318417bf9080237d"
  },
  {
   "cell_type": "markdown",
   "source": [
    "Now, we can subset each of the pitch dfs with the predictors and response"
   ],
   "metadata": {
    "collapsed": false
   },
   "id": "75bbd2a6d29ff406"
  },
  {
   "cell_type": "code",
   "execution_count": 220,
   "outputs": [],
   "source": [
    "fastballs_X = fastballs[preds]\n",
    "fastballs_y = fastballs['whiff']\n",
    "off_speed_X = off_speed[preds]\n",
    "off_speed_y = off_speed['whiff']\n",
    "breaking_balls_X = breaking_balls[preds]\n",
    "breaking_balls_y = breaking_balls['whiff']"
   ],
   "metadata": {
    "collapsed": false,
    "ExecuteTime": {
     "end_time": "2024-09-24T19:31:06.003973Z",
     "start_time": "2024-09-24T19:31:05.931314900Z"
    }
   },
   "id": "a1802604cd277fa"
  },
  {
   "cell_type": "markdown",
   "source": [
    "Now, let's train the model for fastballs"
   ],
   "metadata": {
    "collapsed": false
   },
   "id": "ea2663c7e06370d"
  },
  {
   "cell_type": "code",
   "execution_count": 221,
   "outputs": [
    {
     "name": "stdout",
     "output_type": "stream",
     "text": [
      "Accuracy: 90.79%\n"
     ]
    }
   ],
   "source": [
    "X_train, X_test, y_train, y_test = train_test_split(fastballs_X, fastballs_y, test_size=.33)\n",
    "\n",
    "model = XGBClassifier()\n",
    "model.fit(X_train, y_train)\n",
    "\n",
    "y_pred = model.predict(X_test)\n",
    "predictions = [round(value) for value in y_pred]\n",
    "\n",
    "accuracy = accuracy_score(y_test, predictions)\n",
    "print(\"Accuracy: %.2f%%\" % (accuracy * 100.0))"
   ],
   "metadata": {
    "collapsed": false,
    "ExecuteTime": {
     "end_time": "2024-09-24T19:31:09.411339400Z",
     "start_time": "2024-09-24T19:31:07.171108400Z"
    }
   },
   "id": "8badfbbe9b7ec700"
  },
  {
   "cell_type": "code",
   "execution_count": 222,
   "outputs": [
    {
     "data": {
      "text/plain": "<Figure size 1000x400 with 2 Axes>",
      "image/png": "[encoded data removed]"
     },
     "metadata": {},
     "output_type": "display_data"
    }
   ],
   "source": [
    "cm = confusion_matrix(y_test, predictions)\n",
    "plt.figure(figsize=(10, 4))\n",
    "sns.heatmap(cm, annot=True, fmt='d', cmap='Blues')\n",
    "plt.xlabel('Predicted')\n",
    "plt.ylabel('Actual')\n",
    "plt.title('Confusion Matrix')\n",
    "plt.show()"
   ],
   "metadata": {
    "collapsed": false,
    "ExecuteTime": {
     "end_time": "2024-09-24T19:31:10.926497800Z",
     "start_time": "2024-09-24T19:31:10.648087800Z"
    }
   },
   "id": "8184c800ab77ce00"
  },
  {
   "cell_type": "code",
   "execution_count": 223,
   "outputs": [
    {
     "name": "stdout",
     "output_type": "stream",
     "text": [
      "Precision: 0.6684\n",
      "Recall: 0.5103\n",
      "F1 Score: 0.4985\n"
     ]
    }
   ],
   "source": [
    "precision = precision_score(y_test, predictions, average='macro')\n",
    "recall = recall_score(y_test, predictions, average='macro')\n",
    "f1 = f1_score(y_test, predictions, average='macro')\n",
    "\n",
    "print(f'Precision: {precision:.4f}')\n",
    "print(f'Recall: {recall:.4f}')\n",
    "print(f'F1 Score: {f1:.4f}')"
   ],
   "metadata": {
    "collapsed": false,
    "ExecuteTime": {
     "end_time": "2024-09-24T19:31:13.615706500Z",
     "start_time": "2024-09-24T19:31:13.489514400Z"
    }
   },
   "id": "7b2579aea7b05d50"
  },
  {
   "cell_type": "code",
   "execution_count": 224,
   "outputs": [
    {
     "name": "stdout",
     "output_type": "stream",
     "text": [
      "ROC AUC: 0.5103\n"
     ]
    },
    {
     "data": {
      "text/plain": "<Figure size 640x480 with 1 Axes>",
      "image/png": "[encoded data removed]"
     },
     "metadata": {},
     "output_type": "display_data"
    }
   ],
   "source": [
    "y_pred_prob = model.predict_proba(X_test)[:,1]\n",
    "roc_auc = roc_auc_score(y_test, predictions, multi_class='ovr')\n",
    "\n",
    "print(f'ROC AUC: {roc_auc:.4f}')\n",
    "\n",
    "# Plotting ROC Curve for one class (e.g., class 0)\n",
    "fpr, tpr, _ = roc_curve(y_test == 0, y_pred_prob)\n",
    "plt.plot(fpr, tpr, label='Class 0 ROC curve')\n",
    "plt.xlabel('False Positive Rate')\n",
    "plt.ylabel('True Positive Rate')\n",
    "plt.title('ROC Curve')\n",
    "plt.legend(loc='best')\n",
    "plt.show()"
   ],
   "metadata": {
    "collapsed": false,
    "ExecuteTime": {
     "end_time": "2024-09-24T19:31:16.992739700Z",
     "start_time": "2024-09-24T19:31:16.657721300Z"
    }
   },
   "id": "290d270532bb634d"
  },
  {
   "cell_type": "markdown",
   "source": [
    "Based on these metrics, the model kind of stinks! But, we can still implement it as a proof of concept. After evaluating some importance and a case study, we will revisit the model itself"
   ],
   "metadata": {
    "collapsed": false
   },
   "id": "d8707c6c0fadaa61"
  },
  {
   "cell_type": "markdown",
   "source": [
    "Now let's see which variables are most important"
   ],
   "metadata": {
    "collapsed": false
   },
   "id": "59883b56b0fd97ba"
  },
  {
   "cell_type": "code",
   "execution_count": 225,
   "outputs": [
    {
     "data": {
      "text/plain": "<Axes: title={'center': 'Feature importance'}, xlabel='F score', ylabel='Features'>"
     },
     "execution_count": 225,
     "metadata": {},
     "output_type": "execute_result"
    },
    {
     "data": {
      "text/plain": "<Figure size 640x480 with 1 Axes>",
      "image/png": "[encoded data removed]"
     },
     "metadata": {},
     "output_type": "display_data"
    }
   ],
   "source": [
    "xgboost.plot_importance(model, max_num_features=20)"
   ],
   "metadata": {
    "collapsed": false,
    "ExecuteTime": {
     "end_time": "2024-09-24T19:31:24.640928200Z",
     "start_time": "2024-09-24T19:31:24.079785400Z"
    }
   },
   "id": "b7401c717a77b876"
  },
  {
   "cell_type": "markdown",
   "source": [
    "Now for a demonstration on calculating stuff+, let's select a few pitches from the data set, calculate their whiff percentage, and divide that by the average predicted whiff percentage for all the pitches"
   ],
   "metadata": {
    "collapsed": false
   },
   "id": "7979efed411a3ea"
  },
  {
   "cell_type": "code",
   "execution_count": 226,
   "outputs": [
    {
     "name": "stdout",
     "output_type": "stream",
     "text": [
      "0.08966348\n",
      "[ 61.26038   121.30586     2.1017108  64.3696    416.9105     77.31175\n",
      "  13.465659  136.22362     5.8828626  69.12036  ]\n"
     ]
    }
   ],
   "source": [
    "all_preds = model.predict_proba(fastballs_X)[:,1]\n",
    "mean_pred = np.mean(all_preds)\n",
    "\n",
    "print(mean_pred)\n",
    "\n",
    "sample = fastballs_X.sample(n=10)\n",
    "\n",
    "sample_preds = model.predict_proba(sample)[:,1]\n",
    "\n",
    "stuff = sample_preds/mean_pred\n",
    "\n",
    "print(stuff*100)"
   ],
   "metadata": {
    "collapsed": false,
    "ExecuteTime": {
     "end_time": "2024-09-24T19:31:29.593585Z",
     "start_time": "2024-09-24T19:31:29.353736400Z"
    }
   },
   "id": "34c904bfeb4ffe4c"
  },
  {
   "cell_type": "markdown",
   "source": [
    "Each of these values represents the Stuff+ for that pitch, defined by predicted whiff% / average whiff%. This will mean a lot more if we average all the values for each pitcher "
   ],
   "metadata": {
    "collapsed": false
   },
   "id": "1524428fed45d518"
  },
  {
   "cell_type": "code",
   "execution_count": 227,
   "outputs": [],
   "source": [
    "# Get unique values\n",
    "unique_values = fastballs['Pitcher'].unique()\n",
    "\n",
    "# Create a dictionary to store subsets\n",
    "subsets = {value: fastballs[fastballs['Pitcher'] == value] for value in unique_values}"
   ],
   "metadata": {
    "collapsed": false,
    "ExecuteTime": {
     "end_time": "2024-09-24T19:32:07.842450700Z",
     "start_time": "2024-09-24T19:31:31.486447400Z"
    }
   },
   "id": "e0445a6483b668ed"
  },
  {
   "cell_type": "code",
   "execution_count": 155,
   "outputs": [
    {
     "name": "stdout",
     "output_type": "stream",
     "text": [
      "Tanner Bauman fastball stuff+:77.16925811767578\n"
     ]
    }
   ],
   "source": [
    "t_bauman = subsets['Bauman, Tanner']\n",
    "t_bauman_X = t_bauman[preds]\n",
    "\n",
    "whiff_preds = model.predict_proba(t_bauman_X)[:,1]\n",
    "\n",
    "stuff = whiff_preds/mean_pred\n",
    "\n",
    "print(f\"Tanner Bauman fastball stuff+:{np.mean(stuff*100)}\")"
   ],
   "metadata": {
    "collapsed": false,
    "ExecuteTime": {
     "end_time": "2024-09-24T14:13:41.402952Z",
     "start_time": "2024-09-24T14:13:41.339651900Z"
    }
   },
   "id": "608c3166f249410a"
  },
  {
   "cell_type": "markdown",
   "source": [
    "Now, this lumps in all of his fastballs. Let's see if he throws multiple types of fastballs and see how they all stack up"
   ],
   "metadata": {
    "collapsed": false
   },
   "id": "b99e597eb3d3178b"
  },
  {
   "cell_type": "code",
   "execution_count": 156,
   "outputs": [
    {
     "name": "stdout",
     "output_type": "stream",
     "text": [
      "['Fastball' 'Sinker']\n"
     ]
    }
   ],
   "source": [
    "print(t_bauman['TaggedPitchType'].unique())"
   ],
   "metadata": {
    "collapsed": false,
    "ExecuteTime": {
     "end_time": "2024-09-24T14:13:44.863751400Z",
     "start_time": "2024-09-24T14:13:44.832000600Z"
    }
   },
   "id": "23d6e3cf16b08b1a"
  },
  {
   "cell_type": "markdown",
   "source": [
    "Seemingly he throws a sinker and a four-seamer. We can see how both of these stack up against all other fastballs. Obviously this is not ideal (we want to compare sinkers to sinkers, etc.) but it will do for now"
   ],
   "metadata": {
    "collapsed": false
   },
   "id": "e6e53239dfc8799c"
  },
  {
   "cell_type": "code",
   "execution_count": 157,
   "outputs": [
    {
     "name": "stdout",
     "output_type": "stream",
     "text": [
      "94.22348141670227\n"
     ]
    }
   ],
   "source": [
    "t_bauman_sinks = t_bauman[t_bauman['TaggedPitchType']=='Sinker']\n",
    "t_bauman_sinks_X = t_bauman_sinks[preds]\n",
    "\n",
    "sink_whiff_pred = model.predict_proba(t_bauman_sinks_X)[:,1]\n",
    "\n",
    "sink_stuff = np.mean(sink_whiff_pred/mean_pred)*100\n",
    "print(sink_stuff)"
   ],
   "metadata": {
    "collapsed": false,
    "ExecuteTime": {
     "end_time": "2024-09-24T14:13:46.321543600Z",
     "start_time": "2024-09-24T14:13:46.292967700Z"
    }
   },
   "id": "8a19fbb80919ecac"
  },
  {
   "cell_type": "markdown",
   "source": [
    "We can do the same for his 'fastballs' (assuming four-seamer)"
   ],
   "metadata": {
    "collapsed": false
   },
   "id": "a39ab1cccd1bcd8b"
  },
  {
   "cell_type": "code",
   "execution_count": 158,
   "outputs": [
    {
     "name": "stdout",
     "output_type": "stream",
     "text": [
      "64.45404291152954\n"
     ]
    }
   ],
   "source": [
    "t_bauman_four = t_bauman[t_bauman['TaggedPitchType']=='Fastball']\n",
    "t_bauman_four_X = t_bauman_four[preds]\n",
    "\n",
    "four_whiff_pred = model.predict_proba(t_bauman_four_X)[:,1]\n",
    "\n",
    "four_stuff = np.mean(four_whiff_pred/mean_pred)*100\n",
    "print(four_stuff)"
   ],
   "metadata": {
    "collapsed": false,
    "ExecuteTime": {
     "end_time": "2024-09-24T14:13:51.859595600Z",
     "start_time": "2024-09-24T14:13:51.780955300Z"
    }
   },
   "id": "ad6a6e98db3451ad"
  },
  {
   "cell_type": "markdown",
   "source": [
    "We can do the same thing for another selected pitcher"
   ],
   "metadata": {
    "collapsed": false
   },
   "id": "3fd18abfa4fab9c1"
  },
  {
   "cell_type": "code",
   "execution_count": 228,
   "outputs": [
    {
     "name": "stdout",
     "output_type": "stream",
     "text": [
      "Ben Schorr fastball stuff+:73.8367919921875\n"
     ]
    }
   ],
   "source": [
    "b_schorr = subsets['Schorr, Ben']\n",
    "b_schorr_X = b_schorr[preds]\n",
    "\n",
    "bs_whiff_preds = model.predict_proba(b_schorr_X)[:,1]\n",
    "\n",
    "stuff = bs_whiff_preds/mean_pred\n",
    "\n",
    "print(f\"Ben Schorr fastball stuff+:{np.mean(stuff*100)}\")"
   ],
   "metadata": {
    "collapsed": false,
    "ExecuteTime": {
     "end_time": "2024-09-24T19:32:52.185535500Z",
     "start_time": "2024-09-24T19:32:52.121214500Z"
    }
   },
   "id": "f5c584eae64b07a"
  },
  {
   "cell_type": "code",
   "execution_count": 229,
   "outputs": [
    {
     "name": "stdout",
     "output_type": "stream",
     "text": [
      "['FourSeamFastBall' 'Cutter' 'Fastball']\n"
     ]
    }
   ],
   "source": [
    "print(b_schorr['TaggedPitchType'].unique())"
   ],
   "metadata": {
    "collapsed": false,
    "ExecuteTime": {
     "end_time": "2024-09-24T19:33:17.895989700Z",
     "start_time": "2024-09-24T19:33:17.862629700Z"
    }
   },
   "id": "e36d4816c287a8c1"
  },
  {
   "cell_type": "code",
   "execution_count": 230,
   "outputs": [
    {
     "name": "stdout",
     "output_type": "stream",
     "text": [
      "94.22348141670227\n"
     ]
    }
   ],
   "source": [
    "b_schorr_cuts = b_schorr[b_schorr['TaggedPitchType']=='Cutter']\n",
    "b_schorr_cuts_X = b_schorr_cuts[preds]\n",
    "\n",
    "bs_cut_whiff_pred = model.predict_proba(b_schorr_cuts_X)[:,1]\n",
    "\n",
    "bs_cut_stuff = np.mean(sink_whiff_pred/mean_pred)*100\n",
    "print(sink_stuff)"
   ],
   "metadata": {
    "collapsed": false,
    "ExecuteTime": {
     "end_time": "2024-09-24T19:34:36.841355200Z",
     "start_time": "2024-09-24T19:34:36.774706Z"
    }
   },
   "id": "deaa731c1ed0783f"
  }
 ],
 "metadata": {
  "kernelspec": {
   "display_name": "Python 3",
   "language": "python",
   "name": "python3"
  },
  "language_info": {
   "codemirror_mode": {
    "name": "ipython",
    "version": 2
   },
   "file_extension": ".py",
   "mimetype": "text/x-python",
   "name": "python",
   "nbconvert_exporter": "python",
   "pygments_lexer": "ipython2",
   "version": "2.7.6"
  }
 },
 "nbformat": 4,
 "nbformat_minor": 5
}
