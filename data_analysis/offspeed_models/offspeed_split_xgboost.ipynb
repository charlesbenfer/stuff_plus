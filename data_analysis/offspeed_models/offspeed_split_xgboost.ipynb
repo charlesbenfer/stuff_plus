{
 "cells": [
  {
   "cell_type": "code",
   "id": "initial_id",
   "metadata": {
    "collapsed": true
   },
   "source": [
    "#Packages\n",
    "import os\n",
    "import pandas as pd\n",
    "import numpy as np\n",
    "import xgboost\n",
    "from xgboost import XGBClassifier\n",
    "from sklearn.model_selection import train_test_split\n",
    "from sklearn.metrics import accuracy_score, confusion_matrix, precision_score, recall_score, f1_score, roc_auc_score, roc_curve\n",
    "from hyperopt import STATUS_OK, Trials, fmin, hp, tpe\n",
    "import matplotlib.pyplot as plt\n",
    "import seaborn as sns\n",
    "import shap"
   ],
   "outputs": [],
   "execution_count": null
  },
  {
   "metadata": {},
   "cell_type": "code",
   "source": [
    "#Get Data\n",
    "csv_dir = '../../SEC Trackman Data/'\n",
    "all_files = [os.path.join(csv_dir, f) for f in os.listdir(csv_dir) if f.endswith('.csv')]\n",
    "\n",
    "df_list = []\n",
    "\n",
    "for file in all_files:\n",
    "    df = pd.read_csv(file)\n",
    "    df_list.append(df)\n",
    "\n",
    "all_pitches = pd.concat(df_list, ignore_index=True)\n",
    "\n",
    "print(all_pitches.shape)\n",
    "print(all_pitches.columns)"
   ],
   "id": "bb97b432faef0f34",
   "outputs": [],
   "execution_count": null
  },
  {
   "metadata": {},
   "cell_type": "code",
   "source": [
    "#Get all offspeed\n",
    "os = all_pitches[all_pitches['TaggedPitchType'].isin(['ChangeUp', 'Splitter'])]\n",
    "print(os.shape)"
   ],
   "id": "c32b2b699b71de05",
   "outputs": [],
   "execution_count": null
  },
  {
   "metadata": {},
   "cell_type": "code",
   "source": [
    "#Subset offspeed into platoon splits\n",
    "os_rr = os[(os['PitcherThrows'] == 'Right') & (os['BatterSide'] == 'Right')]\n",
    "os_rl = os[(os['PitcherThrows'] == 'Right') & (os['BatterSide'] == 'Left')]\n",
    "os_lr = os[(os['PitcherThrows'] == 'Left') & (os['BatterSide'] == 'Right')]\n",
    "os_ll = os[(os['PitcherThrows'] == 'Left') & (os['BatterSide'] == 'Left')]\n",
    "\n",
    "print(os_rr.shape)\n",
    "print(os_rl.shape)\n",
    "print(os_lr.shape)\n",
    "print(os_ll.shape)"
   ],
   "id": "95d891b443a7b9af",
   "outputs": [],
   "execution_count": null
  },
  {
   "metadata": {},
   "cell_type": "code",
   "source": [
    "#Whiffs\n",
    "os_rr['whiff'] = np.where(os_rr['PitchCall']=='StrikeSwinging',1,0)\n",
    "os_rl['whiff'] = np.where(os_rl['PitchCall']=='StrikeSwinging',1,0)\n",
    "os_lr['whiff'] = np.where(os_lr['PitchCall']=='StrikeSwinging',1,0)\n",
    "os_ll['whiff'] = np.where(os_ll['PitchCall']=='StrikeSwinging',1,0)"
   ],
   "id": "1dfba7e90741fb73",
   "outputs": [],
   "execution_count": null
  },
  {
   "metadata": {},
   "cell_type": "code",
   "source": "preds = ['RelSpeed','VertRelAngle','HorzRelAngle','SpinRate','SpinAxis','RelHeight','RelSide','Extension','VertBreak','InducedVertBreak','HorzBreak','ZoneSpeed','VertApprAngle','HorzApprAngle','ZoneTime','pfxx','pfxz','x0','y0','z0','vx0','vy0','vz0','ax0','ay0','az0','SpeedDrop','PitchTrajectoryXc1','PitchTrajectoryXc2','PitchTrajectoryYc0','PitchTrajectoryYc1','PitchTrajectoryYc2','PitchTrajectoryZc0','PitchTrajectoryZc1','PitchTrajectoryZc2']",
   "id": "938682636631447f",
   "outputs": [],
   "execution_count": null
  },
  {
   "metadata": {},
   "cell_type": "markdown",
   "source": "Righty vs. Righty Split",
   "id": "6cb31f608cd8bc9"
  },
  {
   "metadata": {},
   "cell_type": "code",
   "source": [
    "os_rr_X = os_rr[preds]\n",
    "os_rr_y = os_rr['whiff']"
   ],
   "id": "a0eabea1f5ba9ede",
   "outputs": [],
   "execution_count": null
  },
  {
   "metadata": {},
   "cell_type": "code",
   "source": [
    "#Train Model: RHP vs RHB\n",
    "X_train, X_test, y_train, y_test = train_test_split(os_rr_X, os_rr_y, test_size=.33, random_state=25)\n",
    "\n",
    "model = XGBClassifier()\n",
    "model.fit(X_train, y_train)\n",
    "\n",
    "y_pred = model.predict(X_test)\n",
    "predictions = [round(value) for value in y_pred]\n",
    "\n",
    "accuracy = accuracy_score(y_test, predictions)\n",
    "print(\"Accuracy: %.2f%%\" % (accuracy * 100.0))"
   ],
   "id": "7367bd6ce26128",
   "outputs": [],
   "execution_count": null
  },
  {
   "metadata": {},
   "cell_type": "code",
   "source": [
    "y_pred_prob = model.predict_proba(X_test)[:,1]\n",
    "roc_auc = roc_auc_score(y_test, predictions, multi_class='ovr')\n",
    "\n",
    "print(f'ROC AUC: {roc_auc:.4f}')\n",
    "\n",
    "# Plotting ROC Curve for one class (e.g., class 0)\n",
    "fpr, tpr, _ = roc_curve(y_test == 1, y_pred_prob)\n",
    "plt.plot(fpr, tpr, label='Class 0 ROC curve')\n",
    "plt.xlabel('False Positive Rate')\n",
    "plt.ylabel('True Positive Rate')\n",
    "plt.title('ROC Curve')\n",
    "plt.legend(loc='best')\n",
    "plt.show()"
   ],
   "id": "123c82f6c2e5b9da",
   "outputs": [],
   "execution_count": null
  },
  {
   "metadata": {},
   "cell_type": "code",
   "source": [
    "#Auburn Subset\n",
    "aub_os_rr = os_rr[os_rr['PitcherTeam']=='AUB_TIG']\n",
    "print(aub_os_rr.shape)"
   ],
   "id": "97e7b3ef662a0a52",
   "outputs": [],
   "execution_count": null
  },
  {
   "metadata": {},
   "cell_type": "code",
   "source": [
    "# Get unique values\n",
    "unique_values = os_rr['Pitcher'].unique()\n",
    "aub_unique_values = aub_os_rr['Pitcher'].unique()\n",
    "\n",
    "#Print list of Auburn pitchers for selected split\n",
    "print(aub_unique_values)\n",
    "\n",
    "# Create a dictionary to store subsets\n",
    "subsets = {value: os_rr[os_rr['Pitcher'] == value] for value in unique_values}\n",
    "aub_subsets = {value: os_rr[os_rr['Pitcher'] == value] for value in aub_unique_values}"
   ],
   "id": "fded187b77520e9b",
   "outputs": [],
   "execution_count": null
  },
  {
   "metadata": {},
   "cell_type": "code",
   "source": [
    "def aub_rr_os_stuff(name):\n",
    "    \n",
    "    preds = ['RelSpeed','VertRelAngle','HorzRelAngle','SpinRate','SpinAxis','RelHeight','RelSide','Extension','VertBreak','InducedVertBreak','HorzBreak','ZoneSpeed','VertApprAngle','HorzApprAngle','ZoneTime','pfxx','pfxz','x0','y0','z0','vx0','vy0','vz0','ax0','ay0','az0','SpeedDrop','PitchTrajectoryXc1','PitchTrajectoryXc2','PitchTrajectoryYc0','PitchTrajectoryYc1','PitchTrajectoryYc2','PitchTrajectoryZc0','PitchTrajectoryZc1','PitchTrajectoryZc2']\n",
    "    \n",
    "    all_preds = model.predict_proba(os_rr_X)[:,1]\n",
    "    mean_pred = np.mean(all_preds)\n",
    "\n",
    "    pitcher = aub_subsets[name]\n",
    "    pitcher_x = pitcher[preds]\n",
    "\n",
    "    whiff_preds = model.predict_proba(pitcher_x)[:,1]\n",
    "\n",
    "    stuff = whiff_preds/mean_pred\n",
    "    \n",
    "    print(f\"{name} offspeed rr stuff+: {np.mean(stuff * 100)}\")\n",
    "\n",
    "    \n"
   ],
   "id": "eef2b2323ee4d928",
   "outputs": [],
   "execution_count": null
  },
  {
   "metadata": {},
   "cell_type": "code",
   "source": [
    "#Stuff+ for selected Auburn pitchers offspeed in RHP v RHB split\n",
    "for pitcher in aub_unique_values:\n",
    "    aub_rr_os_stuff(pitcher)"
   ],
   "id": "6150875ac2516747",
   "outputs": [],
   "execution_count": null
  },
  {
   "metadata": {},
   "cell_type": "markdown",
   "source": "Righty vs. Lefty Split",
   "id": "ace1f67caeac8c90"
  },
  {
   "metadata": {},
   "cell_type": "code",
   "source": [
    "os_rl_X = os_rl[preds]\n",
    "os_rl_y = os_rl['whiff']"
   ],
   "id": "effc5a3896600f48",
   "outputs": [],
   "execution_count": null
  },
  {
   "metadata": {},
   "cell_type": "code",
   "source": [
    "#Train Model: RHP vs LHB\n",
    "X_train, X_test, y_train, y_test = train_test_split(os_rl_X, os_rl_y, test_size=.33, random_state=25)\n",
    "\n",
    "model = XGBClassifier()\n",
    "model.fit(X_train, y_train)\n",
    "\n",
    "y_pred = model.predict(X_test)\n",
    "predictions = [round(value) for value in y_pred]\n",
    "\n",
    "accuracy = accuracy_score(y_test, predictions)\n",
    "print(\"Accuracy: %.2f%%\" % (accuracy * 100.0))"
   ],
   "id": "5a9b9c9e56aab2e7",
   "outputs": [],
   "execution_count": null
  },
  {
   "metadata": {},
   "cell_type": "code",
   "source": [
    "#Auburn Subset\n",
    "aub_os_rl = os_rl[os_rl['PitcherTeam']=='AUB_TIG']\n",
    "print(aub_os_rl.shape)"
   ],
   "id": "8cba2116accdb010",
   "outputs": [],
   "execution_count": null
  },
  {
   "metadata": {},
   "cell_type": "code",
   "source": [
    "# Get unique values\n",
    "unique_values = os_rl['Pitcher'].unique()\n",
    "aub_unique_values = aub_os_rl['Pitcher'].unique()\n",
    "\n",
    "#Print list of Auburn pitchers for selected split\n",
    "print(aub_unique_values)\n",
    "\n",
    "# Create a dictionary to store subsets\n",
    "subsets = {value: os_rl[os_rl['Pitcher'] == value] for value in unique_values}\n",
    "aub_subsets = {value: os_rl[os_rl['Pitcher'] == value] for value in aub_unique_values}"
   ],
   "id": "566a45cde8a4ebaf",
   "outputs": [],
   "execution_count": null
  },
  {
   "metadata": {},
   "cell_type": "code",
   "source": [
    "def aub_rl_os_stuff(name):\n",
    "    \n",
    "    preds = ['RelSpeed','VertRelAngle','HorzRelAngle','SpinRate','SpinAxis','RelHeight','RelSide','Extension','VertBreak','InducedVertBreak','HorzBreak','ZoneSpeed','VertApprAngle','HorzApprAngle','ZoneTime','pfxx','pfxz','x0','y0','z0','vx0','vy0','vz0','ax0','ay0','az0','SpeedDrop','PitchTrajectoryXc1','PitchTrajectoryXc2','PitchTrajectoryYc0','PitchTrajectoryYc1','PitchTrajectoryYc2','PitchTrajectoryZc0','PitchTrajectoryZc1','PitchTrajectoryZc2']\n",
    "    \n",
    "    all_preds = model.predict_proba(os_rl_X)[:,1]\n",
    "    mean_pred = np.mean(all_preds)\n",
    "\n",
    "    pitcher = aub_subsets[name]\n",
    "    pitcher_x = pitcher[preds]\n",
    "\n",
    "    whiff_preds = model.predict_proba(pitcher_x)[:,1]\n",
    "\n",
    "    stuff = whiff_preds/mean_pred\n",
    "    \n",
    "    print(f\"{name} offspeed rl stuff+: {np.mean(stuff * 100)}\")\n"
   ],
   "id": "5f15df4c5877e797",
   "outputs": [],
   "execution_count": null
  },
  {
   "metadata": {},
   "cell_type": "code",
   "source": [
    "#Stuff+ for selected Auburn pitchers offspeed in RHP v LHB split\n",
    "for pitcher in aub_unique_values:\n",
    "    aub_rl_os_stuff(pitcher)"
   ],
   "id": "faeb913be1a27c7d",
   "outputs": [],
   "execution_count": null
  },
  {
   "metadata": {},
   "cell_type": "markdown",
   "source": "Lefty vs. Righty Splits",
   "id": "25234c877477ae88"
  },
  {
   "metadata": {},
   "cell_type": "code",
   "source": [
    "os_lr_X = os_lr[preds]\n",
    "os_lr_y = os_lr['whiff']"
   ],
   "id": "dd835d000368d3cb",
   "outputs": [],
   "execution_count": null
  },
  {
   "metadata": {},
   "cell_type": "code",
   "source": [
    "#Train Model: LHP vs RHB\n",
    "X_train, X_test, y_train, y_test = train_test_split(os_lr_X, os_lr_y, test_size=.33, random_state=25)\n",
    "\n",
    "model = XGBClassifier()\n",
    "model.fit(X_train, y_train)\n",
    "\n",
    "y_pred = model.predict(X_test)\n",
    "predictions = [round(value) for value in y_pred]\n",
    "\n",
    "accuracy = accuracy_score(y_test, predictions)\n",
    "print(\"Accuracy: %.2f%%\" % (accuracy * 100.0))"
   ],
   "id": "eb2c7d722d0636d7",
   "outputs": [],
   "execution_count": null
  },
  {
   "metadata": {},
   "cell_type": "code",
   "source": [
    "#Auburn Subset\n",
    "aub_os_lr = os_lr[os_lr['PitcherTeam']=='AUB_TIG']\n",
    "print(aub_os_lr.shape)"
   ],
   "id": "c65727450d3768bb",
   "outputs": [],
   "execution_count": null
  },
  {
   "metadata": {},
   "cell_type": "code",
   "source": [
    "# Get unique values\n",
    "unique_values = os_lr['Pitcher'].unique()\n",
    "aub_unique_values = aub_os_lr['Pitcher'].unique()\n",
    "\n",
    "#Print list of Auburn pitchers for selected split\n",
    "print(aub_unique_values)\n",
    "\n",
    "# Create a dictionary to store subsets\n",
    "subsets = {value: os_lr[os_lr['Pitcher'] == value] for value in unique_values}\n",
    "aub_subsets = {value: os_lr[os_lr['Pitcher'] == value] for value in aub_unique_values}\n"
   ],
   "id": "b7d59d49c7f2e4b9",
   "outputs": [],
   "execution_count": null
  },
  {
   "metadata": {},
   "cell_type": "code",
   "source": [
    "def aub_lr_os_stuff(name):\n",
    "    \n",
    "    preds = ['RelSpeed','VertRelAngle','HorzRelAngle','SpinRate','SpinAxis','RelHeight','RelSide','Extension','VertBreak','InducedVertBreak','HorzBreak','ZoneSpeed','VertApprAngle','HorzApprAngle','ZoneTime','pfxx','pfxz','x0','y0','z0','vx0','vy0','vz0','ax0','ay0','az0','SpeedDrop','PitchTrajectoryXc1','PitchTrajectoryXc2','PitchTrajectoryYc0','PitchTrajectoryYc1','PitchTrajectoryYc2','PitchTrajectoryZc0','PitchTrajectoryZc1','PitchTrajectoryZc2']\n",
    "    \n",
    "    all_preds = model.predict_proba(os_lr_X)[:,1]\n",
    "    mean_pred = np.mean(all_preds)\n",
    "\n",
    "    pitcher = aub_subsets[name]\n",
    "    pitcher_x = pitcher[preds]\n",
    "\n",
    "    whiff_preds = model.predict_proba(pitcher_x)[:,1]\n",
    "\n",
    "    stuff = whiff_preds/mean_pred\n",
    "    \n",
    "    print(f\"{name} offspeed lr stuff+: {np.mean(stuff * 100)}\")\n"
   ],
   "id": "1476353184f42661",
   "outputs": [],
   "execution_count": null
  },
  {
   "metadata": {},
   "cell_type": "code",
   "source": [
    "#Stuff+ for selected Auburn pitchers offspeed in LHP v RHB split\n",
    "for pitcher in aub_unique_values:\n",
    "    aub_lr_os_stuff(pitcher)"
   ],
   "id": "139746ca6519a33",
   "outputs": [],
   "execution_count": null
  },
  {
   "metadata": {},
   "cell_type": "markdown",
   "source": "Lefty vs. Lefty Splits",
   "id": "702a30fe09ecae00"
  },
  {
   "metadata": {},
   "cell_type": "code",
   "source": [
    "os_ll_X = os_ll[preds]\n",
    "os_ll_y = os_ll['whiff']"
   ],
   "id": "5741614095e43850",
   "outputs": [],
   "execution_count": null
  },
  {
   "metadata": {},
   "cell_type": "code",
   "source": [
    "#Train Model: LHP vs LHB\n",
    "X_train, X_test, y_train, y_test = train_test_split(os_ll_X, os_ll_y, test_size=.33, random_state=25)\n",
    "\n",
    "model = XGBClassifier()\n",
    "model.fit(X_train, y_train)\n",
    "\n",
    "y_pred = model.predict(X_test)\n",
    "predictions = [round(value) for value in y_pred]\n",
    "\n",
    "accuracy = accuracy_score(y_test, predictions)\n",
    "print(\"Accuracy: %.2f%%\" % (accuracy * 100.0))"
   ],
   "id": "e9553e43486a5fad",
   "outputs": [],
   "execution_count": null
  },
  {
   "metadata": {},
   "cell_type": "code",
   "source": [
    "#Auburn Subset\n",
    "aub_os_ll = os_ll[os_ll['PitcherTeam']=='AUB_TIG']\n",
    "print(aub_os_ll.shape)"
   ],
   "id": "5cc704f0676940d5",
   "outputs": [],
   "execution_count": null
  },
  {
   "metadata": {},
   "cell_type": "code",
   "source": [
    "# Get unique values\n",
    "unique_values = os_ll['Pitcher'].unique()\n",
    "aub_unique_values = aub_os_ll['Pitcher'].unique()\n",
    "\n",
    "#Print list of Auburn pitchers for selected split\n",
    "print(aub_unique_values)\n",
    "\n",
    "# Create a dictionary to store subsets\n",
    "subsets = {value: os_ll[os_ll['Pitcher'] == value] for value in unique_values}\n",
    "aub_subsets = {value: os_ll[os_ll['Pitcher'] == value] for value in aub_unique_values}\n"
   ],
   "id": "582c97e5e6779452",
   "outputs": [],
   "execution_count": null
  },
  {
   "metadata": {},
   "cell_type": "code",
   "source": [
    "def aub_ll_os_stuff(name):\n",
    "    \n",
    "    preds = ['RelSpeed','VertRelAngle','HorzRelAngle','SpinRate','SpinAxis','RelHeight','RelSide','Extension','VertBreak','InducedVertBreak','HorzBreak','ZoneSpeed','VertApprAngle','HorzApprAngle','ZoneTime','pfxx','pfxz','x0','y0','z0','vx0','vy0','vz0','ax0','ay0','az0','SpeedDrop','PitchTrajectoryXc1','PitchTrajectoryXc2','PitchTrajectoryYc0','PitchTrajectoryYc1','PitchTrajectoryYc2','PitchTrajectoryZc0','PitchTrajectoryZc1','PitchTrajectoryZc2']\n",
    "    \n",
    "    all_preds = model.predict_proba(os_ll_X)[:,1]\n",
    "    mean_pred = np.mean(all_preds)\n",
    "\n",
    "    pitcher = aub_subsets[name]\n",
    "    pitcher_x = pitcher[preds]\n",
    "\n",
    "    whiff_preds = model.predict_proba(pitcher_x)[:,1]\n",
    "\n",
    "    stuff = whiff_preds/mean_pred\n",
    "    \n",
    "    print(f\"{name} offspeed ll stuff+: {np.mean(stuff * 100)}\")\n"
   ],
   "id": "899ca4b82adfed11",
   "outputs": [],
   "execution_count": null
  },
  {
   "metadata": {},
   "cell_type": "code",
   "source": [
    "#Stuff+ for selected Auburn pitchers offspeed in LHP v LHB split\n",
    "for pitcher in aub_unique_values:\n",
    "    aub_ll_os_stuff(pitcher)"
   ],
   "id": "fe0b65f41dd760f",
   "outputs": [],
   "execution_count": null
  },
  {
   "metadata": {},
   "cell_type": "code",
   "source": "aub_subsets['Crotchfelt, Zach']",
   "id": "776f910351c7083c",
   "outputs": [],
   "execution_count": null
  }
 ],
 "metadata": {
  "kernelspec": {
   "display_name": "Python 3",
   "language": "python",
   "name": "python3"
  },
  "language_info": {
   "codemirror_mode": {
    "name": "ipython",
    "version": 2
   },
   "file_extension": ".py",
   "mimetype": "text/x-python",
   "name": "python",
   "nbconvert_exporter": "python",
   "pygments_lexer": "ipython2",
   "version": "2.7.6"
  }
 },
 "nbformat": 4,
 "nbformat_minor": 5
}
