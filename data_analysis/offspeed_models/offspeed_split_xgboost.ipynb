{
 "cells": [
  {
   "cell_type": "code",
   "id": "initial_id",
   "metadata": {
    "collapsed": true,
    "ExecuteTime": {
     "end_time": "2024-10-05T00:17:33.556953Z",
     "start_time": "2024-10-05T00:17:32.226452Z"
    }
   },
   "source": [
    "#Packages\n",
    "import os\n",
    "import pandas as pd\n",
    "import numpy as np\n",
    "import xgboost\n",
    "from xgboost import XGBClassifier\n",
    "from sklearn.model_selection import train_test_split\n",
    "from sklearn.metrics import accuracy_score, confusion_matrix, precision_score, recall_score, f1_score, roc_auc_score, roc_curve\n",
    "from hyperopt import STATUS_OK, Trials, fmin, hp, tpe\n",
    "import matplotlib.pyplot as plt\n",
    "import seaborn as sns\n",
    "import shap"
   ],
   "outputs": [],
   "execution_count": 1
  },
  {
   "metadata": {
    "ExecuteTime": {
     "end_time": "2024-10-05T00:17:50.909611Z",
     "start_time": "2024-10-05T00:17:42.847986Z"
    }
   },
   "cell_type": "code",
   "source": [
    "#Get Data\n",
    "csv_dir = '../SEC Trackman Data/'\n",
    "all_files = [os.path.join(csv_dir, f) for f in os.listdir(csv_dir) if f.endswith('.csv')]\n",
    "\n",
    "df_list = []\n",
    "\n",
    "for file in all_files:\n",
    "    df = pd.read_csv(file)\n",
    "    df_list.append(df)\n",
    "\n",
    "all_pitches = pd.concat(df_list, ignore_index=True)\n",
    "\n",
    "print(all_pitches.shape)\n",
    "print(all_pitches.columns)"
   ],
   "id": "bb97b432faef0f34",
   "outputs": [
    {
     "name": "stdout",
     "output_type": "stream",
     "text": [
      "(270589, 167)\n",
      "Index(['PitchNo', 'Date', 'Time', 'PAofInning', 'PitchofPA', 'Pitcher',\n",
      "       'PitcherId', 'PitcherThrows', 'PitcherTeam', 'Batter',\n",
      "       ...\n",
      "       'ThrowTrajectoryZc1', 'ThrowTrajectoryZc2', 'PitchReleaseConfidence',\n",
      "       'PitchLocationConfidence', 'PitchMovementConfidence',\n",
      "       'HitLaunchConfidence', 'HitLandingConfidence',\n",
      "       'CatcherThrowCatchConfidence', 'CatcherThrowReleaseConfidence',\n",
      "       'CatcherThrowLocationConfidence'],\n",
      "      dtype='object', length=167)\n"
     ]
    }
   ],
   "execution_count": 2
  },
  {
   "metadata": {
    "ExecuteTime": {
     "end_time": "2024-10-05T00:18:53.068490Z",
     "start_time": "2024-10-05T00:18:53.000575Z"
    }
   },
   "cell_type": "code",
   "source": [
    "#Get all offspeed\n",
    "os = all_pitches[all_pitches['TaggedPitchType'].isin(['ChangeUp', 'Splitter'])]\n",
    "print(os.shape)"
   ],
   "id": "c32b2b699b71de05",
   "outputs": [
    {
     "name": "stdout",
     "output_type": "stream",
     "text": [
      "(31218, 167)\n"
     ]
    }
   ],
   "execution_count": 3
  },
  {
   "metadata": {
    "ExecuteTime": {
     "end_time": "2024-10-05T00:20:42.695789Z",
     "start_time": "2024-10-05T00:20:42.603490Z"
    }
   },
   "cell_type": "code",
   "source": [
    "#Subset offspeed into platoon splits\n",
    "os_rr = os[(os['PitcherThrows'] == 'Right') & (os['BatterSide'] == 'Right')]\n",
    "os_rl = os[(os['PitcherThrows'] == 'Right') & (os['BatterSide'] == 'Left')]\n",
    "os_lr = os[(os['PitcherThrows'] == 'Left') & (os['BatterSide'] == 'Right')]\n",
    "os_ll = os[(os['PitcherThrows'] == 'Left') & (os['BatterSide'] == 'Left')]\n",
    "\n",
    "print(os_rr.shape)\n",
    "print(os_rl.shape)\n",
    "print(os_lr.shape)\n",
    "print(os_ll.shape)"
   ],
   "id": "95d891b443a7b9af",
   "outputs": [
    {
     "name": "stdout",
     "output_type": "stream",
     "text": [
      "(6194, 167)\n",
      "(14470, 167)\n",
      "(9513, 167)\n",
      "(1019, 167)\n"
     ]
    }
   ],
   "execution_count": 4
  },
  {
   "metadata": {
    "ExecuteTime": {
     "end_time": "2024-10-05T00:21:13.568756Z",
     "start_time": "2024-10-05T00:21:13.537766Z"
    }
   },
   "cell_type": "code",
   "source": [
    "#Whiffs\n",
    "os_rr['whiff'] = np.where(os_rr['PitchCall']=='StrikeSwinging',1,0)\n",
    "os_rl['whiff'] = np.where(os_rl['PitchCall']=='StrikeSwinging',1,0)\n",
    "os_lr['whiff'] = np.where(os_lr['PitchCall']=='StrikeSwinging',1,0)\n",
    "os_ll['whiff'] = np.where(os_ll['PitchCall']=='StrikeSwinging',1,0)"
   ],
   "id": "1dfba7e90741fb73",
   "outputs": [
    {
     "name": "stderr",
     "output_type": "stream",
     "text": [
      "C:\\Users\\ethan\\AppData\\Local\\Temp\\ipykernel_2904\\893311075.py:2: SettingWithCopyWarning: \n",
      "A value is trying to be set on a copy of a slice from a DataFrame.\n",
      "Try using .loc[row_indexer,col_indexer] = value instead\n",
      "\n",
      "See the caveats in the documentation: https://pandas.pydata.org/pandas-docs/stable/user_guide/indexing.html#returning-a-view-versus-a-copy\n",
      "  os_rr['whiff'] = np.where(os_rr['PitchCall']=='StrikeSwinging',1,0)\n",
      "C:\\Users\\ethan\\AppData\\Local\\Temp\\ipykernel_2904\\893311075.py:3: SettingWithCopyWarning: \n",
      "A value is trying to be set on a copy of a slice from a DataFrame.\n",
      "Try using .loc[row_indexer,col_indexer] = value instead\n",
      "\n",
      "See the caveats in the documentation: https://pandas.pydata.org/pandas-docs/stable/user_guide/indexing.html#returning-a-view-versus-a-copy\n",
      "  os_rl['whiff'] = np.where(os_rl['PitchCall']=='StrikeSwinging',1,0)\n",
      "C:\\Users\\ethan\\AppData\\Local\\Temp\\ipykernel_2904\\893311075.py:4: SettingWithCopyWarning: \n",
      "A value is trying to be set on a copy of a slice from a DataFrame.\n",
      "Try using .loc[row_indexer,col_indexer] = value instead\n",
      "\n",
      "See the caveats in the documentation: https://pandas.pydata.org/pandas-docs/stable/user_guide/indexing.html#returning-a-view-versus-a-copy\n",
      "  os_lr['whiff'] = np.where(os_lr['PitchCall']=='StrikeSwinging',1,0)\n",
      "C:\\Users\\ethan\\AppData\\Local\\Temp\\ipykernel_2904\\893311075.py:5: SettingWithCopyWarning: \n",
      "A value is trying to be set on a copy of a slice from a DataFrame.\n",
      "Try using .loc[row_indexer,col_indexer] = value instead\n",
      "\n",
      "See the caveats in the documentation: https://pandas.pydata.org/pandas-docs/stable/user_guide/indexing.html#returning-a-view-versus-a-copy\n",
      "  os_ll['whiff'] = np.where(os_ll['PitchCall']=='StrikeSwinging',1,0)\n"
     ]
    }
   ],
   "execution_count": 5
  },
  {
   "metadata": {
    "ExecuteTime": {
     "end_time": "2024-10-05T00:21:26.059006Z",
     "start_time": "2024-10-05T00:21:26.037121Z"
    }
   },
   "cell_type": "code",
   "source": "preds = ['RelSpeed','VertRelAngle','HorzRelAngle','SpinRate','SpinAxis','RelHeight','RelSide','Extension','VertBreak','InducedVertBreak','HorzBreak','ZoneSpeed','VertApprAngle','HorzApprAngle','ZoneTime','pfxx','pfxz','x0','y0','z0','vx0','vy0','vz0','ax0','ay0','az0','SpeedDrop','PitchTrajectoryXc1','PitchTrajectoryXc2','PitchTrajectoryYc0','PitchTrajectoryYc1','PitchTrajectoryYc2','PitchTrajectoryZc0','PitchTrajectoryZc1','PitchTrajectoryZc2']",
   "id": "938682636631447f",
   "outputs": [],
   "execution_count": 6
  },
  {
   "metadata": {},
   "cell_type": "markdown",
   "source": "Righty vs. Righty Split",
   "id": "6cb31f608cd8bc9"
  },
  {
   "metadata": {
    "ExecuteTime": {
     "end_time": "2024-10-05T00:21:56.510100Z",
     "start_time": "2024-10-05T00:21:56.500847Z"
    }
   },
   "cell_type": "code",
   "source": [
    "os_rr_X = os_rr[preds]\n",
    "os_rr_y = os_rr['whiff']"
   ],
   "id": "a0eabea1f5ba9ede",
   "outputs": [],
   "execution_count": 7
  },
  {
   "metadata": {
    "ExecuteTime": {
     "end_time": "2024-10-05T00:22:10.542032Z",
     "start_time": "2024-10-05T00:22:10.281735Z"
    }
   },
   "cell_type": "code",
   "source": [
    "#Train Model: RHP vs RHB\n",
    "X_train, X_test, y_train, y_test = train_test_split(os_rr_X, os_rr_y, test_size=.33, random_state=25)\n",
    "\n",
    "model = XGBClassifier()\n",
    "model.fit(X_train, y_train)\n",
    "\n",
    "y_pred = model.predict(X_test)\n",
    "predictions = [round(value) for value in y_pred]\n",
    "\n",
    "accuracy = accuracy_score(y_test, predictions)\n",
    "print(\"Accuracy: %.2f%%\" % (accuracy * 100.0))"
   ],
   "id": "7367bd6ce26128",
   "outputs": [
    {
     "name": "stdout",
     "output_type": "stream",
     "text": [
      "Accuracy: 84.30%\n"
     ]
    }
   ],
   "execution_count": 8
  },
  {
   "metadata": {
    "ExecuteTime": {
     "end_time": "2024-10-05T00:22:20.090201Z",
     "start_time": "2024-10-05T00:22:19.869673Z"
    }
   },
   "cell_type": "code",
   "source": [
    "y_pred_prob = model.predict_proba(X_test)[:,1]\n",
    "roc_auc = roc_auc_score(y_test, predictions, multi_class='ovr')\n",
    "\n",
    "print(f'ROC AUC: {roc_auc:.4f}')\n",
    "\n",
    "# Plotting ROC Curve for one class (e.g., class 0)\n",
    "fpr, tpr, _ = roc_curve(y_test == 1, y_pred_prob)\n",
    "plt.plot(fpr, tpr, label='Class 0 ROC curve')\n",
    "plt.xlabel('False Positive Rate')\n",
    "plt.ylabel('True Positive Rate')\n",
    "plt.title('ROC Curve')\n",
    "plt.legend(loc='best')\n",
    "plt.show()"
   ],
   "id": "123c82f6c2e5b9da",
   "outputs": [
    {
     "name": "stdout",
     "output_type": "stream",
     "text": [
      "ROC AUC: 0.5495\n"
     ]
    },
    {
     "data": {
      "text/plain": [
       "<Figure size 640x480 with 1 Axes>"
      ],
      "image/png": "[encoded data removed]"
     },
     "metadata": {},
     "output_type": "display_data"
    }
   ],
   "execution_count": 9
  },
  {
   "metadata": {
    "ExecuteTime": {
     "end_time": "2024-10-05T00:23:18.571061Z",
     "start_time": "2024-10-05T00:23:18.101475Z"
    }
   },
   "cell_type": "code",
   "source": [
    "# Get unique values\n",
    "unique_values = os_rr['Pitcher'].unique()\n",
    "\n",
    "#List of Pitchers that threw splitter, as well as amount\n",
    "print(unique_values, len(unique_values))\n",
    "\n",
    "# Create a dictionary to store subsets\n",
    "subsets = {value: os_rr[os_rr['Pitcher'] == value] for value in unique_values}"
   ],
   "id": "fded187b77520e9b",
   "outputs": [
    {
     "name": "stdout",
     "output_type": "stream",
     "text": [
      "['Dettmer, Nathan' 'Baley, Luke' 'Troesser, Austin' 'Jones, Burrell'\n",
      " 'Cortez, Christopher' 'Matheny, Chase' 'Hunter, Aidan' 'Payne, Nate'\n",
      " 'Crisp, Nolan' 'Polk, Michael' 'Cheeley, Austin ' 'Rustad, Carter'\n",
      " 'Miller, Brady' 'Skenes, Paul' 'Levy, Gabe' 'Vega, Adrian' 'Cannon, Will'\n",
      " 'Weirather, Brock' 'Corso, Vincent' 'Rodriguez, Esteben' 'Causey, AJ'\n",
      " 'Peppers, Jake' 'Fagerstrom, Reid' 'Sanders, Will' 'Williams, Brendan'\n",
      " 'Hicks, James' 'Rodgers, Zachary' 'Cota, Miles' 'Bogli, Shane'\n",
      " 'Berg, Hayden' 'Parmer, Evan' 'Saunier, Grayson' 'Pizzico, Luke'\n",
      " 'Rudis, Brad' 'Ey, Brooks' 'Gonzalez, Joseph' 'Hayden, Luke'\n",
      " 'Willitts, Josh' 'Michel, Jake' 'Jones, Tanner' 'Hall, Noah'\n",
      " 'Simes, Michael' 'Veach, Chris' 'Shores, Chase' 'Houghtaling, Ethan'\n",
      " 'Dutton, Samuel' 'Floyd, Ty' 'Watt, Ryan' 'Money, Blake'\n",
      " 'Gartman, Landon' 'Barker , Ty' 'Cijntje, Jurrangelo' 'Vera, Jordan'\n",
      " 'Alberghini, Kaden' 'Herberholz, Christian' 'Murphy, Hayden'\n",
      " 'Horne, Trevor' 'Manase, Seti' 'McNairy, Jacob' 'Argomaniz, Brenden'\n",
      " 'Subers, Kyle' 'Fortner, Trey' 'Greenler, Kyle' 'Rhadans, Dalton'\n",
      " 'Mahoney, Jack' 'Draper, Matthew' 'Austin, Cade' 'Dirito, Nick'\n",
      " 'McEntire, Will' 'Frank, Koty' 'Martinez, Javier' 'Marono, Jason'\n",
      " 'Siary, Evan' 'Finan, Michael' 'Greiner, Coby' 'Algee, Jake'\n",
      " 'Ketchum, Cole' 'Carmack, Kyler' 'Cole, Daniel' 'Gelorme, Matt'\n",
      " 'Zarella, Tyler' 'Delic, Elvin' 'Pease, Jaxson' 'Smith, Travis'\n",
      " 'Giles, Ryder' 'Blunt, Jarrett' 'Moore, Mason' 'Jerzembeck, Eli'\n",
      " 'Hopkins, Brody' 'Kruglewicz, Parker' 'Mateo, Anthony'\n",
      " 'Reynolds, Jackson' 'Ricko, Trey' 'Maidhof, Jeffery' 'Pile, Marshall'\n",
      " 'Bagwell, Daniel' 'Rodriguez, Joseph' 'Carter, Greysen' 'Laxner, Nick'\n",
      " 'Ledbetter, Austin' 'Smith, Cade' 'Stevenson, Owen' 'Giblin, Jonah'\n",
      " 'Savacool, Jason' 'Gartrell, Joey' 'Folkins, Jack' 'Stromsborg, Tyler'\n",
      " 'Duffy, Sean' 'Emus, Jackson' 'Shirk, Jake' 'Stofel, Luke'\n",
      " 'Laisure, Josh' 'Williams, Darren' 'Brooks, Jake' 'Aldrich, Chris'\n",
      " 'Kottinger, Caedon' 'Carter, Dylan' 'Burns, Chase' 'Halvorsen, Seth'\n",
      " 'Claybourne, Seth' 'Curtis, Khristian' 'Gardner, Dylan' 'Dean, Nick'\n",
      " 'Falco, David' 'Gillis, Brock' 'Lambert, Carson' 'Agassi, Jaden'\n",
      " 'Aoki, Caden' 'Clarke, Garrett' 'Wisch, Kyle' 'Sheppard, Carter'\n",
      " 'Faulkner, Jacob' 'Zaffiro, Cole' 'Beam, Drew' 'Pivaroff, Blake'\n",
      " 'Armbruester, William' 'Haberthier, Nathan' 'Brink, Nick' 'Hughes, Gus'\n",
      " 'Keith, David' \"D'Alessio, Andrew\" 'Ramirez, Jason' 'Lee, Zack'\n",
      " 'Gallagher, Chris' 'Hagenow, Ryan' 'Simpson, Garret' 'Dromboski, Ryan'\n",
      " 'Heintz, Danny' 'Sarti, Edward' 'Austin, Kelly' 'Alkire, Johnny'\n",
      " 'Valdez, Jonathan' 'Farrow, Daniel' 'Telaga, Garrett' 'Lovrich, Camden'\n",
      " 'Newell, Josh' 'Lucas, Brock' 'Brown, Jacob' 'Wilmsmeyer, Ty'\n",
      " 'Ymker, Logan' 'Devito, Zach' 'Porter, Hunter' 'Lyman, Luke'\n",
      " 'Davis, Ethan' 'Howe, Christian' 'Kilpatrick, Coley' 'Delisi, Jake'\n",
      " 'Jones, Elijah' 'Snyder, Ethan' 'Hart, Evan' 'Reilly, Patrick'\n",
      " 'Wyatt, Zach' 'Olsen, Eddie' 'MacWatters, Devin' 'Fanning, Hollis'\n",
      " 'Hector, Rawley' 'Tease, Dallas' 'Poppell, Broedy' 'Olson, Ryan'\n",
      " 'Wild, Owen' 'Lancour, Kade' 'Verciglio, Rigel' 'Banks, Hagan'\n",
      " 'Brown, Dawson' 'Vaughn, Jackson' 'Vore, Benjamin' 'Buchek, Tim'\n",
      " 'Harmon, Evan' 'Hess, Ben' 'Gould , Zak' 'DeLeon, Abraham'\n",
      " 'Murphy, Chandler' 'Moss, Aaron' 'Jachec, Matt' 'Francis, Kai'\n",
      " 'Little, Christian' 'Tucker, Braydon' 'Karst, Ryan' 'Zwitzer, Jurgen'\n",
      " 'Castro, Josiah' 'Garris, Reed' 'Tallent, Casey' 'Hurd, Thatcher'\n",
      " 'Galdoni, Lukas ' 'Buecker, Robert' 'Leake, Henry' 'Ryan, Joey'\n",
      " 'McCluskey, Griffin' 'Jablonski, Grant' 'Chasey, Nathan'\n",
      " 'Rodriguez, Luis' 'Haines, Tyler' 'Allsup, Chase' 'Sampson, Mitchel'\n",
      " 'Lunceford, Logan' 'Howard, Cam' 'Kratz, Caden' 'Alexander, Ethan'\n",
      " 'Swygert, Samuel' 'Cooper, Chase' 'Moore, Grayson' 'MacCauley, Parker'\n",
      " 'Morse, Trhea' 'Hellmers, Will' 'Kreuzer, Foster' 'Gainey, Brayden'\n",
      " 'Jerger, Jayden' 'Kelly, Braxton' 'DeMarco, Patrick' 'Chavez, Seth'\n",
      " 'Schultz, Thomas' 'Helton, Luke' 'Dollander, Chase' 'Giles, Chandler'\n",
      " 'Stephen, Khal' 'Backer, CJ' 'Pratt, Davis' 'Lopez, Matthew' 'Sexton, Ty'\n",
      " 'Stuprich, Brennan' 'Leon, Andy' 'Hubble, Cam' 'Fischer, Ryan'\n",
      " 'Franklin, Zach' 'Gillespie, Blake' 'Lipthratt, Louis' 'York, Derrius'\n",
      " 'Bess, Gerald' 'Crabb, Isaac' 'Bettio, Matt' 'Westbrooks, Brody'\n",
      " 'Witzke, Collin' 'Suval, Aaron' 'Massie, Aaron' 'Kinzeler, Will'\n",
      " 'Yoo, Derek' 'Robinson, Zachary' 'Michaud, Dale' 'Perez, Gabriel'\n",
      " 'Kirby, Zach' 'Cunningham, Bryce' 'Smith, Reed' 'Iwinski, Kyle'\n",
      " 'Fraser, Jackson' 'Brock, Clayton' 'Georgini, Joe' 'Maltrud, Rorik '\n",
      " 'Standen, Drew' 'Baldo, Merrick' 'Simon, Samuel' 'Simon, Zack'\n",
      " 'Edwards, Garrett' 'Mead, Jacob' 'Smith, Kolten' 'Katskee, Cooper'\n",
      " 'Strickland, Austin' 'Mueller, Kyle' 'Farrar, William' 'Hanson, Jordan'\n",
      " 'Bybee, Ben' 'Carabajal, Noah' 'Escano, Antonio' 'Perez, Andres'\n",
      " 'Dohm, Nate' 'Isbell, Chase' 'White, Eddie' 'Laufman, Oliver'\n",
      " 'Collins, Bryce' 'Armstrong, Chase' 'Cienfuegos, Cristian'\n",
      " 'Perkins, Mark' 'Smith, Jonah ' 'Perry, Zaylen' 'Hise, Zach'\n",
      " 'Sproat, Brandon' 'Waldrep, Hurston' 'Carlson, Parker' 'Potthoff, Kyle'\n",
      " 'Hliboki, Sam' 'Sellers, Wyatt' 'Reum, Kai' 'McLaughlin, Ben'\n",
      " 'Foutch, Christian' 'Holifield, Jake' 'Clevenger, Heath'\n",
      " 'Johnson, Lebarron' 'Brown, Avery' 'Battle, Justin' 'Agosto, Justus'\n",
      " 'Milchuck, Jonah' 'Sewell, Camden' 'McMillan, Garrett' 'Newman, Jeremiah'\n",
      " 'Gibbs, Will' 'Medrano, Nathan' 'Manning, Noah' 'Kenney, Mason'\n",
      " 'Bennett, Jack' 'Coffman, Beau' 'Holman, Luke' 'Martin, Logan'\n",
      " 'Hoskins, Matthew' 'Nesbitt, Tyler' 'Ficarrotta, Nick' 'Smith, Nelson'\n",
      " 'Kalandros, Cameron' 'Robinson, Caden' 'Green, Glenn' 'Parrish, Brycen'\n",
      " 'Claunch, Raleigh' 'Henrich, Kevin' 'McKnight, Erik' 'Stubber, Austin'\n",
      " 'Hopson, Kameron' 'Alderman, Kemp' 'Armstrong, John' 'Vaccaro, Nicholas'\n",
      " 'Mann, Hunter' 'Gaeto, Alex' 'Hoskins, Luke' 'Eskew, Dylan' 'Horn, David'\n",
      " 'Sandoval, Matthew' 'Holcombe, Colby' 'Craven, Matt' 'Garcia, JJ'\n",
      " 'Davis, Tyler' 'Newman, Jacob' 'Garmon II, Brian' 'Mercer, Pace'\n",
      " 'Hoopes, Hunter' 'Cowen, Zac' 'Wilder, Holden' 'Poe, Zach'\n",
      " 'Burcham, Jake' 'Pinson, Smith' 'Sliver, Nolan' 'McManmon, Quinten'\n",
      " 'Ottinger, Zach' 'Combs, Aaron' 'Dougherty, Jack' 'Guidry, Gavin'\n",
      " 'Collins, Gus' 'Carlos Ariza, John' 'McDuffie, Reece' 'McCoy, James'\n",
      " 'Love, Avery' 'Williamson, Austin' 'Adams, Brandon' 'Thomas, Nate'\n",
      " 'Parson, Julian' 'Lindsey, Andrew' 'Hardin, Tyson' 'Maddox, Riley'\n",
      " 'Hunt, KC' 'Cherry, Derrick' 'Moeller, JT' 'Evans, Donye'\n",
      " 'Langhorne, Miles' 'Dutton, Sam' 'Mozoki, Todd' 'Plummer, Caden'\n",
      " 'Schuelke, Cam' 'Voss, Zach' 'Martinez, Hamilton' 'Tilly, Cameron'\n",
      " 'Shaw, Greg' 'Johnson, Brett' 'Mastrian, Patrick' 'Williams, Cj'\n",
      " 'Trehey, Danny' 'Tygart, Brady' 'Gehring, Doyle' 'Lejeune, Cameron'\n",
      " 'Babel, Tyler' 'Guy, Colby' 'Bates, Cole' 'Maxey, Zach' 'Quinn, Drake'\n",
      " 'Wittig, Joey' 'Boully, Bryan' 'Murphy, Ryan' 'Gaeckle, Gabe'\n",
      " 'McGuire, Tate' 'Philips, Peter' 'Estridge, Gaines' 'Ligon, Karson'\n",
      " 'Brown, Rese' 'Langrell, Garrett' 'Finley, Leighton' 'Needles, Justin'\n",
      " 'Good, Ty' 'Hollis, Nolan' 'Smith, Brandon' 'Brady, Kyle' 'Smith, Casey'\n",
      " 'Parlin, Bryce' 'Alveti, Gavin' 'Hampu, Tyler' 'Johnson, Dave'\n",
      " 'Walls, Westin' 'Berry, Braden' 'Moss, Weston' 'McBride, Connor'\n",
      " 'Shelton, Braxton' 'House, Brooks' 'Sato, Kota' 'Houston, Brady'\n",
      " 'Sarna, Owen' 'Brodt, Walker' 'Brush, Austin' 'Crumbley, Landon'\n",
      " 'Hyde, Jace' 'Kovacs, Owen' 'Renaud, Jack' 'Linkletter, Ryan'\n",
      " 'Birkman, Owen' 'Smink, Eddie' 'Dutton, Sam ' 'Higgins, Thomas'\n",
      " \"Wray, Ga'von\" 'Martin, Jake' 'Castaneda, Mj' 'Pryor, Will'\n",
      " 'Pitzer, Tyler' 'Hernandez, Zachary' 'Peters, Trey' 'Turk, Steven'\n",
      " 'Smith, Davis' 'Williams, Dalton' 'Hayden, Connor' 'Bilka, Ryan'\n",
      " 'Cottrill, Josh' 'Guazzo, Adam' 'Buchanan, Coulson' 'Mracna, Christian'\n",
      " 'Timbes, Jake' 'Feld, Justin' 'Seiber, Brennan' 'Boule, Luke'\n",
      " 'Panariello, Ty' 'Montgomery, Quinlan' 'Johnson, Ben' 'White, Joey'\n",
      " 'Polk, Howell' 'Rivera, BJ' 'Halladay, Braden' 'Diehl, Liam'\n",
      " 'Chabot, Julian' 'Badmaev, Zane' 'Pehrson, Ryan' 'Zuger, Jordan'\n",
      " 'Guisewite, Caleb' \"O'Brien, Liam\" 'Peguero, Carlos' 'Jackson, Charles'\n",
      " 'Patty, Tyshon' 'Harris, Shemar' 'Brown, Malcolm' 'Cleveland, Jackson'\n",
      " 'Havard, Peyton' 'Tauzin, Kole' 'Oceguera, Ethan' 'Lore, Carson'\n",
      " 'Manley, Matt' 'Miller, Charlie' 'Hollister, Sean' 'Barnett, Caden'\n",
      " 'Hays, Jeff' 'Padysak, Daniel' 'Heath, Cole' 'Copper, Edward'\n",
      " 'Clemente, Jack' 'Pressley, Devin' 'Cutts, Brennyn' 'Gilley, Cole'\n",
      " 'Berghorst, Adam' 'Day, Hunter' 'Tscherter, Tyler' 'Marsh, Chandler'\n",
      " 'Cook, Harrison' 'Moczydlowsky, Gavin' 'Ferazzi, Nick' 'Fieger, Drew'\n",
      " 'Moore Jr., Tommy' 'Stam, Matt' 'Salisbury, Daniel' 'Newman, DJ'\n",
      " 'Arn, Kade' 'Brecht, Brody' 'Watts, Anthony' 'Young, Jack' 'Mayer, Bryce'\n",
      " 'Brewer, Alex' 'Pooser, Trey' 'Kutz, Ryan' 'Valero, Bryce'\n",
      " 'Pennington, Jacob' 'Hustedde, Jacob' 'Snyder, Jackson' 'McCrary, Max'\n",
      " 'Hart, Sam' 'Wheatley, Chas' 'Ellisen, Tommy' 'Schild, Ben' 'Finn, Sean'\n",
      " 'Afthim, Brady' 'Keen, Chase' 'Finateri, Aeden' 'Lyne, Tanner'\n",
      " 'Fender, Ryan' 'Holler, Nathan' 'Voelker, Zach' 'Quigley, Stephen'\n",
      " 'Poindexter, Jake' 'Frieda, Colby' 'Baker, Liam' 'Lindsay, Isiah'\n",
      " 'Dukesherer, Andrew' 'Hutson, Tyler' 'Davis, Cade' 'Cox, Seth'\n",
      " 'Castillo, Adolf' 'Smith, Peyton' 'Gainous, Garrett' 'Durgin, Nick'\n",
      " 'Dunagan, Jake' 'Crowder, Jack' 'Smith, Nick' 'Murrell, Mitch'\n",
      " 'Callahan, Trevor' 'Grotyohann, Connor' 'Hsu, Brandon' 'Sabbath, Joseph'\n",
      " 'Weaver, Jacob' 'Smith, Dylan' 'Meier, Jackson' 'Land, Wyatt'\n",
      " 'Osbolt, Braden' 'Saale, Dylan' 'Schmidt, Logan' 'Rotkis, Joe'\n",
      " 'Nichols, Mason' 'Maloney, Evan' 'Petrovic, Alexander' 'Probst, Zane'\n",
      " 'Caudill, Carson' 'Kuhns, Josh' 'Sharp, Kevin' 'Storey, Jake'\n",
      " 'Landen, Trevor' 'Radtke, DJ' 'Carvajal, Jake' 'Donnison, Matthew'\n",
      " 'Hart, Cade' 'Swartz, Jake' 'Snead, Nate' 'Glassey, Joe' 'Meyer, Jakob'\n",
      " 'McGill, Callum' 'Furtado, Josh' 'Mallitz, Josh' 'Sposato, Sean'\n",
      " 'Fernandez, Zach' 'Fine, Brody' 'Kasper, Sean' 'Madsen, Dalton'\n",
      " 'Moser, Logan' 'Gienger, Murphy' 'Harris, Zach' 'Gibson, Hunter'\n",
      " 'Wiltrakis, Luke' 'Berrios, Wilbur' \"D'Ercole, Dominick\"\n",
      " 'Potojecki, Andrew' 'Simmons, Owen' 'Husak, Joe' 'Patten, Dalton'\n",
      " 'Yates, Rian' 'Whitlock, Jack' 'Roberge, Josh' 'Shaw, Eli' 'Vogel, Jacob'\n",
      " 'Jones, Eli' 'Pancer, Brandt' 'Watts, Dylan' 'Compton, Mason'\n",
      " 'Montgomery, Braden' 'Mendoza, Victor' 'Slater, Ryan' 'Peterson, Liam'\n",
      " 'Mcneillie, Luke' 'Smith, Grayson' 'Zeldin, Brian' 'Myers, Braylon'\n",
      " 'Schaefer, Derek' 'Rolland, Luke' 'Washington, Solomon' 'Coronel, Ethan'\n",
      " 'Kirkpatrick, James' 'Peery, Brock' 'McGregor, Tristan' 'Smith, Tanner'\n",
      " 'Krier, Kaleb' 'Ulloa, Fidel' 'Fay, Tyler' 'Hummel, Johnny'\n",
      " 'Hogan, Robert' 'Tookoian, Sam' 'Luckett, Nicholas' 'Harris, Antoine'\n",
      " 'Maloney, Collin ' 'Haley, Gage' 'Diffey, Choyce' 'Matela, Dylan'\n",
      " 'Lutz, Duncan' 'Varnadoe, Hunter' 'White, Caleb' 'Reddick, Trent'\n",
      " 'Earwood, Micah' 'McDevitt, Josh' 'Jones, Brayden' 'Purnell, Blake'\n",
      " 'Auger, Brooks' 'Lazo, Charlie' 'Scott, Trey' 'Caraway, Daelan'\n",
      " 'Garza, Daniel' 'Kampf, Jake' 'Benner, Ian' 'Hardy, Halton'\n",
      " 'Powell, Daniel' 'Carroll, Caden' 'Lee, Justin' 'Beranek, Bryant'\n",
      " 'Underwood, Jackson' 'Cammarata, Joey' 'Stapleton, Drew' 'Guth, Luke'\n",
      " 'Rhodes, Isaiah' 'Phillips, Marcus' 'Hash, Arren' 'Johnson, Ryan'\n",
      " 'Matherly, Samuel' 'Sokol, Mike' 'Carver, Chase' 'Ecklar, Devin'\n",
      " 'Usey, Trey' 'Blasick, Nathan' 'Garcia, Nico' 'Kovala, Michal'\n",
      " 'Stanford, Riley' 'Parker, Hudson' 'Neely, Brandon' 'Mitchell, Sam'\n",
      " 'Quinn, Victor' 'Morris, Mason' 'Stamos, Chris' 'Moffett, Aiden'\n",
      " 'Hamblen, Spenser' 'Stogner, John Allen' 'Bowerman, Josh'\n",
      " 'Howard, Carson' 'Antolick, Brett' 'Solis, Alex' 'Drezek, Graysen'\n",
      " 'Wagner, Raylan' 'Syverson, Jake' 'Barlow, Billy' 'Clayton, Nick'\n",
      " 'Allen, Joe' 'O’Brien, Cameron' 'Clemente, Jake' 'Robinson, Cooper'\n",
      " 'Baez, Miguel' 'Woods, Kade' 'Rakers, Easton' 'Guardino, Andrew'\n",
      " 'Erdman, Jack' 'Engert, Cason' 'Trusley, Walker' 'Black, Gavin'\n",
      " 'Jurecka, Landry' 'Schmitt, Logan' 'Bunch, Caleb' 'Rodriguez, Mauricio'\n",
      " 'Ben-Shoshan, Jack' 'Jackson, Luke' 'Liggett, Carson' 'Pogue, Malik'\n",
      " 'Dean, Tyler' 'Allen, Ty' 'Causey, A.J.' 'Jacobi, Kaden' 'Wood, Gage'] 715\n"
     ]
    }
   ],
   "execution_count": 11
  },
  {
   "metadata": {
    "ExecuteTime": {
     "end_time": "2024-10-05T00:23:34.503222Z",
     "start_time": "2024-10-05T00:23:34.493826Z"
    }
   },
   "cell_type": "code",
   "source": [
    "def rr_os_stuff(name):\n",
    "    \n",
    "    preds = ['RelSpeed','VertRelAngle','HorzRelAngle','SpinRate','SpinAxis','RelHeight','RelSide','Extension','VertBreak','InducedVertBreak','HorzBreak','ZoneSpeed','VertApprAngle','HorzApprAngle','ZoneTime','pfxx','pfxz','x0','y0','z0','vx0','vy0','vz0','ax0','ay0','az0','SpeedDrop','PitchTrajectoryXc1','PitchTrajectoryXc2','PitchTrajectoryYc0','PitchTrajectoryYc1','PitchTrajectoryYc2','PitchTrajectoryZc0','PitchTrajectoryZc1','PitchTrajectoryZc2']\n",
    "    \n",
    "    all_preds = model.predict_proba(os_rr_X)[:,1]\n",
    "    mean_pred = np.mean(all_preds)\n",
    "\n",
    "    pitcher = subsets[name]\n",
    "    pitcher_x = pitcher[preds]\n",
    "\n",
    "    whiff_preds = model.predict_proba(pitcher_x)[:,1]\n",
    "\n",
    "    stuff = whiff_preds/mean_pred\n",
    "    \n",
    "    return np.mean(stuff * 100)\n",
    "\n",
    "    \n"
   ],
   "id": "eef2b2323ee4d928",
   "outputs": [],
   "execution_count": 12
  },
  {
   "metadata": {
    "ExecuteTime": {
     "end_time": "2024-10-05T00:24:08.366176Z",
     "start_time": "2024-10-05T00:24:08.333252Z"
    }
   },
   "cell_type": "code",
   "source": [
    "#Stuff+ for selected pitchers Offspeed in RHP v RHB split\n",
    "rr_os_stuff('Tilly, Cameron')"
   ],
   "id": "6150875ac2516747",
   "outputs": [
    {
     "data": {
      "text/plain": [
       "151.85379"
      ]
     },
     "execution_count": 14,
     "metadata": {},
     "output_type": "execute_result"
    }
   ],
   "execution_count": 14
  },
  {
   "metadata": {},
   "cell_type": "markdown",
   "source": "Righty vs. Lefty Split",
   "id": "ace1f67caeac8c90"
  },
  {
   "metadata": {
    "ExecuteTime": {
     "end_time": "2024-10-05T00:24:41.058018Z",
     "start_time": "2024-10-05T00:24:41.040449Z"
    }
   },
   "cell_type": "code",
   "source": [
    "os_rl_X = os_rl[preds]\n",
    "os_rl_y = os_rl['whiff']"
   ],
   "id": "effc5a3896600f48",
   "outputs": [],
   "execution_count": 15
  },
  {
   "metadata": {
    "ExecuteTime": {
     "end_time": "2024-10-05T00:24:54.824523Z",
     "start_time": "2024-10-05T00:24:54.542810Z"
    }
   },
   "cell_type": "code",
   "source": [
    "#Train Model: RHP vs LHB\n",
    "X_train, X_test, y_train, y_test = train_test_split(os_rl_X, os_rl_y, test_size=.33, random_state=25)\n",
    "\n",
    "model = XGBClassifier()\n",
    "model.fit(X_train, y_train)\n",
    "\n",
    "y_pred = model.predict(X_test)\n",
    "predictions = [round(value) for value in y_pred]\n",
    "\n",
    "accuracy = accuracy_score(y_test, predictions)\n",
    "print(\"Accuracy: %.2f%%\" % (accuracy * 100.0))"
   ],
   "id": "5a9b9c9e56aab2e7",
   "outputs": [
    {
     "name": "stdout",
     "output_type": "stream",
     "text": [
      "Accuracy: 83.58%\n"
     ]
    }
   ],
   "execution_count": 16
  },
  {
   "metadata": {
    "ExecuteTime": {
     "end_time": "2024-10-05T00:25:31.013678Z",
     "start_time": "2024-10-05T00:25:29.648566Z"
    }
   },
   "cell_type": "code",
   "source": [
    "# Get unique values\n",
    "unique_values = os_rl['Pitcher'].unique()\n",
    "\n",
    "#List of Pitchers that threw splitter, as well as amount\n",
    "print(unique_values, len(unique_values))\n",
    "\n",
    "# Create a dictionary to store subsets\n",
    "subsets = {value: os_rl[os_rl['Pitcher'] == value] for value in unique_values}"
   ],
   "id": "566a45cde8a4ebaf",
   "outputs": [
    {
     "name": "stdout",
     "output_type": "stream",
     "text": [
      "['Dettmer, Nathan' 'Tidwell, Blade' 'Hunley, Sean' ... 'Allen, Ty'\n",
      " 'Causey, A.J.' 'Jacobi, Kaden'] 1097\n"
     ]
    }
   ],
   "execution_count": 18
  },
  {
   "metadata": {
    "ExecuteTime": {
     "end_time": "2024-10-05T00:25:44.953874Z",
     "start_time": "2024-10-05T00:25:44.941162Z"
    }
   },
   "cell_type": "code",
   "source": [
    "def rl_os_stuff(name):\n",
    "    \n",
    "    preds = ['RelSpeed','VertRelAngle','HorzRelAngle','SpinRate','SpinAxis','RelHeight','RelSide','Extension','VertBreak','InducedVertBreak','HorzBreak','ZoneSpeed','VertApprAngle','HorzApprAngle','ZoneTime','pfxx','pfxz','x0','y0','z0','vx0','vy0','vz0','ax0','ay0','az0','SpeedDrop','PitchTrajectoryXc1','PitchTrajectoryXc2','PitchTrajectoryYc0','PitchTrajectoryYc1','PitchTrajectoryYc2','PitchTrajectoryZc0','PitchTrajectoryZc1','PitchTrajectoryZc2']\n",
    "    \n",
    "    all_preds = model.predict_proba(os_rl_X)[:,1]\n",
    "    mean_pred = np.mean(all_preds)\n",
    "\n",
    "    pitcher = subsets[name]\n",
    "    pitcher_x = pitcher[preds]\n",
    "\n",
    "    whiff_preds = model.predict_proba(pitcher_x)[:,1]\n",
    "\n",
    "    stuff = whiff_preds/mean_pred\n",
    "    \n",
    "    return np.mean(stuff * 100)\n"
   ],
   "id": "5f15df4c5877e797",
   "outputs": [],
   "execution_count": 19
  },
  {
   "metadata": {
    "ExecuteTime": {
     "end_time": "2024-10-05T00:26:16.947228Z",
     "start_time": "2024-10-05T00:26:16.911769Z"
    }
   },
   "cell_type": "code",
   "source": [
    "#Stuff+ for selected pitchers Offspeed in RHP v LHB split\n",
    "rl_os_stuff('Tilly, Cameron')"
   ],
   "id": "faeb913be1a27c7d",
   "outputs": [
    {
     "data": {
      "text/plain": [
       "128.43973"
      ]
     },
     "execution_count": 21,
     "metadata": {},
     "output_type": "execute_result"
    }
   ],
   "execution_count": 21
  },
  {
   "metadata": {},
   "cell_type": "markdown",
   "source": "Lefty vs. Righty Splits",
   "id": "25234c877477ae88"
  },
  {
   "metadata": {
    "ExecuteTime": {
     "end_time": "2024-10-05T00:26:45.092463Z",
     "start_time": "2024-10-05T00:26:45.079280Z"
    }
   },
   "cell_type": "code",
   "source": [
    "os_lr_X = os_lr[preds]\n",
    "os_lr_y = os_lr['whiff']"
   ],
   "id": "dd835d000368d3cb",
   "outputs": [],
   "execution_count": 22
  },
  {
   "metadata": {
    "ExecuteTime": {
     "end_time": "2024-10-05T00:26:58.885993Z",
     "start_time": "2024-10-05T00:26:58.610742Z"
    }
   },
   "cell_type": "code",
   "source": [
    "#Train Model: LHP vs RHB\n",
    "X_train, X_test, y_train, y_test = train_test_split(os_lr_X, os_lr_y, test_size=.33, random_state=25)\n",
    "\n",
    "model = XGBClassifier()\n",
    "model.fit(X_train, y_train)\n",
    "\n",
    "y_pred = model.predict(X_test)\n",
    "predictions = [round(value) for value in y_pred]\n",
    "\n",
    "accuracy = accuracy_score(y_test, predictions)\n",
    "print(\"Accuracy: %.2f%%\" % (accuracy * 100.0))"
   ],
   "id": "eb2c7d722d0636d7",
   "outputs": [
    {
     "name": "stdout",
     "output_type": "stream",
     "text": [
      "Accuracy: 82.48%\n"
     ]
    }
   ],
   "execution_count": 23
  },
  {
   "metadata": {
    "ExecuteTime": {
     "end_time": "2024-10-05T00:27:28.849478Z",
     "start_time": "2024-10-05T00:27:28.454845Z"
    }
   },
   "cell_type": "code",
   "source": [
    "# Get unique values\n",
    "unique_values = os_lr['Pitcher'].unique()\n",
    "\n",
    "#List of Pitchers that threw splitter, as well as amount\n",
    "print(unique_values, len(unique_values))\n",
    "\n",
    "# Create a dictionary to store subsets\n",
    "subsets = {value: os_lr[os_lr['Pitcher'] == value] for value in unique_values}\n"
   ],
   "id": "b7d59d49c7f2e4b9",
   "outputs": [
    {
     "name": "stdout",
     "output_type": "stream",
     "text": [
      "['Walsh, Redmond' 'Wall, Chris' 'Robertson, Trae' 'Adams, Aiden'\n",
      " 'LaCalameto, Kyle' 'Holguin, Al' 'Gilreath, John' 'Rokose, Davis'\n",
      " 'Sullivan, Liam' 'Woods, Jaden' 'Lohse, Ian' 'Shapiro, Joe'\n",
      " 'Elliott, Hunter' 'Atiya, Eli' 'Chronowski, Peter' 'Dillard, Matt'\n",
      " 'Bauman, Tanner' 'Seiler, Ben' 'Furtado, Hunter' 'Goldstein, Charlie'\n",
      " 'Keevan, LJ' 'Cooper, Riley' 'Armbrustmacher, Dane' 'Ackenhausen, Nathan'\n",
      " 'Morgan, Trey' 'Welch, Carter' 'Wansing, Troy' 'Lamkin, Justin'\n",
      " 'Bothwell, Ty' 'Clifton, Harrison' 'Duke, Hayden' 'Wheeler, Trey'\n",
      " 'Lopez, Will' 'Light, Nathan' 'Loftin, Bradley' 'Grome, Chris'\n",
      " 'Sdao, Shane' 'Nelson, Drew' 'Crotchfelt, Zach' 'Kraft, Ryan'\n",
      " 'Reinke, Brian' 'Senders, Sammy' 'Zielinski, Eli' 'Baker, Will'\n",
      " 'Jette, Jacob' 'Boudreaux, Jacorey' 'Morris, Zack' 'Sorrell, Roman'\n",
      " 'Nicholson, Gabe ' 'Bimbi, Jacob' 'Grace, Ranard' 'Huff, Hollis'\n",
      " 'Davis, Tyler' 'Tapper, Brock' 'Waterhouse, Quinn' 'Leger, Jake'\n",
      " 'Walter, Daniel' 'Whittle, Parker' 'White, Aaron' 'Windham, Payton'\n",
      " 'Sechrist, Zander' 'Sales, Terence ' 'Corley, Brandt' 'Roberts, Tanner'\n",
      " 'Wager, Zach' 'Becker, Matthew' 'Sewell, JC' 'Smith, Hagen'\n",
      " 'Potteiger, Jack' 'Steinhauer, Ryan' 'Majick, Eli' 'Dunn, Ross'\n",
      " 'Connolly, Caden' 'Garcia, Samuel' 'Evans Jr, Jarvis' 'Rabin, Reece'\n",
      " 'Hoefer, Eric' 'Coady, Owen' 'Tobin, Will' 'Phipps, Jackson'\n",
      " 'Holton, Carter' 'Manfredi, Mark' 'Yntema, Graham' 'McCoy, Kyle'\n",
      " 'Vail, Tommy' 'Wozniak, Brett' 'Ball, Connor' 'Chmielewski, Tom'\n",
      " 'MacDonald, Caden' 'Caldwell, Collin' 'Bosma, Tyler' 'Gongora, Sebastian'\n",
      " 'Luikart, Jay' 'Shoemaker, David' 'Owen, Hunter' 'Hollan, Hunter'\n",
      " 'Coil, Parker' 'Espelin, Nate' 'Tedesco, Jake' 'Manning, Timmy'\n",
      " 'Rembisz, Ryan' 'Aschenbeck, Evan' 'Wagner, Luke' 'Scannell, Matt'\n",
      " 'Theis, Alex' 'Peters, Garrett' 'Cotto, Magdiel' 'Futrell, Devin'\n",
      " 'Massey, Sam' 'Connell, Kirby' 'Fincher, Jonathan' 'Kimbrell, Jackson'\n",
      " 'Ewald, Tim' 'Smith, Nic' 'Wissler, Daniel' 'McDaniel, Mason'\n",
      " 'Bradshaw, Riley' 'Blankenship, Branden' 'Byers, Evan' 'Carter, Daniel'\n",
      " 'Ginther, Ryan' 'Harland, Ryan' 'Mullan, Bradley' 'Niman, Dominic'\n",
      " 'Bosecker, Cory' 'Spizzoucco, Vincent' 'Graverson, Cole' 'Davis, Colin'\n",
      " 'Whiteside, Ben' 'Dunkelberger, Michael' 'Frank, Hayden' 'Samol, Noah'\n",
      " 'Reyes, Randy' 'Copeland, Konner' 'Van Treeck, Logan' 'Bak, Brandon'\n",
      " 'McCabe, Mark' 'Neubeck, Tony' 'Neuman, Jake' 'Thompson, Noah'\n",
      " 'Martinez, Domenic' 'Fontenot, Cade' 'Colarusso, AJ' 'Nunan, Matt'\n",
      " 'Hack, Christian' 'Sivley, Kros' 'Rollins, Carson' 'Clark, Christian'\n",
      " 'Lyke, Ethan' 'McNabb, Thomas' 'Holmes, Will' 'Hesseltine, Hunter'\n",
      " 'Laboy, Jorhan' 'Colon, Shadai' 'Tate, Jacob' 'Thompson, JD'\n",
      " 'Mitchell, Joey' 'Perkins, Joey' 'Hitt, Grayson' 'Parkinson, William'\n",
      " 'Gleason, Ryan' 'Barrera, Diego' 'Bakke, John' 'Blackwell, Jonathan'\n",
      " 'Gerl, Ben' 'Rodriguez, Jackson' 'Guth, Adam' 'Ogden, JD '\n",
      " 'Daugherty, Ryan' 'Hill, Kaleb' 'Gaviria, Daniel' 'Rivas, Xavier'\n",
      " 'Lambert, Cal' 'Schapira, Calvin' 'DeJong, Holden' 'Rupp, Nick'\n",
      " 'Mercer, Colton' 'Smith, Dalton' 'Carwile, Cody' 'Fitzgibbons, Jake'\n",
      " 'Quincy, Adam' 'Janak, Dillan' 'Herring, Griffin' 'McCormick, James'\n",
      " 'Frederick, Jakob' 'Cheatham, Cole' 'Faulkner, Gavin' 'Hall, Quinton'\n",
      " 'Fisher, Cade' 'Arroyo, Chris' 'Gainer, Luke' 'Gonzales, Isaac'\n",
      " 'Bates, Ethan' 'Shaw, David' 'Gordon, Lucas' 'Robbins, Will'\n",
      " 'Hayes, Chat' 'Richter, Chase' 'Mims, Michael' 'Smith, Austin'\n",
      " 'Keithley, Carson' 'Stroud, Jack' 'Pettys, Ryan' 'Gannon, Reed'\n",
      " 'Higgins, Cal' 'Caglianone, Jac' 'Nove, Jackson' 'Vaught, Chance'\n",
      " 'Frers, Lukas' 'Fitzpatrick, Sean' 'Casto, Daniel' 'Durham, JT'\n",
      " 'Kendrick, Dalton' 'Parker, Jackson' 'Reid, Rocco' 'Smith, Tristan'\n",
      " 'Sivec, Derek' 'Ford, Jermel' 'Braziel, Kewan' 'Johnston, Will'\n",
      " 'Coleman, Javen' 'Ahearn, Colin' 'Niedringhaus, Jack' 'Theriot, Tyler'\n",
      " 'Wales, Marshall' 'McAllister, Aidan' 'Webster, Evan' 'Elston, Reece'\n",
      " 'Brasosky, Gavin' 'Eidson, Brayden' 'Pimental, Javyn' \"O'Connor, Tim\"\n",
      " 'Roca, Tony' 'Maynard, Brody' 'Borders, Jalen' 'Spolyar, Andrew'\n",
      " 'Loer, Justin' 'Shim, Seungmin' 'Moats, Kyle' 'Prager, Ryan'\n",
      " 'Milburn, Isaac' 'Radcliff, Ryan' 'Schiff, Cole' 'Ross, Luke'\n",
      " 'Byers, Carson ' 'Kuhle, Max' 'Kinsler, Jaden' 'Bello, Jack'\n",
      " 'Hebenstreit, James' 'Mattera, Noah' 'Farone, Greg' 'Honeycutt, Justin'\n",
      " 'Thompson, Sam' 'Fisher, Bryce' 'Beard, Trey' 'McElvain, Ethan'\n",
      " 'Molina, Mason' 'Carr, David' 'Travis, Bryce' 'Myers, Carson'\n",
      " 'Staiano, Michael' 'Davis, Alton' 'Galyean, Tyler' 'DeMonica, Nick'\n",
      " 'Abbey, Zach' 'Fisher, Colin' 'Anderson, Kade' 'Behnke, Andrew'\n",
      " 'Stevens, Nolan' 'Clack, Christian' 'Graves, Griffin' 'Bullard, Matthew'\n",
      " 'Torbett, Cole' 'Baker, Luke' 'McCarley, Derek' 'Dallas, Matthew'\n",
      " 'Holt, Campbell' 'Scott, Shawn' 'Merriweather, Dj' 'Williams, Walker'\n",
      " 'Mendes, Wesley' 'Adams, Zane' 'Heiberger, Matthew' 'Morales, Wilfredo'\n",
      " 'Kenty, Jansen' 'Ruller, Joseph' 'Huesman, Levi' 'Meyer, Tommy'\n",
      " 'Stamos, Chris' 'Paulsen Jr., Erik' 'Little, Matt' 'Toporek, Jake'\n",
      " 'Ciuffetelli, Blake' 'Paddack, Liam ' 'Gelbsman, Aidan' 'Payne, Luke'\n",
      " 'Gross, Mitchell' 'Dotson, Luke' 'Dennis, Gunnar' 'Book, Colton'\n",
      " 'Hobb, Jerek' 'Bronzini, Nic' 'Fisher, Ty' 'Phillips, Jacob'\n",
      " 'Doyle, Liam' 'Shedd, Eli' 'Foley, Lucas' 'Baratta, Dominic'\n",
      " 'Green, Miller' 'Sotelo, Daniel' 'Posey, Courtland' 'Lourens, Je-Andrick'\n",
      " 'Haston, Brandon' 'Royal, Hunter' 'Moseley, Kyle' 'Riggins, Miller'\n",
      " 'Osborne, Ethan' 'Gibson, Luke' 'Diuguid, Lane' 'Hart, Evan'\n",
      " 'Bertram, Reid' 'Pazos, Bryan' 'Edmonson, Cameron' 'Charlton, Tyler'\n",
      " 'Gold, Ryan' 'Stam, Matt' 'Moore, Max' 'Krouse, Lucas' 'Hogue, Brant'\n",
      " 'Cadieux-Lanoue, Elliot' 'Moss, Cade' 'Naranjo, Jordyn' 'Good, Nic'\n",
      " 'Yagesh, Brendan' 'Curley, TJ' 'Speas, Kyle' 'Coe, Garrett'\n",
      " 'Cinnella, Joe' 'Jones, Cam' 'Roulette, Allen' 'Ramos, Rigo'\n",
      " 'Obermueller, Cade' 'Magdic, Ryan' 'Boerema, Owen' 'Pirkle, Aaron'\n",
      " 'Beckner, Drew' 'Rushing, Logan' 'Malone, James' 'Dillinger, Ethan'\n",
      " 'Burt, Connor' 'Osmond, Michael' 'Heyl, Matthew' 'Fix, Isaac'\n",
      " 'Mahan, Ethan' 'Smith, Hayden' 'Reed, Sam' 'Hutchings, Payton'\n",
      " 'Clark, Evan' 'Jump, Gage' 'Schultz, Donovan' 'Kopetski, Josh'\n",
      " 'Keplinger, Konner' 'Paymaster, Jacob' 'Meier, Jackson' 'Walker, Ethan'\n",
      " 'Gibbons, Sean' 'Gravel, Alexis' 'Deverman, Kenton' 'Howitt, Josh'\n",
      " 'Robinson, Jackie' 'Washington, Khaden' 'Pollard, Davin' 'Snell, Kade'\n",
      " 'Isaacs, Caleb' 'Ronan, Reed' 'Stockham, Addison' 'Wilson, Leland'\n",
      " 'Watson, Michael' 'Cleaver, Ben' 'Holderfield, Grant' 'Rushing, Ryan'\n",
      " 'McCoy, Jake' 'Gainey, Garrett' 'Vera, Alex' 'Copeland, Caden'\n",
      " 'Kohn, Pico' 'Rhadans, Dylan' 'Reed, Kevin' 'Kressin, Jace'\n",
      " 'Battey, Corey' 'Aguado, Devin' 'Rodriguez, Ryne' 'Menendez, Frank'\n",
      " 'Loy, Dylan' 'Sharp, Brayden' 'Johnson, Cam' 'Fabre, Larson'\n",
      " 'Simmons, Austin' 'Dagley, Ty' 'Dietz, Hunter' 'Rich, Keegan'\n",
      " 'Arender, Brock' 'Lapic, Dylan' 'Gutierrez, Jesse' 'LaBoy, Jorhan'\n",
      " 'Diaz, Danny' 'Gist, Matthew' 'Sanchez, Corey' 'Erdman, Zach'\n",
      " 'Luce, Hudson' 'Wilson, Kaidan' 'Lysik, Brendan' 'Huffling, Max'\n",
      " 'Coppola, Pierce' 'White, Ryan' 'Llinas, Alexander' 'Menina, Caleb'\n",
      " \"O'Donnell, Brendan\" 'Sharpton, Logan' 'Scragg, Josh' 'Whitney, John'\n",
      " 'Stewart, Dalen' 'McGovern, Jacob' 'Beaver, Brendan' 'Tavarez, Esteban'\n",
      " 'Risley, Braydon' 'Haley, Matt' 'Darin, Daniel' 'Huddleston, Eli'\n",
      " 'Keller, Kenny' 'Fetterman, Tyler' 'Mayo, Jackson' 'West, Justin'\n",
      " 'Lessman, Jared' 'Phillips, Riley'] 435\n"
     ]
    }
   ],
   "execution_count": 24
  },
  {
   "metadata": {
    "ExecuteTime": {
     "end_time": "2024-10-05T00:27:43.498223Z",
     "start_time": "2024-10-05T00:27:43.484931Z"
    }
   },
   "cell_type": "code",
   "source": [
    "def lr_os_stuff(name):\n",
    "    \n",
    "    preds = ['RelSpeed','VertRelAngle','HorzRelAngle','SpinRate','SpinAxis','RelHeight','RelSide','Extension','VertBreak','InducedVertBreak','HorzBreak','ZoneSpeed','VertApprAngle','HorzApprAngle','ZoneTime','pfxx','pfxz','x0','y0','z0','vx0','vy0','vz0','ax0','ay0','az0','SpeedDrop','PitchTrajectoryXc1','PitchTrajectoryXc2','PitchTrajectoryYc0','PitchTrajectoryYc1','PitchTrajectoryYc2','PitchTrajectoryZc0','PitchTrajectoryZc1','PitchTrajectoryZc2']\n",
    "    \n",
    "    all_preds = model.predict_proba(os_lr_X)[:,1]\n",
    "    mean_pred = np.mean(all_preds)\n",
    "\n",
    "    pitcher = subsets[name]\n",
    "    pitcher_x = pitcher[preds]\n",
    "\n",
    "    whiff_preds = model.predict_proba(pitcher_x)[:,1]\n",
    "\n",
    "    stuff = whiff_preds/mean_pred\n",
    "    \n",
    "    return np.mean(stuff * 100)\n"
   ],
   "id": "1476353184f42661",
   "outputs": [],
   "execution_count": 25
  },
  {
   "metadata": {
    "ExecuteTime": {
     "end_time": "2024-10-05T00:28:02.186205Z",
     "start_time": "2024-10-05T00:28:02.156566Z"
    }
   },
   "cell_type": "code",
   "source": [
    "#Stuff+ for selected pitchers Offspeed in LHP v RHB split\n",
    "lr_os_stuff('Myers, Carson')"
   ],
   "id": "139746ca6519a33",
   "outputs": [
    {
     "data": {
      "text/plain": [
       "76.68283"
      ]
     },
     "execution_count": 26,
     "metadata": {},
     "output_type": "execute_result"
    }
   ],
   "execution_count": 26
  },
  {
   "metadata": {},
   "cell_type": "markdown",
   "source": "Lefty vs. Lefty Splits",
   "id": "702a30fe09ecae00"
  },
  {
   "metadata": {
    "ExecuteTime": {
     "end_time": "2024-10-05T00:28:26.384363Z",
     "start_time": "2024-10-05T00:28:26.365532Z"
    }
   },
   "cell_type": "code",
   "source": [
    "os_ll_X = os_ll[preds]\n",
    "os_ll_y = os_ll['whiff']"
   ],
   "id": "5741614095e43850",
   "outputs": [],
   "execution_count": 27
  },
  {
   "metadata": {
    "ExecuteTime": {
     "end_time": "2024-10-05T00:28:39.575046Z",
     "start_time": "2024-10-05T00:28:39.424043Z"
    }
   },
   "cell_type": "code",
   "source": [
    "#Train Model: LHP vs LHB\n",
    "X_train, X_test, y_train, y_test = train_test_split(os_ll_X, os_ll_y, test_size=.33, random_state=25)\n",
    "\n",
    "model = XGBClassifier()\n",
    "model.fit(X_train, y_train)\n",
    "\n",
    "y_pred = model.predict(X_test)\n",
    "predictions = [round(value) for value in y_pred]\n",
    "\n",
    "accuracy = accuracy_score(y_test, predictions)\n",
    "print(\"Accuracy: %.2f%%\" % (accuracy * 100.0))"
   ],
   "id": "e9553e43486a5fad",
   "outputs": [
    {
     "name": "stdout",
     "output_type": "stream",
     "text": [
      "Accuracy: 84.87%\n"
     ]
    }
   ],
   "execution_count": 28
  },
  {
   "metadata": {
    "ExecuteTime": {
     "end_time": "2024-10-05T00:29:04.658233Z",
     "start_time": "2024-10-05T00:29:04.457287Z"
    }
   },
   "cell_type": "code",
   "source": [
    "# Get unique values\n",
    "unique_values = os_ll['Pitcher'].unique()\n",
    "\n",
    "#List of Pitchers that threw splitter, as well as amount\n",
    "print(unique_values, len(unique_values))\n",
    "\n",
    "# Create a dictionary to store subsets\n",
    "subsets = {value: os_ll[os_ll['Pitcher'] == value] for value in unique_values}\n"
   ],
   "id": "582c97e5e6779452",
   "outputs": [
    {
     "name": "stdout",
     "output_type": "stream",
     "text": [
      "['Menefee, Joseph' 'Sullivan, Liam' 'Woods, Jaden' 'Lohse, Ian'\n",
      " 'Atiya, Eli' 'Chronowski, Peter' 'Keevan, LJ' 'Armbrustmacher, Dane'\n",
      " 'Duke, Hayden' 'Jette, Jacob' 'Sorrell, Roman' 'Nicholson, Gabe '\n",
      " 'Grace, Ranard' 'Loftin, Bradley' 'Huff, Hollis' 'Windham, Payton'\n",
      " 'Campbell, Tyler' 'Wager, Zach' 'Steinhauer, Ryan' 'Tapper, Brock'\n",
      " 'Bauman, Tanner' 'Garcia, Samuel' 'Rabin, Reece' 'Coady, Owen'\n",
      " 'Phipps, Jackson' 'Tobin, Will' 'Chmielewski, Tom' 'Bosma, Tyler'\n",
      " 'Shoemaker, David' 'Connell, Kirby' 'Peters, Garrett' 'Massey, Sam'\n",
      " 'Ewald, Tim' 'McDaniel, Mason' 'Bradshaw, Riley' 'Harland, Ryan'\n",
      " 'Mullan, Bradley' 'Graverson, Cole' 'Dunkelberger, Michael'\n",
      " 'Copeland, Konner' 'Bak, Brandon' 'Thompson, Noah' 'Martinez, Domenic'\n",
      " 'Fontenot, Cade' 'Colarusso, AJ' 'Hack, Christian' 'Lyke, Ethan'\n",
      " 'Hesseltine, Hunter' 'Laboy, Jorhan' 'Colon, Shadai' 'Byers, Evan'\n",
      " 'Fincher, Jonathan' 'Rodriguez, Jackson' 'Barrera, Diego' 'Bakke, John'\n",
      " 'Blackwell, Jonathan' 'Gerl, Ben' 'Ogden, JD ' 'Daugherty, Ryan'\n",
      " 'Gaviria, Daniel' 'Mercer, Colton' 'Smith, Dalton' 'Vail, Tommy'\n",
      " 'Owen, Hunter' 'Futrell, Devin' 'Morris, Zack' 'Sechrist, Zander'\n",
      " 'Quincy, Adam' 'Janak, Dillan' 'McCormick, James' 'Frederick, Jakob'\n",
      " 'Faulkner, Gavin' 'Hall, Quinton' 'Hollan, Hunter' 'Holton, Carter'\n",
      " 'Aschenbeck, Evan' 'Crotchfelt, Zach' 'Prosoki, Cooper' 'Gonzales, Isaac'\n",
      " 'Wheeler, Trey' 'Cooper, Riley' 'Smith, Nic' 'Mims, Michael'\n",
      " 'Smith, Austin' 'Wissler, Daniel' 'Lamkin, Justin' 'Nelson, Drew'\n",
      " 'Fitzpatrick, Sean' 'Casto, Daniel' 'Cijntje, Jurrangelo' 'Smith, Brock'\n",
      " 'Thompson, JD' 'Becker, Matthew' 'Dillard, Matt' 'Egan, Crew'\n",
      " 'Webster, Evan' 'Johnston, Will' 'Davis, Tyler' 'Goldstein, Charlie'\n",
      " 'Vaught, Chance' 'Brasosky, Gavin' 'Evans Jr, Jarvis' 'Caldwell, Collin'\n",
      " 'Walter, Daniel' 'Maynard, Brody' 'Morgan, Trey' 'Ross, Luke'\n",
      " 'Byers, Carson ' 'Heiberger, Matthew' 'Thompson, Sam' 'Beard, Trey'\n",
      " 'Staiano, Michael' 'Davis, Alton' 'Vardavas, Nick' 'Galyean, Tyler'\n",
      " 'DeMonica, Nick' 'Fisher, Colin' 'Torbett, Cole' 'Whittle, Parker'\n",
      " 'McCarley, Derek' 'Mendes, Wesley' 'Ruller, Joseph' 'Ginther, Ryan'\n",
      " 'Meyer, Tommy' 'Paulsen Jr., Erik' 'Prager, Ryan' 'Toporek, Jake'\n",
      " 'Dennis, Gunnar' 'Behnke, Andrew' 'Lourens, Je-Andrick' 'Haston, Brandon'\n",
      " 'Osborne, Ethan' 'Bosecker, Cory' 'Diuguid, Lane' 'Hart, Evan'\n",
      " 'Bertram, Reid' 'Pazos, Bryan' 'Charlton, Tyler' 'Krouse, Lucas'\n",
      " 'Good, Nic' 'DeTaeye, Benjamin' 'Coe, Garrett' 'Jones, Cam'\n",
      " 'Niman, Dominic' 'Mitchell, Joey' 'Molina, Mason' 'Roulette, Allen'\n",
      " 'Cinnella, Joe' 'Beckner, Drew' 'Durham, JT' 'Malone, James'\n",
      " 'Moats, Kyle' 'Adams, Zane' 'Hall, Regan' 'Mahan, Ethan'\n",
      " 'Hutchings, Payton' 'Clark, Evan' 'Kopetski, Josh' 'Myers, Carson'\n",
      " 'Merriweather, Dj' 'Pimental, Javyn' 'Meier, Jackson' 'Pollard, Davin'\n",
      " 'Doyle, Liam' 'Gainey, Garrett' 'Loer, Justin' 'Reed, Kevin'\n",
      " 'Kressin, Jace' 'Aguado, Devin' 'Stevens, Nolan' 'Ackenhausen, Nathan'\n",
      " 'Caglianone, Jac' 'Kenty, Jansen' 'Smith, Hagen' 'Nove, Jackson'\n",
      " 'Gross, Mitchell' 'Farone, Greg' 'Sdao, Shane' 'Stamos, Chris'\n",
      " 'Hellmers, Will' 'Huffling, Max' 'Menendez, Frank' 'Green, Miller'\n",
      " 'White, Ryan' 'Wheeler, Dylan' 'Scragg, Josh' 'McGovern, Jacob'\n",
      " 'Simmons, Austin' 'Dutton, Sam ' 'Posey, Courtland' 'Risley, Braydon'\n",
      " 'Mayo, Jackson' 'Phillips, Riley' 'Magdic, Ryan' 'Coppola, Pierce'] 195\n"
     ]
    }
   ],
   "execution_count": 29
  },
  {
   "metadata": {
    "ExecuteTime": {
     "end_time": "2024-10-05T00:29:19.594551Z",
     "start_time": "2024-10-05T00:29:19.584811Z"
    }
   },
   "cell_type": "code",
   "source": [
    "def ll_os_stuff(name):\n",
    "    \n",
    "    preds = ['RelSpeed','VertRelAngle','HorzRelAngle','SpinRate','SpinAxis','RelHeight','RelSide','Extension','VertBreak','InducedVertBreak','HorzBreak','ZoneSpeed','VertApprAngle','HorzApprAngle','ZoneTime','pfxx','pfxz','x0','y0','z0','vx0','vy0','vz0','ax0','ay0','az0','SpeedDrop','PitchTrajectoryXc1','PitchTrajectoryXc2','PitchTrajectoryYc0','PitchTrajectoryYc1','PitchTrajectoryYc2','PitchTrajectoryZc0','PitchTrajectoryZc1','PitchTrajectoryZc2']\n",
    "    \n",
    "    all_preds = model.predict_proba(os_ll_X)[:,1]\n",
    "    mean_pred = np.mean(all_preds)\n",
    "\n",
    "    pitcher = subsets[name]\n",
    "    pitcher_x = pitcher[preds]\n",
    "\n",
    "    whiff_preds = model.predict_proba(pitcher_x)[:,1]\n",
    "\n",
    "    stuff = whiff_preds/mean_pred\n",
    "    \n",
    "    return np.mean(stuff * 100)\n"
   ],
   "id": "899ca4b82adfed11",
   "outputs": [],
   "execution_count": 30
  },
  {
   "metadata": {
    "ExecuteTime": {
     "end_time": "2024-10-05T00:29:38.511888Z",
     "start_time": "2024-10-05T00:29:38.474594Z"
    }
   },
   "cell_type": "code",
   "source": [
    "#Stuff+ for selected pitchers Offspeed in LHP v LHB split\n",
    "ll_os_stuff('Myers, Carson')"
   ],
   "id": "fe0b65f41dd760f",
   "outputs": [
    {
     "data": {
      "text/plain": [
       "16.412626"
      ]
     },
     "execution_count": 31,
     "metadata": {},
     "output_type": "execute_result"
    }
   ],
   "execution_count": 31
  }
 ],
 "metadata": {
  "kernelspec": {
   "display_name": "Python 3",
   "language": "python",
   "name": "python3"
  },
  "language_info": {
   "codemirror_mode": {
    "name": "ipython",
    "version": 2
   },
   "file_extension": ".py",
   "mimetype": "text/x-python",
   "name": "python",
   "nbconvert_exporter": "python",
   "pygments_lexer": "ipython2",
   "version": "2.7.6"
  }
 },
 "nbformat": 4,
 "nbformat_minor": 5
}
