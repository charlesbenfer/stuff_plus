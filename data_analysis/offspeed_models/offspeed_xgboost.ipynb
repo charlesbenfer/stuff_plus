{
 "cells": [
  {
   "cell_type": "code",
   "id": "initial_id",
   "metadata": {
    "collapsed": true,
    "ExecuteTime": {
     "end_time": "2024-09-27T18:16:57.244995100Z",
     "start_time": "2024-09-27T18:16:56.663076200Z"
    }
   },
   "source": [
    "import os\n",
    "import pandas as pd\n",
    "import numpy as np\n",
    "import xgboost\n",
    "from xgboost import XGBClassifier\n",
    "from sklearn.model_selection import train_test_split, RandomizedSearchCV\n",
    "from sklearn.metrics import accuracy_score, confusion_matrix, precision_score, recall_score, f1_score, roc_auc_score, roc_curve\n",
    "import scipy.stats as stats\n",
    "import matplotlib.pyplot as plt\n",
    "import seaborn as sns"
   ],
   "outputs": [],
   "execution_count": 1
  },
  {
   "cell_type": "code",
   "source": [
    "csv_dir = '../SEC Trackman Data/'\n",
    "all_files = [os.path.join(csv_dir, f) for f in os.listdir(csv_dir) if f.endswith('.csv')]\n",
    "\n",
    "df_list = []\n",
    "\n",
    "for file in all_files:\n",
    "    df = pd.read_csv(file)\n",
    "    df_list.append(df)\n",
    "\n",
    "all_pitches = pd.concat(df_list, ignore_index=True)"
   ],
   "metadata": {
    "collapsed": false,
    "ExecuteTime": {
     "end_time": "2024-09-27T18:17:13.666318700Z",
     "start_time": "2024-09-27T18:16:58.018888600Z"
    }
   },
   "id": "dd4146438d50bd19",
   "outputs": [],
   "execution_count": 2
  },
  {
   "cell_type": "code",
   "source": [
    "tagged_pitch_types = all_pitches['TaggedPitchType'].unique()\n",
    "\n",
    "auto_pitch_types = all_pitches['AutoPitchType'].unique()"
   ],
   "metadata": {
    "collapsed": false,
    "ExecuteTime": {
     "end_time": "2024-09-27T18:17:25.856053700Z",
     "start_time": "2024-09-27T18:17:25.824726800Z"
    }
   },
   "id": "5e1eab7df27c202a",
   "outputs": [],
   "execution_count": 3
  },
  {
   "cell_type": "code",
   "source": [
    "off_speed = all_pitches[all_pitches['TaggedPitchType'].isin(['ChangeUp','Splitter'])]"
   ],
   "metadata": {
    "collapsed": false,
    "ExecuteTime": {
     "end_time": "2024-09-27T18:17:27.310599700Z",
     "start_time": "2024-09-27T18:17:27.220835300Z"
    }
   },
   "id": "c933788f893e2d60",
   "outputs": [],
   "execution_count": 4
  },
  {
   "cell_type": "code",
   "source": [
    "off_speed['whiff'] = np.where(off_speed['PitchCall']=='StrikeSwinging',1,0)"
   ],
   "metadata": {
    "collapsed": false,
    "ExecuteTime": {
     "end_time": "2024-09-27T18:17:28.542619600Z",
     "start_time": "2024-09-27T18:17:28.531623100Z"
    }
   },
   "id": "7100761ca3c2cc39",
   "outputs": [
    {
     "name": "stderr",
     "output_type": "stream",
     "text": [
      "C:\\Users\\charl\\AppData\\Local\\Temp\\ipykernel_19684\\3639497680.py:1: SettingWithCopyWarning: \n",
      "A value is trying to be set on a copy of a slice from a DataFrame.\n",
      "Try using .loc[row_indexer,col_indexer] = value instead\n",
      "\n",
      "See the caveats in the documentation: https://pandas.pydata.org/pandas-docs/stable/user_guide/indexing.html#returning-a-view-versus-a-copy\n",
      "  off_speed['whiff'] = np.where(off_speed['PitchCall']=='StrikeSwinging',1,0)\n"
     ]
    }
   ],
   "execution_count": 5
  },
  {
   "cell_type": "code",
   "source": [
    "os_preds = ['RelSpeed','VertRelAngle','HorzRelAngle','SpinRate','SpinAxis','RelHeight','RelSide','Extension','VertBreak','InducedVertBreak','HorzBreak','PlateLocHeight','PlateLocSide','ZoneSpeed','VertApprAngle','HorzApprAngle','ZoneTime','pfxx','pfxz','x0','y0','z0','vx0','vy0','vz0','ax0','ay0','az0','SpeedDrop','PitchTrajectoryXc1','PitchTrajectoryXc2','PitchTrajectoryYc0','PitchTrajectoryYc1','PitchTrajectoryYc2','PitchTrajectoryZc0','PitchTrajectoryZc1','PitchTrajectoryZc2']"
   ],
   "metadata": {
    "collapsed": false,
    "ExecuteTime": {
     "end_time": "2024-09-27T18:17:29.860958800Z",
     "start_time": "2024-09-27T18:17:29.853708300Z"
    }
   },
   "id": "72df382a6da74638",
   "outputs": [],
   "execution_count": 6
  },
  {
   "cell_type": "code",
   "source": [
    "off_speed_X = off_speed[os_preds]\n",
    "off_speed_y = off_speed['whiff']"
   ],
   "metadata": {
    "collapsed": false,
    "ExecuteTime": {
     "end_time": "2024-09-27T18:17:31.871292300Z",
     "start_time": "2024-09-27T18:17:31.857709500Z"
    }
   },
   "id": "3a827a1855e1628",
   "outputs": [],
   "execution_count": 7
  },
  {
   "cell_type": "code",
   "source": [
    "X_train, X_test, y_train, y_test = train_test_split(off_speed_X, off_speed_y, test_size=.33)\n",
    "\n",
    "model = XGBClassifier()\n",
    "model.fit(X_train, y_train)\n",
    "\n",
    "y_pred = model.predict(X_test)\n",
    "predictions = [round(value) for value in y_pred]\n",
    "\n",
    "accuracy = accuracy_score(y_test, predictions)\n",
    "print(\"Accuracy: %.2f%%\" % (accuracy * 100.0))"
   ],
   "metadata": {
    "collapsed": false,
    "ExecuteTime": {
     "end_time": "2024-09-27T18:17:43.950273600Z",
     "start_time": "2024-09-27T18:17:43.320440700Z"
    }
   },
   "id": "1fcbf31dabcc080f",
   "outputs": [
    {
     "name": "stdout",
     "output_type": "stream",
     "text": [
      "Accuracy: 83.14%\n"
     ]
    }
   ],
   "execution_count": 8
  },
  {
   "cell_type": "code",
   "source": [
    "cm = confusion_matrix(y_test, predictions)\n",
    "plt.figure(figsize=(10, 4))\n",
    "sns.heatmap(cm, annot=True, fmt='d', cmap='Blues')\n",
    "plt.xlabel('Predicted')\n",
    "plt.ylabel('Actual')\n",
    "plt.title('Confusion Matrix')\n",
    "plt.show()"
   ],
   "metadata": {
    "collapsed": false,
    "ExecuteTime": {
     "end_time": "2024-09-26T22:03:21.032847Z",
     "start_time": "2024-09-26T22:03:20.352783Z"
    }
   },
   "id": "ac10c92a4831e2e1",
   "outputs": [
    {
     "data": {
      "text/plain": [
       "<Figure size 1000x400 with 2 Axes>"
      ],
      "image/png": "[encoded data removed]"
     },
     "metadata": {},
     "output_type": "display_data"
    }
   ],
   "execution_count": 10
  },
  {
   "metadata": {
    "ExecuteTime": {
     "end_time": "2024-09-27T18:20:16.321197500Z",
     "start_time": "2024-09-27T18:20:16.258819Z"
    }
   },
   "cell_type": "code",
   "source": [
    "all_preds = model.predict_proba(off_speed_X)[:,1]\n",
    "mean_pred = np.mean(all_preds)\n",
    "\n",
    "print(mean_pred)\n",
    "\n",
    "sample = off_speed_X.sample(n=10)\n",
    "\n",
    "sample_preds = model.predict_proba(sample)[:,1]\n",
    "\n",
    "stuff = sample_preds/mean_pred\n",
    "\n",
    "print(stuff*100)"
   ],
   "id": "15b998c5d7a98425",
   "outputs": [
    {
     "name": "stdout",
     "output_type": "stream",
     "text": [
      "0.1518913\n",
      "[356.69348    73.762085   21.121288  130.92816   119.51968    30.811314\n",
      " 199.08481   398.07593     6.0342884  71.43755  ]\n"
     ]
    }
   ],
   "execution_count": 16
  },
  {
   "metadata": {
    "ExecuteTime": {
     "end_time": "2024-09-27T18:18:41.038263800Z",
     "start_time": "2024-09-27T18:18:37.071305400Z"
    }
   },
   "cell_type": "code",
   "source": [
    "# Get unique values\n",
    "unique_values = off_speed['Pitcher'].unique()\n",
    "\n",
    "# Create a dictionary to store subsets\n",
    "subsets = {value: off_speed[off_speed['Pitcher'] == value] for value in unique_values}"
   ],
   "id": "9a2187c7cdef9a66",
   "outputs": [],
   "execution_count": 14
  },
  {
   "cell_type": "code",
   "execution_count": 19,
   "outputs": [
    {
     "data": {
      "text/plain": "array(['ChangeUp'], dtype=object)"
     },
     "execution_count": 19,
     "metadata": {},
     "output_type": "execute_result"
    }
   ],
   "source": [
    "j_a = subsets['Graves, Griffin']\n",
    "j_a['TaggedPitchType'].unique()"
   ],
   "metadata": {
    "collapsed": false,
    "ExecuteTime": {
     "end_time": "2024-09-27T18:22:18.128462200Z",
     "start_time": "2024-09-27T18:22:18.112919100Z"
    }
   },
   "id": "4380e1c5b842a349"
  },
  {
   "metadata": {
    "ExecuteTime": {
     "end_time": "2024-09-27T18:22:27.295728500Z",
     "start_time": "2024-09-27T18:22:27.250462600Z"
    }
   },
   "cell_type": "code",
   "source": [
    "c_allsup = subsets['Graves, Griffin']\n",
    "c_allsup_X = c_allsup[os_preds]\n",
    "\n",
    "whiff_preds = model.predict_proba(c_allsup_X)[:,1]\n",
    "\n",
    "stuff = whiff_preds/mean_pred\n",
    "\n",
    "print(f\"Chase Allsup off-speed stuff+:{np.mean(stuff*100)}\")"
   ],
   "id": "507b7f58aeaeeb10",
   "outputs": [
    {
     "name": "stdout",
     "output_type": "stream",
     "text": [
      "Chase Allsup off-speed stuff+:90.9284896850586\n"
     ]
    }
   ],
   "execution_count": 20
  },
  {
   "metadata": {
    "ExecuteTime": {
     "end_time": "2024-09-26T22:14:38.597477Z",
     "start_time": "2024-09-26T22:14:38.577640Z"
    }
   },
   "cell_type": "code",
   "source": [
    "b_schorr = subsets['Schorr, Ben']\n",
    "b_schorr_X = b_schorr[os_preds]\n",
    "\n",
    "whiff_preds = model.predict_proba(b_schorr_X)[:,1]\n",
    "\n",
    "stuff = whiff_preds/mean_pred\n",
    "\n",
    "print(f\"Ben Schorr off-speed stuff+:{np.mean(stuff*100)}\")"
   ],
   "id": "c1c3fdcccbcd018c",
   "outputs": [
    {
     "name": "stdout",
     "output_type": "stream",
     "text": [
      "Ben Schorr off-speed stuff+:71.49032592773438\n"
     ]
    }
   ],
   "execution_count": 14
  }
 ],
 "metadata": {
  "kernelspec": {
   "display_name": "Python 3",
   "language": "python",
   "name": "python3"
  },
  "language_info": {
   "codemirror_mode": {
    "name": "ipython",
    "version": 2
   },
   "file_extension": ".py",
   "mimetype": "text/x-python",
   "name": "python",
   "nbconvert_exporter": "python",
   "pygments_lexer": "ipython2",
   "version": "2.7.6"
  }
 },
 "nbformat": 4,
 "nbformat_minor": 5
}
