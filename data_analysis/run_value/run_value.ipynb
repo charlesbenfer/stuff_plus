{
 "cells": [
  {
   "metadata": {},
   "cell_type": "markdown",
   "source": [
    "In this markdown, we create a model to predict run value for each pitch. To do so, we need to first add columns that describe the base runner situation for each AB"
   ],
   "id": "2bafdc3c0a34e565"
  },
  {
   "metadata": {},
   "cell_type": "markdown",
   "source": [
    "We first load in all the data"
   ],
   "id": "ff23a12ff3e70fa3"
  },
  {
   "cell_type": "code",
   "id": "initial_id",
   "metadata": {
    "collapsed": true
   },
   "source": [
    "#Packages\n",
    "import os\n",
    "import pandas as pd\n",
    "import numpy as np"
   ],
   "outputs": [],
   "execution_count": null
  },
  {
   "metadata": {},
   "cell_type": "code",
   "source": [
    "#Get Data\n",
    "csv_dir = '../../SEC Trackman Data/'\n",
    "all_files = [os.path.join(csv_dir, f) for f in os.listdir(csv_dir) if f.endswith('.csv')]\n",
    "\n",
    "df_list = []\n",
    "\n",
    "for file in all_files:\n",
    "    df = pd.read_csv(file)\n",
    "    df_list.append(df)\n",
    "\n",
    "all_pitches = pd.concat(df_list, ignore_index=True)"
   ],
   "id": "48229f9abf9e46c5",
   "outputs": [],
   "execution_count": null
  },
  {
   "metadata": {},
   "cell_type": "markdown",
   "source": [
    "Now that all the data is loaded, we can trim the columns down to only those which are necessary"
   ],
   "id": "17863812a32a1936"
  },
  {
   "metadata": {},
   "cell_type": "code",
   "source": [
    "pitches_trimmed = all_pitches[['PAofInning','Pitcher','PitcherThrows','Batter','BatterSide','Inning', 'Top/Bottom','Outs','Balls','Strikes','TaggedPitchType','PitchCall','KorBB','PlayResult','OutsOnPlay','RunsScored','RelSpeed','VertRelAngle','SpinRate','SpinAxis','Tilt','RelHeight','RelSide','Extension','VertBreak','InducedVertBreak','HorzBreak','PlateLocHeight','PlateLocSide','ZoneSpeed','VertApprAngle','HorzApprAngle','ZoneTime','pfxx','pfxz','x0','y0','z0','vx0','vy0','vz0','ax0','ay0','az0','SpeedDrop']]"
   ],
   "id": "bdd36cfb047ec7e1",
   "outputs": [],
   "execution_count": null
  },
  {
   "metadata": {},
   "cell_type": "markdown",
   "source": [
    "Now, we have to add some columns to take into account the runners on base"
   ],
   "id": "915277ea0c507a61"
  },
  {
   "metadata": {},
   "cell_type": "code",
   "source": [
    "pitches_trimmed.loc['1B'] = np.nan\n",
    "pitches_trimmed.loc['2B'] = np.nan\n",
    "pitches_trimmed.loc['3B'] = np.nan"
   ],
   "id": "67a5241d1f4e8b7b",
   "outputs": [],
   "execution_count": null
  },
  {
   "metadata": {},
   "cell_type": "markdown",
   "source": [
    "I will pause here and see wait to see if there is a data set in"
   ],
   "id": "51f9dd7577d78da5"
  }
 ],
 "metadata": {
  "kernelspec": {
   "display_name": "Python 3",
   "language": "python",
   "name": "python3"
  },
  "language_info": {
   "codemirror_mode": {
    "name": "ipython",
    "version": 2
   },
   "file_extension": ".py",
   "mimetype": "text/x-python",
   "name": "python",
   "nbconvert_exporter": "python",
   "pygments_lexer": "ipython2",
   "version": "2.7.6"
  }
 },
 "nbformat": 4,
 "nbformat_minor": 5
}
