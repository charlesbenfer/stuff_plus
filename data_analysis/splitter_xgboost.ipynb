{
 "cells": [
  {
   "cell_type": "code",
   "id": "initial_id",
   "metadata": {
    "collapsed": true,
    "ExecuteTime": {
     "end_time": "2024-10-04T22:24:41.818862Z",
     "start_time": "2024-10-04T22:24:40.227263Z"
    }
   },
   "source": [
    "#Packages\n",
    "import os\n",
    "import pandas as pd\n",
    "import numpy as np\n",
    "import xgboost\n",
    "from xgboost import XGBClassifier\n",
    "from sklearn.model_selection import train_test_split\n",
    "from sklearn.metrics import accuracy_score, confusion_matrix, precision_score, recall_score, f1_score, roc_auc_score, roc_curve\n",
    "from hyperopt import STATUS_OK, Trials, fmin, hp, tpe\n",
    "import matplotlib.pyplot as plt\n",
    "import seaborn as sns\n",
    "import shap"
   ],
   "outputs": [],
   "execution_count": 1
  },
  {
   "metadata": {
    "ExecuteTime": {
     "end_time": "2024-10-04T22:25:07.071031Z",
     "start_time": "2024-10-04T22:24:57.654358Z"
    }
   },
   "cell_type": "code",
   "source": [
    "#Get Data\n",
    "csv_dir = '../SEC Trackman Data/'\n",
    "all_files = [os.path.join(csv_dir, f) for f in os.listdir(csv_dir) if f.endswith('.csv')]\n",
    "\n",
    "df_list = []\n",
    "\n",
    "for file in all_files:\n",
    "    df = pd.read_csv(file)\n",
    "    df_list.append(df)\n",
    "\n",
    "all_pitches = pd.concat(df_list, ignore_index=True)\n",
    "\n",
    "print(all_pitches.shape)\n",
    "print(all_pitches.columns)"
   ],
   "id": "97ddf5ac83eb7587",
   "outputs": [
    {
     "name": "stdout",
     "output_type": "stream",
     "text": [
      "(270589, 167)\n",
      "Index(['PitchNo', 'Date', 'Time', 'PAofInning', 'PitchofPA', 'Pitcher',\n",
      "       'PitcherId', 'PitcherThrows', 'PitcherTeam', 'Batter',\n",
      "       ...\n",
      "       'ThrowTrajectoryZc1', 'ThrowTrajectoryZc2', 'PitchReleaseConfidence',\n",
      "       'PitchLocationConfidence', 'PitchMovementConfidence',\n",
      "       'HitLaunchConfidence', 'HitLandingConfidence',\n",
      "       'CatcherThrowCatchConfidence', 'CatcherThrowReleaseConfidence',\n",
      "       'CatcherThrowLocationConfidence'],\n",
      "      dtype='object', length=167)\n"
     ]
    }
   ],
   "execution_count": 2
  },
  {
   "metadata": {
    "ExecuteTime": {
     "end_time": "2024-10-04T22:25:57.485099Z",
     "start_time": "2024-10-04T22:25:57.052939Z"
    }
   },
   "cell_type": "code",
   "source": [
    "#Get all splitters\n",
    "os_sp = all_pitches[all_pitches['TaggedPitchType'].isin(['Splitter'])]\n",
    "print(os_sp.shape)"
   ],
   "id": "84cda7a338d460f4",
   "outputs": [
    {
     "name": "stdout",
     "output_type": "stream",
     "text": [
      "(1166, 167)\n"
     ]
    }
   ],
   "execution_count": 3
  },
  {
   "metadata": {
    "ExecuteTime": {
     "end_time": "2024-10-04T22:27:50.218656Z",
     "start_time": "2024-10-04T22:27:50.175428Z"
    }
   },
   "cell_type": "code",
   "source": [
    "#Subset splitters into platoon splits\n",
    "os_sp_rr = os_sp[(os_sp['PitcherThrows'] == 'Right') & (os_sp['BatterSide'] == 'Right')]\n",
    "os_sp_rl = os_sp[(os_sp['PitcherThrows'] == 'Right') & (os_sp['BatterSide'] == 'Left')]\n",
    "os_sp_lr = os_sp[(os_sp['PitcherThrows'] == 'Left') & (os_sp['BatterSide'] == 'Right')]\n",
    "os_sp_ll = os_sp[(os_sp['PitcherThrows'] == 'Left') & (os_sp['BatterSide'] == 'Left')]\n",
    "\n",
    "print(os_sp_rr.shape)\n",
    "print(os_sp_rl.shape)\n",
    "print(os_sp_lr.shape)\n",
    "print(os_sp_ll.shape)"
   ],
   "id": "827d24e870929933",
   "outputs": [
    {
     "name": "stdout",
     "output_type": "stream",
     "text": [
      "(284, 167)\n",
      "(517, 167)\n",
      "(322, 167)\n",
      "(43, 167)\n"
     ]
    }
   ],
   "execution_count": 4
  },
  {
   "metadata": {
    "ExecuteTime": {
     "end_time": "2024-10-04T22:28:40.297527Z",
     "start_time": "2024-10-04T22:28:40.265450Z"
    }
   },
   "cell_type": "code",
   "source": [
    "#Whiffs\n",
    "os_sp_rr['whiff'] = np.where(os_sp_rr['PitchCall']=='StrikeSwinging',1,0)\n",
    "os_sp_rl['whiff'] = np.where(os_sp_rl['PitchCall']=='StrikeSwinging',1,0)\n",
    "os_sp_lr['whiff'] = np.where(os_sp_lr['PitchCall']=='StrikeSwinging',1,0)\n",
    "os_sp_ll['whiff'] = np.where(os_sp_ll['PitchCall']=='StrikeSwinging',1,0)"
   ],
   "id": "d32c67a1cffa8026",
   "outputs": [
    {
     "name": "stderr",
     "output_type": "stream",
     "text": [
      "C:\\Users\\ethan\\AppData\\Local\\Temp\\ipykernel_19092\\234080586.py:2: SettingWithCopyWarning: \n",
      "A value is trying to be set on a copy of a slice from a DataFrame.\n",
      "Try using .loc[row_indexer,col_indexer] = value instead\n",
      "\n",
      "See the caveats in the documentation: https://pandas.pydata.org/pandas-docs/stable/user_guide/indexing.html#returning-a-view-versus-a-copy\n",
      "  os_sp_rr['whiff'] = np.where(os_sp_rr['PitchCall']=='StrikeSwinging',1,0)\n",
      "C:\\Users\\ethan\\AppData\\Local\\Temp\\ipykernel_19092\\234080586.py:3: SettingWithCopyWarning: \n",
      "A value is trying to be set on a copy of a slice from a DataFrame.\n",
      "Try using .loc[row_indexer,col_indexer] = value instead\n",
      "\n",
      "See the caveats in the documentation: https://pandas.pydata.org/pandas-docs/stable/user_guide/indexing.html#returning-a-view-versus-a-copy\n",
      "  os_sp_rl['whiff'] = np.where(os_sp_rl['PitchCall']=='StrikeSwinging',1,0)\n",
      "C:\\Users\\ethan\\AppData\\Local\\Temp\\ipykernel_19092\\234080586.py:4: SettingWithCopyWarning: \n",
      "A value is trying to be set on a copy of a slice from a DataFrame.\n",
      "Try using .loc[row_indexer,col_indexer] = value instead\n",
      "\n",
      "See the caveats in the documentation: https://pandas.pydata.org/pandas-docs/stable/user_guide/indexing.html#returning-a-view-versus-a-copy\n",
      "  os_sp_lr['whiff'] = np.where(os_sp_lr['PitchCall']=='StrikeSwinging',1,0)\n",
      "C:\\Users\\ethan\\AppData\\Local\\Temp\\ipykernel_19092\\234080586.py:5: SettingWithCopyWarning: \n",
      "A value is trying to be set on a copy of a slice from a DataFrame.\n",
      "Try using .loc[row_indexer,col_indexer] = value instead\n",
      "\n",
      "See the caveats in the documentation: https://pandas.pydata.org/pandas-docs/stable/user_guide/indexing.html#returning-a-view-versus-a-copy\n",
      "  os_sp_ll['whiff'] = np.where(os_sp_ll['PitchCall']=='StrikeSwinging',1,0)\n"
     ]
    }
   ],
   "execution_count": 5
  },
  {
   "metadata": {
    "ExecuteTime": {
     "end_time": "2024-10-04T22:30:23.787940Z",
     "start_time": "2024-10-04T22:30:23.764425Z"
    }
   },
   "cell_type": "code",
   "source": [
    "#Predictor Variables\n",
    "preds = ['RelSpeed','VertRelAngle','HorzRelAngle','SpinRate','SpinAxis','RelHeight','RelSide','Extension','VertBreak','InducedVertBreak','HorzBreak','ZoneSpeed','VertApprAngle','HorzApprAngle','ZoneTime','pfxx','pfxz','x0','y0','z0','vx0','vy0','vz0','ax0','ay0','az0','SpeedDrop','PitchTrajectoryXc1','PitchTrajectoryXc2','PitchTrajectoryYc0','PitchTrajectoryYc1','PitchTrajectoryYc2','PitchTrajectoryZc0','PitchTrajectoryZc1','PitchTrajectoryZc2']"
   ],
   "id": "ad69822aa4a2dddf",
   "outputs": [],
   "execution_count": 6
  },
  {
   "metadata": {},
   "cell_type": "markdown",
   "source": "Righty vs Righty split",
   "id": "eaf23f62039bba27"
  },
  {
   "metadata": {
    "ExecuteTime": {
     "end_time": "2024-10-04T22:30:51.717824Z",
     "start_time": "2024-10-04T22:30:51.699808Z"
    }
   },
   "cell_type": "code",
   "source": [
    "os_sp_rr_X = os_sp_rr[preds]\n",
    "os_sp_rr_y = os_sp_rr['whiff']"
   ],
   "id": "90db5dff27d1993e",
   "outputs": [],
   "execution_count": 7
  },
  {
   "metadata": {
    "ExecuteTime": {
     "end_time": "2024-10-04T22:31:16.518609Z",
     "start_time": "2024-10-04T22:31:16.285973Z"
    }
   },
   "cell_type": "code",
   "source": [
    "#Train Model: RHP vs RHB\n",
    "X_train, X_test, y_train, y_test = train_test_split(os_sp_rr_X, os_sp_rr_y, test_size=.33, random_state=25)\n",
    "\n",
    "model = XGBClassifier()\n",
    "model.fit(X_train, y_train)\n",
    "\n",
    "y_pred = model.predict(X_test)\n",
    "predictions = [round(value) for value in y_pred]\n",
    "\n",
    "accuracy = accuracy_score(y_test, predictions)\n",
    "print(\"Accuracy: %.2f%%\" % (accuracy * 100.0))"
   ],
   "id": "a2835e9a13df20a9",
   "outputs": [
    {
     "name": "stdout",
     "output_type": "stream",
     "text": [
      "Accuracy: 85.11%\n"
     ]
    }
   ],
   "execution_count": 8
  },
  {
   "metadata": {
    "ExecuteTime": {
     "end_time": "2024-10-04T22:31:29.682128Z",
     "start_time": "2024-10-04T22:31:29.393054Z"
    }
   },
   "cell_type": "code",
   "source": [
    "y_pred_prob = model.predict_proba(X_test)[:,1]\n",
    "roc_auc = roc_auc_score(y_test, predictions, multi_class='ovr')\n",
    "\n",
    "print(f'ROC AUC: {roc_auc:.4f}')\n",
    "\n",
    "# Plotting ROC Curve for one class (e.g., class 0)\n",
    "fpr, tpr, _ = roc_curve(y_test == 1, y_pred_prob)\n",
    "plt.plot(fpr, tpr, label='Class 0 ROC curve')\n",
    "plt.xlabel('False Positive Rate')\n",
    "plt.ylabel('True Positive Rate')\n",
    "plt.title('ROC Curve')\n",
    "plt.legend(loc='best')\n",
    "plt.show()"
   ],
   "id": "cb61d1530409adc2",
   "outputs": [
    {
     "name": "stdout",
     "output_type": "stream",
     "text": [
      "ROC AUC: 0.6570\n"
     ]
    },
    {
     "data": {
      "text/plain": [
       "<Figure size 640x480 with 1 Axes>"
      ],
      "image/png": "[encoded data removed]"
     },
     "metadata": {},
     "output_type": "display_data"
    }
   ],
   "execution_count": 9
  },
  {
   "metadata": {
    "ExecuteTime": {
     "end_time": "2024-10-04T22:37:52.655547Z",
     "start_time": "2024-10-04T22:37:52.602327Z"
    }
   },
   "cell_type": "code",
   "source": [
    "# Get unique values\n",
    "unique_values = os_sp_rr['Pitcher'].unique()\n",
    "\n",
    "\n",
    "#List of Pitchers that threw splitter, as well as amount\n",
    "print(unique_values, len(unique_values))\n",
    "\n",
    "# Create a dictionary to store subsets\n",
    "subsets = {value: os_sp_rr[os_sp_rr['Pitcher'] == value] for value in unique_values}"
   ],
   "id": "bd67287023b233d5",
   "outputs": [
    {
     "name": "stdout",
     "output_type": "stream",
     "text": [
      "46\n",
      "['Alberghini, Kaden' 'Frank, Koty' 'Martinez, Javier' 'Davis, Ethan'\n",
      " 'Allsup, Chase' 'Alexander, Ethan' 'Moore, Grayson' 'Franklin, Zach'\n",
      " 'Waldrep, Hurston' 'Foutch, Christian' 'Johnson, Lebarron' 'Sexton, Ty'\n",
      " 'Gartman, Landon' 'Newman, Jeremiah' 'Gaeto, Alex' 'Ficarrotta, Nick'\n",
      " 'Dollander, Chase' 'McCoy, James' 'Austin, Cade' 'Greenler, Kyle'\n",
      " 'Lindsey, Andrew' 'Lunceford, Logan' 'Schuelke, Cam' 'Tilly, Cameron'\n",
      " 'Galdoni, Lukas ' 'Parlin, Bryce' 'Brown, Rese' 'Birkman, Owen'\n",
      " 'Pryor, Will' 'Johnson, Ben' 'Chabot, Julian' 'Badmaev, Zane'\n",
      " 'Guisewite, Caleb' \"O'Brien, Liam\" 'Cleveland, Jackson' 'Holman, Luke'\n",
      " 'Grotyohann, Connor' 'Kasper, Sean' 'Manase, Seti' 'Vogel, Jacob'\n",
      " 'Nichols, Mason' 'Varnadoe, Hunter' 'Quinn, Victor' 'Pitzer, Tyler'\n",
      " 'Mayer, Bryce' 'Wood, Gage'] 46\n"
     ]
    }
   ],
   "execution_count": 16
  },
  {
   "metadata": {
    "ExecuteTime": {
     "end_time": "2024-10-04T22:33:29.549425Z",
     "start_time": "2024-10-04T22:33:29.542389Z"
    }
   },
   "cell_type": "code",
   "source": [
    "def rr_os_sp_stuff(name):\n",
    "    \n",
    "    preds = ['RelSpeed','VertRelAngle','HorzRelAngle','SpinRate','SpinAxis','RelHeight','RelSide','Extension','VertBreak','InducedVertBreak','HorzBreak','ZoneSpeed','VertApprAngle','HorzApprAngle','ZoneTime','pfxx','pfxz','x0','y0','z0','vx0','vy0','vz0','ax0','ay0','az0','SpeedDrop','PitchTrajectoryXc1','PitchTrajectoryXc2','PitchTrajectoryYc0','PitchTrajectoryYc1','PitchTrajectoryYc2','PitchTrajectoryZc0','PitchTrajectoryZc1','PitchTrajectoryZc2']\n",
    "    \n",
    "    all_preds = model.predict_proba(os_sp_rr_X)[:,1]\n",
    "    mean_pred = np.mean(all_preds)\n",
    "\n",
    "    pitcher = subsets[name]\n",
    "    pitcher_x = pitcher[preds]\n",
    "\n",
    "    whiff_preds = model.predict_proba(pitcher_x)[:,1]\n",
    "\n",
    "    stuff = whiff_preds/mean_pred\n",
    "    \n",
    "    return np.mean(stuff * 100)\n",
    "\n",
    "    \n"
   ],
   "id": "6f1dfc19dd130700",
   "outputs": [],
   "execution_count": 11
  },
  {
   "metadata": {
    "ExecuteTime": {
     "end_time": "2024-10-04T22:39:48.373456Z",
     "start_time": "2024-10-04T22:39:48.349684Z"
    }
   },
   "cell_type": "code",
   "source": [
    "#Stuff+ for selected pitchers Splitter in RHP v RHB split\n",
    "rr_os_sp_stuff('Tilly, Cameron')"
   ],
   "id": "a8434f488e78791e",
   "outputs": [
    {
     "data": {
      "text/plain": [
       "120.82684"
      ]
     },
     "execution_count": 18,
     "metadata": {},
     "output_type": "execute_result"
    }
   ],
   "execution_count": 18
  },
  {
   "metadata": {},
   "cell_type": "markdown",
   "source": "Righty vs. Lefty Split",
   "id": "e937622a4cde0646"
  },
  {
   "metadata": {
    "ExecuteTime": {
     "end_time": "2024-10-04T22:40:28.814315Z",
     "start_time": "2024-10-04T22:40:28.802794Z"
    }
   },
   "cell_type": "code",
   "source": [
    "os_sp_rl_X = os_sp_rl[preds]\n",
    "os_sp_rl_y = os_sp_rl['whiff']"
   ],
   "id": "a748186aeeda3186",
   "outputs": [],
   "execution_count": 19
  },
  {
   "metadata": {
    "ExecuteTime": {
     "end_time": "2024-10-04T22:40:50.821202Z",
     "start_time": "2024-10-04T22:40:50.713042Z"
    }
   },
   "cell_type": "code",
   "source": [
    "#Train Model: RHP vs LHB\n",
    "X_train, X_test, y_train, y_test = train_test_split(os_sp_rl_X, os_sp_rl_y, test_size=.33, random_state=25)\n",
    "\n",
    "model = XGBClassifier()\n",
    "model.fit(X_train, y_train)\n",
    "\n",
    "y_pred = model.predict(X_test)\n",
    "predictions = [round(value) for value in y_pred]\n",
    "\n",
    "accuracy = accuracy_score(y_test, predictions)\n",
    "print(\"Accuracy: %.2f%%\" % (accuracy * 100.0))"
   ],
   "id": "b2bb1af036f47c09",
   "outputs": [
    {
     "name": "stdout",
     "output_type": "stream",
     "text": [
      "Accuracy: 83.63%\n"
     ]
    }
   ],
   "execution_count": 20
  },
  {
   "metadata": {
    "ExecuteTime": {
     "end_time": "2024-10-04T22:42:51.035131Z",
     "start_time": "2024-10-04T22:42:50.984679Z"
    }
   },
   "cell_type": "code",
   "source": [
    "# Get unique values\n",
    "unique_values = os_sp_rl['Pitcher'].unique()\n",
    "\n",
    "#List of Pitchers that threw splitter, as well as amount\n",
    "print(unique_values, len(unique_values))\n",
    "\n",
    "# Create a dictionary to store subsets\n",
    "subsets = {value: os_sp_rl[os_sp_rl['Pitcher'] == value] for value in unique_values}"
   ],
   "id": "d887ca9755eb0590",
   "outputs": [
    {
     "name": "stdout",
     "output_type": "stream",
     "text": [
      "['Leaverton, Blake' 'Martinez, Javier' 'Cleveland, Jackson' 'Frank, Koty'\n",
      " 'Adcock, Cody' 'Zwitzer, Jurgen' 'Castro, Josiah' 'Moore, Grayson'\n",
      " 'Schroeder, Austin' 'Santos, Nolan' 'Foutch, Christian' 'Franklin, Zach'\n",
      " 'Allsup, Chase' 'Waldrep, Hurston' 'Ficarrotta, Nick' 'Johnson, Lebarron'\n",
      " 'Sexton, Ty' 'Marsh, Chandler' 'Lunceford, Logan' 'Wood, Gage'\n",
      " 'Fluno, Carson' 'Hoopes, Hunter' 'Cortez, Christopher' 'Austin, Cade'\n",
      " 'Schuelke, Cam' 'Badmaev, Zane' 'Galdoni, Lukas ' 'Parlin, Bryce'\n",
      " 'Schaefer, Derek' 'Brown, Rese' 'Dutkanych, Andrew' 'Birkman, Owen'\n",
      " 'Mariano, Matthew' 'Duby, Bill' 'Johnson, Ben' 'Chabot, Julian'\n",
      " \"O'Brien, Liam\" 'Dossett, Cooper' 'McCoy, James' 'Brewer, Alex'\n",
      " 'Holman, Luke' 'Grotyohann, Connor' 'Chadwick, Tyrelle' 'Morrow, Kanin'\n",
      " 'Tilly, Cameron' 'Manase, Seti' 'Vogel, Jacob' 'MacRae, Coleman'\n",
      " 'Kingsbery, Fischer' 'McGonigal, Paddy' 'Roberge, Josh'] 51\n"
     ]
    }
   ],
   "execution_count": 21
  },
  {
   "metadata": {
    "ExecuteTime": {
     "end_time": "2024-10-04T22:43:57.194660Z",
     "start_time": "2024-10-04T22:43:57.185906Z"
    }
   },
   "cell_type": "code",
   "source": [
    "def rl_os_sp_stuff(name):\n",
    "    \n",
    "    preds = ['RelSpeed','VertRelAngle','HorzRelAngle','SpinRate','SpinAxis','RelHeight','RelSide','Extension','VertBreak','InducedVertBreak','HorzBreak','ZoneSpeed','VertApprAngle','HorzApprAngle','ZoneTime','pfxx','pfxz','x0','y0','z0','vx0','vy0','vz0','ax0','ay0','az0','SpeedDrop','PitchTrajectoryXc1','PitchTrajectoryXc2','PitchTrajectoryYc0','PitchTrajectoryYc1','PitchTrajectoryYc2','PitchTrajectoryZc0','PitchTrajectoryZc1','PitchTrajectoryZc2']\n",
    "    \n",
    "    all_preds = model.predict_proba(os_sp_rl_X)[:,1]\n",
    "    mean_pred = np.mean(all_preds)\n",
    "\n",
    "    pitcher = subsets[name]\n",
    "    pitcher_x = pitcher[preds]\n",
    "\n",
    "    whiff_preds = model.predict_proba(pitcher_x)[:,1]\n",
    "\n",
    "    stuff = whiff_preds/mean_pred\n",
    "    \n",
    "    return np.mean(stuff * 100)\n"
   ],
   "id": "37c0944a2687d73d",
   "outputs": [],
   "execution_count": 22
  },
  {
   "metadata": {
    "ExecuteTime": {
     "end_time": "2024-10-04T22:44:29.618894Z",
     "start_time": "2024-10-04T22:44:29.589993Z"
    }
   },
   "cell_type": "code",
   "source": [
    "#Stuff+ for selected pitchers Splitter in RHP v LHB split\n",
    "rl_os_sp_stuff('Tilly, Cameron')"
   ],
   "id": "5166a4199c83cf29",
   "outputs": [
    {
     "data": {
      "text/plain": [
       "160.62231"
      ]
     },
     "execution_count": 24,
     "metadata": {},
     "output_type": "execute_result"
    }
   ],
   "execution_count": 24
  },
  {
   "metadata": {},
   "cell_type": "markdown",
   "source": "Lefty vs. Righty Split",
   "id": "5852ee46b94cc1a0"
  },
  {
   "metadata": {
    "ExecuteTime": {
     "end_time": "2024-10-04T22:49:15.384951Z",
     "start_time": "2024-10-04T22:49:15.375418Z"
    }
   },
   "cell_type": "code",
   "source": [
    "os_sp_lr_X = os_sp_lr[preds]\n",
    "os_sp_lr_y = os_sp_lr['whiff']"
   ],
   "id": "1d7a122de31f23c6",
   "outputs": [],
   "execution_count": 25
  },
  {
   "metadata": {
    "ExecuteTime": {
     "end_time": "2024-10-04T22:49:46.235963Z",
     "start_time": "2024-10-04T22:49:46.132879Z"
    }
   },
   "cell_type": "code",
   "source": [
    "#Train Model: LHP vs RHB\n",
    "X_train, X_test, y_train, y_test = train_test_split(os_sp_lr_X, os_sp_lr_y, test_size=.33, random_state=25)\n",
    "\n",
    "model = XGBClassifier()\n",
    "model.fit(X_train, y_train)\n",
    "\n",
    "y_pred = model.predict(X_test)\n",
    "predictions = [round(value) for value in y_pred]\n",
    "\n",
    "accuracy = accuracy_score(y_test, predictions)\n",
    "print(\"Accuracy: %.2f%%\" % (accuracy * 100.0))"
   ],
   "id": "a04d1f0179973e0",
   "outputs": [
    {
     "name": "stdout",
     "output_type": "stream",
     "text": [
      "Accuracy: 82.24%\n"
     ]
    }
   ],
   "execution_count": 26
  },
  {
   "metadata": {
    "ExecuteTime": {
     "end_time": "2024-10-04T22:51:19.106498Z",
     "start_time": "2024-10-04T22:51:19.076783Z"
    }
   },
   "cell_type": "code",
   "source": [
    "# Get unique values\n",
    "unique_values = os_sp_lr['Pitcher'].unique()\n",
    "\n",
    "#List of Pitchers that threw splitter, as well as amount\n",
    "print(unique_values, len(unique_values))\n",
    "\n",
    "# Create a dictionary to store subsets\n",
    "subsets = {value: os_sp_lr[os_sp_lr['Pitcher'] == value] for value in unique_values}\n"
   ],
   "id": "248b3186ab80452c",
   "outputs": [
    {
     "name": "stdout",
     "output_type": "stream",
     "text": [
      "['Morris, Zack' 'Smith, Hagen' 'Keithley, Carson' 'Prager, Ryan'\n",
      " 'Doyle, Liam' 'Lourens, Je-Andrick' 'Riggins, Miller' 'Ramos, Rigo'\n",
      " 'Reed, Kevin' 'Sharp, Brayden' 'Dietz, Hunter' 'Huffling, Max'\n",
      " 'Ackenhausen, Nathan' 'Behnke, Andrew'] 14\n"
     ]
    }
   ],
   "execution_count": 27
  },
  {
   "metadata": {
    "ExecuteTime": {
     "end_time": "2024-10-04T22:51:55.020639Z",
     "start_time": "2024-10-04T22:51:55.012856Z"
    }
   },
   "cell_type": "code",
   "source": [
    "def lr_os_sp_stuff(name):\n",
    "    \n",
    "    preds = ['RelSpeed','VertRelAngle','HorzRelAngle','SpinRate','SpinAxis','RelHeight','RelSide','Extension','VertBreak','InducedVertBreak','HorzBreak','ZoneSpeed','VertApprAngle','HorzApprAngle','ZoneTime','pfxx','pfxz','x0','y0','z0','vx0','vy0','vz0','ax0','ay0','az0','SpeedDrop','PitchTrajectoryXc1','PitchTrajectoryXc2','PitchTrajectoryYc0','PitchTrajectoryYc1','PitchTrajectoryYc2','PitchTrajectoryZc0','PitchTrajectoryZc1','PitchTrajectoryZc2']\n",
    "    \n",
    "    all_preds = model.predict_proba(os_sp_lr_X)[:,1]\n",
    "    mean_pred = np.mean(all_preds)\n",
    "\n",
    "    pitcher = subsets[name]\n",
    "    pitcher_x = pitcher[preds]\n",
    "\n",
    "    whiff_preds = model.predict_proba(pitcher_x)[:,1]\n",
    "\n",
    "    stuff = whiff_preds/mean_pred\n",
    "    \n",
    "    return np.mean(stuff * 100)\n"
   ],
   "id": "d2eacbcc75546a0b",
   "outputs": [],
   "execution_count": 28
  },
  {
   "metadata": {
    "ExecuteTime": {
     "end_time": "2024-10-04T22:52:37.056775Z",
     "start_time": "2024-10-04T22:52:37.030619Z"
    }
   },
   "cell_type": "code",
   "source": [
    "#Stuff+ for selected pitchers Splitter in LHP v RHB split\n",
    "lr_os_sp_stuff('Ackenhausen, Nathan')"
   ],
   "id": "7d22b1d04ab4093f",
   "outputs": [
    {
     "data": {
      "text/plain": [
       "197.50195"
      ]
     },
     "execution_count": 29,
     "metadata": {},
     "output_type": "execute_result"
    }
   ],
   "execution_count": 29
  },
  {
   "metadata": {},
   "cell_type": "markdown",
   "source": "Lefty vs. Lefty Split",
   "id": "5730af4bb8880c44"
  },
  {
   "metadata": {
    "ExecuteTime": {
     "end_time": "2024-10-04T22:53:27.288894Z",
     "start_time": "2024-10-04T22:53:27.279444Z"
    }
   },
   "cell_type": "code",
   "source": [
    "os_sp_ll_X = os_sp_ll[preds]\n",
    "os_sp_ll_y = os_sp_ll['whiff']"
   ],
   "id": "a6490a799ea59da",
   "outputs": [],
   "execution_count": 30
  },
  {
   "metadata": {
    "ExecuteTime": {
     "end_time": "2024-10-04T22:54:36.182640Z",
     "start_time": "2024-10-04T22:54:36.134258Z"
    }
   },
   "cell_type": "code",
   "source": [
    "#Train Model: LHP vs LHB\n",
    "X_train, X_test, y_train, y_test = train_test_split(os_sp_ll_X, os_sp_ll_y, test_size=.33, random_state=25)\n",
    "\n",
    "model = XGBClassifier()\n",
    "model.fit(X_train, y_train)\n",
    "\n",
    "y_pred = model.predict(X_test)\n",
    "predictions = [round(value) for value in y_pred]\n",
    "\n",
    "accuracy = accuracy_score(y_test, predictions)\n",
    "print(\"Accuracy: %.2f%%\" % (accuracy * 100.0))"
   ],
   "id": "a1c7e19d53af7025",
   "outputs": [
    {
     "name": "stdout",
     "output_type": "stream",
     "text": [
      "Accuracy: 60.00%\n"
     ]
    }
   ],
   "execution_count": 32
  },
  {
   "metadata": {
    "ExecuteTime": {
     "end_time": "2024-10-04T22:55:22.109567Z",
     "start_time": "2024-10-04T22:55:22.090429Z"
    }
   },
   "cell_type": "code",
   "source": [
    "# Get unique values\n",
    "unique_values = os_sp_ll['Pitcher'].unique()\n",
    "\n",
    "#List of Pitchers that threw splitter, as well as amount\n",
    "print(unique_values, len(unique_values))\n",
    "\n",
    "# Create a dictionary to store subsets\n",
    "subsets = {value: os_sp_ll[os_sp_ll['Pitcher'] == value] for value in unique_values}\n"
   ],
   "id": "c2acc73b8b83d8a0",
   "outputs": [
    {
     "name": "stdout",
     "output_type": "stream",
     "text": [
      "['Morris, Zack' 'Cijntje, Jurrangelo' 'Johnston, Will' 'Fisher, Colin'\n",
      " 'Prager, Ryan' 'Lourens, Je-Andrick' 'Mahan, Ethan' 'Doyle, Liam'\n",
      " 'Reed, Kevin' 'Heiberger, Matthew' 'Smith, Hagen' 'Huffling, Max'] 12\n"
     ]
    }
   ],
   "execution_count": 33
  },
  {
   "metadata": {
    "ExecuteTime": {
     "end_time": "2024-10-04T22:56:12.062275Z",
     "start_time": "2024-10-04T22:56:12.056241Z"
    }
   },
   "cell_type": "code",
   "source": [
    "def ll_os_sp_stuff(name):\n",
    "    \n",
    "    preds = ['RelSpeed','VertRelAngle','HorzRelAngle','SpinRate','SpinAxis','RelHeight','RelSide','Extension','VertBreak','InducedVertBreak','HorzBreak','ZoneSpeed','VertApprAngle','HorzApprAngle','ZoneTime','pfxx','pfxz','x0','y0','z0','vx0','vy0','vz0','ax0','ay0','az0','SpeedDrop','PitchTrajectoryXc1','PitchTrajectoryXc2','PitchTrajectoryYc0','PitchTrajectoryYc1','PitchTrajectoryYc2','PitchTrajectoryZc0','PitchTrajectoryZc1','PitchTrajectoryZc2']\n",
    "    \n",
    "    all_preds = model.predict_proba(os_sp_ll_X)[:,1]\n",
    "    mean_pred = np.mean(all_preds)\n",
    "\n",
    "    pitcher = subsets[name]\n",
    "    pitcher_x = pitcher[preds]\n",
    "\n",
    "    whiff_preds = model.predict_proba(pitcher_x)[:,1]\n",
    "\n",
    "    stuff = whiff_preds/mean_pred\n",
    "    \n",
    "    return np.mean(stuff * 100)\n"
   ],
   "id": "cdc3afcc89289b0e",
   "outputs": [],
   "execution_count": 34
  },
  {
   "metadata": {
    "ExecuteTime": {
     "end_time": "2024-10-04T22:58:08.835572Z",
     "start_time": "2024-10-04T22:58:08.806399Z"
    }
   },
   "cell_type": "code",
   "source": [
    "#Stuff+ for selected pitchers Splitter in LHP v LHB split\n",
    "ll_os_sp_stuff('Prager, Ryan')"
   ],
   "id": "2e4ff7247c5ed69b",
   "outputs": [
    {
     "data": {
      "text/plain": [
       "109.342415"
      ]
     },
     "execution_count": 40,
     "metadata": {},
     "output_type": "execute_result"
    }
   ],
   "execution_count": 40
  }
 ],
 "metadata": {
  "kernelspec": {
   "display_name": "Python 3",
   "language": "python",
   "name": "python3"
  },
  "language_info": {
   "codemirror_mode": {
    "name": "ipython",
    "version": 2
   },
   "file_extension": ".py",
   "mimetype": "text/x-python",
   "name": "python",
   "nbconvert_exporter": "python",
   "pygments_lexer": "ipython2",
   "version": "2.7.6"
  }
 },
 "nbformat": 4,
 "nbformat_minor": 5
}
