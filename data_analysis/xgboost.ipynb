{
 "cells": [
  {
   "cell_type": "markdown",
   "source": [
    "In this notebook, we will concatenate all the game data into one data frame, and train an XGBoost model for whiff %. We will calculate stuff+ for generic fastball, off-speed, and breaking balls"
   ],
   "metadata": {
    "collapsed": false
   },
   "id": "c7b27866b927f2e4"
  },
  {
   "cell_type": "markdown",
   "source": [
    "First, we define the file path that contains all the data, and concatenate all csv files in the selected path "
   ],
   "metadata": {
    "collapsed": false
   },
   "id": "49a6a6ccdec76a51"
  },
  {
   "cell_type": "code",
   "execution_count": 45,
   "outputs": [],
   "source": [
    "import os\n",
    "import pandas as pd\n",
    "import numpy as np\n",
    "import xgboost\n",
    "from xgboost import XGBClassifier\n",
    "from sklearn.model_selection import train_test_split\n",
    "from sklearn.metrics import accuracy_score"
   ],
   "metadata": {
    "collapsed": false,
    "ExecuteTime": {
     "end_time": "2024-09-24T02:31:11.426456800Z",
     "start_time": "2024-09-24T02:31:11.411992300Z"
    }
   },
   "id": "b400496d5ccf1ebd"
  },
  {
   "cell_type": "code",
   "execution_count": 37,
   "id": "initial_id",
   "metadata": {
    "collapsed": true,
    "ExecuteTime": {
     "end_time": "2024-09-24T02:29:06.717230900Z",
     "start_time": "2024-09-24T02:28:48.742625800Z"
    }
   },
   "outputs": [
    {
     "name": "stdout",
     "output_type": "stream",
     "text": [
      "(270589, 167)\n",
      "Index(['PitchNo', 'Date', 'Time', 'PAofInning', 'PitchofPA', 'Pitcher',\n",
      "       'PitcherId', 'PitcherThrows', 'PitcherTeam', 'Batter',\n",
      "       ...\n",
      "       'ThrowTrajectoryZc1', 'ThrowTrajectoryZc2', 'PitchReleaseConfidence',\n",
      "       'PitchLocationConfidence', 'PitchMovementConfidence',\n",
      "       'HitLaunchConfidence', 'HitLandingConfidence',\n",
      "       'CatcherThrowCatchConfidence', 'CatcherThrowReleaseConfidence',\n",
      "       'CatcherThrowLocationConfidence'],\n",
      "      dtype='object', length=167)\n"
     ]
    }
   ],
   "source": [
    "csv_dir = '../SEC Trackman Data/'\n",
    "all_files = [os.path.join(csv_dir, f) for f in os.listdir(csv_dir) if f.endswith('.csv')]\n",
    "\n",
    "df_list = []\n",
    "\n",
    "for file in all_files:\n",
    "    df = pd.read_csv(file)\n",
    "    df_list.append(df)\n",
    "\n",
    "all_pitches = pd.concat(df_list, ignore_index=True)\n",
    "\n",
    "print(all_pitches.shape)\n",
    "print(all_pitches.columns)"
   ]
  },
  {
   "cell_type": "markdown",
   "source": [
    "Now that all the pitches have been combined into one large data frame, we can begin to subset the data based on pitch type. We first have to find out what pitch types there are, and classify each as a fastball, off-speed, or breaking ball"
   ],
   "metadata": {
    "collapsed": false
   },
   "id": "e231b6300b0f38d"
  },
  {
   "cell_type": "code",
   "execution_count": 38,
   "outputs": [
    {
     "name": "stdout",
     "output_type": "stream",
     "text": [
      "['Fastball' 'Slider' 'ChangeUp' 'Curveball' 'Cutter' 'Other' 'Undefined'\n",
      " 'Sinker' 'Knuckleball' 'Splitter' 'FourSeamFastBall' 'TwoSeamFastBall'\n",
      " 'OneSeamFastBall']\n",
      "['Sinker' 'Four-Seam' 'Curveball' 'Changeup' 'Slider' 'Cutter' nan\n",
      " 'Splitter' 'Other']\n"
     ]
    }
   ],
   "source": [
    "tagged_pitch_types = all_pitches['TaggedPitchType'].unique()\n",
    "print(tagged_pitch_types)\n",
    "\n",
    "auto_pitch_types = all_pitches['AutoPitchType'].unique()\n",
    "print(auto_pitch_types)"
   ],
   "metadata": {
    "collapsed": false,
    "ExecuteTime": {
     "end_time": "2024-09-24T02:29:14.028749100Z",
     "start_time": "2024-09-24T02:29:13.950462200Z"
    }
   },
   "id": "fe26fd0bc1a3ab3c"
  },
  {
   "cell_type": "markdown",
   "source": [
    "Now that we know what types of pitches there are, we can create the three desired subsets"
   ],
   "metadata": {
    "collapsed": false
   },
   "id": "266da7947677dae5"
  },
  {
   "cell_type": "code",
   "execution_count": 39,
   "outputs": [
    {
     "name": "stdout",
     "output_type": "stream",
     "text": [
      "(152663, 167)\n",
      "(31218, 167)\n",
      "(80860, 167)\n"
     ]
    }
   ],
   "source": [
    "fastballs = all_pitches[all_pitches['TaggedPitchType'].isin(['Fastball','Cutter','Sinker','FourSeamFastBall','TwoSeamFastBall','OneSeamFastBall'])]\n",
    "off_speed = all_pitches[all_pitches['TaggedPitchType'].isin(['ChangeUp','Splitter'])]\n",
    "breaking_balls = all_pitches[all_pitches['TaggedPitchType'].isin(['Slider','Curveball','Knuckleball'])]\n",
    "\n",
    "print(fastballs.shape)\n",
    "print(off_speed.shape)\n",
    "print(breaking_balls.shape)"
   ],
   "metadata": {
    "collapsed": false,
    "ExecuteTime": {
     "end_time": "2024-09-24T02:29:16.668054Z",
     "start_time": "2024-09-24T02:29:16.038348300Z"
    }
   },
   "id": "15d7a7ab7f719645"
  },
  {
   "cell_type": "markdown",
   "source": [
    "Now we have the three different data frames created, we can create a new column called 'Whiff' with a 1 if there is a swinging strike or a 0 if not."
   ],
   "metadata": {
    "collapsed": false
   },
   "id": "4e5c4fa77f9eb55c"
  },
  {
   "cell_type": "code",
   "execution_count": 40,
   "outputs": [
    {
     "name": "stdout",
     "output_type": "stream",
     "text": [
      "0     0\n",
      "1     0\n",
      "3     0\n",
      "4     0\n",
      "5     0\n",
      "8     0\n",
      "9     0\n",
      "10    0\n",
      "13    0\n",
      "14    0\n",
      "Name: whiff, dtype: int32\n",
      "6     0\n",
      "7     0\n",
      "11    0\n",
      "40    0\n",
      "41    0\n",
      "55    0\n",
      "56    0\n",
      "69    0\n",
      "72    0\n",
      "84    0\n",
      "Name: whiff, dtype: int32\n",
      "2     0\n",
      "12    0\n",
      "19    0\n",
      "21    1\n",
      "22    0\n",
      "29    0\n",
      "32    0\n",
      "35    0\n",
      "36    0\n",
      "39    0\n",
      "Name: whiff, dtype: int32\n"
     ]
    },
    {
     "name": "stderr",
     "output_type": "stream",
     "text": [
      "C:\\Users\\charl\\AppData\\Local\\Temp\\ipykernel_10652\\39047805.py:1: SettingWithCopyWarning: \n",
      "A value is trying to be set on a copy of a slice from a DataFrame.\n",
      "Try using .loc[row_indexer,col_indexer] = value instead\n",
      "\n",
      "See the caveats in the documentation: https://pandas.pydata.org/pandas-docs/stable/user_guide/indexing.html#returning-a-view-versus-a-copy\n",
      "  fastballs['whiff'] = np.where(fastballs['PitchCall']=='StrikeSwinging',1,0)\n",
      "C:\\Users\\charl\\AppData\\Local\\Temp\\ipykernel_10652\\39047805.py:2: SettingWithCopyWarning: \n",
      "A value is trying to be set on a copy of a slice from a DataFrame.\n",
      "Try using .loc[row_indexer,col_indexer] = value instead\n",
      "\n",
      "See the caveats in the documentation: https://pandas.pydata.org/pandas-docs/stable/user_guide/indexing.html#returning-a-view-versus-a-copy\n",
      "  off_speed['whiff'] = np.where(off_speed['PitchCall']=='StrikeSwinging',1,0)\n",
      "C:\\Users\\charl\\AppData\\Local\\Temp\\ipykernel_10652\\39047805.py:3: SettingWithCopyWarning: \n",
      "A value is trying to be set on a copy of a slice from a DataFrame.\n",
      "Try using .loc[row_indexer,col_indexer] = value instead\n",
      "\n",
      "See the caveats in the documentation: https://pandas.pydata.org/pandas-docs/stable/user_guide/indexing.html#returning-a-view-versus-a-copy\n",
      "  breaking_balls['whiff'] = np.where(breaking_balls['PitchCall']=='StrikeSwinging',1,0)\n"
     ]
    }
   ],
   "source": [
    "fastballs['whiff'] = np.where(fastballs['PitchCall']=='StrikeSwinging',1,0)\n",
    "off_speed['whiff'] = np.where(off_speed['PitchCall']=='StrikeSwinging',1,0)\n",
    "breaking_balls['whiff'] = np.where(breaking_balls['PitchCall']=='StrikeSwinging',1,0)\n",
    "\n",
    "print(fastballs['whiff'].head(10))\n",
    "print(off_speed['whiff'].head(10))\n",
    "print(breaking_balls['whiff'].head(10))"
   ],
   "metadata": {
    "collapsed": false,
    "ExecuteTime": {
     "end_time": "2024-09-24T02:29:18.165640500Z",
     "start_time": "2024-09-24T02:29:18.119037100Z"
    }
   },
   "id": "bcfd585a2ff1e195"
  },
  {
   "cell_type": "markdown",
   "source": [
    "Now, we can examine the columns and determine which ones we want for predictors in our model. "
   ],
   "metadata": {
    "collapsed": false
   },
   "id": "79b88012e370a3a0"
  },
  {
   "cell_type": "markdown",
   "source": [
    "Now that we have whether a pitch was a whiff or not, we can begin determining which variables we want as predictors"
   ],
   "metadata": {
    "collapsed": false
   },
   "id": "7e3b9fbb42f9bd5e"
  },
  {
   "cell_type": "code",
   "execution_count": 41,
   "outputs": [
    {
     "name": "stdout",
     "output_type": "stream",
     "text": [
      "Index(['PitchNo', 'PAofInning', 'PitchofPA', 'PitcherId', 'BatterId', 'Inning',\n",
      "       'Outs', 'Balls', 'Strikes', 'OutsOnPlay',\n",
      "       ...\n",
      "       'ThrowTrajectoryXc0', 'ThrowTrajectoryXc1', 'ThrowTrajectoryXc2',\n",
      "       'ThrowTrajectoryYc0', 'ThrowTrajectoryYc1', 'ThrowTrajectoryYc2',\n",
      "       'ThrowTrajectoryZc0', 'ThrowTrajectoryZc1', 'ThrowTrajectoryZc2',\n",
      "       'whiff'],\n",
      "      dtype='object', length=121)\n"
     ]
    }
   ],
   "source": [
    "numeric_cols = fastballs.select_dtypes(include=['number']).columns\n",
    "print(numeric_cols)"
   ],
   "metadata": {
    "collapsed": false,
    "ExecuteTime": {
     "end_time": "2024-09-24T02:29:22.312173200Z",
     "start_time": "2024-09-24T02:29:22.081233100Z"
    }
   },
   "id": "6f6b58fc2093a9f6"
  },
  {
   "cell_type": "markdown",
   "source": [
    "Let's define the predictors "
   ],
   "metadata": {
    "collapsed": false
   },
   "id": "d01b2b4f01a9b2b9"
  },
  {
   "cell_type": "code",
   "execution_count": 112,
   "outputs": [],
   "source": [
    "preds = ['RelSpeed','VertRelAngle','HorzRelAngle','SpinRate','SpinAxis','RelHeight','RelSide','Extension','VertBreak','InducedVertBreak','HorzBreak','PlateLocHeight','PlateLocSide','ZoneSpeed','VertApprAngle','HorzApprAngle','ZoneTime','pfxx','pfxz','x0','y0','z0','vx0','vy0','vz0','ax0','ay0','az0','SpeedDrop','PitchTrajectoryXc1','PitchTrajectoryXc2','PitchTrajectoryYc0','PitchTrajectoryYc1','PitchTrajectoryYc2','PitchTrajectoryZc0','PitchTrajectoryZc1','PitchTrajectoryZc2']"
   ],
   "metadata": {
    "collapsed": false,
    "ExecuteTime": {
     "end_time": "2024-09-24T03:09:01.503326700Z",
     "start_time": "2024-09-24T03:09:01.492476600Z"
    }
   },
   "id": "318417bf9080237d"
  },
  {
   "cell_type": "markdown",
   "source": [
    "Now, we can subset each of the pitch dfs with the predictors and response"
   ],
   "metadata": {
    "collapsed": false
   },
   "id": "75bbd2a6d29ff406"
  },
  {
   "cell_type": "code",
   "execution_count": 48,
   "outputs": [],
   "source": [
    "fastballs_X = fastballs[preds]\n",
    "fastballs_y = fastballs['whiff']\n",
    "off_speed_X = off_speed[preds]\n",
    "off_speed_y = off_speed['whiff']\n",
    "breaking_balls_X = breaking_balls[preds]\n",
    "breaking_balls_y = breaking_balls['whiff']"
   ],
   "metadata": {
    "collapsed": false,
    "ExecuteTime": {
     "end_time": "2024-09-24T02:32:52.571452100Z",
     "start_time": "2024-09-24T02:32:52.503429100Z"
    }
   },
   "id": "a1802604cd277fa"
  },
  {
   "cell_type": "markdown",
   "source": [
    "Now, let's train the model for fastballs"
   ],
   "metadata": {
    "collapsed": false
   },
   "id": "ea2663c7e06370d"
  },
  {
   "cell_type": "code",
   "execution_count": 52,
   "outputs": [
    {
     "name": "stdout",
     "output_type": "stream",
     "text": [
      "Accuracy: 90.64%\n"
     ]
    }
   ],
   "source": [
    "X_train, X_test, y_train, y_test = train_test_split(fastballs_X, fastballs_y, test_size=.33)\n",
    "\n",
    "model = XGBClassifier()\n",
    "model.fit(X_train, y_train)\n",
    "\n",
    "y_pred = model.predict(X_test)\n",
    "predictions = [round(value) for value in y_pred]\n",
    "\n",
    "accuracy = accuracy_score(y_test, predictions)\n",
    "print(\"Accuracy: %.2f%%\" % (accuracy * 100.0))"
   ],
   "metadata": {
    "collapsed": false,
    "ExecuteTime": {
     "end_time": "2024-09-24T02:35:01.488077200Z",
     "start_time": "2024-09-24T02:34:59.386595300Z"
    }
   },
   "id": "8badfbbe9b7ec700"
  },
  {
   "cell_type": "markdown",
   "source": [
    "Now let's see which variables are most important"
   ],
   "metadata": {
    "collapsed": false
   },
   "id": "59883b56b0fd97ba"
  },
  {
   "cell_type": "code",
   "execution_count": 54,
   "outputs": [
    {
     "data": {
      "text/plain": "<Axes: title={'center': 'Feature importance'}, xlabel='F score', ylabel='Features'>"
     },
     "execution_count": 54,
     "metadata": {},
     "output_type": "execute_result"
    },
    {
     "data": {
      "text/plain": "<Figure size 640x480 with 1 Axes>",
      "image/png": "[encoded data removed]"
     },
     "metadata": {},
     "output_type": "display_data"
    }
   ],
   "source": [
    "xgboost.plot_importance(model, max_num_features=15)"
   ],
   "metadata": {
    "collapsed": false,
    "ExecuteTime": {
     "end_time": "2024-09-24T02:35:20.813175500Z",
     "start_time": "2024-09-24T02:35:20.455144900Z"
    }
   },
   "id": "b7401c717a77b876"
  },
  {
   "cell_type": "markdown",
   "source": [
    "Now for a demonstration on calculating stuff+, let's select a few pitches from the data set, calculate their whiff percentage, and divide that by the average predicted whiff percentage for all the pitches"
   ],
   "metadata": {
    "collapsed": false
   },
   "id": "7979efed411a3ea"
  },
  {
   "cell_type": "code",
   "execution_count": 116,
   "outputs": [
    {
     "name": "stdout",
     "output_type": "stream",
     "text": [
      "0.089585\n",
      "[153.78542    60.354675   19.792294   66.565155   72.91098    26.439354\n",
      " 166.38544   107.45877    48.016483    1.4661187]\n"
     ]
    }
   ],
   "source": [
    "all_preds = model.predict_proba(fastballs_X)[:,1]\n",
    "mean_pred = np.mean(all_preds)\n",
    "\n",
    "print(mean_pred)\n",
    "\n",
    "sample = fastballs_X.sample(n=10)\n",
    "\n",
    "sample_preds = model.predict_proba(sample)[:,1]\n",
    "\n",
    "stuff = sample_preds/mean_pred\n",
    "\n",
    "print(stuff*100)"
   ],
   "metadata": {
    "collapsed": false,
    "ExecuteTime": {
     "end_time": "2024-09-24T13:02:04.819145600Z",
     "start_time": "2024-09-24T13:02:04.599469900Z"
    }
   },
   "id": "34c904bfeb4ffe4c"
  },
  {
   "cell_type": "markdown",
   "source": [
    "Each of these values represents the Stuff+ for that pitch, defined by predicted whiff% / average whiff%. This will mean a lot more if we average all the values for each pitcher "
   ],
   "metadata": {
    "collapsed": false
   },
   "id": "1524428fed45d518"
  },
  {
   "cell_type": "code",
   "execution_count": 117,
   "outputs": [],
   "source": [
    "# Get unique values\n",
    "unique_values = fastballs['Pitcher'].unique()\n",
    "\n",
    "# Create a dictionary to store subsets\n",
    "subsets = {value: fastballs[fastballs['Pitcher'] == value] for value in unique_values}"
   ],
   "metadata": {
    "collapsed": false,
    "ExecuteTime": {
     "end_time": "2024-09-24T13:02:44.172251700Z",
     "start_time": "2024-09-24T13:02:21.273881900Z"
    }
   },
   "id": "e0445a6483b668ed"
  },
  {
   "cell_type": "code",
   "execution_count": 128,
   "outputs": [
    {
     "name": "stdout",
     "output_type": "stream",
     "text": [
      "Tanner Bauman fastball stuff+:79.97484588623047\n"
     ]
    }
   ],
   "source": [
    "t_bauman = subsets['Bauman, Tanner']\n",
    "t_bauman_X = t_bauman[preds]\n",
    "\n",
    "whiff_preds = model.predict_proba(t_bauman_X)[:,1]\n",
    "\n",
    "stuff = whiff_preds/mean_pred\n",
    "\n",
    "print(f\"Tanner Bauman fastball stuff+:{np.mean(stuff*100)}\")"
   ],
   "metadata": {
    "collapsed": false,
    "ExecuteTime": {
     "end_time": "2024-09-24T13:15:30.572968100Z",
     "start_time": "2024-09-24T13:15:30.525576300Z"
    }
   },
   "id": "608c3166f249410a"
  },
  {
   "cell_type": "markdown",
   "source": [
    "Now, this lumps in all of his fastballs. Let's see if he throws multiple types of fastballs and see how they all stack up"
   ],
   "metadata": {
    "collapsed": false
   },
   "id": "b99e597eb3d3178b"
  },
  {
   "cell_type": "code",
   "execution_count": 129,
   "outputs": [
    {
     "name": "stdout",
     "output_type": "stream",
     "text": [
      "['Fastball' 'Sinker']\n"
     ]
    }
   ],
   "source": [
    "print(t_bauman['TaggedPitchType'].unique())"
   ],
   "metadata": {
    "collapsed": false,
    "ExecuteTime": {
     "end_time": "2024-09-24T13:15:44.883576300Z",
     "start_time": "2024-09-24T13:15:44.867527800Z"
    }
   },
   "id": "23d6e3cf16b08b1a"
  },
  {
   "cell_type": "markdown",
   "source": [
    "Seemingly he throws a sinker and a four-seamer. We can see how both of these stack up against all other fastballs. Obviously this is not ideal (we want to compare sinkers to sinkers, etc.) but it will do for now"
   ],
   "metadata": {
    "collapsed": false
   },
   "id": "e6e53239dfc8799c"
  },
  {
   "cell_type": "code",
   "execution_count": 130,
   "outputs": [
    {
     "name": "stdout",
     "output_type": "stream",
     "text": [
      "78.03873419761658\n"
     ]
    }
   ],
   "source": [
    "t_bauman_sinks = t_bauman[t_bauman['TaggedPitchType']=='Sinker']\n",
    "t_bauman_sinks_X = t_bauman_sinks[preds]\n",
    "\n",
    "sink_whiff_pred = model.predict_proba(t_bauman_sinks_X)[:,1]\n",
    "\n",
    "sink_stuff = np.mean(sink_whiff_pred/mean_pred)*100\n",
    "print(sink_stuff)"
   ],
   "metadata": {
    "collapsed": false,
    "ExecuteTime": {
     "end_time": "2024-09-24T13:16:21.910811Z",
     "start_time": "2024-09-24T13:16:21.863093500Z"
    }
   },
   "id": "8a19fbb80919ecac"
  },
  {
   "cell_type": "markdown",
   "source": [
    "We can do the same for his 'fastballs' (assuming four-seamer)"
   ],
   "metadata": {
    "collapsed": false
   },
   "id": "a39ab1cccd1bcd8b"
  },
  {
   "cell_type": "code",
   "execution_count": 131,
   "outputs": [
    {
     "name": "stdout",
     "output_type": "stream",
     "text": [
      "81.418377161026\n"
     ]
    }
   ],
   "source": [
    "t_bauman_four = t_bauman[t_bauman['TaggedPitchType']=='Fastball']\n",
    "t_bauman_four_X = t_bauman_four[preds]\n",
    "\n",
    "four_whiff_pred = model.predict_proba(t_bauman_four_X)[:,1]\n",
    "\n",
    "four_stuff = np.mean(four_whiff_pred/mean_pred)*100\n",
    "print(four_stuff)"
   ],
   "metadata": {
    "collapsed": false,
    "ExecuteTime": {
     "end_time": "2024-09-24T13:18:18.283967500Z",
     "start_time": "2024-09-24T13:18:18.236719Z"
    }
   },
   "id": "ad6a6e98db3451ad"
  }
 ],
 "metadata": {
  "kernelspec": {
   "display_name": "Python 3",
   "language": "python",
   "name": "python3"
  },
  "language_info": {
   "codemirror_mode": {
    "name": "ipython",
    "version": 2
   },
   "file_extension": ".py",
   "mimetype": "text/x-python",
   "name": "python",
   "nbconvert_exporter": "python",
   "pygments_lexer": "ipython2",
   "version": "2.7.6"
  }
 },
 "nbformat": 4,
 "nbformat_minor": 5
}
