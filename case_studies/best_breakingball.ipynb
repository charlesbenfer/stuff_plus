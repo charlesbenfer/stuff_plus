{
 "cells": [
  {
   "metadata": {
    "ExecuteTime": {
     "end_time": "2024-09-27T18:47:15.502869Z",
     "start_time": "2024-09-27T18:47:12.839044Z"
    }
   },
   "cell_type": "code",
   "source": [
    "import os\n",
    "import pandas as pd\n",
    "import numpy as np\n",
    "import xgboost\n",
    "from xgboost import XGBClassifier\n",
    "from sklearn.model_selection import train_test_split\n",
    "from sklearn.metrics import accuracy_score, confusion_matrix, precision_score, recall_score, f1_score, roc_auc_score, roc_curve\n",
    "from hyperopt import STATUS_OK, Trials, fmin, hp, tpe\n",
    "import matplotlib.pyplot as plt\n",
    "import seaborn as sns\n",
    "import shap"
   ],
   "id": "844ed7512e9ec3f1",
   "outputs": [],
   "execution_count": 1
  },
  {
   "metadata": {
    "ExecuteTime": {
     "end_time": "2024-09-27T18:47:55.844195Z",
     "start_time": "2024-09-27T18:47:32.659894Z"
    }
   },
   "cell_type": "code",
   "source": [
    "csv_dir = '../SEC Trackman Data/'\n",
    "all_files = [os.path.join(csv_dir, f) for f in os.listdir(csv_dir) if f.endswith('.csv')]\n",
    "\n",
    "df_list = []\n",
    "\n",
    "for file in all_files:\n",
    "    df = pd.read_csv(file)\n",
    "    df_list.append(df)\n",
    "\n",
    "all_pitches = pd.concat(df_list, ignore_index=True)\n",
    "\n",
    "print(all_pitches.shape)\n",
    "print(all_pitches.columns)"
   ],
   "id": "eb9258d79fce962b",
   "outputs": [
    {
     "name": "stdout",
     "output_type": "stream",
     "text": [
      "(270589, 167)\n",
      "Index(['PitchNo', 'Date', 'Time', 'PAofInning', 'PitchofPA', 'Pitcher',\n",
      "       'PitcherId', 'PitcherThrows', 'PitcherTeam', 'Batter',\n",
      "       ...\n",
      "       'ThrowTrajectoryZc1', 'ThrowTrajectoryZc2', 'PitchReleaseConfidence',\n",
      "       'PitchLocationConfidence', 'PitchMovementConfidence',\n",
      "       'HitLaunchConfidence', 'HitLandingConfidence',\n",
      "       'CatcherThrowCatchConfidence', 'CatcherThrowReleaseConfidence',\n",
      "       'CatcherThrowLocationConfidence'],\n",
      "      dtype='object', length=167)\n"
     ]
    }
   ],
   "execution_count": 2
  },
  {
   "metadata": {
    "ExecuteTime": {
     "end_time": "2024-09-27T18:49:17.139372Z",
     "start_time": "2024-09-27T18:49:16.957816Z"
    }
   },
   "cell_type": "code",
   "source": "breaking_balls = all_pitches[all_pitches['TaggedPitchType'].isin(['Slider','Curveball','Knuckleball'])]",
   "id": "5a14b0de713f61fb",
   "outputs": [],
   "execution_count": 3
  },
  {
   "metadata": {
    "ExecuteTime": {
     "end_time": "2024-09-27T18:49:32.266603Z",
     "start_time": "2024-09-27T18:49:32.249331Z"
    }
   },
   "cell_type": "code",
   "source": "breaking_balls['whiff'] = np.where(breaking_balls['PitchCall']=='StrikeSwinging',1,0)",
   "id": "d960e8c1d8265af3",
   "outputs": [
    {
     "name": "stderr",
     "output_type": "stream",
     "text": [
      "C:\\Users\\ethan\\AppData\\Local\\Temp\\ipykernel_49588\\3618796430.py:1: SettingWithCopyWarning: \n",
      "A value is trying to be set on a copy of a slice from a DataFrame.\n",
      "Try using .loc[row_indexer,col_indexer] = value instead\n",
      "\n",
      "See the caveats in the documentation: https://pandas.pydata.org/pandas-docs/stable/user_guide/indexing.html#returning-a-view-versus-a-copy\n",
      "  breaking_balls['whiff'] = np.where(breaking_balls['PitchCall']=='StrikeSwinging',1,0)\n"
     ]
    }
   ],
   "execution_count": 4
  },
  {
   "metadata": {
    "ExecuteTime": {
     "end_time": "2024-09-27T18:49:57.938017Z",
     "start_time": "2024-09-27T18:49:57.930158Z"
    }
   },
   "cell_type": "code",
   "source": "bb_preds = ['RelSpeed','VertRelAngle','HorzRelAngle','SpinRate','SpinAxis','RelHeight','RelSide','Extension','VertBreak','InducedVertBreak','HorzBreak','ZoneSpeed','VertApprAngle','HorzApprAngle','ZoneTime','pfxx','pfxz','x0','y0','z0','vx0','vy0','vz0','ax0','ay0','az0','SpeedDrop','PitchTrajectoryXc1','PitchTrajectoryXc2','PitchTrajectoryYc0','PitchTrajectoryYc1','PitchTrajectoryYc2','PitchTrajectoryZc0','PitchTrajectoryZc1','PitchTrajectoryZc2']",
   "id": "9b319f018ae100dc",
   "outputs": [],
   "execution_count": 5
  },
  {
   "metadata": {
    "ExecuteTime": {
     "end_time": "2024-09-27T18:50:16.736584Z",
     "start_time": "2024-09-27T18:50:16.719237Z"
    }
   },
   "cell_type": "code",
   "source": [
    "\n",
    "breaking_balls_X = breaking_balls[bb_preds]\n",
    "breaking_balls_y = breaking_balls['whiff']"
   ],
   "id": "98e09330a06c1a61",
   "outputs": [],
   "execution_count": 6
  },
  {
   "metadata": {
    "ExecuteTime": {
     "end_time": "2024-09-27T18:51:03.973273Z",
     "start_time": "2024-09-27T18:51:02.707586Z"
    }
   },
   "cell_type": "code",
   "source": [
    "X_train, X_test, y_train, y_test = train_test_split(breaking_balls_X, breaking_balls_y, test_size=.33)\n",
    "\n",
    "model = XGBClassifier()\n",
    "model.fit(X_train, y_train)\n",
    "\n",
    "y_pred = model.predict(X_test)\n",
    "predictions = [round(value) for value in y_pred]\n",
    "\n",
    "accuracy = accuracy_score(y_test, predictions)\n",
    "print(\"Accuracy: %.2f%%\" % (accuracy * 100.0))"
   ],
   "id": "5a0687df8697b174",
   "outputs": [
    {
     "name": "stdout",
     "output_type": "stream",
     "text": [
      "Accuracy: 86.54%\n"
     ]
    }
   ],
   "execution_count": 7
  },
  {
   "metadata": {
    "ExecuteTime": {
     "end_time": "2024-09-27T18:57:17.245336Z",
     "start_time": "2024-09-27T18:57:05.810536Z"
    }
   },
   "cell_type": "code",
   "source": [
    "# Get unique values\n",
    "unique_values = breaking_balls['Pitcher'].unique()\n",
    "\n",
    "#Print list of pitchers to choose from\n",
    "print(unique_values, len(unique_values))\n",
    "\n",
    "# Create a dictionary to store subsets\n",
    "subsets = {value: breaking_balls[breaking_balls['Pitcher'] == value] for value in unique_values}"
   ],
   "id": "9640ba0f86e4ff52",
   "outputs": [
    {
     "name": "stdout",
     "output_type": "stream",
     "text": [
      "['Dettmer, Nathan' 'Tidwell, Blade' 'Menefee, Joseph' ...\n",
      " 'Pingeton, Anthony' 'Causey, A.J.' \"O'Brien Cameron\"] 2034\n"
     ]
    }
   ],
   "execution_count": 10
  },
  {
   "metadata": {
    "ExecuteTime": {
     "end_time": "2024-09-27T19:06:55.264351Z",
     "start_time": "2024-09-27T19:06:55.172577Z"
    }
   },
   "cell_type": "code",
   "source": [
    "all_preds = model.predict_proba(breaking_balls_X)[:,1]\n",
    "mean_pred = np.mean(all_preds)\n",
    "\n",
    "\n",
    "c_myers = subsets['Myers, Carson']\n",
    "c_myers_X = c_myers[bb_preds]\n",
    "\n",
    "whiff_preds = model.predict_proba(c_myers_X)[:,1]\n",
    "\n",
    "stuff = whiff_preds/mean_pred\n",
    "\n",
    "print(f\"Carson Myers Breaking Ball stuff+:{np.mean(stuff*100)}\")"
   ],
   "id": "90887b07e58dbe13",
   "outputs": [
    {
     "name": "stdout",
     "output_type": "stream",
     "text": [
      "Carson Myers Breaking Ball stuff+:107.67224884033203\n"
     ]
    }
   ],
   "execution_count": 23
  },
  {
   "metadata": {
    "ExecuteTime": {
     "end_time": "2024-09-27T19:07:15.188359Z",
     "start_time": "2024-09-27T19:07:15.181298Z"
    }
   },
   "cell_type": "code",
   "source": "print(c_myers['TaggedPitchType'].unique())",
   "id": "b8ae11f61fed2ade",
   "outputs": [
    {
     "name": "stdout",
     "output_type": "stream",
     "text": [
      "['Slider']\n"
     ]
    }
   ],
   "execution_count": 24
  },
  {
   "metadata": {
    "ExecuteTime": {
     "end_time": "2024-09-27T19:13:20.437171Z",
     "start_time": "2024-09-27T19:13:20.426798Z"
    }
   },
   "cell_type": "code",
   "source": [
    "cm_spd_avg = np.mean(c_myers['RelSpeed'])\n",
    "cm_spd_std = np.std(c_myers['RelSpeed'])\n",
    "\n",
    "cm_hgt_avg = np.mean(c_myers['RelHeight'])\n",
    "cm_hgt_std = np.std(c_myers['RelHeight'])\n",
    "\n",
    "cm_side_avg = np.mean(c_myers['RelSide'])\n",
    "cm_side_std = np.std(c_myers['RelSide'])"
   ],
   "id": "4d41fb4df1fda342",
   "outputs": [],
   "execution_count": 27
  },
  {
   "metadata": {
    "ExecuteTime": {
     "end_time": "2024-09-27T19:13:22.381950Z",
     "start_time": "2024-09-27T19:13:22.358575Z"
    }
   },
   "cell_type": "code",
   "source": [
    "similar_sliders = breaking_balls[(breaking_balls['RelSpeed'] >= cm_spd_avg - cm_spd_std) &\n",
    "                              (breaking_balls['RelSpeed'] <= cm_spd_avg + cm_spd_std) &\n",
    "                              (breaking_balls['RelHeight'] >= cm_hgt_avg - cm_hgt_std) &\n",
    "                              (breaking_balls['RelHeight'] <= cm_hgt_avg + cm_hgt_std) &\n",
    "                              (breaking_balls['RelSide'] >= cm_side_avg - cm_side_std) &\n",
    "                              (breaking_balls['RelSide'] <= cm_side_avg + cm_side_std)]\n",
    "\n",
    "print(similar_sliders.shape)"
   ],
   "id": "e037394086245adc",
   "outputs": [
    {
     "name": "stdout",
     "output_type": "stream",
     "text": [
      "(382, 168)\n"
     ]
    }
   ],
   "execution_count": 28
  },
  {
   "metadata": {
    "ExecuteTime": {
     "end_time": "2024-09-27T19:03:57.388733Z",
     "start_time": "2024-09-27T19:03:57.344325Z"
    }
   },
   "cell_type": "code",
   "source": [
    "similar_sliders['stuff_plus'] = (model.predict_proba(similar_sliders[bb_preds])[:,1])/mean_pred * 100\n",
    "\n",
    "print(f\"Average Stuff+ of similar sliders:{np.mean(similar_sliders['stuff_plus'])}\")"
   ],
   "id": "4f51198de766accb",
   "outputs": [
    {
     "name": "stdout",
     "output_type": "stream",
     "text": [
      "Average Stuff+ of similar sliders:118.46222686767578\n"
     ]
    },
    {
     "name": "stderr",
     "output_type": "stream",
     "text": [
      "C:\\Users\\ethan\\AppData\\Local\\Temp\\ipykernel_49588\\4112205646.py:1: SettingWithCopyWarning: \n",
      "A value is trying to be set on a copy of a slice from a DataFrame.\n",
      "Try using .loc[row_indexer,col_indexer] = value instead\n",
      "\n",
      "See the caveats in the documentation: https://pandas.pydata.org/pandas-docs/stable/user_guide/indexing.html#returning-a-view-versus-a-copy\n",
      "  similar_sliders['stuff_plus'] = (model.predict_proba(similar_sliders[bb_preds])[:,1])/mean_pred * 100\n"
     ]
    }
   ],
   "execution_count": 17
  }
 ],
 "metadata": {
  "kernelspec": {
   "display_name": "Python 3",
   "language": "python",
   "name": "python3"
  },
  "language_info": {
   "codemirror_mode": {
    "name": "ipython",
    "version": 2
   },
   "file_extension": ".py",
   "mimetype": "text/x-python",
   "name": "python",
   "nbconvert_exporter": "python",
   "pygments_lexer": "ipython2",
   "version": "2.7.6"
  }
 },
 "nbformat": 4,
 "nbformat_minor": 5
}
