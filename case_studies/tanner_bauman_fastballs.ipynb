{
 "cells": [
  {
   "cell_type": "code",
   "execution_count": 1,
   "id": "initial_id",
   "metadata": {
    "collapsed": true,
    "ExecuteTime": {
     "end_time": "2024-09-27T17:37:01.721535100Z",
     "start_time": "2024-09-27T17:36:59.361866300Z"
    }
   },
   "outputs": [],
   "source": [
    "import os\n",
    "import pandas as pd\n",
    "import numpy as np\n",
    "import xgboost\n",
    "from xgboost import XGBClassifier\n",
    "from sklearn.model_selection import train_test_split\n",
    "from sklearn.metrics import accuracy_score, confusion_matrix, precision_score, recall_score, f1_score, roc_auc_score, roc_curve\n",
    "from hyperopt import STATUS_OK, Trials, fmin, hp, tpe\n",
    "import matplotlib.pyplot as plt\n",
    "import seaborn as sns\n",
    "import shap"
   ]
  },
  {
   "cell_type": "code",
   "execution_count": 2,
   "outputs": [
    {
     "name": "stdout",
     "output_type": "stream",
     "text": [
      "(270589, 167)\n",
      "Index(['PitchNo', 'Date', 'Time', 'PAofInning', 'PitchofPA', 'Pitcher',\n",
      "       'PitcherId', 'PitcherThrows', 'PitcherTeam', 'Batter',\n",
      "       ...\n",
      "       'ThrowTrajectoryZc1', 'ThrowTrajectoryZc2', 'PitchReleaseConfidence',\n",
      "       'PitchLocationConfidence', 'PitchMovementConfidence',\n",
      "       'HitLaunchConfidence', 'HitLandingConfidence',\n",
      "       'CatcherThrowCatchConfidence', 'CatcherThrowReleaseConfidence',\n",
      "       'CatcherThrowLocationConfidence'],\n",
      "      dtype='object', length=167)\n"
     ]
    }
   ],
   "source": [
    "csv_dir = '../SEC Trackman Data/'\n",
    "all_files = [os.path.join(csv_dir, f) for f in os.listdir(csv_dir) if f.endswith('.csv')]\n",
    "\n",
    "df_list = []\n",
    "\n",
    "for file in all_files:\n",
    "    df = pd.read_csv(file)\n",
    "    df_list.append(df)\n",
    "\n",
    "all_pitches = pd.concat(df_list, ignore_index=True)\n",
    "\n",
    "print(all_pitches.shape)\n",
    "print(all_pitches.columns)"
   ],
   "metadata": {
    "collapsed": false,
    "ExecuteTime": {
     "end_time": "2024-09-27T17:37:16.356649600Z",
     "start_time": "2024-09-27T17:37:02.901684300Z"
    }
   },
   "id": "6319df12a8e913b"
  },
  {
   "cell_type": "code",
   "execution_count": 3,
   "outputs": [],
   "source": [
    "fastballs = all_pitches[all_pitches['TaggedPitchType'].isin(['Fastball','Cutter','Sinker','FourSeamFastBall','TwoSeamFastBall','OneSeamFastBall'])]"
   ],
   "metadata": {
    "collapsed": false,
    "ExecuteTime": {
     "end_time": "2024-09-27T17:37:20.265438Z",
     "start_time": "2024-09-27T17:37:20.099202800Z"
    }
   },
   "id": "7253ae6765422bfe"
  },
  {
   "cell_type": "code",
   "execution_count": 4,
   "outputs": [
    {
     "name": "stderr",
     "output_type": "stream",
     "text": [
      "C:\\Users\\charl\\AppData\\Local\\Temp\\ipykernel_23324\\409369648.py:1: SettingWithCopyWarning: \n",
      "A value is trying to be set on a copy of a slice from a DataFrame.\n",
      "Try using .loc[row_indexer,col_indexer] = value instead\n",
      "\n",
      "See the caveats in the documentation: https://pandas.pydata.org/pandas-docs/stable/user_guide/indexing.html#returning-a-view-versus-a-copy\n",
      "  fastballs['whiff'] = np.where(fastballs['PitchCall']=='StrikeSwinging',1,0)\n"
     ]
    }
   ],
   "source": [
    "fastballs['whiff'] = np.where(fastballs['PitchCall']=='StrikeSwinging',1,0)"
   ],
   "metadata": {
    "collapsed": false,
    "ExecuteTime": {
     "end_time": "2024-09-27T17:37:21.474383Z",
     "start_time": "2024-09-27T17:37:21.423705500Z"
    }
   },
   "id": "76c4dca7117dc402"
  },
  {
   "cell_type": "code",
   "execution_count": 5,
   "outputs": [],
   "source": [
    "preds = ['RelSpeed','VertRelAngle','HorzRelAngle','SpinRate','SpinAxis','RelHeight','RelSide','Extension','VertBreak','InducedVertBreak','HorzBreak','ZoneSpeed','VertApprAngle','HorzApprAngle','ZoneTime','pfxx','pfxz','x0','y0','z0','vx0','vy0','vz0','ax0','ay0','az0','SpeedDrop','PitchTrajectoryXc1','PitchTrajectoryXc2','PitchTrajectoryYc0','PitchTrajectoryYc1','PitchTrajectoryYc2','PitchTrajectoryZc0','PitchTrajectoryZc1','PitchTrajectoryZc2']"
   ],
   "metadata": {
    "collapsed": false,
    "ExecuteTime": {
     "end_time": "2024-09-27T17:37:23.075904600Z",
     "start_time": "2024-09-27T17:37:23.066400200Z"
    }
   },
   "id": "9491764b45a550ac"
  },
  {
   "cell_type": "code",
   "execution_count": 6,
   "outputs": [],
   "source": [
    "fastballs_X = fastballs[preds]\n",
    "fastballs_y = fastballs['whiff']"
   ],
   "metadata": {
    "collapsed": false,
    "ExecuteTime": {
     "end_time": "2024-09-27T17:37:26.391190900Z",
     "start_time": "2024-09-27T17:37:26.378802400Z"
    }
   },
   "id": "ff30fe40ad6684e7"
  },
  {
   "cell_type": "code",
   "execution_count": 7,
   "outputs": [
    {
     "name": "stdout",
     "output_type": "stream",
     "text": [
      "Accuracy: 90.76%\n"
     ]
    }
   ],
   "source": [
    "X_train, X_test, y_train, y_test = train_test_split(fastballs_X, fastballs_y, test_size=.33)\n",
    "\n",
    "model = XGBClassifier()\n",
    "model.fit(X_train, y_train)\n",
    "\n",
    "y_pred = model.predict(X_test)\n",
    "predictions = [round(value) for value in y_pred]\n",
    "\n",
    "accuracy = accuracy_score(y_test, predictions)\n",
    "print(\"Accuracy: %.2f%%\" % (accuracy * 100.0))"
   ],
   "metadata": {
    "collapsed": false,
    "ExecuteTime": {
     "end_time": "2024-09-27T17:37:29.076460100Z",
     "start_time": "2024-09-27T17:37:27.677362500Z"
    }
   },
   "id": "983fe0ad9ab802ad"
  },
  {
   "cell_type": "code",
   "execution_count": 9,
   "outputs": [],
   "source": [
    "# Get unique values\n",
    "unique_values = fastballs['Pitcher'].unique()\n",
    "\n",
    "# Create a dictionary to store subsets\n",
    "subsets = {value: fastballs[fastballs['Pitcher'] == value] for value in unique_values}"
   ],
   "metadata": {
    "collapsed": false,
    "ExecuteTime": {
     "end_time": "2024-09-27T17:38:04.669942900Z",
     "start_time": "2024-09-27T17:37:46.802472300Z"
    }
   },
   "id": "a0b9b97835e000fb"
  },
  {
   "cell_type": "code",
   "execution_count": 10,
   "outputs": [
    {
     "name": "stdout",
     "output_type": "stream",
     "text": [
      "Tanner Bauman fastball stuff+:80.46209716796875\n"
     ]
    }
   ],
   "source": [
    "all_preds = model.predict_proba(fastballs_X)[:,1]\n",
    "mean_pred = np.mean(all_preds)\n",
    "\n",
    "t_bauman = subsets['Bauman, Tanner']\n",
    "t_bauman_X = t_bauman[preds]\n",
    "\n",
    "whiff_preds = model.predict_proba(t_bauman_X)[:,1]\n",
    "\n",
    "stuff = whiff_preds/mean_pred\n",
    "\n",
    "print(f\"Tanner Bauman fastball stuff+:{np.mean(stuff*100)}\")"
   ],
   "metadata": {
    "collapsed": false,
    "ExecuteTime": {
     "end_time": "2024-09-27T17:38:34.167368800Z",
     "start_time": "2024-09-27T17:38:34.005227700Z"
    }
   },
   "id": "a443e667a549386d"
  },
  {
   "cell_type": "code",
   "execution_count": 24,
   "outputs": [
    {
     "name": "stdout",
     "output_type": "stream",
     "text": [
      "54.39105\n"
     ]
    }
   ],
   "source": [
    "p_skenes = subsets['Causey, A.J.']\n",
    "p_skenes_X = p_skenes[preds]\n",
    "whiff_preds = model.predict_proba(p_skenes_X)[:,1]\n",
    "stuff = whiff_preds/mean_pred\n",
    "\n",
    "print(np.mean(stuff*100))"
   ],
   "metadata": {
    "collapsed": false,
    "ExecuteTime": {
     "end_time": "2024-09-27T18:12:01.903959800Z",
     "start_time": "2024-09-27T18:12:01.873519800Z"
    }
   },
   "id": "217b224710785b5b"
  },
  {
   "cell_type": "code",
   "execution_count": null,
   "outputs": [],
   "source": [],
   "metadata": {
    "collapsed": false
   },
   "id": "5a75a4d4b3b916ae"
  },
  {
   "cell_type": "code",
   "execution_count": 11,
   "outputs": [],
   "source": [
    "tb_spd_avg = np.mean(t_bauman['RelSpeed'])\n",
    "tb_spd_std = np.std(t_bauman['RelSpeed'])\n",
    "\n",
    "tb_hgt_avg = np.mean(t_bauman['RelHeight'])\n",
    "tb_hgt_std = np.std(t_bauman['RelHeight'])\n",
    "\n",
    "tb_side_avg = np.mean(t_bauman['RelSide'])\n",
    "tb_side_std = np.std(t_bauman['RelSide'])"
   ],
   "metadata": {
    "collapsed": false,
    "ExecuteTime": {
     "end_time": "2024-09-27T17:38:37.500755300Z",
     "start_time": "2024-09-27T17:38:37.485735600Z"
    }
   },
   "id": "9b1dc2f91005175d"
  },
  {
   "cell_type": "code",
   "execution_count": 12,
   "outputs": [
    {
     "name": "stdout",
     "output_type": "stream",
     "text": [
      "(1746, 168)\n"
     ]
    }
   ],
   "source": [
    "similar_fastballs = fastballs[(fastballs['RelSpeed'] >= tb_spd_avg - tb_spd_std) &\n",
    "                              (fastballs['RelSpeed'] <= tb_spd_avg + tb_spd_std) &\n",
    "                              (fastballs['RelHeight'] >= tb_hgt_avg - tb_hgt_std) &\n",
    "                              (fastballs['RelHeight'] <= tb_hgt_avg + tb_hgt_std) &\n",
    "                              (fastballs['RelSide'] >= tb_side_avg - tb_side_std) &\n",
    "                              (fastballs['RelSide'] <= tb_side_avg + tb_side_std)]\n",
    "\n",
    "print(similar_fastballs.shape)"
   ],
   "metadata": {
    "collapsed": false,
    "ExecuteTime": {
     "end_time": "2024-09-27T17:38:39.092637900Z",
     "start_time": "2024-09-27T17:38:39.076373600Z"
    }
   },
   "id": "994731705983f776"
  },
  {
   "cell_type": "code",
   "execution_count": 20,
   "outputs": [
    {
     "name": "stdout",
     "output_type": "stream",
     "text": [
      "Average Stuff+ of similar Fastballs:103.71044158935547\n"
     ]
    },
    {
     "name": "stderr",
     "output_type": "stream",
     "text": [
      "C:\\Users\\charl\\AppData\\Local\\Temp\\ipykernel_23324\\1472775353.py:1: SettingWithCopyWarning: \n",
      "A value is trying to be set on a copy of a slice from a DataFrame.\n",
      "Try using .loc[row_indexer,col_indexer] = value instead\n",
      "\n",
      "See the caveats in the documentation: https://pandas.pydata.org/pandas-docs/stable/user_guide/indexing.html#returning-a-view-versus-a-copy\n",
      "  similar_fastballs['stuff_plus'] = (model.predict_proba(similar_fastballs[preds])[:,1])/mean_pred * 100\n"
     ]
    }
   ],
   "source": [
    "similar_fastballs['stuff_plus'] = (model.predict_proba(similar_fastballs[preds])[:,1])/mean_pred * 100\n",
    "\n",
    "print(f\"Average Stuff+ of similar Fastballs:{np.mean(similar_fastballs['stuff_plus'])}\")"
   ],
   "metadata": {
    "collapsed": false,
    "ExecuteTime": {
     "end_time": "2024-09-27T17:41:53.016900700Z",
     "start_time": "2024-09-27T17:41:52.975523700Z"
    }
   },
   "id": "9dc759926220fa53"
  },
  {
   "cell_type": "code",
   "execution_count": null,
   "outputs": [],
   "source": [],
   "metadata": {
    "collapsed": false
   },
   "id": "35261b55157db6b9"
  }
 ],
 "metadata": {
  "kernelspec": {
   "display_name": "Python 3",
   "language": "python",
   "name": "python3"
  },
  "language_info": {
   "codemirror_mode": {
    "name": "ipython",
    "version": 2
   },
   "file_extension": ".py",
   "mimetype": "text/x-python",
   "name": "python",
   "nbconvert_exporter": "python",
   "pygments_lexer": "ipython2",
   "version": "2.7.6"
  }
 },
 "nbformat": 4,
 "nbformat_minor": 5
}
