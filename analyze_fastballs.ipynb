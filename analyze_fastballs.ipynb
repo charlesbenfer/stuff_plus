{
 "cells": [
  {
   "cell_type": "code",
   "id": "initial_id",
   "metadata": {
    "collapsed": true,
    "ExecuteTime": {
     "end_time": "2024-10-23T23:50:55.275920Z",
     "start_time": "2024-10-23T23:50:55.271088Z"
    }
   },
   "source": [
    "import datetime\n",
    "import os\n",
    "import pickle\n",
    "import pandas as pd\n",
    "import numpy as np\n",
    "from xgboost import XGBClassifier\n",
    "from sklearn.model_selection import train_test_split\n",
    "from sklearn.metrics import accuracy_score, roc_auc_score\n",
    "import matplotlib.pyplot as plt\n",
    "from skopt import BayesSearchCV\n",
    "\n",
    "\n",
    "def fastball_stuff(fastball_type, new_data_path, splits = False):\n",
    "    new_data = pd.read_csv(new_data_path)\n",
    "    \n",
    "    preds = ['RelSpeed','VertRelAngle','HorzRelAngle','SpinRate','SpinAxis','RelHeight','RelSide','Extension','VertBreak','InducedVertBreak','HorzBreak','ZoneSpeed','VertApprAngle','HorzApprAngle','ZoneTime','pfxx','pfxz','x0','y0','z0','vx0','vy0','vz0','ax0','ay0','az0','SpeedDrop','PitchTrajectoryXc1','PitchTrajectoryXc2','PitchTrajectoryYc0','PitchTrajectoryYc1','PitchTrajectoryYc2','PitchTrajectoryZc0','PitchTrajectoryZc1','PitchTrajectoryZc2']\n",
    "\n",
    "    if splits == False:\n",
    "        \n",
    "        if fastball_type == 'FastBall':\n",
    "            \n",
    "            with open('models/fastballs_model.pkl', 'rb') as file:\n",
    "                model = pickle.load(file)\n",
    "        \n",
    "        new_X = new_data[preds]\n",
    "        \n",
    "        predictions = model.predict_proba(new_X)\n",
    "        mean_pred = 0.09185833\n",
    "        \n",
    "        stuff_plus = np.mean((predictions/mean_pred)*100)\n",
    "        \n",
    "        print(stuff_plus)"
   ],
   "outputs": [],
   "execution_count": 2
  },
  {
   "metadata": {
    "ExecuteTime": {
     "end_time": "2024-10-23T23:55:58.300441Z",
     "start_time": "2024-10-23T23:55:58.269867Z"
    }
   },
   "cell_type": "code",
   "source": "fastball_stuff('FastBall', 'griffin_graves_test.csv')",
   "id": "be306ef71dac6df9",
   "outputs": [
    {
     "name": "stdout",
     "output_type": "stream",
     "text": [
      "544.31647\n"
     ]
    }
   ],
   "execution_count": 3
  }
 ],
 "metadata": {
  "kernelspec": {
   "display_name": "Python 3",
   "language": "python",
   "name": "python3"
  },
  "language_info": {
   "codemirror_mode": {
    "name": "ipython",
    "version": 2
   },
   "file_extension": ".py",
   "mimetype": "text/x-python",
   "name": "python",
   "nbconvert_exporter": "python",
   "pygments_lexer": "ipython2",
   "version": "2.7.6"
  }
 },
 "nbformat": 4,
 "nbformat_minor": 5
}
